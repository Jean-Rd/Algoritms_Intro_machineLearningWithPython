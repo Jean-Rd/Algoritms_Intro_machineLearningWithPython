{
  "nbformat": 4,
  "nbformat_minor": 0,
  "metadata": {
    "colab": {
      "name": "Untitled47.ipynb",
      "provenance": [],
      "authorship_tag": "ABX9TyM5bTXW805LLEyE0ATRS3Mo",
      "include_colab_link": true
    },
    "kernelspec": {
      "name": "python3",
      "display_name": "Python 3"
    }
  },
  "cells": [
    {
      "cell_type": "markdown",
      "metadata": {
        "id": "view-in-github",
        "colab_type": "text"
      },
      "source": [
        "<a href=\"https://colab.research.google.com/github/Jean-Rd/Algoritms_Intro_machineLearningWithPython/blob/master/Unitel_WEB_SCRAPING_V1.ipynb\" target=\"_parent\"><img src=\"https://colab.research.google.com/assets/colab-badge.svg\" alt=\"Open In Colab\"/></a>"
      ]
    },
    {
      "cell_type": "code",
      "metadata": {
        "id": "azscDGO2J_FZ"
      },
      "source": [
        "import requests\r\n",
        "from bs4 import BeautifulSoup"
      ],
      "execution_count": 19,
      "outputs": []
    },
    {
      "cell_type": "code",
      "metadata": {
        "id": "6vV7kvoYjwq7"
      },
      "source": [
        "class UnitelScaping:\r\n",
        "\r\n",
        "  def __init__(self):\r\n",
        "    pass\r\n",
        "\r\n",
        "  def geturls(self):\r\n",
        "    html = requests.get('https://unitel.bo/telepais/ciencia-y-tecnologia')\r\n",
        "\r\n",
        "    sopa = BeautifulSoup(html.text)\r\n",
        "\r\n",
        "    news = sopa.find('div', {'class':'sector sector-list-news'})\r\n",
        "\r\n",
        "    return ['https://unitel.bo'+i['href'] for i in news.find_all('a', {'class':'nota-link'})]\r\n",
        "\r\n",
        "  def getinfourl(self):\r\n",
        "\r\n",
        "    links = self.geturls()\r\n",
        "\r\n",
        "    info = []\r\n",
        "    \r\n",
        "    for i in links:\r\n",
        "\r\n",
        "      page = requests.get(i)\r\n",
        "\r\n",
        "      sopa_page = BeautifulSoup(page.text)\r\n",
        "\r\n",
        "      titulo = sopa_page.find('h1').text\r\n",
        "      parrafo = ''\r\n",
        "\r\n",
        "      for i in sopa_page.find('article').find_all('p'):\r\n",
        "\r\n",
        "        parrafo = parrafo + i.text\r\n",
        "\r\n",
        "      dta = {titulo:parrafo}\r\n",
        "      \r\n",
        "      info.append(dta)\r\n",
        "\r\n",
        "    return info"
      ],
      "execution_count": 175,
      "outputs": []
    }
  ]
}