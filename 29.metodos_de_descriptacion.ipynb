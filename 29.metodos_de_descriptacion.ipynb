{
 "cells": [
  {
   "cell_type": "code",
   "execution_count": 11,
   "metadata": {},
   "outputs": [
    {
     "name": "stdout",
     "output_type": "stream",
     "text": [
      "Ingrese un texto: asa\n",
      "asa --> dvd\n"
     ]
    }
   ],
   "source": [
    "# METODOS DE ENCRYPTACION UPEA/INTRODUCCION ALA PROGRAMACION\n",
    "\n",
    "letras = ['a','b','c','d','e','f','g','h','i','j','k','l',\n",
    "         'm','n','o','p','q','r','s','t','u','v','w','x','y','z']\n",
    "\n",
    "longitud = len(letras)\n",
    "\n",
    "mensaje = input('Ingrese un texto: ').lower()\n",
    "mensaje_encryptado = ''\n",
    "\n",
    "_X = 0\n",
    "\n",
    "while _X < len(mensaje):\n",
    "    \n",
    "    metodo = (letras.index(mensaje[_X])+3) % longitud\n",
    "    #print(mensaje[_X],'-->',metodo,'-->',letras[metodo])\n",
    "    mensaje_encryptado += letras[metodo]\n",
    "    _X += 1\n",
    "\n",
    "print(mensaje,'-->',mensaje_encryptado)"
   ]
  },
  {
   "cell_type": "code",
   "execution_count": null,
   "metadata": {},
   "outputs": [],
   "source": []
  },
  {
   "cell_type": "code",
   "execution_count": null,
   "metadata": {},
   "outputs": [],
   "source": []
  },
  {
   "cell_type": "code",
   "execution_count": 13,
   "metadata": {},
   "outputs": [
    {
     "name": "stdout",
     "output_type": "stream",
     "text": [
      "Ingrese un texto: hola mundo\n",
      "hola mundo --> krod pxqgr\n"
     ]
    }
   ],
   "source": [
    "# METODOS DE ENCRYPTACION UPEA/INTRODUCCION ALA PROGRAMACION\n",
    "\n",
    "letras = ['a','b','c','d','e','f','g','h','i','j','k','l',\n",
    "         'm','n','o','p','q','r','s','t','u','v','w','x','y','z']\n",
    "\n",
    "longitud = len(letras)\n",
    "\n",
    "mensaje = input('Ingrese un texto: ').lower()\n",
    "mensaje_encryptado = ''\n",
    "\n",
    "_X = 0\n",
    "\n",
    "while _X < len(mensaje):\n",
    "    \n",
    "    if mensaje[_X] == ' ':\n",
    "        _X += 1\n",
    "        mensaje_encryptado += ' '\n",
    "    \n",
    "    else:\n",
    "        metodo = (letras.index(mensaje[_X])+3) % longitud\n",
    "        mensaje_encryptado += letras[metodo]\n",
    "        _X += 1\n",
    "    \n",
    "print(mensaje,'-->',mensaje_encryptado)"
   ]
  },
  {
   "cell_type": "code",
   "execution_count": 8,
   "metadata": {},
   "outputs": [
    {
     "name": "stdout",
     "output_type": "stream",
     "text": [
      "ingrese un mensaje: hola\n",
      "hola --> dafg\n"
     ]
    }
   ],
   "source": [
    "# METODO DE ENCRYPTACION UPEA/INTRODUCCION ALA PROGRAMACION\n",
    "\n",
    "letras = ['a','b','c','d','e','f','g','h','i','j','k','l',\n",
    "         'm','n','o','p','q','r','s','t','u','v','w','x','y','z']\n",
    "\n",
    "_coef = 7 #Coeficiente de decimacion\n",
    "_des = 6 # desplazamiento\n",
    "\n",
    "# del tipo encryptacion = (7*(mensaje[i])+6),  _coef*mensaje[i] + _des\n",
    "\n",
    "mensaje = input('ingrese un mensaje: ').lower()\n",
    "_ = 0\n",
    "mensaje_encryptado = ''\n",
    "\n",
    "while _ < len(mensaje): # len(mensaje) --> longitud del mensaje \n",
    "    \n",
    "    if mensaje[_] == ' ':\n",
    "        \n",
    "        mensaje_encryptado += ' '\n",
    "        _ += 1\n",
    "        \n",
    "    else:\n",
    "        metodo = ((_coef*letras.index(mensaje[_])) + _des) % len(letras)\n",
    "        mensaje_encryptado += letras[metodo]\n",
    "        _ += 1\n",
    "\n",
    "print(mensaje,'-->',mensaje_encryptado)"
   ]
  },
  {
   "cell_type": "code",
   "execution_count": 2,
   "metadata": {},
   "outputs": [
    {
     "name": "stdout",
     "output_type": "stream",
     "text": [
      "Ingrese un texto: mundo\n",
      "m --> posicion original 13\n",
      "posicion encryptada 15 --> p\n",
      "\n",
      "u --> posicion original 21\n",
      "posicion encryptada 23 --> x\n",
      "\n",
      "n --> posicion original 14\n",
      "posicion encryptada 16 --> q\n",
      "\n",
      "d --> posicion original 4\n",
      "posicion encryptada 6 --> g\n",
      "\n",
      "o --> posicion original 15\n",
      "posicion encryptada 17 --> r\n",
      "\n"
     ]
    }
   ],
   "source": [
    "# METODOS DE ENCRYPTACION UPEA/INTRODUCCION ALA PROGRAMACION\n",
    "\n",
    "letras = ['a','b','c','d','e','f','g','h','i','j','k','l',\n",
    "         'm','n','o','p','q','r','s','t','u','v','w','x','y','z']\n",
    "\n",
    "longitud = len(letras)\n",
    "\n",
    "mensaje = input('Ingrese un texto: ').lower()\n",
    "mensaje_encryptado = ''\n",
    "\n",
    "_X = 0\n",
    "\n",
    "while _X < len(mensaje):\n",
    "    if mensaje[_X] == ' ':\n",
    "        mensaje_ecryptado += ' '\n",
    "    \n",
    "    else:\n",
    "        metodo = (letras.index(mensaje[_X])+3) % longitud\n",
    "        print(mensaje[_X],'--> posicion original',letras.index(mensaje[_X])+1)\n",
    "        print('posicion encryptada',metodo,'-->',letras[metodo])\n",
    "        print()\n",
    "        _X += 1"
   ]
  },
  {
   "cell_type": "code",
   "execution_count": 7,
   "metadata": {},
   "outputs": [
    {
     "name": "stdout",
     "output_type": "stream",
     "text": [
      "ingrese un mensaje: mundo\n",
      "m --> posicion original 13\n",
      "m --> posicion encryptada 12\n",
      "\n",
      "u --> posicion original 21\n",
      "q --> posicion encryptada 16\n",
      "\n",
      "n --> posicion original 14\n",
      "t --> posicion encryptada 19\n",
      "\n",
      "d --> posicion original 4\n",
      "b --> posicion encryptada 1\n",
      "\n",
      "o --> posicion original 15\n",
      "a --> posicion encryptada 0\n",
      "\n"
     ]
    }
   ],
   "source": [
    "letras = ['a','b','c','d','e','f','g','h','i','j','k','l',\n",
    "         'm','n','o','p','q','r','s','t','u','v','w','x','y','z']\n",
    "\n",
    "_coef = 7 #Coeficiente de decimacion\n",
    "_des = 6 # desplazamiento\n",
    "\n",
    "# del tipo encryptacion = (7*(mensaje[i])+6),  _coef*mensaje[i] + _des\n",
    "\n",
    "mensaje = input('ingrese un mensaje: ').lower()\n",
    "_ = 0\n",
    "mensaje_encryptado = ''\n",
    "\n",
    "while _ < len(mensaje): # len(mensaje) --> longitud del mensaje \n",
    "    \n",
    "    if mensaje[_] == ' ':\n",
    "        \n",
    "        mensaje_encryptado += ' '\n",
    "        _ += 1\n",
    "        \n",
    "    else:\n",
    "        metodo = ((_coef*letras.index(mensaje[_])) + _des) % len(letras)\n",
    "        print(mensaje[_],'--> posicion original',letras.index(mensaje[_])+1)\n",
    "        print(letras[metodo],'--> posicion encryptada',metodo)\n",
    "        print()\n",
    "        mensaje_encryptado += letras[metodo]\n",
    "        _ += 1"
   ]
  }
 ],
 "metadata": {
  "kernelspec": {
   "display_name": "Python 3",
   "language": "python",
   "name": "python3"
  },
  "language_info": {
   "codemirror_mode": {
    "name": "ipython",
    "version": 3
   },
   "file_extension": ".py",
   "mimetype": "text/x-python",
   "name": "python",
   "nbconvert_exporter": "python",
   "pygments_lexer": "ipython3",
   "version": "3.7.6"
  }
 },
 "nbformat": 4,
 "nbformat_minor": 4
}
