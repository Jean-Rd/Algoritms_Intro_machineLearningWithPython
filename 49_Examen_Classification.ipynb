{
  "nbformat": 4,
  "nbformat_minor": 0,
  "metadata": {
    "colab": {
      "name": "49.Examen_Classification.ipynb",
      "provenance": [],
      "authorship_tag": "ABX9TyOw6fwGJO7WEO6zv+RAzI9/",
      "include_colab_link": true
    },
    "kernelspec": {
      "name": "python3",
      "display_name": "Python 3"
    }
  },
  "cells": [
    {
      "cell_type": "markdown",
      "metadata": {
        "id": "view-in-github",
        "colab_type": "text"
      },
      "source": [
        "<a href=\"https://colab.research.google.com/github/Jean-Rd/Algoritms_Intro_machineLearningWithPython/blob/master/49_Examen_Classification.ipynb\" target=\"_parent\"><img src=\"https://colab.research.google.com/assets/colab-badge.svg\" alt=\"Open In Colab\"/></a>"
      ]
    },
    {
      "cell_type": "code",
      "metadata": {
        "id": "tNPmVKmTs_T7",
        "colab_type": "code",
        "colab": {}
      },
      "source": [
        "import numpy as np\n",
        "import pandas as pd\n",
        "import seaborn as sns\n",
        "import matplotlib.pyplot as plt\n",
        "\n",
        "from sklearn.model_selection import train_test_split\n",
        "from sklearn.datasets import load_wine"
      ],
      "execution_count": 22,
      "outputs": []
    },
    {
      "cell_type": "code",
      "metadata": {
        "id": "jOur1aSnvtu0",
        "colab_type": "code",
        "colab": {
          "base_uri": "https://localhost:8080/",
          "height": 1000
        },
        "outputId": "4ba42433-d54f-4693-f9be-dd2fa323b877"
      },
      "source": [
        "vino = load_wine()\n",
        "\n",
        "print(vino.DESCR)"
      ],
      "execution_count": 23,
      "outputs": [
        {
          "output_type": "stream",
          "text": [
            ".. _wine_dataset:\n",
            "\n",
            "Wine recognition dataset\n",
            "------------------------\n",
            "\n",
            "**Data Set Characteristics:**\n",
            "\n",
            "    :Number of Instances: 178 (50 in each of three classes)\n",
            "    :Number of Attributes: 13 numeric, predictive attributes and the class\n",
            "    :Attribute Information:\n",
            " \t\t- Alcohol\n",
            " \t\t- Malic acid\n",
            " \t\t- Ash\n",
            "\t\t- Alcalinity of ash  \n",
            " \t\t- Magnesium\n",
            "\t\t- Total phenols\n",
            " \t\t- Flavanoids\n",
            " \t\t- Nonflavanoid phenols\n",
            " \t\t- Proanthocyanins\n",
            "\t\t- Color intensity\n",
            " \t\t- Hue\n",
            " \t\t- OD280/OD315 of diluted wines\n",
            " \t\t- Proline\n",
            "\n",
            "    - class:\n",
            "            - class_0\n",
            "            - class_1\n",
            "            - class_2\n",
            "\t\t\n",
            "    :Summary Statistics:\n",
            "    \n",
            "    ============================= ==== ===== ======= =====\n",
            "                                   Min   Max   Mean     SD\n",
            "    ============================= ==== ===== ======= =====\n",
            "    Alcohol:                      11.0  14.8    13.0   0.8\n",
            "    Malic Acid:                   0.74  5.80    2.34  1.12\n",
            "    Ash:                          1.36  3.23    2.36  0.27\n",
            "    Alcalinity of Ash:            10.6  30.0    19.5   3.3\n",
            "    Magnesium:                    70.0 162.0    99.7  14.3\n",
            "    Total Phenols:                0.98  3.88    2.29  0.63\n",
            "    Flavanoids:                   0.34  5.08    2.03  1.00\n",
            "    Nonflavanoid Phenols:         0.13  0.66    0.36  0.12\n",
            "    Proanthocyanins:              0.41  3.58    1.59  0.57\n",
            "    Colour Intensity:              1.3  13.0     5.1   2.3\n",
            "    Hue:                          0.48  1.71    0.96  0.23\n",
            "    OD280/OD315 of diluted wines: 1.27  4.00    2.61  0.71\n",
            "    Proline:                       278  1680     746   315\n",
            "    ============================= ==== ===== ======= =====\n",
            "\n",
            "    :Missing Attribute Values: None\n",
            "    :Class Distribution: class_0 (59), class_1 (71), class_2 (48)\n",
            "    :Creator: R.A. Fisher\n",
            "    :Donor: Michael Marshall (MARSHALL%PLU@io.arc.nasa.gov)\n",
            "    :Date: July, 1988\n",
            "\n",
            "This is a copy of UCI ML Wine recognition datasets.\n",
            "https://archive.ics.uci.edu/ml/machine-learning-databases/wine/wine.data\n",
            "\n",
            "The data is the results of a chemical analysis of wines grown in the same\n",
            "region in Italy by three different cultivators. There are thirteen different\n",
            "measurements taken for different constituents found in the three types of\n",
            "wine.\n",
            "\n",
            "Original Owners: \n",
            "\n",
            "Forina, M. et al, PARVUS - \n",
            "An Extendible Package for Data Exploration, Classification and Correlation. \n",
            "Institute of Pharmaceutical and Food Analysis and Technologies,\n",
            "Via Brigata Salerno, 16147 Genoa, Italy.\n",
            "\n",
            "Citation:\n",
            "\n",
            "Lichman, M. (2013). UCI Machine Learning Repository\n",
            "[https://archive.ics.uci.edu/ml]. Irvine, CA: University of California,\n",
            "School of Information and Computer Science. \n",
            "\n",
            ".. topic:: References\n",
            "\n",
            "  (1) S. Aeberhard, D. Coomans and O. de Vel, \n",
            "  Comparison of Classifiers in High Dimensional Settings, \n",
            "  Tech. Rep. no. 92-02, (1992), Dept. of Computer Science and Dept. of  \n",
            "  Mathematics and Statistics, James Cook University of North Queensland. \n",
            "  (Also submitted to Technometrics). \n",
            "\n",
            "  The data was used with many others for comparing various \n",
            "  classifiers. The classes are separable, though only RDA \n",
            "  has achieved 100% correct classification. \n",
            "  (RDA : 100%, QDA 99.4%, LDA 98.9%, 1NN 96.1% (z-transformed data)) \n",
            "  (All results using the leave-one-out technique) \n",
            "\n",
            "  (2) S. Aeberhard, D. Coomans and O. de Vel, \n",
            "  \"THE CLASSIFICATION PERFORMANCE OF RDA\" \n",
            "  Tech. Rep. no. 92-01, (1992), Dept. of Computer Science and Dept. of \n",
            "  Mathematics and Statistics, James Cook University of North Queensland. \n",
            "  (Also submitted to Journal of Chemometrics).\n",
            "\n"
          ],
          "name": "stdout"
        }
      ]
    },
    {
      "cell_type": "code",
      "metadata": {
        "id": "STbNHoNAvtyr",
        "colab_type": "code",
        "colab": {
          "base_uri": "https://localhost:8080/",
          "height": 217
        },
        "outputId": "44e8157a-b3e9-4829-bf1f-f04e70567d37"
      },
      "source": [
        "data = [pd.DataFrame(vino.data), pd.DataFrame(vino.target)]\n",
        "\n",
        "data = pd.concat(data, axis=1, ignore_index= True)\n",
        "\n",
        "columns = vino.feature_names + ['target']\n",
        "\n",
        "data.columns = columns\n",
        "\n",
        "data.head()"
      ],
      "execution_count": 24,
      "outputs": [
        {
          "output_type": "execute_result",
          "data": {
            "text/html": [
              "<div>\n",
              "<style scoped>\n",
              "    .dataframe tbody tr th:only-of-type {\n",
              "        vertical-align: middle;\n",
              "    }\n",
              "\n",
              "    .dataframe tbody tr th {\n",
              "        vertical-align: top;\n",
              "    }\n",
              "\n",
              "    .dataframe thead th {\n",
              "        text-align: right;\n",
              "    }\n",
              "</style>\n",
              "<table border=\"1\" class=\"dataframe\">\n",
              "  <thead>\n",
              "    <tr style=\"text-align: right;\">\n",
              "      <th></th>\n",
              "      <th>alcohol</th>\n",
              "      <th>malic_acid</th>\n",
              "      <th>ash</th>\n",
              "      <th>alcalinity_of_ash</th>\n",
              "      <th>magnesium</th>\n",
              "      <th>total_phenols</th>\n",
              "      <th>flavanoids</th>\n",
              "      <th>nonflavanoid_phenols</th>\n",
              "      <th>proanthocyanins</th>\n",
              "      <th>color_intensity</th>\n",
              "      <th>hue</th>\n",
              "      <th>od280/od315_of_diluted_wines</th>\n",
              "      <th>proline</th>\n",
              "      <th>target</th>\n",
              "    </tr>\n",
              "  </thead>\n",
              "  <tbody>\n",
              "    <tr>\n",
              "      <th>0</th>\n",
              "      <td>14.23</td>\n",
              "      <td>1.71</td>\n",
              "      <td>2.43</td>\n",
              "      <td>15.6</td>\n",
              "      <td>127.0</td>\n",
              "      <td>2.80</td>\n",
              "      <td>3.06</td>\n",
              "      <td>0.28</td>\n",
              "      <td>2.29</td>\n",
              "      <td>5.64</td>\n",
              "      <td>1.04</td>\n",
              "      <td>3.92</td>\n",
              "      <td>1065.0</td>\n",
              "      <td>0</td>\n",
              "    </tr>\n",
              "    <tr>\n",
              "      <th>1</th>\n",
              "      <td>13.20</td>\n",
              "      <td>1.78</td>\n",
              "      <td>2.14</td>\n",
              "      <td>11.2</td>\n",
              "      <td>100.0</td>\n",
              "      <td>2.65</td>\n",
              "      <td>2.76</td>\n",
              "      <td>0.26</td>\n",
              "      <td>1.28</td>\n",
              "      <td>4.38</td>\n",
              "      <td>1.05</td>\n",
              "      <td>3.40</td>\n",
              "      <td>1050.0</td>\n",
              "      <td>0</td>\n",
              "    </tr>\n",
              "    <tr>\n",
              "      <th>2</th>\n",
              "      <td>13.16</td>\n",
              "      <td>2.36</td>\n",
              "      <td>2.67</td>\n",
              "      <td>18.6</td>\n",
              "      <td>101.0</td>\n",
              "      <td>2.80</td>\n",
              "      <td>3.24</td>\n",
              "      <td>0.30</td>\n",
              "      <td>2.81</td>\n",
              "      <td>5.68</td>\n",
              "      <td>1.03</td>\n",
              "      <td>3.17</td>\n",
              "      <td>1185.0</td>\n",
              "      <td>0</td>\n",
              "    </tr>\n",
              "    <tr>\n",
              "      <th>3</th>\n",
              "      <td>14.37</td>\n",
              "      <td>1.95</td>\n",
              "      <td>2.50</td>\n",
              "      <td>16.8</td>\n",
              "      <td>113.0</td>\n",
              "      <td>3.85</td>\n",
              "      <td>3.49</td>\n",
              "      <td>0.24</td>\n",
              "      <td>2.18</td>\n",
              "      <td>7.80</td>\n",
              "      <td>0.86</td>\n",
              "      <td>3.45</td>\n",
              "      <td>1480.0</td>\n",
              "      <td>0</td>\n",
              "    </tr>\n",
              "    <tr>\n",
              "      <th>4</th>\n",
              "      <td>13.24</td>\n",
              "      <td>2.59</td>\n",
              "      <td>2.87</td>\n",
              "      <td>21.0</td>\n",
              "      <td>118.0</td>\n",
              "      <td>2.80</td>\n",
              "      <td>2.69</td>\n",
              "      <td>0.39</td>\n",
              "      <td>1.82</td>\n",
              "      <td>4.32</td>\n",
              "      <td>1.04</td>\n",
              "      <td>2.93</td>\n",
              "      <td>735.0</td>\n",
              "      <td>0</td>\n",
              "    </tr>\n",
              "  </tbody>\n",
              "</table>\n",
              "</div>"
            ],
            "text/plain": [
              "   alcohol  malic_acid   ash  ...  od280/od315_of_diluted_wines  proline  target\n",
              "0    14.23        1.71  2.43  ...                          3.92   1065.0       0\n",
              "1    13.20        1.78  2.14  ...                          3.40   1050.0       0\n",
              "2    13.16        2.36  2.67  ...                          3.17   1185.0       0\n",
              "3    14.37        1.95  2.50  ...                          3.45   1480.0       0\n",
              "4    13.24        2.59  2.87  ...                          2.93    735.0       0\n",
              "\n",
              "[5 rows x 14 columns]"
            ]
          },
          "metadata": {
            "tags": []
          },
          "execution_count": 24
        }
      ]
    },
    {
      "cell_type": "code",
      "metadata": {
        "id": "e5gGitMJ0wR1",
        "colab_type": "code",
        "colab": {
          "base_uri": "https://localhost:8080/",
          "height": 284
        },
        "outputId": "75487c17-dbc0-4b09-e0c2-199d2daf5249"
      },
      "source": [
        "print(data.target.value_counts())\n",
        "\n",
        "data[data.target == 0].head()"
      ],
      "execution_count": 26,
      "outputs": [
        {
          "output_type": "stream",
          "text": [
            "1    71\n",
            "0    59\n",
            "2    48\n",
            "Name: target, dtype: int64\n"
          ],
          "name": "stdout"
        },
        {
          "output_type": "execute_result",
          "data": {
            "text/html": [
              "<div>\n",
              "<style scoped>\n",
              "    .dataframe tbody tr th:only-of-type {\n",
              "        vertical-align: middle;\n",
              "    }\n",
              "\n",
              "    .dataframe tbody tr th {\n",
              "        vertical-align: top;\n",
              "    }\n",
              "\n",
              "    .dataframe thead th {\n",
              "        text-align: right;\n",
              "    }\n",
              "</style>\n",
              "<table border=\"1\" class=\"dataframe\">\n",
              "  <thead>\n",
              "    <tr style=\"text-align: right;\">\n",
              "      <th></th>\n",
              "      <th>alcohol</th>\n",
              "      <th>malic_acid</th>\n",
              "      <th>ash</th>\n",
              "      <th>alcalinity_of_ash</th>\n",
              "      <th>magnesium</th>\n",
              "      <th>total_phenols</th>\n",
              "      <th>flavanoids</th>\n",
              "      <th>nonflavanoid_phenols</th>\n",
              "      <th>proanthocyanins</th>\n",
              "      <th>color_intensity</th>\n",
              "      <th>hue</th>\n",
              "      <th>od280/od315_of_diluted_wines</th>\n",
              "      <th>proline</th>\n",
              "      <th>target</th>\n",
              "    </tr>\n",
              "  </thead>\n",
              "  <tbody>\n",
              "    <tr>\n",
              "      <th>0</th>\n",
              "      <td>14.23</td>\n",
              "      <td>1.71</td>\n",
              "      <td>2.43</td>\n",
              "      <td>15.6</td>\n",
              "      <td>127.0</td>\n",
              "      <td>2.80</td>\n",
              "      <td>3.06</td>\n",
              "      <td>0.28</td>\n",
              "      <td>2.29</td>\n",
              "      <td>5.64</td>\n",
              "      <td>1.04</td>\n",
              "      <td>3.92</td>\n",
              "      <td>1065.0</td>\n",
              "      <td>0</td>\n",
              "    </tr>\n",
              "    <tr>\n",
              "      <th>1</th>\n",
              "      <td>13.20</td>\n",
              "      <td>1.78</td>\n",
              "      <td>2.14</td>\n",
              "      <td>11.2</td>\n",
              "      <td>100.0</td>\n",
              "      <td>2.65</td>\n",
              "      <td>2.76</td>\n",
              "      <td>0.26</td>\n",
              "      <td>1.28</td>\n",
              "      <td>4.38</td>\n",
              "      <td>1.05</td>\n",
              "      <td>3.40</td>\n",
              "      <td>1050.0</td>\n",
              "      <td>0</td>\n",
              "    </tr>\n",
              "    <tr>\n",
              "      <th>2</th>\n",
              "      <td>13.16</td>\n",
              "      <td>2.36</td>\n",
              "      <td>2.67</td>\n",
              "      <td>18.6</td>\n",
              "      <td>101.0</td>\n",
              "      <td>2.80</td>\n",
              "      <td>3.24</td>\n",
              "      <td>0.30</td>\n",
              "      <td>2.81</td>\n",
              "      <td>5.68</td>\n",
              "      <td>1.03</td>\n",
              "      <td>3.17</td>\n",
              "      <td>1185.0</td>\n",
              "      <td>0</td>\n",
              "    </tr>\n",
              "    <tr>\n",
              "      <th>3</th>\n",
              "      <td>14.37</td>\n",
              "      <td>1.95</td>\n",
              "      <td>2.50</td>\n",
              "      <td>16.8</td>\n",
              "      <td>113.0</td>\n",
              "      <td>3.85</td>\n",
              "      <td>3.49</td>\n",
              "      <td>0.24</td>\n",
              "      <td>2.18</td>\n",
              "      <td>7.80</td>\n",
              "      <td>0.86</td>\n",
              "      <td>3.45</td>\n",
              "      <td>1480.0</td>\n",
              "      <td>0</td>\n",
              "    </tr>\n",
              "    <tr>\n",
              "      <th>4</th>\n",
              "      <td>13.24</td>\n",
              "      <td>2.59</td>\n",
              "      <td>2.87</td>\n",
              "      <td>21.0</td>\n",
              "      <td>118.0</td>\n",
              "      <td>2.80</td>\n",
              "      <td>2.69</td>\n",
              "      <td>0.39</td>\n",
              "      <td>1.82</td>\n",
              "      <td>4.32</td>\n",
              "      <td>1.04</td>\n",
              "      <td>2.93</td>\n",
              "      <td>735.0</td>\n",
              "      <td>0</td>\n",
              "    </tr>\n",
              "  </tbody>\n",
              "</table>\n",
              "</div>"
            ],
            "text/plain": [
              "   alcohol  malic_acid   ash  ...  od280/od315_of_diluted_wines  proline  target\n",
              "0    14.23        1.71  2.43  ...                          3.92   1065.0       0\n",
              "1    13.20        1.78  2.14  ...                          3.40   1050.0       0\n",
              "2    13.16        2.36  2.67  ...                          3.17   1185.0       0\n",
              "3    14.37        1.95  2.50  ...                          3.45   1480.0       0\n",
              "4    13.24        2.59  2.87  ...                          2.93    735.0       0\n",
              "\n",
              "[5 rows x 14 columns]"
            ]
          },
          "metadata": {
            "tags": []
          },
          "execution_count": 26
        }
      ]
    },
    {
      "cell_type": "code",
      "metadata": {
        "id": "DzZWYnCZ0wUa",
        "colab_type": "code",
        "colab": {
          "base_uri": "https://localhost:8080/",
          "height": 279
        },
        "outputId": "211c4ae0-1a5a-4061-909d-0a6c58b3b64d"
      },
      "source": [
        "sns.countplot(x=data.target, data=data, palette='bwr'); plt.show()"
      ],
      "execution_count": 27,
      "outputs": [
        {
          "output_type": "display_data",
          "data": {
            "image/png": "[encoded data removed]",
            "text/plain": [
              "<Figure size 432x288 with 1 Axes>"
            ]
          },
          "metadata": {
            "tags": []
          }
        }
      ]
    },
    {
      "cell_type": "code",
      "metadata": {
        "id": "sTxpKrCQ24Dd",
        "colab_type": "code",
        "colab": {
          "base_uri": "https://localhost:8080/",
          "height": 292
        },
        "outputId": "f8a78c9a-7b9b-4deb-c059-5c5907c87b37"
      },
      "source": [
        "\n",
        "sns.countplot(x=data.nonflavanoid_phenols, data=data, palette='mako_r'); plt.xticks(rotation=40); plt.show()"
      ],
      "execution_count": 28,
      "outputs": [
        {
          "output_type": "display_data",
          "data": {
            "image/png": "[encoded data removed]",
            "text/plain": [
              "<Figure size 432x288 with 1 Axes>"
            ]
          },
          "metadata": {
            "tags": []
          }
        }
      ]
    },
    {
      "cell_type": "code",
      "metadata": {
        "id": "pU-CK5nw24GQ",
        "colab_type": "code",
        "colab": {
          "base_uri": "https://localhost:8080/",
          "height": 237
        },
        "outputId": "ed327db6-98ab-4b5f-dd33-178d7e725a5e"
      },
      "source": [
        "class_0 = len(data[data.target == 0])\n",
        "class_1 = len(data[data.target == 1]); class_2 = len(data[data.target == 2])\n",
        "\n",
        "print('Percentage of class 0: {:.2f}'.format((class_0 / len(data.target)) * 100))\n",
        "print('Percentage of class 1: {:.2f}'.format((class_1 / len(data.target)) * 100))\n",
        "print('Percentage of class 2: {:.2f}'.format((class_2 / len(data.target)) * 100))\n",
        "\n",
        "data.groupby('target').mean()\n",
        "\n"
      ],
      "execution_count": 32,
      "outputs": [
        {
          "output_type": "stream",
          "text": [
            "Percentage of class 0: 33.15\n",
            "Percentage of class 1: 39.89\n",
            "Percentage of class 2: 26.97\n"
          ],
          "name": "stdout"
        },
        {
          "output_type": "execute_result",
          "data": {
            "text/html": [
              "<div>\n",
              "<style scoped>\n",
              "    .dataframe tbody tr th:only-of-type {\n",
              "        vertical-align: middle;\n",
              "    }\n",
              "\n",
              "    .dataframe tbody tr th {\n",
              "        vertical-align: top;\n",
              "    }\n",
              "\n",
              "    .dataframe thead th {\n",
              "        text-align: right;\n",
              "    }\n",
              "</style>\n",
              "<table border=\"1\" class=\"dataframe\">\n",
              "  <thead>\n",
              "    <tr style=\"text-align: right;\">\n",
              "      <th></th>\n",
              "      <th>alcohol</th>\n",
              "      <th>malic_acid</th>\n",
              "      <th>ash</th>\n",
              "      <th>alcalinity_of_ash</th>\n",
              "      <th>magnesium</th>\n",
              "      <th>total_phenols</th>\n",
              "      <th>flavanoids</th>\n",
              "      <th>nonflavanoid_phenols</th>\n",
              "      <th>proanthocyanins</th>\n",
              "      <th>color_intensity</th>\n",
              "      <th>hue</th>\n",
              "      <th>od280/od315_of_diluted_wines</th>\n",
              "      <th>proline</th>\n",
              "    </tr>\n",
              "    <tr>\n",
              "      <th>target</th>\n",
              "      <th></th>\n",
              "      <th></th>\n",
              "      <th></th>\n",
              "      <th></th>\n",
              "      <th></th>\n",
              "      <th></th>\n",
              "      <th></th>\n",
              "      <th></th>\n",
              "      <th></th>\n",
              "      <th></th>\n",
              "      <th></th>\n",
              "      <th></th>\n",
              "      <th></th>\n",
              "    </tr>\n",
              "  </thead>\n",
              "  <tbody>\n",
              "    <tr>\n",
              "      <th>0</th>\n",
              "      <td>13.744746</td>\n",
              "      <td>2.010678</td>\n",
              "      <td>2.455593</td>\n",
              "      <td>17.037288</td>\n",
              "      <td>106.338983</td>\n",
              "      <td>2.840169</td>\n",
              "      <td>2.982373</td>\n",
              "      <td>0.290000</td>\n",
              "      <td>1.899322</td>\n",
              "      <td>5.528305</td>\n",
              "      <td>1.062034</td>\n",
              "      <td>3.157797</td>\n",
              "      <td>1115.711864</td>\n",
              "    </tr>\n",
              "    <tr>\n",
              "      <th>1</th>\n",
              "      <td>12.278732</td>\n",
              "      <td>1.932676</td>\n",
              "      <td>2.244789</td>\n",
              "      <td>20.238028</td>\n",
              "      <td>94.549296</td>\n",
              "      <td>2.258873</td>\n",
              "      <td>2.080845</td>\n",
              "      <td>0.363662</td>\n",
              "      <td>1.630282</td>\n",
              "      <td>3.086620</td>\n",
              "      <td>1.056282</td>\n",
              "      <td>2.785352</td>\n",
              "      <td>519.507042</td>\n",
              "    </tr>\n",
              "    <tr>\n",
              "      <th>2</th>\n",
              "      <td>13.153750</td>\n",
              "      <td>3.333750</td>\n",
              "      <td>2.437083</td>\n",
              "      <td>21.416667</td>\n",
              "      <td>99.312500</td>\n",
              "      <td>1.678750</td>\n",
              "      <td>0.781458</td>\n",
              "      <td>0.447500</td>\n",
              "      <td>1.153542</td>\n",
              "      <td>7.396250</td>\n",
              "      <td>0.682708</td>\n",
              "      <td>1.683542</td>\n",
              "      <td>629.895833</td>\n",
              "    </tr>\n",
              "  </tbody>\n",
              "</table>\n",
              "</div>"
            ],
            "text/plain": [
              "          alcohol  malic_acid  ...  od280/od315_of_diluted_wines      proline\n",
              "target                         ...                                           \n",
              "0       13.744746    2.010678  ...                      3.157797  1115.711864\n",
              "1       12.278732    1.932676  ...                      2.785352   519.507042\n",
              "2       13.153750    3.333750  ...                      1.683542   629.895833\n",
              "\n",
              "[3 rows x 13 columns]"
            ]
          },
          "metadata": {
            "tags": []
          },
          "execution_count": 32
        }
      ]
    },
    {
      "cell_type": "code",
      "metadata": {
        "id": "8EXmTxAM24Ip",
        "colab_type": "code",
        "colab": {
          "base_uri": "https://localhost:8080/",
          "height": 537
        },
        "outputId": "499d41cb-a569-4547-829a-4f374df6e990"
      },
      "source": [
        "pd.crosstab(data.alcohol, data.target).plot(kind='bar',figsize=(18,8))\n",
        "plt.title('frequency of alcohol ^ cantidad de datos con la misma cantidad', size=20); plt.show()"
      ],
      "execution_count": 34,
      "outputs": [
        {
          "output_type": "display_data",
          "data": {
            "image/png": "[encoded data removed]",
            "text/plain": [
              "<Figure size 1296x576 with 1 Axes>"
            ]
          },
          "metadata": {
            "tags": []
          }
        }
      ]
    },
    {
      "cell_type": "code",
      "metadata": {
        "id": "aOJqvnFg6pSC",
        "colab_type": "code",
        "colab": {
          "base_uri": "https://localhost:8080/",
          "height": 527
        },
        "outputId": "0497c67c-8c12-41a9-bd15-36dd31fa7a59"
      },
      "source": [
        "pd.crosstab(data.malic_acid, data.target).plot(kind='bar', figsize=(16,8))"
      ],
      "execution_count": 35,
      "outputs": [
        {
          "output_type": "execute_result",
          "data": {
            "text/plain": [
              "<matplotlib.axes._subplots.AxesSubplot at 0x7f31250dd630>"
            ]
          },
          "metadata": {
            "tags": []
          },
          "execution_count": 35
        },
        {
          "output_type": "display_data",
          "data": {
            "image/png": "[encoded data removed]",
            "text/plain": [
              "<Figure size 1152x576 with 1 Axes>"
            ]
          },
          "metadata": {
            "tags": []
          }
        }
      ]
    },
    {
      "cell_type": "code",
      "metadata": {
        "id": "co61b0Px6pU-",
        "colab_type": "code",
        "colab": {
          "base_uri": "https://localhost:8080/",
          "height": 311
        },
        "outputId": "d81e6c9e-c32c-45a6-b2f3-edf3da256378"
      },
      "source": [
        "plt.scatter(data.alcohol[data.target == 0], data.malic_acid[data.target == 0], c='red', alpha=.6)\n",
        "plt.scatter(data.alcohol[data.target == 1], data.malic_acid[data.target == 1], c='salmon', alpha=.6)\n",
        "plt.scatter(data.alcohol[data.target == 2], data.malic_acid[data.target == 2], c='skyblue', alpha=.6)\n",
        "plt.xlabel('amount of alcohol'); plt.ylabel('amount of malic acid'); plt.title('Red-Class 0; Salmon-Class 1; Skyblue-Class 2') \n",
        "plt.figure('equal')\n",
        "plt.show()"
      ],
      "execution_count": 37,
      "outputs": [
        {
          "output_type": "display_data",
          "data": {
            "image/png": "[encoded data removed]",
            "text/plain": [
              "<Figure size 432x288 with 1 Axes>"
            ]
          },
          "metadata": {
            "tags": []
          }
        },
        {
          "output_type": "display_data",
          "data": {
            "text/plain": [
              "<Figure size 432x288 with 0 Axes>"
            ]
          },
          "metadata": {
            "tags": []
          }
        }
      ]
    },
    {
      "cell_type": "code",
      "metadata": {
        "id": "OwRmyoIxIb-M",
        "colab_type": "code",
        "colab": {
          "base_uri": "https://localhost:8080/",
          "height": 217
        },
        "outputId": "fdc05d79-cd52-40d9-efc9-f3674ad4c43a"
      },
      "source": [
        "data.head()"
      ],
      "execution_count": 38,
      "outputs": [
        {
          "output_type": "execute_result",
          "data": {
            "text/html": [
              "<div>\n",
              "<style scoped>\n",
              "    .dataframe tbody tr th:only-of-type {\n",
              "        vertical-align: middle;\n",
              "    }\n",
              "\n",
              "    .dataframe tbody tr th {\n",
              "        vertical-align: top;\n",
              "    }\n",
              "\n",
              "    .dataframe thead th {\n",
              "        text-align: right;\n",
              "    }\n",
              "</style>\n",
              "<table border=\"1\" class=\"dataframe\">\n",
              "  <thead>\n",
              "    <tr style=\"text-align: right;\">\n",
              "      <th></th>\n",
              "      <th>alcohol</th>\n",
              "      <th>malic_acid</th>\n",
              "      <th>ash</th>\n",
              "      <th>alcalinity_of_ash</th>\n",
              "      <th>magnesium</th>\n",
              "      <th>total_phenols</th>\n",
              "      <th>flavanoids</th>\n",
              "      <th>nonflavanoid_phenols</th>\n",
              "      <th>proanthocyanins</th>\n",
              "      <th>color_intensity</th>\n",
              "      <th>hue</th>\n",
              "      <th>od280/od315_of_diluted_wines</th>\n",
              "      <th>proline</th>\n",
              "      <th>target</th>\n",
              "    </tr>\n",
              "  </thead>\n",
              "  <tbody>\n",
              "    <tr>\n",
              "      <th>0</th>\n",
              "      <td>14.23</td>\n",
              "      <td>1.71</td>\n",
              "      <td>2.43</td>\n",
              "      <td>15.6</td>\n",
              "      <td>127.0</td>\n",
              "      <td>2.80</td>\n",
              "      <td>3.06</td>\n",
              "      <td>0.28</td>\n",
              "      <td>2.29</td>\n",
              "      <td>5.64</td>\n",
              "      <td>1.04</td>\n",
              "      <td>3.92</td>\n",
              "      <td>1065.0</td>\n",
              "      <td>0</td>\n",
              "    </tr>\n",
              "    <tr>\n",
              "      <th>1</th>\n",
              "      <td>13.20</td>\n",
              "      <td>1.78</td>\n",
              "      <td>2.14</td>\n",
              "      <td>11.2</td>\n",
              "      <td>100.0</td>\n",
              "      <td>2.65</td>\n",
              "      <td>2.76</td>\n",
              "      <td>0.26</td>\n",
              "      <td>1.28</td>\n",
              "      <td>4.38</td>\n",
              "      <td>1.05</td>\n",
              "      <td>3.40</td>\n",
              "      <td>1050.0</td>\n",
              "      <td>0</td>\n",
              "    </tr>\n",
              "    <tr>\n",
              "      <th>2</th>\n",
              "      <td>13.16</td>\n",
              "      <td>2.36</td>\n",
              "      <td>2.67</td>\n",
              "      <td>18.6</td>\n",
              "      <td>101.0</td>\n",
              "      <td>2.80</td>\n",
              "      <td>3.24</td>\n",
              "      <td>0.30</td>\n",
              "      <td>2.81</td>\n",
              "      <td>5.68</td>\n",
              "      <td>1.03</td>\n",
              "      <td>3.17</td>\n",
              "      <td>1185.0</td>\n",
              "      <td>0</td>\n",
              "    </tr>\n",
              "    <tr>\n",
              "      <th>3</th>\n",
              "      <td>14.37</td>\n",
              "      <td>1.95</td>\n",
              "      <td>2.50</td>\n",
              "      <td>16.8</td>\n",
              "      <td>113.0</td>\n",
              "      <td>3.85</td>\n",
              "      <td>3.49</td>\n",
              "      <td>0.24</td>\n",
              "      <td>2.18</td>\n",
              "      <td>7.80</td>\n",
              "      <td>0.86</td>\n",
              "      <td>3.45</td>\n",
              "      <td>1480.0</td>\n",
              "      <td>0</td>\n",
              "    </tr>\n",
              "    <tr>\n",
              "      <th>4</th>\n",
              "      <td>13.24</td>\n",
              "      <td>2.59</td>\n",
              "      <td>2.87</td>\n",
              "      <td>21.0</td>\n",
              "      <td>118.0</td>\n",
              "      <td>2.80</td>\n",
              "      <td>2.69</td>\n",
              "      <td>0.39</td>\n",
              "      <td>1.82</td>\n",
              "      <td>4.32</td>\n",
              "      <td>1.04</td>\n",
              "      <td>2.93</td>\n",
              "      <td>735.0</td>\n",
              "      <td>0</td>\n",
              "    </tr>\n",
              "  </tbody>\n",
              "</table>\n",
              "</div>"
            ],
            "text/plain": [
              "   alcohol  malic_acid   ash  ...  od280/od315_of_diluted_wines  proline  target\n",
              "0    14.23        1.71  2.43  ...                          3.92   1065.0       0\n",
              "1    13.20        1.78  2.14  ...                          3.40   1050.0       0\n",
              "2    13.16        2.36  2.67  ...                          3.17   1185.0       0\n",
              "3    14.37        1.95  2.50  ...                          3.45   1480.0       0\n",
              "4    13.24        2.59  2.87  ...                          2.93    735.0       0\n",
              "\n",
              "[5 rows x 14 columns]"
            ]
          },
          "metadata": {
            "tags": []
          },
          "execution_count": 38
        }
      ]
    },
    {
      "cell_type": "code",
      "metadata": {
        "id": "9UrPJ5r9Mobl",
        "colab_type": "code",
        "colab": {
          "base_uri": "https://localhost:8080/",
          "height": 233
        },
        "outputId": "36a716bb-fadf-42ac-bcdb-5a4e1f8079ad"
      },
      "source": [
        "y = data.target\n",
        "\n",
        "x_data = data.drop(['target'], axis=1)\n",
        "\n",
        "# Normalie data\n",
        "\n",
        "x = (x_data - np.min(x_data)) / (np.max(x_data) - np.min(x_data))\n",
        "print(x.shape)\n",
        "x.head()"
      ],
      "execution_count": 39,
      "outputs": [
        {
          "output_type": "stream",
          "text": [
            "(178, 13)\n"
          ],
          "name": "stdout"
        },
        {
          "output_type": "execute_result",
          "data": {
            "text/html": [
              "<div>\n",
              "<style scoped>\n",
              "    .dataframe tbody tr th:only-of-type {\n",
              "        vertical-align: middle;\n",
              "    }\n",
              "\n",
              "    .dataframe tbody tr th {\n",
              "        vertical-align: top;\n",
              "    }\n",
              "\n",
              "    .dataframe thead th {\n",
              "        text-align: right;\n",
              "    }\n",
              "</style>\n",
              "<table border=\"1\" class=\"dataframe\">\n",
              "  <thead>\n",
              "    <tr style=\"text-align: right;\">\n",
              "      <th></th>\n",
              "      <th>alcohol</th>\n",
              "      <th>malic_acid</th>\n",
              "      <th>ash</th>\n",
              "      <th>alcalinity_of_ash</th>\n",
              "      <th>magnesium</th>\n",
              "      <th>total_phenols</th>\n",
              "      <th>flavanoids</th>\n",
              "      <th>nonflavanoid_phenols</th>\n",
              "      <th>proanthocyanins</th>\n",
              "      <th>color_intensity</th>\n",
              "      <th>hue</th>\n",
              "      <th>od280/od315_of_diluted_wines</th>\n",
              "      <th>proline</th>\n",
              "    </tr>\n",
              "  </thead>\n",
              "  <tbody>\n",
              "    <tr>\n",
              "      <th>0</th>\n",
              "      <td>0.842105</td>\n",
              "      <td>0.191700</td>\n",
              "      <td>0.572193</td>\n",
              "      <td>0.257732</td>\n",
              "      <td>0.619565</td>\n",
              "      <td>0.627586</td>\n",
              "      <td>0.573840</td>\n",
              "      <td>0.283019</td>\n",
              "      <td>0.593060</td>\n",
              "      <td>0.372014</td>\n",
              "      <td>0.455285</td>\n",
              "      <td>0.970696</td>\n",
              "      <td>0.561341</td>\n",
              "    </tr>\n",
              "    <tr>\n",
              "      <th>1</th>\n",
              "      <td>0.571053</td>\n",
              "      <td>0.205534</td>\n",
              "      <td>0.417112</td>\n",
              "      <td>0.030928</td>\n",
              "      <td>0.326087</td>\n",
              "      <td>0.575862</td>\n",
              "      <td>0.510549</td>\n",
              "      <td>0.245283</td>\n",
              "      <td>0.274448</td>\n",
              "      <td>0.264505</td>\n",
              "      <td>0.463415</td>\n",
              "      <td>0.780220</td>\n",
              "      <td>0.550642</td>\n",
              "    </tr>\n",
              "    <tr>\n",
              "      <th>2</th>\n",
              "      <td>0.560526</td>\n",
              "      <td>0.320158</td>\n",
              "      <td>0.700535</td>\n",
              "      <td>0.412371</td>\n",
              "      <td>0.336957</td>\n",
              "      <td>0.627586</td>\n",
              "      <td>0.611814</td>\n",
              "      <td>0.320755</td>\n",
              "      <td>0.757098</td>\n",
              "      <td>0.375427</td>\n",
              "      <td>0.447154</td>\n",
              "      <td>0.695971</td>\n",
              "      <td>0.646933</td>\n",
              "    </tr>\n",
              "    <tr>\n",
              "      <th>3</th>\n",
              "      <td>0.878947</td>\n",
              "      <td>0.239130</td>\n",
              "      <td>0.609626</td>\n",
              "      <td>0.319588</td>\n",
              "      <td>0.467391</td>\n",
              "      <td>0.989655</td>\n",
              "      <td>0.664557</td>\n",
              "      <td>0.207547</td>\n",
              "      <td>0.558360</td>\n",
              "      <td>0.556314</td>\n",
              "      <td>0.308943</td>\n",
              "      <td>0.798535</td>\n",
              "      <td>0.857347</td>\n",
              "    </tr>\n",
              "    <tr>\n",
              "      <th>4</th>\n",
              "      <td>0.581579</td>\n",
              "      <td>0.365613</td>\n",
              "      <td>0.807487</td>\n",
              "      <td>0.536082</td>\n",
              "      <td>0.521739</td>\n",
              "      <td>0.627586</td>\n",
              "      <td>0.495781</td>\n",
              "      <td>0.490566</td>\n",
              "      <td>0.444795</td>\n",
              "      <td>0.259386</td>\n",
              "      <td>0.455285</td>\n",
              "      <td>0.608059</td>\n",
              "      <td>0.325963</td>\n",
              "    </tr>\n",
              "  </tbody>\n",
              "</table>\n",
              "</div>"
            ],
            "text/plain": [
              "    alcohol  malic_acid  ...  od280/od315_of_diluted_wines   proline\n",
              "0  0.842105    0.191700  ...                      0.970696  0.561341\n",
              "1  0.571053    0.205534  ...                      0.780220  0.550642\n",
              "2  0.560526    0.320158  ...                      0.695971  0.646933\n",
              "3  0.878947    0.239130  ...                      0.798535  0.857347\n",
              "4  0.581579    0.365613  ...                      0.608059  0.325963\n",
              "\n",
              "[5 rows x 13 columns]"
            ]
          },
          "metadata": {
            "tags": []
          },
          "execution_count": 39
        }
      ]
    },
    {
      "cell_type": "code",
      "metadata": {
        "id": "IaAgwBRiMoeY",
        "colab_type": "code",
        "colab": {}
      },
      "source": [
        "X_train, X_test, y_train, y_test = train_test_split(x, y, test_size=.2, random_state=1)\n",
        "X_train = X_train.T \n",
        "X_test = X_test.T \n",
        "y_train = y_train.T \n",
        "y_test = y_test.T\n"
      ],
      "execution_count": 13,
      "outputs": []
    },
    {
      "cell_type": "code",
      "metadata": {
        "id": "9pVixE_DMohM",
        "colab_type": "code",
        "colab": {
          "base_uri": "https://localhost:8080/",
          "height": 265
        },
        "outputId": "083520c8-e0f0-4407-9b7d-c8905630012b"
      },
      "source": [
        "def initialize(dimension):\n",
        "\n",
        "  weight = np.full((dimension, 1), .01)\n",
        "  bias = 0.0\n",
        "\n",
        "  return weight, bias\n",
        "\n",
        "def fun_act(z):\n",
        "\n",
        "  sigm = 1 / (1 + np.exp(-z))\n",
        "\n",
        "  return sigm\n",
        "\n",
        "def fun_relu(z):\n",
        "\n",
        "  relu = np.maximum(0, z)\n",
        "\n",
        "  return relu\n",
        "\n",
        "_x = np.linspace(-5,5,100)\n",
        "\n",
        "plt.plot(_x, fun_act(_x))\n",
        "plt.show()"
      ],
      "execution_count": 40,
      "outputs": [
        {
          "output_type": "display_data",
          "data": {
            "image/png": "[encoded data removed]",
            "text/plain": [
              "<Figure size 432x288 with 1 Axes>"
            ]
          },
          "metadata": {
            "tags": []
          }
        }
      ]
    },
    {
      "cell_type": "code",
      "metadata": {
        "id": "8GalQtefP3iJ",
        "colab_type": "code",
        "colab": {}
      },
      "source": [
        "def ForwardBackward(X_train, y_train, weight, bias):\n",
        "\n",
        "  # Forward Pass\n",
        "  # Funcion de activacion\n",
        "  act_f = fun_act(np.dot(weight.T, X_train) + bias)\n",
        "\n",
        "  # Funcion de coste\n",
        "  loss = -(y_train * np.log(act_f)) + (1 - y_train) * (np.log(1 - act_f))\n",
        "\n",
        "  # Suma de costes\n",
        "  sum_cost = np.sum(loss) / len(X_train.shape[1])\n",
        "  #---> End Forward Pass\n",
        "\n",
        "  # Backward Pass\n",
        "  derivative_weight = np.dot(X_train, (act_f - y_train).T) / X_train.shape[1]\n",
        "  derivative_bias = np.sum(act_f - y_train) / X_train.shape[1]\n",
        "  gradients = {'Derivative Weights': derivative_weight, 'Derivative Bias': derivative_bias}\n",
        "\n",
        "  return sum_cost, gradients"
      ],
      "execution_count": 41,
      "outputs": []
    },
    {
      "cell_type": "code",
      "metadata": {
        "id": "blRoq3LPP3sW",
        "colab_type": "code",
        "colab": {}
      },
      "source": [
        "def Update(X_train, y_train, weight, bias, lr, iteration):\n",
        "\n",
        "  costList = []\n",
        "  \n",
        "  index = []\n",
        "\n",
        "  # For each iteration, update weigh and bias value\n",
        "  for _ in range(iteration):\n",
        "\n",
        "    cost, gradients = ForwardBackward(weight, bias, X_train, y_train)\n",
        "\n",
        "    weight = weight - lr * gradients['Derivative Weights']\n",
        "\n",
        "    bias = bias - lr * gradients['Derivative Bias']\n",
        "\n",
        "    costList.append(cost)\n",
        "\n",
        "    index.append(_)\n",
        "\n",
        "  parameters = {'weight':weight, 'bias':bias}\n",
        "\n",
        "  print('Iteration',iteration)\n",
        "  print('Cost',cost)\n",
        "\n",
        "  plt.plot(index, costList)\n",
        "  plt.xlabel('number of iteraction')\n",
        "  plt.ylabel('cost')\n",
        "  plt.show()\n",
        "\n",
        "  return parameters, gradients"
      ],
      "execution_count": 42,
      "outputs": []
    },
    {
      "cell_type": "code",
      "metadata": {
        "id": "KpmCl_NiuA0G",
        "colab_type": "code",
        "colab": {}
      },
      "source": [
        "def predict(weight, bias, X_test):\n",
        "\n",
        "  z = np.dot(weight.T, X_test) + bias\n",
        "\n",
        "  f_act = fun_act(z)\n",
        "\n",
        "  y_prediction = np.zeros((1, X_test.shape[1]))\n",
        "\n",
        "  for _ in range(f_act.shape[1]):\n",
        "    \n",
        "    if _ <= .5:\n",
        "\n",
        "      y_prediction[0,_] == 0\n",
        "    \n",
        "    else:\n",
        "\n",
        "      y_prediction[0,_] == 1\n",
        "\n",
        "  return y_prediction"
      ],
      "execution_count": 43,
      "outputs": []
    },
    {
      "cell_type": "code",
      "metadata": {
        "id": "1Ty--H3DHgEb",
        "colab_type": "code",
        "colab": {
          "base_uri": "https://localhost:8080/",
          "height": 129
        },
        "outputId": "6b6cfc71-bc5a-4f03-e994-e59e7279996f"
      },
      "source": [
        "def logistic_regression(X_train, y_train, X_test, y_test, lr=0.5, iteration):\n",
        "\n",
        "  dimension = X_train.shape[1]\n",
        "\n",
        "  weight, bias = initialize(dimension)\n",
        "\n",
        "  parameters, gradients = Update(X_train, y_train, weight, bias, lr, iteration)\n",
        "\n",
        "  y_prediction = predict(parameters['weight'], parameters['bias'], X_test)\n",
        "\n",
        "  print('Test accuracy {:.2f}'.format((100 - np.mean(np.abs(y_prediction - y_test)) * 100))\n",
        "\n",
        "logistic_regression(X_train, y_train, X_test, y_test, 0.5, 100)"
      ],
      "execution_count": 46,
      "outputs": [
        {
          "output_type": "error",
          "ename": "SyntaxError",
          "evalue": "ignored",
          "traceback": [
            "\u001b[0;36m  File \u001b[0;32m\"<ipython-input-46-ab8ea40d73e0>\"\u001b[0;36m, line \u001b[0;32m13\u001b[0m\n\u001b[0;31m    logistic_regression(X_train, y_train, X_test, y_test, 0.5, 100)\u001b[0m\n\u001b[0m                      ^\u001b[0m\n\u001b[0;31mSyntaxError\u001b[0m\u001b[0;31m:\u001b[0m invalid syntax\n"
          ]
        }
      ]
    },
    {
      "cell_type": "code",
      "metadata": {
        "id": "19CUZmOfmxwE",
        "colab_type": "code",
        "colab": {
          "base_uri": "https://localhost:8080/",
          "height": 50
        },
        "outputId": "33a1df60-b885-4175-fbbf-ea6da7e0fc55"
      },
      "source": [
        "from sklearn.neighbors import KNeighborsClassifier\n",
        "\n",
        "n_setting = range(1,11)\n",
        "knn_test = []\n",
        "knn_train = []\n",
        "knn_index = []\n",
        "\n",
        "for i, _i in enumerate(n_setting):\n",
        "\n",
        "  knn = KNeighborsClassifier(n_neighbors=_i).fit(X_train.T, y_train.T)\n",
        "  knn_test.append(knn.score(X_test.T, y_test.T))\n",
        "  knn_train.append(knn.score(X_train.T, y_train.T))\n",
        "  knn_index.append(_i)\n",
        "\n",
        "df_knn = pd.DataFrame(data=[knn_index, knn_train, knn_test]).T\n",
        "df_knn.columns = ['N-neighbors', 'Train accuracy', 'Test accuracy']\n",
        "n_min = df_knn[df_knn['Test accuracy'] == max(df_knn['Test accuracy'])]\n",
        "n_min = n_min[n_min['Train accuracy'] == min(n_min['Train accuracy'])]\n",
        "\n",
        "_knn = KNeighborsClassifier(n_neighbors=int(n_min['N-neighbors'])).fit(X_train.T, y_train.T)\n",
        "\n",
        "acc_1 = round(_knn.score(X_test.T, y_test.T) * 100,2)\n",
        "acc_2 = round(_knn.score(X_train.T, y_train.T) * 100, 2)\n",
        "\n",
        "acc_test = {}\n",
        "\n",
        "acc_train = {}\n",
        "\n",
        "acc_test['KNeighbors Test'] = acc_1\n",
        "\n",
        "acc_train['KNeighbors Train'] = acc_2\n",
        "\n",
        "models = ()\n",
        "\n",
        "models = models + (_knn,)\n",
        "\n",
        "acc_test, acc_train\n",
        "n_min['N-neighbors']"
      ],
      "execution_count": 48,
      "outputs": [
        {
          "output_type": "execute_result",
          "data": {
            "text/plain": [
              "6    7.0\n",
              "Name: N-neighbors, dtype: float64"
            ]
          },
          "metadata": {
            "tags": []
          },
          "execution_count": 48
        }
      ]
    },
    {
      "cell_type": "code",
      "metadata": {
        "id": "BuodrKDcy0J_",
        "colab_type": "code",
        "colab": {
          "base_uri": "https://localhost:8080/",
          "height": 50
        },
        "outputId": "ae4316a8-440d-44b7-c813-011a0896cba5"
      },
      "source": [
        "from sklearn.linear_model import LogisticRegression\n",
        "\n",
        "c_setting = np.linspace(0.1, 1, 10)\n",
        "\n",
        "lr_test = []\n",
        "lr_train = []\n",
        "lr_index = []\n",
        "\n",
        "for i, _i in enumerate(c_setting):\n",
        "\n",
        "  lr = LogisticRegression(C=_i).fit(X_train.T, y_train.T)\n",
        "  \n",
        "  lr_test.append(lr.score(X_test.T, y_test.T))\n",
        "  lr_train.append(lr.score(X_train.T, y_train.T))\n",
        "  lr_index.append(_i)\n",
        "\n",
        "df_lr = pd.DataFrame(data=[lr_index, lr_train, lr_test]).T\n",
        "df_lr.columns = ['C', 'Train accuracy', 'Test accuracy']\n",
        "c_min = df_lr[df_lr['Train accuracy'] == min(df_lr['Train accuracy'])]\n",
        "c_min\n",
        "\n",
        "lr = LogisticRegression(C=float(c_min['C'])).fit(X_train.T, y_train.T)\n",
        "\n",
        "acc_1 = round(lr.score(X_test.T, y_test.T), 2) * 100\n",
        "acc_2 = round(lr.score(X_train.T, y_train.T), 2) * 100\n",
        "\n",
        "acc_test['LogisticRegression Test'] = acc_1\n",
        "acc_train['LogisticRegression Train'] = acc_2\n",
        "\n",
        "models += (lr,)\n",
        "acc_test, acc_train"
      ],
      "execution_count": 49,
      "outputs": [
        {
          "output_type": "execute_result",
          "data": {
            "text/plain": [
              "({'KNeighbors Test': 97.22, 'LogisticRegression Test': 94.0},\n",
              " {'KNeighbors Train': 95.77, 'LogisticRegression Train': 97.0})"
            ]
          },
          "metadata": {
            "tags": []
          },
          "execution_count": 49
        }
      ]
    },
    {
      "cell_type": "code",
      "metadata": {
        "id": "KC_06QMNVKgT",
        "colab_type": "code",
        "colab": {}
      },
      "source": [
        "from sklearn.svm import SVC\n",
        "\n",
        "c_setting = np.linspace(0.1,1,10)\n",
        "svc_test = []\n",
        "svc_train =[]\n",
        "svc_index =[]\n",
        "\n",
        "for i, _i in enumerate(c_setting):\n",
        "  \n",
        "  svm = SVC(C=_i).fit(X_train.T, y_train.T)\n",
        "  svc_test.append(svm.score(X_test.T, y_test.T))\n",
        "  svc_train.append(svm.score(X_train.T, y_train.T))\n",
        "  svc_index.append(_i)\n",
        "\n",
        "df_svc = pd.DataFrame(data=[svc_index, svc_train, svc_test]).T\n",
        "df_svc.columns = ['C', 'Test Accuracy', 'Train Accuracy']\n",
        "df_svc.head()\n",
        "\n",
        "df_svc[df_svc['Test Accuracy'] == max(df_svc['Test Accuracy'])]\n",
        "c_min = df_svc[df_svc['Train Accuracy'] == min(df_svc['Train Accuracy'])]\n",
        "c_min = c_min.iloc[0,0]\n",
        "\n",
        "\n",
        "c_min\n",
        "\n",
        "svm = SVC(C=c_min).fit(X_train.T, y_train.T)\n",
        "\n",
        "train_s = round(svm.score(X_train.T, y_train.T) * 100,2)\n",
        "test_s = round(svm.score(X_test.T, y_test.T) * 100,2)\n",
        "\n",
        "acc_train['SVC Train'] = train_s\n",
        "acc_test['SVC Test'] = test_s\n",
        "\n",
        "acc_test, acc_train\n",
        "\n",
        "models += (svm,)"
      ],
      "execution_count": 50,
      "outputs": []
    },
    {
      "cell_type": "code",
      "metadata": {
        "id": "9giXwGqdJD9Z",
        "colab_type": "code",
        "colab": {
          "base_uri": "https://localhost:8080/",
          "height": 470
        },
        "outputId": "957357e0-8bb0-4bda-b078-4625bf1547da"
      },
      "source": [
        "from sklearn.naive_bayes import GaussianNB\n",
        "\n",
        "nb = GaussianNB().fit(X_train.T, y_train.T)\n",
        "acc = round(nb.score(X_train.T, y_train.T) * 100, 2)\n",
        "acc_1 = round(nb.score(X_test.T, y_test.T) * 100,2)\n",
        "acc_train['GaussianNB Train'] = acc\n",
        "acc_test['GaussianNB Test'] = acc_1\n",
        "\n",
        "acc_test, acc_train\n",
        "\n",
        "models += (nb,)\n",
        "\n",
        "models"
      ],
      "execution_count": 54,
      "outputs": [
        {
          "output_type": "execute_result",
          "data": {
            "text/plain": [
              "(KNeighborsClassifier(algorithm='auto', leaf_size=30, metric='minkowski',\n",
              "                      metric_params=None, n_jobs=None, n_neighbors=7, p=2,\n",
              "                      weights='uniform'),\n",
              " LogisticRegression(C=0.1, class_weight=None, dual=False, fit_intercept=True,\n",
              "                    intercept_scaling=1, l1_ratio=None, max_iter=100,\n",
              "                    multi_class='auto', n_jobs=None, penalty='l2',\n",
              "                    random_state=None, solver='lbfgs', tol=0.0001, verbose=0,\n",
              "                    warm_start=False),\n",
              " SVC(C=0.1, break_ties=False, cache_size=200, class_weight=None, coef0=0.0,\n",
              "     decision_function_shape='ovr', degree=3, gamma='scale', kernel='rbf',\n",
              "     max_iter=-1, probability=False, random_state=None, shrinking=True,\n",
              "     tol=0.001, verbose=False),\n",
              " DecisionTreeClassifier(ccp_alpha=0.0, class_weight=None, criterion='gini',\n",
              "                        max_depth=2, max_features=None, max_leaf_nodes=None,\n",
              "                        min_impurity_decrease=0.0, min_impurity_split=None,\n",
              "                        min_samples_leaf=1, min_samples_split=2,\n",
              "                        min_weight_fraction_leaf=0.0, presort='deprecated',\n",
              "                        random_state=None, splitter='best'),\n",
              " RandomForestClassifier(bootstrap=True, ccp_alpha=0.0, class_weight=None,\n",
              "                        criterion='gini', max_depth=2, max_features='auto',\n",
              "                        max_leaf_nodes=None, max_samples=None,\n",
              "                        min_impurity_decrease=0.0, min_impurity_split=None,\n",
              "                        min_samples_leaf=1, min_samples_split=2,\n",
              "                        min_weight_fraction_leaf=0.0, n_estimators=1000,\n",
              "                        n_jobs=None, oob_score=False, random_state=1, verbose=0,\n",
              "                        warm_start=False),\n",
              " GaussianNB(priors=None, var_smoothing=1e-09))"
            ]
          },
          "metadata": {
            "tags": []
          },
          "execution_count": 54
        }
      ]
    },
    {
      "cell_type": "code",
      "metadata": {
        "id": "Z3Jby6vG7tA7",
        "colab_type": "code",
        "colab": {}
      },
      "source": [
        "from sklearn.tree import DecisionTreeClassifier\n",
        "\n",
        "d_setting = range(1,11)\n",
        "test_dtc = []\n",
        "train_dtc = []\n",
        "index_dtc = []\n",
        "\n",
        "for i, _i in enumerate(d_setting):\n",
        "\n",
        "  tree = DecisionTreeClassifier(max_depth=_i).fit(X_train.T, y_train.T)\n",
        "  test_dtc.append(tree.score(X_test.T, y_test.T))\n",
        "  train_dtc.append(tree.score(X_train.T, y_train.T))\n",
        "  index_dtc.append(_i)\n",
        "  \n",
        "df_tree = pd.DataFrame(data=[index_dtc, train_dtc, test_dtc]).T\n",
        "df_tree.columns = ['Max Depth', 'Train', 'Test']\n",
        "\n",
        "\n",
        "df_tree[df_tree['Test'] == max(df_tree['Test'])]\n",
        "df_tree[df_tree['Train'] == min(df_tree['Train'])]\n",
        "df_tree\n",
        "\n",
        "dtc = DecisionTreeClassifier(max_depth = 2).fit(X_train.T, y_train.T)\n",
        "\n",
        "acc = round(dtc.score(X_test.T, y_test.T) * 100, 2)\n",
        "acc_1 = round(dtc.score(X_train.T, y_train.T) * 100, 2)\n",
        "\n",
        "acc_test['DecisionTreeClassifier'] = acc\n",
        "acc_train['DecisionTreeClassifier'] = acc_1\n",
        "\n",
        "acc_test, acc_train\n",
        "\n",
        "models += (dtc,)"
      ],
      "execution_count": 51,
      "outputs": []
    },
    {
      "cell_type": "code",
      "metadata": {
        "id": "o7QqufiNv-1p",
        "colab_type": "code",
        "colab": {
          "base_uri": "https://localhost:8080/",
          "height": 34
        },
        "outputId": "602b3e1c-51cc-48e5-e659-b834704438ca"
      },
      "source": [
        "from sklearn.ensemble import RandomForestClassifier\n",
        "\n",
        "rfc = RandomForestClassifier(n_estimators = 1000, random_state = 1, max_depth=2).fit(X_train.T, y_train.T)\n",
        "\n",
        "acc = round(rfc.score(X_test.T, y_test.T) * 100, 2)\n",
        "acc_1 = round(rfc.score(X_train.T, y_train.T) * 100, 2)\n",
        "\n",
        "acc_test['Random Forest Classifier Test'] = acc\n",
        "acc_train['RandomForestClassifeir'] = acc_1\n",
        "\n",
        "print('Test accuracy Random Forest Classifier {:.2f}%'.format(acc))\n",
        "\n",
        "acc_test, acc_train\n",
        "\n",
        "models += (rfc,)"
      ],
      "execution_count": 52,
      "outputs": [
        {
          "output_type": "stream",
          "text": [
            "Test accuracy Random Forest Classifier 97.22%\n"
          ],
          "name": "stdout"
        }
      ]
    },
    {
      "cell_type": "code",
      "metadata": {
        "id": "bx_WvRCX6Yo9",
        "colab_type": "code",
        "colab": {
          "base_uri": "https://localhost:8080/",
          "height": 227
        },
        "outputId": "6031999d-7205-4f5f-e8e4-c8a86e1dc3c9"
      },
      "source": [
        "df_score = pd.DataFrame(data=[acc_test.keys(), acc_train.values(),acc_test.values()]).T\n",
        "df_score.columns = ['Model', 'Train Score', 'Test Score']\n",
        "\n",
        "df_score"
      ],
      "execution_count": 55,
      "outputs": [
        {
          "output_type": "execute_result",
          "data": {
            "text/html": [
              "<div>\n",
              "<style scoped>\n",
              "    .dataframe tbody tr th:only-of-type {\n",
              "        vertical-align: middle;\n",
              "    }\n",
              "\n",
              "    .dataframe tbody tr th {\n",
              "        vertical-align: top;\n",
              "    }\n",
              "\n",
              "    .dataframe thead th {\n",
              "        text-align: right;\n",
              "    }\n",
              "</style>\n",
              "<table border=\"1\" class=\"dataframe\">\n",
              "  <thead>\n",
              "    <tr style=\"text-align: right;\">\n",
              "      <th></th>\n",
              "      <th>Model</th>\n",
              "      <th>Train Score</th>\n",
              "      <th>Test Score</th>\n",
              "    </tr>\n",
              "  </thead>\n",
              "  <tbody>\n",
              "    <tr>\n",
              "      <th>0</th>\n",
              "      <td>KNeighbors Test</td>\n",
              "      <td>95.77</td>\n",
              "      <td>97.22</td>\n",
              "    </tr>\n",
              "    <tr>\n",
              "      <th>1</th>\n",
              "      <td>LogisticRegression Test</td>\n",
              "      <td>97</td>\n",
              "      <td>94</td>\n",
              "    </tr>\n",
              "    <tr>\n",
              "      <th>2</th>\n",
              "      <td>SVC Test</td>\n",
              "      <td>98.59</td>\n",
              "      <td>97.22</td>\n",
              "    </tr>\n",
              "    <tr>\n",
              "      <th>3</th>\n",
              "      <td>DecisionTreeClassifier</td>\n",
              "      <td>92.96</td>\n",
              "      <td>86.11</td>\n",
              "    </tr>\n",
              "    <tr>\n",
              "      <th>4</th>\n",
              "      <td>Random Forest Classifier Test</td>\n",
              "      <td>99.3</td>\n",
              "      <td>97.22</td>\n",
              "    </tr>\n",
              "    <tr>\n",
              "      <th>5</th>\n",
              "      <td>GaussianNB Test</td>\n",
              "      <td>98.59</td>\n",
              "      <td>100</td>\n",
              "    </tr>\n",
              "  </tbody>\n",
              "</table>\n",
              "</div>"
            ],
            "text/plain": [
              "                           Model Train Score Test Score\n",
              "0                KNeighbors Test       95.77      97.22\n",
              "1        LogisticRegression Test          97         94\n",
              "2                       SVC Test       98.59      97.22\n",
              "3         DecisionTreeClassifier       92.96      86.11\n",
              "4  Random Forest Classifier Test        99.3      97.22\n",
              "5                GaussianNB Test       98.59        100"
            ]
          },
          "metadata": {
            "tags": []
          },
          "execution_count": 55
        }
      ]
    },
    {
      "cell_type": "code",
      "metadata": {
        "id": "1pfKNUBbCev1",
        "colab_type": "code",
        "colab": {}
      },
      "source": [
        "models"
      ],
      "execution_count": null,
      "outputs": []
    },
    {
      "cell_type": "code",
      "metadata": {
        "id": "usTsNMLI6YsU",
        "colab_type": "code",
        "colab": {
          "base_uri": "https://localhost:8080/",
          "height": 318
        },
        "outputId": "e7709634-b1ae-45d2-ce88-f948eb4ae011"
      },
      "source": [
        "import mglearn\n",
        "\n",
        "mglearn.plots.plot_knn_classification(n_neighbors=7)\n",
        "  "
      ],
      "execution_count": 57,
      "outputs": [
        {
          "output_type": "stream",
          "text": [
            "/usr/local/lib/python3.6/dist-packages/sklearn/utils/deprecation.py:87: FutureWarning: Function make_blobs is deprecated; Please import make_blobs directly from scikit-learn\n",
            "  warnings.warn(msg, category=FutureWarning)\n"
          ],
          "name": "stderr"
        },
        {
          "output_type": "display_data",
          "data": {
            "image/png": "[encoded data removed]",
            "text/plain": [
              "<Figure size 432x288 with 1 Axes>"
            ]
          },
          "metadata": {
            "tags": []
          }
        }
      ]
    },
    {
      "cell_type": "code",
      "metadata": {
        "id": "DLMAQXNjqSbB",
        "colab_type": "code",
        "colab": {
          "base_uri": "https://localhost:8080/",
          "height": 368
        },
        "outputId": "1eae1dab-2753-4820-ad56-6d050e3c8e6c"
      },
      "source": [
        "mglearn.plots.plot_logistic_regression_graph()"
      ],
      "execution_count": 58,
      "outputs": [
        {
          "output_type": "execute_result",
          "data": {
            "text/plain": [
              "<graphviz.dot.Digraph at 0x7f31250302b0>"
            ],
            "image/svg+xml": "<?xml version=\"1.0\" encoding=\"UTF-8\" standalone=\"no\"?>\n<!DOCTYPE svg PUBLIC \"-//W3C//DTD SVG 1.1//EN\"\n \"http://www.w3.org/Graphics/SVG/1.1/DTD/svg11.dtd\">\n<!-- Generated by graphviz version 2.40.1 (20161225.0304)\n -->\n<!-- Title: %3 Pages: 1 -->\n<svg width=\"177pt\" height=\"261pt\"\n viewBox=\"0.00 0.00 177.00 261.00\" xmlns=\"http://www.w3.org/2000/svg\" xmlns:xlink=\"http://www.w3.org/1999/xlink\">\n<g id=\"graph0\" class=\"graph\" transform=\"scale(1 1) rotate(0) translate(4 257)\">\n<title>%3</title>\n<polygon fill=\"#ffffff\" stroke=\"transparent\" points=\"-4,4 -4,-257 173,-257 173,4 -4,4\"/>\n<g id=\"clust1\" class=\"cluster\">\n<title>cluster_0</title>\n<polygon fill=\"none\" stroke=\"#ffffff\" points=\"8,-8 8,-245 60,-245 60,-8 8,-8\"/>\n<text text-anchor=\"middle\" x=\"34\" y=\"-229.8\" font-family=\"Times,serif\" font-size=\"14.00\" fill=\"#000000\">inputs</text>\n</g>\n<g id=\"clust2\" class=\"cluster\">\n<title>cluster_2</title>\n<polygon fill=\"none\" stroke=\"#ffffff\" points=\"108,-89 108,-164 162,-164 162,-89 108,-89\"/>\n<text text-anchor=\"middle\" x=\"135\" y=\"-148.8\" font-family=\"Times,serif\" font-size=\"14.00\" fill=\"#000000\">output</text>\n</g>\n<!-- x[0] -->\n<g id=\"node1\" class=\"node\">\n<title>x[0]</title>\n<ellipse fill=\"none\" stroke=\"#000000\" cx=\"34\" cy=\"-196\" rx=\"18\" ry=\"18\"/>\n<text text-anchor=\"middle\" x=\"34\" y=\"-192.3\" font-family=\"Times,serif\" font-size=\"14.00\" fill=\"#000000\">x[0]</text>\n</g>\n<!-- y -->\n<g id=\"node5\" class=\"node\">\n<title>y</title>\n<ellipse fill=\"none\" stroke=\"#000000\" cx=\"135\" cy=\"-115\" rx=\"18\" ry=\"18\"/>\n<text text-anchor=\"middle\" x=\"135\" y=\"-111.3\" font-family=\"Times,serif\" font-size=\"14.00\" fill=\"#000000\">y</text>\n</g>\n<!-- x[0]&#45;&gt;y -->\n<g id=\"edge1\" class=\"edge\">\n<title>x[0]&#45;&gt;y</title>\n<path fill=\"none\" stroke=\"#000000\" d=\"M48.0436,-184.7373C64.8331,-171.2725 93.1341,-148.5756 112.8732,-132.7453\"/>\n<polygon fill=\"#000000\" stroke=\"#000000\" points=\"115.1386,-135.415 120.7501,-126.4282 110.7591,-129.9542 115.1386,-135.415\"/>\n<text text-anchor=\"middle\" x=\"84\" y=\"-171.8\" font-family=\"Times,serif\" font-size=\"14.00\" fill=\"#000000\">w[0]</text>\n</g>\n<!-- x[1] -->\n<g id=\"node2\" class=\"node\">\n<title>x[1]</title>\n<ellipse fill=\"none\" stroke=\"#000000\" cx=\"34\" cy=\"-142\" rx=\"18\" ry=\"18\"/>\n<text text-anchor=\"middle\" x=\"34\" y=\"-138.3\" font-family=\"Times,serif\" font-size=\"14.00\" fill=\"#000000\">x[1]</text>\n</g>\n<!-- x[1]&#45;&gt;y -->\n<g id=\"edge2\" class=\"edge\">\n<title>x[1]&#45;&gt;y</title>\n<path fill=\"none\" stroke=\"#000000\" d=\"M51.5929,-137.297C67.0894,-133.1543 89.9083,-127.0542 107.7628,-122.2812\"/>\n<polygon fill=\"#000000\" stroke=\"#000000\" points=\"108.8519,-125.6131 117.6087,-119.6491 107.0441,-118.8505 108.8519,-125.6131\"/>\n<text text-anchor=\"middle\" x=\"84\" y=\"-134.8\" font-family=\"Times,serif\" font-size=\"14.00\" fill=\"#000000\">w[1]</text>\n</g>\n<!-- x[2] -->\n<g id=\"node3\" class=\"node\">\n<title>x[2]</title>\n<ellipse fill=\"none\" stroke=\"#000000\" cx=\"34\" cy=\"-88\" rx=\"18\" ry=\"18\"/>\n<text text-anchor=\"middle\" x=\"34\" y=\"-84.3\" font-family=\"Times,serif\" font-size=\"14.00\" fill=\"#000000\">x[2]</text>\n</g>\n<!-- x[2]&#45;&gt;y -->\n<g id=\"edge3\" class=\"edge\">\n<title>x[2]&#45;&gt;y</title>\n<path fill=\"none\" stroke=\"#000000\" d=\"M51.5929,-92.703C67.0894,-96.8457 89.9083,-102.9458 107.7628,-107.7188\"/>\n<polygon fill=\"#000000\" stroke=\"#000000\" points=\"107.0441,-111.1495 117.6087,-110.3509 108.8519,-104.3869 107.0441,-111.1495\"/>\n<text text-anchor=\"middle\" x=\"84\" y=\"-107.8\" font-family=\"Times,serif\" font-size=\"14.00\" fill=\"#000000\">w[2]</text>\n</g>\n<!-- x[3] -->\n<g id=\"node4\" class=\"node\">\n<title>x[3]</title>\n<ellipse fill=\"none\" stroke=\"#000000\" cx=\"34\" cy=\"-34\" rx=\"18\" ry=\"18\"/>\n<text text-anchor=\"middle\" x=\"34\" y=\"-30.3\" font-family=\"Times,serif\" font-size=\"14.00\" fill=\"#000000\">x[3]</text>\n</g>\n<!-- x[3]&#45;&gt;y -->\n<g id=\"edge4\" class=\"edge\">\n<title>x[3]&#45;&gt;y</title>\n<path fill=\"none\" stroke=\"#000000\" d=\"M48.0436,-45.2627C64.8331,-58.7275 93.1341,-81.4244 112.8732,-97.2547\"/>\n<polygon fill=\"#000000\" stroke=\"#000000\" points=\"110.7591,-100.0458 120.7501,-103.5718 115.1386,-94.585 110.7591,-100.0458\"/>\n<text text-anchor=\"middle\" x=\"84\" y=\"-82.8\" font-family=\"Times,serif\" font-size=\"14.00\" fill=\"#000000\">w[3]</text>\n</g>\n</g>\n</svg>\n"
          },
          "metadata": {
            "tags": []
          },
          "execution_count": 58
        }
      ]
    },
    {
      "cell_type": "code",
      "metadata": {
        "id": "VkjgZf5Z0FY8",
        "colab_type": "code",
        "colab": {
          "base_uri": "https://localhost:8080/",
          "height": 264
        },
        "outputId": "736ca69e-e445-4c2b-8be7-3aab15cc658d"
      },
      "source": [
        "mglearn.plots.plot_linear_svc_regularization()"
      ],
      "execution_count": 59,
      "outputs": [
        {
          "output_type": "display_data",
          "data": {
            "image/png": "[encoded data removed]",
            "text/plain": [
              "<Figure size 864x288 with 3 Axes>"
            ]
          },
          "metadata": {
            "tags": []
          }
        }
      ]
    },
    {
      "cell_type": "code",
      "metadata": {
        "id": "FwLOxWW80FW1",
        "colab_type": "code",
        "colab": {
          "base_uri": "https://localhost:8080/",
          "height": 117
        },
        "outputId": "3d033c1b-f39f-439b-9937-7d48c90cd80c"
      },
      "source": [
        "acc_train"
      ],
      "execution_count": 60,
      "outputs": [
        {
          "output_type": "execute_result",
          "data": {
            "text/plain": [
              "{'DecisionTreeClassifier': 92.96,\n",
              " 'GaussianNB Train': 98.59,\n",
              " 'KNeighbors Train': 95.77,\n",
              " 'LogisticRegression Train': 97.0,\n",
              " 'RandomForestClassifeir': 99.3,\n",
              " 'SVC Train': 98.59}"
            ]
          },
          "metadata": {
            "tags": []
          },
          "execution_count": 60
        }
      ]
    },
    {
      "cell_type": "code",
      "metadata": {
        "id": "SsdQRjt-_RRA",
        "colab_type": "code",
        "colab": {
          "base_uri": "https://localhost:8080/",
          "height": 497
        },
        "outputId": "502cf315-16cf-4874-aa79-9126e945d22a"
      },
      "source": [
        "colors = ['purple', 'green', 'red','salmon', 'skyblue', 'magenta']\n",
        "\n",
        "sns.set_style('whitegrid')\n",
        "plt.figure(figsize=(15,8))\n",
        "plt.xlabel('Models')\n",
        "plt.ylabel('% Test Accuracy')\n",
        "plt.yticks(np.arange(0,110,10))\n",
        "sns.barplot(x=list(acc_test.keys()), y=list(acc_test.values()), palette=colors)\n",
        "plt.show()\n",
        "\n"
      ],
      "execution_count": 64,
      "outputs": [
        {
          "output_type": "display_data",
          "data": {
            "image/png": "[encoded data removed]",
            "text/plain": [
              "<Figure size 1080x576 with 1 Axes>"
            ]
          },
          "metadata": {
            "tags": []
          }
        }
      ]
    },
    {
      "cell_type": "code",
      "metadata": {
        "id": "gGVqvaMB_SuL",
        "colab_type": "code",
        "colab": {
          "base_uri": "https://localhost:8080/",
          "height": 497
        },
        "outputId": "601c1b3c-9d91-4426-8d6a-9864974944bf"
      },
      "source": [
        "sns.set_style('whitegrid')\n",
        "plt.figure(figsize=(15,8))\n",
        "plt.xlabel('Models')\n",
        "plt.ylabel('% Train Accuracy')\n",
        "plt.yticks(np.arange(0,110,10))\n",
        "sns.barplot(x=list(acc_train.keys()), y=list(acc_train.values()), palette=colors)\n",
        "plt.show()"
      ],
      "execution_count": 62,
      "outputs": [
        {
          "output_type": "display_data",
          "data": {
            "image/png": "[encoded data removed]",
            "text/plain": [
              "<Figure size 1080x576 with 1 Axes>"
            ]
          },
          "metadata": {
            "tags": []
          }
        }
      ]
    },
    {
      "cell_type": "code",
      "metadata": {
        "id": "FZ638lfq_RXq",
        "colab_type": "code",
        "colab": {}
      },
      "source": [
        "y_head_lr = lr.predict(X_test.T)\n",
        "y_head_knn = knn.predict(X_test.T)\n",
        "y_head_svm = svm.predict(X_test.T)\n",
        "y_head_nb = nb.predict(X_test.T)\n",
        "y_head_dtc = dtc.predict(X_test.T)\n",
        "y_head_rfc = rfc.predict(X_test.T)\n",
        "\n",
        "from sklearn.metrics import confusion_matrix\n",
        "\n",
        "cm_lr = confusion_matrix(y_test.T, y_head_lr)\n",
        "cm_knn = confusion_matrix(y_test.T, y_head_knn)\n",
        "cm_svm = confusion_matrix(y_test.T, y_head_svm)\n",
        "cm_nb = confusion_matrix(y_test.T, y_head_nb)\n",
        "cm_dtc = confusion_matrix(y_test.T, y_head_dtc)\n",
        "cm_rfc = confusion_matrix(y_test.T, y_head_rfc)\n"
      ],
      "execution_count": 68,
      "outputs": []
    },
    {
      "cell_type": "code",
      "metadata": {
        "id": "1HFOAo-0_RPV",
        "colab_type": "code",
        "colab": {
          "base_uri": "https://localhost:8080/",
          "height": 667
        },
        "outputId": "13870548-3f7e-49f4-da68-7e107f0fc537"
      },
      "source": [
        "plt.figure(figsize=(24,12))\n",
        "\n",
        "plt.suptitle('Confusion Matrixes', size=24)\n",
        "plt.subplots_adjust(wspace=.4, hspace=.4)\n",
        "\n",
        "plt.subplot(2,3,1)\n",
        "plt.title('Logistic Regression Confusion Matrix')\n",
        "sns.heatmap(cm_lr, cmap='Blues', annot=True, fmt='d', cbar=False, annot_kws={'size':24})\n",
        "\n",
        "plt.subplot(2,3,2)\n",
        "plt.title('KNeighborsClassifier Confusion Matrix')\n",
        "sns.heatmap(cm_knn, cmap='Blues', annot=True, fmt='d', cbar=False, annot_kws={'size':24})\n",
        "\n",
        "plt.subplot(2,3,3)\n",
        "plt.title('Support Vector Machine-Clasiffier Confusion Matrix')\n",
        "sns.heatmap(cm_svm, cmap='Blues', cbar=False, annot=True, annot_kws={'size':24}, fmt='d')\n",
        "\n",
        "plt.subplot(2,3,4)\n",
        "plt.title('Naive Bayes-GaussianNB Confusion Matrix')\n",
        "sns.heatmap(cm_nb, annot=True, cbar=False, cmap='Blues', annot_kws={'size':24}, fmt='d')\n",
        "\n",
        "plt.subplot(2,3,5)\n",
        "plt.title('DecisionTreeClassiffier Confusion Matrix')\n",
        "sns.heatmap(cm_dtc, annot=True, cmap='Blues', cbar=False, fmt='d', annot_kws={'size':24})\n",
        "\n",
        "plt.subplot(2,3,6)\n",
        "plt.title('RandomForestClasiffier Confusion Matrix')\n",
        "sns.heatmap(cm_rfc, annot=True, cmap='Blues', cbar=False, annot_kws={'size':24}, fmt='d')\n",
        "\n",
        "plt.show()"
      ],
      "execution_count": 80,
      "outputs": [
        {
          "output_type": "display_data",
          "data": {
            "image/png": "[encoded data removed]",
            "text/plain": [
              "<Figure size 1728x864 with 6 Axes>"
            ]
          },
          "metadata": {
            "tags": []
          }
        }
      ]
    },
    {
      "cell_type": "code",
      "metadata": {
        "id": "PxFAz_GAoTdY",
        "colab_type": "code",
        "colab": {}
      },
      "source": [
        ""
      ],
      "execution_count": null,
      "outputs": []
    }
  ]
}