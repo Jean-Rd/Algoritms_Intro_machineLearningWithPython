{
  "nbformat": 4,
  "nbformat_minor": 0,
  "metadata": {
    "colab": {
      "name": "48.Heart_Diased_RegLogistica.ipynb",
      "provenance": [],
      "authorship_tag": "ABX9TyMZsqFsul7xAW5wqZKPY1c8",
      "include_colab_link": true
    },
    "kernelspec": {
      "name": "python3",
      "display_name": "Python 3"
    }
  },
  "cells": [
    {
      "cell_type": "markdown",
      "metadata": {
        "id": "view-in-github",
        "colab_type": "text"
      },
      "source": [
        "<a href=\"https://colab.research.google.com/github/Jean-Rd/Algoritms_Intro_machineLearningWithPython/blob/master/48_Heart_Diased_RegLogistica.ipynb\" target=\"_parent\"><img src=\"https://colab.research.google.com/assets/colab-badge.svg\" alt=\"Open In Colab\"/></a>"
      ]
    },
    {
      "cell_type": "code",
      "metadata": {
        "id": "pY674l7HJN1c",
        "colab_type": "code",
        "colab": {
          "base_uri": "https://localhost:8080/",
          "height": 70
        },
        "outputId": "ed27a7d2-9b24-4ab4-ae24-6b7e73c1e7f7"
      },
      "source": [
        "import pandas as pd\n",
        "import numpy as np\n",
        "import seaborn as sns\n",
        "import matplotlib.pyplot as plt\n",
        "from sklearn.model_selection import train_test_split\n",
        "from sklearn.linear_model import LogisticRegression"
      ],
      "execution_count": 1,
      "outputs": [
        {
          "output_type": "stream",
          "text": [
            "/usr/local/lib/python3.6/dist-packages/statsmodels/tools/_testing.py:19: FutureWarning: pandas.util.testing is deprecated. Use the functions in the public API at pandas.testing instead.\n",
            "  import pandas.util.testing as tm\n"
          ],
          "name": "stderr"
        }
      ]
    },
    {
      "cell_type": "code",
      "metadata": {
        "id": "vIOcK93NJmq0",
        "colab_type": "code",
        "colab": {
          "base_uri": "https://localhost:8080/",
          "height": 34
        },
        "outputId": "162867e8-8322-4059-a03b-3432e697cc38"
      },
      "source": [
        "'''\n",
        "import os\n",
        "print(os.listdir('../input'))\n",
        "POR SI TENEMOS EL DATASET EN LA PC\n",
        "'''"
      ],
      "execution_count": 2,
      "outputs": [
        {
          "output_type": "execute_result",
          "data": {
            "application/vnd.google.colaboratory.intrinsic+json": {
              "type": "string"
            },
            "text/plain": [
              "\"\\nimport os\\nprint(os.listdir('../input'))\\nPOR SI TENEMOS EL DATASET EN LA PC\\n\""
            ]
          },
          "metadata": {
            "tags": []
          },
          "execution_count": 2
        }
      ]
    },
    {
      "cell_type": "code",
      "metadata": {
        "id": "GOukTMK-Jmtb",
        "colab_type": "code",
        "colab": {
          "base_uri": "https://localhost:8080/",
          "height": 100
        },
        "outputId": "2de734b4-2eb7-4ace-e965-b38fcacd988c"
      },
      "source": [
        "url = r'https://raw.githubusercontent.com/Jean-Rd/Datasets/master/heart.csv'\n",
        "\n",
        "heart_diase = pd.read_csv(url)\n",
        "\n",
        "heart_diase.head()\n",
        "\n",
        "'''\n",
        "Data contains;\n",
        "\n",
        "age - age in years\n",
        "sex - (1 = male; 0 = female)\n",
        "cp - chest pain type\n",
        "trestbps - resting blood pressure (in mm Hg on admission to the hospital)\n",
        "chol - serum cholestoral in mg/dl\n",
        "fbs - (fasting blood sugar > 120 mg/dl) (1 = true; 0 = false)\n",
        "restecg - resting electrocardiographic results\n",
        "thalach - maximum heart rate achieved\n",
        "exang - exercise induced angina (1 = yes; 0 = no)\n",
        "oldpeak - ST depression induced by exercise relative to rest\n",
        "slope - the slope of the peak exercise ST segment\n",
        "ca - number of major vessels (0-3) colored by flourosopy\n",
        "thal - 3 = normal; 6 = fixed defect; 7 = reversable defect\n",
        "target - have disease or not (1=yes, 0=no)\n",
        "'''"
      ],
      "execution_count": 3,
      "outputs": [
        {
          "output_type": "execute_result",
          "data": {
            "application/vnd.google.colaboratory.intrinsic+json": {
              "type": "string"
            },
            "text/plain": [
              "'\\nData contains;\\n\\nage - age in years\\nsex - (1 = male; 0 = female)\\ncp - chest pain type\\ntrestbps - resting blood pressure (in mm Hg on admission to the hospital)\\nchol - serum cholestoral in mg/dl\\nfbs - (fasting blood sugar > 120 mg/dl) (1 = true; 0 = false)\\nrestecg - resting electrocardiographic results\\nthalach - maximum heart rate achieved\\nexang - exercise induced angina (1 = yes; 0 = no)\\noldpeak - ST depression induced by exercise relative to rest\\nslope - the slope of the peak exercise ST segment\\nca - number of major vessels (0-3) colored by flourosopy\\nthal - 3 = normal; 6 = fixed defect; 7 = reversable defect\\ntarget - have disease or not (1=yes, 0=no)\\n'"
            ]
          },
          "metadata": {
            "tags": []
          },
          "execution_count": 3
        }
      ]
    },
    {
      "cell_type": "code",
      "metadata": {
        "id": "V29VgNw2SsKY",
        "colab_type": "code",
        "colab": {
          "base_uri": "https://localhost:8080/",
          "height": 463
        },
        "outputId": "0453a847-a9dd-4408-e20a-5e4b6e02b96e"
      },
      "source": [
        "# Exploration data\n",
        "\n",
        "print(heart_diase.target.value_counts())\n",
        "heart_diase[heart_diase['target'] == 1]\n",
        "heart_diase[heart_diase.target == 0]"
      ],
      "execution_count": 4,
      "outputs": [
        {
          "output_type": "stream",
          "text": [
            "1    165\n",
            "0    138\n",
            "Name: target, dtype: int64\n"
          ],
          "name": "stdout"
        },
        {
          "output_type": "execute_result",
          "data": {
            "text/html": [
              "<div>\n",
              "<style scoped>\n",
              "    .dataframe tbody tr th:only-of-type {\n",
              "        vertical-align: middle;\n",
              "    }\n",
              "\n",
              "    .dataframe tbody tr th {\n",
              "        vertical-align: top;\n",
              "    }\n",
              "\n",
              "    .dataframe thead th {\n",
              "        text-align: right;\n",
              "    }\n",
              "</style>\n",
              "<table border=\"1\" class=\"dataframe\">\n",
              "  <thead>\n",
              "    <tr style=\"text-align: right;\">\n",
              "      <th></th>\n",
              "      <th>age</th>\n",
              "      <th>sex</th>\n",
              "      <th>cp</th>\n",
              "      <th>trestbps</th>\n",
              "      <th>chol</th>\n",
              "      <th>fbs</th>\n",
              "      <th>restecg</th>\n",
              "      <th>thalach</th>\n",
              "      <th>exang</th>\n",
              "      <th>oldpeak</th>\n",
              "      <th>slope</th>\n",
              "      <th>ca</th>\n",
              "      <th>thal</th>\n",
              "      <th>target</th>\n",
              "    </tr>\n",
              "  </thead>\n",
              "  <tbody>\n",
              "    <tr>\n",
              "      <th>165</th>\n",
              "      <td>67</td>\n",
              "      <td>1</td>\n",
              "      <td>0</td>\n",
              "      <td>160</td>\n",
              "      <td>286</td>\n",
              "      <td>0</td>\n",
              "      <td>0</td>\n",
              "      <td>108</td>\n",
              "      <td>1</td>\n",
              "      <td>1.5</td>\n",
              "      <td>1</td>\n",
              "      <td>3</td>\n",
              "      <td>2</td>\n",
              "      <td>0</td>\n",
              "    </tr>\n",
              "    <tr>\n",
              "      <th>166</th>\n",
              "      <td>67</td>\n",
              "      <td>1</td>\n",
              "      <td>0</td>\n",
              "      <td>120</td>\n",
              "      <td>229</td>\n",
              "      <td>0</td>\n",
              "      <td>0</td>\n",
              "      <td>129</td>\n",
              "      <td>1</td>\n",
              "      <td>2.6</td>\n",
              "      <td>1</td>\n",
              "      <td>2</td>\n",
              "      <td>3</td>\n",
              "      <td>0</td>\n",
              "    </tr>\n",
              "    <tr>\n",
              "      <th>167</th>\n",
              "      <td>62</td>\n",
              "      <td>0</td>\n",
              "      <td>0</td>\n",
              "      <td>140</td>\n",
              "      <td>268</td>\n",
              "      <td>0</td>\n",
              "      <td>0</td>\n",
              "      <td>160</td>\n",
              "      <td>0</td>\n",
              "      <td>3.6</td>\n",
              "      <td>0</td>\n",
              "      <td>2</td>\n",
              "      <td>2</td>\n",
              "      <td>0</td>\n",
              "    </tr>\n",
              "    <tr>\n",
              "      <th>168</th>\n",
              "      <td>63</td>\n",
              "      <td>1</td>\n",
              "      <td>0</td>\n",
              "      <td>130</td>\n",
              "      <td>254</td>\n",
              "      <td>0</td>\n",
              "      <td>0</td>\n",
              "      <td>147</td>\n",
              "      <td>0</td>\n",
              "      <td>1.4</td>\n",
              "      <td>1</td>\n",
              "      <td>1</td>\n",
              "      <td>3</td>\n",
              "      <td>0</td>\n",
              "    </tr>\n",
              "    <tr>\n",
              "      <th>169</th>\n",
              "      <td>53</td>\n",
              "      <td>1</td>\n",
              "      <td>0</td>\n",
              "      <td>140</td>\n",
              "      <td>203</td>\n",
              "      <td>1</td>\n",
              "      <td>0</td>\n",
              "      <td>155</td>\n",
              "      <td>1</td>\n",
              "      <td>3.1</td>\n",
              "      <td>0</td>\n",
              "      <td>0</td>\n",
              "      <td>3</td>\n",
              "      <td>0</td>\n",
              "    </tr>\n",
              "    <tr>\n",
              "      <th>...</th>\n",
              "      <td>...</td>\n",
              "      <td>...</td>\n",
              "      <td>...</td>\n",
              "      <td>...</td>\n",
              "      <td>...</td>\n",
              "      <td>...</td>\n",
              "      <td>...</td>\n",
              "      <td>...</td>\n",
              "      <td>...</td>\n",
              "      <td>...</td>\n",
              "      <td>...</td>\n",
              "      <td>...</td>\n",
              "      <td>...</td>\n",
              "      <td>...</td>\n",
              "    </tr>\n",
              "    <tr>\n",
              "      <th>298</th>\n",
              "      <td>57</td>\n",
              "      <td>0</td>\n",
              "      <td>0</td>\n",
              "      <td>140</td>\n",
              "      <td>241</td>\n",
              "      <td>0</td>\n",
              "      <td>1</td>\n",
              "      <td>123</td>\n",
              "      <td>1</td>\n",
              "      <td>0.2</td>\n",
              "      <td>1</td>\n",
              "      <td>0</td>\n",
              "      <td>3</td>\n",
              "      <td>0</td>\n",
              "    </tr>\n",
              "    <tr>\n",
              "      <th>299</th>\n",
              "      <td>45</td>\n",
              "      <td>1</td>\n",
              "      <td>3</td>\n",
              "      <td>110</td>\n",
              "      <td>264</td>\n",
              "      <td>0</td>\n",
              "      <td>1</td>\n",
              "      <td>132</td>\n",
              "      <td>0</td>\n",
              "      <td>1.2</td>\n",
              "      <td>1</td>\n",
              "      <td>0</td>\n",
              "      <td>3</td>\n",
              "      <td>0</td>\n",
              "    </tr>\n",
              "    <tr>\n",
              "      <th>300</th>\n",
              "      <td>68</td>\n",
              "      <td>1</td>\n",
              "      <td>0</td>\n",
              "      <td>144</td>\n",
              "      <td>193</td>\n",
              "      <td>1</td>\n",
              "      <td>1</td>\n",
              "      <td>141</td>\n",
              "      <td>0</td>\n",
              "      <td>3.4</td>\n",
              "      <td>1</td>\n",
              "      <td>2</td>\n",
              "      <td>3</td>\n",
              "      <td>0</td>\n",
              "    </tr>\n",
              "    <tr>\n",
              "      <th>301</th>\n",
              "      <td>57</td>\n",
              "      <td>1</td>\n",
              "      <td>0</td>\n",
              "      <td>130</td>\n",
              "      <td>131</td>\n",
              "      <td>0</td>\n",
              "      <td>1</td>\n",
              "      <td>115</td>\n",
              "      <td>1</td>\n",
              "      <td>1.2</td>\n",
              "      <td>1</td>\n",
              "      <td>1</td>\n",
              "      <td>3</td>\n",
              "      <td>0</td>\n",
              "    </tr>\n",
              "    <tr>\n",
              "      <th>302</th>\n",
              "      <td>57</td>\n",
              "      <td>0</td>\n",
              "      <td>1</td>\n",
              "      <td>130</td>\n",
              "      <td>236</td>\n",
              "      <td>0</td>\n",
              "      <td>0</td>\n",
              "      <td>174</td>\n",
              "      <td>0</td>\n",
              "      <td>0.0</td>\n",
              "      <td>1</td>\n",
              "      <td>1</td>\n",
              "      <td>2</td>\n",
              "      <td>0</td>\n",
              "    </tr>\n",
              "  </tbody>\n",
              "</table>\n",
              "<p>138 rows × 14 columns</p>\n",
              "</div>"
            ],
            "text/plain": [
              "     age  sex  cp  trestbps  chol  fbs  ...  exang  oldpeak  slope  ca  thal  target\n",
              "165   67    1   0       160   286    0  ...      1      1.5      1   3     2       0\n",
              "166   67    1   0       120   229    0  ...      1      2.6      1   2     3       0\n",
              "167   62    0   0       140   268    0  ...      0      3.6      0   2     2       0\n",
              "168   63    1   0       130   254    0  ...      0      1.4      1   1     3       0\n",
              "169   53    1   0       140   203    1  ...      1      3.1      0   0     3       0\n",
              "..   ...  ...  ..       ...   ...  ...  ...    ...      ...    ...  ..   ...     ...\n",
              "298   57    0   0       140   241    0  ...      1      0.2      1   0     3       0\n",
              "299   45    1   3       110   264    0  ...      0      1.2      1   0     3       0\n",
              "300   68    1   0       144   193    1  ...      0      3.4      1   2     3       0\n",
              "301   57    1   0       130   131    0  ...      1      1.2      1   1     3       0\n",
              "302   57    0   1       130   236    0  ...      0      0.0      1   1     2       0\n",
              "\n",
              "[138 rows x 14 columns]"
            ]
          },
          "metadata": {
            "tags": []
          },
          "execution_count": 4
        }
      ]
    },
    {
      "cell_type": "code",
      "metadata": {
        "id": "kOg9BZnlT5EJ",
        "colab_type": "code",
        "colab": {
          "base_uri": "https://localhost:8080/",
          "height": 346
        },
        "outputId": "87aaedd1-1299-403d-bde2-0e34476b7643"
      },
      "source": [
        "# Ahora graficaremos los datos de tipo target(solo veremos la cantidad de estos en barras)\n",
        "\n",
        "sns.countplot(x=heart_diase.target, data=heart_diase, palette='bwr')\n",
        "plt.show()\n",
        "\n",
        "'''\n",
        "sns.countplot() --> nos grafica la cantidad de datos en patelas segun un objetivo y datos\n",
        "- x --> este parameto en para ingresar el objetivo que contara\n",
        "- data --> aca ingresamos el conjunto de datos o DataFrame\n",
        "- palette --> 'bwr' es para dar colores mas calido(mas bonito), sin esto se ve medio feo color mglearn\n",
        "LO BUENO DE USAR ESTO ES QUE POR DEFECTO SEABORN YA AGREGA LOS LABEL EN X ^ Y POR DEFECTO, AHORRANDONOS LINEAS;\n",
        "AL IGUAL QUE SUS TICKS EN X(MUY BUENO SEABORN)\n",
        "'''"
      ],
      "execution_count": 5,
      "outputs": [
        {
          "output_type": "display_data",
          "data": {
            "image/png": "[encoded data removed]",
            "text/plain": [
              "<Figure size 432x288 with 1 Axes>"
            ]
          },
          "metadata": {
            "tags": [],
            "needs_background": "light"
          }
        },
        {
          "output_type": "execute_result",
          "data": {
            "application/vnd.google.colaboratory.intrinsic+json": {
              "type": "string"
            },
            "text/plain": [
              "\"\\nsns.countplot() --> nos grafica la cantidad de datos en patelas segun un objetivo y datos\\n- x --> este parameto en para ingresar el objetivo que contara\\n- data --> aca ingresamos el conjunto de datos o DataFrame\\n- palette --> 'bwr' es para dar colores mas calido(mas bonito), sin esto se ve medio feo color mglearn\\nLO BUENO DE USAR ESTO ES QUE POR DEFECTO SEABORN YA AGREGA LOS LABEL EN X ^ Y POR DEFECTO, AHORRANDONOS LINEAS;\\nAL IGUAL QUE SUS TICKS EN X(MUY BUENO SEABORN)\\n\""
            ]
          },
          "metadata": {
            "tags": []
          },
          "execution_count": 5
        }
      ]
    },
    {
      "cell_type": "code",
      "metadata": {
        "id": "1i82g3dOZKF4",
        "colab_type": "code",
        "colab": {
          "base_uri": "https://localhost:8080/",
          "height": 295
        },
        "outputId": "55635d66-d7f5-4d26-9364-ad12c0580835"
      },
      "source": [
        "sns.countplot(x=heart_diase.sex, data=heart_diase, palette='bwr')"
      ],
      "execution_count": 6,
      "outputs": [
        {
          "output_type": "execute_result",
          "data": {
            "text/plain": [
              "<matplotlib.axes._subplots.AxesSubplot at 0x7fe6c31e00f0>"
            ]
          },
          "metadata": {
            "tags": []
          },
          "execution_count": 6
        },
        {
          "output_type": "display_data",
          "data": {
            "image/png": "[encoded data removed]",
            "text/plain": [
              "<Figure size 432x288 with 1 Axes>"
            ]
          },
          "metadata": {
            "tags": [],
            "needs_background": "light"
          }
        }
      ]
    },
    {
      "cell_type": "code",
      "metadata": {
        "id": "3im8xg-QUV5L",
        "colab_type": "code",
        "colab": {
          "base_uri": "https://localhost:8080/",
          "height": 50
        },
        "outputId": "c26524af-ce89-46f3-af45-c4ef39c92135"
      },
      "source": [
        "# Ahorra aremos un conteo de los humanos xd que tienen enfermedad y lo imprimiremos en porcentual\n",
        "\n",
        "countnoDiase = len(heart_diase[heart_diase.target == 0])\n",
        "counthaveDiase = len(heart_diase[heart_diase.target == 1])\n",
        "target_count = list(heart_diase.target.value_counts()) # cuenta los diferentes target de mayor a menor(usar cuando dominemos)\n",
        "\n",
        "print(\"Percentage of patients haven't heart diase: {:.2f}%\".format((countnoDiase / len(heart_diase.target) * 100)))\n",
        "print('Percentage of patients have heart diase: {:.2f}%'.format((counthaveDiase / len(heart_diase.target) * 100)))\n",
        "\n",
        "# Alternative\n",
        "#print('{:.2f}'.format((target_count[0] / len(heart_diase)* 100)))\n",
        "#print('{:.2f}'.format((target_count[1] / len(heart_diase)* 100)))"
      ],
      "execution_count": 7,
      "outputs": [
        {
          "output_type": "stream",
          "text": [
            "Percentage of patients haven't heart diase: 45.54%\n",
            "Percentage of patients have heart diase: 54.46%\n"
          ],
          "name": "stdout"
        }
      ]
    },
    {
      "cell_type": "code",
      "metadata": {
        "id": "mREShFegYzeX",
        "colab_type": "code",
        "colab": {
          "base_uri": "https://localhost:8080/",
          "height": 345
        },
        "outputId": "0ffbaa57-7ac1-491b-ae3e-133115b387e8"
      },
      "source": [
        "# Ahora contamos el sexo de todas las personas e imprimimos la cantidad de hombres y mujeres in porcentual\n",
        "\n",
        "print('Percentage of females patients: {:.2f}%'.format((len(heart_diase[heart_diase.sex == 0]) / len(heart_diase)) * 100))\n",
        "print('Number of females: {}'.format(len(heart_diase[heart_diase.sex == 0])))\n",
        "print('Percentage of males patients: {:.2f}%'.format((len(heart_diase[heart_diase.sex == 1]) / len(heart_diase.sex)) * 100))\n",
        "print('Number of males: {}'.format(len(heart_diase[heart_diase.sex == 1])))\n",
        "\n",
        "sns.countplot(x=heart_diase.sex, data=heart_diase, palette='mako_r')\n",
        "plt.xlabel('Sex (0 --> Female, 1 --> Male)')\n",
        "plt.show()"
      ],
      "execution_count": 8,
      "outputs": [
        {
          "output_type": "stream",
          "text": [
            "Percentage of females patients: 31.68%\n",
            "Number of females: 96\n",
            "Percentage of males patients: 68.32%\n",
            "Number of males: 207\n"
          ],
          "name": "stdout"
        },
        {
          "output_type": "display_data",
          "data": {
            "image/png": "[encoded data removed]",
            "text/plain": [
              "<Figure size 432x288 with 1 Axes>"
            ]
          },
          "metadata": {
            "tags": [],
            "needs_background": "light"
          }
        }
      ]
    },
    {
      "cell_type": "code",
      "metadata": {
        "id": "NgRY9htdckmF",
        "colab_type": "code",
        "colab": {
          "base_uri": "https://localhost:8080/",
          "height": 140
        },
        "outputId": "0965c83d-2670-4835-a84b-cb21e520b05c"
      },
      "source": [
        "# Realizamos un groupby segun target y sacamos la media de todas las features. \n",
        "# groupby separa los datos iguales segun la feature que le pases, para luego realizar calculos con este\n",
        "\n",
        "heart_diase.groupby('target').mean()"
      ],
      "execution_count": 9,
      "outputs": [
        {
          "output_type": "execute_result",
          "data": {
            "text/html": [
              "<div>\n",
              "<style scoped>\n",
              "    .dataframe tbody tr th:only-of-type {\n",
              "        vertical-align: middle;\n",
              "    }\n",
              "\n",
              "    .dataframe tbody tr th {\n",
              "        vertical-align: top;\n",
              "    }\n",
              "\n",
              "    .dataframe thead th {\n",
              "        text-align: right;\n",
              "    }\n",
              "</style>\n",
              "<table border=\"1\" class=\"dataframe\">\n",
              "  <thead>\n",
              "    <tr style=\"text-align: right;\">\n",
              "      <th></th>\n",
              "      <th>age</th>\n",
              "      <th>sex</th>\n",
              "      <th>cp</th>\n",
              "      <th>trestbps</th>\n",
              "      <th>chol</th>\n",
              "      <th>fbs</th>\n",
              "      <th>restecg</th>\n",
              "      <th>thalach</th>\n",
              "      <th>exang</th>\n",
              "      <th>oldpeak</th>\n",
              "      <th>slope</th>\n",
              "      <th>ca</th>\n",
              "      <th>thal</th>\n",
              "    </tr>\n",
              "    <tr>\n",
              "      <th>target</th>\n",
              "      <th></th>\n",
              "      <th></th>\n",
              "      <th></th>\n",
              "      <th></th>\n",
              "      <th></th>\n",
              "      <th></th>\n",
              "      <th></th>\n",
              "      <th></th>\n",
              "      <th></th>\n",
              "      <th></th>\n",
              "      <th></th>\n",
              "      <th></th>\n",
              "      <th></th>\n",
              "    </tr>\n",
              "  </thead>\n",
              "  <tbody>\n",
              "    <tr>\n",
              "      <th>0</th>\n",
              "      <td>56.601449</td>\n",
              "      <td>0.826087</td>\n",
              "      <td>0.478261</td>\n",
              "      <td>134.398551</td>\n",
              "      <td>251.086957</td>\n",
              "      <td>0.159420</td>\n",
              "      <td>0.449275</td>\n",
              "      <td>139.101449</td>\n",
              "      <td>0.550725</td>\n",
              "      <td>1.585507</td>\n",
              "      <td>1.166667</td>\n",
              "      <td>1.166667</td>\n",
              "      <td>2.543478</td>\n",
              "    </tr>\n",
              "    <tr>\n",
              "      <th>1</th>\n",
              "      <td>52.496970</td>\n",
              "      <td>0.563636</td>\n",
              "      <td>1.375758</td>\n",
              "      <td>129.303030</td>\n",
              "      <td>242.230303</td>\n",
              "      <td>0.139394</td>\n",
              "      <td>0.593939</td>\n",
              "      <td>158.466667</td>\n",
              "      <td>0.139394</td>\n",
              "      <td>0.583030</td>\n",
              "      <td>1.593939</td>\n",
              "      <td>0.363636</td>\n",
              "      <td>2.121212</td>\n",
              "    </tr>\n",
              "  </tbody>\n",
              "</table>\n",
              "</div>"
            ],
            "text/plain": [
              "              age       sex        cp  ...     slope        ca      thal\n",
              "target                                 ...                              \n",
              "0       56.601449  0.826087  0.478261  ...  1.166667  1.166667  2.543478\n",
              "1       52.496970  0.563636  1.375758  ...  1.593939  0.363636  2.121212\n",
              "\n",
              "[2 rows x 13 columns]"
            ]
          },
          "metadata": {
            "tags": []
          },
          "execution_count": 9
        }
      ]
    },
    {
      "cell_type": "code",
      "metadata": {
        "id": "5zMePUhDacDS",
        "colab_type": "code",
        "colab": {
          "base_uri": "https://localhost:8080/",
          "height": 541
        },
        "outputId": "f91cda57-ea60-42fb-e61e-1b88452572c1"
      },
      "source": [
        "# graficaremos la frecuencia por edad de personas que estan enfermas del corazon\n",
        "\n",
        "pd.crosstab(heart_diase.age, heart_diase.target).plot(kind='bar', figsize=(20, 8))\n",
        "plt.xticks(c='black')\n",
        "plt.yticks(c='black')\n",
        "plt.xlabel('Age', size=18)\n",
        "plt.ylabel(\"Frequency\", size=18)\n",
        "plt.title('Heart Diseases Frequency For Ages', size=25)\n",
        "plt.savefig('FrequencyForAgesHeartDiseases.png')\n",
        "plt.legend([\"Haven't Diseased\", 'Have Diseased'])\n",
        "plt.show()\n",
        "\n",
        "\n",
        "\n",
        "'''\n",
        "pd.crosstab() --> calcula una matriz de frecuencia por edades segun este caso\n",
        "- primer parametro ->  eje x parametro absisa\n",
        "- second parametro -> eje y la frecuencia\n",
        "\n",
        "del grafico\n",
        "\n",
        "en el eje 'y' se muestra la cantidad de personas con heart diase ^ en el eje x la edad\n",
        "'''"
      ],
      "execution_count": 10,
      "outputs": [
        {
          "output_type": "display_data",
          "data": {
            "image/png": "[encoded data removed]",
            "text/plain": [
              "<Figure size 1440x576 with 1 Axes>"
            ]
          },
          "metadata": {
            "tags": [],
            "needs_background": "light"
          }
        },
        {
          "output_type": "execute_result",
          "data": {
            "application/vnd.google.colaboratory.intrinsic+json": {
              "type": "string"
            },
            "text/plain": [
              "\"\\npd.crosstab() --> calcula una matriz de frecuencia por edades segun este caso\\n- primer parametro ->  eje x parametro absisa\\n- second parametro -> eje y la frecuencia\\n\\ndel grafico\\n\\nen el eje 'y' se muestra la cantidad de personas con heart diase ^ en el eje x la edad\\n\""
            ]
          },
          "metadata": {
            "tags": []
          },
          "execution_count": 10
        }
      ]
    },
    {
      "cell_type": "code",
      "metadata": {
        "id": "nfSFC8fxhoo_",
        "colab_type": "code",
        "colab": {
          "base_uri": "https://localhost:8080/",
          "height": 526
        },
        "outputId": "665987e2-e171-4eb1-be55-8739f5cb2a86"
      },
      "source": [
        "# frequency de las personas con heart diase segun el sexo.\n",
        "\n",
        "pd.crosstab(heart_diase.sex, heart_diase.target).plot(kind='bar', figsize=(15,8), color=['#1CA53B','#AA1111' ])\n",
        "plt.xticks(rotation=0, size=13)\n",
        "plt.title('Frequency Heart Diseased for Sex', size=20)\n",
        "plt.legend([\"Haven't Diseased\", 'Have Diseased'])\n",
        "plt.xlabel('Sex (0 -> Female, 1 -> Male)', size=15)\n",
        "plt.ylabel('Frequency', size=15)\n",
        "plt.savefig('FrequencyHeartDiseasedForSex.png')\n",
        "plt.show()\n",
        "\n",
        "# ['#1CA53B','#AA1111' ] -> color bandera de la paz xd; [0]-verde(m), [1]-red;guindo(m)"
      ],
      "execution_count": 11,
      "outputs": [
        {
          "output_type": "display_data",
          "data": {
            "image/png": "[encoded data removed]",
            "text/plain": [
              "<Figure size 1080x576 with 1 Axes>"
            ]
          },
          "metadata": {
            "tags": [],
            "needs_background": "light"
          }
        }
      ]
    },
    {
      "cell_type": "code",
      "metadata": {
        "id": "Bv6eOULDhpSc",
        "colab_type": "code",
        "colab": {
          "base_uri": "https://localhost:8080/",
          "height": 295
        },
        "outputId": "c6f96c5a-3c9f-4d80-8152-fea5ebed944f"
      },
      "source": [
        "'''\n",
        "graficamos las personas que tienen ^ que no tienen heart diseases\n",
        "blue -> havent's heart diseased but yes suffered from heart rate\n",
        "salmon -> have heart diseased ant too suffered from heart rate\n",
        "'''\n",
        "\n",
        "plt.scatter(x=heart_diase.age[heart_diase.target == 0], y=heart_diase.thalach[heart_diase.target == 0], c='blue', alpha=.6)\n",
        "plt.scatter(x=heart_diase.age[heart_diase.target == 1], y=heart_diase.thalach[heart_diase.target == 1], c='salmon', alpha=.6)\n",
        "plt.legend([\"Haven't Diseased\", 'Have Diseased'], loc=3)\n",
        "plt.xlabel('Age')\n",
        "plt.ylabel('Max Heart Rate')\n",
        "plt.title('Max Heart Rate According To Age')\n",
        "plt.savefig('MaxHeartRateAccordingToAge.png')\n",
        "plt.show()"
      ],
      "execution_count": 12,
      "outputs": [
        {
          "output_type": "display_data",
          "data": {
            "image/png": "[encoded data removed]",
            "text/plain": [
              "<Figure size 432x288 with 1 Axes>"
            ]
          },
          "metadata": {
            "tags": [],
            "needs_background": "light"
          }
        }
      ]
    },
    {
      "cell_type": "code",
      "metadata": {
        "id": "nJxw9IuDllsu",
        "colab_type": "code",
        "colab": {
          "base_uri": "https://localhost:8080/",
          "height": 414
        },
        "outputId": "79d0c38f-113c-4394-bcb5-c9982c16d339"
      },
      "source": [
        "'''\n",
        "Frecuencia de enfermedad cardíaca para pendiente, esto es la frecuencia con que tenian\n",
        "algo parecido a un paro cardiaco o es lo que creo\n",
        "'''\n",
        "\n",
        "pd.crosstab(heart_diase.slope, heart_diase.target).plot(kind='bar', figsize=(15,6), color=['#DAF7A6','#FF5733'])\n",
        "plt.title('Heart Disease Frequency for slope', size=(20))\n",
        "plt.xlabel('The Slope of The Peak Exercise ST Segment', size=15)\n",
        "plt.ylabel('Frequency', size=15)\n",
        "plt.xticks(rotation = 0)\n",
        "plt.savefig('HeartDiseaseFrequencyForSlope.png')\n",
        "plt.show()"
      ],
      "execution_count": 13,
      "outputs": [
        {
          "output_type": "display_data",
          "data": {
            "image/png": "[encoded data removed]",
            "text/plain": [
              "<Figure size 1080x432 with 1 Axes>"
            ]
          },
          "metadata": {
            "tags": [],
            "needs_background": "light"
          }
        }
      ]
    },
    {
      "cell_type": "code",
      "metadata": {
        "id": "RewivGoQuXXc",
        "colab_type": "code",
        "colab": {
          "base_uri": "https://localhost:8080/",
          "height": 414
        },
        "outputId": "665e936e-1a71-4186-db39-575ce90715e9"
      },
      "source": [
        "pd.crosstab(heart_diase.fbs, heart_diase.target).plot(kind='bar', figsize=(15,6), color=['#FFC300','#581845' ])\n",
        "plt.xticks(rotation=0)\n",
        "plt.title('Heart Disease Frequency According To FBS', size=20)\n",
        "plt.legend([\"Haven't Deseased\", 'Haven Deseased'])\n",
        "plt.ylabel('Frequency', size=15)\n",
        "plt.xlabel('FBS - (Fasting Blood Sugar > 120 mg/dl) (1 = true; 0 = false)', size=15)\n",
        "plt.savefig('FrequencyHeartDiseasedForFBS.png')\n",
        "plt.show()"
      ],
      "execution_count": 14,
      "outputs": [
        {
          "output_type": "display_data",
          "data": {
            "image/png": "[encoded data removed]",
            "text/plain": [
              "<Figure size 1080x432 with 1 Axes>"
            ]
          },
          "metadata": {
            "tags": [],
            "needs_background": "light"
          }
        }
      ]
    },
    {
      "cell_type": "code",
      "metadata": {
        "id": "0jBgtlMzt1Bc",
        "colab_type": "code",
        "colab": {
          "base_uri": "https://localhost:8080/",
          "height": 414
        },
        "outputId": "d15d7326-6c15-47f4-fb75-f98bcaa5fbdb"
      },
      "source": [
        "# Frequency segun el tipo de dolor pecho\n",
        "\n",
        "pd.crosstab(heart_diase.cp, heart_diase.target).plot(kind='bar', figsize=(15,6), color=['#11A5AA','#AA1190' ])\n",
        "plt.xticks(rotation=0)\n",
        "plt.ylabel('Frequency', size=15)\n",
        "plt.xlabel('chest pain type', size=15)\n",
        "plt.title('Heart Diseased Frequency According to Chest Pain Type', size=20)\n",
        "plt.savefig('HeartDiseasedFrequencyAccordingToChestPainType.png')\n",
        "plt.show()"
      ],
      "execution_count": 15,
      "outputs": [
        {
          "output_type": "display_data",
          "data": {
            "image/png": "[encoded data removed]",
            "text/plain": [
              "<Figure size 1080x432 with 1 Axes>"
            ]
          },
          "metadata": {
            "tags": [],
            "needs_background": "light"
          }
        }
      ]
    },
    {
      "cell_type": "code",
      "metadata": {
        "id": "FQjtj4WqSEiJ",
        "colab_type": "code",
        "colab": {
          "base_uri": "https://localhost:8080/",
          "height": 201
        },
        "outputId": "439a5704-4ede-4ea7-97a0-3a0662cc6513"
      },
      "source": [
        "heart_diase.head()"
      ],
      "execution_count": 16,
      "outputs": [
        {
          "output_type": "execute_result",
          "data": {
            "text/html": [
              "<div>\n",
              "<style scoped>\n",
              "    .dataframe tbody tr th:only-of-type {\n",
              "        vertical-align: middle;\n",
              "    }\n",
              "\n",
              "    .dataframe tbody tr th {\n",
              "        vertical-align: top;\n",
              "    }\n",
              "\n",
              "    .dataframe thead th {\n",
              "        text-align: right;\n",
              "    }\n",
              "</style>\n",
              "<table border=\"1\" class=\"dataframe\">\n",
              "  <thead>\n",
              "    <tr style=\"text-align: right;\">\n",
              "      <th></th>\n",
              "      <th>age</th>\n",
              "      <th>sex</th>\n",
              "      <th>cp</th>\n",
              "      <th>trestbps</th>\n",
              "      <th>chol</th>\n",
              "      <th>fbs</th>\n",
              "      <th>restecg</th>\n",
              "      <th>thalach</th>\n",
              "      <th>exang</th>\n",
              "      <th>oldpeak</th>\n",
              "      <th>slope</th>\n",
              "      <th>ca</th>\n",
              "      <th>thal</th>\n",
              "      <th>target</th>\n",
              "    </tr>\n",
              "  </thead>\n",
              "  <tbody>\n",
              "    <tr>\n",
              "      <th>0</th>\n",
              "      <td>63</td>\n",
              "      <td>1</td>\n",
              "      <td>3</td>\n",
              "      <td>145</td>\n",
              "      <td>233</td>\n",
              "      <td>1</td>\n",
              "      <td>0</td>\n",
              "      <td>150</td>\n",
              "      <td>0</td>\n",
              "      <td>2.3</td>\n",
              "      <td>0</td>\n",
              "      <td>0</td>\n",
              "      <td>1</td>\n",
              "      <td>1</td>\n",
              "    </tr>\n",
              "    <tr>\n",
              "      <th>1</th>\n",
              "      <td>37</td>\n",
              "      <td>1</td>\n",
              "      <td>2</td>\n",
              "      <td>130</td>\n",
              "      <td>250</td>\n",
              "      <td>0</td>\n",
              "      <td>1</td>\n",
              "      <td>187</td>\n",
              "      <td>0</td>\n",
              "      <td>3.5</td>\n",
              "      <td>0</td>\n",
              "      <td>0</td>\n",
              "      <td>2</td>\n",
              "      <td>1</td>\n",
              "    </tr>\n",
              "    <tr>\n",
              "      <th>2</th>\n",
              "      <td>41</td>\n",
              "      <td>0</td>\n",
              "      <td>1</td>\n",
              "      <td>130</td>\n",
              "      <td>204</td>\n",
              "      <td>0</td>\n",
              "      <td>0</td>\n",
              "      <td>172</td>\n",
              "      <td>0</td>\n",
              "      <td>1.4</td>\n",
              "      <td>2</td>\n",
              "      <td>0</td>\n",
              "      <td>2</td>\n",
              "      <td>1</td>\n",
              "    </tr>\n",
              "    <tr>\n",
              "      <th>3</th>\n",
              "      <td>56</td>\n",
              "      <td>1</td>\n",
              "      <td>1</td>\n",
              "      <td>120</td>\n",
              "      <td>236</td>\n",
              "      <td>0</td>\n",
              "      <td>1</td>\n",
              "      <td>178</td>\n",
              "      <td>0</td>\n",
              "      <td>0.8</td>\n",
              "      <td>2</td>\n",
              "      <td>0</td>\n",
              "      <td>2</td>\n",
              "      <td>1</td>\n",
              "    </tr>\n",
              "    <tr>\n",
              "      <th>4</th>\n",
              "      <td>57</td>\n",
              "      <td>0</td>\n",
              "      <td>0</td>\n",
              "      <td>120</td>\n",
              "      <td>354</td>\n",
              "      <td>0</td>\n",
              "      <td>1</td>\n",
              "      <td>163</td>\n",
              "      <td>1</td>\n",
              "      <td>0.6</td>\n",
              "      <td>2</td>\n",
              "      <td>0</td>\n",
              "      <td>2</td>\n",
              "      <td>1</td>\n",
              "    </tr>\n",
              "  </tbody>\n",
              "</table>\n",
              "</div>"
            ],
            "text/plain": [
              "   age  sex  cp  trestbps  chol  fbs  ...  exang  oldpeak  slope  ca  thal  target\n",
              "0   63    1   3       145   233    1  ...      0      2.3      0   0     1       1\n",
              "1   37    1   2       130   250    0  ...      0      3.5      0   0     2       1\n",
              "2   41    0   1       130   204    0  ...      0      1.4      2   0     2       1\n",
              "3   56    1   1       120   236    0  ...      0      0.8      2   0     2       1\n",
              "4   57    0   0       120   354    0  ...      1      0.6      2   0     2       1\n",
              "\n",
              "[5 rows x 14 columns]"
            ]
          },
          "metadata": {
            "tags": []
          },
          "execution_count": 16
        }
      ]
    },
    {
      "cell_type": "code",
      "metadata": {
        "id": "x---JiqoHYag",
        "colab_type": "code",
        "colab": {
          "base_uri": "https://localhost:8080/",
          "height": 221
        },
        "outputId": "8b93838c-4251-41cd-e8ed-5fd09be0bef1"
      },
      "source": [
        "# CREATING DUMMY VARIABLES\n",
        "\n",
        "'''\n",
        "Since 'cp', 'thal' and 'slope' are categorical variables we'll turn them into dummy variables.\n",
        "Como 'cp', 'thal' y 'pendiente' son variables categóricas, las convertiremos en variables ficticias.\n",
        "'''\n",
        "\n",
        "a = pd.get_dummies(heart_diase.cp, prefix='cp')\n",
        "b = pd.get_dummies(heart_diase.thal, prefix='thal')\n",
        "c = pd.get_dummies(heart_diase.slope, prefix='slope')\n",
        "# converte los datos a datos ficticios\n",
        "\n",
        "frame = [heart_diase, a, b, c]\n",
        "\n",
        "heart = pd.concat(frame, axis = 1)\n",
        "\n",
        "heart.head()\n",
        "\n",
        "'''\n",
        "pd.concat() --> es una funcion que concatena los datos segun axes que le pase, en si tranforma a un ps.DataFrame\n",
        "ya sea por ejemplo una lista de python,\n",
        "axis=1 horizontal, axis=0 vertical\n",
        "'''\n",
        "heart.head()"
      ],
      "execution_count": 17,
      "outputs": [
        {
          "output_type": "execute_result",
          "data": {
            "text/html": [
              "<div>\n",
              "<style scoped>\n",
              "    .dataframe tbody tr th:only-of-type {\n",
              "        vertical-align: middle;\n",
              "    }\n",
              "\n",
              "    .dataframe tbody tr th {\n",
              "        vertical-align: top;\n",
              "    }\n",
              "\n",
              "    .dataframe thead th {\n",
              "        text-align: right;\n",
              "    }\n",
              "</style>\n",
              "<table border=\"1\" class=\"dataframe\">\n",
              "  <thead>\n",
              "    <tr style=\"text-align: right;\">\n",
              "      <th></th>\n",
              "      <th>age</th>\n",
              "      <th>sex</th>\n",
              "      <th>cp</th>\n",
              "      <th>trestbps</th>\n",
              "      <th>chol</th>\n",
              "      <th>fbs</th>\n",
              "      <th>restecg</th>\n",
              "      <th>thalach</th>\n",
              "      <th>exang</th>\n",
              "      <th>oldpeak</th>\n",
              "      <th>slope</th>\n",
              "      <th>ca</th>\n",
              "      <th>thal</th>\n",
              "      <th>target</th>\n",
              "      <th>cp_0</th>\n",
              "      <th>cp_1</th>\n",
              "      <th>cp_2</th>\n",
              "      <th>cp_3</th>\n",
              "      <th>thal_0</th>\n",
              "      <th>thal_1</th>\n",
              "      <th>thal_2</th>\n",
              "      <th>thal_3</th>\n",
              "      <th>slope_0</th>\n",
              "      <th>slope_1</th>\n",
              "      <th>slope_2</th>\n",
              "    </tr>\n",
              "  </thead>\n",
              "  <tbody>\n",
              "    <tr>\n",
              "      <th>0</th>\n",
              "      <td>63</td>\n",
              "      <td>1</td>\n",
              "      <td>3</td>\n",
              "      <td>145</td>\n",
              "      <td>233</td>\n",
              "      <td>1</td>\n",
              "      <td>0</td>\n",
              "      <td>150</td>\n",
              "      <td>0</td>\n",
              "      <td>2.3</td>\n",
              "      <td>0</td>\n",
              "      <td>0</td>\n",
              "      <td>1</td>\n",
              "      <td>1</td>\n",
              "      <td>0</td>\n",
              "      <td>0</td>\n",
              "      <td>0</td>\n",
              "      <td>1</td>\n",
              "      <td>0</td>\n",
              "      <td>1</td>\n",
              "      <td>0</td>\n",
              "      <td>0</td>\n",
              "      <td>1</td>\n",
              "      <td>0</td>\n",
              "      <td>0</td>\n",
              "    </tr>\n",
              "    <tr>\n",
              "      <th>1</th>\n",
              "      <td>37</td>\n",
              "      <td>1</td>\n",
              "      <td>2</td>\n",
              "      <td>130</td>\n",
              "      <td>250</td>\n",
              "      <td>0</td>\n",
              "      <td>1</td>\n",
              "      <td>187</td>\n",
              "      <td>0</td>\n",
              "      <td>3.5</td>\n",
              "      <td>0</td>\n",
              "      <td>0</td>\n",
              "      <td>2</td>\n",
              "      <td>1</td>\n",
              "      <td>0</td>\n",
              "      <td>0</td>\n",
              "      <td>1</td>\n",
              "      <td>0</td>\n",
              "      <td>0</td>\n",
              "      <td>0</td>\n",
              "      <td>1</td>\n",
              "      <td>0</td>\n",
              "      <td>1</td>\n",
              "      <td>0</td>\n",
              "      <td>0</td>\n",
              "    </tr>\n",
              "    <tr>\n",
              "      <th>2</th>\n",
              "      <td>41</td>\n",
              "      <td>0</td>\n",
              "      <td>1</td>\n",
              "      <td>130</td>\n",
              "      <td>204</td>\n",
              "      <td>0</td>\n",
              "      <td>0</td>\n",
              "      <td>172</td>\n",
              "      <td>0</td>\n",
              "      <td>1.4</td>\n",
              "      <td>2</td>\n",
              "      <td>0</td>\n",
              "      <td>2</td>\n",
              "      <td>1</td>\n",
              "      <td>0</td>\n",
              "      <td>1</td>\n",
              "      <td>0</td>\n",
              "      <td>0</td>\n",
              "      <td>0</td>\n",
              "      <td>0</td>\n",
              "      <td>1</td>\n",
              "      <td>0</td>\n",
              "      <td>0</td>\n",
              "      <td>0</td>\n",
              "      <td>1</td>\n",
              "    </tr>\n",
              "    <tr>\n",
              "      <th>3</th>\n",
              "      <td>56</td>\n",
              "      <td>1</td>\n",
              "      <td>1</td>\n",
              "      <td>120</td>\n",
              "      <td>236</td>\n",
              "      <td>0</td>\n",
              "      <td>1</td>\n",
              "      <td>178</td>\n",
              "      <td>0</td>\n",
              "      <td>0.8</td>\n",
              "      <td>2</td>\n",
              "      <td>0</td>\n",
              "      <td>2</td>\n",
              "      <td>1</td>\n",
              "      <td>0</td>\n",
              "      <td>1</td>\n",
              "      <td>0</td>\n",
              "      <td>0</td>\n",
              "      <td>0</td>\n",
              "      <td>0</td>\n",
              "      <td>1</td>\n",
              "      <td>0</td>\n",
              "      <td>0</td>\n",
              "      <td>0</td>\n",
              "      <td>1</td>\n",
              "    </tr>\n",
              "    <tr>\n",
              "      <th>4</th>\n",
              "      <td>57</td>\n",
              "      <td>0</td>\n",
              "      <td>0</td>\n",
              "      <td>120</td>\n",
              "      <td>354</td>\n",
              "      <td>0</td>\n",
              "      <td>1</td>\n",
              "      <td>163</td>\n",
              "      <td>1</td>\n",
              "      <td>0.6</td>\n",
              "      <td>2</td>\n",
              "      <td>0</td>\n",
              "      <td>2</td>\n",
              "      <td>1</td>\n",
              "      <td>1</td>\n",
              "      <td>0</td>\n",
              "      <td>0</td>\n",
              "      <td>0</td>\n",
              "      <td>0</td>\n",
              "      <td>0</td>\n",
              "      <td>1</td>\n",
              "      <td>0</td>\n",
              "      <td>0</td>\n",
              "      <td>0</td>\n",
              "      <td>1</td>\n",
              "    </tr>\n",
              "  </tbody>\n",
              "</table>\n",
              "</div>"
            ],
            "text/plain": [
              "   age  sex  cp  trestbps  chol  ...  thal_2  thal_3  slope_0  slope_1  slope_2\n",
              "0   63    1   3       145   233  ...       0       0        1        0        0\n",
              "1   37    1   2       130   250  ...       1       0        1        0        0\n",
              "2   41    0   1       130   204  ...       1       0        0        0        1\n",
              "3   56    1   1       120   236  ...       1       0        0        0        1\n",
              "4   57    0   0       120   354  ...       1       0        0        0        1\n",
              "\n",
              "[5 rows x 25 columns]"
            ]
          },
          "metadata": {
            "tags": []
          },
          "execution_count": 17
        }
      ]
    },
    {
      "cell_type": "code",
      "metadata": {
        "id": "tKA9GeBWHYnr",
        "colab_type": "code",
        "colab": {
          "base_uri": "https://localhost:8080/",
          "height": 221
        },
        "outputId": "b634d0c8-569e-47cc-d4b1-8ac83c43cd94"
      },
      "source": [
        "heart = heart.drop(columns=['cp','thal','slope'])\n",
        "heart.head()\n",
        "\n",
        "# MUYJEan lo hciste eres pro, aca acaba el preprocesamiento de los datos, ahora creamos el modelo de machine learning"
      ],
      "execution_count": 18,
      "outputs": [
        {
          "output_type": "execute_result",
          "data": {
            "text/html": [
              "<div>\n",
              "<style scoped>\n",
              "    .dataframe tbody tr th:only-of-type {\n",
              "        vertical-align: middle;\n",
              "    }\n",
              "\n",
              "    .dataframe tbody tr th {\n",
              "        vertical-align: top;\n",
              "    }\n",
              "\n",
              "    .dataframe thead th {\n",
              "        text-align: right;\n",
              "    }\n",
              "</style>\n",
              "<table border=\"1\" class=\"dataframe\">\n",
              "  <thead>\n",
              "    <tr style=\"text-align: right;\">\n",
              "      <th></th>\n",
              "      <th>age</th>\n",
              "      <th>sex</th>\n",
              "      <th>trestbps</th>\n",
              "      <th>chol</th>\n",
              "      <th>fbs</th>\n",
              "      <th>restecg</th>\n",
              "      <th>thalach</th>\n",
              "      <th>exang</th>\n",
              "      <th>oldpeak</th>\n",
              "      <th>ca</th>\n",
              "      <th>target</th>\n",
              "      <th>cp_0</th>\n",
              "      <th>cp_1</th>\n",
              "      <th>cp_2</th>\n",
              "      <th>cp_3</th>\n",
              "      <th>thal_0</th>\n",
              "      <th>thal_1</th>\n",
              "      <th>thal_2</th>\n",
              "      <th>thal_3</th>\n",
              "      <th>slope_0</th>\n",
              "      <th>slope_1</th>\n",
              "      <th>slope_2</th>\n",
              "    </tr>\n",
              "  </thead>\n",
              "  <tbody>\n",
              "    <tr>\n",
              "      <th>0</th>\n",
              "      <td>63</td>\n",
              "      <td>1</td>\n",
              "      <td>145</td>\n",
              "      <td>233</td>\n",
              "      <td>1</td>\n",
              "      <td>0</td>\n",
              "      <td>150</td>\n",
              "      <td>0</td>\n",
              "      <td>2.3</td>\n",
              "      <td>0</td>\n",
              "      <td>1</td>\n",
              "      <td>0</td>\n",
              "      <td>0</td>\n",
              "      <td>0</td>\n",
              "      <td>1</td>\n",
              "      <td>0</td>\n",
              "      <td>1</td>\n",
              "      <td>0</td>\n",
              "      <td>0</td>\n",
              "      <td>1</td>\n",
              "      <td>0</td>\n",
              "      <td>0</td>\n",
              "    </tr>\n",
              "    <tr>\n",
              "      <th>1</th>\n",
              "      <td>37</td>\n",
              "      <td>1</td>\n",
              "      <td>130</td>\n",
              "      <td>250</td>\n",
              "      <td>0</td>\n",
              "      <td>1</td>\n",
              "      <td>187</td>\n",
              "      <td>0</td>\n",
              "      <td>3.5</td>\n",
              "      <td>0</td>\n",
              "      <td>1</td>\n",
              "      <td>0</td>\n",
              "      <td>0</td>\n",
              "      <td>1</td>\n",
              "      <td>0</td>\n",
              "      <td>0</td>\n",
              "      <td>0</td>\n",
              "      <td>1</td>\n",
              "      <td>0</td>\n",
              "      <td>1</td>\n",
              "      <td>0</td>\n",
              "      <td>0</td>\n",
              "    </tr>\n",
              "    <tr>\n",
              "      <th>2</th>\n",
              "      <td>41</td>\n",
              "      <td>0</td>\n",
              "      <td>130</td>\n",
              "      <td>204</td>\n",
              "      <td>0</td>\n",
              "      <td>0</td>\n",
              "      <td>172</td>\n",
              "      <td>0</td>\n",
              "      <td>1.4</td>\n",
              "      <td>0</td>\n",
              "      <td>1</td>\n",
              "      <td>0</td>\n",
              "      <td>1</td>\n",
              "      <td>0</td>\n",
              "      <td>0</td>\n",
              "      <td>0</td>\n",
              "      <td>0</td>\n",
              "      <td>1</td>\n",
              "      <td>0</td>\n",
              "      <td>0</td>\n",
              "      <td>0</td>\n",
              "      <td>1</td>\n",
              "    </tr>\n",
              "    <tr>\n",
              "      <th>3</th>\n",
              "      <td>56</td>\n",
              "      <td>1</td>\n",
              "      <td>120</td>\n",
              "      <td>236</td>\n",
              "      <td>0</td>\n",
              "      <td>1</td>\n",
              "      <td>178</td>\n",
              "      <td>0</td>\n",
              "      <td>0.8</td>\n",
              "      <td>0</td>\n",
              "      <td>1</td>\n",
              "      <td>0</td>\n",
              "      <td>1</td>\n",
              "      <td>0</td>\n",
              "      <td>0</td>\n",
              "      <td>0</td>\n",
              "      <td>0</td>\n",
              "      <td>1</td>\n",
              "      <td>0</td>\n",
              "      <td>0</td>\n",
              "      <td>0</td>\n",
              "      <td>1</td>\n",
              "    </tr>\n",
              "    <tr>\n",
              "      <th>4</th>\n",
              "      <td>57</td>\n",
              "      <td>0</td>\n",
              "      <td>120</td>\n",
              "      <td>354</td>\n",
              "      <td>0</td>\n",
              "      <td>1</td>\n",
              "      <td>163</td>\n",
              "      <td>1</td>\n",
              "      <td>0.6</td>\n",
              "      <td>0</td>\n",
              "      <td>1</td>\n",
              "      <td>1</td>\n",
              "      <td>0</td>\n",
              "      <td>0</td>\n",
              "      <td>0</td>\n",
              "      <td>0</td>\n",
              "      <td>0</td>\n",
              "      <td>1</td>\n",
              "      <td>0</td>\n",
              "      <td>0</td>\n",
              "      <td>0</td>\n",
              "      <td>1</td>\n",
              "    </tr>\n",
              "  </tbody>\n",
              "</table>\n",
              "</div>"
            ],
            "text/plain": [
              "   age  sex  trestbps  chol  fbs  ...  thal_2  thal_3  slope_0  slope_1  slope_2\n",
              "0   63    1       145   233    1  ...       0       0        1        0        0\n",
              "1   37    1       130   250    0  ...       1       0        1        0        0\n",
              "2   41    0       130   204    0  ...       1       0        0        0        1\n",
              "3   56    1       120   236    0  ...       1       0        0        0        1\n",
              "4   57    0       120   354    0  ...       1       0        0        0        1\n",
              "\n",
              "[5 rows x 22 columns]"
            ]
          },
          "metadata": {
            "tags": []
          },
          "execution_count": 18
        }
      ]
    },
    {
      "cell_type": "code",
      "metadata": {
        "id": "4GcioKNDSqPJ",
        "colab_type": "code",
        "colab": {}
      },
      "source": [
        "# Crating model machine learnning\n",
        "\n",
        "'''\n",
        "We can use sklearn library or we can write functions ourselves. Let's them both. Firstly we will write our functions after that we'll use sklearn library to calculate score.\n",
        "Podemos usar la biblioteca sklearn o podemos escribir funciones nosotros mismos. Vamos a los dos. En primer lugar, escribiremos nuestras funciones y luego utilizaremos la biblioteca sklearn para calcular la puntuación.\n",
        "'''\n",
        "\n",
        "y = heart.target.values\n",
        "# Extraendo los datos de nuestros target\n",
        "\n",
        "x_data = heart.drop(['target'], axis=1)\n",
        "# Guardando nuestros datos en la variable x_data, droping target\n",
        "\n",
        "\n"
      ],
      "execution_count": 19,
      "outputs": []
    },
    {
      "cell_type": "code",
      "metadata": {
        "id": "YtDhSd-kPM_S",
        "colab_type": "code",
        "colab": {
          "base_uri": "https://localhost:8080/",
          "height": 433
        },
        "outputId": "157bc2e3-d7fa-4c62-a518-479949898de1"
      },
      "source": [
        "# Normalize data\n",
        "# x = (data - data.min) / (data.max - data.min)\n",
        "x = (x_data - np.min(x_data)) / (np.max(x_data) - np.min(x_data)).values\n",
        "\n",
        "'''\n",
        "segun la ecuacion para normalizar datos, lo apply aqui transforma nuestros datos en un rango donde los datos esten bajo\n",
        "el mismo rango, para que le modelo realize mejores predicciones\n",
        "'''\n",
        "x"
      ],
      "execution_count": 20,
      "outputs": [
        {
          "output_type": "execute_result",
          "data": {
            "text/html": [
              "<div>\n",
              "<style scoped>\n",
              "    .dataframe tbody tr th:only-of-type {\n",
              "        vertical-align: middle;\n",
              "    }\n",
              "\n",
              "    .dataframe tbody tr th {\n",
              "        vertical-align: top;\n",
              "    }\n",
              "\n",
              "    .dataframe thead th {\n",
              "        text-align: right;\n",
              "    }\n",
              "</style>\n",
              "<table border=\"1\" class=\"dataframe\">\n",
              "  <thead>\n",
              "    <tr style=\"text-align: right;\">\n",
              "      <th></th>\n",
              "      <th>age</th>\n",
              "      <th>sex</th>\n",
              "      <th>trestbps</th>\n",
              "      <th>chol</th>\n",
              "      <th>fbs</th>\n",
              "      <th>restecg</th>\n",
              "      <th>thalach</th>\n",
              "      <th>exang</th>\n",
              "      <th>oldpeak</th>\n",
              "      <th>ca</th>\n",
              "      <th>cp_0</th>\n",
              "      <th>cp_1</th>\n",
              "      <th>cp_2</th>\n",
              "      <th>cp_3</th>\n",
              "      <th>thal_0</th>\n",
              "      <th>thal_1</th>\n",
              "      <th>thal_2</th>\n",
              "      <th>thal_3</th>\n",
              "      <th>slope_0</th>\n",
              "      <th>slope_1</th>\n",
              "      <th>slope_2</th>\n",
              "    </tr>\n",
              "  </thead>\n",
              "  <tbody>\n",
              "    <tr>\n",
              "      <th>0</th>\n",
              "      <td>0.708333</td>\n",
              "      <td>1.0</td>\n",
              "      <td>0.481132</td>\n",
              "      <td>0.244292</td>\n",
              "      <td>1.0</td>\n",
              "      <td>0.0</td>\n",
              "      <td>0.603053</td>\n",
              "      <td>0.0</td>\n",
              "      <td>0.370968</td>\n",
              "      <td>0.00</td>\n",
              "      <td>0.0</td>\n",
              "      <td>0.0</td>\n",
              "      <td>0.0</td>\n",
              "      <td>1.0</td>\n",
              "      <td>0.0</td>\n",
              "      <td>1.0</td>\n",
              "      <td>0.0</td>\n",
              "      <td>0.0</td>\n",
              "      <td>1.0</td>\n",
              "      <td>0.0</td>\n",
              "      <td>0.0</td>\n",
              "    </tr>\n",
              "    <tr>\n",
              "      <th>1</th>\n",
              "      <td>0.166667</td>\n",
              "      <td>1.0</td>\n",
              "      <td>0.339623</td>\n",
              "      <td>0.283105</td>\n",
              "      <td>0.0</td>\n",
              "      <td>0.5</td>\n",
              "      <td>0.885496</td>\n",
              "      <td>0.0</td>\n",
              "      <td>0.564516</td>\n",
              "      <td>0.00</td>\n",
              "      <td>0.0</td>\n",
              "      <td>0.0</td>\n",
              "      <td>1.0</td>\n",
              "      <td>0.0</td>\n",
              "      <td>0.0</td>\n",
              "      <td>0.0</td>\n",
              "      <td>1.0</td>\n",
              "      <td>0.0</td>\n",
              "      <td>1.0</td>\n",
              "      <td>0.0</td>\n",
              "      <td>0.0</td>\n",
              "    </tr>\n",
              "    <tr>\n",
              "      <th>2</th>\n",
              "      <td>0.250000</td>\n",
              "      <td>0.0</td>\n",
              "      <td>0.339623</td>\n",
              "      <td>0.178082</td>\n",
              "      <td>0.0</td>\n",
              "      <td>0.0</td>\n",
              "      <td>0.770992</td>\n",
              "      <td>0.0</td>\n",
              "      <td>0.225806</td>\n",
              "      <td>0.00</td>\n",
              "      <td>0.0</td>\n",
              "      <td>1.0</td>\n",
              "      <td>0.0</td>\n",
              "      <td>0.0</td>\n",
              "      <td>0.0</td>\n",
              "      <td>0.0</td>\n",
              "      <td>1.0</td>\n",
              "      <td>0.0</td>\n",
              "      <td>0.0</td>\n",
              "      <td>0.0</td>\n",
              "      <td>1.0</td>\n",
              "    </tr>\n",
              "    <tr>\n",
              "      <th>3</th>\n",
              "      <td>0.562500</td>\n",
              "      <td>1.0</td>\n",
              "      <td>0.245283</td>\n",
              "      <td>0.251142</td>\n",
              "      <td>0.0</td>\n",
              "      <td>0.5</td>\n",
              "      <td>0.816794</td>\n",
              "      <td>0.0</td>\n",
              "      <td>0.129032</td>\n",
              "      <td>0.00</td>\n",
              "      <td>0.0</td>\n",
              "      <td>1.0</td>\n",
              "      <td>0.0</td>\n",
              "      <td>0.0</td>\n",
              "      <td>0.0</td>\n",
              "      <td>0.0</td>\n",
              "      <td>1.0</td>\n",
              "      <td>0.0</td>\n",
              "      <td>0.0</td>\n",
              "      <td>0.0</td>\n",
              "      <td>1.0</td>\n",
              "    </tr>\n",
              "    <tr>\n",
              "      <th>4</th>\n",
              "      <td>0.583333</td>\n",
              "      <td>0.0</td>\n",
              "      <td>0.245283</td>\n",
              "      <td>0.520548</td>\n",
              "      <td>0.0</td>\n",
              "      <td>0.5</td>\n",
              "      <td>0.702290</td>\n",
              "      <td>1.0</td>\n",
              "      <td>0.096774</td>\n",
              "      <td>0.00</td>\n",
              "      <td>1.0</td>\n",
              "      <td>0.0</td>\n",
              "      <td>0.0</td>\n",
              "      <td>0.0</td>\n",
              "      <td>0.0</td>\n",
              "      <td>0.0</td>\n",
              "      <td>1.0</td>\n",
              "      <td>0.0</td>\n",
              "      <td>0.0</td>\n",
              "      <td>0.0</td>\n",
              "      <td>1.0</td>\n",
              "    </tr>\n",
              "    <tr>\n",
              "      <th>...</th>\n",
              "      <td>...</td>\n",
              "      <td>...</td>\n",
              "      <td>...</td>\n",
              "      <td>...</td>\n",
              "      <td>...</td>\n",
              "      <td>...</td>\n",
              "      <td>...</td>\n",
              "      <td>...</td>\n",
              "      <td>...</td>\n",
              "      <td>...</td>\n",
              "      <td>...</td>\n",
              "      <td>...</td>\n",
              "      <td>...</td>\n",
              "      <td>...</td>\n",
              "      <td>...</td>\n",
              "      <td>...</td>\n",
              "      <td>...</td>\n",
              "      <td>...</td>\n",
              "      <td>...</td>\n",
              "      <td>...</td>\n",
              "      <td>...</td>\n",
              "    </tr>\n",
              "    <tr>\n",
              "      <th>298</th>\n",
              "      <td>0.583333</td>\n",
              "      <td>0.0</td>\n",
              "      <td>0.433962</td>\n",
              "      <td>0.262557</td>\n",
              "      <td>0.0</td>\n",
              "      <td>0.5</td>\n",
              "      <td>0.396947</td>\n",
              "      <td>1.0</td>\n",
              "      <td>0.032258</td>\n",
              "      <td>0.00</td>\n",
              "      <td>1.0</td>\n",
              "      <td>0.0</td>\n",
              "      <td>0.0</td>\n",
              "      <td>0.0</td>\n",
              "      <td>0.0</td>\n",
              "      <td>0.0</td>\n",
              "      <td>0.0</td>\n",
              "      <td>1.0</td>\n",
              "      <td>0.0</td>\n",
              "      <td>1.0</td>\n",
              "      <td>0.0</td>\n",
              "    </tr>\n",
              "    <tr>\n",
              "      <th>299</th>\n",
              "      <td>0.333333</td>\n",
              "      <td>1.0</td>\n",
              "      <td>0.150943</td>\n",
              "      <td>0.315068</td>\n",
              "      <td>0.0</td>\n",
              "      <td>0.5</td>\n",
              "      <td>0.465649</td>\n",
              "      <td>0.0</td>\n",
              "      <td>0.193548</td>\n",
              "      <td>0.00</td>\n",
              "      <td>0.0</td>\n",
              "      <td>0.0</td>\n",
              "      <td>0.0</td>\n",
              "      <td>1.0</td>\n",
              "      <td>0.0</td>\n",
              "      <td>0.0</td>\n",
              "      <td>0.0</td>\n",
              "      <td>1.0</td>\n",
              "      <td>0.0</td>\n",
              "      <td>1.0</td>\n",
              "      <td>0.0</td>\n",
              "    </tr>\n",
              "    <tr>\n",
              "      <th>300</th>\n",
              "      <td>0.812500</td>\n",
              "      <td>1.0</td>\n",
              "      <td>0.471698</td>\n",
              "      <td>0.152968</td>\n",
              "      <td>1.0</td>\n",
              "      <td>0.5</td>\n",
              "      <td>0.534351</td>\n",
              "      <td>0.0</td>\n",
              "      <td>0.548387</td>\n",
              "      <td>0.50</td>\n",
              "      <td>1.0</td>\n",
              "      <td>0.0</td>\n",
              "      <td>0.0</td>\n",
              "      <td>0.0</td>\n",
              "      <td>0.0</td>\n",
              "      <td>0.0</td>\n",
              "      <td>0.0</td>\n",
              "      <td>1.0</td>\n",
              "      <td>0.0</td>\n",
              "      <td>1.0</td>\n",
              "      <td>0.0</td>\n",
              "    </tr>\n",
              "    <tr>\n",
              "      <th>301</th>\n",
              "      <td>0.583333</td>\n",
              "      <td>1.0</td>\n",
              "      <td>0.339623</td>\n",
              "      <td>0.011416</td>\n",
              "      <td>0.0</td>\n",
              "      <td>0.5</td>\n",
              "      <td>0.335878</td>\n",
              "      <td>1.0</td>\n",
              "      <td>0.193548</td>\n",
              "      <td>0.25</td>\n",
              "      <td>1.0</td>\n",
              "      <td>0.0</td>\n",
              "      <td>0.0</td>\n",
              "      <td>0.0</td>\n",
              "      <td>0.0</td>\n",
              "      <td>0.0</td>\n",
              "      <td>0.0</td>\n",
              "      <td>1.0</td>\n",
              "      <td>0.0</td>\n",
              "      <td>1.0</td>\n",
              "      <td>0.0</td>\n",
              "    </tr>\n",
              "    <tr>\n",
              "      <th>302</th>\n",
              "      <td>0.583333</td>\n",
              "      <td>0.0</td>\n",
              "      <td>0.339623</td>\n",
              "      <td>0.251142</td>\n",
              "      <td>0.0</td>\n",
              "      <td>0.0</td>\n",
              "      <td>0.786260</td>\n",
              "      <td>0.0</td>\n",
              "      <td>0.000000</td>\n",
              "      <td>0.25</td>\n",
              "      <td>0.0</td>\n",
              "      <td>1.0</td>\n",
              "      <td>0.0</td>\n",
              "      <td>0.0</td>\n",
              "      <td>0.0</td>\n",
              "      <td>0.0</td>\n",
              "      <td>1.0</td>\n",
              "      <td>0.0</td>\n",
              "      <td>0.0</td>\n",
              "      <td>1.0</td>\n",
              "      <td>0.0</td>\n",
              "    </tr>\n",
              "  </tbody>\n",
              "</table>\n",
              "<p>303 rows × 21 columns</p>\n",
              "</div>"
            ],
            "text/plain": [
              "          age  sex  trestbps      chol  ...  thal_3  slope_0  slope_1  slope_2\n",
              "0    0.708333  1.0  0.481132  0.244292  ...     0.0      1.0      0.0      0.0\n",
              "1    0.166667  1.0  0.339623  0.283105  ...     0.0      1.0      0.0      0.0\n",
              "2    0.250000  0.0  0.339623  0.178082  ...     0.0      0.0      0.0      1.0\n",
              "3    0.562500  1.0  0.245283  0.251142  ...     0.0      0.0      0.0      1.0\n",
              "4    0.583333  0.0  0.245283  0.520548  ...     0.0      0.0      0.0      1.0\n",
              "..        ...  ...       ...       ...  ...     ...      ...      ...      ...\n",
              "298  0.583333  0.0  0.433962  0.262557  ...     1.0      0.0      1.0      0.0\n",
              "299  0.333333  1.0  0.150943  0.315068  ...     1.0      0.0      1.0      0.0\n",
              "300  0.812500  1.0  0.471698  0.152968  ...     1.0      0.0      1.0      0.0\n",
              "301  0.583333  1.0  0.339623  0.011416  ...     1.0      0.0      1.0      0.0\n",
              "302  0.583333  0.0  0.339623  0.251142  ...     0.0      0.0      1.0      0.0\n",
              "\n",
              "[303 rows x 21 columns]"
            ]
          },
          "metadata": {
            "tags": []
          },
          "execution_count": 20
        }
      ]
    },
    {
      "cell_type": "code",
      "metadata": {
        "id": "S0Luid9eXL7W",
        "colab_type": "code",
        "colab": {
          "base_uri": "https://localhost:8080/",
          "height": 250
        },
        "outputId": "ac8e6ee7-0792-4a6e-e413-9080e723e2e8"
      },
      "source": [
        "# We will split our data. 80% of our data will be train data and 20% of it will be test data.\n",
        "\n",
        "X_train, X_test, y_train, y_test = train_test_split(x, y, random_state=0, test_size=.2)\n",
        "\n",
        "# Tramspose matrices\n",
        "\n",
        "X_train = X_train.T \n",
        "X_test = X_test.T \n",
        "y_train = y_train.T \n",
        "y_test = y_test.T \n",
        "\n",
        "X_train.head()"
      ],
      "execution_count": 21,
      "outputs": [
        {
          "output_type": "execute_result",
          "data": {
            "text/html": [
              "<div>\n",
              "<style scoped>\n",
              "    .dataframe tbody tr th:only-of-type {\n",
              "        vertical-align: middle;\n",
              "    }\n",
              "\n",
              "    .dataframe tbody tr th {\n",
              "        vertical-align: top;\n",
              "    }\n",
              "\n",
              "    .dataframe thead th {\n",
              "        text-align: right;\n",
              "    }\n",
              "</style>\n",
              "<table border=\"1\" class=\"dataframe\">\n",
              "  <thead>\n",
              "    <tr style=\"text-align: right;\">\n",
              "      <th></th>\n",
              "      <th>74</th>\n",
              "      <th>153</th>\n",
              "      <th>64</th>\n",
              "      <th>296</th>\n",
              "      <th>287</th>\n",
              "      <th>286</th>\n",
              "      <th>236</th>\n",
              "      <th>126</th>\n",
              "      <th>73</th>\n",
              "      <th>20</th>\n",
              "      <th>46</th>\n",
              "      <th>160</th>\n",
              "      <th>232</th>\n",
              "      <th>181</th>\n",
              "      <th>27</th>\n",
              "      <th>173</th>\n",
              "      <th>261</th>\n",
              "      <th>37</th>\n",
              "      <th>101</th>\n",
              "      <th>166</th>\n",
              "      <th>233</th>\n",
              "      <th>184</th>\n",
              "      <th>164</th>\n",
              "      <th>206</th>\n",
              "      <th>248</th>\n",
              "      <th>253</th>\n",
              "      <th>293</th>\n",
              "      <th>76</th>\n",
              "      <th>272</th>\n",
              "      <th>238</th>\n",
              "      <th>137</th>\n",
              "      <th>106</th>\n",
              "      <th>284</th>\n",
              "      <th>44</th>\n",
              "      <th>139</th>\n",
              "      <th>247</th>\n",
              "      <th>288</th>\n",
              "      <th>156</th>\n",
              "      <th>297</th>\n",
              "      <th>252</th>\n",
              "      <th>...</th>\n",
              "      <th>163</th>\n",
              "      <th>151</th>\n",
              "      <th>244</th>\n",
              "      <th>202</th>\n",
              "      <th>31</th>\n",
              "      <th>32</th>\n",
              "      <th>127</th>\n",
              "      <th>185</th>\n",
              "      <th>280</th>\n",
              "      <th>273</th>\n",
              "      <th>147</th>\n",
              "      <th>278</th>\n",
              "      <th>177</th>\n",
              "      <th>99</th>\n",
              "      <th>197</th>\n",
              "      <th>243</th>\n",
              "      <th>115</th>\n",
              "      <th>265</th>\n",
              "      <th>72</th>\n",
              "      <th>25</th>\n",
              "      <th>165</th>\n",
              "      <th>289</th>\n",
              "      <th>174</th>\n",
              "      <th>291</th>\n",
              "      <th>39</th>\n",
              "      <th>193</th>\n",
              "      <th>88</th>\n",
              "      <th>70</th>\n",
              "      <th>87</th>\n",
              "      <th>292</th>\n",
              "      <th>242</th>\n",
              "      <th>277</th>\n",
              "      <th>211</th>\n",
              "      <th>9</th>\n",
              "      <th>195</th>\n",
              "      <th>251</th>\n",
              "      <th>192</th>\n",
              "      <th>117</th>\n",
              "      <th>47</th>\n",
              "      <th>172</th>\n",
              "    </tr>\n",
              "  </thead>\n",
              "  <tbody>\n",
              "    <tr>\n",
              "      <th>age</th>\n",
              "      <td>0.291667</td>\n",
              "      <td>0.770833</td>\n",
              "      <td>0.604167</td>\n",
              "      <td>0.708333</td>\n",
              "      <td>0.583333</td>\n",
              "      <td>0.625000</td>\n",
              "      <td>0.604167</td>\n",
              "      <td>0.375000</td>\n",
              "      <td>0.458333</td>\n",
              "      <td>0.625000</td>\n",
              "      <td>0.312500</td>\n",
              "      <td>0.562500</td>\n",
              "      <td>0.541667</td>\n",
              "      <td>0.750000</td>\n",
              "      <td>0.458333</td>\n",
              "      <td>0.604167</td>\n",
              "      <td>0.479167</td>\n",
              "      <td>0.520833</td>\n",
              "      <td>0.625000</td>\n",
              "      <td>0.791667</td>\n",
              "      <td>0.729167</td>\n",
              "      <td>0.437500</td>\n",
              "      <td>0.187500</td>\n",
              "      <td>0.625000</td>\n",
              "      <td>0.520833</td>\n",
              "      <td>0.791667</td>\n",
              "      <td>0.791667</td>\n",
              "      <td>0.458333</td>\n",
              "      <td>0.791667</td>\n",
              "      <td>1.000000</td>\n",
              "      <td>0.687500</td>\n",
              "      <td>0.833333</td>\n",
              "      <td>0.666667</td>\n",
              "      <td>0.208333</td>\n",
              "      <td>0.729167</td>\n",
              "      <td>0.770833</td>\n",
              "      <td>0.583333</td>\n",
              "      <td>0.375000</td>\n",
              "      <td>0.625000</td>\n",
              "      <td>0.687500</td>\n",
              "      <td>...</td>\n",
              "      <td>0.187500</td>\n",
              "      <td>0.875000</td>\n",
              "      <td>0.562500</td>\n",
              "      <td>0.604167</td>\n",
              "      <td>0.750000</td>\n",
              "      <td>0.312500</td>\n",
              "      <td>0.791667</td>\n",
              "      <td>0.312500</td>\n",
              "      <td>0.270833</td>\n",
              "      <td>0.604167</td>\n",
              "      <td>0.645833</td>\n",
              "      <td>0.604167</td>\n",
              "      <td>0.729167</td>\n",
              "      <td>0.500000</td>\n",
              "      <td>0.791667</td>\n",
              "      <td>0.583333</td>\n",
              "      <td>0.166667</td>\n",
              "      <td>0.770833</td>\n",
              "      <td>0.000000</td>\n",
              "      <td>0.875000</td>\n",
              "      <td>0.791667</td>\n",
              "      <td>0.541667</td>\n",
              "      <td>0.645833</td>\n",
              "      <td>0.604167</td>\n",
              "      <td>0.750000</td>\n",
              "      <td>0.645833</td>\n",
              "      <td>0.520833</td>\n",
              "      <td>0.520833</td>\n",
              "      <td>0.354167</td>\n",
              "      <td>0.604167</td>\n",
              "      <td>0.729167</td>\n",
              "      <td>0.583333</td>\n",
              "      <td>0.666667</td>\n",
              "      <td>0.583333</td>\n",
              "      <td>0.625000</td>\n",
              "      <td>0.291667</td>\n",
              "      <td>0.520833</td>\n",
              "      <td>0.562500</td>\n",
              "      <td>0.375000</td>\n",
              "      <td>0.604167</td>\n",
              "    </tr>\n",
              "    <tr>\n",
              "      <th>sex</th>\n",
              "      <td>0.000000</td>\n",
              "      <td>0.000000</td>\n",
              "      <td>1.000000</td>\n",
              "      <td>0.000000</td>\n",
              "      <td>1.000000</td>\n",
              "      <td>1.000000</td>\n",
              "      <td>1.000000</td>\n",
              "      <td>1.000000</td>\n",
              "      <td>1.000000</td>\n",
              "      <td>1.000000</td>\n",
              "      <td>1.000000</td>\n",
              "      <td>1.000000</td>\n",
              "      <td>1.000000</td>\n",
              "      <td>0.000000</td>\n",
              "      <td>1.000000</td>\n",
              "      <td>1.000000</td>\n",
              "      <td>1.000000</td>\n",
              "      <td>1.000000</td>\n",
              "      <td>1.000000</td>\n",
              "      <td>1.000000</td>\n",
              "      <td>1.000000</td>\n",
              "      <td>1.000000</td>\n",
              "      <td>1.000000</td>\n",
              "      <td>1.000000</td>\n",
              "      <td>1.000000</td>\n",
              "      <td>1.000000</td>\n",
              "      <td>1.000000</td>\n",
              "      <td>1.000000</td>\n",
              "      <td>1.000000</td>\n",
              "      <td>1.000000</td>\n",
              "      <td>1.000000</td>\n",
              "      <td>1.000000</td>\n",
              "      <td>1.000000</td>\n",
              "      <td>1.000000</td>\n",
              "      <td>1.000000</td>\n",
              "      <td>1.000000</td>\n",
              "      <td>1.000000</td>\n",
              "      <td>1.000000</td>\n",
              "      <td>1.000000</td>\n",
              "      <td>0.000000</td>\n",
              "      <td>...</td>\n",
              "      <td>1.000000</td>\n",
              "      <td>0.000000</td>\n",
              "      <td>1.000000</td>\n",
              "      <td>1.000000</td>\n",
              "      <td>1.000000</td>\n",
              "      <td>1.000000</td>\n",
              "      <td>0.000000</td>\n",
              "      <td>1.000000</td>\n",
              "      <td>1.000000</td>\n",
              "      <td>1.000000</td>\n",
              "      <td>0.000000</td>\n",
              "      <td>0.000000</td>\n",
              "      <td>1.000000</td>\n",
              "      <td>1.000000</td>\n",
              "      <td>1.000000</td>\n",
              "      <td>1.000000</td>\n",
              "      <td>0.000000</td>\n",
              "      <td>1.000000</td>\n",
              "      <td>1.000000</td>\n",
              "      <td>0.000000</td>\n",
              "      <td>1.000000</td>\n",
              "      <td>0.000000</td>\n",
              "      <td>1.000000</td>\n",
              "      <td>1.000000</td>\n",
              "      <td>0.000000</td>\n",
              "      <td>1.000000</td>\n",
              "      <td>0.000000</td>\n",
              "      <td>1.000000</td>\n",
              "      <td>1.000000</td>\n",
              "      <td>0.000000</td>\n",
              "      <td>1.000000</td>\n",
              "      <td>1.000000</td>\n",
              "      <td>1.000000</td>\n",
              "      <td>1.000000</td>\n",
              "      <td>1.000000</td>\n",
              "      <td>1.000000</td>\n",
              "      <td>1.000000</td>\n",
              "      <td>1.000000</td>\n",
              "      <td>1.000000</td>\n",
              "      <td>1.000000</td>\n",
              "    </tr>\n",
              "    <tr>\n",
              "      <th>trestbps</th>\n",
              "      <td>0.264151</td>\n",
              "      <td>0.490566</td>\n",
              "      <td>0.433962</td>\n",
              "      <td>0.283019</td>\n",
              "      <td>0.566038</td>\n",
              "      <td>0.377358</td>\n",
              "      <td>0.292453</td>\n",
              "      <td>0.169811</td>\n",
              "      <td>0.433962</td>\n",
              "      <td>0.386792</td>\n",
              "      <td>0.433962</td>\n",
              "      <td>0.245283</td>\n",
              "      <td>0.622642</td>\n",
              "      <td>0.528302</td>\n",
              "      <td>0.150943</td>\n",
              "      <td>0.358491</td>\n",
              "      <td>0.169811</td>\n",
              "      <td>0.528302</td>\n",
              "      <td>0.792453</td>\n",
              "      <td>0.245283</td>\n",
              "      <td>0.245283</td>\n",
              "      <td>0.528302</td>\n",
              "      <td>0.415094</td>\n",
              "      <td>0.150943</td>\n",
              "      <td>0.924528</td>\n",
              "      <td>0.056604</td>\n",
              "      <td>0.547170</td>\n",
              "      <td>0.292453</td>\n",
              "      <td>0.245283</td>\n",
              "      <td>0.292453</td>\n",
              "      <td>0.320755</td>\n",
              "      <td>0.622642</td>\n",
              "      <td>0.433962</td>\n",
              "      <td>0.433962</td>\n",
              "      <td>0.320755</td>\n",
              "      <td>0.622642</td>\n",
              "      <td>0.150943</td>\n",
              "      <td>0.339623</td>\n",
              "      <td>0.660377</td>\n",
              "      <td>0.415094</td>\n",
              "      <td>...</td>\n",
              "      <td>0.415094</td>\n",
              "      <td>0.169811</td>\n",
              "      <td>0.358491</td>\n",
              "      <td>0.528302</td>\n",
              "      <td>0.245283</td>\n",
              "      <td>0.339623</td>\n",
              "      <td>0.547170</td>\n",
              "      <td>0.169811</td>\n",
              "      <td>0.396226</td>\n",
              "      <td>0.056604</td>\n",
              "      <td>0.528302</td>\n",
              "      <td>0.396226</td>\n",
              "      <td>0.433962</td>\n",
              "      <td>0.339623</td>\n",
              "      <td>0.292453</td>\n",
              "      <td>0.547170</td>\n",
              "      <td>0.245283</td>\n",
              "      <td>0.169811</td>\n",
              "      <td>0.339623</td>\n",
              "      <td>0.622642</td>\n",
              "      <td>0.622642</td>\n",
              "      <td>0.320755</td>\n",
              "      <td>0.339623</td>\n",
              "      <td>0.188679</td>\n",
              "      <td>0.622642</td>\n",
              "      <td>0.481132</td>\n",
              "      <td>0.150943</td>\n",
              "      <td>0.245283</td>\n",
              "      <td>0.066038</td>\n",
              "      <td>0.716981</td>\n",
              "      <td>0.481132</td>\n",
              "      <td>0.283019</td>\n",
              "      <td>0.245283</td>\n",
              "      <td>0.528302</td>\n",
              "      <td>0.716981</td>\n",
              "      <td>0.358491</td>\n",
              "      <td>0.245283</td>\n",
              "      <td>0.245283</td>\n",
              "      <td>0.415094</td>\n",
              "      <td>0.245283</td>\n",
              "    </tr>\n",
              "    <tr>\n",
              "      <th>chol</th>\n",
              "      <td>0.198630</td>\n",
              "      <td>0.347032</td>\n",
              "      <td>0.194064</td>\n",
              "      <td>0.162100</td>\n",
              "      <td>0.242009</td>\n",
              "      <td>0.178082</td>\n",
              "      <td>0.397260</td>\n",
              "      <td>0.178082</td>\n",
              "      <td>0.308219</td>\n",
              "      <td>0.246575</td>\n",
              "      <td>0.248858</td>\n",
              "      <td>0.260274</td>\n",
              "      <td>0.372146</td>\n",
              "      <td>0.226027</td>\n",
              "      <td>0.111872</td>\n",
              "      <td>0.223744</td>\n",
              "      <td>0.237443</td>\n",
              "      <td>0.242009</td>\n",
              "      <td>0.328767</td>\n",
              "      <td>0.235160</td>\n",
              "      <td>0.273973</td>\n",
              "      <td>0.267123</td>\n",
              "      <td>0.111872</td>\n",
              "      <td>0.257991</td>\n",
              "      <td>0.358447</td>\n",
              "      <td>0.394977</td>\n",
              "      <td>0.196347</td>\n",
              "      <td>0.271689</td>\n",
              "      <td>0.253425</td>\n",
              "      <td>0.406393</td>\n",
              "      <td>0.187215</td>\n",
              "      <td>0.246575</td>\n",
              "      <td>0.184932</td>\n",
              "      <td>0.445205</td>\n",
              "      <td>0.312785</td>\n",
              "      <td>0.273973</td>\n",
              "      <td>0.477169</td>\n",
              "      <td>0.289954</td>\n",
              "      <td>0.114155</td>\n",
              "      <td>0.383562</td>\n",
              "      <td>...</td>\n",
              "      <td>0.111872</td>\n",
              "      <td>0.052511</td>\n",
              "      <td>0.132420</td>\n",
              "      <td>0.328767</td>\n",
              "      <td>0.116438</td>\n",
              "      <td>0.212329</td>\n",
              "      <td>0.344749</td>\n",
              "      <td>0.374429</td>\n",
              "      <td>0.431507</td>\n",
              "      <td>0.246575</td>\n",
              "      <td>0.260274</td>\n",
              "      <td>0.440639</td>\n",
              "      <td>0.477169</td>\n",
              "      <td>0.273973</td>\n",
              "      <td>0.292237</td>\n",
              "      <td>0.337900</td>\n",
              "      <td>0.203196</td>\n",
              "      <td>0.196347</td>\n",
              "      <td>0.178082</td>\n",
              "      <td>0.401826</td>\n",
              "      <td>0.365297</td>\n",
              "      <td>0.180365</td>\n",
              "      <td>0.182648</td>\n",
              "      <td>0.438356</td>\n",
              "      <td>0.534247</td>\n",
              "      <td>0.356164</td>\n",
              "      <td>0.200913</td>\n",
              "      <td>0.301370</td>\n",
              "      <td>0.162100</td>\n",
              "      <td>0.226027</td>\n",
              "      <td>0.196347</td>\n",
              "      <td>0.308219</td>\n",
              "      <td>0.305936</td>\n",
              "      <td>0.095890</td>\n",
              "      <td>0.456621</td>\n",
              "      <td>0.276256</td>\n",
              "      <td>0.141553</td>\n",
              "      <td>0.152968</td>\n",
              "      <td>0.299087</td>\n",
              "      <td>0.360731</td>\n",
              "    </tr>\n",
              "    <tr>\n",
              "      <th>fbs</th>\n",
              "      <td>0.000000</td>\n",
              "      <td>0.000000</td>\n",
              "      <td>1.000000</td>\n",
              "      <td>0.000000</td>\n",
              "      <td>0.000000</td>\n",
              "      <td>0.000000</td>\n",
              "      <td>0.000000</td>\n",
              "      <td>0.000000</td>\n",
              "      <td>0.000000</td>\n",
              "      <td>0.000000</td>\n",
              "      <td>0.000000</td>\n",
              "      <td>0.000000</td>\n",
              "      <td>0.000000</td>\n",
              "      <td>0.000000</td>\n",
              "      <td>0.000000</td>\n",
              "      <td>0.000000</td>\n",
              "      <td>0.000000</td>\n",
              "      <td>0.000000</td>\n",
              "      <td>0.000000</td>\n",
              "      <td>0.000000</td>\n",
              "      <td>0.000000</td>\n",
              "      <td>0.000000</td>\n",
              "      <td>0.000000</td>\n",
              "      <td>0.000000</td>\n",
              "      <td>0.000000</td>\n",
              "      <td>0.000000</td>\n",
              "      <td>0.000000</td>\n",
              "      <td>1.000000</td>\n",
              "      <td>0.000000</td>\n",
              "      <td>0.000000</td>\n",
              "      <td>1.000000</td>\n",
              "      <td>1.000000</td>\n",
              "      <td>0.000000</td>\n",
              "      <td>0.000000</td>\n",
              "      <td>0.000000</td>\n",
              "      <td>0.000000</td>\n",
              "      <td>0.000000</td>\n",
              "      <td>0.000000</td>\n",
              "      <td>1.000000</td>\n",
              "      <td>1.000000</td>\n",
              "      <td>...</td>\n",
              "      <td>0.000000</td>\n",
              "      <td>0.000000</td>\n",
              "      <td>0.000000</td>\n",
              "      <td>0.000000</td>\n",
              "      <td>0.000000</td>\n",
              "      <td>0.000000</td>\n",
              "      <td>0.000000</td>\n",
              "      <td>0.000000</td>\n",
              "      <td>0.000000</td>\n",
              "      <td>0.000000</td>\n",
              "      <td>0.000000</td>\n",
              "      <td>1.000000</td>\n",
              "      <td>0.000000</td>\n",
              "      <td>1.000000</td>\n",
              "      <td>1.000000</td>\n",
              "      <td>0.000000</td>\n",
              "      <td>0.000000</td>\n",
              "      <td>0.000000</td>\n",
              "      <td>0.000000</td>\n",
              "      <td>0.000000</td>\n",
              "      <td>0.000000</td>\n",
              "      <td>0.000000</td>\n",
              "      <td>0.000000</td>\n",
              "      <td>0.000000</td>\n",
              "      <td>0.000000</td>\n",
              "      <td>0.000000</td>\n",
              "      <td>0.000000</td>\n",
              "      <td>0.000000</td>\n",
              "      <td>1.000000</td>\n",
              "      <td>1.000000</td>\n",
              "      <td>0.000000</td>\n",
              "      <td>0.000000</td>\n",
              "      <td>0.000000</td>\n",
              "      <td>0.000000</td>\n",
              "      <td>0.000000</td>\n",
              "      <td>1.000000</td>\n",
              "      <td>0.000000</td>\n",
              "      <td>0.000000</td>\n",
              "      <td>0.000000</td>\n",
              "      <td>0.000000</td>\n",
              "    </tr>\n",
              "  </tbody>\n",
              "</table>\n",
              "<p>5 rows × 242 columns</p>\n",
              "</div>"
            ],
            "text/plain": [
              "               74        153       64   ...       117       47        172\n",
              "age       0.291667  0.770833  0.604167  ...  0.562500  0.375000  0.604167\n",
              "sex       0.000000  0.000000  1.000000  ...  1.000000  1.000000  1.000000\n",
              "trestbps  0.264151  0.490566  0.433962  ...  0.245283  0.415094  0.245283\n",
              "chol      0.198630  0.347032  0.194064  ...  0.152968  0.299087  0.360731\n",
              "fbs       0.000000  0.000000  1.000000  ...  0.000000  0.000000  0.000000\n",
              "\n",
              "[5 rows x 242 columns]"
            ]
          },
          "metadata": {
            "tags": []
          },
          "execution_count": 21
        }
      ]
    },
    {
      "cell_type": "code",
      "metadata": {
        "id": "fqC9VgNQXL_F",
        "colab_type": "code",
        "colab": {}
      },
      "source": [
        "# Let's say weight = 0.01 and bias = 0.0\n",
        "# digamos un peso = 0.01 ^ bias = 0.0\n",
        "\n",
        "# initialize\n",
        "# np.full((tuple-dimensiones), contenido) // las dimensiones para np.full(), se cuentan desde 1\n",
        "def initialize(dimension):\n",
        "\n",
        "  weight = np.full((dimension, 1), 0.01)\n",
        "  bias = 0.0\n",
        "\n",
        "  return  weight, bias\n",
        "\n",
        "# Creando Funcion Sigmoid\n",
        "# devuelve el valore de la funcion sigmoide con el valor ingresado\n",
        "def sigmoid(z):\n",
        "\n",
        "  y_head = 1 / (1 + np.exp(-z))\n",
        "\n",
        "  return y_head\n",
        "\n"
      ],
      "execution_count": 22,
      "outputs": []
    },
    {
      "cell_type": "code",
      "metadata": {
        "id": "OPCuxwaWXL5m",
        "colab_type": "code",
        "colab": {}
      },
      "source": [
        "## Forward and Backward Propagation, propragacion hacia adelante y hacia atras\n",
        "'''\n",
        "By the way in formulas;\n",
        "\n",
        "h0(x^i)= y_head\n",
        "y^i = y_train\n",
        "x^i = x_train\n",
        "'''\n",
        "\n",
        "def forwardBackward(weight, bias, x_train, y_train):\n",
        "\n",
        "  # Forward\n",
        "  y_head = sigmoid(np.dot(weight.T, x_train) + bias) # y_head is h_teta(x^(i))\n",
        "  # Loss of cost funtion\n",
        "  loss = -(y_train * np.log(y_head)) + (1 - y_train) * np.log(1 - y_head)\n",
        "  # Cost\n",
        "  # usamos el shape 1 por el orden de nuestro datos etiquetas estan en filas\n",
        "  cost = np.sum(loss) / x_train.shape[1]\n",
        "  # --end forward\n",
        "\n",
        "  # Backward\n",
        "  derivative_weights = np.dot(x_train, ((y_head - y_train).T)) / x_train.shape[1]\n",
        "  derivative_bias = np.sum(y_head - y_train) / x_train.shape[1]\n",
        "  gradients = {'Derivative Weights': derivative_weights, 'Derivative Bias' : derivative_bias}\n",
        "\n",
        "  return cost, gradients\n"
      ],
      "execution_count": 23,
      "outputs": []
    },
    {
      "cell_type": "code",
      "metadata": {
        "id": "Q0_gS8spfxcj",
        "colab_type": "code",
        "colab": {}
      },
      "source": [
        "def Update(weight, bias, x_train, y_train, LearningRate, iteration):\n",
        "\n",
        "  costList = []\n",
        "  \n",
        "  index = []\n",
        "\n",
        "  # For each iteraction, update weight and bias values\n",
        "  for _ in range(iteration):\n",
        "\n",
        "    cost, gradients = forwardBackward(weight, bias, x_train, y_train)\n",
        "\n",
        "    weight = weight - LearningRate * gradients['Derivative Weights']\n",
        "\n",
        "    bias = bias - LearningRate * gradients['Derivative Bias']\n",
        "\n",
        "    costList.append(cost)\n",
        "\n",
        "    index.append(_)\n",
        "\n",
        "  parameters = {'weight':weight, 'bias':bias}\n",
        "\n",
        "  print('Iteration',iteration)\n",
        "  print('cost',cost)\n",
        "\n",
        "  plt.plot(index, costList)\n",
        "  plt.ylabel('Cost')\n",
        "  plt.xlabel('Number of iteration')\n",
        "  plt.show()\n",
        "\n",
        "  return parameters, gradients"
      ],
      "execution_count": 24,
      "outputs": []
    },
    {
      "cell_type": "code",
      "metadata": {
        "id": "Ato9aUpt1WYy",
        "colab_type": "code",
        "colab": {}
      },
      "source": [
        "def predict(weight, bias, x_test):\n",
        "\n",
        "  z = np.dot(weight.T, x_test) + bias\n",
        "\n",
        "  y_head = sigmoid(z)\n",
        "\n",
        "  y_prediction = np.zeros((1, x_test.shape[1]))\n",
        "\n",
        "  for _ in range(y_head.shape[1]):\n",
        "\n",
        "    if y_head[0,_] <= .5:\n",
        "      \n",
        "      y_prediction[0,_] == 0\n",
        "\n",
        "    else:\n",
        "\n",
        "      y_prediction[0,_] == 1\n",
        "\n",
        "  return y_prediction\n"
      ],
      "execution_count": 25,
      "outputs": []
    },
    {
      "cell_type": "code",
      "metadata": {
        "id": "LCkta4j61Wgp",
        "colab_type": "code",
        "colab": {
          "base_uri": "https://localhost:8080/",
          "height": 329
        },
        "outputId": "cd767458-34b8-4fd7-a028-5ff9191163de"
      },
      "source": [
        "def logistic_regression(x_train, y_train, x_test, y_test, LearningRate, iteration):\n",
        "\n",
        "  dimension = x_train.shape[0]\n",
        "\n",
        "  weight, bias = initialize(dimension)\n",
        "\n",
        "  parameters, gradients = Update(weight, bias, x_train, y_train, LearningRate, iteration)\n",
        "\n",
        "  y_prediction = predict(parameters['weight'], parameters['bias'], x_test)\n",
        "\n",
        "  print('Test accuracy {:.2f}'.format((100 - np.mean(np.abs(y_prediction - y_test)) * 100)))\n",
        "\n",
        "\n",
        "logistic_regression(X_train, y_train, X_test, y_test, 1, 100)"
      ],
      "execution_count": 26,
      "outputs": [
        {
          "output_type": "stream",
          "text": [
            "Iteration 100\n",
            "cost -0.009978192046849615\n"
          ],
          "name": "stdout"
        },
        {
          "output_type": "display_data",
          "data": {
            "image/png": "[encoded data removed]",
            "text/plain": [
              "<Figure size 432x288 with 1 Axes>"
            ]
          },
          "metadata": {
            "tags": [],
            "needs_background": "light"
          }
        },
        {
          "output_type": "stream",
          "text": [
            "Test accuracy 44.26\n"
          ],
          "name": "stdout"
        }
      ]
    },
    {
      "cell_type": "code",
      "metadata": {
        "id": "w5jbu-oDLh2p",
        "colab_type": "code",
        "colab": {
          "base_uri": "https://localhost:8080/",
          "height": 33
        },
        "outputId": "a25a006e-7a6c-465f-b039-083d54570d43"
      },
      "source": [
        "accuracy = {}\n",
        "\n",
        "lr = LogisticRegression().fit(X_train.T, y_train.T)\n",
        "\n",
        "acc = lr.score(X_test.T, y_test.T) * 100\n",
        "\n",
        "accuracy['Logistic Regression'] = acc\n",
        "\n",
        "print('Test accuries {:.2f}%'.format(acc))"
      ],
      "execution_count": 27,
      "outputs": [
        {
          "output_type": "stream",
          "text": [
            "Test accuries 86.89%\n"
          ],
          "name": "stdout"
        }
      ]
    },
    {
      "cell_type": "code",
      "metadata": {
        "id": "gIZEFaKh4wId",
        "colab_type": "code",
        "colab": {
          "base_uri": "https://localhost:8080/",
          "height": 33
        },
        "outputId": "c95031c9-e61e-46d1-876f-0acbfd9130fe"
      },
      "source": [
        "from sklearn.neighbors import KNeighborsClassifier\n",
        "\n",
        "knn = KNeighborsClassifier(n_neighbors = 3).fit(X_train.T, y_train.T)\n",
        "\n",
        "prediction = knn.predict(X_test.T)\n",
        "\n",
        "print('{} n_kneighbors; test accuracy {:.2f}'.format(2, knn.score(X_test.T, y_test.T)*100))"
      ],
      "execution_count": 28,
      "outputs": [
        {
          "output_type": "stream",
          "text": [
            "2 n_kneighbors; test accuracy 88.52\n"
          ],
          "name": "stdout"
        }
      ]
    },
    {
      "cell_type": "code",
      "metadata": {
        "id": "KDyiDgT-4wGx",
        "colab_type": "code",
        "colab": {
          "base_uri": "https://localhost:8080/",
          "height": 296
        },
        "outputId": "c263d4fc-0212-48c8-e136-a11040df66ca"
      },
      "source": [
        "# score's for our model machine learning\n",
        "\n",
        "scoreList = []\n",
        "\n",
        "for _ in range(1,20):\n",
        "\n",
        "  knn_2 = KNeighborsClassifier(n_neighbors = _).fit(X_train.T, y_train.T)\n",
        "  scoreList.append(knn_2.score(X_test.T, y_test.T))\n",
        "\n",
        "acc = max(scoreList) * 100\n",
        "accuracy['KNeighborsClasifier'] = acc\n",
        "print('Test accuracy KNN {:.2f}%'.format(acc))\n",
        "\n",
        "plt.plot(range(1,20), scoreList)\n",
        "plt.xticks(np.arange(1,20,1))\n",
        "plt.xlabel('n_neighbors')\n",
        "plt.ylabel('Score')\n",
        "plt.show()"
      ],
      "execution_count": 29,
      "outputs": [
        {
          "output_type": "stream",
          "text": [
            "Test accuracy KNN 88.52%\n"
          ],
          "name": "stdout"
        },
        {
          "output_type": "display_data",
          "data": {
            "image/png": "[encoded data removed]",
            "text/plain": [
              "<Figure size 432x288 with 1 Axes>"
            ]
          },
          "metadata": {
            "tags": [],
            "needs_background": "light"
          }
        }
      ]
    },
    {
      "cell_type": "code",
      "metadata": {
        "id": "jKPPjS5pRRyy",
        "colab_type": "code",
        "colab": {
          "base_uri": "https://localhost:8080/",
          "height": 33
        },
        "outputId": "840dfee1-17f7-4afe-dc87-e407e8a4cb4b"
      },
      "source": [
        "# Support machine vector\n",
        "\n",
        "from sklearn.svm import SVC\n",
        "\n",
        "svm = SVC(random_state = 0).fit(X_train.T, y_train.T)\n",
        "\n",
        "acc = svm.score(X_test.T, y_test.T) * 100\n",
        "\n",
        "accuracy['SVC'] = acc\n",
        "\n",
        "print('Test accuracy SVC {:.2f}%'.format(acc))"
      ],
      "execution_count": 30,
      "outputs": [
        {
          "output_type": "stream",
          "text": [
            "Test accuracy SVC 88.52%\n"
          ],
          "name": "stdout"
        }
      ]
    },
    {
      "cell_type": "code",
      "metadata": {
        "id": "A2ld0UrqG19k",
        "colab_type": "code",
        "colab": {
          "base_uri": "https://localhost:8080/",
          "height": 33
        },
        "outputId": "9a61a59c-9178-4761-ffda-99b3815e563b"
      },
      "source": [
        "from sklearn.naive_bayes import GaussianNB\n",
        "\n",
        "nb = GaussianNB().fit(X_train.T, y_train.T)\n",
        "\n",
        "acc = nb.score(X_test.T, y_test.T) * 100\n",
        "\n",
        "accuracy['Naive Bayes'] = acc\n",
        "\n",
        "print('Test accuracy Naive Bayes {:.2f}%'.format(acc))"
      ],
      "execution_count": 31,
      "outputs": [
        {
          "output_type": "stream",
          "text": [
            "Test accuracy Naive Bayes 86.89%\n"
          ],
          "name": "stdout"
        }
      ]
    },
    {
      "cell_type": "code",
      "metadata": {
        "id": "mqmtNuMpG2E5",
        "colab_type": "code",
        "colab": {
          "base_uri": "https://localhost:8080/",
          "height": 33
        },
        "outputId": "5059b7af-6af2-4165-da5f-dbf5b8b79cec"
      },
      "source": [
        "from sklearn.tree import DecisionTreeClassifier\n",
        "\n",
        "dtc = DecisionTreeClassifier(max_depth=3).fit(X_train.T, y_train.T)\n",
        "\n",
        "acc = dtc.score(X_test.T, y_test.T) * 100\n",
        "\n",
        "accuracy['Decision Tree Classifier'] = acc\n",
        "\n",
        "print('Test accuracy Decision Tree Classifier {:.2f}'.format(acc))"
      ],
      "execution_count": 32,
      "outputs": [
        {
          "output_type": "stream",
          "text": [
            "Test accuracy Decision Tree Classifier 85.25\n"
          ],
          "name": "stdout"
        }
      ]
    },
    {
      "cell_type": "code",
      "metadata": {
        "id": "KepNPv4PIxfo",
        "colab_type": "code",
        "colab": {
          "base_uri": "https://localhost:8080/",
          "height": 33
        },
        "outputId": "79811f68-a8eb-445e-a1c7-6b9333c7e8df"
      },
      "source": [
        "from sklearn.ensemble import RandomForestClassifier\n",
        "\n",
        "rfc = RandomForestClassifier(n_estimators = 1000, random_state = 1, max_depth=3).fit(X_train.T, y_train.T)\n",
        "\n",
        "acc = rfc.score(X_test.T, y_test.T) * 100\n",
        "\n",
        "accuracy['Random Forest Classifier'] = acc\n",
        "\n",
        "print('Test accuracy Random Forest Classifier {:.2f}%'.format(acc))"
      ],
      "execution_count": 33,
      "outputs": [
        {
          "output_type": "stream",
          "text": [
            "Test accuracy Random Forest Classifier 88.52%\n"
          ],
          "name": "stdout"
        }
      ]
    },
    {
      "cell_type": "code",
      "metadata": {
        "id": "Yxvp_zIPIxd0",
        "colab_type": "code",
        "colab": {
          "base_uri": "https://localhost:8080/",
          "height": 497
        },
        "outputId": "75bbdce8-ace1-4150-c935-28029facb6d9"
      },
      "source": [
        "# comparando modelos\n",
        "\n",
        "colors = ['purple', 'green', 'orange', 'magenta', '#CFC60E', '#0FBBAE']\n",
        "\n",
        "sns.set_style('whitegrid')\n",
        "plt.figure(figsize=(15,8))\n",
        "plt.ylabel('% accuracy')\n",
        "plt.xlabel('models')\n",
        "plt.yticks(np.arange(0, 100, 10))\n",
        "sns.barplot(x=list(accuracy.keys()), y=list(accuracy.values()), palette=colors)\n",
        "plt.show()"
      ],
      "execution_count": 34,
      "outputs": [
        {
          "output_type": "display_data",
          "data": {
            "image/png": "[encoded data removed]",
            "text/plain": [
              "<Figure size 1080x576 with 1 Axes>"
            ]
          },
          "metadata": {
            "tags": []
          }
        }
      ]
    },
    {
      "cell_type": "code",
      "metadata": {
        "id": "Uoe0x-gRX0gV",
        "colab_type": "code",
        "colab": {}
      },
      "source": [
        "# confusion matrix\n",
        "y_head_lr = lr.predict(X_test.T)\n",
        "knn3 = KNeighborsClassifier(n_neighbors = 3).fit(X_train.T, y_train.T)\n",
        "y_head_knn = knn3.predict(X_test.T)\n",
        "y_head_svm = svm.predict(X_test.T)\n",
        "y_head_dtc = dtc.predict(X_test.T)\n",
        "y_head_rfc = rfc.predict(X_test.T)\n",
        "y_head_nb = nb.predict(X_test.T)\n",
        "\n",
        "from sklearn.metrics import confusion_matrix\n",
        "\n",
        "cm_lr = confusion_matrix(y_test.T, y_head_lr)\n",
        "cm_knn = confusion_matrix(y_test.T, y_head_knn)\n",
        "cm_svm = confusion_matrix(y_test.T, y_head_svm)\n",
        "cm_dtc = confusion_matrix(y_test.T, y_head_svm)\n",
        "cm_rfc = confusion_matrix(y_test.T, y_head_rfc)\n",
        "cm_nb = confusion_matrix(y_test.T, y_head_nb)\n",
        "\n"
      ],
      "execution_count": 37,
      "outputs": []
    },
    {
      "cell_type": "code",
      "metadata": {
        "id": "4RduosWfch8U",
        "colab_type": "code",
        "colab": {
          "base_uri": "https://localhost:8080/",
          "height": 638
        },
        "outputId": "bf87717b-ff9a-4f9d-93eb-8ea3bb9fe1a7"
      },
      "source": [
        "# Creamos nuestra hoja para graficar multiples confusies matrixes\n",
        "plt.figure(figsize=(24,12))\n",
        "# Titulo ^ tamano\n",
        "plt.suptitle('Confusion Matrixes', fontsize=24)\n",
        "plt.subplots_adjust(wspace=.4, hspace=.4)\n",
        "\n",
        "plt.subplot(2,3,1)\n",
        "plt.title('Logistic Regression Confusion Matrix')\n",
        "sns.heatmap(cm_lr, annot=True, cmap='Blues', fmt='d', cbar=False, annot_kws={'size':24})\n",
        "\n",
        "\n",
        "plt.subplot(2,3,2)\n",
        "plt.title('KNeighborsClassifier Confusion Matrix')\n",
        "sns.heatmap(cm_knn, cmap='Blues', annot=True, cbar=False, fmt='d', annot_kws={'size':24})\n",
        "\n",
        "plt.subplot(2,3,3)\n",
        "plt.title('Support Vector Machine Classifier Confusion Matrix')\n",
        "sns.heatmap(cm_svm, cmap='Blues', cbar=False, annot=True, annot_kws={'size':24}, fmt='d')\n",
        "\n",
        "plt.subplot(2,3,4)\n",
        "plt.title('Decision Tree Classifier Confusion Matrix')\n",
        "sns.heatmap(cm_dtc, annot=True, fmt='d', cbar=False, cmap='Blues', annot_kws={'size':24})\n",
        "\n",
        "plt.subplot(2,3,5)\n",
        "plt.title('Random Forest Classifier Confusion Matrix')\n",
        "sns.heatmap(cm_rfc, annot=True, cmap='Blues', cbar=False, fmt='d', annot_kws={'size':24})\n",
        "\n",
        "plt.subplot(2,3,6)\n",
        "plt.title('Naive Bayes - GaussianNB Confusion Matrix')\n",
        "sns.heatmap(cm_nb, cmap='Blues', annot=True, fmt='d', annot_kws={'size':24}, cbar=False)"
      ],
      "execution_count": 87,
      "outputs": [
        {
          "output_type": "execute_result",
          "data": {
            "text/plain": [
              "<matplotlib.axes._subplots.AxesSubplot at 0x7fe6b9f52438>"
            ]
          },
          "metadata": {
            "tags": []
          },
          "execution_count": 87
        },
        {
          "output_type": "display_data",
          "data": {
            "image/png": "[encoded data removed]",
            "text/plain": [
              "<Figure size 1728x864 with 6 Axes>"
            ]
          },
          "metadata": {
            "tags": []
          }
        }
      ]
    },
    {
      "cell_type": "code",
      "metadata": {
        "id": "2LdqT5DBcjZw",
        "colab_type": "code",
        "colab": {}
      },
      "source": [
        ""
      ],
      "execution_count": null,
      "outputs": []
    },
    {
      "cell_type": "code",
      "metadata": {
        "id": "hmB5mcRoch6Q",
        "colab_type": "code",
        "colab": {}
      },
      "source": [
        ""
      ],
      "execution_count": null,
      "outputs": []
    }
  ]
}