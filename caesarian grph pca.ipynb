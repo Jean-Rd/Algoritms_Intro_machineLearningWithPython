{
  "nbformat": 4,
  "nbformat_minor": 0,
  "metadata": {
    "colab": {
      "name": "Untitled57.ipynb",
      "provenance": [],
      "authorship_tag": "ABX9TyMnvAXWDX4RVXYD8sMjF2kl",
      "include_colab_link": true
    },
    "kernelspec": {
      "name": "python3",
      "display_name": "Python 3"
    }
  },
  "cells": [
    {
      "cell_type": "markdown",
      "metadata": {
        "id": "view-in-github",
        "colab_type": "text"
      },
      "source": [
        "<a href=\"https://colab.research.google.com/github/Jean-Rd/Algoritms_Intro_machineLearningWithPython/blob/master/caesarian%20grph%20pca.ipynb\" target=\"_parent\"><img src=\"https://colab.research.google.com/assets/colab-badge.svg\" alt=\"Open In Colab\"/></a>"
      ]
    },
    {
      "cell_type": "code",
      "metadata": {
        "id": "XnkeOl_bKZGa"
      },
      "source": [
        "import pandas as pd\r\n",
        "import numpy as np\r\n",
        "import matplotlib.pyplot as plt\r\n",
        "import random"
      ],
      "execution_count": 1,
      "outputs": []
    },
    {
      "cell_type": "code",
      "metadata": {
        "id": "H6a7cYthUeGj"
      },
      "source": [
        "seed =1234"
      ],
      "execution_count": 2,
      "outputs": []
    },
    {
      "cell_type": "code",
      "metadata": {
        "id": "nGmOYG_-UfhQ"
      },
      "source": [
        "np.random.seed(seed=seed)\r\n",
        "random.seed(seed)"
      ],
      "execution_count": 3,
      "outputs": []
    },
    {
      "cell_type": "code",
      "metadata": {
        "id": "l2vHncQ8Q3_b"
      },
      "source": [
        "caesarian = pd.read_csv(r'https://raw.githubusercontent.com/Jean-Rd/Datasets/master/Caesarian%20Section%20Classification%20Dataset(CSV).csv')"
      ],
      "execution_count": 4,
      "outputs": []
    },
    {
      "cell_type": "code",
      "metadata": {
        "colab": {
          "base_uri": "https://localhost:8080/",
          "height": 206
        },
        "id": "FO_kc4A_Q4CM",
        "outputId": "f623db7c-c0ec-4d27-9299-0a151e6d2403"
      },
      "source": [
        "caesarian.head()"
      ],
      "execution_count": 5,
      "outputs": [
        {
          "output_type": "execute_result",
          "data": {
            "text/html": [
              "<div>\n",
              "<style scoped>\n",
              "    .dataframe tbody tr th:only-of-type {\n",
              "        vertical-align: middle;\n",
              "    }\n",
              "\n",
              "    .dataframe tbody tr th {\n",
              "        vertical-align: top;\n",
              "    }\n",
              "\n",
              "    .dataframe thead th {\n",
              "        text-align: right;\n",
              "    }\n",
              "</style>\n",
              "<table border=\"1\" class=\"dataframe\">\n",
              "  <thead>\n",
              "    <tr style=\"text-align: right;\">\n",
              "      <th></th>\n",
              "      <th>Age</th>\n",
              "      <th>Delivey No</th>\n",
              "      <th>Delivery No</th>\n",
              "      <th>Blood of Pressure</th>\n",
              "      <th>Heart Problem</th>\n",
              "      <th>Caesarian</th>\n",
              "    </tr>\n",
              "  </thead>\n",
              "  <tbody>\n",
              "    <tr>\n",
              "      <th>0</th>\n",
              "      <td>22</td>\n",
              "      <td>1</td>\n",
              "      <td>Timely</td>\n",
              "      <td>High</td>\n",
              "      <td>apt</td>\n",
              "      <td>No</td>\n",
              "    </tr>\n",
              "    <tr>\n",
              "      <th>1</th>\n",
              "      <td>26</td>\n",
              "      <td>2</td>\n",
              "      <td>Timely</td>\n",
              "      <td>Normal</td>\n",
              "      <td>apt</td>\n",
              "      <td>Yes</td>\n",
              "    </tr>\n",
              "    <tr>\n",
              "      <th>2</th>\n",
              "      <td>26</td>\n",
              "      <td>2</td>\n",
              "      <td>Premature</td>\n",
              "      <td>Normal</td>\n",
              "      <td>apt</td>\n",
              "      <td>No</td>\n",
              "    </tr>\n",
              "    <tr>\n",
              "      <th>3</th>\n",
              "      <td>28</td>\n",
              "      <td>1</td>\n",
              "      <td>Timely</td>\n",
              "      <td>High</td>\n",
              "      <td>apt</td>\n",
              "      <td>No</td>\n",
              "    </tr>\n",
              "    <tr>\n",
              "      <th>4</th>\n",
              "      <td>22</td>\n",
              "      <td>2</td>\n",
              "      <td>Timely</td>\n",
              "      <td>Normal</td>\n",
              "      <td>apt</td>\n",
              "      <td>Yes</td>\n",
              "    </tr>\n",
              "  </tbody>\n",
              "</table>\n",
              "</div>"
            ],
            "text/plain": [
              "   Age  Delivey No Delivery No Blood of Pressure Heart Problem Caesarian\n",
              "0   22           1      Timely              High           apt        No\n",
              "1   26           2      Timely            Normal           apt       Yes\n",
              "2   26           2   Premature            Normal           apt        No\n",
              "3   28           1      Timely              High           apt        No\n",
              "4   22           2      Timely            Normal           apt       Yes"
            ]
          },
          "metadata": {
            "tags": []
          },
          "execution_count": 5
        }
      ]
    },
    {
      "cell_type": "code",
      "metadata": {
        "id": "ollI-ErPQ4Ef"
      },
      "source": [
        "caesarian.drop('Delivey No', axis=1, inplace=True)"
      ],
      "execution_count": 6,
      "outputs": []
    },
    {
      "cell_type": "code",
      "metadata": {
        "colab": {
          "base_uri": "https://localhost:8080/",
          "height": 206
        },
        "id": "iU_wdXxuRoY9",
        "outputId": "3619a586-20cd-4858-9d43-4c47a54291a4"
      },
      "source": [
        "caesarian.head()"
      ],
      "execution_count": 7,
      "outputs": [
        {
          "output_type": "execute_result",
          "data": {
            "text/html": [
              "<div>\n",
              "<style scoped>\n",
              "    .dataframe tbody tr th:only-of-type {\n",
              "        vertical-align: middle;\n",
              "    }\n",
              "\n",
              "    .dataframe tbody tr th {\n",
              "        vertical-align: top;\n",
              "    }\n",
              "\n",
              "    .dataframe thead th {\n",
              "        text-align: right;\n",
              "    }\n",
              "</style>\n",
              "<table border=\"1\" class=\"dataframe\">\n",
              "  <thead>\n",
              "    <tr style=\"text-align: right;\">\n",
              "      <th></th>\n",
              "      <th>Age</th>\n",
              "      <th>Delivery No</th>\n",
              "      <th>Blood of Pressure</th>\n",
              "      <th>Heart Problem</th>\n",
              "      <th>Caesarian</th>\n",
              "    </tr>\n",
              "  </thead>\n",
              "  <tbody>\n",
              "    <tr>\n",
              "      <th>0</th>\n",
              "      <td>22</td>\n",
              "      <td>Timely</td>\n",
              "      <td>High</td>\n",
              "      <td>apt</td>\n",
              "      <td>No</td>\n",
              "    </tr>\n",
              "    <tr>\n",
              "      <th>1</th>\n",
              "      <td>26</td>\n",
              "      <td>Timely</td>\n",
              "      <td>Normal</td>\n",
              "      <td>apt</td>\n",
              "      <td>Yes</td>\n",
              "    </tr>\n",
              "    <tr>\n",
              "      <th>2</th>\n",
              "      <td>26</td>\n",
              "      <td>Premature</td>\n",
              "      <td>Normal</td>\n",
              "      <td>apt</td>\n",
              "      <td>No</td>\n",
              "    </tr>\n",
              "    <tr>\n",
              "      <th>3</th>\n",
              "      <td>28</td>\n",
              "      <td>Timely</td>\n",
              "      <td>High</td>\n",
              "      <td>apt</td>\n",
              "      <td>No</td>\n",
              "    </tr>\n",
              "    <tr>\n",
              "      <th>4</th>\n",
              "      <td>22</td>\n",
              "      <td>Timely</td>\n",
              "      <td>Normal</td>\n",
              "      <td>apt</td>\n",
              "      <td>Yes</td>\n",
              "    </tr>\n",
              "  </tbody>\n",
              "</table>\n",
              "</div>"
            ],
            "text/plain": [
              "   Age Delivery No Blood of Pressure Heart Problem Caesarian\n",
              "0   22      Timely              High           apt        No\n",
              "1   26      Timely            Normal           apt       Yes\n",
              "2   26   Premature            Normal           apt        No\n",
              "3   28      Timely              High           apt        No\n",
              "4   22      Timely            Normal           apt       Yes"
            ]
          },
          "metadata": {
            "tags": []
          },
          "execution_count": 7
        }
      ]
    },
    {
      "cell_type": "code",
      "metadata": {
        "colab": {
          "base_uri": "https://localhost:8080/"
        },
        "id": "KnTs5odCQ4HJ",
        "outputId": "b4b899fd-1d38-4d9c-f718-9397d47ee750"
      },
      "source": [
        "caesarian.info()"
      ],
      "execution_count": 8,
      "outputs": [
        {
          "output_type": "stream",
          "text": [
            "<class 'pandas.core.frame.DataFrame'>\n",
            "RangeIndex: 80 entries, 0 to 79\n",
            "Data columns (total 5 columns):\n",
            " #   Column             Non-Null Count  Dtype \n",
            "---  ------             --------------  ----- \n",
            " 0   Age                80 non-null     int64 \n",
            " 1   Delivery No        80 non-null     object\n",
            " 2   Blood of Pressure  80 non-null     object\n",
            " 3   Heart Problem      80 non-null     object\n",
            " 4   Caesarian          80 non-null     object\n",
            "dtypes: int64(1), object(4)\n",
            "memory usage: 3.2+ KB\n"
          ],
          "name": "stdout"
        }
      ]
    },
    {
      "cell_type": "code",
      "metadata": {
        "id": "01G10XxCSLNe"
      },
      "source": [
        "X = caesarian.iloc[:,0:4]\r\n",
        "y = caesarian.iloc[:, 4:]"
      ],
      "execution_count": 9,
      "outputs": []
    },
    {
      "cell_type": "code",
      "metadata": {
        "colab": {
          "base_uri": "https://localhost:8080/"
        },
        "id": "6WrXnWVrSiYw",
        "outputId": "067b0934-523d-4e3d-dfa1-9dd30aa30094"
      },
      "source": [
        "y.replace('yes', 'Yes', inplace=True)\r\n",
        "\r\n",
        "y.value_counts()"
      ],
      "execution_count": 10,
      "outputs": [
        {
          "output_type": "execute_result",
          "data": {
            "text/plain": [
              "Caesarian\n",
              "Yes          46\n",
              "No           34\n",
              "dtype: int64"
            ]
          },
          "metadata": {
            "tags": []
          },
          "execution_count": 10
        }
      ]
    },
    {
      "cell_type": "code",
      "metadata": {
        "colab": {
          "base_uri": "https://localhost:8080/"
        },
        "id": "XPtUKl4pSotB",
        "outputId": "8f7db05a-d087-4617-8650-4afc79d4e660"
      },
      "source": [
        "X['Blood of Pressure'].value_counts()\r\n",
        "X['Blood of Pressure'].replace('low', 'Low', inplace=True)\r\n",
        "X['Blood of Pressure'].value_counts()"
      ],
      "execution_count": 11,
      "outputs": [
        {
          "output_type": "execute_result",
          "data": {
            "text/plain": [
              "Normal    40\n",
              "High      20\n",
              "Low       20\n",
              "Name: Blood of Pressure, dtype: int64"
            ]
          },
          "metadata": {
            "tags": []
          },
          "execution_count": 11
        }
      ]
    },
    {
      "cell_type": "code",
      "metadata": {
        "colab": {
          "base_uri": "https://localhost:8080/"
        },
        "id": "UvsAa_itS-1M",
        "outputId": "74c8356f-95bf-4cdb-fa2e-f598c4f3284f"
      },
      "source": [
        "X['Heart Problem'].value_counts()"
      ],
      "execution_count": 12,
      "outputs": [
        {
          "output_type": "execute_result",
          "data": {
            "text/plain": [
              "apt      50\n",
              "inept    30\n",
              "Name: Heart Problem, dtype: int64"
            ]
          },
          "metadata": {
            "tags": []
          },
          "execution_count": 12
        }
      ]
    },
    {
      "cell_type": "code",
      "metadata": {
        "colab": {
          "base_uri": "https://localhost:8080/"
        },
        "id": "apP6r5TiXdAJ",
        "outputId": "0cad6ab8-6e0e-4205-8eee-1dabaafd0f85"
      },
      "source": [
        "X['Heart Problem'].replace('apt', 1, inplace=True)\r\n",
        "X['Heart Problem'].replace('inept', 0, inplace=True)\r\n",
        "\r\n",
        "X['Heart Problem'].value_counts()"
      ],
      "execution_count": 13,
      "outputs": [
        {
          "output_type": "execute_result",
          "data": {
            "text/plain": [
              "1    50\n",
              "0    30\n",
              "Name: Heart Problem, dtype: int64"
            ]
          },
          "metadata": {
            "tags": []
          },
          "execution_count": 13
        }
      ]
    },
    {
      "cell_type": "code",
      "metadata": {
        "colab": {
          "base_uri": "https://localhost:8080/"
        },
        "id": "acCvE8D3Xsti",
        "outputId": "ecf37496-bbef-4caa-e686-20e1ec3cb219"
      },
      "source": [
        "X['Blood of Pressure'].replace('Low', 0, inplace=True)\r\n",
        "X['Blood of Pressure'].replace('Normal', 1, inplace=True)\r\n",
        "X['Blood of Pressure'].replace('High', 2, inplace=True)\r\n",
        "\r\n",
        "X['Blood of Pressure'].value_counts()"
      ],
      "execution_count": 14,
      "outputs": [
        {
          "output_type": "execute_result",
          "data": {
            "text/plain": [
              "1    40\n",
              "2    20\n",
              "0    20\n",
              "Name: Blood of Pressure, dtype: int64"
            ]
          },
          "metadata": {
            "tags": []
          },
          "execution_count": 14
        }
      ]
    },
    {
      "cell_type": "code",
      "metadata": {
        "colab": {
          "base_uri": "https://localhost:8080/"
        },
        "id": "8wekkb6nYA39",
        "outputId": "f5143222-56a7-4189-cd8c-f585d51c264f"
      },
      "source": [
        "X['Delivery No'].value_counts()"
      ],
      "execution_count": 15,
      "outputs": [
        {
          "output_type": "execute_result",
          "data": {
            "text/plain": [
              "Timely       46\n",
              "Premature    17\n",
              "Latecomer    17\n",
              "Name: Delivery No, dtype: int64"
            ]
          },
          "metadata": {
            "tags": []
          },
          "execution_count": 15
        }
      ]
    },
    {
      "cell_type": "code",
      "metadata": {
        "colab": {
          "base_uri": "https://localhost:8080/"
        },
        "id": "YhiLVk-uYEbb",
        "outputId": "551d1c33-7e7a-4091-f5ff-155162e8917c"
      },
      "source": [
        "X['Delivery No'].replace('Premature', 0, inplace=True)\r\n",
        "X['Delivery No'].replace('Latecomer', 1, inplace=True)\r\n",
        "X['Delivery No'].replace('Timely', 2, inplace=True)\r\n",
        "\r\n",
        "X['Delivery No'].value_counts()"
      ],
      "execution_count": 16,
      "outputs": [
        {
          "output_type": "execute_result",
          "data": {
            "text/plain": [
              "2    46\n",
              "1    17\n",
              "0    17\n",
              "Name: Delivery No, dtype: int64"
            ]
          },
          "metadata": {
            "tags": []
          },
          "execution_count": 16
        }
      ]
    },
    {
      "cell_type": "code",
      "metadata": {
        "colab": {
          "base_uri": "https://localhost:8080/"
        },
        "id": "B3Z93MM7YEeX",
        "outputId": "6d8ba7ff-7cce-4631-9edd-fe6713f5e4ec"
      },
      "source": [
        "X.info()"
      ],
      "execution_count": 17,
      "outputs": [
        {
          "output_type": "stream",
          "text": [
            "<class 'pandas.core.frame.DataFrame'>\n",
            "RangeIndex: 80 entries, 0 to 79\n",
            "Data columns (total 4 columns):\n",
            " #   Column             Non-Null Count  Dtype\n",
            "---  ------             --------------  -----\n",
            " 0   Age                80 non-null     int64\n",
            " 1   Delivery No        80 non-null     int64\n",
            " 2   Blood of Pressure  80 non-null     int64\n",
            " 3   Heart Problem      80 non-null     int64\n",
            "dtypes: int64(4)\n",
            "memory usage: 2.6 KB\n"
          ],
          "name": "stdout"
        }
      ]
    },
    {
      "cell_type": "code",
      "metadata": {
        "colab": {
          "base_uri": "https://localhost:8080/"
        },
        "id": "mUyqEUV3YEgq",
        "outputId": "49af07f2-b0ac-4464-f2e6-a5d0b8147f15"
      },
      "source": [
        "for i in X.columns:\r\n",
        "\r\n",
        "  X[i] = X[i].astype(np.uint8)\r\n",
        "\r\n",
        "X.info()"
      ],
      "execution_count": 18,
      "outputs": [
        {
          "output_type": "stream",
          "text": [
            "<class 'pandas.core.frame.DataFrame'>\n",
            "RangeIndex: 80 entries, 0 to 79\n",
            "Data columns (total 4 columns):\n",
            " #   Column             Non-Null Count  Dtype\n",
            "---  ------             --------------  -----\n",
            " 0   Age                80 non-null     uint8\n",
            " 1   Delivery No        80 non-null     uint8\n",
            " 2   Blood of Pressure  80 non-null     uint8\n",
            " 3   Heart Problem      80 non-null     uint8\n",
            "dtypes: uint8(4)\n",
            "memory usage: 448.0 bytes\n"
          ],
          "name": "stdout"
        }
      ]
    },
    {
      "cell_type": "code",
      "metadata": {
        "colab": {
          "base_uri": "https://localhost:8080/"
        },
        "id": "nIyUMBEiYnsW",
        "outputId": "90b4dd86-127a-42fd-d8bc-f31cd4ada762"
      },
      "source": [
        "y.value_counts()\r\n",
        "\r\n",
        "y.replace('Yes', 1, inplace=True)\r\n",
        "y.replace('No', 0, inplace=True)\r\n",
        "\r\n",
        "y.value_counts()\r\n",
        "\r\n",
        "y = y.astype(np.uint8)\r\n",
        "\r\n",
        "y.info()"
      ],
      "execution_count": 19,
      "outputs": [
        {
          "output_type": "stream",
          "text": [
            "<class 'pandas.core.frame.DataFrame'>\n",
            "RangeIndex: 80 entries, 0 to 79\n",
            "Data columns (total 1 columns):\n",
            " #   Column     Non-Null Count  Dtype\n",
            "---  ------     --------------  -----\n",
            " 0   Caesarian  80 non-null     uint8\n",
            "dtypes: uint8(1)\n",
            "memory usage: 208.0 bytes\n"
          ],
          "name": "stdout"
        }
      ]
    },
    {
      "cell_type": "code",
      "metadata": {
        "id": "4MlNapz-SXQe"
      },
      "source": [
        "from sklearn.model_selection import train_test_split\r\n",
        "\r\n",
        "X_train, X_, y_train, y_ = train_test_split(X, y, train_size=0.6, stratify=y, random_state=0)\r\n",
        "X_test, X_val, y_test, y_val = train_test_split(X_, y_, test_size=0.5, stratify=y_, random_state=0)"
      ],
      "execution_count": 20,
      "outputs": []
    },
    {
      "cell_type": "code",
      "metadata": {
        "colab": {
          "base_uri": "https://localhost:8080/"
        },
        "id": "6Gy9j_u-TceM",
        "outputId": "a5b624b0-bad7-474a-e1c5-a7005ae65d42"
      },
      "source": [
        "X_train.shape, X_test.shape, X_test.shape"
      ],
      "execution_count": 21,
      "outputs": [
        {
          "output_type": "execute_result",
          "data": {
            "text/plain": [
              "((48, 4), (16, 4), (16, 4))"
            ]
          },
          "metadata": {
            "tags": []
          },
          "execution_count": 21
        }
      ]
    },
    {
      "cell_type": "code",
      "metadata": {
        "id": "vWSI2IdIVpyV"
      },
      "source": [
        "import warnings\r\n",
        "\r\n",
        "warnings.filterwarnings('ignore')"
      ],
      "execution_count": 22,
      "outputs": []
    },
    {
      "cell_type": "code",
      "metadata": {
        "colab": {
          "base_uri": "https://localhost:8080/",
          "height": 206
        },
        "id": "7sDgtGOGRtxI",
        "outputId": "69fdc9e5-5277-4e9c-d520-eedba831adc2"
      },
      "source": [
        "X_train.head()"
      ],
      "execution_count": 23,
      "outputs": [
        {
          "output_type": "execute_result",
          "data": {
            "text/html": [
              "<div>\n",
              "<style scoped>\n",
              "    .dataframe tbody tr th:only-of-type {\n",
              "        vertical-align: middle;\n",
              "    }\n",
              "\n",
              "    .dataframe tbody tr th {\n",
              "        vertical-align: top;\n",
              "    }\n",
              "\n",
              "    .dataframe thead th {\n",
              "        text-align: right;\n",
              "    }\n",
              "</style>\n",
              "<table border=\"1\" class=\"dataframe\">\n",
              "  <thead>\n",
              "    <tr style=\"text-align: right;\">\n",
              "      <th></th>\n",
              "      <th>Age</th>\n",
              "      <th>Delivery No</th>\n",
              "      <th>Blood of Pressure</th>\n",
              "      <th>Heart Problem</th>\n",
              "    </tr>\n",
              "  </thead>\n",
              "  <tbody>\n",
              "    <tr>\n",
              "      <th>50</th>\n",
              "      <td>33</td>\n",
              "      <td>1</td>\n",
              "      <td>1</td>\n",
              "      <td>0</td>\n",
              "    </tr>\n",
              "    <tr>\n",
              "      <th>34</th>\n",
              "      <td>26</td>\n",
              "      <td>1</td>\n",
              "      <td>1</td>\n",
              "      <td>1</td>\n",
              "    </tr>\n",
              "    <tr>\n",
              "      <th>16</th>\n",
              "      <td>25</td>\n",
              "      <td>2</td>\n",
              "      <td>1</td>\n",
              "      <td>1</td>\n",
              "    </tr>\n",
              "    <tr>\n",
              "      <th>9</th>\n",
              "      <td>27</td>\n",
              "      <td>0</td>\n",
              "      <td>1</td>\n",
              "      <td>1</td>\n",
              "    </tr>\n",
              "    <tr>\n",
              "      <th>17</th>\n",
              "      <td>20</td>\n",
              "      <td>1</td>\n",
              "      <td>2</td>\n",
              "      <td>1</td>\n",
              "    </tr>\n",
              "  </tbody>\n",
              "</table>\n",
              "</div>"
            ],
            "text/plain": [
              "    Age  Delivery No  Blood of Pressure  Heart Problem\n",
              "50   33            1                  1              0\n",
              "34   26            1                  1              1\n",
              "16   25            2                  1              1\n",
              "9    27            0                  1              1\n",
              "17   20            1                  2              1"
            ]
          },
          "metadata": {
            "tags": []
          },
          "execution_count": 23
        }
      ]
    },
    {
      "cell_type": "code",
      "metadata": {
        "id": "wVl6Mpa2ZT-C"
      },
      "source": [
        "from sklearn.decomposition import PCA\r\n",
        "\r\n",
        "pca = PCA(n_components=2, svd_solver='full', random_state=65)\r\n",
        "\r\n",
        "pca.fit(X)\r\n",
        "\r\n",
        "X_pca = pca.transform(X)"
      ],
      "execution_count": 24,
      "outputs": []
    },
    {
      "cell_type": "code",
      "metadata": {
        "colab": {
          "base_uri": "https://localhost:8080/",
          "height": 206
        },
        "id": "wXFW5-OTRtzv",
        "outputId": "a8214ee6-f456-45e3-ce79-86ba0da6e809"
      },
      "source": [
        "dta_pca = pd.DataFrame(np.hstack([X_pca, y.values]))\r\n",
        "\r\n",
        "dta_pca.head()\r\n",
        "\r\n",
        "dta_pca.columns = ['comp0', 'comp1', 'target']\r\n",
        "\r\n",
        "dta_pca.head()"
      ],
      "execution_count": 25,
      "outputs": [
        {
          "output_type": "execute_result",
          "data": {
            "text/html": [
              "<div>\n",
              "<style scoped>\n",
              "    .dataframe tbody tr th:only-of-type {\n",
              "        vertical-align: middle;\n",
              "    }\n",
              "\n",
              "    .dataframe tbody tr th {\n",
              "        vertical-align: top;\n",
              "    }\n",
              "\n",
              "    .dataframe thead th {\n",
              "        text-align: right;\n",
              "    }\n",
              "</style>\n",
              "<table border=\"1\" class=\"dataframe\">\n",
              "  <thead>\n",
              "    <tr style=\"text-align: right;\">\n",
              "      <th></th>\n",
              "      <th>comp0</th>\n",
              "      <th>comp1</th>\n",
              "      <th>target</th>\n",
              "    </tr>\n",
              "  </thead>\n",
              "  <tbody>\n",
              "    <tr>\n",
              "      <th>0</th>\n",
              "      <td>-5.683837</td>\n",
              "      <td>-0.776300</td>\n",
              "      <td>0.0</td>\n",
              "    </tr>\n",
              "    <tr>\n",
              "      <th>1</th>\n",
              "      <td>-1.696048</td>\n",
              "      <td>-0.611321</td>\n",
              "      <td>1.0</td>\n",
              "    </tr>\n",
              "    <tr>\n",
              "      <th>2</th>\n",
              "      <td>-1.696189</td>\n",
              "      <td>1.361591</td>\n",
              "      <td>0.0</td>\n",
              "    </tr>\n",
              "    <tr>\n",
              "      <th>3</th>\n",
              "      <td>0.314009</td>\n",
              "      <td>-0.757029</td>\n",
              "      <td>0.0</td>\n",
              "    </tr>\n",
              "    <tr>\n",
              "      <th>4</th>\n",
              "      <td>-5.694612</td>\n",
              "      <td>-0.624168</td>\n",
              "      <td>1.0</td>\n",
              "    </tr>\n",
              "  </tbody>\n",
              "</table>\n",
              "</div>"
            ],
            "text/plain": [
              "      comp0     comp1  target\n",
              "0 -5.683837 -0.776300     0.0\n",
              "1 -1.696048 -0.611321     1.0\n",
              "2 -1.696189  1.361591     0.0\n",
              "3  0.314009 -0.757029     0.0\n",
              "4 -5.694612 -0.624168     1.0"
            ]
          },
          "metadata": {
            "tags": []
          },
          "execution_count": 25
        }
      ]
    },
    {
      "cell_type": "code",
      "metadata": {
        "colab": {
          "base_uri": "https://localhost:8080/",
          "height": 279
        },
        "id": "g5THnTGva_f9",
        "outputId": "8a108994-0a8e-4d80-dbb9-3c1f8c06aa5e"
      },
      "source": [
        "import seaborn as sns\r\n",
        "\r\n",
        "sns.scatterplot(x='comp0', y='comp1', hue='target', data=dta_pca)\r\n",
        "plt.axis('equal')\r\n",
        "plt.show()"
      ],
      "execution_count": 26,
      "outputs": [
        {
          "output_type": "display_data",
          "data": {
            "image/png": "[encoded data removed]",
            "text/plain": [
              "<Figure size 432x288 with 1 Axes>"
            ]
          },
          "metadata": {
            "tags": [],
            "needs_background": "light"
          }
        }
      ]
    },
    {
      "cell_type": "code",
      "metadata": {
        "colab": {
          "base_uri": "https://localhost:8080/",
          "height": 279
        },
        "id": "mVtcbN_Sa_i8",
        "outputId": "c37a61e3-6fc9-49d8-867e-6cc79f7a34c4"
      },
      "source": [
        "sns.scatterplot(x='comp0', y='comp1', hue='target', data=dta_pca)\r\n",
        "plt.show()"
      ],
      "execution_count": 27,
      "outputs": [
        {
          "output_type": "display_data",
          "data": {
            "image/png": "[encoded data removed]",
            "text/plain": [
              "<Figure size 432x288 with 1 Axes>"
            ]
          },
          "metadata": {
            "tags": [],
            "needs_background": "light"
          }
        }
      ]
    },
    {
      "cell_type": "code",
      "metadata": {
        "id": "jWHQWHrba2MS"
      },
      "source": [
        "zeros = dta_pca[dta_pca.target == 0]\r\n",
        "ones = dta_pca[dta_pca.target == 1]"
      ],
      "execution_count": 52,
      "outputs": []
    },
    {
      "cell_type": "code",
      "metadata": {
        "colab": {
          "base_uri": "https://localhost:8080/",
          "height": 319
        },
        "id": "ju3SJ8PGRt2Z",
        "outputId": "81425554-9d74-4710-956a-eac85a04b5d1"
      },
      "source": [
        "from mpl_toolkits.mplot3d import Axes3D\r\n",
        "\r\n",
        "fig = plt.figure()\r\n",
        "\r\n",
        "ax = Axes3D(fig)\r\n",
        "\r\n",
        "color = ['red', 'blue']\r\n",
        "\r\n",
        "ax.scatter3D(zeros.iloc[:,0], zeros.iloc[:,1], c='green')\r\n",
        "ax.scatter3D(ones.iloc[:,0], ones.iloc[:,1], c='red')\r\n",
        "plt.show()"
      ],
      "execution_count": 59,
      "outputs": [
        {
          "output_type": "display_data",
          "data": {
            "image/png": "[encoded data removed]",
            "text/plain": [
              "<Figure size 432x288 with 1 Axes>"
            ]
          },
          "metadata": {
            "tags": [],
            "needs_background": "light"
          }
        }
      ]
    },
    {
      "cell_type": "code",
      "metadata": {
        "id": "aKe0PwRiRt4i"
      },
      "source": [
        ""
      ],
      "execution_count": 27,
      "outputs": []
    }
  ]
}