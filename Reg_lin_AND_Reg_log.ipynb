{
  "nbformat": 4,
  "nbformat_minor": 0,
  "metadata": {
    "colab": {
      "name": "Reg_lin_AND_Reg_log.ipynb",
      "provenance": [],
      "authorship_tag": "ABX9TyNAMS71+p7OknKbRa39hPGB",
      "include_colab_link": true
    },
    "kernelspec": {
      "name": "python3",
      "display_name": "Python 3"
    }
  },
  "cells": [
    {
      "cell_type": "markdown",
      "metadata": {
        "id": "view-in-github",
        "colab_type": "text"
      },
      "source": [
        "<a href=\"https://colab.research.google.com/github/Jean-Rd/Algoritms_Intro_machineLearningWithPython/blob/master/Reg_lin_AND_Reg_log.ipynb\" target=\"_parent\"><img src=\"https://colab.research.google.com/assets/colab-badge.svg\" alt=\"Open In Colab\"/></a>"
      ]
    },
    {
      "cell_type": "code",
      "metadata": {
        "id": "QpNgII-coJK5"
      },
      "source": [
        "import pandas as pd\r\n",
        "import numpy as np\r\n",
        "import matplotlib.pyplot as plt"
      ],
      "execution_count": 1,
      "outputs": []
    },
    {
      "cell_type": "code",
      "metadata": {
        "id": "XI-qtFpooOT6"
      },
      "source": [
        "SEED = 1255\r\n",
        "samples = 50"
      ],
      "execution_count": 2,
      "outputs": []
    },
    {
      "cell_type": "code",
      "metadata": {
        "id": "MrsAzfvYoOW4"
      },
      "source": [
        "np.random.seed(SEED)"
      ],
      "execution_count": 3,
      "outputs": []
    },
    {
      "cell_type": "code",
      "metadata": {
        "id": "-4WLMOiwoOZp"
      },
      "source": [
        "def generate_data(max_samples):\r\n",
        "\r\n",
        "  X = np.array(range(max_samples))\r\n",
        "\r\n",
        "  _noise = np.random.uniform(-10,20,size=max_samples)\r\n",
        "\r\n",
        "  y = 3.5*X + _noise\r\n",
        "\r\n",
        "  return X, y"
      ],
      "execution_count": 4,
      "outputs": []
    },
    {
      "cell_type": "code",
      "metadata": {
        "colab": {
          "base_uri": "https://localhost:8080/"
        },
        "id": "FtdGBn6VoOdB",
        "outputId": "a43f2591-a676-43aa-e16e-bff71b8c4929"
      },
      "source": [
        "X, y = generate_data(max_samples=samples)\r\n",
        "\r\n",
        "data = np.vstack([X, y]).T\r\n",
        "data"
      ],
      "execution_count": 5,
      "outputs": [
        {
          "output_type": "execute_result",
          "data": {
            "text/plain": [
              "array([[  0.        ,  -2.51094513],\n",
              "       [  1.        ,   0.59512034],\n",
              "       [  2.        ,   6.86260834],\n",
              "       [  3.        ,  11.52995674],\n",
              "       [  4.        ,   7.24897316],\n",
              "       [  5.        ,  15.82492027],\n",
              "       [  6.        ,  17.8083033 ],\n",
              "       [  7.        ,  16.07182313],\n",
              "       [  8.        ,  40.71357691],\n",
              "       [  9.        ,  40.95663641],\n",
              "       [ 10.        ,  44.5000317 ],\n",
              "       [ 11.        ,  29.74497691],\n",
              "       [ 12.        ,  43.99113857],\n",
              "       [ 13.        ,  65.09174352],\n",
              "       [ 14.        ,  62.98828234],\n",
              "       [ 15.        ,  46.40400609],\n",
              "       [ 16.        ,  72.14028548],\n",
              "       [ 17.        ,  59.05628638],\n",
              "       [ 18.        ,  65.41704351],\n",
              "       [ 19.        ,  70.46214079],\n",
              "       [ 20.        ,  67.31128068],\n",
              "       [ 21.        ,  71.70507253],\n",
              "       [ 22.        ,  68.69779252],\n",
              "       [ 23.        ,  92.14350823],\n",
              "       [ 24.        ,  91.31969739],\n",
              "       [ 25.        ,  94.95669736],\n",
              "       [ 26.        ,  91.91262625],\n",
              "       [ 27.        , 100.53619433],\n",
              "       [ 28.        ,  96.1134115 ],\n",
              "       [ 29.        , 120.43711596],\n",
              "       [ 30.        , 102.56934865],\n",
              "       [ 31.        , 119.93511489],\n",
              "       [ 32.        , 102.58511871],\n",
              "       [ 33.        , 116.86210332],\n",
              "       [ 34.        , 116.71751348],\n",
              "       [ 35.        , 135.15944591],\n",
              "       [ 36.        , 130.7670312 ],\n",
              "       [ 37.        , 120.96049713],\n",
              "       [ 38.        , 148.69048055],\n",
              "       [ 39.        , 148.19336386],\n",
              "       [ 40.        , 153.66709374],\n",
              "       [ 41.        , 146.18440112],\n",
              "       [ 42.        , 139.53872268],\n",
              "       [ 43.        , 141.08608434],\n",
              "       [ 44.        , 146.20364659],\n",
              "       [ 45.        , 173.81924942],\n",
              "       [ 46.        , 167.86139216],\n",
              "       [ 47.        , 169.75848644],\n",
              "       [ 48.        , 177.29149549],\n",
              "       [ 49.        , 191.44899294]])"
            ]
          },
          "metadata": {
            "tags": []
          },
          "execution_count": 5
        }
      ]
    },
    {
      "cell_type": "code",
      "metadata": {
        "colab": {
          "base_uri": "https://localhost:8080/",
          "height": 206
        },
        "id": "kx2GpurkoOf8",
        "outputId": "e635dd1c-6535-4f9c-931e-723b99be5f85"
      },
      "source": [
        "df = pd.DataFrame(data, columns=['X', 'y'])\r\n",
        "\r\n",
        "df.head()"
      ],
      "execution_count": 6,
      "outputs": [
        {
          "output_type": "execute_result",
          "data": {
            "text/html": [
              "<div>\n",
              "<style scoped>\n",
              "    .dataframe tbody tr th:only-of-type {\n",
              "        vertical-align: middle;\n",
              "    }\n",
              "\n",
              "    .dataframe tbody tr th {\n",
              "        vertical-align: top;\n",
              "    }\n",
              "\n",
              "    .dataframe thead th {\n",
              "        text-align: right;\n",
              "    }\n",
              "</style>\n",
              "<table border=\"1\" class=\"dataframe\">\n",
              "  <thead>\n",
              "    <tr style=\"text-align: right;\">\n",
              "      <th></th>\n",
              "      <th>X</th>\n",
              "      <th>y</th>\n",
              "    </tr>\n",
              "  </thead>\n",
              "  <tbody>\n",
              "    <tr>\n",
              "      <th>0</th>\n",
              "      <td>0.0</td>\n",
              "      <td>-2.510945</td>\n",
              "    </tr>\n",
              "    <tr>\n",
              "      <th>1</th>\n",
              "      <td>1.0</td>\n",
              "      <td>0.595120</td>\n",
              "    </tr>\n",
              "    <tr>\n",
              "      <th>2</th>\n",
              "      <td>2.0</td>\n",
              "      <td>6.862608</td>\n",
              "    </tr>\n",
              "    <tr>\n",
              "      <th>3</th>\n",
              "      <td>3.0</td>\n",
              "      <td>11.529957</td>\n",
              "    </tr>\n",
              "    <tr>\n",
              "      <th>4</th>\n",
              "      <td>4.0</td>\n",
              "      <td>7.248973</td>\n",
              "    </tr>\n",
              "  </tbody>\n",
              "</table>\n",
              "</div>"
            ],
            "text/plain": [
              "     X          y\n",
              "0  0.0  -2.510945\n",
              "1  1.0   0.595120\n",
              "2  2.0   6.862608\n",
              "3  3.0  11.529957\n",
              "4  4.0   7.248973"
            ]
          },
          "metadata": {
            "tags": []
          },
          "execution_count": 6
        }
      ]
    },
    {
      "cell_type": "code",
      "metadata": {
        "id": "mmuURWm7psPV"
      },
      "source": [
        "X = df.X\r\n",
        "y = df.y"
      ],
      "execution_count": 7,
      "outputs": []
    },
    {
      "cell_type": "code",
      "metadata": {
        "colab": {
          "base_uri": "https://localhost:8080/"
        },
        "id": "znSej7P9pxM_",
        "outputId": "358fc8f6-3a7b-4b87-cf64-c0a47b360570"
      },
      "source": [
        "X.head(3), y.head(3)"
      ],
      "execution_count": 8,
      "outputs": [
        {
          "output_type": "execute_result",
          "data": {
            "text/plain": [
              "(0    0.0\n",
              " 1    1.0\n",
              " 2    2.0\n",
              " Name: X, dtype: float64, 0   -2.510945\n",
              " 1    0.595120\n",
              " 2    6.862608\n",
              " Name: y, dtype: float64)"
            ]
          },
          "metadata": {
            "tags": []
          },
          "execution_count": 8
        }
      ]
    },
    {
      "cell_type": "code",
      "metadata": {
        "colab": {
          "base_uri": "https://localhost:8080/",
          "height": 281
        },
        "id": "UUx0Bo9Ip6qO",
        "outputId": "e99f5d88-4b39-4fde-c5a3-7203f382b5cb"
      },
      "source": [
        "plt.title('scatter')\r\n",
        "plt.scatter(X, y)\r\n",
        "plt.show()"
      ],
      "execution_count": 9,
      "outputs": [
        {
          "output_type": "display_data",
          "data": {
            "image/png": "[encoded data removed]",
            "text/plain": [
              "<Figure size 432x288 with 1 Axes>"
            ]
          },
          "metadata": {
            "tags": [],
            "needs_background": "light"
          }
        }
      ]
    },
    {
      "cell_type": "code",
      "metadata": {
        "id": "IeALipsVqCVh"
      },
      "source": [
        "indices = list(range(samples))\r\n",
        "\r\n",
        "indices\r\n",
        "\r\n",
        "np.random.shuffle(indices)\r\n",
        "\r\n",
        "indices\r\n",
        "\r\n",
        "X = X[indices]\r\n",
        "\r\n",
        "y = y[indices]"
      ],
      "execution_count": 10,
      "outputs": []
    },
    {
      "cell_type": "code",
      "metadata": {
        "colab": {
          "base_uri": "https://localhost:8080/"
        },
        "id": "uoDaNg7FqwKt",
        "outputId": "2c931daf-5e90-489a-fcec-5188603c2c24"
      },
      "source": [
        "X_train = X[:int(0.70*samples)]\r\n",
        "y_train = y[:int(0.70*samples)]\r\n",
        "\r\n",
        "X_val = X[int(0.70*samples):int(0.85*samples)]\r\n",
        "y_val = y[int(0.70*samples):int(0.85*samples)]\r\n",
        "\r\n",
        "X_test = X[int(0.85*samples):]\r\n",
        "y_test = y[int(0.85*samples):]\r\n",
        "\r\n",
        "print(X_train.shape, y_train.shape)\r\n",
        "print()\r\n",
        "print(X_val.shape, y_val.shape)\r\n",
        "print()\r\n",
        "print(X_test.shape, y_test.shape)"
      ],
      "execution_count": 11,
      "outputs": [
        {
          "output_type": "stream",
          "text": [
            "(35,) (35,)\n",
            "\n",
            "(7,) (7,)\n",
            "\n",
            "(8,) (8,)\n"
          ],
          "name": "stdout"
        }
      ]
    },
    {
      "cell_type": "code",
      "metadata": {
        "id": "YO7sA4yTqCZr"
      },
      "source": [
        "def standardize_data(data, mean, std):\r\n",
        "\r\n",
        "  return (data - mean) / std"
      ],
      "execution_count": 12,
      "outputs": []
    },
    {
      "cell_type": "code",
      "metadata": {
        "id": "2I6aeboiqCcg"
      },
      "source": [
        "X_mean = np.mean(X_train)\r\n",
        "\r\n",
        "y_mean = np.mean(y_train)\r\n",
        "\r\n",
        "X_std = np.std(X_train)\r\n",
        "\r\n",
        "y_std = np.std(y_train)"
      ],
      "execution_count": 13,
      "outputs": []
    },
    {
      "cell_type": "code",
      "metadata": {
        "id": "lCnUbKaaqCfN"
      },
      "source": [
        "X_train = standardize_data(X_train, X_mean, X_std)\r\n",
        "y_train = standardize_data(y_train, y_mean, y_std)\r\n",
        "\r\n",
        "X_val = standardize_data(X_val, X_mean, X_std)\r\n",
        "y_val = standardize_data(y_val, y_mean, y_std)\r\n",
        "\r\n",
        "X_test = standardize_data(X_test, X_mean, X_std)\r\n",
        "y_test = standardize_data(y_test, y_mean, y_std)"
      ],
      "execution_count": 14,
      "outputs": []
    },
    {
      "cell_type": "code",
      "metadata": {
        "colab": {
          "base_uri": "https://localhost:8080/"
        },
        "id": "RLlEtrQcxtbe",
        "outputId": "b75bbad9-ea1c-4af8-960e-3e119d4c9ce0"
      },
      "source": [
        "print(np.mean(X_train), np.std(y_train))\r\n",
        "print()\r\n",
        "print(np.mean(X_val), np.std(y_val))\r\n",
        "print()\r\n",
        "print(np.mean(X_test), np.std(y_test))"
      ],
      "execution_count": 15,
      "outputs": [
        {
          "output_type": "stream",
          "text": [
            "-1.9032394707859827e-17 1.0\n",
            "\n",
            "-0.0039712254946328174 0.90039669798834\n",
            "\n",
            "-0.6108241213932052 1.0002522185816491\n"
          ],
          "name": "stdout"
        }
      ]
    },
    {
      "cell_type": "code",
      "metadata": {
        "colab": {
          "base_uri": "https://localhost:8080/"
        },
        "id": "kMgneSUilLw2",
        "outputId": "b76ed868-7176-4117-f451-ba51e2ec532f"
      },
      "source": [
        "X_train = X_train[:,np.newaxis]\r\n",
        "y_train = y_train[:,np.newaxis]\r\n",
        "\r\n",
        "X_val = X_val[:,np.newaxis]\r\n",
        "y_val = y_val[:,np.newaxis]\r\n",
        "\r\n",
        "X_test = X_test[:,np.newaxis]\r\n",
        "y_test = y_test[:,np.newaxis]"
      ],
      "execution_count": 16,
      "outputs": [
        {
          "output_type": "stream",
          "text": [
            "/usr/local/lib/python3.6/dist-packages/ipykernel_launcher.py:1: FutureWarning: Support for multi-dimensional indexing (e.g. `obj[:, None]`) is deprecated and will be removed in a future version.  Convert to a numpy array before indexing instead.\n",
            "  \"\"\"Entry point for launching an IPython kernel.\n",
            "/usr/local/lib/python3.6/dist-packages/ipykernel_launcher.py:2: FutureWarning: Support for multi-dimensional indexing (e.g. `obj[:, None]`) is deprecated and will be removed in a future version.  Convert to a numpy array before indexing instead.\n",
            "  \n",
            "/usr/local/lib/python3.6/dist-packages/ipykernel_launcher.py:4: FutureWarning: Support for multi-dimensional indexing (e.g. `obj[:, None]`) is deprecated and will be removed in a future version.  Convert to a numpy array before indexing instead.\n",
            "  after removing the cwd from sys.path.\n",
            "/usr/local/lib/python3.6/dist-packages/ipykernel_launcher.py:5: FutureWarning: Support for multi-dimensional indexing (e.g. `obj[:, None]`) is deprecated and will be removed in a future version.  Convert to a numpy array before indexing instead.\n",
            "  \"\"\"\n",
            "/usr/local/lib/python3.6/dist-packages/ipykernel_launcher.py:7: FutureWarning: Support for multi-dimensional indexing (e.g. `obj[:, None]`) is deprecated and will be removed in a future version.  Convert to a numpy array before indexing instead.\n",
            "  import sys\n",
            "/usr/local/lib/python3.6/dist-packages/ipykernel_launcher.py:8: FutureWarning: Support for multi-dimensional indexing (e.g. `obj[:, None]`) is deprecated and will be removed in a future version.  Convert to a numpy array before indexing instead.\n",
            "  \n"
          ],
          "name": "stderr"
        }
      ]
    },
    {
      "cell_type": "code",
      "metadata": {
        "colab": {
          "base_uri": "https://localhost:8080/"
        },
        "id": "Xb0lw5tlxtd5",
        "outputId": "3f4b3f6e-3e5e-46fb-c7c4-92340440de95"
      },
      "source": [
        "INPUT  = X_train.shape[1]\r\n",
        "OUTPUT = y_train.shape[1]\r\n",
        "\r\n",
        "INPUT"
      ],
      "execution_count": 17,
      "outputs": [
        {
          "output_type": "execute_result",
          "data": {
            "text/plain": [
              "1"
            ]
          },
          "metadata": {
            "tags": []
          },
          "execution_count": 17
        }
      ]
    },
    {
      "cell_type": "code",
      "metadata": {
        "colab": {
          "base_uri": "https://localhost:8080/"
        },
        "id": "QcVCcQDzxtgH",
        "outputId": "3b61d49d-0a77-4989-fa28-a60434f26947"
      },
      "source": [
        "W = 0.01*np.random.rand(INPUT, OUTPUT)\r\n",
        "\r\n",
        "b = np.zeros((1,1))\r\n",
        "\r\n",
        "print(W.shape, b.shape)"
      ],
      "execution_count": 18,
      "outputs": [
        {
          "output_type": "stream",
          "text": [
            "(1, 1) (1, 1)\n"
          ],
          "name": "stdout"
        }
      ]
    },
    {
      "cell_type": "code",
      "metadata": {
        "colab": {
          "base_uri": "https://localhost:8080/"
        },
        "id": "bPr40vvamoof",
        "outputId": "9f4a0611-2a97-41e5-b944-0274a11d4574"
      },
      "source": [
        "# fordward pass (Nx1) X (1X1) = (Nx1)\r\n",
        "\r\n",
        "y_pred = np.dot(X_train, W) + b\r\n",
        "\r\n",
        "y_pred.shape"
      ],
      "execution_count": 19,
      "outputs": [
        {
          "output_type": "execute_result",
          "data": {
            "text/plain": [
              "(35, 1)"
            ]
          },
          "metadata": {
            "tags": []
          },
          "execution_count": 19
        }
      ]
    },
    {
      "cell_type": "code",
      "metadata": {
        "colab": {
          "base_uri": "https://localhost:8080/"
        },
        "id": "o3wGg_urnGz3",
        "outputId": "16b1b4b3-ea23-49cb-8803-cb2c67d06c35"
      },
      "source": [
        "# loss\r\n",
        "\r\n",
        "N = len(y_train)\r\n",
        "\r\n",
        "loss = (1/N)*np.sum((y_train - y_pred)** 2)\r\n",
        "\r\n",
        "loss, loss.shape"
      ],
      "execution_count": 20,
      "outputs": [
        {
          "output_type": "execute_result",
          "data": {
            "text/plain": [
              "(0.9838253192355723, ())"
            ]
          },
          "metadata": {
            "tags": []
          },
          "execution_count": 20
        }
      ]
    },
    {
      "cell_type": "code",
      "metadata": {
        "id": "OdRc83LvoC1C"
      },
      "source": [
        "# Backpropagation\r\n",
        "\r\n",
        "dW = (-2/N)*np.sum((y_train - y_pred) * X_train)\r\n",
        "\r\n",
        "db = (-2/N)*np.sum(y_train - y_pred) * 1"
      ],
      "execution_count": 21,
      "outputs": []
    },
    {
      "cell_type": "code",
      "metadata": {
        "colab": {
          "base_uri": "https://localhost:8080/"
        },
        "id": "0Ptvhd4ypcV7",
        "outputId": "5c6f950d-84ca-4b1e-fdca-72e4a9b1b68a"
      },
      "source": [
        "dW"
      ],
      "execution_count": 22,
      "outputs": [
        {
          "output_type": "execute_result",
          "data": {
            "text/plain": [
              "-1.9578721257339817"
            ]
          },
          "metadata": {
            "tags": []
          },
          "execution_count": 22
        }
      ]
    },
    {
      "cell_type": "code",
      "metadata": {
        "id": "CY62wdWYoC3p"
      },
      "source": [
        "# Update weights\r\n",
        "\r\n",
        "lr = 1e-1\r\n",
        "\r\n",
        "W += -lr * dW\r\n",
        "\r\n",
        "b += -lr * db"
      ],
      "execution_count": 23,
      "outputs": []
    },
    {
      "cell_type": "code",
      "metadata": {
        "colab": {
          "base_uri": "https://localhost:8080/"
        },
        "id": "ImCSV8mdoC6H",
        "outputId": "bf5fd0c5-d8d2-4edd-9122-05bf2161c0ef"
      },
      "source": [
        "# Automatically\r\n",
        "\r\n",
        "W = np.random.rand(INPUT, OUTPUT)\r\n",
        "b = np.zeros((1,))\r\n",
        "\r\n",
        "epochs = 100\r\n",
        "\r\n",
        "N = len(X_train)\r\n",
        "\r\n",
        "for i in range(epochs):\r\n",
        "\r\n",
        "  # fordward pass\r\n",
        "  y_pred = np.dot(X_train, W) + b\r\n",
        "\r\n",
        "  # loss\r\n",
        "  loss = (1/N) * np.sum((y_train - y_pred) ** 2)\r\n",
        "\r\n",
        "  # show proccess\r\n",
        "  if i % 10 == 0:\r\n",
        "\r\n",
        "    print(f'\\t\\tepoch: {i}\\t\\tloss: {loss:.3f}')\r\n",
        "\r\n",
        "  # backpropagation\r\n",
        "\r\n",
        "  dW = -(2/N)*np.sum((y_train-y_pred) * X_train)\r\n",
        "  db = -(2/N)*np.sum((y_train-y_pred) * 1)\r\n",
        "\r\n",
        "  # update\r\n",
        "\r\n",
        "  lr = 1e-2\r\n",
        "\r\n",
        "  W += -lr * dW\r\n",
        "  b += -lr * db"
      ],
      "execution_count": 24,
      "outputs": [
        {
          "output_type": "stream",
          "text": [
            "\t\tepoch: 0\t\tloss: 0.096\n",
            "\t\tepoch: 10\t\tloss: 0.072\n",
            "\t\tepoch: 20\t\tloss: 0.057\n",
            "\t\tepoch: 30\t\tloss: 0.046\n",
            "\t\tepoch: 40\t\tloss: 0.039\n",
            "\t\tepoch: 50\t\tloss: 0.035\n",
            "\t\tepoch: 60\t\tloss: 0.032\n",
            "\t\tepoch: 70\t\tloss: 0.030\n",
            "\t\tepoch: 80\t\tloss: 0.028\n",
            "\t\tepoch: 90\t\tloss: 0.027\n"
          ],
          "name": "stdout"
        }
      ]
    },
    {
      "cell_type": "code",
      "metadata": {
        "id": "hlzZ16urt4-e"
      },
      "source": [
        "# predictions\r\n",
        "pred_train = W * X_train + b\r\n",
        "pred_test = W * X_test + b"
      ],
      "execution_count": 25,
      "outputs": []
    },
    {
      "cell_type": "code",
      "metadata": {
        "colab": {
          "base_uri": "https://localhost:8080/"
        },
        "id": "xkM_J2nauAi2",
        "outputId": "8c4a5ad2-dda2-4783-9e20-6f2cad4c3957"
      },
      "source": [
        "train_mse = np.mean((y_train - pred_train) ** 2)\r\n",
        "test_mse = np.mean((y_test - pred_test) ** 2)\r\n",
        "\r\n",
        "print(f'accuracy train: {train_mse:.3f}')\r\n",
        "print(f'accuracy test: {test_mse:.3f}')\r\n"
      ],
      "execution_count": 26,
      "outputs": [
        {
          "output_type": "stream",
          "text": [
            "accuracy train: 0.027\n",
            "accuracy test: 0.025\n"
          ],
          "name": "stdout"
        }
      ]
    },
    {
      "cell_type": "code",
      "metadata": {
        "colab": {
          "base_uri": "https://localhost:8080/",
          "height": 336
        },
        "id": "JKPm-Htgnaqb",
        "outputId": "44d4c11a-8663-426a-ae48-984ddf916b4f"
      },
      "source": [
        "# graph\r\n",
        "\r\n",
        "import matplotlib.pyplot as plt\r\n",
        "\r\n",
        "plt.figure(figsize=(15,5))\r\n",
        "\r\n",
        "plt.subplot(1,2,1)\r\n",
        "plt.title('Train')\r\n",
        "plt.scatter(X_train, y_train, alpha=.8)\r\n",
        "plt.plot(X_train, pred_train, label='train pred', color='red', linewidth=0.5)\r\n",
        "\r\n",
        "plt.subplot(1,2,2)\r\n",
        "plt.title('Test')\r\n",
        "plt.scatter(X_test, y_test, alpha=.8)\r\n",
        "plt.plot(X_test, pred_test, label='test pred', color='red', linewidth=0.5)\r\n",
        "\r\n",
        "plt.show()"
      ],
      "execution_count": 27,
      "outputs": [
        {
          "output_type": "display_data",
          "data": {
            "image/png": "[encoded data removed]",
            "text/plain": [
              "<Figure size 1080x360 with 2 Axes>"
            ]
          },
          "metadata": {
            "tags": [],
            "needs_background": "light"
          }
        }
      ]
    },
    {
      "cell_type": "code",
      "metadata": {
        "colab": {
          "base_uri": "https://localhost:8080/"
        },
        "id": "3PKDeUX6nat_",
        "outputId": "bc7976ed-228b-48c2-f5d8-dbd0703c5ecf"
      },
      "source": [
        "# unscaled weights\r\n",
        "\r\n",
        "W_unscaled = W*(y_std/X_std)\r\n",
        "\r\n",
        "b_unscaled = b*y_std + y_mean - np.sum(W_unscaled*X_mean)\r\n",
        "\r\n",
        "\r\n",
        "print(f'{W_unscaled[0,0]:.3f}X + {b_unscaled[0]:.3f}')"
      ],
      "execution_count": 28,
      "outputs": [
        {
          "output_type": "stream",
          "text": [
            "3.479X + 3.507\n"
          ],
          "name": "stdout"
        }
      ]
    },
    {
      "cell_type": "code",
      "metadata": {
        "id": "x70aRIHpt58k"
      },
      "source": [
        "# with Pytorch\r\n",
        "\r\n",
        "import torch"
      ],
      "execution_count": 29,
      "outputs": []
    },
    {
      "cell_type": "code",
      "metadata": {
        "colab": {
          "base_uri": "https://localhost:8080/"
        },
        "id": "mqPItFodptFP",
        "outputId": "301c0658-6427-4c0d-c7b8-2178fdf26ad2"
      },
      "source": [
        "torch.manual_seed(1235)"
      ],
      "execution_count": 30,
      "outputs": [
        {
          "output_type": "execute_result",
          "data": {
            "text/plain": [
              "<torch._C.Generator at 0x7f68e327dc60>"
            ]
          },
          "metadata": {
            "tags": []
          },
          "execution_count": 30
        }
      ]
    },
    {
      "cell_type": "code",
      "metadata": {
        "colab": {
          "base_uri": "https://localhost:8080/"
        },
        "id": "pzvh0EJMtc-L",
        "outputId": "316a3ee1-7ef5-4026-9bf5-d0b6c49fd27a"
      },
      "source": [
        "X = X[:, np.newaxis]\r\n",
        "y = y[:, np.newaxis]"
      ],
      "execution_count": 31,
      "outputs": [
        {
          "output_type": "stream",
          "text": [
            "/usr/local/lib/python3.6/dist-packages/ipykernel_launcher.py:1: FutureWarning: Support for multi-dimensional indexing (e.g. `obj[:, None]`) is deprecated and will be removed in a future version.  Convert to a numpy array before indexing instead.\n",
            "  \"\"\"Entry point for launching an IPython kernel.\n",
            "/usr/local/lib/python3.6/dist-packages/ipykernel_launcher.py:2: FutureWarning: Support for multi-dimensional indexing (e.g. `obj[:, None]`) is deprecated and will be removed in a future version.  Convert to a numpy array before indexing instead.\n",
            "  \n"
          ],
          "name": "stderr"
        }
      ]
    },
    {
      "cell_type": "code",
      "metadata": {
        "id": "6ggLeAKuptH2"
      },
      "source": [
        "from sklearn.model_selection import train_test_split\r\n",
        "\r\n",
        "X_train, X_, y_train, y_ = train_test_split(X, y, train_size=0.7)\r\n",
        "\r\n",
        "X_test,  X_val, y_test, y_val = train_test_split(X_, y_, train_size=0.5)"
      ],
      "execution_count": 32,
      "outputs": []
    },
    {
      "cell_type": "code",
      "metadata": {
        "colab": {
          "base_uri": "https://localhost:8080/"
        },
        "id": "BQBaKusMpw5c",
        "outputId": "a967a600-57a7-47fe-ccab-45c332f79c0d"
      },
      "source": [
        "X_train.shape, X_test.shape, X_val.shape"
      ],
      "execution_count": 33,
      "outputs": [
        {
          "output_type": "execute_result",
          "data": {
            "text/plain": [
              "((35, 1), (7, 1), (8, 1))"
            ]
          },
          "metadata": {
            "tags": []
          },
          "execution_count": 33
        }
      ]
    },
    {
      "cell_type": "code",
      "metadata": {
        "id": "BBYKT_Nnpw8G"
      },
      "source": [
        "from sklearn.preprocessing import StandardScaler\r\n",
        "\r\n",
        "X_scaler = StandardScaler().fit(X_train)\r\n",
        "y_scaler = StandardScaler().fit(y_train)"
      ],
      "execution_count": 34,
      "outputs": []
    },
    {
      "cell_type": "code",
      "metadata": {
        "id": "fTWVzos7pw-r"
      },
      "source": [
        "X_train = X_scaler.transform(X_train)\r\n",
        "y_train = X_scaler.transform(y_train)\r\n",
        "\r\n",
        "X_test = X_scaler.transform(X_test)\r\n",
        "y_test = X_scaler.transform(y_test)\r\n",
        "\r\n",
        "X_val = X_scaler.transform(X_val)\r\n",
        "y_val = X_scaler.transform(y_val)"
      ],
      "execution_count": 35,
      "outputs": []
    },
    {
      "cell_type": "code",
      "metadata": {
        "colab": {
          "base_uri": "https://localhost:8080/"
        },
        "id": "4Q7DSOEWpxBJ",
        "outputId": "07566d07-096f-469b-a03d-49511b3ada58"
      },
      "source": [
        "np.mean(X_test), np.std(X_test, axis=0)"
      ],
      "execution_count": 36,
      "outputs": [
        {
          "output_type": "execute_result",
          "data": {
            "text/plain": [
              "(0.035450796299751404, array([0.66468419]))"
            ]
          },
          "metadata": {
            "tags": []
          },
          "execution_count": 36
        }
      ]
    },
    {
      "cell_type": "code",
      "metadata": {
        "id": "NrEDXviOaj1v"
      },
      "source": [
        "import numpy as np\r\n",
        "import pandas as pd\r\n",
        "import matplotlib.pyplot as plt"
      ],
      "execution_count": 1,
      "outputs": []
    },
    {
      "cell_type": "code",
      "metadata": {
        "id": "UO4kD2O6upsh"
      },
      "source": [
        "np.random.seed(1234)"
      ],
      "execution_count": 4,
      "outputs": []
    },
    {
      "cell_type": "code",
      "metadata": {
        "colab": {
          "base_uri": "https://localhost:8080/",
          "height": 206
        },
        "id": "GC4YSptuupu-",
        "outputId": "3df285de-80a4-499b-c01e-b0ad1d8745a1"
      },
      "source": [
        "data = pd.read_csv(f\"https://raw.githubusercontent.com/GokuMohandas/madewithml/main/datasets/tumors.csv\", header=0)\r\n",
        "\r\n",
        "data.head()"
      ],
      "execution_count": 7,
      "outputs": [
        {
          "output_type": "execute_result",
          "data": {
            "text/html": [
              "<div>\n",
              "<style scoped>\n",
              "    .dataframe tbody tr th:only-of-type {\n",
              "        vertical-align: middle;\n",
              "    }\n",
              "\n",
              "    .dataframe tbody tr th {\n",
              "        vertical-align: top;\n",
              "    }\n",
              "\n",
              "    .dataframe thead th {\n",
              "        text-align: right;\n",
              "    }\n",
              "</style>\n",
              "<table border=\"1\" class=\"dataframe\">\n",
              "  <thead>\n",
              "    <tr style=\"text-align: right;\">\n",
              "      <th></th>\n",
              "      <th>leukocyte_count</th>\n",
              "      <th>blood_pressure</th>\n",
              "      <th>tumor_class</th>\n",
              "    </tr>\n",
              "  </thead>\n",
              "  <tbody>\n",
              "    <tr>\n",
              "      <th>0</th>\n",
              "      <td>13.472969</td>\n",
              "      <td>15.250393</td>\n",
              "      <td>malignant</td>\n",
              "    </tr>\n",
              "    <tr>\n",
              "      <th>1</th>\n",
              "      <td>10.805510</td>\n",
              "      <td>14.109676</td>\n",
              "      <td>malignant</td>\n",
              "    </tr>\n",
              "    <tr>\n",
              "      <th>2</th>\n",
              "      <td>13.834053</td>\n",
              "      <td>15.793920</td>\n",
              "      <td>malignant</td>\n",
              "    </tr>\n",
              "    <tr>\n",
              "      <th>3</th>\n",
              "      <td>9.572811</td>\n",
              "      <td>17.873286</td>\n",
              "      <td>malignant</td>\n",
              "    </tr>\n",
              "    <tr>\n",
              "      <th>4</th>\n",
              "      <td>7.633667</td>\n",
              "      <td>16.598559</td>\n",
              "      <td>malignant</td>\n",
              "    </tr>\n",
              "  </tbody>\n",
              "</table>\n",
              "</div>"
            ],
            "text/plain": [
              "   leukocyte_count  blood_pressure tumor_class\n",
              "0        13.472969       15.250393   malignant\n",
              "1        10.805510       14.109676   malignant\n",
              "2        13.834053       15.793920   malignant\n",
              "3         9.572811       17.873286   malignant\n",
              "4         7.633667       16.598559   malignant"
            ]
          },
          "metadata": {
            "tags": []
          },
          "execution_count": 7
        }
      ]
    },
    {
      "cell_type": "code",
      "metadata": {
        "colab": {
          "base_uri": "https://localhost:8080/",
          "height": 320
        },
        "id": "HLCzASu8upx2",
        "outputId": "8f534c1d-5a5e-4b45-e236-cef60f7ffcee"
      },
      "source": [
        "plt.figure(figsize=(9,5))\r\n",
        "\r\n",
        "colors = {'benign': 'red', 'malignant': 'blue'}\r\n",
        "plt.scatter(data.iloc[:,0], data.iloc[:,1], cmap='Blues', c=[colors[_y] for _y in data['tumor_class']], s=15, alpha=0.5)\r\n",
        "plt.show()"
      ],
      "execution_count": 21,
      "outputs": [
        {
          "output_type": "display_data",
          "data": {
            "image/png": "[encoded data removed]",
            "text/plain": [
              "<Figure size 648x360 with 1 Axes>"
            ]
          },
          "metadata": {
            "tags": [],
            "needs_background": "light"
          }
        }
      ]
    },
    {
      "cell_type": "code",
      "metadata": {
        "id": "sf3BiXfuup0O"
      },
      "source": [
        "X = data.iloc[:,0:2].values\r\n",
        "\r\n",
        "y = data.iloc[:, 2].values"
      ],
      "execution_count": 26,
      "outputs": []
    },
    {
      "cell_type": "code",
      "metadata": {
        "id": "sPpwvyXowsWZ"
      },
      "source": [
        "from sklearn.model_selection import train_test_split\r\n",
        "\r\n",
        "X_train, X_, y_train, y_ = train_test_split(X, y, train_size=0.7)\r\n",
        "\r\n",
        "X_test, X_val, y_test, y_val = train_test_split(X_, y_, train_size=0.5)"
      ],
      "execution_count": 27,
      "outputs": []
    },
    {
      "cell_type": "code",
      "metadata": {
        "colab": {
          "base_uri": "https://localhost:8080/"
        },
        "id": "9zEBQEAKwsZN",
        "outputId": "cf81aa4d-30b5-4e22-f504-e379df80217b"
      },
      "source": [
        "print(X_test.shape, X_val.shape, X_train.shape)"
      ],
      "execution_count": 29,
      "outputs": [
        {
          "output_type": "stream",
          "text": [
            "(150, 2) (150, 2) (700, 2)\n"
          ],
          "name": "stdout"
        }
      ]
    },
    {
      "cell_type": "code",
      "metadata": {
        "colab": {
          "base_uri": "https://localhost:8080/"
        },
        "id": "UBd4C5Xtwsbs",
        "outputId": "ec3a801a-d4b2-4efd-8b4c-96dd2717c48b"
      },
      "source": [
        "data['tumor_class'].value_counts()"
      ],
      "execution_count": 32,
      "outputs": [
        {
          "output_type": "execute_result",
          "data": {
            "text/plain": [
              "malignant    611\n",
              "benign       389\n",
              "Name: tumor_class, dtype: int64"
            ]
          },
          "metadata": {
            "tags": []
          },
          "execution_count": 32
        }
      ]
    },
    {
      "cell_type": "code",
      "metadata": {
        "id": "2p7Eic9IxSqm"
      },
      "source": [
        "from sklearn.preprocessing import LabelEncoder\r\n",
        "\r\n",
        "le = LabelEncoder()\r\n",
        "\r\n",
        "le.fit(y)\r\n",
        "\r\n",
        "y = le.transform(y)"
      ],
      "execution_count": 36,
      "outputs": []
    },
    {
      "cell_type": "code",
      "metadata": {
        "id": "FNA4Zb7xx2sf"
      },
      "source": [
        "y_train = le.transform(y_train)\r\n",
        "y_test = le.transform(y_test)\r\n",
        "y_val = le.transform(y_val)"
      ],
      "execution_count": 40,
      "outputs": []
    },
    {
      "cell_type": "code",
      "metadata": {
        "colab": {
          "base_uri": "https://localhost:8080/"
        },
        "id": "UN4D2Ag_yaV-",
        "outputId": "51cbd501-304c-48fb-ab55-ed7d97e6d6f7"
      },
      "source": [
        "counts = np.bincount(y_train)\r\n",
        "\r\n",
        "class_weights = {i: 1.0 / j for i, j in enumerate(counts)}\r\n",
        "\r\n",
        "class_weights"
      ],
      "execution_count": 51,
      "outputs": [
        {
          "output_type": "execute_result",
          "data": {
            "text/plain": [
              "{0: 0.003787878787878788, 1: 0.0022935779816513763}"
            ]
          },
          "metadata": {
            "tags": []
          },
          "execution_count": 51
        }
      ]
    },
    {
      "cell_type": "code",
      "metadata": {
        "id": "JiBol-OSyaYY"
      },
      "source": [
        "from sklearn.preprocessing import StandardScaler\r\n",
        "\r\n",
        "X_scaler = StandardScaler().fit(X_train)\r\n",
        "\r\n",
        "X_train = X_scaler.transform(X_train)\r\n",
        "X_test = X_scaler.transform(X_test)\r\n",
        "X_val = X_scaler.transform(X_val)"
      ],
      "execution_count": 55,
      "outputs": []
    },
    {
      "cell_type": "code",
      "metadata": {
        "colab": {
          "base_uri": "https://localhost:8080/"
        },
        "id": "a1Zd0QUlz0hJ",
        "outputId": "f5fd593c-cabb-44b3-f671-ccb257d6224f"
      },
      "source": [
        "print(np.mean(X_val[:,0]), np.std(X_val))\r\n",
        "print(np.mean(X_test[:,0]), np.std(X_test))"
      ],
      "execution_count": 57,
      "outputs": [
        {
          "output_type": "stream",
          "text": [
            "0.13983282301530492 1.0260233817085724\n",
            "0.12190403314053033 0.9588218543832464\n"
          ],
          "name": "stdout"
        }
      ]
    },
    {
      "cell_type": "code",
      "metadata": {
        "colab": {
          "base_uri": "https://localhost:8080/"
        },
        "id": "w1vTMJa1yabQ",
        "outputId": "bfe32d5e-ecac-4d8a-cd6e-4726173ad79c"
      },
      "source": [
        "INPUT_DIM = X_train.shape[1]\r\n",
        "\r\n",
        "NUM_CLASS = len(np.bincount(y))\r\n",
        "\r\n",
        "NUM_CLASS"
      ],
      "execution_count": 68,
      "outputs": [
        {
          "output_type": "execute_result",
          "data": {
            "text/plain": [
              "2"
            ]
          },
          "metadata": {
            "tags": []
          },
          "execution_count": 68
        }
      ]
    },
    {
      "cell_type": "code",
      "metadata": {
        "colab": {
          "base_uri": "https://localhost:8080/"
        },
        "id": "YGBi_ythyaeF",
        "outputId": "6fc088b7-e092-4d4b-9162-6288f6d337bd"
      },
      "source": [
        "W = 0.01 * np.random.randn(INPUT_DIM, NUM_CLASS)\r\n",
        "\r\n",
        "b = np.zeros((1, NUM_CLASS))\r\n",
        "\r\n",
        "print(W.shape, b.shape)"
      ],
      "execution_count": 70,
      "outputs": [
        {
          "output_type": "stream",
          "text": [
            "(2, 2) (1, 2)\n"
          ],
          "name": "stdout"
        }
      ]
    },
    {
      "cell_type": "code",
      "metadata": {
        "colab": {
          "base_uri": "https://localhost:8080/"
        },
        "id": "8ywb07UXyagS",
        "outputId": "3be8d3a7-2f0b-4e82-e3e7-e2b0a0c10ab1"
      },
      "source": [
        "logits = np.dot(X_train, W) + b\r\n",
        "\r\n",
        "print(logits.shape)\r\n",
        "print(logits[0:1,:])"
      ],
      "execution_count": 72,
      "outputs": [
        {
          "output_type": "stream",
          "text": [
            "(700, 2)\n",
            "[[0.00403903 0.00079806]]\n"
          ],
          "name": "stdout"
        }
      ]
    },
    {
      "cell_type": "code",
      "metadata": {
        "colab": {
          "base_uri": "https://localhost:8080/"
        },
        "id": "WEuhfxjm4XZP",
        "outputId": "30601e4e-de23-4ca7-9508-99aff03b790e"
      },
      "source": [
        "# Normalization via softmax to obtain class probabilities\r\n",
        "exp_logits = np.exp(logits)\r\n",
        "\r\n",
        "y_hat = exp_logits / np.sum(exp_logits, axis=1, keepdims=True) # axis 1 sum rows\r\n",
        "\r\n",
        "print(y_hat.shape)\r\n",
        "print(y_hat[0])"
      ],
      "execution_count": 89,
      "outputs": [
        {
          "output_type": "stream",
          "text": [
            "(700, 2)\n",
            "[0.50081024 0.49918976]\n"
          ],
          "name": "stdout"
        }
      ]
    },
    {
      "cell_type": "code",
      "metadata": {
        "colab": {
          "base_uri": "https://localhost:8080/"
        },
        "id": "03MJHKcE5YAq",
        "outputId": "947ff25d-f16b-4193-d8f2-45d9a3e088b5"
      },
      "source": [
        "# loss\r\n",
        "\r\n",
        "correct_class_logprob = -np.log(y_hat[range(len(y_hat)), y_train])\r\n",
        "\r\n",
        "loss = np.sum(correct_class_logprob) / len(y_train)\r\n",
        "\r\n",
        "\r\n",
        "print(f'Loss: {loss:.2f}')"
      ],
      "execution_count": 121,
      "outputs": [
        {
          "output_type": "stream",
          "text": [
            "Loss: 0.69\n"
          ],
          "name": "stdout"
        }
      ]
    },
    {
      "cell_type": "code",
      "metadata": {
        "id": "dOoHNavxDwA_"
      },
      "source": [
        "# Backpropagation\r\n",
        "\r\n",
        "dscores = y_hat\r\n",
        "\r\n",
        "dscores[range(len(y_train)), y_train] -= 1\r\n",
        "\r\n",
        "dscores /= len(y_train)\r\n",
        "\r\n",
        "dW = np.dot(X_train.T, dscores)\r\n",
        "\r\n",
        "db = np.sum(dscores, axis=0, keepdims=True)"
      ],
      "execution_count": 137,
      "outputs": []
    },
    {
      "cell_type": "code",
      "metadata": {
        "id": "Uv7jyidxDwD3"
      },
      "source": [
        "W = 0.01 * np.random.rand(INPUT_DIM, NUM_CLASS)\r\n",
        "b = np.zeros((1, NUM_CLASS))\r\n",
        "\r\n",
        "epochs =  70"
      ],
      "execution_count": 177,
      "outputs": []
    },
    {
      "cell_type": "code",
      "metadata": {
        "id": "5jH0q0HOMPRZ"
      },
      "source": [
        "learning_rate = 0.1"
      ],
      "execution_count": 178,
      "outputs": []
    },
    {
      "cell_type": "code",
      "metadata": {
        "colab": {
          "base_uri": "https://localhost:8080/"
        },
        "id": "q1u6q4_CIWDS",
        "outputId": "e581dbcf-605e-4774-b727-2457a225ee37"
      },
      "source": [
        "for i in range(epochs):\r\n",
        "\r\n",
        "  # forward\r\n",
        "  logits = np.dot(X_train, W) + b\r\n",
        "\r\n",
        "  # softmax\r\n",
        "  exp_logits = np.exp(logits)\r\n",
        "  y_hat = exp_logits / np.sum(exp_logits, axis=1, keepdims=True)\r\n",
        "\r\n",
        "  # loss\r\n",
        "  correct_class_logprob = -np.log(y_hat[range(len(y_hat)), y_train])\r\n",
        "  loss = np.sum(correct_class_logprob) / len(y_train)\r\n",
        "\r\n",
        "  # show proccess\r\n",
        "  if i % 10 == 0:\r\n",
        "    # accuracy\r\n",
        "    y_pred = np.argmax(logits, axis=1)\r\n",
        "    accuracy = np.mean(np.equal(y_train, y_pred))\r\n",
        "\r\n",
        "    print(f'epoch: {i}\\tloss: {loss:.3f}\\taccuracy: {accuracy:3f}')\r\n",
        "\r\n",
        "  # backpropagation\r\n",
        "  dscores = y_hat\r\n",
        "  dscores[range(len(y_hat)), y_train] -= 1\r\n",
        "  dscores /= len(y_train)\r\n",
        "\r\n",
        "  dW = np.dot(X_train.T, dscores)\r\n",
        "  db = np.sum(dscores, axis=0, keepdims=True)\r\n",
        "\r\n",
        "  # update weights\r\n",
        "  W += -learning_rate*dW\r\n",
        "  b += -learning_rate*db"
      ],
      "execution_count": 179,
      "outputs": [
        {
          "output_type": "stream",
          "text": [
            "epoch: 0\tloss: 0.693\taccuracy: 0.571429\n",
            "epoch: 10\tloss: 0.453\taccuracy: 0.974286\n",
            "epoch: 20\tloss: 0.356\taccuracy: 0.974286\n",
            "epoch: 30\tloss: 0.303\taccuracy: 0.974286\n",
            "epoch: 40\tloss: 0.269\taccuracy: 0.974286\n",
            "epoch: 50\tloss: 0.245\taccuracy: 0.974286\n",
            "epoch: 60\tloss: 0.227\taccuracy: 0.974286\n"
          ],
          "name": "stdout"
        }
      ]
    },
    {
      "cell_type": "code",
      "metadata": {
        "id": "Y7EJET5dDwM7"
      },
      "source": [
        "# evaluate\r\n",
        "class LogisticRegrssionFromScratch():\r\n",
        "\r\n",
        "  def predict(self, x):\r\n",
        "\r\n",
        "    logits = np.dot(x, W) + b\r\n",
        "    exp_logits = np.exp(logits)\r\n",
        "    y_hat = exp_logits / np.sum(exp_logits, axis=1, keepdims=True)\r\n",
        "\r\n",
        "    return y_hat"
      ],
      "execution_count": 180,
      "outputs": []
    },
    {
      "cell_type": "code",
      "metadata": {
        "id": "k1wImZzkNRPm"
      },
      "source": [
        "model = LogisticRegrssionFromScratch()\r\n",
        "\r\n",
        "logits_train = model.predict(X_train)\r\n",
        "pred_train = np.argmax(logits_train, axis=1)\r\n",
        "logits_test = model.predict(X_test)\r\n",
        "pred_test = np.argmax(logits_test, axis=1)"
      ],
      "execution_count": 181,
      "outputs": []
    },
    {
      "cell_type": "code",
      "metadata": {
        "id": "Hx6lSv83NRST"
      },
      "source": [
        "train_acc = np.mean(np.equal(y_train, pred_train))\r\n",
        "test_acc = np.mean(np.equal(y_test, pred_test))"
      ],
      "execution_count": 182,
      "outputs": []
    },
    {
      "cell_type": "code",
      "metadata": {
        "colab": {
          "base_uri": "https://localhost:8080/"
        },
        "id": "Uv-sA17zNRU8",
        "outputId": "456a9fd5-d3b7-47da-ac47-b2f9b2e6a5aa"
      },
      "source": [
        "print(f'Accuracy train: {train_acc:.3f}\\nAccuracy test: {test_acc:.3f}')"
      ],
      "execution_count": 183,
      "outputs": [
        {
          "output_type": "stream",
          "text": [
            "Accuracy train: 0.974\n",
            "Accuracy test: 0.967\n"
          ],
          "name": "stdout"
        }
      ]
    },
    {
      "cell_type": "code",
      "metadata": {
        "colab": {
          "base_uri": "https://localhost:8080/",
          "height": 338
        },
        "id": "KE_mspd_NRXq",
        "outputId": "7d1d1ad2-3d1e-472c-b52e-4df889a6ab57"
      },
      "source": [
        "# Visualize the decision boundary\r\n",
        "plt.figure(figsize=(12,5))\r\n",
        "\r\n",
        "x_min, x_max = X[:,0].min() -0.1, X[:,0].max() +0.1\r\n",
        "y_min, y_max = X[:,1].min() -0.1, X[:,1].max() +0.1\r\n",
        "\r\n",
        "xx, yy = np.meshgrid(np.linspace(x_min, x_max, 101), np.linspace(y_min, y_max, 101))\r\n",
        "\r\n",
        "x_in = np.c_[xx.ravel(), yy.ravel()]\r\n",
        "\r\n",
        "pred = model.predict(x_in)\r\n",
        "\r\n",
        "pred = np.argmax(pred, axis=1).reshape(xx.shape)\r\n",
        "\r\n",
        "\r\n",
        "plt.contourf(xx, yy, pred, cmap=plt.cm.Spectral, alpha=0.8)\r\n",
        "plt.scatter(X[:,0], X[:,1], c=y, s=15,cmap=plt.cm.RdYlBu)\r\n",
        "plt.xlim(xx.min(), xx.max())\r\n",
        "plt.ylim(yy.min(), yy.max())\r\n",
        "\r\n"
      ],
      "execution_count": 195,
      "outputs": [
        {
          "output_type": "execute_result",
          "data": {
            "text/plain": [
              "(11.636216826926082, 18.47050035393364)"
            ]
          },
          "metadata": {
            "tags": []
          },
          "execution_count": 195
        },
        {
          "output_type": "display_data",
          "data": {
            "image/png": "[encoded data removed]",
            "text/plain": [
              "<Figure size 864x360 with 1 Axes>"
            ]
          },
          "metadata": {
            "tags": [],
            "needs_background": "light"
          }
        }
      ]
    }
  ]
}