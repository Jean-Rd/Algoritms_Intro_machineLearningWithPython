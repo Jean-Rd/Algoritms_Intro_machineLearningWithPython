{
 "cells": [
  {
   "cell_type": "code",
   "execution_count": 57,
   "metadata": {},
   "outputs": [
    {
     "data": {
      "text/plain": [
       "31.006494199296"
      ]
     },
     "execution_count": 57,
     "metadata": {},
     "output_type": "execute_result"
    }
   ],
   "source": [
    "class Circulo():\n",
    "    \n",
    "    def __init__(self,r):\n",
    "        \n",
    "        self.r=r\n",
    "        self.A=(r**2)*(3.1416)\n",
    "    \n",
    "    def set_r(self,rnew):\n",
    "        \n",
    "        self.r=rnew\n",
    "        self.A=(rnew**2)*(3.1416)\n",
    "\n",
    "a = Circulo(1)\n",
    "a.set_r(5)\n",
    "a.set_r(3.1416)\n",
    "a.A"
   ]
  },
  {
   "cell_type": "code",
   "execution_count": 86,
   "metadata": {},
   "outputs": [
    {
     "data": {
      "text/plain": [
       "['prolepopeno', 'Silicona']"
      ]
     },
     "execution_count": 86,
     "metadata": {},
     "output_type": "execute_result"
    }
   ],
   "source": [
    "class Pelota():\n",
    "    \n",
    "    #materiales=[] #SI DECLARAMOS AQUI ESTA LISTA SERA PARA TODOS LOS OBJETOS\n",
    "    \n",
    "    def __init__(self, r):\n",
    "        \n",
    "        self.radio=r\n",
    "        self.Area=(r**2)*3.1416\n",
    "        self.Perimetro=2*r*3.1416\n",
    "        self.materiales=[] # SI ES AQUI ESTA LISTA ES PARA CADA UNO DE LOS OBJETOS\n",
    "        \n",
    "    def add_material(self, new_material):\n",
    "        \n",
    "        self.materiales.append(new_material)\n",
    "        \n",
    "\n",
    "        \n",
    "_X = Pelota(5)\n",
    "\n",
    "_X.add_material('prolepopeno')\n",
    "_X.add_material('Silicona')\n",
    "_X.materiales\n",
    "\n",
    "\n",
    "_Y = Pelota(20)\n",
    "_Y.materiales\n",
    "_X.radio\n",
    "_Y.add_material('Moco')\n",
    "_Y.materiales\n",
    "_X.materiales"
   ]
  },
  {
   "cell_type": "code",
   "execution_count": 101,
   "metadata": {},
   "outputs": [
    {
     "data": {
      "text/plain": [
       "8"
      ]
     },
     "execution_count": 101,
     "metadata": {},
     "output_type": "execute_result"
    }
   ],
   "source": [
    "#Vectores\n",
    "\n",
    "class Vector():\n",
    "    \n",
    "    def __init__(self,x,y):\n",
    "        self.x=x\n",
    "        self.y=y\n",
    "        \n",
    "    def __add__(self,other):\n",
    "        sx = self.x+other.x\n",
    "        sy = self.y+other.y\n",
    "        return Vector(sx,sy)\n",
    "    \n",
    "    def __str__(self):\n",
    "        return '('+str(self.x)+','+str(self.y)+')'\n",
    "    \n",
    "f = Vector(4,2)\n",
    "e = Vector(10,2)\n",
    "\n",
    "d = f+e\n",
    "z= f+e+d\n",
    "z.y"
   ]
  },
  {
   "cell_type": "code",
   "execution_count": 110,
   "metadata": {},
   "outputs": [
    {
     "data": {
      "text/plain": [
       "array([[0.        , 0.33333333, 0.66666667, 1.        , 1.33333333,\n",
       "        1.66666667, 2.        , 2.33333333, 2.66666667, 3.        ],\n",
       "       [0.        , 0.33333333, 0.66666667, 1.        , 1.33333333,\n",
       "        1.66666667, 2.        , 2.33333333, 2.66666667, 3.        ],\n",
       "       [0.        , 0.33333333, 0.66666667, 1.        , 1.33333333,\n",
       "        1.66666667, 2.        , 2.33333333, 2.66666667, 3.        ],\n",
       "       [0.        , 0.33333333, 0.66666667, 1.        , 1.33333333,\n",
       "        1.66666667, 2.        , 2.33333333, 2.66666667, 3.        ],\n",
       "       [0.        , 0.33333333, 0.66666667, 1.        , 1.33333333,\n",
       "        1.66666667, 2.        , 2.33333333, 2.66666667, 3.        ],\n",
       "       [0.        , 0.33333333, 0.66666667, 1.        , 1.33333333,\n",
       "        1.66666667, 2.        , 2.33333333, 2.66666667, 3.        ],\n",
       "       [0.        , 0.33333333, 0.66666667, 1.        , 1.33333333,\n",
       "        1.66666667, 2.        , 2.33333333, 2.66666667, 3.        ],\n",
       "       [0.        , 0.33333333, 0.66666667, 1.        , 1.33333333,\n",
       "        1.66666667, 2.        , 2.33333333, 2.66666667, 3.        ],\n",
       "       [0.        , 0.33333333, 0.66666667, 1.        , 1.33333333,\n",
       "        1.66666667, 2.        , 2.33333333, 2.66666667, 3.        ],\n",
       "       [0.        , 0.33333333, 0.66666667, 1.        , 1.33333333,\n",
       "        1.66666667, 2.        , 2.33333333, 2.66666667, 3.        ]])"
      ]
     },
     "execution_count": 110,
     "metadata": {},
     "output_type": "execute_result"
    }
   ],
   "source": [
    "import numpy as np\n",
    "\n",
    "x = np.linspace(0,3,10)\n",
    "y = np.linspace(-3,0,10)\n",
    "\n",
    "xmesh, ymesh = np.meshgrid(x,y)\n",
    "xmesh"
   ]
  },
  {
   "cell_type": "code",
   "execution_count": 115,
   "metadata": {},
   "outputs": [
    {
     "name": "stdout",
     "output_type": "stream",
     "text": [
      "-3.0\n",
      "-3.0\n",
      "-3.0\n",
      "-3.0\n",
      "-3.0\n",
      "-3.0\n",
      "-3.0\n",
      "-3.0\n",
      "-3.0\n",
      "-3.0\n",
      "-2.6666666666666665\n",
      "-2.6666666666666665\n",
      "-2.6666666666666665\n",
      "-2.6666666666666665\n",
      "-2.6666666666666665\n",
      "-2.6666666666666665\n",
      "-2.6666666666666665\n",
      "-2.6666666666666665\n",
      "-2.6666666666666665\n",
      "-2.6666666666666665\n",
      "-2.3333333333333335\n",
      "-2.3333333333333335\n",
      "-2.3333333333333335\n",
      "-2.3333333333333335\n",
      "-2.3333333333333335\n",
      "-2.3333333333333335\n",
      "-2.3333333333333335\n",
      "-2.3333333333333335\n",
      "-2.3333333333333335\n",
      "-2.3333333333333335\n",
      "-2.0\n",
      "-2.0\n",
      "-2.0\n",
      "-2.0\n",
      "-2.0\n",
      "-2.0\n",
      "-2.0\n",
      "-2.0\n",
      "-2.0\n",
      "-2.0\n",
      "-1.6666666666666667\n",
      "-1.6666666666666667\n",
      "-1.6666666666666667\n",
      "-1.6666666666666667\n",
      "-1.6666666666666667\n",
      "-1.6666666666666667\n",
      "-1.6666666666666667\n",
      "-1.6666666666666667\n",
      "-1.6666666666666667\n",
      "-1.6666666666666667\n",
      "-1.3333333333333335\n",
      "-1.3333333333333335\n",
      "-1.3333333333333335\n",
      "-1.3333333333333335\n",
      "-1.3333333333333335\n",
      "-1.3333333333333335\n",
      "-1.3333333333333335\n",
      "-1.3333333333333335\n",
      "-1.3333333333333335\n",
      "-1.3333333333333335\n",
      "-1.0\n",
      "-1.0\n",
      "-1.0\n",
      "-1.0\n",
      "-1.0\n",
      "-1.0\n",
      "-1.0\n",
      "-1.0\n",
      "-1.0\n",
      "-1.0\n",
      "-0.666666666666667\n",
      "-0.666666666666667\n",
      "-0.666666666666667\n",
      "-0.666666666666667\n",
      "-0.666666666666667\n",
      "-0.666666666666667\n",
      "-0.666666666666667\n",
      "-0.666666666666667\n",
      "-0.666666666666667\n",
      "-0.666666666666667\n",
      "-0.3333333333333335\n",
      "-0.3333333333333335\n",
      "-0.3333333333333335\n",
      "-0.3333333333333335\n",
      "-0.3333333333333335\n",
      "-0.3333333333333335\n",
      "-0.3333333333333335\n",
      "-0.3333333333333335\n",
      "-0.3333333333333335\n",
      "-0.3333333333333335\n",
      "0.0\n",
      "0.0\n",
      "0.0\n",
      "0.0\n",
      "0.0\n",
      "0.0\n",
      "0.0\n",
      "0.0\n",
      "0.0\n",
      "0.0\n"
     ]
    }
   ],
   "source": [
    "for e in ymesh.flat:\n",
    "    print(e)"
   ]
  },
  {
   "cell_type": "code",
   "execution_count": null,
   "metadata": {},
   "outputs": [],
   "source": []
  },
  {
   "cell_type": "code",
   "execution_count": null,
   "metadata": {},
   "outputs": [],
   "source": []
  }
 ],
 "metadata": {
  "kernelspec": {
   "display_name": "Python 3",
   "language": "python",
   "name": "python3"
  },
  "language_info": {
   "codemirror_mode": {
    "name": "ipython",
    "version": 3
   },
   "file_extension": ".py",
   "mimetype": "text/x-python",
   "name": "python",
   "nbconvert_exporter": "python",
   "pygments_lexer": "ipython3",
   "version": "3.7.6"
  }
 },
 "nbformat": 4,
 "nbformat_minor": 4
}
