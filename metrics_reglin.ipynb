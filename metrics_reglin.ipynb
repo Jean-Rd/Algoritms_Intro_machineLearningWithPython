{
  "nbformat": 4,
  "nbformat_minor": 0,
  "metadata": {
    "colab": {
      "name": "Untitled18.ipynb",
      "provenance": [],
      "authorship_tag": "ABX9TyO0OUDEQ8D00aO3qCPFLE/l",
      "include_colab_link": true
    },
    "kernelspec": {
      "name": "python3",
      "display_name": "Python 3"
    }
  },
  "cells": [
    {
      "cell_type": "markdown",
      "metadata": {
        "id": "view-in-github",
        "colab_type": "text"
      },
      "source": [
        "<a href=\"https://colab.research.google.com/github/Jean-Rd/Algoritms_Intro_machineLearningWithPython/blob/master/metrics_reglin.ipynb\" target=\"_parent\"><img src=\"https://colab.research.google.com/assets/colab-badge.svg\" alt=\"Open In Colab\"/></a>"
      ]
    },
    {
      "cell_type": "code",
      "metadata": {
        "id": "omiXrTuZPydl"
      },
      "source": [
        "import pandas as pd\n",
        "import matplotlib.pyplot as plt\n",
        "import numpy as np\n",
        "import seaborn as sns"
      ],
      "execution_count": 1,
      "outputs": []
    },
    {
      "cell_type": "code",
      "metadata": {
        "id": "6UFyfcniP4oW"
      },
      "source": [
        "rios = pd.read_csv('https://raw.githubusercontent.com/rociochavezmx/Rocio-Chavez-youtube-Files/master/Rios.csv')\n",
        "sns.set_style('dark')"
      ],
      "execution_count": 2,
      "outputs": []
    },
    {
      "cell_type": "code",
      "metadata": {
        "id": "rvonNU2bP4sQ",
        "outputId": "f0f509b8-5c81-4d2c-893d-1ddc52c7609f",
        "colab": {
          "base_uri": "https://localhost:8080/",
          "height": 265
        }
      },
      "source": [
        "plt.boxplot(rios.Millas, vert=False)\n",
        "plt.show()"
      ],
      "execution_count": 3,
      "outputs": [
        {
          "output_type": "display_data",
          "data": {
            "image/png": "[encoded data removed]",
            "text/plain": [
              "<Figure size 432x288 with 1 Axes>"
            ]
          },
          "metadata": {
            "tags": []
          }
        }
      ]
    },
    {
      "cell_type": "code",
      "metadata": {
        "id": "f53uGf7kP4wu",
        "outputId": "5a0a5047-951e-4ce8-bcb8-98a53d5e5ba5",
        "colab": {
          "base_uri": "https://localhost:8080/"
        }
      },
      "source": [
        "Q1 = rios.Millas.quantile(0.25)\n",
        "print('Primer quantil: {}'.format(Q1))\n",
        "Q3 = rios.Millas.quantile(0.75)\n",
        "print('Tercer quantile: {}'.format(Q3))\n",
        "mediana = rios.Millas.median()\n",
        "print('Segundo quantile o mediana: {}'.format(mediana))\n",
        "IQR = Q3 - Q1\n",
        "print('Rango inter quantil IQR: {}'.format(IQR))\n",
        "min = rios.Millas.min()\n",
        "print('Valor minimo: {}'.format(min))\n",
        "max = rios.Millas.max()\n",
        "print('Valor maximo: {}'.format(max))"
      ],
      "execution_count": 4,
      "outputs": [
        {
          "output_type": "stream",
          "text": [
            "Primer quantil: 310.0\n",
            "Tercer quantile: 680.0\n",
            "Segundo quantile o mediana: 425.0\n",
            "Rango inter quantil IQR: 370.0\n",
            "Valor minimo: 135\n",
            "Valor maximo: 3710\n"
          ],
          "name": "stdout"
        }
      ]
    },
    {
      "cell_type": "code",
      "metadata": {
        "id": "aL69OvSnP4rj",
        "outputId": "b6ee3f0b-c52c-47d7-c7ed-e3d76c4185f3",
        "colab": {
          "base_uri": "https://localhost:8080/"
        }
      },
      "source": [
        "B_inf = (Q1 - 1.5*IQR)\n",
        "B_sup = (Q3 + 1.5*IQR)\n",
        "\n",
        "print('Bigote inferior: {}'.format(B_inf))\n",
        "B_2inf = (min)\n",
        "# Como el valor de B_inf es negativo, nuestro nuevo bigote inferior es el valor minimo\n",
        "print('Nuevo bigote inferior: {}'.format(min))\n",
        "print('Bigote superior: {}'.format(B_sup))"
      ],
      "execution_count": 5,
      "outputs": [
        {
          "output_type": "stream",
          "text": [
            "Bigote inferior: -245.0\n",
            "Nuevo bigote inferior: 135\n",
            "Bigote superior: 1235.0\n"
          ],
          "name": "stdout"
        }
      ]
    },
    {
      "cell_type": "code",
      "metadata": {
        "id": "SPhOy4kYP4ml",
        "outputId": "c274abb9-8d6e-4466-e90c-fc76b16b38c3",
        "colab": {
          "base_uri": "https://localhost:8080/",
          "height": 204
        }
      },
      "source": [
        "outliers = rios[(rios.Millas < B_2inf) | (rios.Millas > B_sup)]\n",
        "outliers.sort_values('Rio')\n",
        "\n",
        "data_sin_out = rios[(rios.Millas >= B_2inf) & (rios.Millas <= B_sup)]\n",
        "data_sin_out.head()"
      ],
      "execution_count": 6,
      "outputs": [
        {
          "output_type": "execute_result",
          "data": {
            "text/html": [
              "<div>\n",
              "<style scoped>\n",
              "    .dataframe tbody tr th:only-of-type {\n",
              "        vertical-align: middle;\n",
              "    }\n",
              "\n",
              "    .dataframe tbody tr th {\n",
              "        vertical-align: top;\n",
              "    }\n",
              "\n",
              "    .dataframe thead th {\n",
              "        text-align: right;\n",
              "    }\n",
              "</style>\n",
              "<table border=\"1\" class=\"dataframe\">\n",
              "  <thead>\n",
              "    <tr style=\"text-align: right;\">\n",
              "      <th></th>\n",
              "      <th>Rio</th>\n",
              "      <th>Millas</th>\n",
              "    </tr>\n",
              "  </thead>\n",
              "  <tbody>\n",
              "    <tr>\n",
              "      <th>0</th>\n",
              "      <td>1</td>\n",
              "      <td>735</td>\n",
              "    </tr>\n",
              "    <tr>\n",
              "      <th>1</th>\n",
              "      <td>2</td>\n",
              "      <td>320</td>\n",
              "    </tr>\n",
              "    <tr>\n",
              "      <th>2</th>\n",
              "      <td>3</td>\n",
              "      <td>325</td>\n",
              "    </tr>\n",
              "    <tr>\n",
              "      <th>3</th>\n",
              "      <td>4</td>\n",
              "      <td>392</td>\n",
              "    </tr>\n",
              "    <tr>\n",
              "      <th>4</th>\n",
              "      <td>5</td>\n",
              "      <td>524</td>\n",
              "    </tr>\n",
              "  </tbody>\n",
              "</table>\n",
              "</div>"
            ],
            "text/plain": [
              "   Rio  Millas\n",
              "0    1     735\n",
              "1    2     320\n",
              "2    3     325\n",
              "3    4     392\n",
              "4    5     524"
            ]
          },
          "metadata": {
            "tags": []
          },
          "execution_count": 6
        }
      ]
    },
    {
      "cell_type": "code",
      "metadata": {
        "id": "biQnVgbJZOvf",
        "outputId": "3c904bb3-077d-4ed3-cf33-94deaa0b16ed",
        "colab": {
          "base_uri": "https://localhost:8080/",
          "height": 265
        }
      },
      "source": [
        "plt.boxplot(data_sin_out.Millas, vert=False)\n",
        "plt.show()"
      ],
      "execution_count": 7,
      "outputs": [
        {
          "output_type": "display_data",
          "data": {
            "image/png": "[encoded data removed]",
            "text/plain": [
              "<Figure size 432x288 with 1 Axes>"
            ]
          },
          "metadata": {
            "tags": []
          }
        }
      ]
    },
    {
      "cell_type": "code",
      "metadata": {
        "id": "E14DkNKjZOuB",
        "outputId": "50c55686-c10f-4254-e6a3-87640a88d226",
        "colab": {
          "base_uri": "https://localhost:8080/"
        }
      },
      "source": [
        "Q_1 = data_sin_out.Millas.quantile(0.25)\n",
        "Q_3 = data_sin_out.Millas.quantile(0.75)\n",
        "_IQR = Q_3 - Q_1 \n",
        "_min = data_sin_out.Millas.min()\n",
        "_max = data_sin_out.Millas.max()\n",
        "_mediana = data_sin_out.Millas.median()\n",
        "\n",
        "print('Primer quantile: {}'.format(Q_1))\n",
        "print('Tercer quantile: {}'.format(Q_3))\n",
        "print('Mediana: {}'.format(_mediana))\n",
        "print('IRQ: {}'.format(_IQR))\n",
        "print('Minimo: {}'.format(_min))\n",
        "print('Maximo: {}'.format(_max))"
      ],
      "execution_count": 8,
      "outputs": [
        {
          "output_type": "stream",
          "text": [
            "Primer quantile: 302.25\n",
            "Tercer quantile: 603.75\n",
            "Mediana: 408.5\n",
            "IRQ: 301.5\n",
            "Minimo: 135\n",
            "Maximo: 1205\n"
          ],
          "name": "stdout"
        }
      ]
    },
    {
      "cell_type": "code",
      "metadata": {
        "id": "QhL6QUIdaiYw",
        "outputId": "f2c0d3b0-3607-4ffc-906f-081d19f90b29",
        "colab": {
          "base_uri": "https://localhost:8080/"
        }
      },
      "source": [
        "_Binf = (Q_1 - 1.5*_IQR)\n",
        "_Bsup = (Q_3 + 1.5*_IQR)\n",
        "\n",
        "print('Barra inferios: {}'.format(_Binf)) # nueva barra inferior por se negativa as min\n",
        "_B2inf = (_min)\n",
        "print('Nueva barra inferior: {}'.format(_B2inf))\n",
        "print('Barra superior: {}'.format(_Bsup))"
      ],
      "execution_count": 9,
      "outputs": [
        {
          "output_type": "stream",
          "text": [
            "Barra inferios: -150.0\n",
            "Nueva barra inferior: 135\n",
            "Barra superior: 1056.0\n"
          ],
          "name": "stdout"
        }
      ]
    },
    {
      "cell_type": "code",
      "metadata": {
        "id": "KQi85OMXaidY",
        "outputId": "d4bfcb6f-b12a-4278-9608-6c891881f1f0",
        "colab": {
          "base_uri": "https://localhost:8080/",
          "height": 142
        }
      },
      "source": [
        "with_out = data_sin_out[(data_sin_out.Millas < _B2inf)| (data_sin_out.Millas > _Bsup)]\n",
        "with_out.sort_values('Rio')"
      ],
      "execution_count": 10,
      "outputs": [
        {
          "output_type": "execute_result",
          "data": {
            "text/html": [
              "<div>\n",
              "<style scoped>\n",
              "    .dataframe tbody tr th:only-of-type {\n",
              "        vertical-align: middle;\n",
              "    }\n",
              "\n",
              "    .dataframe tbody tr th {\n",
              "        vertical-align: top;\n",
              "    }\n",
              "\n",
              "    .dataframe thead th {\n",
              "        text-align: right;\n",
              "    }\n",
              "</style>\n",
              "<table border=\"1\" class=\"dataframe\">\n",
              "  <thead>\n",
              "    <tr style=\"text-align: right;\">\n",
              "      <th></th>\n",
              "      <th>Rio</th>\n",
              "      <th>Millas</th>\n",
              "    </tr>\n",
              "  </thead>\n",
              "  <tbody>\n",
              "    <tr>\n",
              "      <th>66</th>\n",
              "      <td>67</td>\n",
              "      <td>1171</td>\n",
              "    </tr>\n",
              "    <tr>\n",
              "      <th>113</th>\n",
              "      <td>114</td>\n",
              "      <td>1100</td>\n",
              "    </tr>\n",
              "    <tr>\n",
              "      <th>114</th>\n",
              "      <td>115</td>\n",
              "      <td>1205</td>\n",
              "    </tr>\n",
              "  </tbody>\n",
              "</table>\n",
              "</div>"
            ],
            "text/plain": [
              "     Rio  Millas\n",
              "66    67    1171\n",
              "113  114    1100\n",
              "114  115    1205"
            ]
          },
          "metadata": {
            "tags": []
          },
          "execution_count": 10
        }
      ]
    },
    {
      "cell_type": "code",
      "metadata": {
        "id": "Ds7vdDqaaicj",
        "outputId": "f7d5599f-41bd-4dad-d5dc-5375d6e09378",
        "colab": {
          "base_uri": "https://localhost:8080/"
        }
      },
      "source": [
        "without_out = data_sin_out[(data_sin_out.Millas >= _B2inf) & (data_sin_out.Millas <= _Bsup)]\n",
        "without_out.shape"
      ],
      "execution_count": 11,
      "outputs": [
        {
          "output_type": "execute_result",
          "data": {
            "text/plain": [
              "(127, 2)"
            ]
          },
          "metadata": {
            "tags": []
          },
          "execution_count": 11
        }
      ]
    },
    {
      "cell_type": "code",
      "metadata": {
        "id": "xaAhxHh-aiXR",
        "outputId": "f4b87d0d-eb21-452f-faac-8d91eb957fb5",
        "colab": {
          "base_uri": "https://localhost:8080/",
          "height": 265
        }
      },
      "source": [
        "plt.boxplot(without_out.Millas, vert=False)\n",
        "plt.show()"
      ],
      "execution_count": 12,
      "outputs": [
        {
          "output_type": "display_data",
          "data": {
            "image/png": "[encoded data removed]",
            "text/plain": [
              "<Figure size 432x288 with 1 Axes>"
            ]
          },
          "metadata": {
            "tags": []
          }
        }
      ]
    },
    {
      "cell_type": "code",
      "metadata": {
        "id": "Hw88bnxDcUqV",
        "outputId": "1d63e6d7-293d-4b92-838e-099bfb6c68b5",
        "colab": {
          "base_uri": "https://localhost:8080/"
        }
      },
      "source": [
        "_Q1 = without_out.Millas.quantile(0.25)\n",
        "_Q3 = without_out.Millas.quantile(0.75)\n",
        "_median = without_out.Millas.median()\n",
        "_IQR_ = _Q3 - _Q1\n",
        "v_min = without_out.Millas.min()\n",
        "v_max = without_out.Millas.max()\n",
        "\n",
        "_Bi = (_Q1 - 1.5*_IQR_)\n",
        "_Bs = (_Q3 + 1.5*_IQR_)\n",
        "\n",
        "print('min: {}'.format(v_min))\n",
        "print('max: {}'.format(v_max))\n",
        "print('mediana: {}'.format(_median))\n",
        "print('IQR: {}'.format(_IQR_))\n",
        "print('Primer quantile: {}'.format(_Q1))\n",
        "print('Tercer quantile: {}'.format(_Q3))\n",
        "print(_Bi, _Bs)"
      ],
      "execution_count": 71,
      "outputs": [
        {
          "output_type": "stream",
          "text": [
            "min: 135\n",
            "max: 1054\n",
            "mediana: 392.0\n",
            "IQR: 299.5\n",
            "Primer quantile: 300.5\n",
            "Tercer quantile: 600.0\n",
            "-148.75 1049.25\n"
          ],
          "name": "stdout"
        }
      ]
    },
    {
      "cell_type": "code",
      "metadata": {
        "id": "MzbMNfpNcUuP",
        "outputId": "2e92d88e-7553-407f-b5a9-cf29f993d171",
        "colab": {
          "base_uri": "https://localhost:8080/",
          "height": 80
        }
      },
      "source": [
        "out = without_out[(without_out.Millas < _Bi) | (without_out.Millas > _Bs)]\n",
        "out"
      ],
      "execution_count": 46,
      "outputs": [
        {
          "output_type": "execute_result",
          "data": {
            "text/html": [
              "<div>\n",
              "<style scoped>\n",
              "    .dataframe tbody tr th:only-of-type {\n",
              "        vertical-align: middle;\n",
              "    }\n",
              "\n",
              "    .dataframe tbody tr th {\n",
              "        vertical-align: top;\n",
              "    }\n",
              "\n",
              "    .dataframe thead th {\n",
              "        text-align: right;\n",
              "    }\n",
              "</style>\n",
              "<table border=\"1\" class=\"dataframe\">\n",
              "  <thead>\n",
              "    <tr style=\"text-align: right;\">\n",
              "      <th></th>\n",
              "      <th>Rio</th>\n",
              "      <th>Millas</th>\n",
              "    </tr>\n",
              "  </thead>\n",
              "  <tbody>\n",
              "    <tr>\n",
              "      <th>88</th>\n",
              "      <td>89</td>\n",
              "      <td>1054</td>\n",
              "    </tr>\n",
              "  </tbody>\n",
              "</table>\n",
              "</div>"
            ],
            "text/plain": [
              "    Rio  Millas\n",
              "88   89    1054"
            ]
          },
          "metadata": {
            "tags": []
          },
          "execution_count": 46
        }
      ]
    },
    {
      "cell_type": "code",
      "metadata": {
        "id": "d1hvon5EXqdd",
        "outputId": "46c87a4b-f375-4ba7-9eea-a64fdd0809f5",
        "colab": {
          "base_uri": "https://localhost:8080/",
          "height": 333
        }
      },
      "source": [
        "NoOut = without_out[(without_out >= _Bi) & (without_out <= _Bs)]\n",
        "\n",
        "sns.boxplot(NoOut.Millas)\n",
        "plt.show()"
      ],
      "execution_count": 51,
      "outputs": [
        {
          "output_type": "stream",
          "text": [
            "/usr/local/lib/python3.6/dist-packages/seaborn/_decorators.py:43: FutureWarning: Pass the following variable as a keyword arg: x. From version 0.12, the only valid positional argument will be `data`, and passing other arguments without an explicit keyword will result in an error or misinterpretation.\n",
            "  FutureWarning\n"
          ],
          "name": "stderr"
        },
        {
          "output_type": "display_data",
          "data": {
            "image/png": "[encoded data removed]",
            "text/plain": [
              "<Figure size 432x288 with 1 Axes>"
            ]
          },
          "metadata": {
            "tags": []
          }
        }
      ]
    },
    {
      "cell_type": "code",
      "metadata": {
        "id": "iUpaIRwNXqhR",
        "outputId": "7bff14fa-005c-4f9d-af36-c0f7359d5290",
        "colab": {
          "base_uri": "https://localhost:8080/",
          "height": 333
        }
      },
      "source": [
        "dta = NoOut[NoOut.Millas != NoOut.Millas.max()]\n",
        "\n",
        "sns.boxplot(dta.Millas)\n",
        "plt.show()"
      ],
      "execution_count": 59,
      "outputs": [
        {
          "output_type": "stream",
          "text": [
            "/usr/local/lib/python3.6/dist-packages/seaborn/_decorators.py:43: FutureWarning: Pass the following variable as a keyword arg: x. From version 0.12, the only valid positional argument will be `data`, and passing other arguments without an explicit keyword will result in an error or misinterpretation.\n",
            "  FutureWarning\n"
          ],
          "name": "stderr"
        },
        {
          "output_type": "display_data",
          "data": {
            "image/png": "[encoded data removed]",
            "text/plain": [
              "<Figure size 432x288 with 1 Axes>"
            ]
          },
          "metadata": {
            "tags": []
          }
        }
      ]
    },
    {
      "cell_type": "code",
      "metadata": {
        "id": "LGUWTDlPXqb4",
        "outputId": "9ba0ded6-ee78-451a-c81a-487b854b32dd",
        "colab": {
          "base_uri": "https://localhost:8080/"
        }
      },
      "source": [
        "q1 = NoOut.Millas.quantile(0.25)\n",
        "q3 = NoOut.Millas.quantile(0.75)\n",
        "\n",
        "mediana = NoOut.Millas.median()\n",
        "iqr = q3 - q1\n",
        "\n",
        "miniman = NoOut.Millas.min()\n",
        "maximan = NoOut.Millas.max()\n",
        "\n",
        "bi = (q1 - 1.5*iqr)\n",
        "bs = (q3 + 1.5*iqr)\n",
        "\n",
        "print('quantile 1: {}'.format(q1))\n",
        "print('quantile 3: {}'.format(q3))\n",
        "print('iqr: {}'.format(iqr))\n",
        "print('mediana: {}'.format(mediana))\n",
        "binf = miniman\n",
        "print('barra inf: {}, new: {}'.format(bi, binf))\n",
        "print('barra sup: {}'.format(bs))"
      ],
      "execution_count": 69,
      "outputs": [
        {
          "output_type": "stream",
          "text": [
            "quantile 1: 300.25\n",
            "quantile 3: 592.5\n",
            "iqr: 292.25\n",
            "mediana: 391.0\n",
            "barra inf: -138.125, new: 135.0\n",
            "barra sup: 1030.875\n"
          ],
          "name": "stdout"
        }
      ]
    },
    {
      "cell_type": "code",
      "metadata": {
        "id": "lfXKvDDdcHUU",
        "outputId": "59881b24-b6f1-4900-aeea-83073c5d86ac",
        "colab": {
          "base_uri": "https://localhost:8080/",
          "height": 265
        }
      },
      "source": [
        "new = NoOut[(NoOut.Millas >= binf) & (NoOut.Millas <= bs)]\n",
        "\n",
        "plt.boxplot(new.Millas, vert=False)\n",
        "plt.show()"
      ],
      "execution_count": 74,
      "outputs": [
        {
          "output_type": "display_data",
          "data": {
            "image/png": "[encoded data removed]",
            "text/plain": [
              "<Figure size 432x288 with 1 Axes>"
            ]
          },
          "metadata": {
            "tags": []
          }
        }
      ]
    },
    {
      "cell_type": "code",
      "metadata": {
        "id": "NxyZIyvXcUo1",
        "outputId": "327fcfe1-063a-4427-86ed-52627e8e1b5c",
        "colab": {
          "base_uri": "https://localhost:8080/"
        }
      },
      "source": [
        "q1 = new.Millas.quantile(0.25)\n",
        "q3 = new.Millas.quantile(0.75)\n",
        "\n",
        "mediana = new.Millas.median()\n",
        "iqr = q3 - q1\n",
        "\n",
        "miniman = new.Millas.min()\n",
        "maximan = new.Millas.max()\n",
        "\n",
        "bi = (q1 - 1.5*iqr)\n",
        "bs = (q3 + 1.5*iqr)\n",
        "\n",
        "print('quantile 1: {}'.format(q1))\n",
        "print('quantile 3: {}'.format(q3))\n",
        "print('iqr: {}'.format(iqr))\n",
        "print('mediana: {}'.format(mediana))\n",
        "binf = miniman\n",
        "print('barra inf: {}, new: {}'.format(bi, binf))\n",
        "print('barra sup: {}'.format(bs))"
      ],
      "execution_count": 75,
      "outputs": [
        {
          "output_type": "stream",
          "text": [
            "quantile 1: 300.0\n",
            "quantile 3: 570.0\n",
            "iqr: 270.0\n",
            "mediana: 390.0\n",
            "barra inf: -105.0, new: 135.0\n",
            "barra sup: 975.0\n"
          ],
          "name": "stdout"
        }
      ]
    },
    {
      "cell_type": "code",
      "metadata": {
        "id": "IlqpYZbteR_0",
        "outputId": "fce1a0da-d3f6-41d6-cb3a-334d76536afc",
        "colab": {
          "base_uri": "https://localhost:8080/",
          "height": 265
        }
      },
      "source": [
        "new = NoOut[(NoOut.Millas >= binf) & (NoOut.Millas <= bs)]\n",
        "\n",
        "plt.boxplot(new.Millas, vert=False)\n",
        "plt.show()"
      ],
      "execution_count": 76,
      "outputs": [
        {
          "output_type": "display_data",
          "data": {
            "image/png": "[encoded data removed]",
            "text/plain": [
              "<Figure size 432x288 with 1 Axes>"
            ]
          },
          "metadata": {
            "tags": []
          }
        }
      ]
    },
    {
      "cell_type": "code",
      "metadata": {
        "id": "tU7y7FmZeSEZ",
        "outputId": "c3a0470f-7fb8-4958-f629-483914b78779",
        "colab": {
          "base_uri": "https://localhost:8080/",
          "height": 350
        }
      },
      "source": [
        "sns.distplot(new.Millas)"
      ],
      "execution_count": 82,
      "outputs": [
        {
          "output_type": "stream",
          "text": [
            "/usr/local/lib/python3.6/dist-packages/seaborn/distributions.py:2551: FutureWarning: `distplot` is a deprecated function and will be removed in a future version. Please adapt your code to use either `displot` (a figure-level function with similar flexibility) or `histplot` (an axes-level function for histograms).\n",
            "  warnings.warn(msg, FutureWarning)\n"
          ],
          "name": "stderr"
        },
        {
          "output_type": "execute_result",
          "data": {
            "text/plain": [
              "<matplotlib.axes._subplots.AxesSubplot at 0x7f8d34091278>"
            ]
          },
          "metadata": {
            "tags": []
          },
          "execution_count": 82
        },
        {
          "output_type": "display_data",
          "data": {
            "image/png": "[encoded data removed]",
            "text/plain": [
              "<Figure size 432x288 with 1 Axes>"
            ]
          },
          "metadata": {
            "tags": []
          }
        }
      ]
    },
    {
      "cell_type": "code",
      "metadata": {
        "id": "n8ucF93deR-Q",
        "outputId": "0b268fc4-4fbc-44a7-c4a1-c0fc9cbd0aa6",
        "colab": {
          "base_uri": "https://localhost:8080/",
          "height": 295
        }
      },
      "source": [
        "import scipy.stats as stats\n",
        "\n",
        "stats.probplot(new.Millas, dist='norm', plot=plt)\n",
        "plt.show()"
      ],
      "execution_count": 92,
      "outputs": [
        {
          "output_type": "display_data",
          "data": {
            "image/png": "[encoded data removed]",
            "text/plain": [
              "<Figure size 432x288 with 1 Axes>"
            ]
          },
          "metadata": {
            "tags": []
          }
        }
      ]
    },
    {
      "cell_type": "code",
      "metadata": {
        "id": "O8ECplsOglVB",
        "outputId": "ae78ffe9-4243-4802-a7ab-0f5e8eea4c9f",
        "colab": {
          "base_uri": "https://localhost:8080/"
        }
      },
      "source": [
        "from scipy.stats import shapiro\n",
        "\n",
        "esocastico, p_value = shapiro(new.Millas)\n",
        "\n",
        "print('stats: {:.2f}, p_value: {:2f}'.format(esocastico, p_value))"
      ],
      "execution_count": 101,
      "outputs": [
        {
          "output_type": "stream",
          "text": [
            "stats: 0.92, p_value: 0.000001\n"
          ],
          "name": "stdout"
        }
      ]
    },
    {
      "cell_type": "code",
      "metadata": {
        "id": "IXSjbU85glbC",
        "outputId": "5c42e1cf-69bf-4df9-ecaa-a78856901ac7",
        "colab": {
          "base_uri": "https://localhost:8080/",
          "height": 391
        }
      },
      "source": [
        "sns.pairplot(new)"
      ],
      "execution_count": 102,
      "outputs": [
        {
          "output_type": "execute_result",
          "data": {
            "text/plain": [
              "<seaborn.axisgrid.PairGrid at 0x7f8d370a2400>"
            ]
          },
          "metadata": {
            "tags": []
          },
          "execution_count": 102
        },
        {
          "output_type": "display_data",
          "data": {
            "image/png": "[encoded data removed]",
            "text/plain": [
              "<Figure size 360x360 with 6 Axes>"
            ]
          },
          "metadata": {
            "tags": []
          }
        }
      ]
    },
    {
      "cell_type": "code",
      "metadata": {
        "id": "CWfqSso_glaL"
      },
      "source": [
        ""
      ],
      "execution_count": null,
      "outputs": []
    },
    {
      "cell_type": "code",
      "metadata": {
        "id": "PKjfIIT7glTj"
      },
      "source": [
        ""
      ],
      "execution_count": null,
      "outputs": []
    }
  ]
}