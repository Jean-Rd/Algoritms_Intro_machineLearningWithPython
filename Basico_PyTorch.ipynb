{
  "nbformat": 4,
  "nbformat_minor": 0,
  "metadata": {
    "colab": {
      "name": "Basico_PyTorch.ipynb",
      "provenance": [],
      "authorship_tag": "ABX9TyNPh/A5ftvrEnJ1dyJZMRcY",
      "include_colab_link": true
    },
    "kernelspec": {
      "name": "python3",
      "display_name": "Python 3"
    }
  },
  "cells": [
    {
      "cell_type": "markdown",
      "metadata": {
        "id": "view-in-github",
        "colab_type": "text"
      },
      "source": [
        "<a href=\"https://colab.research.google.com/github/Jean-Rd/Algoritms_Intro_machineLearningWithPython/blob/master/Basico_PyTorch.ipynb\" target=\"_parent\"><img src=\"https://colab.research.google.com/assets/colab-badge.svg\" alt=\"Open In Colab\"/></a>"
      ]
    },
    {
      "cell_type": "code",
      "metadata": {
        "id": "IXTTZNOLC9TE"
      },
      "source": [
        "import numpy as np\r\n",
        "import torch"
      ],
      "execution_count": 1,
      "outputs": []
    },
    {
      "cell_type": "code",
      "metadata": {
        "colab": {
          "base_uri": "https://localhost:8080/"
        },
        "id": "SPtDfxxYDhaB",
        "outputId": "8694278c-29dc-4a01-d76d-c280eac75249"
      },
      "source": [
        "SEED = 1234\r\n",
        "\r\n",
        "np.random.seed(seed=SEED)\r\n",
        "\r\n",
        "torch.manual_seed(SEED)"
      ],
      "execution_count": 3,
      "outputs": [
        {
          "output_type": "execute_result",
          "data": {
            "text/plain": [
              "<torch._C.Generator at 0x7f61d0b5fb58>"
            ]
          },
          "metadata": {
            "tags": []
          },
          "execution_count": 3
        }
      ]
    },
    {
      "cell_type": "code",
      "metadata": {
        "colab": {
          "base_uri": "https://localhost:8080/"
        },
        "id": "c6WI8xMtDhdE",
        "outputId": "55ec01c6-b8d0-4f6e-bf46-77e5aaa25d05"
      },
      "source": [
        "a = torch.rand(3,2)\r\n",
        "\r\n",
        "a.reshape(2,3)"
      ],
      "execution_count": 6,
      "outputs": [
        {
          "output_type": "execute_result",
          "data": {
            "text/plain": [
              "tensor([[0.7749, 0.8208, 0.2793],\n",
              "        [0.6817, 0.2837, 0.6567]])"
            ]
          },
          "metadata": {
            "tags": []
          },
          "execution_count": 6
        }
      ]
    },
    {
      "cell_type": "code",
      "metadata": {
        "colab": {
          "base_uri": "https://localhost:8080/"
        },
        "id": "mXT5liXTYb_y",
        "outputId": "0035c039-4043-4b12-e011-6f2b4dc32d2e"
      },
      "source": [
        "a.type()\r\n",
        "\r\n",
        "a.long()"
      ],
      "execution_count": 12,
      "outputs": [
        {
          "output_type": "execute_result",
          "data": {
            "text/plain": [
              "tensor([[0, 0],\n",
              "        [0, 0],\n",
              "        [0, 0]])"
            ]
          },
          "metadata": {
            "tags": []
          },
          "execution_count": 12
        }
      ]
    },
    {
      "cell_type": "code",
      "metadata": {
        "colab": {
          "base_uri": "https://localhost:8080/"
        },
        "id": "UJ_ir5xKYcC0",
        "outputId": "5178e4f2-aa5c-49ea-8280-62f0ca7c9b03"
      },
      "source": [
        "b = torch.zeros(5,4)\r\n",
        "\r\n",
        "b"
      ],
      "execution_count": 14,
      "outputs": [
        {
          "output_type": "execute_result",
          "data": {
            "text/plain": [
              "tensor([[0., 0., 0., 0.],\n",
              "        [0., 0., 0., 0.],\n",
              "        [0., 0., 0., 0.],\n",
              "        [0., 0., 0., 0.],\n",
              "        [0., 0., 0., 0.]])"
            ]
          },
          "metadata": {
            "tags": []
          },
          "execution_count": 14
        }
      ]
    },
    {
      "cell_type": "code",
      "metadata": {
        "colab": {
          "base_uri": "https://localhost:8080/"
        },
        "id": "3w28kFuWYcGD",
        "outputId": "89fae8ae-8f3e-4b4e-ac42-5398024e4c87"
      },
      "source": [
        "c = torch.ones(5,3)\r\n",
        "\r\n",
        "a"
      ],
      "execution_count": 15,
      "outputs": [
        {
          "output_type": "execute_result",
          "data": {
            "text/plain": [
              "tensor([[0.7749, 0.8208],\n",
              "        [0.2793, 0.6817],\n",
              "        [0.2837, 0.6567]])"
            ]
          },
          "metadata": {
            "tags": []
          },
          "execution_count": 15
        }
      ]
    },
    {
      "cell_type": "code",
      "metadata": {
        "colab": {
          "base_uri": "https://localhost:8080/"
        },
        "id": "Q2DwIruJY4CF",
        "outputId": "268b2411-24ad-4662-e835-3b720d487445"
      },
      "source": [
        "d = torch.Tensor(np.array([[2,3,4],[4,5,6]]))\r\n",
        "\r\n",
        "e"
      ],
      "execution_count": 28,
      "outputs": [
        {
          "output_type": "execute_result",
          "data": {
            "text/plain": [
              "tensor([[1., 2., 3.],\n",
              "        [5., 6., 7.]])"
            ]
          },
          "metadata": {
            "tags": []
          },
          "execution_count": 28
        }
      ]
    },
    {
      "cell_type": "code",
      "metadata": {
        "colab": {
          "base_uri": "https://localhost:8080/"
        },
        "id": "-8oh8bOHZ7kY",
        "outputId": "e077d5fd-bbc2-4c85-a160-c7710e5d5f64"
      },
      "source": [
        "e = torch.Tensor(np.array([[1,2,3],[5,6,7]]))\r\n",
        "\r\n",
        "e+d"
      ],
      "execution_count": 22,
      "outputs": [
        {
          "output_type": "execute_result",
          "data": {
            "text/plain": [
              "tensor([[ 3.,  5.,  7.],\n",
              "        [ 9., 11., 13.]])"
            ]
          },
          "metadata": {
            "tags": []
          },
          "execution_count": 22
        }
      ]
    },
    {
      "cell_type": "code",
      "metadata": {
        "colab": {
          "base_uri": "https://localhost:8080/"
        },
        "id": "aShBEp65afY5",
        "outputId": "bc00cd69-5182-4cde-8c24-3422d25bc0e3"
      },
      "source": [
        "d.T"
      ],
      "execution_count": 27,
      "outputs": [
        {
          "output_type": "execute_result",
          "data": {
            "text/plain": [
              "tensor([[2., 4.],\n",
              "        [3., 5.],\n",
              "        [4., 6.]])"
            ]
          },
          "metadata": {
            "tags": []
          },
          "execution_count": 27
        }
      ]
    },
    {
      "cell_type": "code",
      "metadata": {
        "colab": {
          "base_uri": "https://localhost:8080/"
        },
        "id": "ZV7zfDU3aKQB",
        "outputId": "a83d9f6c-9d57-4ad8-d3e8-fa8b58d53cf8"
      },
      "source": [
        "torch.mm(e,d.T)"
      ],
      "execution_count": 26,
      "outputs": [
        {
          "output_type": "execute_result",
          "data": {
            "text/plain": [
              "tensor([[20., 32.],\n",
              "        [56., 92.]])"
            ]
          },
          "metadata": {
            "tags": []
          },
          "execution_count": 26
        }
      ]
    },
    {
      "cell_type": "code",
      "metadata": {
        "colab": {
          "base_uri": "https://localhost:8080/"
        },
        "id": "EEOptgD8aplj",
        "outputId": "2acd4e08-bc5e-448c-ce8f-836af43e2136"
      },
      "source": [
        "d.view(3,2)"
      ],
      "execution_count": 34,
      "outputs": [
        {
          "output_type": "execute_result",
          "data": {
            "text/plain": [
              "tensor([[2., 3.],\n",
              "        [4., 4.],\n",
              "        [5., 6.]])"
            ]
          },
          "metadata": {
            "tags": []
          },
          "execution_count": 34
        }
      ]
    },
    {
      "cell_type": "code",
      "metadata": {
        "colab": {
          "base_uri": "https://localhost:8080/"
        },
        "id": "n7Jt71TwcnHU",
        "outputId": "fa047568-5b00-4609-b312-e86957b6cbab"
      },
      "source": [
        "a"
      ],
      "execution_count": 36,
      "outputs": [
        {
          "output_type": "execute_result",
          "data": {
            "text/plain": [
              "tensor([[0.7749, 0.8208],\n",
              "        [0.2793, 0.6817],\n",
              "        [0.2837, 0.6567]])"
            ]
          },
          "metadata": {
            "tags": []
          },
          "execution_count": 36
        }
      ]
    },
    {
      "cell_type": "code",
      "metadata": {
        "colab": {
          "base_uri": "https://localhost:8080/"
        },
        "id": "MsZXDFcycq4N",
        "outputId": "cac93f27-5643-4492-94bd-5e681c1247e2"
      },
      "source": [
        "torch.sum(a, dim=1)"
      ],
      "execution_count": 37,
      "outputs": [
        {
          "output_type": "execute_result",
          "data": {
            "text/plain": [
              "tensor([1.5957, 0.9610, 0.9404])"
            ]
          },
          "metadata": {
            "tags": []
          },
          "execution_count": 37
        }
      ]
    },
    {
      "cell_type": "code",
      "metadata": {
        "colab": {
          "base_uri": "https://localhost:8080/"
        },
        "id": "E_Yra-F4cz4P",
        "outputId": "dca5efac-addc-43bb-8691-c98bff852aa4"
      },
      "source": [
        "torch.sum(a, dim=0)"
      ],
      "execution_count": 38,
      "outputs": [
        {
          "output_type": "execute_result",
          "data": {
            "text/plain": [
              "tensor([1.3378, 2.1592])"
            ]
          },
          "metadata": {
            "tags": []
          },
          "execution_count": 38
        }
      ]
    },
    {
      "cell_type": "code",
      "metadata": {
        "colab": {
          "base_uri": "https://localhost:8080/"
        },
        "id": "v9BVWm0Mc9AK",
        "outputId": "456974c6-7227-456e-ef45-b3695aa167bf"
      },
      "source": [
        "x = torch.rand(3,4)\r\n",
        "\r\n",
        "x"
      ],
      "execution_count": 41,
      "outputs": [
        {
          "output_type": "execute_result",
          "data": {
            "text/plain": [
              "tensor([[0.6662, 0.3343, 0.7893, 0.3216],\n",
              "        [0.5247, 0.6688, 0.8436, 0.4265],\n",
              "        [0.9561, 0.0770, 0.4108, 0.0014]])"
            ]
          },
          "metadata": {
            "tags": []
          },
          "execution_count": 41
        }
      ]
    },
    {
      "cell_type": "code",
      "metadata": {
        "colab": {
          "base_uri": "https://localhost:8080/"
        },
        "id": "2CI1FJH7dllq",
        "outputId": "cf999e94-5532-448e-8cd3-9ff54857df4b"
      },
      "source": [
        "x[1:2]"
      ],
      "execution_count": 43,
      "outputs": [
        {
          "output_type": "execute_result",
          "data": {
            "text/plain": [
              "tensor([[0.5247, 0.6688, 0.8436, 0.4265]])"
            ]
          },
          "metadata": {
            "tags": []
          },
          "execution_count": 43
        }
      ]
    },
    {
      "cell_type": "code",
      "metadata": {
        "colab": {
          "base_uri": "https://localhost:8080/"
        },
        "id": "U2iGP8dvdsby",
        "outputId": "c76934b8-90cf-4faf-c4d7-17c1e037c8a1"
      },
      "source": [
        "x[1:3, 2:3]"
      ],
      "execution_count": 44,
      "outputs": [
        {
          "output_type": "execute_result",
          "data": {
            "text/plain": [
              "tensor([[0.8436],\n",
              "        [0.4108]])"
            ]
          },
          "metadata": {
            "tags": []
          },
          "execution_count": 44
        }
      ]
    },
    {
      "cell_type": "code",
      "metadata": {
        "colab": {
          "base_uri": "https://localhost:8080/"
        },
        "id": "GMp7RumGfFi9",
        "outputId": "e28f3f8b-ebf2-4657-98b1-2b3971a3de4d"
      },
      "source": [
        "select = torch.LongTensor([0,2])\r\n",
        "\r\n",
        "torch.index_select(x, dim=1, index=select)"
      ],
      "execution_count": 50,
      "outputs": [
        {
          "output_type": "execute_result",
          "data": {
            "text/plain": [
              "tensor([[0.6662, 0.7893],\n",
              "        [0.5247, 0.8436],\n",
              "        [0.9561, 0.4108]])"
            ]
          },
          "metadata": {
            "tags": []
          },
          "execution_count": 50
        }
      ]
    },
    {
      "cell_type": "code",
      "metadata": {
        "colab": {
          "base_uri": "https://localhost:8080/"
        },
        "id": "7MFIZYbJfp_d",
        "outputId": "9c783f72-b7a3-467b-ae1c-af9e58da1254"
      },
      "source": [
        "torch.index_select(x, dim=0, index=select)"
      ],
      "execution_count": 51,
      "outputs": [
        {
          "output_type": "execute_result",
          "data": {
            "text/plain": [
              "tensor([[0.6662, 0.3343, 0.7893, 0.3216],\n",
              "        [0.9561, 0.0770, 0.4108, 0.0014]])"
            ]
          },
          "metadata": {
            "tags": []
          },
          "execution_count": 51
        }
      ]
    },
    {
      "cell_type": "code",
      "metadata": {
        "colab": {
          "base_uri": "https://localhost:8080/"
        },
        "id": "nCYU8BaTf3DU",
        "outputId": "2b3bb2c5-df77-4f68-ad0b-700ff62aad50"
      },
      "source": [
        "x[[0,1], [0,2]]"
      ],
      "execution_count": 53,
      "outputs": [
        {
          "output_type": "execute_result",
          "data": {
            "text/plain": [
              "tensor([0.6662, 0.8436])"
            ]
          },
          "metadata": {
            "tags": []
          },
          "execution_count": 53
        }
      ]
    },
    {
      "cell_type": "code",
      "metadata": {
        "colab": {
          "base_uri": "https://localhost:8080/"
        },
        "id": "E-PEnxpIjXpZ",
        "outputId": "acadb2b5-e962-4227-ff33-588110534125"
      },
      "source": [
        "torch.cat([x,x], dim=1)"
      ],
      "execution_count": 56,
      "outputs": [
        {
          "output_type": "execute_result",
          "data": {
            "text/plain": [
              "tensor([[0.6662, 0.3343, 0.7893, 0.3216, 0.6662, 0.3343, 0.7893, 0.3216],\n",
              "        [0.5247, 0.6688, 0.8436, 0.4265, 0.5247, 0.6688, 0.8436, 0.4265],\n",
              "        [0.9561, 0.0770, 0.4108, 0.0014, 0.9561, 0.0770, 0.4108, 0.0014]])"
            ]
          },
          "metadata": {
            "tags": []
          },
          "execution_count": 56
        }
      ]
    },
    {
      "cell_type": "code",
      "metadata": {
        "colab": {
          "base_uri": "https://localhost:8080/"
        },
        "id": "00fStbX8jikf",
        "outputId": "b2a98055-4043-4246-b15b-4881eef6a1a4"
      },
      "source": [
        "torch.cat([x,x], dim=0)"
      ],
      "execution_count": 58,
      "outputs": [
        {
          "output_type": "execute_result",
          "data": {
            "text/plain": [
              "tensor([[0.6662, 0.3343, 0.7893, 0.3216],\n",
              "        [0.5247, 0.6688, 0.8436, 0.4265],\n",
              "        [0.9561, 0.0770, 0.4108, 0.0014],\n",
              "        [0.6662, 0.3343, 0.7893, 0.3216],\n",
              "        [0.5247, 0.6688, 0.8436, 0.4265],\n",
              "        [0.9561, 0.0770, 0.4108, 0.0014]])"
            ]
          },
          "metadata": {
            "tags": []
          },
          "execution_count": 58
        }
      ]
    },
    {
      "cell_type": "code",
      "metadata": {
        "id": "2DTr-uOYjXsh"
      },
      "source": [
        "x = torch.rand(3,4, requires_grad=True)\r\n",
        "\r\n",
        "y = 3*x + 2\r\n",
        "\r\n",
        "z = y.mean()\r\n",
        "\r\n",
        "z.backward()"
      ],
      "execution_count": 76,
      "outputs": []
    },
    {
      "cell_type": "code",
      "metadata": {
        "colab": {
          "base_uri": "https://localhost:8080/"
        },
        "id": "U_0FnUqZjXvf",
        "outputId": "e69d5c93-b97f-4ee8-c4c9-3da51bd3e617"
      },
      "source": [
        "x.grad, x"
      ],
      "execution_count": 78,
      "outputs": [
        {
          "output_type": "execute_result",
          "data": {
            "text/plain": [
              "(tensor([[0.2500, 0.2500, 0.2500, 0.2500],\n",
              "         [0.2500, 0.2500, 0.2500, 0.2500],\n",
              "         [0.2500, 0.2500, 0.2500, 0.2500]]),\n",
              " tensor([[7.4271e-01, 4.4390e-02, 8.5979e-01, 4.0278e-01],\n",
              "         [8.7121e-01, 2.0658e-01, 2.4565e-02, 1.6854e-01],\n",
              "         [4.2249e-01, 6.3777e-04, 4.6593e-01, 2.5046e-01]], requires_grad=True))"
            ]
          },
          "metadata": {
            "tags": []
          },
          "execution_count": 78
        }
      ]
    },
    {
      "cell_type": "code",
      "metadata": {
        "colab": {
          "base_uri": "https://localhost:8080/"
        },
        "id": "Dgu7YjkWlmKG",
        "outputId": "bf0384e7-f69f-42ec-b64e-59150d95a74c"
      },
      "source": [
        "print(torch.cuda.is_available())"
      ],
      "execution_count": 79,
      "outputs": [
        {
          "output_type": "stream",
          "text": [
            "False\n"
          ],
          "name": "stdout"
        }
      ]
    }
  ]
}