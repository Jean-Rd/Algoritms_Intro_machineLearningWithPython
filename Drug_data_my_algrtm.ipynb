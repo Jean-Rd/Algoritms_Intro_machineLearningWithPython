{
  "nbformat": 4,
  "nbformat_minor": 0,
  "metadata": {
    "colab": {
      "name": "Drug_data_my_algrtm.ipynb",
      "provenance": [],
      "authorship_tag": "ABX9TyOcx1eEl9R7p06zPzfgbcQU",
      "include_colab_link": true
    },
    "kernelspec": {
      "name": "python3",
      "display_name": "Python 3"
    }
  },
  "cells": [
    {
      "cell_type": "markdown",
      "metadata": {
        "id": "view-in-github",
        "colab_type": "text"
      },
      "source": [
        "<a href=\"https://colab.research.google.com/github/Jean-Rd/Algoritms_Intro_machineLearningWithPython/blob/master/Drug_data_my_algrtm.ipynb\" target=\"_parent\"><img src=\"https://colab.research.google.com/assets/colab-badge.svg\" alt=\"Open In Colab\"/></a>"
      ]
    },
    {
      "cell_type": "code",
      "metadata": {
        "id": "d1C5QkB-fRu0",
        "colab_type": "code",
        "colab": {}
      },
      "source": [
        "import numpy as np\n",
        "import pandas as pd\n",
        "import matplotlib.pyplot as plt\n",
        "import seaborn as sns"
      ],
      "execution_count": 333,
      "outputs": []
    },
    {
      "cell_type": "code",
      "metadata": {
        "id": "5ylUZ81JfjFm",
        "colab_type": "code",
        "colab": {
          "base_uri": "https://localhost:8080/",
          "height": 244
        },
        "outputId": "2016767f-d77e-4ad3-d5b1-ceaeff075e15"
      },
      "source": [
        "url = r'https://raw.githubusercontent.com/Jean-Rd/Datasets/master/drug200.csv'\n",
        "\n",
        "df = pd.read_csv(url)\n",
        "'''\n",
        "age=edad\n",
        "sex=genero\n",
        "bp=niveles de precisoon arterial\n",
        "cholesterol = niveles del colesterol\n",
        "na_tok = na racion de potasio\n",
        "'''\n",
        "df['Cholesterol'].value_counts()\n",
        "# CHOLESTEROL// HIGH = 1; NORMAL = 0\n",
        "\n",
        "bp = np.copy(df.BP.values)\n",
        "\n",
        "df.info()"
      ],
      "execution_count": 334,
      "outputs": [
        {
          "output_type": "stream",
          "text": [
            "<class 'pandas.core.frame.DataFrame'>\n",
            "RangeIndex: 200 entries, 0 to 199\n",
            "Data columns (total 6 columns):\n",
            " #   Column       Non-Null Count  Dtype  \n",
            "---  ------       --------------  -----  \n",
            " 0   Age          200 non-null    int64  \n",
            " 1   Sex          200 non-null    object \n",
            " 2   BP           200 non-null    object \n",
            " 3   Cholesterol  200 non-null    object \n",
            " 4   Na_to_K      200 non-null    float64\n",
            " 5   Drug         200 non-null    object \n",
            "dtypes: float64(1), int64(1), object(4)\n",
            "memory usage: 9.5+ KB\n"
          ],
          "name": "stdout"
        }
      ]
    },
    {
      "cell_type": "code",
      "metadata": {
        "id": "TLK4_O4qsbE0",
        "colab_type": "code",
        "colab": {}
      },
      "source": [
        "for i in range(len(df)):\n",
        "  if df.Drug[i] == 'drugA':\n",
        "    df.Drug[i] = 0\n",
        "  if df.Drug[i] == 'drugB':\n",
        "    df.Drug[i] = 1\n",
        "  if df.Drug[i] == 'drugC':\n",
        "    df.Drug[i] = 2\n",
        "  if df.Drug[i] == 'drugX':\n",
        "    df.Drug[i] = 3\n",
        "  if df.Drug[i] == 'DrugY':\n",
        "    df.Drug[i] = 4\n",
        "\n",
        "df[['Drug']] = df[['Drug']].astype(int)"
      ],
      "execution_count": 389,
      "outputs": []
    },
    {
      "cell_type": "code",
      "metadata": {
        "id": "Yw81i7Pxstyj",
        "colab_type": "code",
        "colab": {
          "base_uri": "https://localhost:8080/",
          "height": 484
        },
        "outputId": "e25d7ca5-27ed-44df-b313-fc14431f16e8"
      },
      "source": [
        "# BP --> niveles de precion arterial\n",
        "# LOW = 0; NORMAL = 1; HIGH = 2\n",
        "\n",
        "for i in range(len(df)):\n",
        "  \n",
        "  if df.BP[i] == 'LOW':\n",
        "    df.BP[i] = 0\n",
        "\n",
        "  elif df.BP[i] == 'NORMAL':\n",
        "    df.BP[i] = 1\n",
        "\n",
        "  elif df.BP[i] == 'HIGH':\n",
        "    df.BP[i] = 2\n",
        "\n",
        "df.head()"
      ],
      "execution_count": 336,
      "outputs": [
        {
          "output_type": "stream",
          "text": [
            "/usr/local/lib/python3.6/dist-packages/ipykernel_launcher.py:13: SettingWithCopyWarning: \n",
            "A value is trying to be set on a copy of a slice from a DataFrame\n",
            "\n",
            "See the caveats in the documentation: https://pandas.pydata.org/pandas-docs/stable/user_guide/indexing.html#returning-a-view-versus-a-copy\n",
            "  del sys.path[0]\n",
            "/usr/local/lib/python3.6/dist-packages/ipykernel_launcher.py:7: SettingWithCopyWarning: \n",
            "A value is trying to be set on a copy of a slice from a DataFrame\n",
            "\n",
            "See the caveats in the documentation: https://pandas.pydata.org/pandas-docs/stable/user_guide/indexing.html#returning-a-view-versus-a-copy\n",
            "  import sys\n",
            "/usr/local/lib/python3.6/dist-packages/ipykernel_launcher.py:10: SettingWithCopyWarning: \n",
            "A value is trying to be set on a copy of a slice from a DataFrame\n",
            "\n",
            "See the caveats in the documentation: https://pandas.pydata.org/pandas-docs/stable/user_guide/indexing.html#returning-a-view-versus-a-copy\n",
            "  # Remove the CWD from sys.path while we load stuff.\n"
          ],
          "name": "stderr"
        },
        {
          "output_type": "execute_result",
          "data": {
            "text/html": [
              "<div>\n",
              "<style scoped>\n",
              "    .dataframe tbody tr th:only-of-type {\n",
              "        vertical-align: middle;\n",
              "    }\n",
              "\n",
              "    .dataframe tbody tr th {\n",
              "        vertical-align: top;\n",
              "    }\n",
              "\n",
              "    .dataframe thead th {\n",
              "        text-align: right;\n",
              "    }\n",
              "</style>\n",
              "<table border=\"1\" class=\"dataframe\">\n",
              "  <thead>\n",
              "    <tr style=\"text-align: right;\">\n",
              "      <th></th>\n",
              "      <th>Age</th>\n",
              "      <th>Sex</th>\n",
              "      <th>BP</th>\n",
              "      <th>Cholesterol</th>\n",
              "      <th>Na_to_K</th>\n",
              "      <th>Drug</th>\n",
              "    </tr>\n",
              "  </thead>\n",
              "  <tbody>\n",
              "    <tr>\n",
              "      <th>0</th>\n",
              "      <td>23</td>\n",
              "      <td>F</td>\n",
              "      <td>2</td>\n",
              "      <td>HIGH</td>\n",
              "      <td>25.355</td>\n",
              "      <td>4</td>\n",
              "    </tr>\n",
              "    <tr>\n",
              "      <th>1</th>\n",
              "      <td>47</td>\n",
              "      <td>M</td>\n",
              "      <td>0</td>\n",
              "      <td>HIGH</td>\n",
              "      <td>13.093</td>\n",
              "      <td>2</td>\n",
              "    </tr>\n",
              "    <tr>\n",
              "      <th>2</th>\n",
              "      <td>47</td>\n",
              "      <td>M</td>\n",
              "      <td>0</td>\n",
              "      <td>HIGH</td>\n",
              "      <td>10.114</td>\n",
              "      <td>2</td>\n",
              "    </tr>\n",
              "    <tr>\n",
              "      <th>3</th>\n",
              "      <td>28</td>\n",
              "      <td>F</td>\n",
              "      <td>1</td>\n",
              "      <td>HIGH</td>\n",
              "      <td>7.798</td>\n",
              "      <td>3</td>\n",
              "    </tr>\n",
              "    <tr>\n",
              "      <th>4</th>\n",
              "      <td>61</td>\n",
              "      <td>F</td>\n",
              "      <td>0</td>\n",
              "      <td>HIGH</td>\n",
              "      <td>18.043</td>\n",
              "      <td>4</td>\n",
              "    </tr>\n",
              "  </tbody>\n",
              "</table>\n",
              "</div>"
            ],
            "text/plain": [
              "   Age Sex BP Cholesterol  Na_to_K Drug\n",
              "0   23   F  2        HIGH   25.355    4\n",
              "1   47   M  0        HIGH   13.093    2\n",
              "2   47   M  0        HIGH   10.114    2\n",
              "3   28   F  1        HIGH    7.798    3\n",
              "4   61   F  0        HIGH   18.043    4"
            ]
          },
          "metadata": {
            "tags": []
          },
          "execution_count": 336
        }
      ]
    },
    {
      "cell_type": "code",
      "metadata": {
        "id": "HJjsteoLfjEV",
        "colab_type": "code",
        "colab": {
          "base_uri": "https://localhost:8080/",
          "height": 191
        },
        "outputId": "00a9f01a-0787-4e7c-b3be-eef78f1c3b5a"
      },
      "source": [
        "# sex\n",
        "a = pd.get_dummies(df.Sex, prefix='gender', columns=['Sex'], drop_first=True)\n",
        "# Cholesterol\n",
        "b = pd.get_dummies(df.Cholesterol, prefix='Cholesterol', drop_first=True)\n",
        "\n",
        "frames = [df, a, b]\n",
        "\n",
        "y = df.Drug.values\n",
        "y"
      ],
      "execution_count": 337,
      "outputs": [
        {
          "output_type": "execute_result",
          "data": {
            "text/plain": [
              "array([4, 2, 2, 3, 4, 3, 4, 2, 4, 4, 2, 4, 4, 4, 3, 4, 3, 0, 2, 4, 4, 4,\n",
              "       4, 4, 4, 4, 4, 3, 4, 4, 3, 1, 3, 4, 3, 3, 0, 3, 3, 3, 4, 1, 4, 3,\n",
              "       3, 3, 0, 2, 4, 4, 4, 3, 4, 4, 1, 2, 1, 4, 3, 4, 4, 0, 4, 3, 1, 4,\n",
              "       0, 3, 4, 4, 1, 4, 3, 4, 4, 4, 0, 4, 0, 3, 1, 3, 2, 0, 2, 1, 3, 4,\n",
              "       4, 4, 4, 4, 4, 4, 4, 3, 4, 4, 4, 4, 0, 0, 2, 3, 4, 3, 3, 4, 1, 4,\n",
              "       0, 3, 3, 3, 3, 4, 3, 3, 0, 4, 4, 4, 4, 4, 1, 4, 4, 3, 4, 3, 4, 4,\n",
              "       3, 4, 4, 3, 1, 0, 1, 3, 0, 4, 1, 4, 0, 3, 3, 0, 3, 2, 0, 1, 3, 3,\n",
              "       4, 2, 0, 4, 2, 3, 3, 1, 3, 4, 4, 4, 4, 3, 4, 0, 3, 3, 4, 4, 0, 4,\n",
              "       0, 4, 4, 4, 4, 3, 3, 4, 4, 4, 1, 0, 4, 4, 4, 0, 4, 2, 4, 2, 2, 3,\n",
              "       3, 3], dtype=object)"
            ]
          },
          "metadata": {
            "tags": []
          },
          "execution_count": 337
        }
      ]
    },
    {
      "cell_type": "code",
      "metadata": {
        "id": "LjzERKmzqOU9",
        "colab_type": "code",
        "colab": {}
      },
      "source": [
        "frames = [df, a, b]\n",
        "\n",
        "data = pd.concat(frames, axis=1)\n",
        "data = data.drop(['Cholesterol', 'Sex', 'Drug'], axis=1)"
      ],
      "execution_count": 338,
      "outputs": []
    },
    {
      "cell_type": "code",
      "metadata": {
        "id": "J-miSEBqqOcn",
        "colab_type": "code",
        "colab": {}
      },
      "source": [
        "# Change of type\n",
        "data[['BP', 'gender_M', 'Cholesterol_NORMAL']] = data[['BP', 'gender_M', 'Cholesterol_NORMAL']].astype(int)\n"
      ],
      "execution_count": 339,
      "outputs": []
    },
    {
      "cell_type": "code",
      "metadata": {
        "id": "INflcQl0qObn",
        "colab_type": "code",
        "colab": {
          "base_uri": "https://localhost:8080/",
          "height": 379
        },
        "outputId": "b86d98a9-f218-47d2-8a93-9e816cc79ebb"
      },
      "source": [
        "c_female = np.sum(data.gender_M.isin([0]))\n",
        "c_male = np.sum(data.gender_M.isin([1]))\n",
        "\n",
        "print('Quantity of females: {}'.format(c_female))\n",
        "print('Percentage of females: {}%'.format((c_female/len(data))*100))\n",
        "print('Quantity of males: {}'.format(c_male))\n",
        "print('Percentage of males: {}%'.format((c_male/len(data))*100))\n",
        "\n",
        "sns.countplot(x=data.gender_M, data=data, palette='bwr')\n",
        "plt.title('Cantidad de mujeres ^ hombres', fontsize=15, color='white')\n",
        "\n",
        "plt.xlabel('0 --> female\\n 1 --> Male', color='white')\n",
        "plt.ylabel('Count', color='white')\n",
        "plt.xticks()\n",
        "plt.show()"
      ],
      "execution_count": 340,
      "outputs": [
        {
          "output_type": "stream",
          "text": [
            "Quantity of females: 96\n",
            "Percentage of females: 48.0%\n",
            "Quantity of males: 104\n",
            "Percentage of males: 52.0%\n"
          ],
          "name": "stdout"
        },
        {
          "output_type": "display_data",
          "data": {
            "image/png": "[encoded data removed]",
            "text/plain": [
              "<Figure size 432x288 with 1 Axes>"
            ]
          },
          "metadata": {
            "tags": [],
            "needs_background": "light"
          }
        }
      ]
    },
    {
      "cell_type": "code",
      "metadata": {
        "id": "1BDRVODvqOTO",
        "colab_type": "code",
        "colab": {
          "base_uri": "https://localhost:8080/",
          "height": 403
        },
        "outputId": "e7b3c71f-3a6c-47ac-ae1c-4b8a6a800aff"
      },
      "source": [
        "print('Quantity of patients with cholesterol NORMAL: {}'.format(sum(data.Cholesterol_NORMAL.isin([1]))))\n",
        "print('Percentage of cholesterol NORMAL: {}%'.format(((sum(data['Cholesterol_NORMAL'].isin([1])))/len(data))*100))\n",
        "\n",
        "print('Quantity of patients with cholesterol HIGH: {}'.format(sum(data.Cholesterol_NORMAL.isin([0]))))\n",
        "print('Percentage of cholesterol HIGH: {}%'.format(((sum(data['Cholesterol_NORMAL'].isin([0])))/len(data))*100))\n",
        "\n",
        "sns.countplot(x=data.Cholesterol_NORMAL, data=data)\n",
        "plt.title('Quantity Cholesterol', fontsize=24, color='white')\n",
        "plt.xlabel('0 --> HIGH\\n 1 --> NORMAL', color='white')\n",
        "plt.ylabel('Count', color='white')"
      ],
      "execution_count": 341,
      "outputs": [
        {
          "output_type": "stream",
          "text": [
            "Quantity of patients with cholesterol NORMAL: 97\n",
            "Percentage of cholesterol NORMAL: 48.5%\n",
            "Quantity of patients with cholesterol HIGH: 103\n",
            "Percentage of cholesterol HIGH: 51.5%\n"
          ],
          "name": "stdout"
        },
        {
          "output_type": "execute_result",
          "data": {
            "text/plain": [
              "Text(0, 0.5, 'Count')"
            ]
          },
          "metadata": {
            "tags": []
          },
          "execution_count": 341
        },
        {
          "output_type": "display_data",
          "data": {
            "image/png": "[encoded data removed]",
            "text/plain": [
              "<Figure size 432x288 with 1 Axes>"
            ]
          },
          "metadata": {
            "tags": [],
            "needs_background": "light"
          }
        }
      ]
    },
    {
      "cell_type": "code",
      "metadata": {
        "id": "oSL5USy_EbPS",
        "colab_type": "code",
        "colab": {
          "base_uri": "https://localhost:8080/",
          "height": 233
        },
        "outputId": "9fd5b8da-e6dd-4b4e-878d-4d957c5cff78"
      },
      "source": [
        "df.groupby('Drug').mean()"
      ],
      "execution_count": 342,
      "outputs": [
        {
          "output_type": "execute_result",
          "data": {
            "text/html": [
              "<div>\n",
              "<style scoped>\n",
              "    .dataframe tbody tr th:only-of-type {\n",
              "        vertical-align: middle;\n",
              "    }\n",
              "\n",
              "    .dataframe tbody tr th {\n",
              "        vertical-align: top;\n",
              "    }\n",
              "\n",
              "    .dataframe thead th {\n",
              "        text-align: right;\n",
              "    }\n",
              "</style>\n",
              "<table border=\"1\" class=\"dataframe\">\n",
              "  <thead>\n",
              "    <tr style=\"text-align: right;\">\n",
              "      <th></th>\n",
              "      <th>Age</th>\n",
              "      <th>Na_to_K</th>\n",
              "    </tr>\n",
              "    <tr>\n",
              "      <th>Drug</th>\n",
              "      <th></th>\n",
              "      <th></th>\n",
              "    </tr>\n",
              "  </thead>\n",
              "  <tbody>\n",
              "    <tr>\n",
              "      <th>0</th>\n",
              "      <td>35.869565</td>\n",
              "      <td>10.918783</td>\n",
              "    </tr>\n",
              "    <tr>\n",
              "      <th>1</th>\n",
              "      <td>62.500000</td>\n",
              "      <td>11.524375</td>\n",
              "    </tr>\n",
              "    <tr>\n",
              "      <th>2</th>\n",
              "      <td>42.500000</td>\n",
              "      <td>10.633750</td>\n",
              "    </tr>\n",
              "    <tr>\n",
              "      <th>3</th>\n",
              "      <td>44.018519</td>\n",
              "      <td>10.650556</td>\n",
              "    </tr>\n",
              "    <tr>\n",
              "      <th>4</th>\n",
              "      <td>43.747253</td>\n",
              "      <td>22.374780</td>\n",
              "    </tr>\n",
              "  </tbody>\n",
              "</table>\n",
              "</div>"
            ],
            "text/plain": [
              "            Age    Na_to_K\n",
              "Drug                      \n",
              "0     35.869565  10.918783\n",
              "1     62.500000  11.524375\n",
              "2     42.500000  10.633750\n",
              "3     44.018519  10.650556\n",
              "4     43.747253  22.374780"
            ]
          },
          "metadata": {
            "tags": []
          },
          "execution_count": 342
        }
      ]
    },
    {
      "cell_type": "code",
      "metadata": {
        "id": "g1F0fz7JEbMt",
        "colab_type": "code",
        "colab": {
          "base_uri": "https://localhost:8080/",
          "height": 450
        },
        "outputId": "5220a15e-3560-460d-8463-a6126910ce5a"
      },
      "source": [
        "c_low = sum(data.BP.isin([0]))\n",
        "c_normal = sum(data.BP.isin([1]))\n",
        "c_high = sum(data.BP.isin([2]))\n",
        "\n",
        "print('Quantity of patients with blood pressure low: {}'.format(c_low))\n",
        "print('Percentage of patients with blood pressure low: {:.2f}'.format((c_low/len(data))* 100))\n",
        "\n",
        "print('Quantity of patients with blood pressure normal: {}'.format(c_normal))\n",
        "print('Percentage of patients with blood pressure normal: {}'.format((c_normal/len(data))*100))\n",
        "\n",
        "print('Quantity of patients with blood pressure high: {}'.format(c_high))\n",
        "print('Percentage of patients with blood pressure high: {}'.format((c_high/len(data))*100))\n",
        "\n",
        "sns.countplot(x=data.BP, data=data, palette=['skyblue', 'salmon', 'green'])\n",
        "plt.title('Blood Pressure', fontsize=24, color='white')\n",
        "plt.xlabel('0 --> Low\\n1 --> Normal\\n2 --> High', color='white')\n"
      ],
      "execution_count": 343,
      "outputs": [
        {
          "output_type": "stream",
          "text": [
            "Quantity of patients with blood pressure low: 64\n",
            "Percentage of patients with blood pressure low: 32.00\n",
            "Quantity of patients with blood pressure normal: 59\n",
            "Percentage of patients with blood pressure normal: 29.5\n",
            "Quantity of patients with blood pressure high: 77\n",
            "Percentage of patients with blood pressure high: 38.5\n"
          ],
          "name": "stdout"
        },
        {
          "output_type": "execute_result",
          "data": {
            "text/plain": [
              "Text(0.5, 0, '0 --> Low\\n1 --> Normal\\n2 --> High')"
            ]
          },
          "metadata": {
            "tags": []
          },
          "execution_count": 343
        },
        {
          "output_type": "display_data",
          "data": {
            "image/png": "[encoded data removed]",
            "text/plain": [
              "<Figure size 432x288 with 1 Axes>"
            ]
          },
          "metadata": {
            "tags": [],
            "needs_background": "light"
          }
        }
      ]
    },
    {
      "cell_type": "code",
      "metadata": {
        "id": "or7f3qu8MZNB",
        "colab_type": "code",
        "colab": {
          "base_uri": "https://localhost:8080/",
          "height": 34
        },
        "outputId": "ba51c4c6-f0f6-43f2-b925-2bcbe961eab4"
      },
      "source": [
        "a = pd.get_dummies(bp, prefix='BP')\n",
        "\n",
        "frame = [data, a]\n",
        "\n",
        "x_data = pd.concat(frame, axis=1)\n",
        "x_data.head()\n",
        "\n",
        "X = x_data.drop(['BP'], axis=1)\n",
        "X.head()\n",
        "\n",
        "len(X) == len(y)"
      ],
      "execution_count": 344,
      "outputs": [
        {
          "output_type": "execute_result",
          "data": {
            "text/plain": [
              "True"
            ]
          },
          "metadata": {
            "tags": []
          },
          "execution_count": 344
        }
      ]
    },
    {
      "cell_type": "code",
      "metadata": {
        "id": "poqmmlLtMZLF",
        "colab_type": "code",
        "colab": {
          "base_uri": "https://localhost:8080/",
          "height": 345
        },
        "outputId": "9c76892c-60a8-46b2-d7c3-ab67c42c9fd5"
      },
      "source": [
        "pd.crosstab(X.Age, y).plot(kind='bar', figsize=(20,7))"
      ],
      "execution_count": 345,
      "outputs": [
        {
          "output_type": "execute_result",
          "data": {
            "text/plain": [
              "<matplotlib.axes._subplots.AxesSubplot at 0x7f55f9304588>"
            ]
          },
          "metadata": {
            "tags": []
          },
          "execution_count": 345
        },
        {
          "output_type": "display_data",
          "data": {
            "image/png": "[encoded data removed]",
            "text/plain": [
              "<Figure size 1440x504 with 1 Axes>"
            ]
          },
          "metadata": {
            "tags": [],
            "needs_background": "light"
          }
        }
      ]
    },
    {
      "cell_type": "code",
      "metadata": {
        "id": "pO_1bZzsW-CD",
        "colab_type": "code",
        "colab": {
          "base_uri": "https://localhost:8080/",
          "height": 376
        },
        "outputId": "68e5fc81-8a32-4921-9b02-103f4cabacc0"
      },
      "source": [
        "pd.crosstab(X.Age, X.gender_M).plot(kind='bar', figsize=(17,6))\n",
        "plt.title('Frequency of Sex according Age', color='white', fontsize=24)"
      ],
      "execution_count": 346,
      "outputs": [
        {
          "output_type": "execute_result",
          "data": {
            "text/plain": [
              "Text(0.5, 1.0, 'Frequency of Sex according Age')"
            ]
          },
          "metadata": {
            "tags": []
          },
          "execution_count": 346
        },
        {
          "output_type": "display_data",
          "data": {
            "image/png": "[encoded data removed]",
            "text/plain": [
              "<Figure size 1224x432 with 1 Axes>"
            ]
          },
          "metadata": {
            "tags": [],
            "needs_background": "light"
          }
        }
      ]
    },
    {
      "cell_type": "code",
      "metadata": {
        "id": "VGKVghYfW-FY",
        "colab_type": "code",
        "colab": {
          "base_uri": "https://localhost:8080/",
          "height": 282
        },
        "outputId": "73d2606f-1cb5-4e1f-864e-2eb23d343344"
      },
      "source": [
        "plt.scatter(df.Age[df.Drug == 0], df.Na_to_K[df.Drug == 0], c='blue', alpha=.6)\n",
        "plt.scatter(df.Age[df.Drug == 1], df.Na_to_K[df.Drug == 1], c='red', alpha=.6)\n",
        "plt.scatter(df.Age[df.Drug == 2], df.Na_to_K[df.Drug == 2], c='green', alpha=.6)\n",
        "plt.scatter(df.Age[df.Drug == 3], df.Na_to_K[df.Drug == 3], c='skyblue', alpha=.6)\n",
        "plt.scatter(df.Age[df.Drug == 4], df.Na_to_K[df.Drug == 4], c='purple', alpha=.6)"
      ],
      "execution_count": 354,
      "outputs": [
        {
          "output_type": "execute_result",
          "data": {
            "text/plain": [
              "<matplotlib.collections.PathCollection at 0x7f55f88fdc50>"
            ]
          },
          "metadata": {
            "tags": []
          },
          "execution_count": 354
        },
        {
          "output_type": "display_data",
          "data": {
            "image/png": "[encoded data removed]",
            "text/plain": [
              "<Figure size 432x288 with 1 Axes>"
            ]
          },
          "metadata": {
            "tags": [],
            "needs_background": "light"
          }
        }
      ]
    },
    {
      "cell_type": "code",
      "metadata": {
        "id": "gzt-dby5W9_4",
        "colab_type": "code",
        "colab": {}
      },
      "source": [
        "from sklearn.linear_model import LogisticRegression\n",
        "from sklearn.model_selection import train_test_split\n",
        "from sklearn.metrics import mean_squared_error\n",
        "# import\n",
        "import warnings\n",
        "warnings.filterwarnings(\"ignore\")\n",
        "\n",
        "y = y.astype(int)\n",
        "y.dtype\n",
        "#X = np.array(X)\n",
        "#y = np.array(y)\n",
        "X_train, X_test, y_train, y_test = train_test_split(X, y, random_state=0)\n",
        "\n",
        "_ = np.linspace(0.1, 1, 20)\n",
        "\n",
        "mse = []\n",
        "test = []\n",
        "train = []\n",
        "\n",
        "for i in _:\n",
        "  \n",
        "  lr = LogisticRegression(C = i, max_iter=250).fit(X_train, y_train)\n",
        "  pred = lr.predict(X_train)\n",
        "  mse.append(mean_squared_error(pred, y_train))\n",
        "  test.append(lr.score(X_test, y_test))\n",
        "  train.append(lr.score(X_train, y_train))\n",
        "\n"
      ],
      "execution_count": 501,
      "outputs": []
    },
    {
      "cell_type": "code",
      "metadata": {
        "id": "Sjg0fz7fqrQl",
        "colab_type": "code",
        "colab": {
          "base_uri": "https://localhost:8080/",
          "height": 282
        },
        "outputId": "e6a738bf-f104-4aa7-e34d-478768381c38"
      },
      "source": [
        "plt.plot(np.linspace(0.1,1,20), train, color='blue')\n",
        "plt.plot(np.linspace(0.1,1,20), test, color='red')\n",
        "plt.plot(np.linspace(0.1,1,20)[12], test[12], 'x', color='black')\n",
        "plt.plot(np.linspace(0.1,1,20)[12], train[12], 'x', color='black')\n",
        "plt.plot(np.linspace(0.1,1,20)[13], test[13], 'o', color='black')\n",
        "plt.plot(np.linspace(0.1,1,20)[13], train[13], 'o', color='black')\n",
        "plt.plot(np.linspace(0.1,1,20)[8], train[8], '^', color='black')\n",
        "plt.plot(np.linspace(0.1,1,20)[8], test[8], '^', color='black')\n",
        "plt.legend(['Accuracy train', 'Accuracy test'], loc=4)"
      ],
      "execution_count": 475,
      "outputs": [
        {
          "output_type": "execute_result",
          "data": {
            "text/plain": [
              "<matplotlib.legend.Legend at 0x7f55f8a6fba8>"
            ]
          },
          "metadata": {
            "tags": []
          },
          "execution_count": 475
        },
        {
          "output_type": "display_data",
          "data": {
            "image/png": "[encoded data removed]",
            "text/plain": [
              "<Figure size 432x288 with 1 Axes>"
            ]
          },
          "metadata": {
            "tags": [],
            "needs_background": "light"
          }
        }
      ]
    },
    {
      "cell_type": "code",
      "metadata": {
        "id": "Fa21alEHxB8s",
        "colab_type": "code",
        "colab": {
          "base_uri": "https://localhost:8080/",
          "height": 282
        },
        "outputId": "9fccfb8d-24d4-4c93-968c-c64fc7caf378"
      },
      "source": [
        "plt.plot(np.linspace(0.1, 1, 20), mse, color='green')\n",
        "plt.plot(np.linspace(0.1, 1, 20)[8], mse[8], 'v', color='black')\n",
        "plt.legend(['Mean squared error'])"
      ],
      "execution_count": 491,
      "outputs": [
        {
          "output_type": "execute_result",
          "data": {
            "text/plain": [
              "<matplotlib.legend.Legend at 0x7f55f565ccf8>"
            ]
          },
          "metadata": {
            "tags": []
          },
          "execution_count": 491
        },
        {
          "output_type": "display_data",
          "data": {
            "image/png": "[encoded data removed]",
            "text/plain": [
              "<Figure size 432x288 with 1 Axes>"
            ]
          },
          "metadata": {
            "tags": [],
            "needs_background": "light"
          }
        }
      ]
    },
    {
      "cell_type": "code",
      "metadata": {
        "id": "mocP7ehlxB_9",
        "colab_type": "code",
        "colab": {
          "base_uri": "https://localhost:8080/",
          "height": 34
        },
        "outputId": "d9fb0aa5-3599-4955-c656-f9de109f5a18"
      },
      "source": [
        "C = np.linspace(0.1, 1, 20)[8]\n",
        "\n",
        "logr = LogisticRegression(C=C, max_iter=250).fit(X_train, y_train)\n",
        "\n",
        "y_head = logr.predict(X_test)\n",
        "\n",
        "logr.score(X_test, y_test)"
      ],
      "execution_count": 502,
      "outputs": [
        {
          "output_type": "execute_result",
          "data": {
            "text/plain": [
              "0.96"
            ]
          },
          "metadata": {
            "tags": []
          },
          "execution_count": 502
        }
      ]
    },
    {
      "cell_type": "code",
      "metadata": {
        "id": "twioxv5ZxB6c",
        "colab_type": "code",
        "colab": {
          "base_uri": "https://localhost:8080/",
          "height": 282
        },
        "outputId": "d8c7ac20-5187-4c2a-ed8c-7fcc8d3cd455"
      },
      "source": [
        "from sklearn.metrics import confusion_matrix\n",
        "\n",
        "cm_lr = confusion_matrix(y_test, y_head)\n",
        "\n",
        "sns.heatmap(cm_lr, cmap='Blues', annot=True, cbar=False)"
      ],
      "execution_count": 505,
      "outputs": [
        {
          "output_type": "execute_result",
          "data": {
            "text/plain": [
              "<matplotlib.axes._subplots.AxesSubplot at 0x7f55f4d26c50>"
            ]
          },
          "metadata": {
            "tags": []
          },
          "execution_count": 505
        },
        {
          "output_type": "display_data",
          "data": {
            "image/png": "[encoded data removed]",
            "text/plain": [
              "<Figure size 432x288 with 1 Axes>"
            ]
          },
          "metadata": {
            "tags": [],
            "needs_background": "light"
          }
        }
      ]
    },
    {
      "cell_type": "code",
      "metadata": {
        "id": "0AspMFklz358",
        "colab_type": "code",
        "colab": {}
      },
      "source": [
        ""
      ],
      "execution_count": null,
      "outputs": []
    }
  ]
}