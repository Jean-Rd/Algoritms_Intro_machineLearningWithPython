{
  "nbformat": 4,
  "nbformat_minor": 0,
  "metadata": {
    "colab": {
      "name": "Untitled56.ipynb",
      "provenance": [],
      "authorship_tag": "ABX9TyMd/el9cVigIYDV0xRA/6LS",
      "include_colab_link": true
    },
    "kernelspec": {
      "name": "python3",
      "display_name": "Python 3"
    }
  },
  "cells": [
    {
      "cell_type": "markdown",
      "metadata": {
        "id": "view-in-github",
        "colab_type": "text"
      },
      "source": [
        "<a href=\"https://colab.research.google.com/github/Jean-Rd/Algoritms_Intro_machineLearningWithPython/blob/master/Hands%201NN.ipynb\" target=\"_parent\"><img src=\"https://colab.research.google.com/assets/colab-badge.svg\" alt=\"Open In Colab\"/></a>"
      ]
    },
    {
      "cell_type": "code",
      "metadata": {
        "id": "XM-4Lbc0Y5cR"
      },
      "source": [
        "import tensorflow as tf\r\n",
        "from tensorflow import keras"
      ],
      "execution_count": 44,
      "outputs": []
    },
    {
      "cell_type": "code",
      "metadata": {
        "id": "uq_LJ8t9SZ5k"
      },
      "source": [
        "import numpy as np\r\n",
        "import random\r\n",
        "\r\n",
        "np.random.seed(seed=1234)\r\n",
        "random.seed(1234)"
      ],
      "execution_count": 45,
      "outputs": []
    },
    {
      "cell_type": "code",
      "metadata": {
        "colab": {
          "base_uri": "https://localhost:8080/"
        },
        "id": "hpMLZVSmaI9n",
        "outputId": "b64cd445-7bbc-4b7d-b277-f9667936a70d"
      },
      "source": [
        "tf.__version__, keras.__version__"
      ],
      "execution_count": 46,
      "outputs": [
        {
          "output_type": "execute_result",
          "data": {
            "text/plain": [
              "('2.4.1', '2.4.0')"
            ]
          },
          "metadata": {
            "tags": []
          },
          "execution_count": 46
        }
      ]
    },
    {
      "cell_type": "code",
      "metadata": {
        "id": "uJYzOKGraI_i"
      },
      "source": [
        "fashion_mnist = keras.datasets.fashion_mnist # requests\r\n",
        "\r\n",
        "(X_train_full, y_train_full), (X_test, y_test) = fashion_mnist.load_data()"
      ],
      "execution_count": 47,
      "outputs": []
    },
    {
      "cell_type": "code",
      "metadata": {
        "id": "zAhsKxOXaJCB"
      },
      "source": [
        "X_valid, X_train = X_train_full[:5000]/255.0, X_train_full[5000:]/255.0\r\n",
        "y_valid, y_train = y_train_full[:5000], y_train_full[5000:]"
      ],
      "execution_count": 48,
      "outputs": []
    },
    {
      "cell_type": "code",
      "metadata": {
        "colab": {
          "base_uri": "https://localhost:8080/"
        },
        "id": "cV1LJjRtaJD1",
        "outputId": "93fdfb4f-a0a4-4e40-d5e9-41d58bc901a8"
      },
      "source": [
        "X_valid.shape, X_train.shape"
      ],
      "execution_count": 49,
      "outputs": [
        {
          "output_type": "execute_result",
          "data": {
            "text/plain": [
              "((5000, 28, 28), (55000, 28, 28))"
            ]
          },
          "metadata": {
            "tags": []
          },
          "execution_count": 49
        }
      ]
    },
    {
      "cell_type": "code",
      "metadata": {
        "id": "jhhLbM6XcQyW"
      },
      "source": [
        "class_names = ['T-shirt/top', 'Trouser', 'Pullover', 'Dress', 'Coat',\r\n",
        "               'Sandal', 'Shirt', 'Sneaker', 'Bag', 'Ankle boot']"
      ],
      "execution_count": 50,
      "outputs": []
    },
    {
      "cell_type": "code",
      "metadata": {
        "colab": {
          "base_uri": "https://localhost:8080/",
          "height": 36
        },
        "id": "cx5Ot5O5cQ0v",
        "outputId": "6b509ad7-30a2-46a3-b1e2-3f9273da2545"
      },
      "source": [
        "class_names[y_train[4]]"
      ],
      "execution_count": 51,
      "outputs": [
        {
          "output_type": "execute_result",
          "data": {
            "application/vnd.google.colaboratory.intrinsic+json": {
              "type": "string"
            },
            "text/plain": [
              "'Ankle boot'"
            ]
          },
          "metadata": {
            "tags": []
          },
          "execution_count": 51
        }
      ]
    },
    {
      "cell_type": "code",
      "metadata": {
        "id": "jGG0VM91cQ3P"
      },
      "source": [
        "# Agregamos capa uno por uno\r\n",
        "model = keras.models.Sequential()\r\n",
        "\r\n",
        "model.add(keras.layers.Flatten(input_shape=[28,28]))\r\n",
        "model.add(keras.layers.Dense(300, activation=keras.activations.elu))\r\n",
        "model.add(keras.layers.Dense(100, activation='elu'))\r\n",
        "model.add(keras.layers.Dense(10, activation='softmax'))"
      ],
      "execution_count": 52,
      "outputs": []
    },
    {
      "cell_type": "code",
      "metadata": {
        "id": "5k-9j0n5dViT"
      },
      "source": [
        "# Agregamos capa todos por una lista\r\n",
        "model = keras.models.Sequential([\r\n",
        "                                 keras.layers.Flatten(input_shape=[28,28]),\r\n",
        "                                 keras.layers.Dense(300, activation=keras.activations.relu),\r\n",
        "                                 keras.layers.Dense(100, activation='relu'),\r\n",
        "                                 keras.layers.Dense(10, activation=keras.activations.softmax)\r\n",
        "])"
      ],
      "execution_count": 53,
      "outputs": []
    },
    {
      "cell_type": "code",
      "metadata": {
        "colab": {
          "base_uri": "https://localhost:8080/"
        },
        "id": "qToiEXT9dVlB",
        "outputId": "e62e3521-6c0d-4874-e27b-ee5f8df6c857"
      },
      "source": [
        "model.summary()"
      ],
      "execution_count": 54,
      "outputs": [
        {
          "output_type": "stream",
          "text": [
            "Model: \"sequential_4\"\n",
            "_________________________________________________________________\n",
            "Layer (type)                 Output Shape              Param #   \n",
            "=================================================================\n",
            "flatten_3 (Flatten)          (None, 784)               0         \n",
            "_________________________________________________________________\n",
            "dense_16 (Dense)             (None, 300)               235500    \n",
            "_________________________________________________________________\n",
            "dense_17 (Dense)             (None, 100)               30100     \n",
            "_________________________________________________________________\n",
            "dense_18 (Dense)             (None, 10)                1010      \n",
            "=================================================================\n",
            "Total params: 266,610\n",
            "Trainable params: 266,610\n",
            "Non-trainable params: 0\n",
            "_________________________________________________________________\n"
          ],
          "name": "stdout"
        }
      ]
    },
    {
      "cell_type": "code",
      "metadata": {
        "colab": {
          "base_uri": "https://localhost:8080/"
        },
        "id": "HxD8PGuodVnb",
        "outputId": "34cd8ffb-aad1-4bf9-b7d6-fe6438eb21b6"
      },
      "source": [
        "model.layers[0].name, model.layers"
      ],
      "execution_count": 55,
      "outputs": [
        {
          "output_type": "execute_result",
          "data": {
            "text/plain": [
              "('flatten_3',\n",
              " [<tensorflow.python.keras.layers.core.Flatten at 0x7fca0fd18490>,\n",
              "  <tensorflow.python.keras.layers.core.Dense at 0x7fca0e5fa7d0>,\n",
              "  <tensorflow.python.keras.layers.core.Dense at 0x7fca0ebdbc10>,\n",
              "  <tensorflow.python.keras.layers.core.Dense at 0x7fca171d85d0>])"
            ]
          },
          "metadata": {
            "tags": []
          },
          "execution_count": 55
        }
      ]
    },
    {
      "cell_type": "code",
      "metadata": {
        "colab": {
          "base_uri": "https://localhost:8080/"
        },
        "id": "UFBVkT_ZcQ6W",
        "outputId": "5b2444a4-4648-4ff4-9b13-532964868aa4"
      },
      "source": [
        "weights, biases = model.layers[1].get_weights()\r\n",
        "\r\n",
        "print(weights.shape)\r\n",
        "weights"
      ],
      "execution_count": 56,
      "outputs": [
        {
          "output_type": "stream",
          "text": [
            "(784, 300)\n"
          ],
          "name": "stdout"
        },
        {
          "output_type": "execute_result",
          "data": {
            "text/plain": [
              "array([[-0.00711914,  0.05377352, -0.02200727, ...,  0.056945  ,\n",
              "         0.07398418,  0.02946316],\n",
              "       [ 0.052118  ,  0.06026495,  0.03480479, ...,  0.00305016,\n",
              "         0.03878607, -0.03722744],\n",
              "       [-0.06899307,  0.05630402,  0.05084886, ...,  0.02722024,\n",
              "         0.06648786, -0.0081066 ],\n",
              "       ...,\n",
              "       [-0.01173346, -0.05766837, -0.00950987, ..., -0.07401414,\n",
              "        -0.00233613, -0.05308045],\n",
              "       [-0.04450596,  0.0136692 , -0.03640012, ...,  0.05634725,\n",
              "         0.01066439,  0.01226677],\n",
              "       [ 0.05338036,  0.00435401,  0.0728444 , ..., -0.00448255,\n",
              "        -0.05063435, -0.02978471]], dtype=float32)"
            ]
          },
          "metadata": {
            "tags": []
          },
          "execution_count": 56
        }
      ]
    },
    {
      "cell_type": "code",
      "metadata": {
        "colab": {
          "base_uri": "https://localhost:8080/"
        },
        "id": "fhHH6kkzmclp",
        "outputId": "12209218-6be3-401f-b26c-14c469017c04"
      },
      "source": [
        "print(biases.shape)\r\n",
        "biases"
      ],
      "execution_count": 57,
      "outputs": [
        {
          "output_type": "stream",
          "text": [
            "(300,)\n"
          ],
          "name": "stdout"
        },
        {
          "output_type": "execute_result",
          "data": {
            "text/plain": [
              "array([0., 0., 0., 0., 0., 0., 0., 0., 0., 0., 0., 0., 0., 0., 0., 0., 0.,\n",
              "       0., 0., 0., 0., 0., 0., 0., 0., 0., 0., 0., 0., 0., 0., 0., 0., 0.,\n",
              "       0., 0., 0., 0., 0., 0., 0., 0., 0., 0., 0., 0., 0., 0., 0., 0., 0.,\n",
              "       0., 0., 0., 0., 0., 0., 0., 0., 0., 0., 0., 0., 0., 0., 0., 0., 0.,\n",
              "       0., 0., 0., 0., 0., 0., 0., 0., 0., 0., 0., 0., 0., 0., 0., 0., 0.,\n",
              "       0., 0., 0., 0., 0., 0., 0., 0., 0., 0., 0., 0., 0., 0., 0., 0., 0.,\n",
              "       0., 0., 0., 0., 0., 0., 0., 0., 0., 0., 0., 0., 0., 0., 0., 0., 0.,\n",
              "       0., 0., 0., 0., 0., 0., 0., 0., 0., 0., 0., 0., 0., 0., 0., 0., 0.,\n",
              "       0., 0., 0., 0., 0., 0., 0., 0., 0., 0., 0., 0., 0., 0., 0., 0., 0.,\n",
              "       0., 0., 0., 0., 0., 0., 0., 0., 0., 0., 0., 0., 0., 0., 0., 0., 0.,\n",
              "       0., 0., 0., 0., 0., 0., 0., 0., 0., 0., 0., 0., 0., 0., 0., 0., 0.,\n",
              "       0., 0., 0., 0., 0., 0., 0., 0., 0., 0., 0., 0., 0., 0., 0., 0., 0.,\n",
              "       0., 0., 0., 0., 0., 0., 0., 0., 0., 0., 0., 0., 0., 0., 0., 0., 0.,\n",
              "       0., 0., 0., 0., 0., 0., 0., 0., 0., 0., 0., 0., 0., 0., 0., 0., 0.,\n",
              "       0., 0., 0., 0., 0., 0., 0., 0., 0., 0., 0., 0., 0., 0., 0., 0., 0.,\n",
              "       0., 0., 0., 0., 0., 0., 0., 0., 0., 0., 0., 0., 0., 0., 0., 0., 0.,\n",
              "       0., 0., 0., 0., 0., 0., 0., 0., 0., 0., 0., 0., 0., 0., 0., 0., 0.,\n",
              "       0., 0., 0., 0., 0., 0., 0., 0., 0., 0., 0.], dtype=float32)"
            ]
          },
          "metadata": {
            "tags": []
          },
          "execution_count": 57
        }
      ]
    },
    {
      "cell_type": "code",
      "metadata": {
        "id": "NdrrubaFmhKF"
      },
      "source": [
        "model.compile(loss=keras.losses.sparse_categorical_crossentropy, optimizer=keras.optimizers.SGD(),\r\n",
        "              metrics=[keras.metrics.sparse_categorical_accuracy])"
      ],
      "execution_count": 58,
      "outputs": []
    },
    {
      "cell_type": "code",
      "metadata": {
        "colab": {
          "base_uri": "https://localhost:8080/"
        },
        "id": "JTHi7BEh-X1s",
        "outputId": "ca31bdf8-f3e0-475b-a126-5e1dfba11985"
      },
      "source": [
        "history = model.fit(X_train, y_train, epochs=30, validation_data=(X_valid, y_valid))"
      ],
      "execution_count": 59,
      "outputs": [
        {
          "output_type": "stream",
          "text": [
            "Epoch 1/30\n",
            "1719/1719 [==============================] - 7s 4ms/step - loss: 0.9875 - sparse_categorical_accuracy: 0.6829 - val_loss: 0.5523 - val_sparse_categorical_accuracy: 0.7964\n",
            "Epoch 2/30\n",
            "1719/1719 [==============================] - 7s 4ms/step - loss: 0.4988 - sparse_categorical_accuracy: 0.8275 - val_loss: 0.4473 - val_sparse_categorical_accuracy: 0.8470\n",
            "Epoch 3/30\n",
            "1719/1719 [==============================] - 7s 4ms/step - loss: 0.4525 - sparse_categorical_accuracy: 0.8415 - val_loss: 0.4172 - val_sparse_categorical_accuracy: 0.8590\n",
            "Epoch 4/30\n",
            "1719/1719 [==============================] - 7s 4ms/step - loss: 0.4234 - sparse_categorical_accuracy: 0.8514 - val_loss: 0.4087 - val_sparse_categorical_accuracy: 0.8616\n",
            "Epoch 5/30\n",
            "1719/1719 [==============================] - 6s 4ms/step - loss: 0.4030 - sparse_categorical_accuracy: 0.8599 - val_loss: 0.3755 - val_sparse_categorical_accuracy: 0.8700\n",
            "Epoch 6/30\n",
            "1719/1719 [==============================] - 6s 4ms/step - loss: 0.3842 - sparse_categorical_accuracy: 0.8649 - val_loss: 0.3780 - val_sparse_categorical_accuracy: 0.8698\n",
            "Epoch 7/30\n",
            "1719/1719 [==============================] - 7s 4ms/step - loss: 0.3707 - sparse_categorical_accuracy: 0.8711 - val_loss: 0.3848 - val_sparse_categorical_accuracy: 0.8606\n",
            "Epoch 8/30\n",
            "1719/1719 [==============================] - 7s 4ms/step - loss: 0.3572 - sparse_categorical_accuracy: 0.8759 - val_loss: 0.3798 - val_sparse_categorical_accuracy: 0.8646\n",
            "Epoch 9/30\n",
            "1719/1719 [==============================] - 7s 4ms/step - loss: 0.3493 - sparse_categorical_accuracy: 0.8773 - val_loss: 0.3818 - val_sparse_categorical_accuracy: 0.8652\n",
            "Epoch 10/30\n",
            "1719/1719 [==============================] - 7s 4ms/step - loss: 0.3316 - sparse_categorical_accuracy: 0.8818 - val_loss: 0.3599 - val_sparse_categorical_accuracy: 0.8744\n",
            "Epoch 11/30\n",
            "1719/1719 [==============================] - 7s 4ms/step - loss: 0.3279 - sparse_categorical_accuracy: 0.8831 - val_loss: 0.3473 - val_sparse_categorical_accuracy: 0.8746\n",
            "Epoch 12/30\n",
            "1719/1719 [==============================] - 7s 4ms/step - loss: 0.3139 - sparse_categorical_accuracy: 0.8873 - val_loss: 0.3307 - val_sparse_categorical_accuracy: 0.8866\n",
            "Epoch 13/30\n",
            "1719/1719 [==============================] - 7s 4ms/step - loss: 0.3142 - sparse_categorical_accuracy: 0.8872 - val_loss: 0.3302 - val_sparse_categorical_accuracy: 0.8814\n",
            "Epoch 14/30\n",
            "1719/1719 [==============================] - 7s 4ms/step - loss: 0.3048 - sparse_categorical_accuracy: 0.8916 - val_loss: 0.3429 - val_sparse_categorical_accuracy: 0.8816\n",
            "Epoch 15/30\n",
            "1719/1719 [==============================] - 7s 4ms/step - loss: 0.2926 - sparse_categorical_accuracy: 0.8935 - val_loss: 0.3310 - val_sparse_categorical_accuracy: 0.8824\n",
            "Epoch 16/30\n",
            "1719/1719 [==============================] - 6s 4ms/step - loss: 0.2943 - sparse_categorical_accuracy: 0.8963 - val_loss: 0.3362 - val_sparse_categorical_accuracy: 0.8810\n",
            "Epoch 17/30\n",
            "1719/1719 [==============================] - 7s 4ms/step - loss: 0.2847 - sparse_categorical_accuracy: 0.8967 - val_loss: 0.3260 - val_sparse_categorical_accuracy: 0.8814\n",
            "Epoch 18/30\n",
            "1719/1719 [==============================] - 7s 4ms/step - loss: 0.2791 - sparse_categorical_accuracy: 0.8999 - val_loss: 0.3327 - val_sparse_categorical_accuracy: 0.8816\n",
            "Epoch 19/30\n",
            "1719/1719 [==============================] - 7s 4ms/step - loss: 0.2703 - sparse_categorical_accuracy: 0.9029 - val_loss: 0.3042 - val_sparse_categorical_accuracy: 0.8896\n",
            "Epoch 20/30\n",
            "1719/1719 [==============================] - 7s 4ms/step - loss: 0.2650 - sparse_categorical_accuracy: 0.9056 - val_loss: 0.3168 - val_sparse_categorical_accuracy: 0.8884\n",
            "Epoch 21/30\n",
            "1719/1719 [==============================] - 7s 4ms/step - loss: 0.2667 - sparse_categorical_accuracy: 0.9026 - val_loss: 0.3238 - val_sparse_categorical_accuracy: 0.8848\n",
            "Epoch 22/30\n",
            "1719/1719 [==============================] - 6s 4ms/step - loss: 0.2586 - sparse_categorical_accuracy: 0.9072 - val_loss: 0.3150 - val_sparse_categorical_accuracy: 0.8860\n",
            "Epoch 23/30\n",
            "1719/1719 [==============================] - 7s 4ms/step - loss: 0.2506 - sparse_categorical_accuracy: 0.9092 - val_loss: 0.3174 - val_sparse_categorical_accuracy: 0.8886\n",
            "Epoch 24/30\n",
            "1719/1719 [==============================] - 7s 4ms/step - loss: 0.2478 - sparse_categorical_accuracy: 0.9087 - val_loss: 0.3129 - val_sparse_categorical_accuracy: 0.8880\n",
            "Epoch 25/30\n",
            "1719/1719 [==============================] - 7s 4ms/step - loss: 0.2429 - sparse_categorical_accuracy: 0.9108 - val_loss: 0.3164 - val_sparse_categorical_accuracy: 0.8858\n",
            "Epoch 26/30\n",
            "1719/1719 [==============================] - 7s 4ms/step - loss: 0.2403 - sparse_categorical_accuracy: 0.9118 - val_loss: 0.3014 - val_sparse_categorical_accuracy: 0.8904\n",
            "Epoch 27/30\n",
            "1719/1719 [==============================] - 7s 4ms/step - loss: 0.2349 - sparse_categorical_accuracy: 0.9146 - val_loss: 0.3150 - val_sparse_categorical_accuracy: 0.8864\n",
            "Epoch 28/30\n",
            "1719/1719 [==============================] - 7s 4ms/step - loss: 0.2338 - sparse_categorical_accuracy: 0.9159 - val_loss: 0.2955 - val_sparse_categorical_accuracy: 0.8928\n",
            "Epoch 29/30\n",
            "1719/1719 [==============================] - 7s 4ms/step - loss: 0.2251 - sparse_categorical_accuracy: 0.9180 - val_loss: 0.2955 - val_sparse_categorical_accuracy: 0.8920\n",
            "Epoch 30/30\n",
            "1719/1719 [==============================] - 7s 4ms/step - loss: 0.2206 - sparse_categorical_accuracy: 0.9219 - val_loss: 0.2921 - val_sparse_categorical_accuracy: 0.8944\n"
          ],
          "name": "stdout"
        }
      ]
    },
    {
      "cell_type": "code",
      "metadata": {
        "colab": {
          "base_uri": "https://localhost:8080/"
        },
        "id": "i129hSPn-X43",
        "outputId": "67465498-9ac9-4ba5-9a27-9ce74f510b36"
      },
      "source": [
        "history.params"
      ],
      "execution_count": 60,
      "outputs": [
        {
          "output_type": "execute_result",
          "data": {
            "text/plain": [
              "{'epochs': 30, 'steps': 1719, 'verbose': 1}"
            ]
          },
          "metadata": {
            "tags": []
          },
          "execution_count": 60
        }
      ]
    },
    {
      "cell_type": "code",
      "metadata": {
        "colab": {
          "base_uri": "https://localhost:8080/",
          "height": 320
        },
        "id": "JRs45jym-X7j",
        "outputId": "e68a38cc-33d0-47a9-eb6b-5048f7c9be29"
      },
      "source": [
        "import pandas as pd\r\n",
        "import matplotlib.pyplot as plt\r\n",
        "\r\n",
        "pd.DataFrame(history.history).plot(figsize=(9,5))\r\n",
        "plt.grid()\r\n",
        "plt.show()"
      ],
      "execution_count": 61,
      "outputs": [
        {
          "output_type": "display_data",
          "data": {
            "image/png": "[encoded data removed]",
            "text/plain": [
              "<Figure size 648x360 with 1 Axes>"
            ]
          },
          "metadata": {
            "tags": [],
            "needs_background": "light"
          }
        }
      ]
    },
    {
      "cell_type": "code",
      "metadata": {
        "colab": {
          "base_uri": "https://localhost:8080/"
        },
        "id": "21XO8SlrLxaH",
        "outputId": "2df21f3c-d5dc-46b5-dfa8-f2fb8cd674a8"
      },
      "source": [
        "model.evaluate(X_test, y_test)"
      ],
      "execution_count": 62,
      "outputs": [
        {
          "output_type": "stream",
          "text": [
            "313/313 [==============================] - 1s 3ms/step - loss: 56.7757 - sparse_categorical_accuracy: 0.8627\n"
          ],
          "name": "stdout"
        },
        {
          "output_type": "execute_result",
          "data": {
            "text/plain": [
              "[56.77571105957031, 0.8626999855041504]"
            ]
          },
          "metadata": {
            "tags": []
          },
          "execution_count": 62
        }
      ]
    },
    {
      "cell_type": "code",
      "metadata": {
        "colab": {
          "base_uri": "https://localhost:8080/"
        },
        "id": "siKFe9scLxdX",
        "outputId": "33b175d5-d52a-4d25-c836-8c9fbe6526e7"
      },
      "source": [
        "val = X_test[:3]\r\n",
        "\r\n",
        "y_pred = model.predict(val)\r\n",
        "\r\n",
        "y_pred"
      ],
      "execution_count": 63,
      "outputs": [
        {
          "output_type": "execute_result",
          "data": {
            "text/plain": [
              "array([[0., 0., 0., 0., 0., 0., 0., 0., 0., 1.],\n",
              "       [0., 0., 1., 0., 0., 0., 0., 0., 0., 0.],\n",
              "       [0., 1., 0., 0., 0., 0., 0., 0., 0., 0.]], dtype=float32)"
            ]
          },
          "metadata": {
            "tags": []
          },
          "execution_count": 63
        }
      ]
    },
    {
      "cell_type": "code",
      "metadata": {
        "colab": {
          "base_uri": "https://localhost:8080/"
        },
        "id": "z_K5QV2iLxgP",
        "outputId": "92d90e12-2357-4847-c2bc-9035e84f41c8"
      },
      "source": [
        "import numpy as np\r\n",
        "\r\n",
        "np.array(model.predict_classes(val))"
      ],
      "execution_count": 64,
      "outputs": [
        {
          "output_type": "stream",
          "text": [
            "/usr/local/lib/python3.7/dist-packages/tensorflow/python/keras/engine/sequential.py:450: UserWarning: `model.predict_classes()` is deprecated and will be removed after 2021-01-01. Please use instead:* `np.argmax(model.predict(x), axis=-1)`,   if your model does multi-class classification   (e.g. if it uses a `softmax` last-layer activation).* `(model.predict(x) > 0.5).astype(\"int32\")`,   if your model does binary classification   (e.g. if it uses a `sigmoid` last-layer activation).\n",
            "  warnings.warn('`model.predict_classes()` is deprecated and '\n"
          ],
          "name": "stderr"
        },
        {
          "output_type": "execute_result",
          "data": {
            "text/plain": [
              "array([9, 2, 1])"
            ]
          },
          "metadata": {
            "tags": []
          },
          "execution_count": 64
        }
      ]
    },
    {
      "cell_type": "code",
      "metadata": {
        "id": "LTRJU98-y3wx"
      },
      "source": [
        "from sklearn.datasets import fetch_california_housing\r\n",
        "from sklearn.model_selection import train_test_split\r\n",
        "from sklearn.preprocessing import StandardScaler\r\n",
        "\r\n",
        "dta = fetch_california_housing()\r\n",
        "\r\n",
        "X_train, X_, y_train, y_ = train_test_split(dta.data, dta.target, train_size=0.7)\r\n",
        "X_test, X_val, y_test, y_val = train_test_split(X_, y_, test_size=0.5)"
      ],
      "execution_count": 65,
      "outputs": []
    },
    {
      "cell_type": "code",
      "metadata": {
        "id": "wY9_aPY5y30f"
      },
      "source": [
        "scaler = StandardScaler().fit(X_train)\r\n",
        "\r\n",
        "X_train = scaler.transform(X_train)\r\n",
        "X_test = scaler.transform(X_test)\r\n",
        "X_val = scaler.transform(X_val)"
      ],
      "execution_count": 66,
      "outputs": []
    },
    {
      "cell_type": "code",
      "metadata": {
        "colab": {
          "base_uri": "https://localhost:8080/"
        },
        "id": "EpAM6PdF1b4a",
        "outputId": "b56a3a09-9be8-4024-cdec-89400a7ea7d7"
      },
      "source": [
        "X_train.shape, X_test.shape, X_val.shape\r\n",
        "\r\n",
        "#y_train.shape, y_test.shape, y_val.shape"
      ],
      "execution_count": 67,
      "outputs": [
        {
          "output_type": "execute_result",
          "data": {
            "text/plain": [
              "((14447, 8), (3096, 8), (3097, 8))"
            ]
          },
          "metadata": {
            "tags": []
          },
          "execution_count": 67
        }
      ]
    },
    {
      "cell_type": "code",
      "metadata": {
        "colab": {
          "base_uri": "https://localhost:8080/"
        },
        "id": "0_bqpIqsy33J",
        "outputId": "62012adc-9e4b-4221-da67-9b44084d9de4"
      },
      "source": [
        "reg_model = keras.models.Sequential([keras.layers.Dense(30, activation=keras.activations.relu, input_shape=X_train.shape[1:]),\r\n",
        "                                     keras.layers.Dense(1)])\r\n",
        "\r\n",
        "reg_model.compile(loss=keras.losses.mean_squared_error, optimizer=keras.optimizers.SGD(nesterov=True), metrics=[keras.metrics.mean_squared_error])\r\n",
        "history = reg_model.fit(X_train, y_train, epochs=20, validation_data=(X_val, y_val))\r\n"
      ],
      "execution_count": 68,
      "outputs": [
        {
          "output_type": "stream",
          "text": [
            "Epoch 1/20\n",
            "452/452 [==============================] - 1s 2ms/step - loss: 1.5501 - mean_squared_error: 1.5501 - val_loss: 0.5177 - val_mean_squared_error: 0.5177\n",
            "Epoch 2/20\n",
            "452/452 [==============================] - 1s 1ms/step - loss: 0.6855 - mean_squared_error: 0.6855 - val_loss: 0.4505 - val_mean_squared_error: 0.4505\n",
            "Epoch 3/20\n",
            "452/452 [==============================] - 1s 1ms/step - loss: 0.4372 - mean_squared_error: 0.4372 - val_loss: 0.4118 - val_mean_squared_error: 0.4118\n",
            "Epoch 4/20\n",
            "452/452 [==============================] - 1s 1ms/step - loss: 0.4073 - mean_squared_error: 0.4073 - val_loss: 0.3930 - val_mean_squared_error: 0.3930\n",
            "Epoch 5/20\n",
            "452/452 [==============================] - 1s 1ms/step - loss: 0.3829 - mean_squared_error: 0.3829 - val_loss: 0.3846 - val_mean_squared_error: 0.3846\n",
            "Epoch 6/20\n",
            "452/452 [==============================] - 1s 1ms/step - loss: 0.3742 - mean_squared_error: 0.3742 - val_loss: 0.3741 - val_mean_squared_error: 0.3741\n",
            "Epoch 7/20\n",
            "452/452 [==============================] - 1s 2ms/step - loss: 0.3877 - mean_squared_error: 0.3877 - val_loss: 0.3758 - val_mean_squared_error: 0.3758\n",
            "Epoch 8/20\n",
            "452/452 [==============================] - 1s 2ms/step - loss: 0.3623 - mean_squared_error: 0.3623 - val_loss: 0.3797 - val_mean_squared_error: 0.3797\n",
            "Epoch 9/20\n",
            "452/452 [==============================] - 1s 1ms/step - loss: 0.3721 - mean_squared_error: 0.3721 - val_loss: 0.3694 - val_mean_squared_error: 0.3694\n",
            "Epoch 10/20\n",
            "452/452 [==============================] - 1s 1ms/step - loss: 0.3565 - mean_squared_error: 0.3565 - val_loss: 0.3746 - val_mean_squared_error: 0.3746\n",
            "Epoch 11/20\n",
            "452/452 [==============================] - 1s 1ms/step - loss: 0.3613 - mean_squared_error: 0.3613 - val_loss: 0.3563 - val_mean_squared_error: 0.3563\n",
            "Epoch 12/20\n",
            "452/452 [==============================] - 1s 2ms/step - loss: 0.3653 - mean_squared_error: 0.3653 - val_loss: 0.3576 - val_mean_squared_error: 0.3576\n",
            "Epoch 13/20\n",
            "452/452 [==============================] - 1s 1ms/step - loss: 0.3539 - mean_squared_error: 0.3539 - val_loss: 0.3485 - val_mean_squared_error: 0.3485\n",
            "Epoch 14/20\n",
            "452/452 [==============================] - 1s 2ms/step - loss: 0.3583 - mean_squared_error: 0.3583 - val_loss: 0.3478 - val_mean_squared_error: 0.3478\n",
            "Epoch 15/20\n",
            "452/452 [==============================] - 1s 2ms/step - loss: 0.3507 - mean_squared_error: 0.3507 - val_loss: 0.3475 - val_mean_squared_error: 0.3475\n",
            "Epoch 16/20\n",
            "452/452 [==============================] - 1s 2ms/step - loss: 0.3520 - mean_squared_error: 0.3520 - val_loss: 0.3359 - val_mean_squared_error: 0.3359\n",
            "Epoch 17/20\n",
            "452/452 [==============================] - 1s 2ms/step - loss: 0.3471 - mean_squared_error: 0.3471 - val_loss: 0.3432 - val_mean_squared_error: 0.3432\n",
            "Epoch 18/20\n",
            "452/452 [==============================] - 1s 1ms/step - loss: 0.3414 - mean_squared_error: 0.3414 - val_loss: 0.3412 - val_mean_squared_error: 0.3412\n",
            "Epoch 19/20\n",
            "452/452 [==============================] - 1s 1ms/step - loss: 0.3398 - mean_squared_error: 0.3398 - val_loss: 0.3341 - val_mean_squared_error: 0.3341\n",
            "Epoch 20/20\n",
            "452/452 [==============================] - 1s 1ms/step - loss: 0.3472 - mean_squared_error: 0.3472 - val_loss: 0.3363 - val_mean_squared_error: 0.3363\n"
          ],
          "name": "stdout"
        }
      ]
    },
    {
      "cell_type": "code",
      "metadata": {
        "id": "fOSorb7_y4Bw"
      },
      "source": [
        "_input = keras.layers.Input(shape=X_train.shape[1:])\r\n",
        "hidden_1 = keras.layers.Dense(30, activation=keras.activations.elu)(_input)\r\n",
        "hidden_2 = keras.layers.Dense(30, activation=keras.activations.relu)(hidden_1)\r\n",
        "\r\n",
        "concat = keras.layers.Concatenate()([_input, hidden_2])\r\n",
        "output = keras.layers.Dense(1)(concat)\r\n",
        "\r\n",
        "model = keras.Model(inputs=[_input], outputs=[output])"
      ],
      "execution_count": 69,
      "outputs": []
    },
    {
      "cell_type": "code",
      "metadata": {
        "id": "FLMeQzT3y4Gw"
      },
      "source": [
        "Ainput = keras.layers.Input(shape=[5], name='wide input')\r\n",
        "Binput = keras.layers.Input(shape=[6], name='deep input')\r\n",
        "\r\n",
        "hidden_1 = keras.layers.Dense(30, activation=keras.activations.elu)(Binput)\r\n",
        "hidden_2 = keras.layers.Dense(30, activation=keras.activations.relu)(hidden_1)\r\n",
        "\r\n",
        "concat = keras.layers.concatenate([Ainput, hidden_2])\r\n",
        "output = keras.layers.Dense(1, name='output')(concat)\r\n",
        "\r\n",
        "model = keras.Model(inputs=[Ainput, Binput], outputs=output)"
      ],
      "execution_count": 70,
      "outputs": []
    },
    {
      "cell_type": "code",
      "metadata": {
        "id": "MfAe-8bZy4Jc",
        "colab": {
          "base_uri": "https://localhost:8080/"
        },
        "outputId": "0a43c53b-7e83-4fb4-bcf6-8ed4fb96ff4c"
      },
      "source": [
        "# Esto evita el overfitting es como una regularizacion\r\n",
        "model.compile(optimizer=keras.optimizers.SGD(learning_rate=0.001), loss=keras.losses.mean_squared_error, metrics=[keras.metrics.mean_squared_error])\r\n",
        "\r\n",
        "X_trainA, X_trainB = X_train[:, :5], X_train[:, 2:]\r\n",
        "X_testA, X_testB = X_test[:, :5], X_test[:, 2:]\r\n",
        "X_valA, X_valB = X_val[:,:5], X_val[:,2:]\r\n",
        "\r\n",
        "X_newA, X_newB = X_testA[:3], X_testB[:3]\r\n",
        "\r\n",
        "history = model.fit((X_trainA, X_trainB), y_train, epochs=20, validation_data=((X_valA, X_valB), y_val))"
      ],
      "execution_count": 71,
      "outputs": [
        {
          "output_type": "stream",
          "text": [
            "Epoch 1/20\n",
            "452/452 [==============================] - 1s 2ms/step - loss: 2.8455 - mean_squared_error: 2.8455 - val_loss: 0.9249 - val_mean_squared_error: 0.9249\n",
            "Epoch 2/20\n",
            "452/452 [==============================] - 1s 2ms/step - loss: 0.7707 - mean_squared_error: 0.7707 - val_loss: 0.6838 - val_mean_squared_error: 0.6838\n",
            "Epoch 3/20\n",
            "452/452 [==============================] - 1s 2ms/step - loss: 0.6461 - mean_squared_error: 0.6461 - val_loss: 0.6080 - val_mean_squared_error: 0.6080\n",
            "Epoch 4/20\n",
            "452/452 [==============================] - 1s 2ms/step - loss: 0.5779 - mean_squared_error: 0.5779 - val_loss: 0.5639 - val_mean_squared_error: 0.5639\n",
            "Epoch 5/20\n",
            "452/452 [==============================] - 1s 2ms/step - loss: 0.5751 - mean_squared_error: 0.5751 - val_loss: 0.5296 - val_mean_squared_error: 0.5296\n",
            "Epoch 6/20\n",
            "452/452 [==============================] - 1s 2ms/step - loss: 0.5166 - mean_squared_error: 0.5166 - val_loss: 0.5090 - val_mean_squared_error: 0.5090\n",
            "Epoch 7/20\n",
            "452/452 [==============================] - 1s 2ms/step - loss: 0.5248 - mean_squared_error: 0.5248 - val_loss: 0.4970 - val_mean_squared_error: 0.4970\n",
            "Epoch 8/20\n",
            "452/452 [==============================] - 1s 2ms/step - loss: 0.4843 - mean_squared_error: 0.4843 - val_loss: 0.4836 - val_mean_squared_error: 0.4836\n",
            "Epoch 9/20\n",
            "452/452 [==============================] - 1s 2ms/step - loss: 0.4758 - mean_squared_error: 0.4758 - val_loss: 0.4821 - val_mean_squared_error: 0.4821\n",
            "Epoch 10/20\n",
            "452/452 [==============================] - 1s 1ms/step - loss: 0.4658 - mean_squared_error: 0.4658 - val_loss: 0.4677 - val_mean_squared_error: 0.4677\n",
            "Epoch 11/20\n",
            "452/452 [==============================] - 1s 2ms/step - loss: 0.4849 - mean_squared_error: 0.4849 - val_loss: 0.4644 - val_mean_squared_error: 0.4644\n",
            "Epoch 12/20\n",
            "452/452 [==============================] - 1s 2ms/step - loss: 0.4690 - mean_squared_error: 0.4690 - val_loss: 0.4603 - val_mean_squared_error: 0.4603\n",
            "Epoch 13/20\n",
            "452/452 [==============================] - 1s 2ms/step - loss: 0.4625 - mean_squared_error: 0.4625 - val_loss: 0.4565 - val_mean_squared_error: 0.4565\n",
            "Epoch 14/20\n",
            "452/452 [==============================] - 1s 2ms/step - loss: 0.4608 - mean_squared_error: 0.4608 - val_loss: 0.4531 - val_mean_squared_error: 0.4531\n",
            "Epoch 15/20\n",
            "452/452 [==============================] - 1s 2ms/step - loss: 0.4831 - mean_squared_error: 0.4831 - val_loss: 0.4523 - val_mean_squared_error: 0.4523\n",
            "Epoch 16/20\n",
            "452/452 [==============================] - 1s 2ms/step - loss: 0.4689 - mean_squared_error: 0.4689 - val_loss: 0.4493 - val_mean_squared_error: 0.4493\n",
            "Epoch 17/20\n",
            "452/452 [==============================] - 1s 2ms/step - loss: 0.4561 - mean_squared_error: 0.4561 - val_loss: 0.4457 - val_mean_squared_error: 0.4457\n",
            "Epoch 18/20\n",
            "452/452 [==============================] - 1s 2ms/step - loss: 0.4421 - mean_squared_error: 0.4421 - val_loss: 0.4423 - val_mean_squared_error: 0.4423\n",
            "Epoch 19/20\n",
            "452/452 [==============================] - 1s 2ms/step - loss: 0.4625 - mean_squared_error: 0.4625 - val_loss: 0.4410 - val_mean_squared_error: 0.4410\n",
            "Epoch 20/20\n",
            "452/452 [==============================] - 1s 2ms/step - loss: 0.4534 - mean_squared_error: 0.4534 - val_loss: 0.4374 - val_mean_squared_error: 0.4374\n"
          ],
          "name": "stdout"
        }
      ]
    },
    {
      "cell_type": "code",
      "metadata": {
        "id": "12iQAg1uy4Mh",
        "colab": {
          "base_uri": "https://localhost:8080/",
          "height": 320
        },
        "outputId": "966d90c4-9d21-4cca-cdb3-4330a98dcf19"
      },
      "source": [
        "pd.DataFrame(history.history).plot(figsize=(9,5))\r\n",
        "plt.grid()\r\n",
        "plt.show()"
      ],
      "execution_count": 72,
      "outputs": [
        {
          "output_type": "display_data",
          "data": {
            "image/png": "[encoded data removed]",
            "text/plain": [
              "<Figure size 648x360 with 1 Axes>"
            ]
          },
          "metadata": {
            "tags": [],
            "needs_background": "light"
          }
        }
      ]
    },
    {
      "cell_type": "code",
      "metadata": {
        "colab": {
          "base_uri": "https://localhost:8080/"
        },
        "id": "fX-5GZhEi58S",
        "outputId": "f050cc77-7632-4875-a2bc-af758ec941ee"
      },
      "source": [
        "pd.DataFrame(history.history)['loss']"
      ],
      "execution_count": 73,
      "outputs": [
        {
          "output_type": "execute_result",
          "data": {
            "text/plain": [
              "0     1.802342\n",
              "1     0.734032\n",
              "2     0.625087\n",
              "3     0.573607\n",
              "4     0.540503\n",
              "5     0.518454\n",
              "6     0.503336\n",
              "7     0.493018\n",
              "8     0.485136\n",
              "9     0.479639\n",
              "10    0.474864\n",
              "11    0.470867\n",
              "12    0.467968\n",
              "13    0.465112\n",
              "14    0.462327\n",
              "15    0.459952\n",
              "16    0.457531\n",
              "17    0.455053\n",
              "18    0.452843\n",
              "19    0.450793\n",
              "Name: loss, dtype: float64"
            ]
          },
          "metadata": {
            "tags": []
          },
          "execution_count": 73
        }
      ]
    },
    {
      "cell_type": "code",
      "metadata": {
        "colab": {
          "base_uri": "https://localhost:8080/"
        },
        "id": "iIFs5P2WkTSh",
        "outputId": "1b44af74-dbd3-4fa6-8b0f-99daa79d8bb2"
      },
      "source": [
        "mse_test = model.evaluate((X_testA, X_testB), y_test)"
      ],
      "execution_count": 74,
      "outputs": [
        {
          "output_type": "stream",
          "text": [
            "97/97 [==============================] - 0s 1ms/step - loss: 0.4646 - mean_squared_error: 0.4646\n"
          ],
          "name": "stdout"
        }
      ]
    },
    {
      "cell_type": "code",
      "metadata": {
        "id": "wbRT6eIGkTVa",
        "colab": {
          "base_uri": "https://localhost:8080/"
        },
        "outputId": "62406ebe-7147-4f48-bbee-c54b03ea7330"
      },
      "source": [
        "y_pred = model.predict((X_newA, X_newB))"
      ],
      "execution_count": 75,
      "outputs": [
        {
          "output_type": "stream",
          "text": [
            "WARNING:tensorflow:5 out of the last 7 calls to <function Model.make_predict_function.<locals>.predict_function at 0x7fca04a487a0> triggered tf.function retracing. Tracing is expensive and the excessive number of tracings could be due to (1) creating @tf.function repeatedly in a loop, (2) passing tensors with different shapes, (3) passing Python objects instead of tensors. For (1), please define your @tf.function outside of the loop. For (2), @tf.function has experimental_relax_shapes=True option that relaxes argument shapes that can avoid unnecessary retracing. For (3), please refer to https://www.tensorflow.org/guide/function#controlling_retracing and https://www.tensorflow.org/api_docs/python/tf/function for  more details.\n"
          ],
          "name": "stdout"
        }
      ]
    },
    {
      "cell_type": "code",
      "metadata": {
        "colab": {
          "base_uri": "https://localhost:8080/"
        },
        "id": "-hhL6XtTkTYs",
        "outputId": "3444fafa-3091-4e03-d4bb-9d7511109238"
      },
      "source": [
        "y_pred"
      ],
      "execution_count": 76,
      "outputs": [
        {
          "output_type": "execute_result",
          "data": {
            "text/plain": [
              "array([[1.7209833],\n",
              "       [2.211931 ],\n",
              "       [1.4349761]], dtype=float32)"
            ]
          },
          "metadata": {
            "tags": []
          },
          "execution_count": 76
        }
      ]
    },
    {
      "cell_type": "code",
      "metadata": {
        "colab": {
          "base_uri": "https://localhost:8080/"
        },
        "id": "VOdRkM-tkqp_",
        "outputId": "5ef6e5c3-739d-4a61-fd56-02ae49740a38"
      },
      "source": [
        "y_test[:3]"
      ],
      "execution_count": 77,
      "outputs": [
        {
          "output_type": "execute_result",
          "data": {
            "text/plain": [
              "array([1.607, 2.47 , 0.973])"
            ]
          },
          "metadata": {
            "tags": []
          },
          "execution_count": 77
        }
      ]
    },
    {
      "cell_type": "code",
      "metadata": {
        "id": "EvUzn7NyxoRV"
      },
      "source": [
        "# NN con output auxiliar\r\n",
        "output = keras.layers.Dense(1, name='main_output')(concat)\r\n",
        "aux_output = keras.layers.Dense(1, name='aux_output')(hidden_2)\r\n",
        "\r\n",
        "model = keras.Model(inputs=[Ainput, Binput], outputs=[output, aux_output])"
      ],
      "execution_count": 78,
      "outputs": []
    },
    {
      "cell_type": "code",
      "metadata": {
        "id": "OCMlKf6TxoT5"
      },
      "source": [
        "model.compile(loss=[keras.losses.mean_squared_error, keras.losses.mean_squared_error],\r\n",
        "              loss_weights=[0.9, 0.1], optimizer=keras.optimizers.SGD())"
      ],
      "execution_count": 79,
      "outputs": []
    },
    {
      "cell_type": "code",
      "metadata": {
        "colab": {
          "base_uri": "https://localhost:8080/"
        },
        "id": "UuICesAU0Iz3",
        "outputId": "5a3f85bd-0461-4924-835e-8d7d2ffd0b4d"
      },
      "source": [
        "history = model.fit([X_trainA, X_trainB], [y_train, y_train], epochs=20, validation_data=([X_valA, X_valB], [y_val, y_val]))"
      ],
      "execution_count": 80,
      "outputs": [
        {
          "output_type": "stream",
          "text": [
            "Epoch 1/20\n",
            "452/452 [==============================] - 2s 2ms/step - loss: 1.0226 - main_output_loss: 0.8316 - aux_output_loss: 2.7420 - val_loss: 0.4991 - val_main_output_loss: 0.4504 - val_aux_output_loss: 0.9382\n",
            "Epoch 2/20\n",
            "452/452 [==============================] - 1s 2ms/step - loss: 0.5268 - main_output_loss: 0.4811 - aux_output_loss: 0.9382 - val_loss: 0.4715 - val_main_output_loss: 0.4358 - val_aux_output_loss: 0.7933\n",
            "Epoch 3/20\n",
            "452/452 [==============================] - 1s 2ms/step - loss: 0.4950 - main_output_loss: 0.4612 - aux_output_loss: 0.7990 - val_loss: 0.4642 - val_main_output_loss: 0.4365 - val_aux_output_loss: 0.7133\n",
            "Epoch 4/20\n",
            "452/452 [==============================] - 1s 2ms/step - loss: 0.4693 - main_output_loss: 0.4414 - aux_output_loss: 0.7206 - val_loss: 0.4622 - val_main_output_loss: 0.4391 - val_aux_output_loss: 0.6702\n",
            "Epoch 5/20\n",
            "452/452 [==============================] - 1s 2ms/step - loss: 0.4792 - main_output_loss: 0.4565 - aux_output_loss: 0.6834 - val_loss: 0.4406 - val_main_output_loss: 0.4196 - val_aux_output_loss: 0.6290\n",
            "Epoch 6/20\n",
            "452/452 [==============================] - 1s 2ms/step - loss: 0.4394 - main_output_loss: 0.4165 - aux_output_loss: 0.6453 - val_loss: 0.4294 - val_main_output_loss: 0.4093 - val_aux_output_loss: 0.6101\n",
            "Epoch 7/20\n",
            "452/452 [==============================] - 1s 2ms/step - loss: 0.4305 - main_output_loss: 0.4094 - aux_output_loss: 0.6208 - val_loss: 0.4197 - val_main_output_loss: 0.4010 - val_aux_output_loss: 0.5877\n",
            "Epoch 8/20\n",
            "452/452 [==============================] - 1s 2ms/step - loss: 0.4216 - main_output_loss: 0.4020 - aux_output_loss: 0.5974 - val_loss: 0.4014 - val_main_output_loss: 0.3833 - val_aux_output_loss: 0.5635\n",
            "Epoch 9/20\n",
            "452/452 [==============================] - 1s 2ms/step - loss: 0.4139 - main_output_loss: 0.3957 - aux_output_loss: 0.5777 - val_loss: 0.3989 - val_main_output_loss: 0.3822 - val_aux_output_loss: 0.5499\n",
            "Epoch 10/20\n",
            "452/452 [==============================] - 1s 2ms/step - loss: 0.4048 - main_output_loss: 0.3853 - aux_output_loss: 0.5799 - val_loss: 0.3942 - val_main_output_loss: 0.3780 - val_aux_output_loss: 0.5402\n",
            "Epoch 11/20\n",
            "452/452 [==============================] - 1s 2ms/step - loss: 0.4036 - main_output_loss: 0.3850 - aux_output_loss: 0.5712 - val_loss: 0.3993 - val_main_output_loss: 0.3844 - val_aux_output_loss: 0.5336\n",
            "Epoch 12/20\n",
            "452/452 [==============================] - 1s 2ms/step - loss: 0.4100 - main_output_loss: 0.3934 - aux_output_loss: 0.5588 - val_loss: 0.3827 - val_main_output_loss: 0.3675 - val_aux_output_loss: 0.5201\n",
            "Epoch 13/20\n",
            "452/452 [==============================] - 1s 2ms/step - loss: 0.3975 - main_output_loss: 0.3807 - aux_output_loss: 0.5493 - val_loss: 0.3814 - val_main_output_loss: 0.3663 - val_aux_output_loss: 0.5174\n",
            "Epoch 14/20\n",
            "452/452 [==============================] - 1s 2ms/step - loss: 0.4053 - main_output_loss: 0.3889 - aux_output_loss: 0.5529 - val_loss: 0.4018 - val_main_output_loss: 0.3887 - val_aux_output_loss: 0.5193\n",
            "Epoch 15/20\n",
            "452/452 [==============================] - 1s 2ms/step - loss: 0.3887 - main_output_loss: 0.3734 - aux_output_loss: 0.5270 - val_loss: 0.3695 - val_main_output_loss: 0.3553 - val_aux_output_loss: 0.4972\n",
            "Epoch 16/20\n",
            "452/452 [==============================] - 1s 2ms/step - loss: 0.3746 - main_output_loss: 0.3587 - aux_output_loss: 0.5179 - val_loss: 0.3685 - val_main_output_loss: 0.3545 - val_aux_output_loss: 0.4949\n",
            "Epoch 17/20\n",
            "452/452 [==============================] - 1s 2ms/step - loss: 0.3830 - main_output_loss: 0.3677 - aux_output_loss: 0.5207 - val_loss: 0.3793 - val_main_output_loss: 0.3668 - val_aux_output_loss: 0.4918\n",
            "Epoch 18/20\n",
            "452/452 [==============================] - 1s 2ms/step - loss: 0.3859 - main_output_loss: 0.3714 - aux_output_loss: 0.5165 - val_loss: 0.3675 - val_main_output_loss: 0.3546 - val_aux_output_loss: 0.4835\n",
            "Epoch 19/20\n",
            "452/452 [==============================] - 1s 2ms/step - loss: 0.3637 - main_output_loss: 0.3487 - aux_output_loss: 0.4990 - val_loss: 0.3949 - val_main_output_loss: 0.3850 - val_aux_output_loss: 0.4841\n",
            "Epoch 20/20\n",
            "452/452 [==============================] - 1s 2ms/step - loss: 0.3900 - main_output_loss: 0.3756 - aux_output_loss: 0.5198 - val_loss: 0.3973 - val_main_output_loss: 0.3862 - val_aux_output_loss: 0.4966\n"
          ],
          "name": "stdout"
        }
      ]
    },
    {
      "cell_type": "code",
      "metadata": {
        "colab": {
          "base_uri": "https://localhost:8080/",
          "height": 320
        },
        "id": "OTZpv99G1QHt",
        "outputId": "60616cc3-0e58-4da0-81af-881c093a6e0a"
      },
      "source": [
        "pd.DataFrame(history.history).plot(figsize=(14,5))\r\n",
        "plt.grid()\r\n",
        "plt.show()"
      ],
      "execution_count": 81,
      "outputs": [
        {
          "output_type": "display_data",
          "data": {
            "image/png": "[encoded data removed]",
            "text/plain": [
              "<Figure size 1008x360 with 1 Axes>"
            ]
          },
          "metadata": {
            "tags": [],
            "needs_background": "light"
          }
        }
      ]
    },
    {
      "cell_type": "code",
      "metadata": {
        "colab": {
          "base_uri": "https://localhost:8080/"
        },
        "id": "SY-aohIR1QLF",
        "outputId": "64be2666-9eba-4f77-ecd3-f6d440bb4e66"
      },
      "source": [
        "total_loss, main_loss, aux_loss = model.evaluate([X_testA, X_testB], [y_test, y_test])"
      ],
      "execution_count": 82,
      "outputs": [
        {
          "output_type": "stream",
          "text": [
            "97/97 [==============================] - 0s 1ms/step - loss: 0.4119 - main_output_loss: 0.3978 - aux_output_loss: 0.5383\n"
          ],
          "name": "stdout"
        }
      ]
    },
    {
      "cell_type": "code",
      "metadata": {
        "colab": {
          "base_uri": "https://localhost:8080/"
        },
        "id": "q9CoBs--1QNi",
        "outputId": "e68b36da-23c2-4b21-845d-76d5ef6f6804"
      },
      "source": [
        "total_loss, main_loss, aux_loss"
      ],
      "execution_count": 83,
      "outputs": [
        {
          "output_type": "execute_result",
          "data": {
            "text/plain": [
              "(0.41186392307281494, 0.39781808853149414, 0.538277268409729)"
            ]
          },
          "metadata": {
            "tags": []
          },
          "execution_count": 83
        }
      ]
    },
    {
      "cell_type": "code",
      "metadata": {
        "colab": {
          "base_uri": "https://localhost:8080/"
        },
        "id": "6iYbwQJj2spL",
        "outputId": "fceb656d-d31c-475e-c94b-0ea3815d5381"
      },
      "source": [
        "y_pred, Y_pred_aux = model.predict([X_newA, X_newB])"
      ],
      "execution_count": 84,
      "outputs": [
        {
          "output_type": "stream",
          "text": [
            "WARNING:tensorflow:6 out of the last 8 calls to <function Model.make_predict_function.<locals>.predict_function at 0x7fc9fdecacb0> triggered tf.function retracing. Tracing is expensive and the excessive number of tracings could be due to (1) creating @tf.function repeatedly in a loop, (2) passing tensors with different shapes, (3) passing Python objects instead of tensors. For (1), please define your @tf.function outside of the loop. For (2), @tf.function has experimental_relax_shapes=True option that relaxes argument shapes that can avoid unnecessary retracing. For (3), please refer to https://www.tensorflow.org/guide/function#controlling_retracing and https://www.tensorflow.org/api_docs/python/tf/function for  more details.\n"
          ],
          "name": "stdout"
        }
      ]
    },
    {
      "cell_type": "code",
      "metadata": {
        "colab": {
          "base_uri": "https://localhost:8080/"
        },
        "id": "U8XuWZhD20Xe",
        "outputId": "45f18c60-3de5-4793-8bf2-7d505d67f3a8"
      },
      "source": [
        "y_pred"
      ],
      "execution_count": 85,
      "outputs": [
        {
          "output_type": "execute_result",
          "data": {
            "text/plain": [
              "array([[1.5279294],\n",
              "       [2.2736862],\n",
              "       [1.1756003]], dtype=float32)"
            ]
          },
          "metadata": {
            "tags": []
          },
          "execution_count": 85
        }
      ]
    },
    {
      "cell_type": "code",
      "metadata": {
        "colab": {
          "base_uri": "https://localhost:8080/"
        },
        "id": "iDd_2MJF22lI",
        "outputId": "d3ddf699-2bcf-43ff-d13b-d2806294cb0e"
      },
      "source": [
        "Y_pred_aux"
      ],
      "execution_count": 86,
      "outputs": [
        {
          "output_type": "execute_result",
          "data": {
            "text/plain": [
              "array([[1.7043626],\n",
              "       [3.1567645],\n",
              "       [1.4809799]], dtype=float32)"
            ]
          },
          "metadata": {
            "tags": []
          },
          "execution_count": 86
        }
      ]
    },
    {
      "cell_type": "code",
      "metadata": {
        "colab": {
          "base_uri": "https://localhost:8080/"
        },
        "id": "cS8hz3nf26Qp",
        "outputId": "1dbe26ae-d4b8-4d69-dbac-e44a9fb5eae9"
      },
      "source": [
        "y_test[:3]"
      ],
      "execution_count": 87,
      "outputs": [
        {
          "output_type": "execute_result",
          "data": {
            "text/plain": [
              "array([1.607, 2.47 , 0.973])"
            ]
          },
          "metadata": {
            "tags": []
          },
          "execution_count": 87
        }
      ]
    },
    {
      "cell_type": "code",
      "metadata": {
        "id": "sFMQlEQOSSdI"
      },
      "source": [
        "class WideandDeepModel(keras.Model):\r\n",
        "\r\n",
        "  def __init__(self, units=30, activation='relu', **kwargs):\r\n",
        "\r\n",
        "    super().__init__(**kwargs)\r\n",
        "    self.hidden_1 = keras.layers.Dense(units, activation=activation)\r\n",
        "    self.hidden_2 = keras.layers.Dense(units, activation=activation)\r\n",
        "\r\n",
        "    self.main_output = keras.layers.Dense(1)\r\n",
        "    self.aux_output = keras.layers.Dense(1)\r\n",
        "\r\n",
        "  \r\n",
        "  def call(self, inputs):\r\n",
        "\r\n",
        "    input_A, input_B = inputs # inputs de seguro es una lista\r\n",
        "    hidden_1 = self.hidden_1(input_B)\r\n",
        "    hidden_2 = self.hidden_2(hidden_1)\r\n",
        "    \r\n",
        "    concat = keras.layers.concatenate([input_A, hidden_2])\r\n",
        "\r\n",
        "    main_output = self.main_output(concat)\r\n",
        "    aux_output = self.aux_output(hidden_2)\r\n",
        "    \r\n",
        "    return main_output, aux_output"
      ],
      "execution_count": 92,
      "outputs": []
    },
    {
      "cell_type": "code",
      "metadata": {
        "id": "3uVyvidcSSgQ"
      },
      "source": [
        "model = WideandDeepModel()"
      ],
      "execution_count": 93,
      "outputs": []
    },
    {
      "cell_type": "code",
      "metadata": {
        "colab": {
          "base_uri": "https://localhost:8080/"
        },
        "id": "1NsOVoe9SSjA",
        "outputId": "b3f03142-ec6a-428d-b6a6-f31d67fdc057"
      },
      "source": [
        "model.call([X_trainA, X_trainB])"
      ],
      "execution_count": 96,
      "outputs": [
        {
          "output_type": "execute_result",
          "data": {
            "text/plain": [
              "(<tf.Tensor: shape=(14447, 1), dtype=float32, numpy=\n",
              " array([[-0.73713183],\n",
              "        [-0.15783377],\n",
              "        [-0.37998736],\n",
              "        ...,\n",
              "        [ 0.09591891],\n",
              "        [ 0.47920147],\n",
              "        [ 0.10413171]], dtype=float32)>,\n",
              " <tf.Tensor: shape=(14447, 1), dtype=float32, numpy=\n",
              " array([[-0.06269458],\n",
              "        [-0.0955326 ],\n",
              "        [ 0.13616627],\n",
              "        ...,\n",
              "        [ 0.15033893],\n",
              "        [-0.2447474 ],\n",
              "        [-0.05144714]], dtype=float32)>)"
            ]
          },
          "metadata": {
            "tags": []
          },
          "execution_count": 96
        }
      ]
    },
    {
      "cell_type": "code",
      "metadata": {
        "colab": {
          "base_uri": "https://localhost:8080/"
        },
        "id": "Ipj1CVGGeybM",
        "outputId": "b41e12c5-5548-4d5c-8a4a-6e31b68a0bba"
      },
      "source": [
        ""
      ],
      "execution_count": 98,
      "outputs": [
        {
          "output_type": "execute_result",
          "data": {
            "text/plain": [
              "<bound method Model.summary of <__main__.WideandDeepModel object at 0x7fca11c064d0>>"
            ]
          },
          "metadata": {
            "tags": []
          },
          "execution_count": 98
        }
      ]
    }
  ]
}