{
  "nbformat": 4,
  "nbformat_minor": 0,
  "metadata": {
    "colab": {
      "name": "Untitled56.ipynb",
      "provenance": [],
      "authorship_tag": "ABX9TyOcDdWuSvseUii2Wcfwg2Ft",
      "include_colab_link": true
    },
    "kernelspec": {
      "name": "python3",
      "display_name": "Python 3"
    }
  },
  "cells": [
    {
      "cell_type": "markdown",
      "metadata": {
        "id": "view-in-github",
        "colab_type": "text"
      },
      "source": [
        "<a href=\"https://colab.research.google.com/github/Jean-Rd/Algoritms_Intro_machineLearningWithPython/blob/master/Hands%201NN.ipynb\" target=\"_parent\"><img src=\"https://colab.research.google.com/assets/colab-badge.svg\" alt=\"Open In Colab\"/></a>"
      ]
    },
    {
      "cell_type": "code",
      "metadata": {
        "id": "XM-4Lbc0Y5cR"
      },
      "source": [
        "import tensorflow as tf\r\n",
        "from tensorflow import keras"
      ],
      "execution_count": 1,
      "outputs": []
    },
    {
      "cell_type": "code",
      "metadata": {
        "id": "uq_LJ8t9SZ5k"
      },
      "source": [
        "import numpy as np\r\n",
        "import random\r\n",
        "\r\n",
        "np.random.seed(seed=1234)\r\n",
        "random.seed(1234)"
      ],
      "execution_count": 2,
      "outputs": []
    },
    {
      "cell_type": "code",
      "metadata": {
        "colab": {
          "base_uri": "https://localhost:8080/"
        },
        "id": "hpMLZVSmaI9n",
        "outputId": "fa113c4e-a755-4df1-a53e-aa4bec629483"
      },
      "source": [
        "tf.__version__, keras.__version__"
      ],
      "execution_count": 3,
      "outputs": [
        {
          "output_type": "execute_result",
          "data": {
            "text/plain": [
              "('2.4.1', '2.4.0')"
            ]
          },
          "metadata": {
            "tags": []
          },
          "execution_count": 3
        }
      ]
    },
    {
      "cell_type": "code",
      "metadata": {
        "id": "uJYzOKGraI_i",
        "outputId": "5f79a8ae-472f-4a75-dfdd-a7d3b2292eb2",
        "colab": {
          "base_uri": "https://localhost:8080/"
        }
      },
      "source": [
        "fashion_mnist = keras.datasets.fashion_mnist # requests\r\n",
        "\r\n",
        "(X_train_full, y_train_full), (X_test, y_test) = fashion_mnist.load_data()"
      ],
      "execution_count": 4,
      "outputs": [
        {
          "output_type": "stream",
          "text": [
            "Downloading data from https://storage.googleapis.com/tensorflow/tf-keras-datasets/train-labels-idx1-ubyte.gz\n",
            "32768/29515 [=================================] - 0s 0us/step\n",
            "Downloading data from https://storage.googleapis.com/tensorflow/tf-keras-datasets/train-images-idx3-ubyte.gz\n",
            "26427392/26421880 [==============================] - 0s 0us/step\n",
            "Downloading data from https://storage.googleapis.com/tensorflow/tf-keras-datasets/t10k-labels-idx1-ubyte.gz\n",
            "8192/5148 [===============================================] - 0s 0us/step\n",
            "Downloading data from https://storage.googleapis.com/tensorflow/tf-keras-datasets/t10k-images-idx3-ubyte.gz\n",
            "4423680/4422102 [==============================] - 0s 0us/step\n"
          ],
          "name": "stdout"
        }
      ]
    },
    {
      "cell_type": "code",
      "metadata": {
        "id": "knWerFQvS91-"
      },
      "source": [
        ""
      ],
      "execution_count": 4,
      "outputs": []
    },
    {
      "cell_type": "code",
      "metadata": {
        "id": "zAhsKxOXaJCB"
      },
      "source": [
        "X_valid, X_train = X_train_full[:5000]/255.0, X_train_full[5000:]/255.0\r\n",
        "y_valid, y_train = y_train_full[:5000], y_train_full[5000:]"
      ],
      "execution_count": 5,
      "outputs": []
    },
    {
      "cell_type": "code",
      "metadata": {
        "colab": {
          "base_uri": "https://localhost:8080/"
        },
        "id": "cV1LJjRtaJD1",
        "outputId": "0e3c1156-dd7c-474b-988d-d485e6039926"
      },
      "source": [
        "X_valid.shape, X_train.shape"
      ],
      "execution_count": 6,
      "outputs": [
        {
          "output_type": "execute_result",
          "data": {
            "text/plain": [
              "((5000, 28, 28), (55000, 28, 28))"
            ]
          },
          "metadata": {
            "tags": []
          },
          "execution_count": 6
        }
      ]
    },
    {
      "cell_type": "code",
      "metadata": {
        "id": "jhhLbM6XcQyW"
      },
      "source": [
        "class_names = ['T-shirt/top', 'Trouser', 'Pullover', 'Dress', 'Coat',\r\n",
        "               'Sandal', 'Shirt', 'Sneaker', 'Bag', 'Ankle boot']"
      ],
      "execution_count": 7,
      "outputs": []
    },
    {
      "cell_type": "code",
      "metadata": {
        "colab": {
          "base_uri": "https://localhost:8080/",
          "height": 36
        },
        "id": "cx5Ot5O5cQ0v",
        "outputId": "93fa97d0-a1cd-4ae0-9f02-422068c86fca"
      },
      "source": [
        "class_names[y_train[4]]"
      ],
      "execution_count": 8,
      "outputs": [
        {
          "output_type": "execute_result",
          "data": {
            "application/vnd.google.colaboratory.intrinsic+json": {
              "type": "string"
            },
            "text/plain": [
              "'Ankle boot'"
            ]
          },
          "metadata": {
            "tags": []
          },
          "execution_count": 8
        }
      ]
    },
    {
      "cell_type": "code",
      "metadata": {
        "id": "jGG0VM91cQ3P"
      },
      "source": [
        "# Agregamos capa uno por uno\r\n",
        "model = keras.models.Sequential()\r\n",
        "\r\n",
        "model.add(keras.layers.Flatten(input_shape=[28,28]))\r\n",
        "model.add(keras.layers.Dense(300, activation=keras.activations.elu))\r\n",
        "model.add(keras.layers.Dense(100, activation='elu'))\r\n",
        "model.add(keras.layers.Dense(10, activation='softmax'))"
      ],
      "execution_count": 9,
      "outputs": []
    },
    {
      "cell_type": "code",
      "metadata": {
        "id": "5k-9j0n5dViT"
      },
      "source": [
        "# Agregamos capa todos por una lista\r\n",
        "model = keras.models.Sequential([\r\n",
        "                                 keras.layers.Flatten(input_shape=[28,28]),\r\n",
        "                                 keras.layers.Dense(300, activation=keras.activations.relu),\r\n",
        "                                 keras.layers.Dense(100, activation='relu'),\r\n",
        "                                 keras.layers.Dense(10, activation=keras.activations.softmax)\r\n",
        "])"
      ],
      "execution_count": 10,
      "outputs": []
    },
    {
      "cell_type": "code",
      "metadata": {
        "colab": {
          "base_uri": "https://localhost:8080/"
        },
        "id": "qToiEXT9dVlB",
        "outputId": "bd582753-9ef0-40e0-9192-6ecedc9d22a5"
      },
      "source": [
        "model.summary()"
      ],
      "execution_count": 11,
      "outputs": [
        {
          "output_type": "stream",
          "text": [
            "Model: \"sequential_1\"\n",
            "_________________________________________________________________\n",
            "Layer (type)                 Output Shape              Param #   \n",
            "=================================================================\n",
            "flatten_1 (Flatten)          (None, 784)               0         \n",
            "_________________________________________________________________\n",
            "dense_3 (Dense)              (None, 300)               235500    \n",
            "_________________________________________________________________\n",
            "dense_4 (Dense)              (None, 100)               30100     \n",
            "_________________________________________________________________\n",
            "dense_5 (Dense)              (None, 10)                1010      \n",
            "=================================================================\n",
            "Total params: 266,610\n",
            "Trainable params: 266,610\n",
            "Non-trainable params: 0\n",
            "_________________________________________________________________\n"
          ],
          "name": "stdout"
        }
      ]
    },
    {
      "cell_type": "code",
      "metadata": {
        "colab": {
          "base_uri": "https://localhost:8080/"
        },
        "id": "HxD8PGuodVnb",
        "outputId": "172d88c6-c36b-4905-b5d6-2b80de6caa1b"
      },
      "source": [
        "model.layers[0].name, model.layers"
      ],
      "execution_count": 12,
      "outputs": [
        {
          "output_type": "execute_result",
          "data": {
            "text/plain": [
              "('flatten_1',\n",
              " [<tensorflow.python.keras.layers.core.Flatten at 0x7fb3e4b97a50>,\n",
              "  <tensorflow.python.keras.layers.core.Dense at 0x7fb3e4b97e90>,\n",
              "  <tensorflow.python.keras.layers.core.Dense at 0x7fb3e4ba32d0>,\n",
              "  <tensorflow.python.keras.layers.core.Dense at 0x7fb3e4bf21d0>])"
            ]
          },
          "metadata": {
            "tags": []
          },
          "execution_count": 12
        }
      ]
    },
    {
      "cell_type": "code",
      "metadata": {
        "colab": {
          "base_uri": "https://localhost:8080/"
        },
        "id": "UFBVkT_ZcQ6W",
        "outputId": "81db5f7a-7316-4a8e-8bd2-fdf60c1a4335"
      },
      "source": [
        "weights, biases = model.layers[1].get_weights()\r\n",
        "\r\n",
        "print(weights.shape)\r\n",
        "weights"
      ],
      "execution_count": 13,
      "outputs": [
        {
          "output_type": "stream",
          "text": [
            "(784, 300)\n"
          ],
          "name": "stdout"
        },
        {
          "output_type": "execute_result",
          "data": {
            "text/plain": [
              "array([[ 0.01185548,  0.03785495,  0.02564358, ..., -0.0569337 ,\n",
              "        -0.05094483,  0.0478861 ],\n",
              "       [ 0.00798636,  0.04008186, -0.01994854, ..., -0.04532187,\n",
              "         0.05959325, -0.00253442],\n",
              "       [-0.05348039, -0.0291991 ,  0.07396939, ...,  0.00135602,\n",
              "         0.00373742, -0.03610799],\n",
              "       ...,\n",
              "       [ 0.02593322,  0.01353467, -0.07396735, ..., -0.05302054,\n",
              "         0.06152248, -0.07077888],\n",
              "       [ 0.03123388,  0.00334032,  0.03113235, ...,  0.0715481 ,\n",
              "         0.01162887,  0.04054488],\n",
              "       [-0.0289488 ,  0.05845256,  0.04307881, ..., -0.05818821,\n",
              "         0.00941055, -0.07406262]], dtype=float32)"
            ]
          },
          "metadata": {
            "tags": []
          },
          "execution_count": 13
        }
      ]
    },
    {
      "cell_type": "code",
      "metadata": {
        "colab": {
          "base_uri": "https://localhost:8080/"
        },
        "id": "fhHH6kkzmclp",
        "outputId": "8105f8dd-87ee-4d48-95af-e1c48d26e1d2"
      },
      "source": [
        "print(biases.shape)\r\n",
        "biases"
      ],
      "execution_count": 14,
      "outputs": [
        {
          "output_type": "stream",
          "text": [
            "(300,)\n"
          ],
          "name": "stdout"
        },
        {
          "output_type": "execute_result",
          "data": {
            "text/plain": [
              "array([0., 0., 0., 0., 0., 0., 0., 0., 0., 0., 0., 0., 0., 0., 0., 0., 0.,\n",
              "       0., 0., 0., 0., 0., 0., 0., 0., 0., 0., 0., 0., 0., 0., 0., 0., 0.,\n",
              "       0., 0., 0., 0., 0., 0., 0., 0., 0., 0., 0., 0., 0., 0., 0., 0., 0.,\n",
              "       0., 0., 0., 0., 0., 0., 0., 0., 0., 0., 0., 0., 0., 0., 0., 0., 0.,\n",
              "       0., 0., 0., 0., 0., 0., 0., 0., 0., 0., 0., 0., 0., 0., 0., 0., 0.,\n",
              "       0., 0., 0., 0., 0., 0., 0., 0., 0., 0., 0., 0., 0., 0., 0., 0., 0.,\n",
              "       0., 0., 0., 0., 0., 0., 0., 0., 0., 0., 0., 0., 0., 0., 0., 0., 0.,\n",
              "       0., 0., 0., 0., 0., 0., 0., 0., 0., 0., 0., 0., 0., 0., 0., 0., 0.,\n",
              "       0., 0., 0., 0., 0., 0., 0., 0., 0., 0., 0., 0., 0., 0., 0., 0., 0.,\n",
              "       0., 0., 0., 0., 0., 0., 0., 0., 0., 0., 0., 0., 0., 0., 0., 0., 0.,\n",
              "       0., 0., 0., 0., 0., 0., 0., 0., 0., 0., 0., 0., 0., 0., 0., 0., 0.,\n",
              "       0., 0., 0., 0., 0., 0., 0., 0., 0., 0., 0., 0., 0., 0., 0., 0., 0.,\n",
              "       0., 0., 0., 0., 0., 0., 0., 0., 0., 0., 0., 0., 0., 0., 0., 0., 0.,\n",
              "       0., 0., 0., 0., 0., 0., 0., 0., 0., 0., 0., 0., 0., 0., 0., 0., 0.,\n",
              "       0., 0., 0., 0., 0., 0., 0., 0., 0., 0., 0., 0., 0., 0., 0., 0., 0.,\n",
              "       0., 0., 0., 0., 0., 0., 0., 0., 0., 0., 0., 0., 0., 0., 0., 0., 0.,\n",
              "       0., 0., 0., 0., 0., 0., 0., 0., 0., 0., 0., 0., 0., 0., 0., 0., 0.,\n",
              "       0., 0., 0., 0., 0., 0., 0., 0., 0., 0., 0.], dtype=float32)"
            ]
          },
          "metadata": {
            "tags": []
          },
          "execution_count": 14
        }
      ]
    },
    {
      "cell_type": "code",
      "metadata": {
        "id": "NdrrubaFmhKF"
      },
      "source": [
        "model.compile(loss=keras.losses.sparse_categorical_crossentropy, optimizer=keras.optimizers.SGD(),\r\n",
        "              metrics=[keras.metrics.sparse_categorical_accuracy])"
      ],
      "execution_count": 15,
      "outputs": []
    },
    {
      "cell_type": "code",
      "metadata": {
        "colab": {
          "base_uri": "https://localhost:8080/"
        },
        "id": "JTHi7BEh-X1s",
        "outputId": "02c2bf15-0ac4-46b6-8054-59409300566f"
      },
      "source": [
        "history = model.fit(X_train, y_train, epochs=30, validation_data=(X_valid, y_valid))"
      ],
      "execution_count": 16,
      "outputs": [
        {
          "output_type": "stream",
          "text": [
            "Epoch 1/30\n",
            "1719/1719 [==============================] - 6s 3ms/step - loss: 1.0144 - sparse_categorical_accuracy: 0.6822 - val_loss: 0.5043 - val_sparse_categorical_accuracy: 0.8288\n",
            "Epoch 2/30\n",
            "1719/1719 [==============================] - 5s 3ms/step - loss: 0.5100 - sparse_categorical_accuracy: 0.8223 - val_loss: 0.4628 - val_sparse_categorical_accuracy: 0.8420\n",
            "Epoch 3/30\n",
            "1719/1719 [==============================] - 5s 3ms/step - loss: 0.4599 - sparse_categorical_accuracy: 0.8407 - val_loss: 0.4649 - val_sparse_categorical_accuracy: 0.8438\n",
            "Epoch 4/30\n",
            "1719/1719 [==============================] - 5s 3ms/step - loss: 0.4295 - sparse_categorical_accuracy: 0.8502 - val_loss: 0.4053 - val_sparse_categorical_accuracy: 0.8606\n",
            "Epoch 5/30\n",
            "1719/1719 [==============================] - 5s 3ms/step - loss: 0.3985 - sparse_categorical_accuracy: 0.8613 - val_loss: 0.4060 - val_sparse_categorical_accuracy: 0.8638\n",
            "Epoch 6/30\n",
            "1719/1719 [==============================] - 5s 3ms/step - loss: 0.3823 - sparse_categorical_accuracy: 0.8660 - val_loss: 0.3750 - val_sparse_categorical_accuracy: 0.8688\n",
            "Epoch 7/30\n",
            "1719/1719 [==============================] - 5s 3ms/step - loss: 0.3676 - sparse_categorical_accuracy: 0.8695 - val_loss: 0.3756 - val_sparse_categorical_accuracy: 0.8676\n",
            "Epoch 8/30\n",
            "1719/1719 [==============================] - 5s 3ms/step - loss: 0.3656 - sparse_categorical_accuracy: 0.8700 - val_loss: 0.3766 - val_sparse_categorical_accuracy: 0.8682\n",
            "Epoch 9/30\n",
            "1719/1719 [==============================] - 5s 3ms/step - loss: 0.3520 - sparse_categorical_accuracy: 0.8766 - val_loss: 0.3453 - val_sparse_categorical_accuracy: 0.8776\n",
            "Epoch 10/30\n",
            "1719/1719 [==============================] - 5s 3ms/step - loss: 0.3380 - sparse_categorical_accuracy: 0.8795 - val_loss: 0.3445 - val_sparse_categorical_accuracy: 0.8770\n",
            "Epoch 11/30\n",
            "1719/1719 [==============================] - 5s 3ms/step - loss: 0.3267 - sparse_categorical_accuracy: 0.8837 - val_loss: 0.3553 - val_sparse_categorical_accuracy: 0.8744\n",
            "Epoch 12/30\n",
            "1719/1719 [==============================] - 5s 3ms/step - loss: 0.3245 - sparse_categorical_accuracy: 0.8839 - val_loss: 0.3591 - val_sparse_categorical_accuracy: 0.8708\n",
            "Epoch 13/30\n",
            "1719/1719 [==============================] - 5s 3ms/step - loss: 0.3157 - sparse_categorical_accuracy: 0.8870 - val_loss: 0.3426 - val_sparse_categorical_accuracy: 0.8756\n",
            "Epoch 14/30\n",
            "1719/1719 [==============================] - 5s 3ms/step - loss: 0.3061 - sparse_categorical_accuracy: 0.8870 - val_loss: 0.3248 - val_sparse_categorical_accuracy: 0.8844\n",
            "Epoch 15/30\n",
            "1719/1719 [==============================] - 6s 3ms/step - loss: 0.3002 - sparse_categorical_accuracy: 0.8929 - val_loss: 0.3172 - val_sparse_categorical_accuracy: 0.8864\n",
            "Epoch 16/30\n",
            "1719/1719 [==============================] - 5s 3ms/step - loss: 0.2964 - sparse_categorical_accuracy: 0.8937 - val_loss: 0.3611 - val_sparse_categorical_accuracy: 0.8668\n",
            "Epoch 17/30\n",
            "1719/1719 [==============================] - 5s 3ms/step - loss: 0.2913 - sparse_categorical_accuracy: 0.8941 - val_loss: 0.3359 - val_sparse_categorical_accuracy: 0.8768\n",
            "Epoch 18/30\n",
            "1719/1719 [==============================] - 5s 3ms/step - loss: 0.2828 - sparse_categorical_accuracy: 0.8982 - val_loss: 0.3415 - val_sparse_categorical_accuracy: 0.8758\n",
            "Epoch 19/30\n",
            "1719/1719 [==============================] - 5s 3ms/step - loss: 0.2807 - sparse_categorical_accuracy: 0.8985 - val_loss: 0.3138 - val_sparse_categorical_accuracy: 0.8836\n",
            "Epoch 20/30\n",
            "1719/1719 [==============================] - 5s 3ms/step - loss: 0.2688 - sparse_categorical_accuracy: 0.9028 - val_loss: 0.3110 - val_sparse_categorical_accuracy: 0.8894\n",
            "Epoch 21/30\n",
            "1719/1719 [==============================] - 5s 3ms/step - loss: 0.2666 - sparse_categorical_accuracy: 0.9047 - val_loss: 0.3019 - val_sparse_categorical_accuracy: 0.8878\n",
            "Epoch 22/30\n",
            "1719/1719 [==============================] - 5s 3ms/step - loss: 0.2618 - sparse_categorical_accuracy: 0.9048 - val_loss: 0.3059 - val_sparse_categorical_accuracy: 0.8886\n",
            "Epoch 23/30\n",
            "1719/1719 [==============================] - 5s 3ms/step - loss: 0.2609 - sparse_categorical_accuracy: 0.9044 - val_loss: 0.3176 - val_sparse_categorical_accuracy: 0.8822\n",
            "Epoch 24/30\n",
            "1719/1719 [==============================] - 5s 3ms/step - loss: 0.2566 - sparse_categorical_accuracy: 0.9073 - val_loss: 0.3092 - val_sparse_categorical_accuracy: 0.8894\n",
            "Epoch 25/30\n",
            "1719/1719 [==============================] - 5s 3ms/step - loss: 0.2503 - sparse_categorical_accuracy: 0.9097 - val_loss: 0.3127 - val_sparse_categorical_accuracy: 0.8854\n",
            "Epoch 26/30\n",
            "1719/1719 [==============================] - 5s 3ms/step - loss: 0.2434 - sparse_categorical_accuracy: 0.9118 - val_loss: 0.3238 - val_sparse_categorical_accuracy: 0.8816\n",
            "Epoch 27/30\n",
            "1719/1719 [==============================] - 5s 3ms/step - loss: 0.2485 - sparse_categorical_accuracy: 0.9103 - val_loss: 0.3149 - val_sparse_categorical_accuracy: 0.8830\n",
            "Epoch 28/30\n",
            "1719/1719 [==============================] - 5s 3ms/step - loss: 0.2378 - sparse_categorical_accuracy: 0.9141 - val_loss: 0.3018 - val_sparse_categorical_accuracy: 0.8886\n",
            "Epoch 29/30\n",
            "1719/1719 [==============================] - 5s 3ms/step - loss: 0.2319 - sparse_categorical_accuracy: 0.9158 - val_loss: 0.3070 - val_sparse_categorical_accuracy: 0.8866\n",
            "Epoch 30/30\n",
            "1719/1719 [==============================] - 5s 3ms/step - loss: 0.2331 - sparse_categorical_accuracy: 0.9154 - val_loss: 0.3014 - val_sparse_categorical_accuracy: 0.8912\n"
          ],
          "name": "stdout"
        }
      ]
    },
    {
      "cell_type": "code",
      "metadata": {
        "colab": {
          "base_uri": "https://localhost:8080/"
        },
        "id": "i129hSPn-X43",
        "outputId": "0085e094-80ea-477f-c7df-1d29bdcef206"
      },
      "source": [
        "history.params"
      ],
      "execution_count": 17,
      "outputs": [
        {
          "output_type": "execute_result",
          "data": {
            "text/plain": [
              "{'epochs': 30, 'steps': 1719, 'verbose': 1}"
            ]
          },
          "metadata": {
            "tags": []
          },
          "execution_count": 17
        }
      ]
    },
    {
      "cell_type": "code",
      "metadata": {
        "colab": {
          "base_uri": "https://localhost:8080/",
          "height": 320
        },
        "id": "JRs45jym-X7j",
        "outputId": "ad1ed8e0-2742-4b54-bdb9-df22f20a552b"
      },
      "source": [
        "import pandas as pd\r\n",
        "import matplotlib.pyplot as plt\r\n",
        "\r\n",
        "pd.DataFrame(history.history).plot(figsize=(9,5))\r\n",
        "plt.grid()\r\n",
        "plt.show()"
      ],
      "execution_count": 18,
      "outputs": [
        {
          "output_type": "display_data",
          "data": {
            "image/png": "[encoded data removed]",
            "text/plain": [
              "<Figure size 648x360 with 1 Axes>"
            ]
          },
          "metadata": {
            "tags": [],
            "needs_background": "light"
          }
        }
      ]
    },
    {
      "cell_type": "code",
      "metadata": {
        "colab": {
          "base_uri": "https://localhost:8080/"
        },
        "id": "21XO8SlrLxaH",
        "outputId": "8e6c99a0-7fd9-4fce-ef5a-14df8845815c"
      },
      "source": [
        "model.evaluate(X_test, y_test)"
      ],
      "execution_count": 19,
      "outputs": [
        {
          "output_type": "stream",
          "text": [
            "313/313 [==============================] - 1s 2ms/step - loss: 65.9760 - sparse_categorical_accuracy: 0.8483\n"
          ],
          "name": "stdout"
        },
        {
          "output_type": "execute_result",
          "data": {
            "text/plain": [
              "[65.97604370117188, 0.8482999801635742]"
            ]
          },
          "metadata": {
            "tags": []
          },
          "execution_count": 19
        }
      ]
    },
    {
      "cell_type": "code",
      "metadata": {
        "colab": {
          "base_uri": "https://localhost:8080/"
        },
        "id": "siKFe9scLxdX",
        "outputId": "0bcd0cd3-9e99-4fb9-fafd-c15ebeb27a3c"
      },
      "source": [
        "val = X_test[:3]\r\n",
        "\r\n",
        "y_pred = model.predict(val)\r\n",
        "\r\n",
        "y_pred"
      ],
      "execution_count": 20,
      "outputs": [
        {
          "output_type": "execute_result",
          "data": {
            "text/plain": [
              "array([[0., 0., 0., 0., 0., 0., 0., 0., 0., 1.],\n",
              "       [0., 0., 1., 0., 0., 0., 0., 0., 0., 0.],\n",
              "       [0., 1., 0., 0., 0., 0., 0., 0., 0., 0.]], dtype=float32)"
            ]
          },
          "metadata": {
            "tags": []
          },
          "execution_count": 20
        }
      ]
    },
    {
      "cell_type": "code",
      "metadata": {
        "colab": {
          "base_uri": "https://localhost:8080/"
        },
        "id": "z_K5QV2iLxgP",
        "outputId": "650d2982-eea4-41d4-c851-ece6d10ed862"
      },
      "source": [
        "import numpy as np\r\n",
        "\r\n",
        "np.array(model.predict_classes(val))"
      ],
      "execution_count": 21,
      "outputs": [
        {
          "output_type": "stream",
          "text": [
            "/usr/local/lib/python3.7/dist-packages/tensorflow/python/keras/engine/sequential.py:450: UserWarning: `model.predict_classes()` is deprecated and will be removed after 2021-01-01. Please use instead:* `np.argmax(model.predict(x), axis=-1)`,   if your model does multi-class classification   (e.g. if it uses a `softmax` last-layer activation).* `(model.predict(x) > 0.5).astype(\"int32\")`,   if your model does binary classification   (e.g. if it uses a `sigmoid` last-layer activation).\n",
            "  warnings.warn('`model.predict_classes()` is deprecated and '\n"
          ],
          "name": "stderr"
        },
        {
          "output_type": "execute_result",
          "data": {
            "text/plain": [
              "array([9, 2, 1])"
            ]
          },
          "metadata": {
            "tags": []
          },
          "execution_count": 21
        }
      ]
    },
    {
      "cell_type": "code",
      "metadata": {
        "id": "LTRJU98-y3wx",
        "outputId": "5e4b6f73-8b40-4213-a33a-a88ab90d12f6",
        "colab": {
          "base_uri": "https://localhost:8080/"
        }
      },
      "source": [
        "from sklearn.datasets import fetch_california_housing\r\n",
        "from sklearn.model_selection import train_test_split\r\n",
        "from sklearn.preprocessing import StandardScaler\r\n",
        "\r\n",
        "dta = fetch_california_housing()\r\n",
        "\r\n",
        "X_train, X_, y_train, y_ = train_test_split(dta.data, dta.target, train_size=0.7)\r\n",
        "X_test, X_val, y_test, y_val = train_test_split(X_, y_, test_size=0.5)"
      ],
      "execution_count": 22,
      "outputs": [
        {
          "output_type": "stream",
          "text": [
            "Downloading Cal. housing from https://ndownloader.figshare.com/files/5976036 to /root/scikit_learn_data\n"
          ],
          "name": "stderr"
        }
      ]
    },
    {
      "cell_type": "code",
      "metadata": {
        "id": "wY9_aPY5y30f"
      },
      "source": [
        "scaler = StandardScaler().fit(X_train)\r\n",
        "\r\n",
        "X_train = scaler.transform(X_train)\r\n",
        "X_test = scaler.transform(X_test)\r\n",
        "X_val = scaler.transform(X_val)"
      ],
      "execution_count": 23,
      "outputs": []
    },
    {
      "cell_type": "code",
      "metadata": {
        "colab": {
          "base_uri": "https://localhost:8080/"
        },
        "id": "EpAM6PdF1b4a",
        "outputId": "dc488944-f454-4412-cd42-1b76260c0834"
      },
      "source": [
        "X_train.shape, X_test.shape, X_val.shape\r\n",
        "\r\n",
        "#y_train.shape, y_test.shape, y_val.shape"
      ],
      "execution_count": 24,
      "outputs": [
        {
          "output_type": "execute_result",
          "data": {
            "text/plain": [
              "((14447, 8), (3096, 8), (3097, 8))"
            ]
          },
          "metadata": {
            "tags": []
          },
          "execution_count": 24
        }
      ]
    },
    {
      "cell_type": "code",
      "metadata": {
        "colab": {
          "base_uri": "https://localhost:8080/"
        },
        "id": "0_bqpIqsy33J",
        "outputId": "13a1a059-8e47-47ac-a81e-105788f1486b"
      },
      "source": [
        "reg_model = keras.models.Sequential([keras.layers.Dense(30, activation=keras.activations.elu, input_shape=X_train.shape[1:]),\r\n",
        "                                     keras.layers.Dense(1)])\r\n",
        "\r\n",
        "reg_model.compile(loss=keras.losses.mean_squared_error, optimizer=keras.optimizers.SGD(nesterov=True), metrics=[keras.metrics.mean_squared_error])\r\n",
        "history = reg_model.fit(X_train, y_train, epochs=20, validation_data=(X_val, y_val))\r\n"
      ],
      "execution_count": 25,
      "outputs": [
        {
          "output_type": "stream",
          "text": [
            "Epoch 1/20\n",
            "452/452 [==============================] - 1s 2ms/step - loss: 1.1622 - mean_squared_error: 1.1622 - val_loss: 0.5217 - val_mean_squared_error: 0.5217\n",
            "Epoch 2/20\n",
            "452/452 [==============================] - 1s 1ms/step - loss: 1.0976 - mean_squared_error: 1.0976 - val_loss: 0.5103 - val_mean_squared_error: 0.5103\n",
            "Epoch 3/20\n",
            "452/452 [==============================] - 1s 1ms/step - loss: 0.4796 - mean_squared_error: 0.4796 - val_loss: 0.4435 - val_mean_squared_error: 0.4435\n",
            "Epoch 4/20\n",
            "452/452 [==============================] - 1s 1ms/step - loss: 0.4576 - mean_squared_error: 0.4576 - val_loss: 0.4407 - val_mean_squared_error: 0.4407\n",
            "Epoch 5/20\n",
            "452/452 [==============================] - 1s 1ms/step - loss: 0.4427 - mean_squared_error: 0.4427 - val_loss: 0.4405 - val_mean_squared_error: 0.4405\n",
            "Epoch 6/20\n",
            "452/452 [==============================] - 1s 1ms/step - loss: 0.4422 - mean_squared_error: 0.4422 - val_loss: 0.4265 - val_mean_squared_error: 0.4265\n",
            "Epoch 7/20\n",
            "452/452 [==============================] - 1s 1ms/step - loss: 0.4300 - mean_squared_error: 0.4300 - val_loss: 0.4237 - val_mean_squared_error: 0.4237\n",
            "Epoch 8/20\n",
            "452/452 [==============================] - 1s 1ms/step - loss: 0.4319 - mean_squared_error: 0.4319 - val_loss: 0.4142 - val_mean_squared_error: 0.4142\n",
            "Epoch 9/20\n",
            "452/452 [==============================] - 1s 1ms/step - loss: 0.4271 - mean_squared_error: 0.4271 - val_loss: 0.4145 - val_mean_squared_error: 0.4145\n",
            "Epoch 10/20\n",
            "452/452 [==============================] - 1s 1ms/step - loss: 0.4199 - mean_squared_error: 0.4199 - val_loss: 0.4054 - val_mean_squared_error: 0.4054\n",
            "Epoch 11/20\n",
            "452/452 [==============================] - 1s 1ms/step - loss: 0.4193 - mean_squared_error: 0.4193 - val_loss: 0.4036 - val_mean_squared_error: 0.4036\n",
            "Epoch 12/20\n",
            "452/452 [==============================] - 1s 1ms/step - loss: 0.3943 - mean_squared_error: 0.3943 - val_loss: 0.4032 - val_mean_squared_error: 0.4032\n",
            "Epoch 13/20\n",
            "452/452 [==============================] - 1s 1ms/step - loss: 0.4052 - mean_squared_error: 0.4052 - val_loss: 0.3964 - val_mean_squared_error: 0.3964\n",
            "Epoch 14/20\n",
            "452/452 [==============================] - 1s 1ms/step - loss: 0.4129 - mean_squared_error: 0.4129 - val_loss: 0.3918 - val_mean_squared_error: 0.3918\n",
            "Epoch 15/20\n",
            "452/452 [==============================] - 1s 1ms/step - loss: 0.4158 - mean_squared_error: 0.4158 - val_loss: 0.3919 - val_mean_squared_error: 0.3919\n",
            "Epoch 16/20\n",
            "452/452 [==============================] - 1s 1ms/step - loss: 0.4149 - mean_squared_error: 0.4149 - val_loss: 0.4033 - val_mean_squared_error: 0.4033\n",
            "Epoch 17/20\n",
            "452/452 [==============================] - 1s 1ms/step - loss: 0.4139 - mean_squared_error: 0.4139 - val_loss: 0.3856 - val_mean_squared_error: 0.3856\n",
            "Epoch 18/20\n",
            "452/452 [==============================] - 1s 1ms/step - loss: 0.3910 - mean_squared_error: 0.3910 - val_loss: 0.4054 - val_mean_squared_error: 0.4054\n",
            "Epoch 19/20\n",
            "452/452 [==============================] - 1s 1ms/step - loss: 0.3815 - mean_squared_error: 0.3815 - val_loss: 0.3945 - val_mean_squared_error: 0.3945\n",
            "Epoch 20/20\n",
            "452/452 [==============================] - 1s 1ms/step - loss: 0.3986 - mean_squared_error: 0.3986 - val_loss: 0.3811 - val_mean_squared_error: 0.3811\n"
          ],
          "name": "stdout"
        }
      ]
    },
    {
      "cell_type": "code",
      "metadata": {
        "id": "fOSorb7_y4Bw"
      },
      "source": [
        "_input = keras.layers.Input(shape=X_train.shape[1:])\r\n",
        "hidden_1 = keras.layers.Dense(30, activation=keras.activations.elu)(_input)\r\n",
        "hidden_2 = keras.layers.Dense(30, activation=keras.activations.relu)(hidden_1)\r\n",
        "\r\n",
        "concat = keras.layers.Concatenate()([_input, hidden_2])\r\n",
        "output = keras.layers.Dense(1)(concat)\r\n",
        "\r\n",
        "model = keras.Model(inputs=[_input], outputs=[output])"
      ],
      "execution_count": 26,
      "outputs": []
    },
    {
      "cell_type": "code",
      "metadata": {
        "id": "9VtbkB0jiV_c"
      },
      "source": [
        ""
      ],
      "execution_count": 26,
      "outputs": []
    },
    {
      "cell_type": "code",
      "metadata": {
        "id": "FLMeQzT3y4Gw"
      },
      "source": [
        "Ainput = keras.layers.Input(shape=[5], name='wide input')\r\n",
        "Binput = keras.layers.Input(shape=[6], name='deep input')\r\n",
        "\r\n",
        "hidden_1 = keras.layers.Dense(30, activation=keras.activations.elu)(Binput)\r\n",
        "hidden_2 = keras.layers.Dense(30, activation=keras.activations.relu)(hidden_1)\r\n",
        "\r\n",
        "concat = keras.layers.concatenate([Ainput, hidden_2])\r\n",
        "output = keras.layers.Dense(1, name='output')(concat)\r\n",
        "\r\n",
        "model = keras.Model(inputs=[Ainput, Binput], outputs=output)"
      ],
      "execution_count": 66,
      "outputs": []
    },
    {
      "cell_type": "code",
      "metadata": {
        "id": "MfAe-8bZy4Jc",
        "colab": {
          "base_uri": "https://localhost:8080/"
        },
        "outputId": "100845d5-e129-4a4f-c6c1-1bbe5f4fa6f4"
      },
      "source": [
        "# Esto evita el overfitting es como una regularizacion\r\n",
        "model.compile(optimizer=keras.optimizers.SGD(learning_rate=0.001), loss=keras.losses.mean_squared_error, metrics=[keras.metrics.mean_squared_error])\r\n",
        "\r\n",
        "X_trainA, X_trainB = X_train[:, :5], X_train[:, 2:]\r\n",
        "X_testA, X_testB = X_test[:, :5], X_test[:, 2:]\r\n",
        "X_valA, X_valB = X_val[:,:5], X_val[:,2:]\r\n",
        "\r\n",
        "X_newA, X_newB = X_testA[:3], X_testB[:3]\r\n",
        "\r\n",
        "history = model.fit((X_trainA, X_trainB), y_train, epochs=20, validation_data=((X_valA, X_valB), y_val))"
      ],
      "execution_count": 67,
      "outputs": [
        {
          "output_type": "stream",
          "text": [
            "Epoch 1/20\n",
            "452/452 [==============================] - 1s 2ms/step - loss: 3.2200 - mean_squared_error: 3.2200 - val_loss: 0.7281 - val_mean_squared_error: 0.7281\n",
            "Epoch 2/20\n",
            "452/452 [==============================] - 1s 1ms/step - loss: 0.6776 - mean_squared_error: 0.6776 - val_loss: 0.5924 - val_mean_squared_error: 0.5924\n",
            "Epoch 3/20\n",
            "452/452 [==============================] - 1s 1ms/step - loss: 0.5946 - mean_squared_error: 0.5946 - val_loss: 0.5426 - val_mean_squared_error: 0.5426\n",
            "Epoch 4/20\n",
            "452/452 [==============================] - 1s 1ms/step - loss: 0.5500 - mean_squared_error: 0.5500 - val_loss: 0.5132 - val_mean_squared_error: 0.5132\n",
            "Epoch 5/20\n",
            "452/452 [==============================] - 1s 1ms/step - loss: 0.5304 - mean_squared_error: 0.5304 - val_loss: 0.4952 - val_mean_squared_error: 0.4952\n",
            "Epoch 6/20\n",
            "452/452 [==============================] - 1s 1ms/step - loss: 0.5052 - mean_squared_error: 0.5052 - val_loss: 0.4849 - val_mean_squared_error: 0.4849\n",
            "Epoch 7/20\n",
            "452/452 [==============================] - 1s 1ms/step - loss: 0.5050 - mean_squared_error: 0.5050 - val_loss: 0.4765 - val_mean_squared_error: 0.4765\n",
            "Epoch 8/20\n",
            "452/452 [==============================] - 1s 1ms/step - loss: 0.4829 - mean_squared_error: 0.4829 - val_loss: 0.4698 - val_mean_squared_error: 0.4698\n",
            "Epoch 9/20\n",
            "452/452 [==============================] - 1s 1ms/step - loss: 0.4925 - mean_squared_error: 0.4925 - val_loss: 0.4659 - val_mean_squared_error: 0.4659\n",
            "Epoch 10/20\n",
            "452/452 [==============================] - 1s 1ms/step - loss: 0.4676 - mean_squared_error: 0.4676 - val_loss: 0.4621 - val_mean_squared_error: 0.4621\n",
            "Epoch 11/20\n",
            "452/452 [==============================] - 1s 1ms/step - loss: 0.4760 - mean_squared_error: 0.4760 - val_loss: 0.4595 - val_mean_squared_error: 0.4595\n",
            "Epoch 12/20\n",
            "452/452 [==============================] - 1s 1ms/step - loss: 0.4672 - mean_squared_error: 0.4672 - val_loss: 0.4588 - val_mean_squared_error: 0.4588\n",
            "Epoch 13/20\n",
            "452/452 [==============================] - 1s 1ms/step - loss: 0.4652 - mean_squared_error: 0.4652 - val_loss: 0.4574 - val_mean_squared_error: 0.4574\n",
            "Epoch 14/20\n",
            "452/452 [==============================] - 1s 1ms/step - loss: 0.4593 - mean_squared_error: 0.4593 - val_loss: 0.4530 - val_mean_squared_error: 0.4530\n",
            "Epoch 15/20\n",
            "452/452 [==============================] - 1s 1ms/step - loss: 0.4753 - mean_squared_error: 0.4753 - val_loss: 0.4509 - val_mean_squared_error: 0.4509\n",
            "Epoch 16/20\n",
            "452/452 [==============================] - 1s 1ms/step - loss: 0.4608 - mean_squared_error: 0.4608 - val_loss: 0.4485 - val_mean_squared_error: 0.4485\n",
            "Epoch 17/20\n",
            "452/452 [==============================] - 1s 1ms/step - loss: 0.4782 - mean_squared_error: 0.4782 - val_loss: 0.4481 - val_mean_squared_error: 0.4481\n",
            "Epoch 18/20\n",
            "452/452 [==============================] - 1s 1ms/step - loss: 0.4562 - mean_squared_error: 0.4562 - val_loss: 0.4452 - val_mean_squared_error: 0.4452\n",
            "Epoch 19/20\n",
            "452/452 [==============================] - 1s 1ms/step - loss: 0.4645 - mean_squared_error: 0.4645 - val_loss: 0.4451 - val_mean_squared_error: 0.4451\n",
            "Epoch 20/20\n",
            "452/452 [==============================] - 1s 1ms/step - loss: 0.4647 - mean_squared_error: 0.4647 - val_loss: 0.4447 - val_mean_squared_error: 0.4447\n"
          ],
          "name": "stdout"
        }
      ]
    },
    {
      "cell_type": "code",
      "metadata": {
        "id": "12iQAg1uy4Mh",
        "colab": {
          "base_uri": "https://localhost:8080/",
          "height": 320
        },
        "outputId": "57469d0b-07cd-4150-b7a0-ed152c3fda63"
      },
      "source": [
        "pd.DataFrame(history.history).plot(figsize=(9,5))\r\n",
        "plt.grid()\r\n",
        "plt.show()"
      ],
      "execution_count": 68,
      "outputs": [
        {
          "output_type": "display_data",
          "data": {
            "image/png": "[encoded data removed]",
            "text/plain": [
              "<Figure size 648x360 with 1 Axes>"
            ]
          },
          "metadata": {
            "tags": [],
            "needs_background": "light"
          }
        }
      ]
    },
    {
      "cell_type": "code",
      "metadata": {
        "colab": {
          "base_uri": "https://localhost:8080/"
        },
        "id": "fX-5GZhEi58S",
        "outputId": "8538a1b1-8b0d-4c3c-b0e2-95e3ff96ad69"
      },
      "source": [
        "pd.DataFrame(history.history)['loss']"
      ],
      "execution_count": 69,
      "outputs": [
        {
          "output_type": "execute_result",
          "data": {
            "text/plain": [
              "0     1.829689\n",
              "1     0.657742\n",
              "2     0.574593\n",
              "3     0.538609\n",
              "4     0.518491\n",
              "5     0.504721\n",
              "6     0.496050\n",
              "7     0.489609\n",
              "8     0.484201\n",
              "9     0.480436\n",
              "10    0.477343\n",
              "11    0.474062\n",
              "12    0.471053\n",
              "13    0.468865\n",
              "14    0.466231\n",
              "15    0.464650\n",
              "16    0.462163\n",
              "17    0.460016\n",
              "18    0.458111\n",
              "19    0.456341\n",
              "Name: loss, dtype: float64"
            ]
          },
          "metadata": {
            "tags": []
          },
          "execution_count": 69
        }
      ]
    },
    {
      "cell_type": "code",
      "metadata": {
        "colab": {
          "base_uri": "https://localhost:8080/"
        },
        "id": "iIFs5P2WkTSh",
        "outputId": "0c71f1a1-9a92-49c5-bde1-cf43fdf74816"
      },
      "source": [
        "mse_test = model.evaluate((X_testA, X_testB), y_test)"
      ],
      "execution_count": 70,
      "outputs": [
        {
          "output_type": "stream",
          "text": [
            "97/97 [==============================] - 0s 1ms/step - loss: 0.4704 - mean_squared_error: 0.4704\n"
          ],
          "name": "stdout"
        }
      ]
    },
    {
      "cell_type": "code",
      "metadata": {
        "id": "wbRT6eIGkTVa",
        "colab": {
          "base_uri": "https://localhost:8080/"
        },
        "outputId": "08dbf7bb-c53d-4860-dfb9-7cfb7f7c4a35"
      },
      "source": [
        "y_pred = model.predict((X_newA, X_newB))"
      ],
      "execution_count": 71,
      "outputs": [
        {
          "output_type": "stream",
          "text": [
            "WARNING:tensorflow:5 out of the last 6 calls to <function Model.make_predict_function.<locals>.predict_function at 0x7fb3cd7703b0> triggered tf.function retracing. Tracing is expensive and the excessive number of tracings could be due to (1) creating @tf.function repeatedly in a loop, (2) passing tensors with different shapes, (3) passing Python objects instead of tensors. For (1), please define your @tf.function outside of the loop. For (2), @tf.function has experimental_relax_shapes=True option that relaxes argument shapes that can avoid unnecessary retracing. For (3), please refer to https://www.tensorflow.org/guide/function#controlling_retracing and https://www.tensorflow.org/api_docs/python/tf/function for  more details.\n"
          ],
          "name": "stdout"
        }
      ]
    },
    {
      "cell_type": "code",
      "metadata": {
        "colab": {
          "base_uri": "https://localhost:8080/"
        },
        "id": "-hhL6XtTkTYs",
        "outputId": "ad7b43e4-3907-4d0e-9c47-e65803ff8f07"
      },
      "source": [
        "y_test[:3]"
      ],
      "execution_count": 72,
      "outputs": [
        {
          "output_type": "execute_result",
          "data": {
            "text/plain": [
              "array([1.607, 2.47 , 0.973])"
            ]
          },
          "metadata": {
            "tags": []
          },
          "execution_count": 72
        }
      ]
    },
    {
      "cell_type": "code",
      "metadata": {
        "colab": {
          "base_uri": "https://localhost:8080/"
        },
        "id": "VOdRkM-tkqp_",
        "outputId": "a1263160-d21d-4ed9-ab1e-ee1f89796860"
      },
      "source": [
        "y_pred"
      ],
      "execution_count": 75,
      "outputs": [
        {
          "output_type": "execute_result",
          "data": {
            "text/plain": [
              "array([[1.7487915],\n",
              "       [2.0847092],\n",
              "       [1.5529482]], dtype=float32)"
            ]
          },
          "metadata": {
            "tags": []
          },
          "execution_count": 75
        }
      ]
    },
    {
      "cell_type": "code",
      "metadata": {
        "id": "EvUzn7NyxoRV"
      },
      "source": [
        "# NN con output auxiliar\r\n",
        "output = keras.layers.Dense(1, name='main_output')(concat)\r\n",
        "aux_output = keras.layers.Dense(1, name='aux_output')(hidden_2)\r\n",
        "\r\n",
        "model = keras.Model(inputs=[Ainput, Binput], outputs=[output, aux_output])"
      ],
      "execution_count": 83,
      "outputs": []
    },
    {
      "cell_type": "code",
      "metadata": {
        "id": "OCMlKf6TxoT5"
      },
      "source": [
        "model.compile(loss=[keras.losses.mean_squared_error, keras.losses.mean_squared_error],\r\n",
        "              loss_weights=[0.9, 0.1], optimizer=keras.optimizers.SGD(learning_rate=0.001))"
      ],
      "execution_count": 84,
      "outputs": []
    },
    {
      "cell_type": "code",
      "metadata": {
        "colab": {
          "base_uri": "https://localhost:8080/"
        },
        "id": "UuICesAU0Iz3",
        "outputId": "83bb16b7-e406-4e67-de6e-6a2f5174a0db"
      },
      "source": [
        "history = model.fit([X_trainA, X_trainB], [y_train, y_train], epochs=20, validation_data=([X_valA, X_valB], [y_val, y_val]))"
      ],
      "execution_count": 85,
      "outputs": [
        {
          "output_type": "stream",
          "text": [
            "Epoch 1/20\n",
            "452/452 [==============================] - 1s 2ms/step - loss: 3.4517 - main_output_loss: 3.2751 - aux_output_loss: 5.0413 - val_loss: 0.9536 - val_main_output_loss: 0.7723 - val_aux_output_loss: 2.5856\n",
            "Epoch 2/20\n",
            "452/452 [==============================] - 1s 2ms/step - loss: 0.8905 - main_output_loss: 0.7327 - aux_output_loss: 2.3109 - val_loss: 0.7033 - val_main_output_loss: 0.6046 - val_aux_output_loss: 1.5917\n",
            "Epoch 3/20\n",
            "452/452 [==============================] - 1s 2ms/step - loss: 0.7048 - main_output_loss: 0.6175 - aux_output_loss: 1.4909 - val_loss: 0.6177 - val_main_output_loss: 0.5480 - val_aux_output_loss: 1.2452\n",
            "Epoch 4/20\n",
            "452/452 [==============================] - 1s 1ms/step - loss: 0.6186 - main_output_loss: 0.5516 - aux_output_loss: 1.2217 - val_loss: 0.5761 - val_main_output_loss: 0.5164 - val_aux_output_loss: 1.1134\n",
            "Epoch 5/20\n",
            "452/452 [==============================] - 1s 2ms/step - loss: 0.5903 - main_output_loss: 0.5353 - aux_output_loss: 1.0854 - val_loss: 0.5541 - val_main_output_loss: 0.4987 - val_aux_output_loss: 1.0523\n",
            "Epoch 6/20\n",
            "452/452 [==============================] - 1s 2ms/step - loss: 0.5673 - main_output_loss: 0.5131 - aux_output_loss: 1.0557 - val_loss: 0.5368 - val_main_output_loss: 0.4843 - val_aux_output_loss: 1.0093\n",
            "Epoch 7/20\n",
            "452/452 [==============================] - 1s 1ms/step - loss: 0.5508 - main_output_loss: 0.4966 - aux_output_loss: 1.0380 - val_loss: 0.5252 - val_main_output_loss: 0.4750 - val_aux_output_loss: 0.9770\n",
            "Epoch 8/20\n",
            "452/452 [==============================] - 1s 2ms/step - loss: 0.5222 - main_output_loss: 0.4731 - aux_output_loss: 0.9640 - val_loss: 0.5152 - val_main_output_loss: 0.4679 - val_aux_output_loss: 0.9411\n",
            "Epoch 9/20\n",
            "452/452 [==============================] - 1s 2ms/step - loss: 0.5397 - main_output_loss: 0.4925 - aux_output_loss: 0.9643 - val_loss: 0.5082 - val_main_output_loss: 0.4633 - val_aux_output_loss: 0.9125\n",
            "Epoch 10/20\n",
            "452/452 [==============================] - 1s 2ms/step - loss: 0.5268 - main_output_loss: 0.4823 - aux_output_loss: 0.9274 - val_loss: 0.4990 - val_main_output_loss: 0.4564 - val_aux_output_loss: 0.8822\n",
            "Epoch 11/20\n",
            "452/452 [==============================] - 1s 1ms/step - loss: 0.5081 - main_output_loss: 0.4659 - aux_output_loss: 0.8875 - val_loss: 0.4955 - val_main_output_loss: 0.4548 - val_aux_output_loss: 0.8617\n",
            "Epoch 12/20\n",
            "452/452 [==============================] - 1s 2ms/step - loss: 0.5313 - main_output_loss: 0.4905 - aux_output_loss: 0.8978 - val_loss: 0.4902 - val_main_output_loss: 0.4509 - val_aux_output_loss: 0.8438\n",
            "Epoch 13/20\n",
            "452/452 [==============================] - 1s 2ms/step - loss: 0.5112 - main_output_loss: 0.4701 - aux_output_loss: 0.8817 - val_loss: 0.4845 - val_main_output_loss: 0.4462 - val_aux_output_loss: 0.8296\n",
            "Epoch 14/20\n",
            "452/452 [==============================] - 1s 2ms/step - loss: 0.5030 - main_output_loss: 0.4636 - aux_output_loss: 0.8575 - val_loss: 0.4816 - val_main_output_loss: 0.4447 - val_aux_output_loss: 0.8137\n",
            "Epoch 15/20\n",
            "452/452 [==============================] - 1s 2ms/step - loss: 0.5044 - main_output_loss: 0.4657 - aux_output_loss: 0.8527 - val_loss: 0.4779 - val_main_output_loss: 0.4420 - val_aux_output_loss: 0.8008\n",
            "Epoch 16/20\n",
            "452/452 [==============================] - 1s 2ms/step - loss: 0.4915 - main_output_loss: 0.4556 - aux_output_loss: 0.8146 - val_loss: 0.4733 - val_main_output_loss: 0.4384 - val_aux_output_loss: 0.7880\n",
            "Epoch 17/20\n",
            "452/452 [==============================] - 1s 2ms/step - loss: 0.4952 - main_output_loss: 0.4588 - aux_output_loss: 0.8227 - val_loss: 0.4711 - val_main_output_loss: 0.4371 - val_aux_output_loss: 0.7773\n",
            "Epoch 18/20\n",
            "452/452 [==============================] - 1s 2ms/step - loss: 0.4822 - main_output_loss: 0.4468 - aux_output_loss: 0.8011 - val_loss: 0.4704 - val_main_output_loss: 0.4376 - val_aux_output_loss: 0.7655\n",
            "Epoch 19/20\n",
            "452/452 [==============================] - 1s 2ms/step - loss: 0.4748 - main_output_loss: 0.4415 - aux_output_loss: 0.7739 - val_loss: 0.4673 - val_main_output_loss: 0.4351 - val_aux_output_loss: 0.7570\n",
            "Epoch 20/20\n",
            "452/452 [==============================] - 1s 2ms/step - loss: 0.4809 - main_output_loss: 0.4481 - aux_output_loss: 0.7761 - val_loss: 0.4628 - val_main_output_loss: 0.4312 - val_aux_output_loss: 0.7473\n"
          ],
          "name": "stdout"
        }
      ]
    },
    {
      "cell_type": "code",
      "metadata": {
        "colab": {
          "base_uri": "https://localhost:8080/",
          "height": 320
        },
        "id": "OTZpv99G1QHt",
        "outputId": "16c8d5d0-959b-46e4-b1d1-f7608229a21e"
      },
      "source": [
        "pd.DataFrame(history.history).plot(figsize=(14,5))\r\n",
        "plt.grid()\r\n",
        "plt.show()"
      ],
      "execution_count": 86,
      "outputs": [
        {
          "output_type": "display_data",
          "data": {
            "image/png": "[encoded data removed]",
            "text/plain": [
              "<Figure size 1008x360 with 1 Axes>"
            ]
          },
          "metadata": {
            "tags": [],
            "needs_background": "light"
          }
        }
      ]
    },
    {
      "cell_type": "code",
      "metadata": {
        "colab": {
          "base_uri": "https://localhost:8080/"
        },
        "id": "SY-aohIR1QLF",
        "outputId": "ac6977e8-5b4d-4191-c8d8-44512ecf6bef"
      },
      "source": [
        "total_loss, main_loss, aux_loss = model.evaluate([X_testA, X_testB], [y_test, y_test])"
      ],
      "execution_count": 87,
      "outputs": [
        {
          "output_type": "stream",
          "text": [
            "97/97 [==============================] - 0s 1ms/step - loss: 0.4961 - main_output_loss: 0.4628 - aux_output_loss: 0.7960\n"
          ],
          "name": "stdout"
        }
      ]
    },
    {
      "cell_type": "code",
      "metadata": {
        "colab": {
          "base_uri": "https://localhost:8080/"
        },
        "id": "q9CoBs--1QNi",
        "outputId": "d9452202-b1b0-4e71-db8e-5b31a24c9a0a"
      },
      "source": [
        "total_loss, main_loss, aux_loss"
      ],
      "execution_count": 88,
      "outputs": [
        {
          "output_type": "execute_result",
          "data": {
            "text/plain": [
              "(0.49608010053634644, 0.462756872177124, 0.7959904670715332)"
            ]
          },
          "metadata": {
            "tags": []
          },
          "execution_count": 88
        }
      ]
    },
    {
      "cell_type": "code",
      "metadata": {
        "colab": {
          "base_uri": "https://localhost:8080/"
        },
        "id": "6iYbwQJj2spL",
        "outputId": "e8d27840-3ac9-4c2d-ae09-b8cd6743520d"
      },
      "source": [
        "y_pred, y_pred_aux = model.predict([X_newA, X_newB])"
      ],
      "execution_count": 89,
      "outputs": [
        {
          "output_type": "stream",
          "text": [
            "WARNING:tensorflow:6 out of the last 7 calls to <function Model.make_predict_function.<locals>.predict_function at 0x7fb3d43989e0> triggered tf.function retracing. Tracing is expensive and the excessive number of tracings could be due to (1) creating @tf.function repeatedly in a loop, (2) passing tensors with different shapes, (3) passing Python objects instead of tensors. For (1), please define your @tf.function outside of the loop. For (2), @tf.function has experimental_relax_shapes=True option that relaxes argument shapes that can avoid unnecessary retracing. For (3), please refer to https://www.tensorflow.org/guide/function#controlling_retracing and https://www.tensorflow.org/api_docs/python/tf/function for  more details.\n"
          ],
          "name": "stdout"
        }
      ]
    },
    {
      "cell_type": "code",
      "metadata": {
        "colab": {
          "base_uri": "https://localhost:8080/"
        },
        "id": "U8XuWZhD20Xe",
        "outputId": "3b224fa5-fe21-49f8-cd70-0904a6f9a644"
      },
      "source": [
        "y_pred"
      ],
      "execution_count": 90,
      "outputs": [
        {
          "output_type": "execute_result",
          "data": {
            "text/plain": [
              "array([[1.7351187],\n",
              "       [2.213303 ],\n",
              "       [1.4408445]], dtype=float32)"
            ]
          },
          "metadata": {
            "tags": []
          },
          "execution_count": 90
        }
      ]
    },
    {
      "cell_type": "code",
      "metadata": {
        "colab": {
          "base_uri": "https://localhost:8080/"
        },
        "id": "iDd_2MJF22lI",
        "outputId": "dfd33c49-a762-450c-9b3f-4dace8bf3d66"
      },
      "source": [
        "y_pred_aux"
      ],
      "execution_count": 91,
      "outputs": [
        {
          "output_type": "execute_result",
          "data": {
            "text/plain": [
              "array([[2.1101046],\n",
              "       [2.8149686],\n",
              "       [2.17874  ]], dtype=float32)"
            ]
          },
          "metadata": {
            "tags": []
          },
          "execution_count": 91
        }
      ]
    },
    {
      "cell_type": "code",
      "metadata": {
        "colab": {
          "base_uri": "https://localhost:8080/"
        },
        "id": "cS8hz3nf26Qp",
        "outputId": "1d119962-0ae4-4ac3-d773-42fd1904932c"
      },
      "source": [
        "y_test[:3]"
      ],
      "execution_count": 92,
      "outputs": [
        {
          "output_type": "execute_result",
          "data": {
            "text/plain": [
              "array([1.607, 2.47 , 0.973])"
            ]
          },
          "metadata": {
            "tags": []
          },
          "execution_count": 92
        }
      ]
    },
    {
      "cell_type": "code",
      "metadata": {
        "id": "GRct2ENj7J-b"
      },
      "source": [
        ""
      ],
      "execution_count": 44,
      "outputs": []
    },
    {
      "cell_type": "code",
      "metadata": {
        "id": "sFMQlEQOSSdI"
      },
      "source": [
        "class WideandDeepModel(keras.Model):\r\n",
        "\r\n",
        "  def __init__(self, units=30, activation='relu', **kwargs):\r\n",
        "\r\n",
        "    super().__init__(**kwargs)\r\n",
        "    self.hidden_1 = keras.layers.Dense(units, activation=activation)\r\n",
        "    self.hidden_2 = keras.layers.Dense(units, activation=activation)\r\n",
        "\r\n",
        "    self.main_output = keras.layers.Dense(1)\r\n",
        "    self.aux_output = keras.layers.Dense(1)\r\n",
        "\r\n",
        "  \r\n",
        "  def call(self, inputs):\r\n",
        "\r\n",
        "    input_A, input_B = inputs # inputs de seguro es una lista\r\n",
        "    hidden_1 = self.hidden_1(input_B)\r\n",
        "    hidden_2 = self.hidden_2(hidden_1)\r\n",
        "    \r\n",
        "    concat = keras.layers.concatenate([input_A, hidden_2])\r\n",
        "\r\n",
        "    main_output = self.main_output(concat)\r\n",
        "    aux_output = self.aux_output(hidden_2)\r\n",
        "    \r\n",
        "    return main_output, aux_output"
      ],
      "execution_count": 110,
      "outputs": []
    },
    {
      "cell_type": "code",
      "metadata": {
        "id": "3uVyvidcSSgQ"
      },
      "source": [
        "model = WideandDeepModel()"
      ],
      "execution_count": 112,
      "outputs": []
    },
    {
      "cell_type": "code",
      "metadata": {
        "id": "1NsOVoe9SSjA"
      },
      "source": [
        "main_output, aux_output = model.call([X_trainA, X_trainB])"
      ],
      "execution_count": 113,
      "outputs": []
    },
    {
      "cell_type": "code",
      "metadata": {
        "colab": {
          "base_uri": "https://localhost:8080/"
        },
        "id": "Ipj1CVGGeybM",
        "outputId": "501ccc16-b01f-4987-e931-f3eb98231205"
      },
      "source": [
        "main_output[:3]"
      ],
      "execution_count": 114,
      "outputs": [
        {
          "output_type": "execute_result",
          "data": {
            "text/plain": [
              "<tf.Tensor: shape=(3, 1), dtype=float32, numpy=\n",
              "array([[ 0.17972627],\n",
              "       [ 0.613424  ],\n",
              "       [-0.36688757]], dtype=float32)>"
            ]
          },
          "metadata": {
            "tags": []
          },
          "execution_count": 114
        }
      ]
    },
    {
      "cell_type": "code",
      "metadata": {
        "id": "1CCC2DCQ4ibu",
        "outputId": "ad494747-e5fa-4f92-8d5f-787fffb279e2",
        "colab": {
          "base_uri": "https://localhost:8080/"
        }
      },
      "source": [
        "aux_output[:3]"
      ],
      "execution_count": 115,
      "outputs": [
        {
          "output_type": "execute_result",
          "data": {
            "text/plain": [
              "<tf.Tensor: shape=(3, 1), dtype=float32, numpy=\n",
              "array([[-0.11005794],\n",
              "       [ 0.12395096],\n",
              "       [ 0.2213064 ]], dtype=float32)>"
            ]
          },
          "metadata": {
            "tags": []
          },
          "execution_count": 115
        }
      ]
    },
    {
      "cell_type": "code",
      "metadata": {
        "id": "0QrF9fq54iez",
        "outputId": "c3de9c5c-300c-4c1c-b77d-e1c4ff70260c",
        "colab": {
          "base_uri": "https://localhost:8080/"
        }
      },
      "source": [
        "y_train[:3]"
      ],
      "execution_count": 117,
      "outputs": [
        {
          "output_type": "execute_result",
          "data": {
            "text/plain": [
              "array([1.405, 0.652, 1.683])"
            ]
          },
          "metadata": {
            "tags": []
          },
          "execution_count": 117
        }
      ]
    },
    {
      "cell_type": "code",
      "metadata": {
        "id": "a5nwWDoN4ih0",
        "outputId": "d6ea7b1f-2afa-4cff-afa1-8ce2a46a762d",
        "colab": {
          "base_uri": "https://localhost:8080/"
        }
      },
      "source": [
        "modelo = keras.Sequential([\r\n",
        "                           keras.layers.Dense(30, activation=keras.activations.elu),\r\n",
        "                           keras.layers.Dense(20, activation=keras.activations.elu),\r\n",
        "                           keras.layers.Dense(1, activation=keras.activations.relu)\r\n",
        "])\r\n",
        "\r\n",
        "modelo.compile(optimizer=keras.optimizers.RMSprop(), loss=keras.losses.mean_absolute_error, metrics=[keras.metrics.mean_absolute_percentage_error])\r\n",
        "\r\n",
        "history = modelo.fit(X_train, y_train, epochs=44, validation_data=(X_val, y_val))\r\n"
      ],
      "execution_count": 129,
      "outputs": [
        {
          "output_type": "stream",
          "text": [
            "Epoch 1/44\n",
            "452/452 [==============================] - 1s 2ms/step - loss: 1.0587 - mean_absolute_percentage_error: 54.3116 - val_loss: 0.4805 - val_mean_absolute_percentage_error: 25.9073\n",
            "Epoch 2/44\n",
            "452/452 [==============================] - 1s 1ms/step - loss: 0.4881 - mean_absolute_percentage_error: 26.9166 - val_loss: 0.4682 - val_mean_absolute_percentage_error: 25.9264\n",
            "Epoch 3/44\n",
            "452/452 [==============================] - 1s 1ms/step - loss: 0.4683 - mean_absolute_percentage_error: 25.9337 - val_loss: 0.4620 - val_mean_absolute_percentage_error: 24.8403\n",
            "Epoch 4/44\n",
            "452/452 [==============================] - 1s 1ms/step - loss: 0.4616 - mean_absolute_percentage_error: 25.2031 - val_loss: 0.4544 - val_mean_absolute_percentage_error: 24.5623\n",
            "Epoch 5/44\n",
            "452/452 [==============================] - 1s 1ms/step - loss: 0.4496 - mean_absolute_percentage_error: 24.9655 - val_loss: 0.4465 - val_mean_absolute_percentage_error: 23.9700\n",
            "Epoch 6/44\n",
            "452/452 [==============================] - 1s 1ms/step - loss: 0.4531 - mean_absolute_percentage_error: 24.4185 - val_loss: 0.4425 - val_mean_absolute_percentage_error: 24.1207\n",
            "Epoch 7/44\n",
            "452/452 [==============================] - 1s 1ms/step - loss: 0.4382 - mean_absolute_percentage_error: 23.8838 - val_loss: 0.4446 - val_mean_absolute_percentage_error: 23.5885\n",
            "Epoch 8/44\n",
            "452/452 [==============================] - 1s 1ms/step - loss: 0.4306 - mean_absolute_percentage_error: 23.4538 - val_loss: 0.4339 - val_mean_absolute_percentage_error: 22.5403\n",
            "Epoch 9/44\n",
            "452/452 [==============================] - 1s 1ms/step - loss: 0.4329 - mean_absolute_percentage_error: 23.5645 - val_loss: 0.4232 - val_mean_absolute_percentage_error: 22.3653\n",
            "Epoch 10/44\n",
            "452/452 [==============================] - 1s 1ms/step - loss: 0.4260 - mean_absolute_percentage_error: 23.3521 - val_loss: 0.4452 - val_mean_absolute_percentage_error: 23.3479\n",
            "Epoch 11/44\n",
            "452/452 [==============================] - 1s 1ms/step - loss: 0.4199 - mean_absolute_percentage_error: 22.7082 - val_loss: 0.4250 - val_mean_absolute_percentage_error: 22.0502\n",
            "Epoch 12/44\n",
            "452/452 [==============================] - 1s 1ms/step - loss: 0.4201 - mean_absolute_percentage_error: 22.5400 - val_loss: 0.4206 - val_mean_absolute_percentage_error: 22.1527\n",
            "Epoch 13/44\n",
            "452/452 [==============================] - 1s 1ms/step - loss: 0.4143 - mean_absolute_percentage_error: 22.5315 - val_loss: 0.4185 - val_mean_absolute_percentage_error: 22.0956\n",
            "Epoch 14/44\n",
            "452/452 [==============================] - 1s 1ms/step - loss: 0.4147 - mean_absolute_percentage_error: 22.2197 - val_loss: 0.4173 - val_mean_absolute_percentage_error: 22.0213\n",
            "Epoch 15/44\n",
            "452/452 [==============================] - 1s 1ms/step - loss: 0.4092 - mean_absolute_percentage_error: 22.4681 - val_loss: 0.4180 - val_mean_absolute_percentage_error: 21.4610\n",
            "Epoch 16/44\n",
            "452/452 [==============================] - 1s 1ms/step - loss: 0.4084 - mean_absolute_percentage_error: 21.8648 - val_loss: 0.4043 - val_mean_absolute_percentage_error: 21.0457\n",
            "Epoch 17/44\n",
            "452/452 [==============================] - 1s 1ms/step - loss: 0.4007 - mean_absolute_percentage_error: 21.6299 - val_loss: 0.4089 - val_mean_absolute_percentage_error: 21.6614\n",
            "Epoch 18/44\n",
            "452/452 [==============================] - 1s 1ms/step - loss: 0.4001 - mean_absolute_percentage_error: 21.5868 - val_loss: 0.4047 - val_mean_absolute_percentage_error: 21.0503\n",
            "Epoch 19/44\n",
            "452/452 [==============================] - 1s 1ms/step - loss: 0.4030 - mean_absolute_percentage_error: 21.8316 - val_loss: 0.4034 - val_mean_absolute_percentage_error: 21.4820\n",
            "Epoch 20/44\n",
            "452/452 [==============================] - 1s 1ms/step - loss: 0.3982 - mean_absolute_percentage_error: 21.6712 - val_loss: 0.4101 - val_mean_absolute_percentage_error: 22.8477\n",
            "Epoch 21/44\n",
            "452/452 [==============================] - 1s 1ms/step - loss: 0.3934 - mean_absolute_percentage_error: 21.4637 - val_loss: 0.4015 - val_mean_absolute_percentage_error: 21.3512\n",
            "Epoch 22/44\n",
            "452/452 [==============================] - 1s 1ms/step - loss: 0.4015 - mean_absolute_percentage_error: 21.3015 - val_loss: 0.4024 - val_mean_absolute_percentage_error: 21.0993\n",
            "Epoch 23/44\n",
            "452/452 [==============================] - 1s 1ms/step - loss: 0.3879 - mean_absolute_percentage_error: 21.0760 - val_loss: 0.3967 - val_mean_absolute_percentage_error: 21.1791\n",
            "Epoch 24/44\n",
            "452/452 [==============================] - 1s 1ms/step - loss: 0.3927 - mean_absolute_percentage_error: 21.2404 - val_loss: 0.3998 - val_mean_absolute_percentage_error: 20.2318\n",
            "Epoch 25/44\n",
            "452/452 [==============================] - 1s 1ms/step - loss: 0.3923 - mean_absolute_percentage_error: 21.3684 - val_loss: 0.3999 - val_mean_absolute_percentage_error: 22.2981\n",
            "Epoch 26/44\n",
            "452/452 [==============================] - 1s 1ms/step - loss: 0.3896 - mean_absolute_percentage_error: 20.8462 - val_loss: 0.4009 - val_mean_absolute_percentage_error: 20.9664\n",
            "Epoch 27/44\n",
            "452/452 [==============================] - 1s 1ms/step - loss: 0.3902 - mean_absolute_percentage_error: 22.0273 - val_loss: 0.3925 - val_mean_absolute_percentage_error: 20.1829\n",
            "Epoch 28/44\n",
            "452/452 [==============================] - 1s 1ms/step - loss: 0.3890 - mean_absolute_percentage_error: 20.9641 - val_loss: 0.4062 - val_mean_absolute_percentage_error: 21.1607\n",
            "Epoch 29/44\n",
            "452/452 [==============================] - 1s 1ms/step - loss: 0.3901 - mean_absolute_percentage_error: 21.1932 - val_loss: 0.3850 - val_mean_absolute_percentage_error: 19.7698\n",
            "Epoch 30/44\n",
            "452/452 [==============================] - 1s 1ms/step - loss: 0.3919 - mean_absolute_percentage_error: 20.8875 - val_loss: 0.3886 - val_mean_absolute_percentage_error: 20.6593\n",
            "Epoch 31/44\n",
            "452/452 [==============================] - 1s 1ms/step - loss: 0.3866 - mean_absolute_percentage_error: 20.9740 - val_loss: 0.3904 - val_mean_absolute_percentage_error: 20.2715\n",
            "Epoch 32/44\n",
            "452/452 [==============================] - 1s 1ms/step - loss: 0.3871 - mean_absolute_percentage_error: 20.8507 - val_loss: 0.3853 - val_mean_absolute_percentage_error: 20.1302\n",
            "Epoch 33/44\n",
            "452/452 [==============================] - 1s 1ms/step - loss: 0.3781 - mean_absolute_percentage_error: 20.1327 - val_loss: 0.3826 - val_mean_absolute_percentage_error: 20.4848\n",
            "Epoch 34/44\n",
            "452/452 [==============================] - 1s 1ms/step - loss: 0.3829 - mean_absolute_percentage_error: 20.9637 - val_loss: 0.3829 - val_mean_absolute_percentage_error: 19.5215\n",
            "Epoch 35/44\n",
            "452/452 [==============================] - 1s 1ms/step - loss: 0.3823 - mean_absolute_percentage_error: 20.5828 - val_loss: 0.3811 - val_mean_absolute_percentage_error: 20.2417\n",
            "Epoch 36/44\n",
            "452/452 [==============================] - 1s 1ms/step - loss: 0.3783 - mean_absolute_percentage_error: 20.1382 - val_loss: 0.3821 - val_mean_absolute_percentage_error: 19.5550\n",
            "Epoch 37/44\n",
            "452/452 [==============================] - 1s 1ms/step - loss: 0.3786 - mean_absolute_percentage_error: 20.3610 - val_loss: 0.3871 - val_mean_absolute_percentage_error: 20.6092\n",
            "Epoch 38/44\n",
            "452/452 [==============================] - 1s 1ms/step - loss: 0.3852 - mean_absolute_percentage_error: 20.6495 - val_loss: 0.3842 - val_mean_absolute_percentage_error: 20.5300\n",
            "Epoch 39/44\n",
            "452/452 [==============================] - 1s 1ms/step - loss: 0.3755 - mean_absolute_percentage_error: 20.2340 - val_loss: 0.3852 - val_mean_absolute_percentage_error: 19.6006\n",
            "Epoch 40/44\n",
            "452/452 [==============================] - 1s 1ms/step - loss: 0.3707 - mean_absolute_percentage_error: 20.1619 - val_loss: 0.3867 - val_mean_absolute_percentage_error: 20.7862\n",
            "Epoch 41/44\n",
            "452/452 [==============================] - 1s 1ms/step - loss: 0.3772 - mean_absolute_percentage_error: 20.2515 - val_loss: 0.3769 - val_mean_absolute_percentage_error: 19.2187\n",
            "Epoch 42/44\n",
            "452/452 [==============================] - 1s 1ms/step - loss: 0.3709 - mean_absolute_percentage_error: 19.6812 - val_loss: 0.3729 - val_mean_absolute_percentage_error: 19.5772\n",
            "Epoch 43/44\n",
            "452/452 [==============================] - 1s 1ms/step - loss: 0.3795 - mean_absolute_percentage_error: 20.3653 - val_loss: 0.3859 - val_mean_absolute_percentage_error: 19.1700\n",
            "Epoch 44/44\n",
            "452/452 [==============================] - 1s 1ms/step - loss: 0.3761 - mean_absolute_percentage_error: 20.1666 - val_loss: 0.3849 - val_mean_absolute_percentage_error: 19.7461\n"
          ],
          "name": "stdout"
        }
      ]
    },
    {
      "cell_type": "code",
      "metadata": {
        "id": "Zu8Ol6734yqh",
        "outputId": "aff9960c-af54-4578-f9d5-3ab93048d705",
        "colab": {
          "base_uri": "https://localhost:8080/"
        }
      },
      "source": [
        "modelo.evaluate(X_test, y_test)"
      ],
      "execution_count": 128,
      "outputs": [
        {
          "output_type": "stream",
          "text": [
            "97/97 [==============================] - 0s 961us/step - loss: 0.3843 - mean_absolute_percentage_error: 21.0909\n"
          ],
          "name": "stdout"
        },
        {
          "output_type": "execute_result",
          "data": {
            "text/plain": [
              "[0.3842598795890808, 21.090911865234375]"
            ]
          },
          "metadata": {
            "tags": []
          },
          "execution_count": 128
        }
      ]
    },
    {
      "cell_type": "code",
      "metadata": {
        "id": "kdLZpyWrqLfj"
      },
      "source": [
        "import matplotlib.pyplot as plt\r\n",
        "import seaborn as sns"
      ],
      "execution_count": 143,
      "outputs": []
    },
    {
      "cell_type": "code",
      "metadata": {
        "id": "vb-Y09Q14yti",
        "outputId": "5ddbbaa1-63e4-42f2-e3e7-1b8a8e7b620f",
        "colab": {
          "base_uri": "https://localhost:8080/",
          "height": 537
        }
      },
      "source": [
        "pd.DataFrame(history.history).plot(figsize=(15,9))\r\n",
        "plt.grid()\r\n",
        "plt.show()"
      ],
      "execution_count": 151,
      "outputs": [
        {
          "output_type": "display_data",
          "data": {
            "image/png": "[encoded data removed]",
            "text/plain": [
              "<Figure size 1080x648 with 1 Axes>"
            ]
          },
          "metadata": {
            "tags": [],
            "needs_background": "light"
          }
        }
      ]
    },
    {
      "cell_type": "code",
      "metadata": {
        "id": "7XTsXAvZrDiL"
      },
      "source": [
        "modelo.save('my_model.h5')"
      ],
      "execution_count": 152,
      "outputs": []
    },
    {
      "cell_type": "code",
      "metadata": {
        "id": "pYevHD6GrjWP"
      },
      "source": [
        "modelo.summary()\r\n",
        "\r\n",
        "modelo.weights[0:1]"
      ],
      "execution_count": null,
      "outputs": []
    },
    {
      "cell_type": "code",
      "metadata": {
        "id": "rReJShS0rDo1"
      },
      "source": [
        "delo = keras.models.load_model('/content/my_model.h5')\r\n",
        "\r\n",
        "delo.summary()\r\n",
        "\r\n",
        "delo.weights[0:1]"
      ],
      "execution_count": null,
      "outputs": []
    },
    {
      "cell_type": "code",
      "metadata": {
        "id": "40SYOegDr9vj",
        "outputId": "12adf422-fb63-4993-cbc8-ff53c4d404a0",
        "colab": {
          "base_uri": "https://localhost:8080/"
        }
      },
      "source": [
        "delo.weights[0:1] == delo.weights[0:1]"
      ],
      "execution_count": 190,
      "outputs": [
        {
          "output_type": "execute_result",
          "data": {
            "text/plain": [
              "True"
            ]
          },
          "metadata": {
            "tags": []
          },
          "execution_count": 190
        }
      ]
    },
    {
      "cell_type": "code",
      "metadata": {
        "id": "SPCKWJznvrXJ",
        "outputId": "221149cf-e0d7-42d9-cb0b-d3042b271e74",
        "colab": {
          "base_uri": "https://localhost:8080/"
        }
      },
      "source": [
        "stopping = keras.callbacks.EarlyStopping(patience=2, restore_best_weights=True)\r\n",
        "\r\n",
        "# EarlyStopping es para parar en caso de que el resultado empeore despues de 2 itter\r\n",
        "\r\n",
        "hist = modelo.fit(X_train, y_train, epochs=35, callbacks=[lo])"
      ],
      "execution_count": 210,
      "outputs": [
        {
          "output_type": "stream",
          "text": [
            "Epoch 1/35\n",
            "452/452 [==============================] - 1s 1ms/step - loss: 0.3413 - mean_absolute_percentage_error: 18.0120\n",
            "WARNING:tensorflow:Can save best model only with val_loss available, skipping.\n",
            "Epoch 2/35\n",
            "452/452 [==============================] - 1s 1ms/step - loss: 0.3420 - mean_absolute_percentage_error: 18.0039\n",
            "WARNING:tensorflow:Can save best model only with val_loss available, skipping.\n",
            "Epoch 3/35\n",
            "452/452 [==============================] - 1s 1ms/step - loss: 0.3412 - mean_absolute_percentage_error: 17.9848\n",
            "WARNING:tensorflow:Can save best model only with val_loss available, skipping.\n",
            "Epoch 4/35\n",
            "452/452 [==============================] - 1s 1ms/step - loss: 0.3423 - mean_absolute_percentage_error: 18.0276\n",
            "WARNING:tensorflow:Can save best model only with val_loss available, skipping.\n",
            "Epoch 5/35\n",
            "452/452 [==============================] - 1s 1ms/step - loss: 0.3414 - mean_absolute_percentage_error: 18.0223\n",
            "WARNING:tensorflow:Can save best model only with val_loss available, skipping.\n",
            "Epoch 6/35\n",
            "452/452 [==============================] - 1s 1ms/step - loss: 0.3410 - mean_absolute_percentage_error: 18.0049\n",
            "WARNING:tensorflow:Can save best model only with val_loss available, skipping.\n",
            "Epoch 7/35\n",
            "452/452 [==============================] - 1s 1ms/step - loss: 0.3408 - mean_absolute_percentage_error: 17.9782\n",
            "WARNING:tensorflow:Can save best model only with val_loss available, skipping.\n",
            "Epoch 8/35\n",
            "452/452 [==============================] - 1s 1ms/step - loss: 0.3404 - mean_absolute_percentage_error: 17.9504\n",
            "WARNING:tensorflow:Can save best model only with val_loss available, skipping.\n",
            "Epoch 9/35\n",
            "452/452 [==============================] - 1s 1ms/step - loss: 0.3403 - mean_absolute_percentage_error: 17.9188\n",
            "WARNING:tensorflow:Can save best model only with val_loss available, skipping.\n",
            "Epoch 10/35\n",
            "452/452 [==============================] - 1s 1ms/step - loss: 0.3398 - mean_absolute_percentage_error: 17.8938\n",
            "WARNING:tensorflow:Can save best model only with val_loss available, skipping.\n",
            "Epoch 11/35\n",
            "452/452 [==============================] - 1s 1ms/step - loss: 0.3397 - mean_absolute_percentage_error: 17.8756\n",
            "WARNING:tensorflow:Can save best model only with val_loss available, skipping.\n",
            "Epoch 12/35\n",
            "452/452 [==============================] - 0s 1ms/step - loss: 0.3398 - mean_absolute_percentage_error: 17.8711\n",
            "WARNING:tensorflow:Can save best model only with val_loss available, skipping.\n",
            "Epoch 13/35\n",
            "452/452 [==============================] - 1s 1ms/step - loss: 0.3388 - mean_absolute_percentage_error: 17.8447\n",
            "WARNING:tensorflow:Can save best model only with val_loss available, skipping.\n",
            "Epoch 14/35\n",
            "452/452 [==============================] - 1s 1ms/step - loss: 0.3392 - mean_absolute_percentage_error: 17.8525\n",
            "WARNING:tensorflow:Can save best model only with val_loss available, skipping.\n",
            "Epoch 15/35\n",
            "452/452 [==============================] - 1s 1ms/step - loss: 0.3398 - mean_absolute_percentage_error: 17.9023\n",
            "WARNING:tensorflow:Can save best model only with val_loss available, skipping.\n",
            "Epoch 16/35\n",
            "452/452 [==============================] - 1s 1ms/step - loss: 0.3390 - mean_absolute_percentage_error: 17.8538\n",
            "WARNING:tensorflow:Can save best model only with val_loss available, skipping.\n",
            "Epoch 17/35\n",
            "452/452 [==============================] - 1s 1ms/step - loss: 0.3390 - mean_absolute_percentage_error: 17.8625\n",
            "WARNING:tensorflow:Can save best model only with val_loss available, skipping.\n",
            "Epoch 18/35\n",
            "452/452 [==============================] - 1s 1ms/step - loss: 0.3392 - mean_absolute_percentage_error: 17.9106\n",
            "WARNING:tensorflow:Can save best model only with val_loss available, skipping.\n",
            "Epoch 19/35\n",
            "452/452 [==============================] - 1s 1ms/step - loss: 0.3404 - mean_absolute_percentage_error: 18.0088\n",
            "WARNING:tensorflow:Can save best model only with val_loss available, skipping.\n",
            "Epoch 20/35\n",
            "452/452 [==============================] - 1s 1ms/step - loss: 0.3378 - mean_absolute_percentage_error: 17.7783\n",
            "WARNING:tensorflow:Can save best model only with val_loss available, skipping.\n",
            "Epoch 21/35\n",
            "452/452 [==============================] - 1s 1ms/step - loss: 0.3387 - mean_absolute_percentage_error: 17.8279\n",
            "WARNING:tensorflow:Can save best model only with val_loss available, skipping.\n",
            "Epoch 22/35\n",
            "452/452 [==============================] - 1s 1ms/step - loss: 0.3382 - mean_absolute_percentage_error: 17.7521\n",
            "WARNING:tensorflow:Can save best model only with val_loss available, skipping.\n",
            "Epoch 23/35\n",
            "452/452 [==============================] - 1s 1ms/step - loss: 0.3377 - mean_absolute_percentage_error: 17.7548\n",
            "WARNING:tensorflow:Can save best model only with val_loss available, skipping.\n",
            "Epoch 24/35\n",
            "452/452 [==============================] - 1s 1ms/step - loss: 0.3387 - mean_absolute_percentage_error: 17.8371\n",
            "WARNING:tensorflow:Can save best model only with val_loss available, skipping.\n",
            "Epoch 25/35\n",
            "452/452 [==============================] - 1s 1ms/step - loss: 0.3376 - mean_absolute_percentage_error: 17.7800\n",
            "WARNING:tensorflow:Can save best model only with val_loss available, skipping.\n",
            "Epoch 26/35\n",
            "452/452 [==============================] - 1s 1ms/step - loss: 0.3372 - mean_absolute_percentage_error: 17.7787\n",
            "WARNING:tensorflow:Can save best model only with val_loss available, skipping.\n",
            "Epoch 27/35\n",
            "452/452 [==============================] - 1s 1ms/step - loss: 0.3368 - mean_absolute_percentage_error: 17.7070\n",
            "WARNING:tensorflow:Can save best model only with val_loss available, skipping.\n",
            "Epoch 28/35\n",
            "452/452 [==============================] - 1s 1ms/step - loss: 0.3366 - mean_absolute_percentage_error: 17.7417\n",
            "WARNING:tensorflow:Can save best model only with val_loss available, skipping.\n",
            "Epoch 29/35\n",
            "452/452 [==============================] - 1s 1ms/step - loss: 0.3383 - mean_absolute_percentage_error: 17.8242\n",
            "WARNING:tensorflow:Can save best model only with val_loss available, skipping.\n",
            "Epoch 30/35\n",
            "452/452 [==============================] - 1s 1ms/step - loss: 0.3374 - mean_absolute_percentage_error: 17.7661\n",
            "WARNING:tensorflow:Can save best model only with val_loss available, skipping.\n",
            "Epoch 31/35\n",
            "452/452 [==============================] - 1s 1ms/step - loss: 0.3372 - mean_absolute_percentage_error: 17.8437\n",
            "WARNING:tensorflow:Can save best model only with val_loss available, skipping.\n",
            "Epoch 32/35\n",
            "452/452 [==============================] - 1s 1ms/step - loss: 0.3364 - mean_absolute_percentage_error: 17.7047\n",
            "WARNING:tensorflow:Can save best model only with val_loss available, skipping.\n",
            "Epoch 33/35\n",
            "452/452 [==============================] - 1s 1ms/step - loss: 0.3365 - mean_absolute_percentage_error: 17.6883\n",
            "WARNING:tensorflow:Can save best model only with val_loss available, skipping.\n",
            "Epoch 34/35\n",
            "452/452 [==============================] - 1s 1ms/step - loss: 0.3373 - mean_absolute_percentage_error: 17.7770\n",
            "WARNING:tensorflow:Can save best model only with val_loss available, skipping.\n",
            "Epoch 35/35\n",
            "452/452 [==============================] - 1s 1ms/step - loss: 0.3366 - mean_absolute_percentage_error: 17.6961\n",
            "WARNING:tensorflow:Can save best model only with val_loss available, skipping.\n"
          ],
          "name": "stdout"
        }
      ]
    },
    {
      "cell_type": "code",
      "metadata": {
        "id": "2teQtHXZ4PAj"
      },
      "source": [
        ""
      ],
      "execution_count": null,
      "outputs": []
    },
    {
      "cell_type": "code",
      "metadata": {
        "id": "aJMatlep4PDq"
      },
      "source": [
        ""
      ],
      "execution_count": null,
      "outputs": []
    },
    {
      "cell_type": "code",
      "metadata": {
        "id": "n_DCEfqE4PGd"
      },
      "source": [
        ""
      ],
      "execution_count": null,
      "outputs": []
    }
  ]
}