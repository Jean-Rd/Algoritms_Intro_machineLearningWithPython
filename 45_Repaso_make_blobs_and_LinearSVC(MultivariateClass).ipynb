{
  "nbformat": 4,
  "nbformat_minor": 0,
  "metadata": {
    "colab": {
      "name": "45.Repaso_make_blobs_and_LinearSVC(MultivariateClass).ipynb",
      "provenance": [],
      "authorship_tag": "ABX9TyMmpydgEtoPfwQ3TqvomJzZ",
      "include_colab_link": true
    },
    "kernelspec": {
      "name": "python3",
      "display_name": "Python 3"
    }
  },
  "cells": [
    {
      "cell_type": "markdown",
      "metadata": {
        "id": "view-in-github",
        "colab_type": "text"
      },
      "source": [
        "<a href=\"https://colab.research.google.com/github/Jean-Rd/Algoritms_Intro_machineLearningWithPython/blob/master/45_Repaso_make_blobs_and_LinearSVC(MultivariateClass).ipynb\" target=\"_parent\"><img src=\"https://colab.research.google.com/assets/colab-badge.svg\" alt=\"Open In Colab\"/></a>"
      ]
    },
    {
      "cell_type": "code",
      "metadata": {
        "id": "C1mMQ3CZLwtH",
        "colab_type": "code",
        "colab": {
          "base_uri": "https://localhost:8080/",
          "height": 435
        },
        "outputId": "d90a5434-701d-4691-e725-106f8df2f2b0"
      },
      "source": [
        "from sklearn.svm import LinearSVC\n",
        "from sklearn.datasets import make_blobs\n",
        "!pip install mglearn\n",
        "import mglearn\n",
        "import matplotlib.pyplot as plt\n",
        "import numpy as np\n"
      ],
      "execution_count": 2,
      "outputs": [
        {
          "output_type": "stream",
          "text": [
            "Collecting mglearn\n",
            "\u001b[?25l  Downloading https://files.pythonhosted.org/packages/65/38/8aced26fce0b2ae82c3c87cd3b6105f38ca6d9d51704ecc44aa54473e6b9/mglearn-0.1.9.tar.gz (540kB)\n",
            "\u001b[K     |████████████████████████████████| 542kB 2.9MB/s \n",
            "\u001b[?25hRequirement already satisfied: numpy in /usr/local/lib/python3.6/dist-packages (from mglearn) (1.18.5)\n",
            "Requirement already satisfied: matplotlib in /usr/local/lib/python3.6/dist-packages (from mglearn) (3.2.2)\n",
            "Requirement already satisfied: scikit-learn in /usr/local/lib/python3.6/dist-packages (from mglearn) (0.22.2.post1)\n",
            "Requirement already satisfied: pandas in /usr/local/lib/python3.6/dist-packages (from mglearn) (1.0.5)\n",
            "Requirement already satisfied: pillow in /usr/local/lib/python3.6/dist-packages (from mglearn) (7.0.0)\n",
            "Requirement already satisfied: cycler in /usr/local/lib/python3.6/dist-packages (from mglearn) (0.10.0)\n",
            "Requirement already satisfied: imageio in /usr/local/lib/python3.6/dist-packages (from mglearn) (2.4.1)\n",
            "Requirement already satisfied: joblib in /usr/local/lib/python3.6/dist-packages (from mglearn) (0.16.0)\n",
            "Requirement already satisfied: kiwisolver>=1.0.1 in /usr/local/lib/python3.6/dist-packages (from matplotlib->mglearn) (1.2.0)\n",
            "Requirement already satisfied: python-dateutil>=2.1 in /usr/local/lib/python3.6/dist-packages (from matplotlib->mglearn) (2.8.1)\n",
            "Requirement already satisfied: pyparsing!=2.0.4,!=2.1.2,!=2.1.6,>=2.0.1 in /usr/local/lib/python3.6/dist-packages (from matplotlib->mglearn) (2.4.7)\n",
            "Requirement already satisfied: scipy>=0.17.0 in /usr/local/lib/python3.6/dist-packages (from scikit-learn->mglearn) (1.4.1)\n",
            "Requirement already satisfied: pytz>=2017.2 in /usr/local/lib/python3.6/dist-packages (from pandas->mglearn) (2018.9)\n",
            "Requirement already satisfied: six in /usr/local/lib/python3.6/dist-packages (from cycler->mglearn) (1.12.0)\n",
            "Building wheels for collected packages: mglearn\n",
            "  Building wheel for mglearn (setup.py) ... \u001b[?25l\u001b[?25hdone\n",
            "  Created wheel for mglearn: filename=mglearn-0.1.9-py2.py3-none-any.whl size=582638 sha256=f4ec1fd14cb76fc464c2ea3bd9d39c2f25d05e34569dfef6b28c5b26860e86f1\n",
            "  Stored in directory: /root/.cache/pip/wheels/eb/a6/ea/a6a3716233fa62fc561259b5cb1e28f79e9ff3592c0adac5f0\n",
            "Successfully built mglearn\n",
            "Installing collected packages: mglearn\n",
            "Successfully installed mglearn-0.1.9\n"
          ],
          "name": "stdout"
        }
      ]
    },
    {
      "cell_type": "code",
      "metadata": {
        "id": "XI78xHxFq6m6",
        "colab_type": "code",
        "colab": {
          "base_uri": "https://localhost:8080/",
          "height": 279
        },
        "outputId": "2267684d-91c0-41ff-ab14-11c9753910cf"
      },
      "source": [
        "X, Y = make_blobs(random_state=42)\n",
        "\n",
        "mglearn.discrete_scatter(X[:,0], X[:, 1], Y)\n",
        "plt.xlabel('feature 0')\n",
        "plt.ylabel('feature 1')\n",
        "plt.legend(['Class 0', 'Class 1', 'Class 2'], loc='best')\n",
        "plt.show()\n",
        "\n",
        "# LINEAR SVC ES UN ALGORITMO DE CALSSIFICACIOND E MULTICLASES BINARIA"
      ],
      "execution_count": 3,
      "outputs": [
        {
          "output_type": "display_data",
          "data": {
            "image/png": "[encoded data removed]",
            "text/plain": [
              "<Figure size 432x288 with 1 Axes>"
            ]
          },
          "metadata": {
            "tags": [],
            "needs_background": "light"
          }
        }
      ]
    },
    {
      "cell_type": "code",
      "metadata": {
        "id": "-Dwuq6nmq6ps",
        "colab_type": "code",
        "colab": {}
      },
      "source": [
        "lin_svm = LinearSVC().fit(X, Y)\n",
        "lin_svm.coef_, lin_svm.intercept_\n",
        "'''\n",
        "coef_ --> each row is the coef for each class and each column is for each feature\n",
        "in it's case for 2 features\n",
        "\n",
        "intercept_ --> each row is for each class\n",
        "'''"
      ],
      "execution_count": null,
      "outputs": []
    },
    {
      "cell_type": "code",
      "metadata": {
        "id": "iMz5lCXx1aOP",
        "colab_type": "code",
        "colab": {}
      },
      "source": [
        "line = np.linspace(-15, 15)\n",
        "\n",
        "mglearn.plots.plot_2d_classification(lin_svm, X, fill=True, alpha=.6)\n",
        "mglearn.discrete_scatter(X[:,0], X[:, 1], Y)\n",
        "\n",
        "for coef, intercept, color in zip(lin_svm.coef_, lin_svm.intercept_, ['b', 'r', 'g']):\n",
        "\n",
        "  plt.plot(line, -(line * coef[0] + intercept) / coef[1], c = color)\n",
        "\n",
        "#plt.ylim(-10, 15)\n",
        "#plt.xlim(-10, 8)"
      ],
      "execution_count": null,
      "outputs": []
    },
    {
      "cell_type": "markdown",
      "metadata": {
        "id": "OYKBMNc02apQ",
        "colab_type": "text"
      },
      "source": [
        "\n"
      ]
    },
    {
      "cell_type": "code",
      "metadata": {
        "colab_type": "code",
        "id": "c8ViSd312Uj8",
        "colab": {
          "base_uri": "https://localhost:8080/",
          "height": 33
        },
        "outputId": "67013eab-a61f-41e9-ef00-4c03466d6949"
      },
      "source": [
        "y = np.array([0, 1, 0, 1])\n",
        "\n",
        "x = np.array([[0, 1, 0, 1],\n",
        "              [1, 0, 1, 1],\n",
        "              [0, 0, 0, 1],\n",
        "              [1, 0, 1, 0]])\n",
        "\n",
        "x[y == 0].sum(axis=0) \n",
        "#esta linea busca en x aquellos que en el primer dato de la columna sea igual a 0\n",
        "#y con axis 0 suma las columnas(cono un sistemas de ecuacion), si axis es 1 suma el vector independiente del otro\n"
      ],
      "execution_count": null,
      "outputs": [
        {
          "output_type": "execute_result",
          "data": {
            "text/plain": [
              "array([2, 1])"
            ]
          },
          "metadata": {
            "tags": []
          },
          "execution_count": 53
        }
      ]
    },
    {
      "cell_type": "code",
      "metadata": {
        "id": "2ML12OSJ1aRY",
        "colab_type": "code",
        "colab": {
          "base_uri": "https://localhost:8080/",
          "height": 248
        },
        "outputId": "1ef9eb13-c182-483c-d7ce-a856088270cc"
      },
      "source": [
        "import mglearn\n",
        "\n",
        "mglearn.plots.plot_animal_tree()"
      ],
      "execution_count": 4,
      "outputs": [
        {
          "output_type": "display_data",
          "data": {
            "image/png": "[encoded data removed]",
            "text/plain": [
              "<Figure size 432x288 with 1 Axes>"
            ]
          },
          "metadata": {
            "tags": [],
            "needs_background": "light"
          }
        }
      ]
    },
    {
      "cell_type": "code",
      "metadata": {
        "id": "woyhgzoUhZ_a",
        "colab_type": "code",
        "colab": {}
      },
      "source": [
        "from sklearn.tree import DecisionTreeClassifier\n",
        "from sklearn.model_selection import train_test_split\n",
        "from sklearn.datasets import load_breast_cancer\n",
        "import numpy as np"
      ],
      "execution_count": 5,
      "outputs": []
    },
    {
      "cell_type": "code",
      "metadata": {
        "id": "aQ1iQgdWhaNd",
        "colab_type": "code",
        "colab": {
          "base_uri": "https://localhost:8080/",
          "height": 50
        },
        "outputId": "6e4b3109-ad62-404e-c2b1-8ea0b8b4050a"
      },
      "source": [
        "cancer = load_breast_cancer()\n",
        "\n",
        "X_train, X_test, y_train, y_test = train_test_split(cancer.data, cancer.target, stratify=cancer.target, random_state=42)\n",
        "\n",
        "tree = DecisionTreeClassifier(random_state=0).fit(X_train, y_train)\n",
        "\n",
        "print('Accuracy train {:.3f}'.format(tree.score(X_train, y_train)))\n",
        "print('Accuracy test {:.3f}'.format(tree.score(X_test, y_test)))\n"
      ],
      "execution_count": 6,
      "outputs": [
        {
          "output_type": "stream",
          "text": [
            "Accuracy train 1.000\n",
            "Accuracy test 0.937\n"
          ],
          "name": "stdout"
        }
      ]
    },
    {
      "cell_type": "code",
      "metadata": {
        "id": "tvwbpwgSoc7X",
        "colab_type": "code",
        "colab": {
          "base_uri": "https://localhost:8080/",
          "height": 50
        },
        "outputId": "502cc473-6147-4d49-aa8b-d62af4554711"
      },
      "source": [
        "tree_ = DecisionTreeClassifier(max_depth=4, random_state=0).fit(X_train, y_train)\n",
        "\n",
        "print('Accuracy Train {:.3f}'.format(tree_.score(X_train, y_train)))\n",
        "print('Accuracy Test {:.3f}'.format(tree_.score(X_test, y_test)))"
      ],
      "execution_count": 7,
      "outputs": [
        {
          "output_type": "stream",
          "text": [
            "Accuracy Train 0.988\n",
            "Accuracy Test 0.951\n"
          ],
          "name": "stdout"
        }
      ]
    },
    {
      "cell_type": "code",
      "metadata": {
        "id": "8yUyE0lgoc43",
        "colab_type": "code",
        "colab": {}
      },
      "source": [
        ""
      ],
      "execution_count": null,
      "outputs": []
    }
  ]
}