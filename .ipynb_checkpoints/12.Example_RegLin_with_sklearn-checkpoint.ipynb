{
 "cells": [
  {
   "cell_type": "code",
   "execution_count": 6,
   "metadata": {},
   "outputs": [],
   "source": [
    "from sklearn import linear_model, datasets\n",
    "import numpy as np\n",
    "import matplotlib.pyplot as plt\n",
    "from sklearn.metrics import mean_squared_error, r2_score"
   ]
  },
  {
   "cell_type": "code",
   "execution_count": 3,
   "metadata": {},
   "outputs": [
    {
     "name": "stdout",
     "output_type": "stream",
     "text": [
      "Automatically created module for IPython interactive environment\n"
     ]
    }
   ],
   "source": [
    "print(__doc__)"
   ]
  },
  {
   "cell_type": "code",
   "execution_count": 63,
   "metadata": {},
   "outputs": [
    {
     "name": "stdout",
     "output_type": "stream",
     "text": [
      "Coefficients: [938.23786125]\n",
      "Mean squared erros: 2548.07\n",
      "Mean squared erros: 2548.0723987259694\n",
      "coefficients of the determination: 0.47\n"
     ]
    },
    {
     "data": {
      "image/png": "[encoded data removed]",
      "text/plain": [
       "<Figure size 432x288 with 1 Axes>"
      ]
     },
     "metadata": {
      "needs_background": "light"
     },
     "output_type": "display_data"
    }
   ],
   "source": [
    "# load the deabetes dataset\n",
    "diabetes_x, diabetes_y = datasets.load_diabetes(return_X_y=True)\n",
    "\n",
    "# use only one feature\n",
    "\n",
    "diabetes_x= diabetes_x[:,np.newaxis,2]\n",
    "diabetes_x.shape\n",
    "\n",
    "#split data into training/testing set\n",
    "\n",
    "diabetes_x_train = diabetes_x[:-20]\n",
    "diabetes_x_test = diabetes_x[-20:]\n",
    "\n",
    "#split targets into training/testing set\n",
    "\n",
    "diabetes_y_train = diabetes_y[:-20]\n",
    "diabetes_y_test = diabetes_y[-20:]\n",
    "\n",
    "#create linear regression object\n",
    "reg = linear_model.LinearRegression()\n",
    "\n",
    "#Train the model using training set\n",
    "\n",
    "reg.fit(diabetes_x_train, diabetes_y_train)\n",
    "\n",
    "#make predictions using the testing set\n",
    "\n",
    "diabetes_y_pred = reg.predict(diabetes_x_test)\n",
    "\n",
    "#the coefficients of the regression\n",
    "print('Coefficients: {}'.format(reg.coef_))\n",
    "\n",
    "#the mean squared error\n",
    "#el signo de porcentaje es como una variable\n",
    "print('Mean squared erros: %.2f' % mean_squared_error(diabetes_y_test, diabetes_y_pred))\n",
    "print('Mean squared erros:',mean_squared_error(diabetes_y_test, diabetes_y_pred))\n",
    "mean_squared_error(diabetes_y_test, diabetes_y_pred)\n",
    "\n",
    "#the coefficients determination: 1 is perfect determinaation(score)\n",
    "\n",
    "print('coefficients of the determination: %.2f' % r2_score(diabetes_y_test, diabetes_y_pred))\n",
    "\n",
    "# plot outputs\n",
    "\n",
    "plt.scatter(diabetes_x_test, diabetes_y_test, color='green')\n",
    "plt.plot(diabetes_x_test, diabetes_y_pred, color='blue', linewidth=.9)\n",
    "#plt.xticks(())\n",
    "#plt.yticks(())\n",
    "# estas dos lineas eliminan los numeros de nuestro cuadro los parametros\n",
    "\n",
    "plt.show()"
   ]
  },
  {
   "cell_type": "code",
   "execution_count": 68,
   "metadata": {},
   "outputs": [
    {
     "data": {
      "text/plain": [
       "array([225.9732401 , 115.74763374, 163.27610621, 114.73638965,\n",
       "       120.80385422, 158.21988574, 236.08568105, 121.81509832,\n",
       "        99.56772822, 123.83758651, 204.73711411,  96.53399594,\n",
       "       154.17490936, 130.91629517,  83.3878227 , 171.36605897,\n",
       "       137.99500384, 137.99500384, 189.56845268,  84.3990668 ])"
      ]
     },
     "execution_count": 68,
     "metadata": {},
     "output_type": "execute_result"
    }
   ],
   "source": [
    "diabetes_y_pred"
   ]
  }
 ],
 "metadata": {
  "kernelspec": {
   "display_name": "Python 3",
   "language": "python",
   "name": "python3"
  },
  "language_info": {
   "codemirror_mode": {
    "name": "ipython",
    "version": 3
   },
   "file_extension": ".py",
   "mimetype": "text/x-python",
   "name": "python",
   "nbconvert_exporter": "python",
   "pygments_lexer": "ipython3",
   "version": "3.7.6"
  }
 },
 "nbformat": 4,
 "nbformat_minor": 4
}
