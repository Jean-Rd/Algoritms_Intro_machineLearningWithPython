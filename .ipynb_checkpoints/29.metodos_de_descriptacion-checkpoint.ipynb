{
 "cells": [
  {
   "cell_type": "code",
   "execution_count": 11,
   "metadata": {},
   "outputs": [
    {
     "name": "stdout",
     "output_type": "stream",
     "text": [
      "Ingrese un texto: asa\n",
      "asa --> dvd\n"
     ]
    }
   ],
   "source": [
    "# METODOS DE ENCRYPTACION UPEA/INTRODUCCION ALA PROGRAMACION\n",
    "\n",
    "letras = ['a','b','c','d','e','f','g','h','i','j','k','l',\n",
    "         'm','n','o','p','q','r','s','t','u','v','w','x','y','z']\n",
    "\n",
    "longitud = len(letras)\n",
    "\n",
    "mensaje = input('Ingrese un texto: ').lower()\n",
    "mensaje_encryptado = ''\n",
    "\n",
    "_X = 0\n",
    "\n",
    "while _X < len(mensaje):\n",
    "    \n",
    "    metodo = (letras.index(mensaje[_X])+3) % longitud\n",
    "    #print(mensaje[_X],'-->',metodo,'-->',letras[metodo])\n",
    "    mensaje_encryptado += letras[metodo]\n",
    "    _X += 1\n",
    "\n",
    "print(mensaje,'-->',mensaje_encryptado)"
   ]
  },
  {
   "cell_type": "code",
   "execution_count": null,
   "metadata": {},
   "outputs": [],
   "source": []
  },
  {
   "cell_type": "code",
   "execution_count": null,
   "metadata": {},
   "outputs": [],
   "source": []
  },
  {
   "cell_type": "code",
   "execution_count": 13,
   "metadata": {},
   "outputs": [
    {
     "name": "stdout",
     "output_type": "stream",
     "text": [
      "Ingrese un texto: hola mundo\n",
      "hola mundo --> krod pxqgr\n"
     ]
    }
   ],
   "source": [
    "# METODOS DE ENCRYPTACION UPEA/INTRODUCCION ALA PROGRAMACION\n",
    "\n",
    "letras = ['a','b','c','d','e','f','g','h','i','j','k','l',\n",
    "         'm','n','o','p','q','r','s','t','u','v','w','x','y','z']\n",
    "\n",
    "longitud = len(letras)\n",
    "\n",
    "mensaje = input('Ingrese un texto: ').lower()\n",
    "mensaje_encryptado = ''\n",
    "\n",
    "_X = 0\n",
    "\n",
    "while _X < len(mensaje):\n",
    "    \n",
    "    if mensaje[_X] == ' ':\n",
    "        _X += 1\n",
    "        mensaje_encryptado += ' '\n",
    "    \n",
    "    else:\n",
    "        metodo = (letras.index(mensaje[_X])+3) % longitud\n",
    "        mensaje_encryptado += letras[metodo]\n",
    "        _X += 1\n",
    "    \n",
    "print(mensaje,'-->',mensaje_encryptado)"
   ]
  },
  {
   "cell_type": "code",
   "execution_count": 8,
   "metadata": {},
   "outputs": [
    {
     "name": "stdout",
     "output_type": "stream",
     "text": [
      "ingrese un mensaje: hola\n",
      "hola --> dafg\n"
     ]
    }
   ],
   "source": [
    "# METODO DE ENCRYPTACION UPEA/INTRODUCCION ALA PROGRAMACION\n",
    "\n",
    "letras = ['a','b','c','d','e','f','g','h','i','j','k','l',\n",
    "         'm','n','o','p','q','r','s','t','u','v','w','x','y','z']\n",
    "\n",
    "_coef = 7 #Coeficiente de decimacion\n",
    "_des = 6 # desplazamiento\n",
    "\n",
    "# del tipo encryptacion = (7*(mensaje[i])+6),  _coef*mensaje[i] + _des\n",
    "\n",
    "mensaje = input('ingrese un mensaje: ').lower()\n",
    "_ = 0\n",
    "mensaje_encryptado = ''\n",
    "\n",
    "while _ < len(mensaje): # len(mensaje) --> longitud del mensaje \n",
    "    \n",
    "    if mensaje[_] == ' ':\n",
    "        \n",
    "        mensaje_encryptado += ' '\n",
    "        _ += 1\n",
    "        \n",
    "    else:\n",
    "        metodo = ((_coef*letras.index(mensaje[_])) + _des) % len(letras)\n",
    "        mensaje_encryptado += letras[metodo]\n",
    "        _ += 1\n",
    "\n",
    "print(mensaje,'-->',mensaje_encryptado)"
   ]
  },
  {
   "cell_type": "code",
   "execution_count": 15,
   "metadata": {},
   "outputs": [
    {
     "name": "stdout",
     "output_type": "stream",
     "text": [
      "Ingrese un texto: mundo\n",
      "m --> posicion original 0\n",
      "posicion encryptada 15 --> p\n",
      "\n",
      "u --> posicion original 1\n",
      "posicion encryptada 23 --> x\n",
      "\n",
      "n --> posicion original 2\n",
      "posicion encryptada 16 --> q\n",
      "\n",
      "d --> posicion original 3\n",
      "posicion encryptada 6 --> g\n",
      "\n",
      "o --> posicion original 4\n",
      "posicion encryptada 17 --> r\n",
      "\n"
     ]
    }
   ],
   "source": [
    "# METODOS DE ENCRYPTACION UPEA/INTRODUCCION ALA PROGRAMACION\n",
    "\n",
    "letras = ['a','b','c','d','e','f','g','h','i','j','k','l',\n",
    "         'm','n','o','p','q','r','s','t','u','v','w','x','y','z']\n",
    "\n",
    "longitud = len(letras)\n",
    "\n",
    "mensaje = input('Ingrese un texto: ').lower()\n",
    "mensaje_encryptado = ''\n",
    "\n",
    "_X = 0\n",
    "\n",
    "while _X < len(mensaje):\n",
    "    if mensaje[_X] == ' ':\n",
    "        mensaje_ecryptado += ' '\n",
    "    \n",
    "    else:\n",
    "        metodo = (letras.index(mensaje[_X])+3) % longitud\n",
    "        print(mensaje[_X],'--> posicion original',_X)\n",
    "        print('posicion encryptada',metodo,'-->',letras[metodo])\n",
    "        print()\n",
    "        _X += 1"
   ]
  },
  {
   "cell_type": "code",
   "execution_count": null,
   "metadata": {},
   "outputs": [],
   "source": [
    "\n",
    "\n",
    "while _ < len(mensaje): # len(mensaje) --> longitud del mensaje \n",
    "    \n",
    "    if mensaje[_] == ' ':\n",
    "        \n",
    "        mensaje_encryptado += ' '\n",
    "        _ += 1\n",
    "        \n",
    "    else:\n",
    "        metodo = ((_coef*letras.index(mensaje[_])) + _des) % len(letras)\n",
    "        mensaje_encryptado += letras[metodo]\n",
    "        _ += 1"
   ]
  }
 ],
 "metadata": {
  "kernelspec": {
   "display_name": "Python 3",
   "language": "python",
   "name": "python3"
  },
  "language_info": {
   "codemirror_mode": {
    "name": "ipython",
    "version": 3
   },
   "file_extension": ".py",
   "mimetype": "text/x-python",
   "name": "python",
   "nbconvert_exporter": "python",
   "pygments_lexer": "ipython3",
   "version": "3.7.6"
  }
 },
 "nbformat": 4,
 "nbformat_minor": 4
}
