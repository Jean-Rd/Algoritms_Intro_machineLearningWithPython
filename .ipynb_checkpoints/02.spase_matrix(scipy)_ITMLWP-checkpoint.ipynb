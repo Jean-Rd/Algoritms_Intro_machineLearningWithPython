{
 "cells": [
  {
   "cell_type": "code",
   "execution_count": 39,
   "metadata": {},
   "outputs": [],
   "source": [
    "import numpy as np\n",
    "from scipy import sparse"
   ]
  },
  {
   "cell_type": "code",
   "execution_count": 40,
   "metadata": {},
   "outputs": [
    {
     "data": {
      "text/plain": [
       "'\\nexisten 2 formatos de convertir a un spase matrix(matris dispersa), CSR ^ COO\\n'"
      ]
     },
     "execution_count": 40,
     "metadata": {},
     "output_type": "execute_result"
    }
   ],
   "source": [
    "'''\n",
    "existen 2 formatos de convertir a un spase matrix(matris dispersa), CSR ^ COO\n",
    "'''"
   ]
  },
  {
   "cell_type": "code",
   "execution_count": 41,
   "metadata": {},
   "outputs": [
    {
     "data": {
      "text/plain": [
       "array([[1., 0., 0., 0.],\n",
       "       [0., 1., 0., 0.],\n",
       "       [0., 0., 1., 0.],\n",
       "       [0., 0., 0., 1.]])"
      ]
     },
     "execution_count": 41,
     "metadata": {},
     "output_type": "execute_result"
    }
   ],
   "source": [
    "#CREATE EYE ARRAY\n",
    "eye = np.eye(4)\n",
    "eye"
   ]
  },
  {
   "cell_type": "code",
   "execution_count": 42,
   "metadata": {},
   "outputs": [
    {
     "name": "stdout",
     "output_type": "stream",
     "text": [
      "Sparse Matrix CSR:\n",
      "  (0, 0)\t1.0\n",
      "  (1, 1)\t1.0\n",
      "  (2, 2)\t1.0\n",
      "  (3, 3)\t1.0\n"
     ]
    }
   ],
   "source": [
    "#CSR\n",
    "sparse_matrix_csr = sparse.csr_matrix(eye)\n",
    "print('Sparse Matrix CSR:\\n{}'.format(sparse_matrix_csr))"
   ]
  },
  {
   "cell_type": "code",
   "execution_count": 48,
   "metadata": {},
   "outputs": [
    {
     "name": "stdout",
     "output_type": "stream",
     "text": [
      "Sparse Matrix COO:\n",
      "  (0, 0)\t1.0\n",
      "  (1, 1)\t1.0\n",
      "  (2, 2)\t1.0\n",
      "  (3, 3)\t1.0\n"
     ]
    }
   ],
   "source": [
    "#COO\n",
    "# deberemos crear un data matriz, row's range, column's range.\n",
    "data = np.ones(4) #crea un array 1D de ones\n",
    "# creamos nuestros indices de las columnas\n",
    "row_indice = np.arange(4)\n",
    "col_indice = np.arange(4)\n",
    "# sparse matrix coo\n",
    "sparse_matrix_coo = sparse.coo_matrix((data,(row_indice,col_indice)))\n",
    "print('Sparse Matrix COO:\\n{}'.format(sparse_matrix_coo))"
   ]
  },
  {
   "cell_type": "code",
   "execution_count": 44,
   "metadata": {},
   "outputs": [
    {
     "data": {
      "text/plain": [
       "'\\nlas  primeras dos columnas son los parametros de los datos distintos de cero and la segunda es el valor del dato(infloat), \\nsparse extrae los parametros de los numeros\\ndistintos de cero,\\n'"
      ]
     },
     "execution_count": 44,
     "metadata": {},
     "output_type": "execute_result"
    }
   ],
   "source": [
    "'''\n",
    "las  primeras dos columnas son los parametros de los datos distintos de cero and la segunda es el valor del dato(infloat), \n",
    "sparse extrae los parametros de los numeros\n",
    "distintos de cero,\n",
    "'''"
   ]
  },
  {
   "cell_type": "code",
   "execution_count": 49,
   "metadata": {},
   "outputs": [
    {
     "data": {
      "text/plain": [
       "'\\nambos son muy utiles; CSR --> nos sirve cuando para cuando queramos crear una matrix con estas caracteristicas\\nCOO --> nos sirve cuando queremos buscar los parametros de numeros distiontos de cero en una matrix\\nCOO --> in data ingresamos la diagonal que buscamos o los datos que buscamos en este cso es ones; la diagonal se genera segun\\nestos datos\\n'"
      ]
     },
     "execution_count": 49,
     "metadata": {},
     "output_type": "execute_result"
    }
   ],
   "source": [
    "'''\n",
    "ambos son muy utiles; CSR --> nos sirve cuando para cuando queramos crear una matrix con estas caracteristicas\n",
    "COO --> nos sirve cuando queremos buscar los parametros de numeros distiontos de cero en una matrix\n",
    "COO --> in data ingresamos la diagonal que buscamos o los datos que buscamos en este cso es ones; la diagonal se genera segun\n",
    "estos datos\n",
    "'''"
   ]
  }
 ],
 "metadata": {
  "kernelspec": {
   "display_name": "Python 3",
   "language": "python",
   "name": "python3"
  },
  "language_info": {
   "codemirror_mode": {
    "name": "ipython",
    "version": 3
   },
   "file_extension": ".py",
   "mimetype": "text/x-python",
   "name": "python",
   "nbconvert_exporter": "python",
   "pygments_lexer": "ipython3",
   "version": "3.7.6"
  }
 },
 "nbformat": 4,
 "nbformat_minor": 4
}
