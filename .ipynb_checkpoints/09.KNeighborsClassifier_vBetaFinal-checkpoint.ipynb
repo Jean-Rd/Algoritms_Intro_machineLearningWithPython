{
 "cells": [
  {
   "cell_type": "code",
   "execution_count": 1,
   "metadata": {},
   "outputs": [],
   "source": [
    "import numpy as np\n",
    "from sklearn.datasets import load_iris\n",
    "from sklearn.model_selection import train_test_split\n",
    "from sklearn.neighbors import KNeighborsClassifier"
   ]
  },
  {
   "cell_type": "code",
   "execution_count": 2,
   "metadata": {},
   "outputs": [],
   "source": [
    "iris = load_iris()"
   ]
  },
  {
   "cell_type": "code",
   "execution_count": 3,
   "metadata": {},
   "outputs": [
    {
     "data": {
      "text/plain": [
       "array(['setosa', 'versicolor', 'virginica'], dtype='<U10')"
      ]
     },
     "execution_count": 3,
     "metadata": {},
     "output_type": "execute_result"
    }
   ],
   "source": [
    "#target names and target, 50 for class\n",
    "iris.target\n",
    "iris.target_names"
   ]
  },
  {
   "cell_type": "code",
   "execution_count": 4,
   "metadata": {},
   "outputs": [
    {
     "data": {
      "text/plain": [
       "['sepal length (cm)',\n",
       " 'sepal width (cm)',\n",
       " 'petal length (cm)',\n",
       " 'petal width (cm)']"
      ]
     },
     "execution_count": 4,
     "metadata": {},
     "output_type": "execute_result"
    }
   ],
   "source": [
    "#data and columns\n",
    "iris.data\n",
    "iris.feature_names"
   ]
  },
  {
   "cell_type": "code",
   "execution_count": 5,
   "metadata": {},
   "outputs": [
    {
     "data": {
      "text/plain": [
       "((112, 4), (112,))"
      ]
     },
     "execution_count": 5,
     "metadata": {},
     "output_type": "execute_result"
    }
   ],
   "source": [
    "#dividimos nuestros datos train 75% ^test 25%, random_state=para que nuestros datos div aletoricamente no cambien\n",
    "x_train, x_test, y_train, y_test = train_test_split(iris.data, iris.target, random_state=1)\n",
    "x_train.shape, y_train.shape"
   ]
  },
  {
   "cell_type": "code",
   "execution_count": 6,
   "metadata": {},
   "outputs": [
    {
     "data": {
      "text/plain": [
       "KNeighborsClassifier()"
      ]
     },
     "execution_count": 6,
     "metadata": {},
     "output_type": "execute_result"
    }
   ],
   "source": [
    "# usemos la clase KNeighborsClassifier, whit n_neighbors=5(default)\n",
    "knn = KNeighborsClassifier(n_neighbors=5)\n",
    "# ajustamos nuestros datos a entrenar con fit\n",
    "knn.fit(x_train, y_train)"
   ]
  },
  {
   "cell_type": "code",
   "execution_count": 11,
   "metadata": {},
   "outputs": [],
   "source": [
    "'''\n",
    "ya tenemos nuestro algoritmo listo para ser horneado xdxd, para usar; ahora crearemos hfunciones para\n",
    "usar nuestro algoritmo decentemente\n",
    "'''\n",
    "option = {'1':'Continue', '2':'Exit'}\n",
    "keys = option.keys()\n",
    "\n",
    "def menu_continue():\n",
    "    user_option = None\n",
    "    while user_option not in keys:\n",
    "        user_option = None\n",
    "        print('\\n\\nDigite una opcion:')\n",
    "        for i in keys:\n",
    "            print(i+')',option[i])\n",
    "        if user_option == None:\n",
    "            user_option = input('Digite una opcion: ')\n",
    "        else:\n",
    "            print('Por favor digite una opcion valida.')\n",
    "    return user_option\n",
    "\n",
    "def new_row():\n",
    "    print('\\n\\tIngrese los datos para clasificar en el dataset.\\n')\n",
    "    dates = np.array([[0,0,0,0]])\n",
    "    for i in range(4):\n",
    "        elements = get_number_from_user() \n",
    "        dates[0,i] = elements\n",
    "    return dates\n",
    "\n",
    "def get_number_from_user():\n",
    "    while True:\n",
    "        x = input(\"Ingresa un número: \")\n",
    "        try:\n",
    "            x = int(x)\n",
    "        except ValueError:\n",
    "            print(f\"{x} no es válido. Se espera un número\")\n",
    "            continue\n",
    "        return x\n",
    " \n",
    "def algoritm_classifier(dates):\n",
    "    prediction = knn.predict(dates)\n",
    "    print('Target Prediction: {}'.format(prediction))\n",
    "    print('Target Name Prediction: {}'.format(iris.target_names[prediction]))\n",
    "    \n",
    "    "
   ]
  },
  {
   "cell_type": "code",
   "execution_count": 12,
   "metadata": {},
   "outputs": [
    {
     "name": "stdout",
     "output_type": "stream",
     "text": [
      "\n",
      "\tIngrese los datos para clasificar en el dataset.\n",
      "\n",
      "Ingresa un número: 1\n",
      "Ingresa un número: 2\n",
      "Ingresa un número: 3\n",
      "Ingresa un número: 4\n",
      "Target Prediction: [1]\n",
      "Target Name Prediction: ['versicolor']\n",
      "\n",
      "\n",
      "Digite una opcion:\n",
      "1) Continue\n",
      "2) Exit\n",
      "Digite una opcion: 1\n",
      "\n",
      "\tIngrese los datos para clasificar en el dataset.\n",
      "\n",
      "Ingresa un número: 1\n",
      "Ingresa un número: 2\n",
      "Ingresa un número: 3\n",
      "Ingresa un número: 4\n",
      "Target Prediction: [1]\n",
      "Target Name Prediction: ['versicolor']\n",
      "\n",
      "\n",
      "Digite una opcion:\n",
      "1) Continue\n",
      "2) Exit\n",
      "Digite una opcion: 1\n",
      "\n",
      "\tIngrese los datos para clasificar en el dataset.\n",
      "\n",
      "Ingresa un número: 4\n",
      "Ingresa un número: 3\n",
      "Ingresa un número: 2\n",
      "Ingresa un número: 1\n",
      "Target Prediction: [0]\n",
      "Target Name Prediction: ['setosa']\n",
      "\n",
      "\n",
      "Digite una opcion:\n",
      "1) Continue\n",
      "2) Exit\n",
      "Digite una opcion: 2\n",
      "\n",
      "\tLamentamos verlo irse.\n"
     ]
    }
   ],
   "source": [
    "\n",
    "\n",
    "while True:\n",
    "    data_classifier = new_row()\n",
    "    algoritm_classifier(data_classifier)\n",
    "    \n",
    "    option_request = menu_continue()\n",
    "    if option_request == '1':\n",
    "        pass\n",
    "    if option_request == '2':\n",
    "        print('\\n\\tLamentamos verlo irse.')\n",
    "        break\n"
   ]
  },
  {
   "cell_type": "code",
   "execution_count": null,
   "metadata": {},
   "outputs": [],
   "source": []
  },
  {
   "cell_type": "code",
   "execution_count": null,
   "metadata": {},
   "outputs": [],
   "source": []
  }
 ],
 "metadata": {
  "kernelspec": {
   "display_name": "Python 3",
   "language": "python",
   "name": "python3"
  },
  "language_info": {
   "codemirror_mode": {
    "name": "ipython",
    "version": 3
   },
   "file_extension": ".py",
   "mimetype": "text/x-python",
   "name": "python",
   "nbconvert_exporter": "python",
   "pygments_lexer": "ipython3",
   "version": "3.7.6"
  }
 },
 "nbformat": 4,
 "nbformat_minor": 4
}
