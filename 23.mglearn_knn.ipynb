{
 "cells": [
  {
   "cell_type": "code",
   "execution_count": 3,
   "metadata": {},
   "outputs": [],
   "source": [
    "import numpy as np\n",
    "import mglearn\n",
    "from sklearn.datasets import load_iris\n",
    "from sklearn.model_selection import train_test_split\n",
    "from sklearn.neighbors import KNeighborsClassifier\n",
    "import time"
   ]
  },
  {
   "cell_type": "code",
   "execution_count": 4,
   "metadata": {},
   "outputs": [
    {
     "data": {
      "text/plain": [
       "dict_keys(['data', 'target', 'frame', 'target_names', 'DESCR', 'feature_names', 'filename'])"
      ]
     },
     "execution_count": 4,
     "metadata": {},
     "output_type": "execute_result"
    }
   ],
   "source": [
    "_iris = load_iris()\n",
    "_iris.keys()"
   ]
  },
  {
   "cell_type": "code",
   "execution_count": 5,
   "metadata": {},
   "outputs": [
    {
     "ename": "NameError",
     "evalue": "name '_menuOption' is not defined",
     "output_type": "error",
     "traceback": [
      "\u001b[1;31m---------------------------------------------------------------------------\u001b[0m",
      "\u001b[1;31mNameError\u001b[0m                                 Traceback (most recent call last)",
      "\u001b[1;32m<ipython-input-5-24984570771a>\u001b[0m in \u001b[0;36m<module>\u001b[1;34m\u001b[0m\n\u001b[0;32m      2\u001b[0m           '3':'Ingresar datos ^ predecir','4':'salir'}\n\u001b[0;32m      3\u001b[0m \u001b[1;33m\u001b[0m\u001b[0m\n\u001b[1;32m----> 4\u001b[1;33m \u001b[0m_menuKeys\u001b[0m \u001b[1;33m=\u001b[0m \u001b[0m_menuOption\u001b[0m\u001b[1;33m.\u001b[0m\u001b[0mkeys\u001b[0m\u001b[1;33m(\u001b[0m\u001b[1;33m)\u001b[0m\u001b[1;33m\u001b[0m\u001b[1;33m\u001b[0m\u001b[0m\n\u001b[0m\u001b[0;32m      5\u001b[0m \u001b[1;33m\u001b[0m\u001b[0m\n\u001b[0;32m      6\u001b[0m \u001b[1;33m\u001b[0m\u001b[0m\n",
      "\u001b[1;31mNameError\u001b[0m: name '_menuOption' is not defined"
     ]
    }
   ],
   "source": [
    "MenuOption = {'1':'Descripcion del dataset iris(en ingles)','2':'Graficar funcionamiento del algoritmo',\n",
    "          '3':'Ingresar datos ^ predecir','4':'salir'}\n",
    "\n",
    "_menuKeys = _menuOption.keys()\n",
    "\n",
    "\n",
    "TryOption = {'1':'Continue', '3':'Exit'}\n",
    "\n",
    "_tryKeys = TryOption.keys()\n"
   ]
  },
  {
   "cell_type": "code",
   "execution_count": null,
   "metadata": {},
   "outputs": [],
   "source": [
    "# NUEMRO FLOTANTE\n",
    "\n",
    "def FloatNumber():\n",
    "    while True:\n",
    "        x = input('Type a number: ')\n",
    "        try:\n",
    "            float(x)\n",
    "        except ValueError:\n",
    "            print('Opcion no valida, intentelo de nuevo.')\n",
    "            continue\n",
    "        return x\n",
    "    \n",
    "# NUMERO ENTERO\n",
    "def IntNumber():\n",
    "    while True:\n",
    "        x = input('Type a number: ')\n",
    "        try:\n",
    "            int(x)\n",
    "        except ValueError:\n",
    "            print('Opcion no valida, intentelo de nuevo.')\n",
    "            continue\n",
    "        return x\n",
    "\n",
    "# MENU OPTION\n",
    "def MenuOption():\n",
    "    _userOption = None\n",
    "    while _userOption not in _menuKeys:\n",
    "        _userOption = None\n",
    "        for i in _menuKeys:\n",
    "            print(i+')',_menuOption[i])\n",
    "        if _userOption == None:\n",
    "            print()\n",
    "            _userOption = input('Type a option: ')\n",
    "        else:\n",
    "            print(_userOption,'es una opcion no valida, por favor intentelo de nuevo.')\n",
    "    return _userOption\n",
    "\n"
   ]
  },
  {
   "cell_type": "code",
   "execution_count": null,
   "metadata": {},
   "outputs": [],
   "source": [
    "# INTRODUCCION DE DATOS\n",
    "def DataIntroduction():\n",
    "    print('\\n\\tAlgoritmo de clasificacion con KNeighborsClassifier\\n')\n",
    "    new_data = np.array([[0,0,0,0]])\n",
    "    for i in range(len(new_data[0])): #for i in range(5)\n",
    "        var = FloatNumber()\n",
    "        new_data[0,i] = var\n",
    "    return new_data\n",
    "\n",
    "# CLASIFICACION PREDICT\n",
    "def DataClassification(new_data):\n",
    "    print(new_data)\n",
    "    prediction = _knn.predict(new_data)\n",
    "    print('Class Prediction:\\n{}'.format(prediction))\n",
    "    print('Name Prediction:\\n{}'.format(_iris.target_names[prediction]))\n",
    "    time.sleep(5)\n",
    "    \n",
    "# GRAFICAMOS CON MGLEARN\n",
    "def GraphKNN():\n",
    "    print('\\n\\tGrafica del funcionamiento del algritmo con 4, numeros de vecinos.')\n",
    "    print(mglearn.plots.plot_knn_classification(n_neighbors=int(_n)))\n",
    "    \n",
    "# MENU EXIT    \n",
    "'''def TryAgain():\n",
    "    user_option = None\n",
    "    while user_option not in _tryKeys:\n",
    "        user_option = None\n",
    "        for i in _tryKeys:\n",
    "            print(i+')',TryOption[i])\n",
    "        if user_option == None:\n",
    "            user_option = input('\\nDigite una opcion: ')\n",
    "        else:\n",
    "            print(user_option,'no es una opcion valida\\nIntentelo de nuevo.')'''\n"
   ]
  },
  {
   "cell_type": "code",
   "execution_count": null,
   "metadata": {},
   "outputs": [],
   "source": []
  },
  {
   "cell_type": "code",
   "execution_count": null,
   "metadata": {},
   "outputs": [],
   "source": []
  },
  {
   "cell_type": "code",
   "execution_count": 7,
   "metadata": {},
   "outputs": [
    {
     "ename": "TypeError",
     "evalue": "'dict' object is not callable",
     "output_type": "error",
     "traceback": [
      "\u001b[1;31m---------------------------------------------------------------------------\u001b[0m",
      "\u001b[1;31mTypeError\u001b[0m                                 Traceback (most recent call last)",
      "\u001b[1;32m<ipython-input-7-61836d6e87b0>\u001b[0m in \u001b[0;36m<module>\u001b[1;34m\u001b[0m\n\u001b[0;32m      1\u001b[0m \u001b[1;32mwhile\u001b[0m \u001b[1;32mTrue\u001b[0m\u001b[1;33m:\u001b[0m\u001b[1;33m\u001b[0m\u001b[1;33m\u001b[0m\u001b[0m\n\u001b[0;32m      2\u001b[0m \u001b[1;33m\u001b[0m\u001b[0m\n\u001b[1;32m----> 3\u001b[1;33m     \u001b[0m_\u001b[0m \u001b[1;33m=\u001b[0m \u001b[0mMenuOption\u001b[0m\u001b[1;33m(\u001b[0m\u001b[1;33m)\u001b[0m\u001b[1;33m\u001b[0m\u001b[1;33m\u001b[0m\u001b[0m\n\u001b[0m\u001b[0;32m      4\u001b[0m \u001b[1;33m\u001b[0m\u001b[0m\n\u001b[0;32m      5\u001b[0m     \u001b[1;32mif\u001b[0m \u001b[0m_\u001b[0m \u001b[1;33m==\u001b[0m \u001b[1;34m'1'\u001b[0m\u001b[1;33m:\u001b[0m\u001b[1;33m\u001b[0m\u001b[1;33m\u001b[0m\u001b[0m\n",
      "\u001b[1;31mTypeError\u001b[0m: 'dict' object is not callable"
     ]
    }
   ],
   "source": [
    "\n",
    "while True:\n",
    "    \n",
    "    _ = MenuOption()\n",
    "    \n",
    "    if _ == '1':\n",
    "        print('\\n',_iris.DESCR)\n",
    "        pass\n",
    "    if _ == '2':\n",
    "        GraphKNN()\n",
    "        pass\n",
    "    if _ == '3':\n",
    "        _date = DataIntroduction()\n",
    "        DataClassification(_date)\n",
    "        pass\n",
    "    if _ == '4':\n",
    "        print('Lamentamos verlo irse.')\n",
    "        break\n"
   ]
  }
 ],
 "metadata": {
  "kernelspec": {
   "display_name": "Python 3",
   "language": "python",
   "name": "python3"
  },
  "language_info": {
   "codemirror_mode": {
    "name": "ipython",
    "version": 3
   },
   "file_extension": ".py",
   "mimetype": "text/x-python",
   "name": "python",
   "nbconvert_exporter": "python",
   "pygments_lexer": "ipython3",
   "version": "3.7.6"
  }
 },
 "nbformat": 4,
 "nbformat_minor": 4
}
