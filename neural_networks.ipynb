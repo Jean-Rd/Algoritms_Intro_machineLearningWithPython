{
  "nbformat": 4,
  "nbformat_minor": 0,
  "metadata": {
    "colab": {
      "name": "neural_networks.ipynb",
      "provenance": [],
      "authorship_tag": "ABX9TyP0ZgcXZteZAnSXQXKJV7AO",
      "include_colab_link": true
    },
    "kernelspec": {
      "name": "python3",
      "display_name": "Python 3"
    }
  },
  "cells": [
    {
      "cell_type": "markdown",
      "metadata": {
        "id": "view-in-github",
        "colab_type": "text"
      },
      "source": [
        "<a href=\"https://colab.research.google.com/github/Jean-Rd/Algoritms_Intro_machineLearningWithPython/blob/master/neural_networks.ipynb\" target=\"_parent\"><img src=\"https://colab.research.google.com/assets/colab-badge.svg\" alt=\"Open In Colab\"/></a>"
      ]
    },
    {
      "cell_type": "code",
      "metadata": {
        "id": "SwqBfuEvYq9V",
        "colab_type": "code",
        "colab": {
          "base_uri": "https://localhost:8080/",
          "height": 68
        },
        "outputId": "0bbcc41b-8b65-416a-d688-f3f80fb25847"
      },
      "source": [
        "# eliminar espacios\n",
        "string = '    lustroso  busbuja   '\n",
        "# imprimir con espacios\n",
        "print(string)\n",
        "#imprimir sin espacios\n",
        "print(string.strip())\n",
        "# OJO, solo espacios que estan al princio y al final del texto\n",
        "\n",
        "# eliminar una palabra\n",
        "print(string.strip(' lustroso'))\n"
      ],
      "execution_count": null,
      "outputs": [
        {
          "output_type": "stream",
          "text": [
            "    lustroso  busbuja   \n",
            "lustroso  busbuja\n",
            "busbuja\n"
          ],
          "name": "stdout"
        }
      ]
    },
    {
      "cell_type": "code",
      "metadata": {
        "id": "KLr92zE3Z03g",
        "colab_type": "code",
        "colab": {
          "base_uri": "https://localhost:8080/",
          "height": 215
        },
        "outputId": "a8acdadc-437f-4924-b368-89ae20022131"
      },
      "source": [
        "mapeo = {'Microfost':'DesktopOS','MacOS':'DesktopOS',\n",
        "         'Linux':'DesktopOS','IOS':'MobileOS','Android':'MobileOs'}\n",
        "\n",
        "import numpy as np\n",
        "equipos = np.array([])\n",
        "equipos['sistemas_operativos'] = equipos['sistemas_operativos'].replace(mapeo)\n"
      ],
      "execution_count": null,
      "outputs": [
        {
          "output_type": "error",
          "ename": "IndexError",
          "evalue": "ignored",
          "traceback": [
            "\u001b[0;31m---------------------------------------------------------------------------\u001b[0m",
            "\u001b[0;31mIndexError\u001b[0m                                Traceback (most recent call last)",
            "\u001b[0;32m<ipython-input-19-74877d3b7184>\u001b[0m in \u001b[0;36m<module>\u001b[0;34m()\u001b[0m\n\u001b[1;32m      4\u001b[0m \u001b[0;32mimport\u001b[0m \u001b[0mnumpy\u001b[0m \u001b[0;32mas\u001b[0m \u001b[0mnp\u001b[0m\u001b[0;34m\u001b[0m\u001b[0;34m\u001b[0m\u001b[0m\n\u001b[1;32m      5\u001b[0m \u001b[0mequipos\u001b[0m \u001b[0;34m=\u001b[0m \u001b[0mnp\u001b[0m\u001b[0;34m.\u001b[0m\u001b[0marray\u001b[0m\u001b[0;34m(\u001b[0m\u001b[0;34m[\u001b[0m\u001b[0;34m]\u001b[0m\u001b[0;34m)\u001b[0m\u001b[0;34m\u001b[0m\u001b[0;34m\u001b[0m\u001b[0m\n\u001b[0;32m----> 6\u001b[0;31m \u001b[0mequipos\u001b[0m\u001b[0;34m[\u001b[0m\u001b[0;34m'sistemas_operativos'\u001b[0m\u001b[0;34m]\u001b[0m \u001b[0;34m=\u001b[0m \u001b[0mequipos\u001b[0m\u001b[0;34m[\u001b[0m\u001b[0;34m'sistemas_operativos'\u001b[0m\u001b[0;34m]\u001b[0m\u001b[0;34m.\u001b[0m\u001b[0mreplace\u001b[0m\u001b[0;34m(\u001b[0m\u001b[0mmapeo\u001b[0m\u001b[0;34m)\u001b[0m\u001b[0;34m\u001b[0m\u001b[0;34m\u001b[0m\u001b[0m\n\u001b[0m",
            "\u001b[0;31mIndexError\u001b[0m: only integers, slices (`:`), ellipsis (`...`), numpy.newaxis (`None`) and integer or boolean arrays are valid indices"
          ]
        }
      ]
    },
    {
      "cell_type": "code",
      "metadata": {
        "id": "DdrwzxVtZ02F",
        "colab_type": "code",
        "colab": {}
      },
      "source": [
        "# apply MLPClassifier\n",
        "from sklearn.datasets import load_breast_cancer\n",
        "import numpy as np\n",
        "import pandas as pd\n",
        "import mglearn\n",
        "from sklearn.neural_network import MLPClassifier"
      ],
      "execution_count": null,
      "outputs": []
    },
    {
      "cell_type": "code",
      "metadata": {
        "id": "vGaCZ75UbuSN",
        "colab_type": "code",
        "colab": {
          "base_uri": "https://localhost:8080/",
          "height": 120
        },
        "outputId": "c6662f91-c77e-4baa-f5a3-82ec944a79fb"
      },
      "source": [
        "cancer = load_breast_cancer()\n",
        "\n",
        "print('Cancer data per-feature maxima:\\n{}'.format(cancer.data.max(axis=0))) #columns"
      ],
      "execution_count": null,
      "outputs": [
        {
          "output_type": "stream",
          "text": [
            "Cancer data per-feature maxima:\n",
            "[2.811e+01 3.928e+01 1.885e+02 2.501e+03 1.634e-01 3.454e-01 4.268e-01\n",
            " 2.012e-01 3.040e-01 9.744e-02 2.873e+00 4.885e+00 2.198e+01 5.422e+02\n",
            " 3.113e-02 1.354e-01 3.960e-01 5.279e-02 7.895e-02 2.984e-02 3.604e+01\n",
            " 4.954e+01 2.512e+02 4.254e+03 2.226e-01 1.058e+00 1.252e+00 2.910e-01\n",
            " 6.638e-01 2.075e-01]\n"
          ],
          "name": "stdout"
        }
      ]
    },
    {
      "cell_type": "code",
      "metadata": {
        "id": "Yjdpfe4rbuV1",
        "colab_type": "code",
        "colab": {
          "base_uri": "https://localhost:8080/",
          "height": 51
        },
        "outputId": "608daa6f-d6b3-4d81-fc98-75997f4c3ff9"
      },
      "source": [
        "from sklearn.model_selection import train_test_split\n",
        "\n",
        "X_train, X_test, y_train, y_test = train_test_split(cancer.data, cancer.target, random_state=0)\n",
        "# entrenamps multilayer perceptors, with features default\n",
        "\n",
        "mlp = MLPClassifier().fit(X_train, y_train)\n",
        "\n",
        "print('Accuracy MLPC-train: {:.3f}'.format(mlp.score(X_train, y_train)))\n",
        "print('Accuracy MLP-test: {:.3f}'.format(mlp.score(X_test, y_test)))\n"
      ],
      "execution_count": null,
      "outputs": [
        {
          "output_type": "stream",
          "text": [
            "Accuracy MLPC-train: 0.887\n",
            "Accuracy MLP-test: 0.867\n"
          ],
          "name": "stdout"
        }
      ]
    },
    {
      "cell_type": "code",
      "metadata": {
        "id": "XiozyZPTplzF",
        "colab_type": "code",
        "colab": {}
      },
      "source": [
        ""
      ],
      "execution_count": null,
      "outputs": []
    },
    {
      "cell_type": "code",
      "metadata": {
        "id": "rd47X-cYbuQ0",
        "colab_type": "code",
        "colab": {
          "base_uri": "https://localhost:8080/",
          "height": 105
        },
        "outputId": "21f31c8b-1544-486a-9f8a-368361f0974b"
      },
      "source": [
        "# compute the mean value pero feature on the training set\n",
        "mean_on_train = X_train.mean(axis=0)\n",
        "\n",
        "# compute the  standard deviation of each feature on the training set\n",
        "std_on_train = X_train.std(axis=0)\n",
        "\n",
        "\n",
        "# subtrack the mean, and scale by inverse standart deviation\n",
        "# ofterward, mean=0 ^ std=1\n",
        "X_train_scaled = (X_train - mean_on_train) / std_on_train\n",
        "\n",
        "# used the same transformation (using training mean and std) on the test set\n",
        "X_test_scaled = (X_test - mean_on_train) / std_on_train\n",
        "\n",
        "mlp = MLPClassifier(random_state=0).fit(X_train_scaled, y_train)\n",
        "\n",
        "print('Accuracy training set: {:.3f}'.format(mlp.score(X_train_scaled, y_train)))\n",
        "print('Accuracy test set: {:.3f}'.format(mlp.score(X_test_scaled, y_test)))"
      ],
      "execution_count": null,
      "outputs": [
        {
          "output_type": "stream",
          "text": [
            "Accuracy training set: 0.991\n",
            "Accuracy test set: 0.965\n"
          ],
          "name": "stdout"
        },
        {
          "output_type": "stream",
          "text": [
            "/usr/local/lib/python3.6/dist-packages/sklearn/neural_network/_multilayer_perceptron.py:571: ConvergenceWarning: Stochastic Optimizer: Maximum iterations (200) reached and the optimization hasn't converged yet.\n",
            "  % self.max_iter, ConvergenceWarning)\n"
          ],
          "name": "stderr"
        }
      ]
    },
    {
      "cell_type": "code",
      "metadata": {
        "id": "l7iWpboMpai0",
        "colab_type": "code",
        "colab": {
          "base_uri": "https://localhost:8080/",
          "height": 105
        },
        "outputId": "48535b85-d58d-41a5-fb8f-c906bb402ddc"
      },
      "source": [
        "mlp = MLPClassifier(max_iter=34, random_state=0).fit(X_train_scaled, y_train)\n",
        "\n",
        "print('Accuracy training set {:.3f}'.format(mlp.score(X_train_scaled, y_train)))\n",
        "print('Accuracy test set {:.3f}'.format(mlp.score(X_test_scaled, y_test)))"
      ],
      "execution_count": null,
      "outputs": [
        {
          "output_type": "stream",
          "text": [
            "Accuracy training set 0.979\n",
            "Accuracy test set 0.972\n"
          ],
          "name": "stdout"
        },
        {
          "output_type": "stream",
          "text": [
            "/usr/local/lib/python3.6/dist-packages/sklearn/neural_network/_multilayer_perceptron.py:571: ConvergenceWarning: Stochastic Optimizer: Maximum iterations (34) reached and the optimization hasn't converged yet.\n",
            "  % self.max_iter, ConvergenceWarning)\n"
          ],
          "name": "stderr"
        }
      ]
    },
    {
      "cell_type": "code",
      "metadata": {
        "id": "HFZkY8eopamz",
        "colab_type": "code",
        "colab": {
          "base_uri": "https://localhost:8080/",
          "height": 105
        },
        "outputId": "f8a4cd91-96df-41cb-bc53-6b48bbffa5a3"
      },
      "source": [
        "mlp = MLPClassifier(max_iter=34, alpha=1, random_state=0).fit(X_train_scaled, y_train)\n",
        "\n",
        "print('Accuracy trainig set: {:.3f}'.format(mlp.score(X_train_scaled, y_train)))\n",
        "print('Accuracy test set: {:.3f}'.format(mlp.score(X_test_scaled, y_test)))"
      ],
      "execution_count": null,
      "outputs": [
        {
          "output_type": "stream",
          "text": [
            "Accuracy trainig set: 0.979\n",
            "Accuracy test set: 0.972\n"
          ],
          "name": "stdout"
        },
        {
          "output_type": "stream",
          "text": [
            "/usr/local/lib/python3.6/dist-packages/sklearn/neural_network/_multilayer_perceptron.py:571: ConvergenceWarning: Stochastic Optimizer: Maximum iterations (34) reached and the optimization hasn't converged yet.\n",
            "  % self.max_iter, ConvergenceWarning)\n"
          ],
          "name": "stderr"
        }
      ]
    },
    {
      "cell_type": "code",
      "metadata": {
        "id": "gQixXdXMpal0",
        "colab_type": "code",
        "colab": {
          "base_uri": "https://localhost:8080/",
          "height": 315
        },
        "outputId": "4b73ad5d-a0a8-4a9d-8826-b9e710c66fce"
      },
      "source": [
        "import matplotlib.pyplot as plt\n",
        "\n",
        "plt.figure(figsize=(20,5))\n",
        "plt.imshow(mlp.coefs_[0], interpolation='none', cmap='viridis')\n",
        "plt.yticks(range(30), cancer.feature_names)\n",
        "plt.xlabel('columns in weight matrix')\n",
        "plt.ylabel('input feature')\n"
      ],
      "execution_count": null,
      "outputs": [
        {
          "output_type": "execute_result",
          "data": {
            "text/plain": [
              "Text(0, 0.5, 'input feature')"
            ]
          },
          "metadata": {
            "tags": []
          },
          "execution_count": 89
        },
        {
          "output_type": "display_data",
          "data": {
            "image/png": "[encoded data removed]",
            "text/plain": [
              "<Figure size 1440x360 with 1 Axes>"
            ]
          },
          "metadata": {
            "tags": [],
            "needs_background": "light"
          }
        }
      ]
    },
    {
      "cell_type": "code",
      "metadata": {
        "id": "4mjpWRMZpahQ",
        "colab_type": "code",
        "colab": {}
      },
      "source": [
        ""
      ],
      "execution_count": null,
      "outputs": []
    }
  ]
}