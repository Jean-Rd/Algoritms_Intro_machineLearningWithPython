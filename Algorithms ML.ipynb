{
  "nbformat": 4,
  "nbformat_minor": 0,
  "metadata": {
    "colab": {
      "name": "Untitled39.ipynb",
      "provenance": [],
      "authorship_tag": "ABX9TyN+RWNC2kz+WBs9LkFp+XWA",
      "include_colab_link": true
    },
    "kernelspec": {
      "name": "python3",
      "display_name": "Python 3"
    }
  },
  "cells": [
    {
      "cell_type": "markdown",
      "metadata": {
        "id": "view-in-github",
        "colab_type": "text"
      },
      "source": [
        "<a href=\"https://colab.research.google.com/github/Jean-Rd/Algoritms_Intro_machineLearningWithPython/blob/master/Algorithms%20ML.ipynb\" target=\"_parent\"><img src=\"https://colab.research.google.com/assets/colab-badge.svg\" alt=\"Open In Colab\"/></a>"
      ]
    },
    {
      "cell_type": "code",
      "metadata": {
        "colab": {
          "base_uri": "https://localhost:8080/"
        },
        "id": "0ziYyld7zJu1",
        "outputId": "5a7f43f3-8620-4030-e8a5-ab54884c8028"
      },
      "source": [
        "!pip install jupyter-dash"
      ],
      "execution_count": 1,
      "outputs": [
        {
          "output_type": "stream",
          "text": [
            "Collecting jupyter-dash\n",
            "\u001b[?25l  Downloading https://files.pythonhosted.org/packages/b9/b9/5f9499a0154124a262c85e3a99033b9b3a20dc3d2707b587f52b32b60d76/jupyter_dash-0.3.1-py3-none-any.whl (49kB)\n",
            "\u001b[K     |████████████████████████████████| 51kB 2.9MB/s \n",
            "\u001b[?25hCollecting dash\n",
            "\u001b[?25l  Downloading https://files.pythonhosted.org/packages/dd/17/55244363969638edd1151de0ea4aa10e6a7849b42d7d0994e3082514e19d/dash-1.18.1.tar.gz (74kB)\n",
            "\u001b[K     |████████████████████████████████| 81kB 3.0MB/s \n",
            "\u001b[?25hRequirement already satisfied: flask in /usr/local/lib/python3.6/dist-packages (from jupyter-dash) (1.1.2)\n",
            "Requirement already satisfied: requests in /usr/local/lib/python3.6/dist-packages (from jupyter-dash) (2.23.0)\n",
            "Requirement already satisfied: retrying in /usr/local/lib/python3.6/dist-packages (from jupyter-dash) (1.3.3)\n",
            "Requirement already satisfied: ipykernel in /usr/local/lib/python3.6/dist-packages (from jupyter-dash) (4.10.1)\n",
            "Collecting ansi2html\n",
            "  Downloading https://files.pythonhosted.org/packages/c6/85/3a46be84afbb16b392a138cd396117f438c7b2e91d8dc327621d1ae1b5dc/ansi2html-1.6.0-py3-none-any.whl\n",
            "Requirement already satisfied: ipython in /usr/local/lib/python3.6/dist-packages (from jupyter-dash) (5.5.0)\n",
            "Collecting flask-compress\n",
            "  Downloading https://files.pythonhosted.org/packages/b2/7a/9c4641f975fb9daaf945dc39da6a52fd5693ab3bbc2d53780eab3b5106f4/Flask_Compress-1.8.0-py3-none-any.whl\n",
            "Requirement already satisfied: plotly in /usr/local/lib/python3.6/dist-packages (from dash->jupyter-dash) (4.4.1)\n",
            "Collecting dash_renderer==1.8.3\n",
            "\u001b[?25l  Downloading https://files.pythonhosted.org/packages/72/fe/59a322edb128ad15205002c7b81e3f5e580f6791c4a100183289e05dbfcb/dash_renderer-1.8.3.tar.gz (1.0MB)\n",
            "\u001b[K     |████████████████████████████████| 1.0MB 7.3MB/s \n",
            "\u001b[?25hCollecting dash-core-components==1.14.1\n",
            "\u001b[?25l  Downloading https://files.pythonhosted.org/packages/0f/ab/5ffeeed41117383d02485f5b9204dcfaa074bfbb3ff2559afac7b904ad5c/dash_core_components-1.14.1.tar.gz (3.5MB)\n",
            "\u001b[K     |████████████████████████████████| 3.5MB 14.8MB/s \n",
            "\u001b[?25hCollecting dash-html-components==1.1.1\n",
            "\u001b[?25l  Downloading https://files.pythonhosted.org/packages/02/ba/bb9427c62feb25bfbaf243894eeeb4e7c67a92b426ed0575a167100e436e/dash_html_components-1.1.1.tar.gz (188kB)\n",
            "\u001b[K     |████████████████████████████████| 194kB 35.4MB/s \n",
            "\u001b[?25hCollecting dash-table==4.11.1\n",
            "\u001b[?25l  Downloading https://files.pythonhosted.org/packages/79/4b/de20584b7dc82dc6e572e8b596d21b1c6e39f13d19e8c9e6f1d67bed67fd/dash_table-4.11.1.tar.gz (1.8MB)\n",
            "\u001b[K     |████████████████████████████████| 1.8MB 40.1MB/s \n",
            "\u001b[?25hRequirement already satisfied: future in /usr/local/lib/python3.6/dist-packages (from dash->jupyter-dash) (0.16.0)\n",
            "Requirement already satisfied: Werkzeug>=0.15 in /usr/local/lib/python3.6/dist-packages (from flask->jupyter-dash) (1.0.1)\n",
            "Requirement already satisfied: Jinja2>=2.10.1 in /usr/local/lib/python3.6/dist-packages (from flask->jupyter-dash) (2.11.2)\n",
            "Requirement already satisfied: itsdangerous>=0.24 in /usr/local/lib/python3.6/dist-packages (from flask->jupyter-dash) (1.1.0)\n",
            "Requirement already satisfied: click>=5.1 in /usr/local/lib/python3.6/dist-packages (from flask->jupyter-dash) (7.1.2)\n",
            "Requirement already satisfied: idna<3,>=2.5 in /usr/local/lib/python3.6/dist-packages (from requests->jupyter-dash) (2.10)\n",
            "Requirement already satisfied: urllib3!=1.25.0,!=1.25.1,<1.26,>=1.21.1 in /usr/local/lib/python3.6/dist-packages (from requests->jupyter-dash) (1.24.3)\n",
            "Requirement already satisfied: certifi>=2017.4.17 in /usr/local/lib/python3.6/dist-packages (from requests->jupyter-dash) (2020.12.5)\n",
            "Requirement already satisfied: chardet<4,>=3.0.2 in /usr/local/lib/python3.6/dist-packages (from requests->jupyter-dash) (3.0.4)\n",
            "Requirement already satisfied: six>=1.7.0 in /usr/local/lib/python3.6/dist-packages (from retrying->jupyter-dash) (1.15.0)\n",
            "Requirement already satisfied: jupyter-client in /usr/local/lib/python3.6/dist-packages (from ipykernel->jupyter-dash) (5.3.5)\n",
            "Requirement already satisfied: traitlets>=4.1.0 in /usr/local/lib/python3.6/dist-packages (from ipykernel->jupyter-dash) (4.3.3)\n",
            "Requirement already satisfied: tornado>=4.0 in /usr/local/lib/python3.6/dist-packages (from ipykernel->jupyter-dash) (5.1.1)\n",
            "Requirement already satisfied: decorator in /usr/local/lib/python3.6/dist-packages (from ipython->jupyter-dash) (4.4.2)\n",
            "Requirement already satisfied: pygments in /usr/local/lib/python3.6/dist-packages (from ipython->jupyter-dash) (2.6.1)\n",
            "Requirement already satisfied: setuptools>=18.5 in /usr/local/lib/python3.6/dist-packages (from ipython->jupyter-dash) (51.1.1)\n",
            "Requirement already satisfied: simplegeneric>0.8 in /usr/local/lib/python3.6/dist-packages (from ipython->jupyter-dash) (0.8.1)\n",
            "Requirement already satisfied: pickleshare in /usr/local/lib/python3.6/dist-packages (from ipython->jupyter-dash) (0.7.5)\n",
            "Requirement already satisfied: pexpect; sys_platform != \"win32\" in /usr/local/lib/python3.6/dist-packages (from ipython->jupyter-dash) (4.8.0)\n",
            "Requirement already satisfied: prompt-toolkit<2.0.0,>=1.0.4 in /usr/local/lib/python3.6/dist-packages (from ipython->jupyter-dash) (1.0.18)\n",
            "Collecting brotli\n",
            "\u001b[?25l  Downloading https://files.pythonhosted.org/packages/b4/d3/7c98f05b7b9103e2f3a112ba42f269c798155b3e5404fb80bb8f823aaebe/Brotli-1.0.9-cp36-cp36m-manylinux1_x86_64.whl (357kB)\n",
            "\u001b[K     |████████████████████████████████| 358kB 42.8MB/s \n",
            "\u001b[?25hRequirement already satisfied: MarkupSafe>=0.23 in /usr/local/lib/python3.6/dist-packages (from Jinja2>=2.10.1->flask->jupyter-dash) (1.1.1)\n",
            "Requirement already satisfied: jupyter-core>=4.6.0 in /usr/local/lib/python3.6/dist-packages (from jupyter-client->ipykernel->jupyter-dash) (4.7.0)\n",
            "Requirement already satisfied: python-dateutil>=2.1 in /usr/local/lib/python3.6/dist-packages (from jupyter-client->ipykernel->jupyter-dash) (2.8.1)\n",
            "Requirement already satisfied: pyzmq>=13 in /usr/local/lib/python3.6/dist-packages (from jupyter-client->ipykernel->jupyter-dash) (20.0.0)\n",
            "Requirement already satisfied: ipython-genutils in /usr/local/lib/python3.6/dist-packages (from traitlets>=4.1.0->ipykernel->jupyter-dash) (0.2.0)\n",
            "Requirement already satisfied: ptyprocess>=0.5 in /usr/local/lib/python3.6/dist-packages (from pexpect; sys_platform != \"win32\"->ipython->jupyter-dash) (0.6.0)\n",
            "Requirement already satisfied: wcwidth in /usr/local/lib/python3.6/dist-packages (from prompt-toolkit<2.0.0,>=1.0.4->ipython->jupyter-dash) (0.2.5)\n",
            "Building wheels for collected packages: dash, dash-renderer, dash-core-components, dash-html-components, dash-table\n",
            "  Building wheel for dash (setup.py) ... \u001b[?25l\u001b[?25hdone\n",
            "  Created wheel for dash: filename=dash-1.18.1-cp36-none-any.whl size=83681 sha256=090338677c3ea85d290e673a20324f1daaaf873851e0e2c61ce461d7b401e427\n",
            "  Stored in directory: /root/.cache/pip/wheels/eb/56/fb/79b2169ce9fcb79753ec57a16abb8f0b7750b4c63d7eb3cea9\n",
            "  Building wheel for dash-renderer (setup.py) ... \u001b[?25l\u001b[?25hdone\n",
            "  Created wheel for dash-renderer: filename=dash_renderer-1.8.3-cp36-none-any.whl size=1013945 sha256=f9186fe2ebe7482ff842f4435de7d8d50f791f1b3be845ebf5657136ef7ebda1\n",
            "  Stored in directory: /root/.cache/pip/wheels/cf/2b/5f/0928a6d1b7ebf280f21a2e925f36d662e6ba83e00b82c6b6bf\n",
            "  Building wheel for dash-core-components (setup.py) ... \u001b[?25l\u001b[?25hdone\n",
            "  Created wheel for dash-core-components: filename=dash_core_components-1.14.1-cp36-none-any.whl size=3525927 sha256=74a31efd5fc041dae3abc8f838f77d0b9992ada84ac7a8ab0ff5338e375850f9\n",
            "  Stored in directory: /root/.cache/pip/wheels/e3/20/48/9022e1f2cb2fed4d9925370d0e17cbb3ab1164f3742d9b5e5a\n",
            "  Building wheel for dash-html-components (setup.py) ... \u001b[?25l\u001b[?25hdone\n",
            "  Created wheel for dash-html-components: filename=dash_html_components-1.1.1-cp36-none-any.whl size=427894 sha256=6df8197bde4985ccc4041d5d8b3476882b99101ec79f8ce6896f7c0db148e8b6\n",
            "  Stored in directory: /root/.cache/pip/wheels/8d/01/46/78e4de185a8a4a2da8ba31da16c52170f036d4cebeeb6e07a2\n",
            "  Building wheel for dash-table (setup.py) ... \u001b[?25l\u001b[?25hdone\n",
            "  Created wheel for dash-table: filename=dash_table-4.11.1-cp36-none-any.whl size=1839869 sha256=23c78609312aa324dc21c21a1728f415e3569f0e140e90cde639c63cfe052de7\n",
            "  Stored in directory: /root/.cache/pip/wheels/53/a0/0e/1105943524ee7060c5c45a22e45c77777a3d8801f2fe49e445\n",
            "Successfully built dash dash-renderer dash-core-components dash-html-components dash-table\n",
            "Installing collected packages: brotli, flask-compress, dash-renderer, dash-core-components, dash-html-components, dash-table, dash, ansi2html, jupyter-dash\n",
            "Successfully installed ansi2html-1.6.0 brotli-1.0.9 dash-1.18.1 dash-core-components-1.14.1 dash-html-components-1.1.1 dash-renderer-1.8.3 dash-table-4.11.1 flask-compress-1.8.0 jupyter-dash-0.3.1\n"
          ],
          "name": "stdout"
        }
      ]
    },
    {
      "cell_type": "code",
      "metadata": {
        "colab": {
          "base_uri": "https://localhost:8080/"
        },
        "id": "_wKRVS9y0qyY",
        "outputId": "7aa13f04-1d37-4dcf-a222-e4f20aba92dd"
      },
      "source": [
        "!pip install dash"
      ],
      "execution_count": 3,
      "outputs": [
        {
          "output_type": "stream",
          "text": [
            "Requirement already satisfied: dash in /usr/local/lib/python3.6/dist-packages (1.18.1)\n",
            "Requirement already satisfied: dash-renderer==1.8.3 in /usr/local/lib/python3.6/dist-packages (from dash) (1.8.3)\n",
            "Requirement already satisfied: dash-core-components==1.14.1 in /usr/local/lib/python3.6/dist-packages (from dash) (1.14.1)\n",
            "Requirement already satisfied: dash-html-components==1.1.1 in /usr/local/lib/python3.6/dist-packages (from dash) (1.1.1)\n",
            "Requirement already satisfied: future in /usr/local/lib/python3.6/dist-packages (from dash) (0.16.0)\n",
            "Requirement already satisfied: plotly in /usr/local/lib/python3.6/dist-packages (from dash) (4.4.1)\n",
            "Requirement already satisfied: Flask>=1.0.4 in /usr/local/lib/python3.6/dist-packages (from dash) (1.1.2)\n",
            "Requirement already satisfied: flask-compress in /usr/local/lib/python3.6/dist-packages (from dash) (1.8.0)\n",
            "Requirement already satisfied: dash-table==4.11.1 in /usr/local/lib/python3.6/dist-packages (from dash) (4.11.1)\n",
            "Requirement already satisfied: six in /usr/local/lib/python3.6/dist-packages (from plotly->dash) (1.15.0)\n",
            "Requirement already satisfied: retrying>=1.3.3 in /usr/local/lib/python3.6/dist-packages (from plotly->dash) (1.3.3)\n",
            "Requirement already satisfied: itsdangerous>=0.24 in /usr/local/lib/python3.6/dist-packages (from Flask>=1.0.4->dash) (1.1.0)\n",
            "Requirement already satisfied: Jinja2>=2.10.1 in /usr/local/lib/python3.6/dist-packages (from Flask>=1.0.4->dash) (2.11.2)\n",
            "Requirement already satisfied: Werkzeug>=0.15 in /usr/local/lib/python3.6/dist-packages (from Flask>=1.0.4->dash) (1.0.1)\n",
            "Requirement already satisfied: click>=5.1 in /usr/local/lib/python3.6/dist-packages (from Flask>=1.0.4->dash) (7.1.2)\n",
            "Requirement already satisfied: brotli in /usr/local/lib/python3.6/dist-packages (from flask-compress->dash) (1.0.9)\n",
            "Requirement already satisfied: MarkupSafe>=0.23 in /usr/local/lib/python3.6/dist-packages (from Jinja2>=2.10.1->Flask>=1.0.4->dash) (1.1.1)\n"
          ],
          "name": "stdout"
        }
      ]
    },
    {
      "cell_type": "code",
      "metadata": {
        "colab": {
          "base_uri": "https://localhost:8080/",
          "height": 671
        },
        "id": "nSHzwmdBzMH6",
        "outputId": "d915e7b2-49fd-4452-d61b-db95a7a67548"
      },
      "source": [
        "import plotly.express as px\n",
        "from jupyter_dash import JupyterDash\n",
        "import dash_core_components as dcc\n",
        "import dash_html_components as html\n",
        "from dash.dependencies import Input, Output# Load Data\n",
        "df = px.data.tips()# Build App\n",
        "app = JupyterDash(__name__)\n",
        "app.layout = html.Div([\n",
        "    html.H1(\"JupyterDash Demo\"),\n",
        "    dcc.Graph(id='graph'),\n",
        "    html.Label([\n",
        "        \"colorscale\",\n",
        "        dcc.Dropdown(\n",
        "            id='colorscale-dropdown', clearable=False,\n",
        "            value='plasma', options=[\n",
        "                {'label': c, 'value': c}\n",
        "                for c in px.colors.named_colorscales()\n",
        "            ])\n",
        "    ]),\n",
        "])# Define callback to update graph\n",
        "@app.callback(\n",
        "    Output('graph', 'figure'),\n",
        "    [Input(\"colorscale-dropdown\", \"value\")]\n",
        ")\n",
        "def update_figure(colorscale):\n",
        "    return px.scatter(\n",
        "        df, x=\"total_bill\", y=\"tip\", color=\"size\",\n",
        "        color_continuous_scale=colorscale,\n",
        "        render_mode=\"webgl\", title=\"Tips\"\n",
        "    )# Run app and display result inline in the notebook\n",
        "app.run_server(mode='inline')"
      ],
      "execution_count": 4,
      "outputs": [
        {
          "output_type": "display_data",
          "data": {
            "application/javascript": [
              "(async (port, path, width, height, cache, element) => {\n",
              "    if (!google.colab.kernel.accessAllowed && !cache) {\n",
              "      return;\n",
              "    }\n",
              "    element.appendChild(document.createTextNode(''));\n",
              "    const url = await google.colab.kernel.proxyPort(port, {cache});\n",
              "    const iframe = document.createElement('iframe');\n",
              "    iframe.src = url + path;\n",
              "    iframe.height = height;\n",
              "    iframe.width = width;\n",
              "    iframe.style.border = 0;\n",
              "    element.appendChild(iframe);\n",
              "  })(8050, \"/\", \"100%\", 650, false, window.element)"
            ],
            "text/plain": [
              "<IPython.core.display.Javascript object>"
            ]
          },
          "metadata": {
            "tags": []
          }
        }
      ]
    },
    {
      "cell_type": "code",
      "metadata": {
        "colab": {
          "base_uri": "https://localhost:8080/",
          "height": 671
        },
        "id": "bdTep4VXzMK0",
        "outputId": "62490cda-2066-4da3-bff6-04ef3c1ef658"
      },
      "source": [
        "app.run_server(mode='inline')"
      ],
      "execution_count": 13,
      "outputs": [
        {
          "output_type": "display_data",
          "data": {
            "application/javascript": [
              "(async (port, path, width, height, cache, element) => {\n",
              "    if (!google.colab.kernel.accessAllowed && !cache) {\n",
              "      return;\n",
              "    }\n",
              "    element.appendChild(document.createTextNode(''));\n",
              "    const url = await google.colab.kernel.proxyPort(port, {cache});\n",
              "    const iframe = document.createElement('iframe');\n",
              "    iframe.src = url + path;\n",
              "    iframe.height = height;\n",
              "    iframe.width = width;\n",
              "    iframe.style.border = 0;\n",
              "    element.appendChild(iframe);\n",
              "  })(8050, \"/\", \"100%\", 650, false, window.element)"
            ],
            "text/plain": [
              "<IPython.core.display.Javascript object>"
            ]
          },
          "metadata": {
            "tags": []
          }
        }
      ]
    },
    {
      "cell_type": "code",
      "metadata": {
        "colab": {
          "base_uri": "https://localhost:8080/"
        },
        "id": "BVHaRUS3zMNr",
        "outputId": "5d74cae6-f36c-45b5-876e-ffef8ec7a13e"
      },
      "source": [
        "!pip install dash"
      ],
      "execution_count": 14,
      "outputs": [
        {
          "output_type": "stream",
          "text": [
            "Requirement already satisfied: dash in /usr/local/lib/python3.6/dist-packages (1.18.1)\n",
            "Requirement already satisfied: dash-renderer==1.8.3 in /usr/local/lib/python3.6/dist-packages (from dash) (1.8.3)\n",
            "Requirement already satisfied: dash-html-components==1.1.1 in /usr/local/lib/python3.6/dist-packages (from dash) (1.1.1)\n",
            "Requirement already satisfied: dash-table==4.11.1 in /usr/local/lib/python3.6/dist-packages (from dash) (4.11.1)\n",
            "Requirement already satisfied: future in /usr/local/lib/python3.6/dist-packages (from dash) (0.16.0)\n",
            "Requirement already satisfied: flask-compress in /usr/local/lib/python3.6/dist-packages (from dash) (1.8.0)\n",
            "Requirement already satisfied: dash-core-components==1.14.1 in /usr/local/lib/python3.6/dist-packages (from dash) (1.14.1)\n",
            "Requirement already satisfied: plotly in /usr/local/lib/python3.6/dist-packages (from dash) (4.4.1)\n",
            "Requirement already satisfied: Flask>=1.0.4 in /usr/local/lib/python3.6/dist-packages (from dash) (1.1.2)\n",
            "Requirement already satisfied: brotli in /usr/local/lib/python3.6/dist-packages (from flask-compress->dash) (1.0.9)\n",
            "Requirement already satisfied: retrying>=1.3.3 in /usr/local/lib/python3.6/dist-packages (from plotly->dash) (1.3.3)\n",
            "Requirement already satisfied: six in /usr/local/lib/python3.6/dist-packages (from plotly->dash) (1.15.0)\n",
            "Requirement already satisfied: Jinja2>=2.10.1 in /usr/local/lib/python3.6/dist-packages (from Flask>=1.0.4->dash) (2.11.2)\n",
            "Requirement already satisfied: click>=5.1 in /usr/local/lib/python3.6/dist-packages (from Flask>=1.0.4->dash) (7.1.2)\n",
            "Requirement already satisfied: Werkzeug>=0.15 in /usr/local/lib/python3.6/dist-packages (from Flask>=1.0.4->dash) (1.0.1)\n",
            "Requirement already satisfied: itsdangerous>=0.24 in /usr/local/lib/python3.6/dist-packages (from Flask>=1.0.4->dash) (1.1.0)\n",
            "Requirement already satisfied: MarkupSafe>=0.23 in /usr/local/lib/python3.6/dist-packages (from Jinja2>=2.10.1->Flask>=1.0.4->dash) (1.1.1)\n"
          ],
          "name": "stdout"
        }
      ]
    },
    {
      "cell_type": "code",
      "metadata": {
        "colab": {
          "base_uri": "https://localhost:8080/",
          "height": 237
        },
        "id": "NLA6-3DezMQ1",
        "outputId": "82cb1f44-15bd-4cf4-bf19-a341af208e65"
      },
      "source": [
        "import dash\n",
        "import json\n",
        "import pandas as pd\n",
        "from dash.dependencies import Input, Output\n",
        "import dash_core_components as dcc\n",
        "import dash_html_components as dhc\n",
        "\n",
        "dcc.Slider(min=-10, max=10, value=4, step=0.5, marks={-5:'-5 Degree', 0:'0', 10:'10 Degree'})\n",
        "\n",
        "\n",
        "@dash_app.callback(Output('graph-id','figure'),\n",
        "                   [Input('slider-id','value')])\n",
        "\n",
        "def dta_analisys(new_slider):\n",
        "\n",
        "  new_figure = your_compute_figure_function(new_slider)\n",
        "  return new_figure\n",
        "\n"
      ],
      "execution_count": 57,
      "outputs": [
        {
          "output_type": "error",
          "ename": "NameError",
          "evalue": "ignored",
          "traceback": [
            "\u001b[0;31m---------------------------------------------------------------------------\u001b[0m",
            "\u001b[0;31mNameError\u001b[0m                                 Traceback (most recent call last)",
            "\u001b[0;32m<ipython-input-57-a32213c52f69>\u001b[0m in \u001b[0;36m<module>\u001b[0;34m()\u001b[0m\n\u001b[1;32m      9\u001b[0m \u001b[0;34m\u001b[0m\u001b[0m\n\u001b[1;32m     10\u001b[0m \u001b[0;34m\u001b[0m\u001b[0m\n\u001b[0;32m---> 11\u001b[0;31m @dash_app.callback(Output('graph-id','figure'),\n\u001b[0m\u001b[1;32m     12\u001b[0m                    [Input('slider-id','value')])\n\u001b[1;32m     13\u001b[0m \u001b[0;34m\u001b[0m\u001b[0m\n",
            "\u001b[0;31mNameError\u001b[0m: name 'dash_app' is not defined"
          ]
        }
      ]
    },
    {
      "cell_type": "code",
      "metadata": {
        "colab": {
          "base_uri": "https://localhost:8080/",
          "height": 348
        },
        "id": "yDJMuMOCIJwp",
        "outputId": "1d4f961c-405b-46fc-fe27-799388eca2c0"
      },
      "source": [
        "dcc.Dropdown(valu=3)"
      ],
      "execution_count": 39,
      "outputs": [
        {
          "output_type": "error",
          "ename": "TypeError",
          "evalue": "ignored",
          "traceback": [
            "\u001b[0;31m---------------------------------------------------------------------------\u001b[0m",
            "\u001b[0;31mTypeError\u001b[0m                                 Traceback (most recent call last)",
            "\u001b[0;32m<ipython-input-39-324ca504b85a>\u001b[0m in \u001b[0;36m<module>\u001b[0;34m()\u001b[0m\n\u001b[0;32m----> 1\u001b[0;31m \u001b[0mdcc\u001b[0m\u001b[0;34m.\u001b[0m\u001b[0mDropdown\u001b[0m\u001b[0;34m(\u001b[0m\u001b[0mvalu\u001b[0m\u001b[0;34m=\u001b[0m\u001b[0;36m3\u001b[0m\u001b[0;34m)\u001b[0m\u001b[0;34m\u001b[0m\u001b[0;34m\u001b[0m\u001b[0m\n\u001b[0m",
            "\u001b[0;32m/usr/local/lib/python3.6/dist-packages/dash/development/base_component.py\u001b[0m in \u001b[0;36mwrapper\u001b[0;34m(*args, **kwargs)\u001b[0m\n\u001b[1;32m    364\u001b[0m         \u001b[0;32mif\u001b[0m \u001b[0;34m\"self\"\u001b[0m \u001b[0;32min\u001b[0m \u001b[0mkwargs\u001b[0m\u001b[0;34m[\u001b[0m\u001b[0;34m\"_explicit_args\"\u001b[0m\u001b[0;34m]\u001b[0m\u001b[0;34m:\u001b[0m\u001b[0;34m\u001b[0m\u001b[0;34m\u001b[0m\u001b[0m\n\u001b[1;32m    365\u001b[0m             \u001b[0mkwargs\u001b[0m\u001b[0;34m[\u001b[0m\u001b[0;34m\"_explicit_args\"\u001b[0m\u001b[0;34m]\u001b[0m\u001b[0;34m.\u001b[0m\u001b[0mremove\u001b[0m\u001b[0;34m(\u001b[0m\u001b[0;34m\"self\"\u001b[0m\u001b[0;34m)\u001b[0m\u001b[0;34m\u001b[0m\u001b[0;34m\u001b[0m\u001b[0m\n\u001b[0;32m--> 366\u001b[0;31m         \u001b[0;32mreturn\u001b[0m \u001b[0mfunc\u001b[0m\u001b[0;34m(\u001b[0m\u001b[0;34m*\u001b[0m\u001b[0margs\u001b[0m\u001b[0;34m,\u001b[0m \u001b[0;34m**\u001b[0m\u001b[0mkwargs\u001b[0m\u001b[0;34m)\u001b[0m\u001b[0;34m\u001b[0m\u001b[0;34m\u001b[0m\u001b[0m\n\u001b[0m\u001b[1;32m    367\u001b[0m \u001b[0;34m\u001b[0m\u001b[0m\n\u001b[1;32m    368\u001b[0m     \u001b[0;31m# If Python 3, we can set the function signature to be correct\u001b[0m\u001b[0;34m\u001b[0m\u001b[0;34m\u001b[0m\u001b[0;34m\u001b[0m\u001b[0m\n",
            "\u001b[0;32m/usr/local/lib/python3.6/dist-packages/dash_core_components/Dropdown.py\u001b[0m in \u001b[0;36m__init__\u001b[0;34m(self, id, options, value, optionHeight, className, clearable, disabled, multi, placeholder, searchable, search_value, style, loading_state, persistence, persisted_props, persistence_type, **kwargs)\u001b[0m\n\u001b[1;32m     83\u001b[0m                 raise TypeError(\n\u001b[1;32m     84\u001b[0m                     'Required argument `' + k + '` was not specified.')\n\u001b[0;32m---> 85\u001b[0;31m         \u001b[0msuper\u001b[0m\u001b[0;34m(\u001b[0m\u001b[0mDropdown\u001b[0m\u001b[0;34m,\u001b[0m \u001b[0mself\u001b[0m\u001b[0;34m)\u001b[0m\u001b[0;34m.\u001b[0m\u001b[0m__init__\u001b[0m\u001b[0;34m(\u001b[0m\u001b[0;34m**\u001b[0m\u001b[0margs\u001b[0m\u001b[0;34m)\u001b[0m\u001b[0;34m\u001b[0m\u001b[0;34m\u001b[0m\u001b[0m\n\u001b[0m",
            "\u001b[0;32m/usr/local/lib/python3.6/dist-packages/dash/development/base_component.py\u001b[0m in \u001b[0;36m__init__\u001b[0;34m(self, **kwargs)\u001b[0m\n\u001b[1;32m    110\u001b[0m                     )\n\u001b[1;32m    111\u001b[0m                     + \"\\nAllowed arguments: {}\".format(  # pylint: disable=no-member\n\u001b[0;32m--> 112\u001b[0;31m                         \u001b[0;34m\", \"\u001b[0m\u001b[0;34m.\u001b[0m\u001b[0mjoin\u001b[0m\u001b[0;34m(\u001b[0m\u001b[0msorted\u001b[0m\u001b[0;34m(\u001b[0m\u001b[0mself\u001b[0m\u001b[0;34m.\u001b[0m\u001b[0m_prop_names\u001b[0m\u001b[0;34m)\u001b[0m\u001b[0;34m)\u001b[0m\u001b[0;34m\u001b[0m\u001b[0;34m\u001b[0m\u001b[0m\n\u001b[0m\u001b[1;32m    113\u001b[0m                     )\n\u001b[1;32m    114\u001b[0m                 )\n",
            "\u001b[0;31mTypeError\u001b[0m: The `dash_core_components.Dropdown` component (version 1.14.1) received an unexpected keyword argument: `valu`\nAllowed arguments: className, clearable, disabled, id, loading_state, multi, optionHeight, options, persisted_props, persistence, persistence_type, placeholder, search_value, searchable, style, value"
          ]
        }
      ]
    },
    {
      "cell_type": "code",
      "metadata": {
        "colab": {
          "base_uri": "https://localhost:8080/"
        },
        "id": "vUiiNz6VIvgf",
        "outputId": "d46f618a-1162-44e2-f63d-adfdc7cf4ba6"
      },
      "source": [
        "help(dcc.Dropdown)"
      ],
      "execution_count": 40,
      "outputs": [
        {
          "output_type": "stream",
          "text": [
            "Help on class Dropdown in module dash_core_components.Dropdown:\n",
            "\n",
            "class Dropdown(dash.development.base_component.Component)\n",
            " |  A Dropdown component.\n",
            " |  Dropdown is an interactive dropdown element for selecting one or more\n",
            " |  items.\n",
            " |  The values and labels of the dropdown items are specified in the `options`\n",
            " |  property and the selected item(s) are specified with the `value` property.\n",
            " |  \n",
            " |  Use a dropdown when you have many options (more than 5) or when you are\n",
            " |  constrained for space. Otherwise, you can use RadioItems or a Checklist,\n",
            " |  which have the benefit of showing the users all of the items at once.\n",
            " |  \n",
            " |  Keyword arguments:\n",
            " |  - id (string; optional): The ID of this component, used to identify dash components\n",
            " |  in callbacks. The ID needs to be unique across all of the\n",
            " |  components in an app.\n",
            " |  - options (dict; optional): An array of options {label: [string|number], value: [string|number]},\n",
            " |  an optional disabled field can be used for each option. options has the following type: list of dicts containing keys 'label', 'value', 'disabled', 'title'.\n",
            " |  Those keys have the following types:\n",
            " |    - label (string | number; required): The dropdown's label\n",
            " |    - value (string | number; required): The value of the dropdown. This value\n",
            " |  corresponds to the items specified in the\n",
            " |  `value` property.\n",
            " |    - disabled (boolean; optional): If true, this option is disabled and cannot be selected.\n",
            " |    - title (string; optional): The HTML 'title' attribute for the option. Allows for\n",
            " |  information on hover. For more information on this attribute,\n",
            " |  see https://developer.mozilla.org/en-US/docs/Web/HTML/Global_attributes/title\n",
            " |  - value (string | number | list of string | numbers; optional): The value of the input. If `multi` is false (the default)\n",
            " |  then value is just a string that corresponds to the values\n",
            " |  provided in the `options` property. If `multi` is true, then\n",
            " |  multiple values can be selected at once, and `value` is an\n",
            " |  array of items with values corresponding to those in the\n",
            " |  `options` prop.\n",
            " |  - optionHeight (number; default 35): height of each option. Can be increased when label lengths would wrap around\n",
            " |  - className (string; optional): className of the dropdown element\n",
            " |  - clearable (boolean; default True): Whether or not the dropdown is \"clearable\", that is, whether or\n",
            " |  not a small \"x\" appears on the right of the dropdown that removes\n",
            " |  the selected value.\n",
            " |  - disabled (boolean; default False): If true, this dropdown is disabled and the selection cannot be changed.\n",
            " |  - multi (boolean; default False): If true, the user can select multiple values\n",
            " |  - placeholder (string; optional): The grey, default text shown when no option is selected\n",
            " |  - searchable (boolean; default True): Whether to enable the searching feature or not\n",
            " |  - search_value (string; optional): The value typed in the DropDown for searching.\n",
            " |  - style (dict; optional): Defines CSS styles which will override styles previously set.\n",
            " |  - loading_state (dict; optional): Object that holds the loading state object coming from dash-renderer. loading_state has the following type: dict containing keys 'is_loading', 'prop_name', 'component_name'.\n",
            " |  Those keys have the following types:\n",
            " |    - is_loading (boolean; optional): Determines if the component is loading or not\n",
            " |    - prop_name (string; optional): Holds which property is loading\n",
            " |    - component_name (string; optional): Holds the name of the component that is loading\n",
            " |  - persistence (boolean | string | number; optional): Used to allow user interactions in this component to be persisted when\n",
            " |  the component - or the page - is refreshed. If `persisted` is truthy and\n",
            " |  hasn't changed from its previous value, a `value` that the user has\n",
            " |  changed while using the app will keep that change, as long as\n",
            " |  the new `value` also matches what was given originally.\n",
            " |  Used in conjunction with `persistence_type`.\n",
            " |  - persisted_props (list of a value equal to: 'value's; default ['value']): Properties whose user interactions will persist after refreshing the\n",
            " |  component or the page. Since only `value` is allowed this prop can\n",
            " |  normally be ignored.\n",
            " |  - persistence_type (a value equal to: 'local', 'session', 'memory'; default 'local'): Where persisted user changes will be stored:\n",
            " |  memory: only kept in memory, reset on page refresh.\n",
            " |  local: window.localStorage, data is kept after the browser quit.\n",
            " |  session: window.sessionStorage, data is cleared once the browser quit.\n",
            " |  \n",
            " |  Method resolution order:\n",
            " |      Dropdown\n",
            " |      dash.development.base_component.Component\n",
            " |      builtins.object\n",
            " |  \n",
            " |  Methods defined here:\n",
            " |  \n",
            " |  __init__ = wrapper(self, id=undefined, options=undefined, value=undefined, optionHeight=undefined, className=undefined, clearable=undefined, disabled=undefined, multi=undefined, placeholder=undefined, searchable=undefined, search_value=undefined, style=undefined, loading_state=undefined, persistence=undefined, persisted_props=undefined, persistence_type=undefined, **kwargs)\n",
            " |  \n",
            " |  ----------------------------------------------------------------------\n",
            " |  Data and other attributes defined here:\n",
            " |  \n",
            " |  __abstractmethods__ = frozenset()\n",
            " |  \n",
            " |  ----------------------------------------------------------------------\n",
            " |  Methods inherited from dash.development.base_component.Component:\n",
            " |  \n",
            " |  __delitem__(self, id)\n",
            " |      Delete items by ID in the tree of children.\n",
            " |  \n",
            " |  __getitem__(self, id)\n",
            " |      Recursively find the element with the given ID through the tree of\n",
            " |      children.\n",
            " |  \n",
            " |  __iter__(self)\n",
            " |      Yield IDs in the tree of children.\n",
            " |  \n",
            " |  __len__(self)\n",
            " |      Return the number of items in the tree.\n",
            " |  \n",
            " |  __repr__(self)\n",
            " |      Return repr(self).\n",
            " |  \n",
            " |  __setitem__(self, id, item)\n",
            " |      Set an element by its ID.\n",
            " |  \n",
            " |  to_plotly_json(self)\n",
            " |  \n",
            " |  ----------------------------------------------------------------------\n",
            " |  Data descriptors inherited from dash.development.base_component.Component:\n",
            " |  \n",
            " |  __dict__\n",
            " |      dictionary for instance variables (if defined)\n",
            " |  \n",
            " |  __weakref__\n",
            " |      list of weak references to the object (if defined)\n",
            " |  \n",
            " |  ----------------------------------------------------------------------\n",
            " |  Data and other attributes inherited from dash.development.base_component.Component:\n",
            " |  \n",
            " |  REQUIRED = required\n",
            " |  \n",
            " |  UNDEFINED = undefined\n",
            "\n"
          ],
          "name": "stdout"
        }
      ]
    },
    {
      "cell_type": "code",
      "metadata": {
        "colab": {
          "base_uri": "https://localhost:8080/",
          "height": 1000
        },
        "id": "q-1uuuHaIvjy",
        "outputId": "ed67e423-fedf-4e8a-a597-c7ed3d7760d2"
      },
      "source": [
        "import plotly.express as px\n",
        "\n",
        "fig = [px.line(x=['a','b','c'], y=[1,3,2], title='samples'),\n",
        "       px.line(x=['a','b','c'], y=[2,3,1], title='sample')]\n",
        "\n",
        "fig[0].show(), fig[1].show()"
      ],
      "execution_count": 61,
      "outputs": [
        {
          "output_type": "display_data",
          "data": {
            "text/html": [
              "<html>\n",
              "<head><meta charset=\"utf-8\" /></head>\n",
              "<body>\n",
              "    <div>\n",
              "            <script src=\"https://cdnjs.cloudflare.com/ajax/libs/mathjax/2.7.5/MathJax.js?config=TeX-AMS-MML_SVG\"></script><script type=\"text/javascript\">if (window.MathJax) {MathJax.Hub.Config({SVG: {font: \"STIX-Web\"}});}</script>\n",
              "                <script type=\"text/javascript\">window.PlotlyConfig = {MathJaxConfig: 'local'};</script>\n",
              "        <script src=\"https://cdn.plot.ly/plotly-latest.min.js\"></script>    \n",
              "            <div id=\"538a0598-2e13-47dd-bf2e-ca7b0541a589\" class=\"plotly-graph-div\" style=\"height:525px; width:100%;\"></div>\n",
              "            <script type=\"text/javascript\">\n",
              "                \n",
              "                    window.PLOTLYENV=window.PLOTLYENV || {};\n",
              "                    \n",
              "                if (document.getElementById(\"538a0598-2e13-47dd-bf2e-ca7b0541a589\")) {\n",
              "                    Plotly.newPlot(\n",
              "                        '538a0598-2e13-47dd-bf2e-ca7b0541a589',\n",
              "                        [{\"hoverlabel\": {\"namelength\": 0}, \"hovertemplate\": \"x=%{x}<br>y=%{y}\", \"legendgroup\": \"\", \"line\": {\"color\": \"#636efa\", \"dash\": \"solid\"}, \"mode\": \"lines\", \"name\": \"\", \"showlegend\": false, \"type\": \"scatter\", \"x\": [\"a\", \"b\", \"c\"], \"xaxis\": \"x\", \"y\": [1, 3, 2], \"yaxis\": \"y\"}],\n",
              "                        {\"legend\": {\"tracegroupgap\": 0}, \"template\": {\"data\": {\"bar\": [{\"error_x\": {\"color\": \"#2a3f5f\"}, \"error_y\": {\"color\": \"#2a3f5f\"}, \"marker\": {\"line\": {\"color\": \"#E5ECF6\", \"width\": 0.5}}, \"type\": \"bar\"}], \"barpolar\": [{\"marker\": {\"line\": {\"color\": \"#E5ECF6\", \"width\": 0.5}}, \"type\": \"barpolar\"}], \"carpet\": [{\"aaxis\": {\"endlinecolor\": \"#2a3f5f\", \"gridcolor\": \"white\", \"linecolor\": \"white\", \"minorgridcolor\": \"white\", \"startlinecolor\": \"#2a3f5f\"}, \"baxis\": {\"endlinecolor\": \"#2a3f5f\", \"gridcolor\": \"white\", \"linecolor\": \"white\", \"minorgridcolor\": \"white\", \"startlinecolor\": \"#2a3f5f\"}, \"type\": \"carpet\"}], \"choropleth\": [{\"colorbar\": {\"outlinewidth\": 0, \"ticks\": \"\"}, \"type\": \"choropleth\"}], \"contour\": [{\"colorbar\": {\"outlinewidth\": 0, \"ticks\": \"\"}, \"colorscale\": [[0.0, \"#0d0887\"], [0.1111111111111111, \"#46039f\"], [0.2222222222222222, \"#7201a8\"], [0.3333333333333333, \"#9c179e\"], [0.4444444444444444, \"#bd3786\"], [0.5555555555555556, \"#d8576b\"], [0.6666666666666666, \"#ed7953\"], [0.7777777777777778, \"#fb9f3a\"], [0.8888888888888888, \"#fdca26\"], [1.0, \"#f0f921\"]], \"type\": \"contour\"}], \"contourcarpet\": [{\"colorbar\": {\"outlinewidth\": 0, \"ticks\": \"\"}, \"type\": \"contourcarpet\"}], \"heatmap\": [{\"colorbar\": {\"outlinewidth\": 0, \"ticks\": \"\"}, \"colorscale\": [[0.0, \"#0d0887\"], [0.1111111111111111, \"#46039f\"], [0.2222222222222222, \"#7201a8\"], [0.3333333333333333, \"#9c179e\"], [0.4444444444444444, \"#bd3786\"], [0.5555555555555556, \"#d8576b\"], [0.6666666666666666, \"#ed7953\"], [0.7777777777777778, \"#fb9f3a\"], [0.8888888888888888, \"#fdca26\"], [1.0, \"#f0f921\"]], \"type\": \"heatmap\"}], \"heatmapgl\": [{\"colorbar\": {\"outlinewidth\": 0, \"ticks\": \"\"}, \"colorscale\": [[0.0, \"#0d0887\"], [0.1111111111111111, \"#46039f\"], [0.2222222222222222, \"#7201a8\"], [0.3333333333333333, \"#9c179e\"], [0.4444444444444444, \"#bd3786\"], [0.5555555555555556, \"#d8576b\"], [0.6666666666666666, \"#ed7953\"], [0.7777777777777778, \"#fb9f3a\"], [0.8888888888888888, \"#fdca26\"], [1.0, \"#f0f921\"]], \"type\": \"heatmapgl\"}], \"histogram\": [{\"marker\": {\"colorbar\": {\"outlinewidth\": 0, \"ticks\": \"\"}}, \"type\": \"histogram\"}], \"histogram2d\": [{\"colorbar\": {\"outlinewidth\": 0, \"ticks\": \"\"}, \"colorscale\": [[0.0, \"#0d0887\"], [0.1111111111111111, \"#46039f\"], [0.2222222222222222, \"#7201a8\"], [0.3333333333333333, \"#9c179e\"], [0.4444444444444444, \"#bd3786\"], [0.5555555555555556, \"#d8576b\"], [0.6666666666666666, \"#ed7953\"], [0.7777777777777778, \"#fb9f3a\"], [0.8888888888888888, \"#fdca26\"], [1.0, \"#f0f921\"]], \"type\": \"histogram2d\"}], \"histogram2dcontour\": [{\"colorbar\": {\"outlinewidth\": 0, \"ticks\": \"\"}, \"colorscale\": [[0.0, \"#0d0887\"], [0.1111111111111111, \"#46039f\"], [0.2222222222222222, \"#7201a8\"], [0.3333333333333333, \"#9c179e\"], [0.4444444444444444, \"#bd3786\"], [0.5555555555555556, \"#d8576b\"], [0.6666666666666666, \"#ed7953\"], [0.7777777777777778, \"#fb9f3a\"], [0.8888888888888888, \"#fdca26\"], [1.0, \"#f0f921\"]], \"type\": \"histogram2dcontour\"}], \"mesh3d\": [{\"colorbar\": {\"outlinewidth\": 0, \"ticks\": \"\"}, \"type\": \"mesh3d\"}], \"parcoords\": [{\"line\": {\"colorbar\": {\"outlinewidth\": 0, \"ticks\": \"\"}}, \"type\": \"parcoords\"}], \"pie\": [{\"automargin\": true, \"type\": \"pie\"}], \"scatter\": [{\"marker\": {\"colorbar\": {\"outlinewidth\": 0, \"ticks\": \"\"}}, \"type\": \"scatter\"}], \"scatter3d\": [{\"line\": {\"colorbar\": {\"outlinewidth\": 0, \"ticks\": \"\"}}, \"marker\": {\"colorbar\": {\"outlinewidth\": 0, \"ticks\": \"\"}}, \"type\": \"scatter3d\"}], \"scattercarpet\": [{\"marker\": {\"colorbar\": {\"outlinewidth\": 0, \"ticks\": \"\"}}, \"type\": \"scattercarpet\"}], \"scattergeo\": [{\"marker\": {\"colorbar\": {\"outlinewidth\": 0, \"ticks\": \"\"}}, \"type\": \"scattergeo\"}], \"scattergl\": [{\"marker\": {\"colorbar\": {\"outlinewidth\": 0, \"ticks\": \"\"}}, \"type\": \"scattergl\"}], \"scattermapbox\": [{\"marker\": {\"colorbar\": {\"outlinewidth\": 0, \"ticks\": \"\"}}, \"type\": \"scattermapbox\"}], \"scatterpolar\": [{\"marker\": {\"colorbar\": {\"outlinewidth\": 0, \"ticks\": \"\"}}, \"type\": \"scatterpolar\"}], \"scatterpolargl\": [{\"marker\": {\"colorbar\": {\"outlinewidth\": 0, \"ticks\": \"\"}}, \"type\": \"scatterpolargl\"}], \"scatterternary\": [{\"marker\": {\"colorbar\": {\"outlinewidth\": 0, \"ticks\": \"\"}}, \"type\": \"scatterternary\"}], \"surface\": [{\"colorbar\": {\"outlinewidth\": 0, \"ticks\": \"\"}, \"colorscale\": [[0.0, \"#0d0887\"], [0.1111111111111111, \"#46039f\"], [0.2222222222222222, \"#7201a8\"], [0.3333333333333333, \"#9c179e\"], [0.4444444444444444, \"#bd3786\"], [0.5555555555555556, \"#d8576b\"], [0.6666666666666666, \"#ed7953\"], [0.7777777777777778, \"#fb9f3a\"], [0.8888888888888888, \"#fdca26\"], [1.0, \"#f0f921\"]], \"type\": \"surface\"}], \"table\": [{\"cells\": {\"fill\": {\"color\": \"#EBF0F8\"}, \"line\": {\"color\": \"white\"}}, \"header\": {\"fill\": {\"color\": \"#C8D4E3\"}, \"line\": {\"color\": \"white\"}}, \"type\": \"table\"}]}, \"layout\": {\"annotationdefaults\": {\"arrowcolor\": \"#2a3f5f\", \"arrowhead\": 0, \"arrowwidth\": 1}, \"coloraxis\": {\"colorbar\": {\"outlinewidth\": 0, \"ticks\": \"\"}}, \"colorscale\": {\"diverging\": [[0, \"#8e0152\"], [0.1, \"#c51b7d\"], [0.2, \"#de77ae\"], [0.3, \"#f1b6da\"], [0.4, \"#fde0ef\"], [0.5, \"#f7f7f7\"], [0.6, \"#e6f5d0\"], [0.7, \"#b8e186\"], [0.8, \"#7fbc41\"], [0.9, \"#4d9221\"], [1, \"#276419\"]], \"sequential\": [[0.0, \"#0d0887\"], [0.1111111111111111, \"#46039f\"], [0.2222222222222222, \"#7201a8\"], [0.3333333333333333, \"#9c179e\"], [0.4444444444444444, \"#bd3786\"], [0.5555555555555556, \"#d8576b\"], [0.6666666666666666, \"#ed7953\"], [0.7777777777777778, \"#fb9f3a\"], [0.8888888888888888, \"#fdca26\"], [1.0, \"#f0f921\"]], \"sequentialminus\": [[0.0, \"#0d0887\"], [0.1111111111111111, \"#46039f\"], [0.2222222222222222, \"#7201a8\"], [0.3333333333333333, \"#9c179e\"], [0.4444444444444444, \"#bd3786\"], [0.5555555555555556, \"#d8576b\"], [0.6666666666666666, \"#ed7953\"], [0.7777777777777778, \"#fb9f3a\"], [0.8888888888888888, \"#fdca26\"], [1.0, \"#f0f921\"]]}, \"colorway\": [\"#636efa\", \"#EF553B\", \"#00cc96\", \"#ab63fa\", \"#FFA15A\", \"#19d3f3\", \"#FF6692\", \"#B6E880\", \"#FF97FF\", \"#FECB52\"], \"font\": {\"color\": \"#2a3f5f\"}, \"geo\": {\"bgcolor\": \"white\", \"lakecolor\": \"white\", \"landcolor\": \"#E5ECF6\", \"showlakes\": true, \"showland\": true, \"subunitcolor\": \"white\"}, \"hoverlabel\": {\"align\": \"left\"}, \"hovermode\": \"closest\", \"mapbox\": {\"style\": \"light\"}, \"paper_bgcolor\": \"white\", \"plot_bgcolor\": \"#E5ECF6\", \"polar\": {\"angularaxis\": {\"gridcolor\": \"white\", \"linecolor\": \"white\", \"ticks\": \"\"}, \"bgcolor\": \"#E5ECF6\", \"radialaxis\": {\"gridcolor\": \"white\", \"linecolor\": \"white\", \"ticks\": \"\"}}, \"scene\": {\"xaxis\": {\"backgroundcolor\": \"#E5ECF6\", \"gridcolor\": \"white\", \"gridwidth\": 2, \"linecolor\": \"white\", \"showbackground\": true, \"ticks\": \"\", \"zerolinecolor\": \"white\"}, \"yaxis\": {\"backgroundcolor\": \"#E5ECF6\", \"gridcolor\": \"white\", \"gridwidth\": 2, \"linecolor\": \"white\", \"showbackground\": true, \"ticks\": \"\", \"zerolinecolor\": \"white\"}, \"zaxis\": {\"backgroundcolor\": \"#E5ECF6\", \"gridcolor\": \"white\", \"gridwidth\": 2, \"linecolor\": \"white\", \"showbackground\": true, \"ticks\": \"\", \"zerolinecolor\": \"white\"}}, \"shapedefaults\": {\"line\": {\"color\": \"#2a3f5f\"}}, \"ternary\": {\"aaxis\": {\"gridcolor\": \"white\", \"linecolor\": \"white\", \"ticks\": \"\"}, \"baxis\": {\"gridcolor\": \"white\", \"linecolor\": \"white\", \"ticks\": \"\"}, \"bgcolor\": \"#E5ECF6\", \"caxis\": {\"gridcolor\": \"white\", \"linecolor\": \"white\", \"ticks\": \"\"}}, \"title\": {\"x\": 0.05}, \"xaxis\": {\"automargin\": true, \"gridcolor\": \"white\", \"linecolor\": \"white\", \"ticks\": \"\", \"title\": {\"standoff\": 15}, \"zerolinecolor\": \"white\", \"zerolinewidth\": 2}, \"yaxis\": {\"automargin\": true, \"gridcolor\": \"white\", \"linecolor\": \"white\", \"ticks\": \"\", \"title\": {\"standoff\": 15}, \"zerolinecolor\": \"white\", \"zerolinewidth\": 2}}}, \"title\": {\"text\": \"samples\"}, \"xaxis\": {\"anchor\": \"y\", \"domain\": [0.0, 1.0], \"title\": {\"text\": \"x\"}}, \"yaxis\": {\"anchor\": \"x\", \"domain\": [0.0, 1.0], \"title\": {\"text\": \"y\"}}},\n",
              "                        {\"responsive\": true}\n",
              "                    ).then(function(){\n",
              "                            \n",
              "var gd = document.getElementById('538a0598-2e13-47dd-bf2e-ca7b0541a589');\n",
              "var x = new MutationObserver(function (mutations, observer) {{\n",
              "        var display = window.getComputedStyle(gd).display;\n",
              "        if (!display || display === 'none') {{\n",
              "            console.log([gd, 'removed!']);\n",
              "            Plotly.purge(gd);\n",
              "            observer.disconnect();\n",
              "        }}\n",
              "}});\n",
              "\n",
              "// Listen for the removal of the full notebook cells\n",
              "var notebookContainer = gd.closest('#notebook-container');\n",
              "if (notebookContainer) {{\n",
              "    x.observe(notebookContainer, {childList: true});\n",
              "}}\n",
              "\n",
              "// Listen for the clearing of the current output cell\n",
              "var outputEl = gd.closest('.output');\n",
              "if (outputEl) {{\n",
              "    x.observe(outputEl, {childList: true});\n",
              "}}\n",
              "\n",
              "                        })\n",
              "                };\n",
              "                \n",
              "            </script>\n",
              "        </div>\n",
              "</body>\n",
              "</html>"
            ]
          },
          "metadata": {
            "tags": []
          }
        },
        {
          "output_type": "display_data",
          "data": {
            "text/html": [
              "<html>\n",
              "<head><meta charset=\"utf-8\" /></head>\n",
              "<body>\n",
              "    <div>\n",
              "            <script src=\"https://cdnjs.cloudflare.com/ajax/libs/mathjax/2.7.5/MathJax.js?config=TeX-AMS-MML_SVG\"></script><script type=\"text/javascript\">if (window.MathJax) {MathJax.Hub.Config({SVG: {font: \"STIX-Web\"}});}</script>\n",
              "                <script type=\"text/javascript\">window.PlotlyConfig = {MathJaxConfig: 'local'};</script>\n",
              "        <script src=\"https://cdn.plot.ly/plotly-latest.min.js\"></script>    \n",
              "            <div id=\"64310670-a2ee-48de-b43c-3e70d8b2d952\" class=\"plotly-graph-div\" style=\"height:525px; width:100%;\"></div>\n",
              "            <script type=\"text/javascript\">\n",
              "                \n",
              "                    window.PLOTLYENV=window.PLOTLYENV || {};\n",
              "                    \n",
              "                if (document.getElementById(\"64310670-a2ee-48de-b43c-3e70d8b2d952\")) {\n",
              "                    Plotly.newPlot(\n",
              "                        '64310670-a2ee-48de-b43c-3e70d8b2d952',\n",
              "                        [{\"hoverlabel\": {\"namelength\": 0}, \"hovertemplate\": \"x=%{x}<br>y=%{y}\", \"legendgroup\": \"\", \"line\": {\"color\": \"#636efa\", \"dash\": \"solid\"}, \"mode\": \"lines\", \"name\": \"\", \"showlegend\": false, \"type\": \"scatter\", \"x\": [\"a\", \"b\", \"c\"], \"xaxis\": \"x\", \"y\": [2, 3, 1], \"yaxis\": \"y\"}],\n",
              "                        {\"legend\": {\"tracegroupgap\": 0}, \"template\": {\"data\": {\"bar\": [{\"error_x\": {\"color\": \"#2a3f5f\"}, \"error_y\": {\"color\": \"#2a3f5f\"}, \"marker\": {\"line\": {\"color\": \"#E5ECF6\", \"width\": 0.5}}, \"type\": \"bar\"}], \"barpolar\": [{\"marker\": {\"line\": {\"color\": \"#E5ECF6\", \"width\": 0.5}}, \"type\": \"barpolar\"}], \"carpet\": [{\"aaxis\": {\"endlinecolor\": \"#2a3f5f\", \"gridcolor\": \"white\", \"linecolor\": \"white\", \"minorgridcolor\": \"white\", \"startlinecolor\": \"#2a3f5f\"}, \"baxis\": {\"endlinecolor\": \"#2a3f5f\", \"gridcolor\": \"white\", \"linecolor\": \"white\", \"minorgridcolor\": \"white\", \"startlinecolor\": \"#2a3f5f\"}, \"type\": \"carpet\"}], \"choropleth\": [{\"colorbar\": {\"outlinewidth\": 0, \"ticks\": \"\"}, \"type\": \"choropleth\"}], \"contour\": [{\"colorbar\": {\"outlinewidth\": 0, \"ticks\": \"\"}, \"colorscale\": [[0.0, \"#0d0887\"], [0.1111111111111111, \"#46039f\"], [0.2222222222222222, \"#7201a8\"], [0.3333333333333333, \"#9c179e\"], [0.4444444444444444, \"#bd3786\"], [0.5555555555555556, \"#d8576b\"], [0.6666666666666666, \"#ed7953\"], [0.7777777777777778, \"#fb9f3a\"], [0.8888888888888888, \"#fdca26\"], [1.0, \"#f0f921\"]], \"type\": \"contour\"}], \"contourcarpet\": [{\"colorbar\": {\"outlinewidth\": 0, \"ticks\": \"\"}, \"type\": \"contourcarpet\"}], \"heatmap\": [{\"colorbar\": {\"outlinewidth\": 0, \"ticks\": \"\"}, \"colorscale\": [[0.0, \"#0d0887\"], [0.1111111111111111, \"#46039f\"], [0.2222222222222222, \"#7201a8\"], [0.3333333333333333, \"#9c179e\"], [0.4444444444444444, \"#bd3786\"], [0.5555555555555556, \"#d8576b\"], [0.6666666666666666, \"#ed7953\"], [0.7777777777777778, \"#fb9f3a\"], [0.8888888888888888, \"#fdca26\"], [1.0, \"#f0f921\"]], \"type\": \"heatmap\"}], \"heatmapgl\": [{\"colorbar\": {\"outlinewidth\": 0, \"ticks\": \"\"}, \"colorscale\": [[0.0, \"#0d0887\"], [0.1111111111111111, \"#46039f\"], [0.2222222222222222, \"#7201a8\"], [0.3333333333333333, \"#9c179e\"], [0.4444444444444444, \"#bd3786\"], [0.5555555555555556, \"#d8576b\"], [0.6666666666666666, \"#ed7953\"], [0.7777777777777778, \"#fb9f3a\"], [0.8888888888888888, \"#fdca26\"], [1.0, \"#f0f921\"]], \"type\": \"heatmapgl\"}], \"histogram\": [{\"marker\": {\"colorbar\": {\"outlinewidth\": 0, \"ticks\": \"\"}}, \"type\": \"histogram\"}], \"histogram2d\": [{\"colorbar\": {\"outlinewidth\": 0, \"ticks\": \"\"}, \"colorscale\": [[0.0, \"#0d0887\"], [0.1111111111111111, \"#46039f\"], [0.2222222222222222, \"#7201a8\"], [0.3333333333333333, \"#9c179e\"], [0.4444444444444444, \"#bd3786\"], [0.5555555555555556, \"#d8576b\"], [0.6666666666666666, \"#ed7953\"], [0.7777777777777778, \"#fb9f3a\"], [0.8888888888888888, \"#fdca26\"], [1.0, \"#f0f921\"]], \"type\": \"histogram2d\"}], \"histogram2dcontour\": [{\"colorbar\": {\"outlinewidth\": 0, \"ticks\": \"\"}, \"colorscale\": [[0.0, \"#0d0887\"], [0.1111111111111111, \"#46039f\"], [0.2222222222222222, \"#7201a8\"], [0.3333333333333333, \"#9c179e\"], [0.4444444444444444, \"#bd3786\"], [0.5555555555555556, \"#d8576b\"], [0.6666666666666666, \"#ed7953\"], [0.7777777777777778, \"#fb9f3a\"], [0.8888888888888888, \"#fdca26\"], [1.0, \"#f0f921\"]], \"type\": \"histogram2dcontour\"}], \"mesh3d\": [{\"colorbar\": {\"outlinewidth\": 0, \"ticks\": \"\"}, \"type\": \"mesh3d\"}], \"parcoords\": [{\"line\": {\"colorbar\": {\"outlinewidth\": 0, \"ticks\": \"\"}}, \"type\": \"parcoords\"}], \"pie\": [{\"automargin\": true, \"type\": \"pie\"}], \"scatter\": [{\"marker\": {\"colorbar\": {\"outlinewidth\": 0, \"ticks\": \"\"}}, \"type\": \"scatter\"}], \"scatter3d\": [{\"line\": {\"colorbar\": {\"outlinewidth\": 0, \"ticks\": \"\"}}, \"marker\": {\"colorbar\": {\"outlinewidth\": 0, \"ticks\": \"\"}}, \"type\": \"scatter3d\"}], \"scattercarpet\": [{\"marker\": {\"colorbar\": {\"outlinewidth\": 0, \"ticks\": \"\"}}, \"type\": \"scattercarpet\"}], \"scattergeo\": [{\"marker\": {\"colorbar\": {\"outlinewidth\": 0, \"ticks\": \"\"}}, \"type\": \"scattergeo\"}], \"scattergl\": [{\"marker\": {\"colorbar\": {\"outlinewidth\": 0, \"ticks\": \"\"}}, \"type\": \"scattergl\"}], \"scattermapbox\": [{\"marker\": {\"colorbar\": {\"outlinewidth\": 0, \"ticks\": \"\"}}, \"type\": \"scattermapbox\"}], \"scatterpolar\": [{\"marker\": {\"colorbar\": {\"outlinewidth\": 0, \"ticks\": \"\"}}, \"type\": \"scatterpolar\"}], \"scatterpolargl\": [{\"marker\": {\"colorbar\": {\"outlinewidth\": 0, \"ticks\": \"\"}}, \"type\": \"scatterpolargl\"}], \"scatterternary\": [{\"marker\": {\"colorbar\": {\"outlinewidth\": 0, \"ticks\": \"\"}}, \"type\": \"scatterternary\"}], \"surface\": [{\"colorbar\": {\"outlinewidth\": 0, \"ticks\": \"\"}, \"colorscale\": [[0.0, \"#0d0887\"], [0.1111111111111111, \"#46039f\"], [0.2222222222222222, \"#7201a8\"], [0.3333333333333333, \"#9c179e\"], [0.4444444444444444, \"#bd3786\"], [0.5555555555555556, \"#d8576b\"], [0.6666666666666666, \"#ed7953\"], [0.7777777777777778, \"#fb9f3a\"], [0.8888888888888888, \"#fdca26\"], [1.0, \"#f0f921\"]], \"type\": \"surface\"}], \"table\": [{\"cells\": {\"fill\": {\"color\": \"#EBF0F8\"}, \"line\": {\"color\": \"white\"}}, \"header\": {\"fill\": {\"color\": \"#C8D4E3\"}, \"line\": {\"color\": \"white\"}}, \"type\": \"table\"}]}, \"layout\": {\"annotationdefaults\": {\"arrowcolor\": \"#2a3f5f\", \"arrowhead\": 0, \"arrowwidth\": 1}, \"coloraxis\": {\"colorbar\": {\"outlinewidth\": 0, \"ticks\": \"\"}}, \"colorscale\": {\"diverging\": [[0, \"#8e0152\"], [0.1, \"#c51b7d\"], [0.2, \"#de77ae\"], [0.3, \"#f1b6da\"], [0.4, \"#fde0ef\"], [0.5, \"#f7f7f7\"], [0.6, \"#e6f5d0\"], [0.7, \"#b8e186\"], [0.8, \"#7fbc41\"], [0.9, \"#4d9221\"], [1, \"#276419\"]], \"sequential\": [[0.0, \"#0d0887\"], [0.1111111111111111, \"#46039f\"], [0.2222222222222222, \"#7201a8\"], [0.3333333333333333, \"#9c179e\"], [0.4444444444444444, \"#bd3786\"], [0.5555555555555556, \"#d8576b\"], [0.6666666666666666, \"#ed7953\"], [0.7777777777777778, \"#fb9f3a\"], [0.8888888888888888, \"#fdca26\"], [1.0, \"#f0f921\"]], \"sequentialminus\": [[0.0, \"#0d0887\"], [0.1111111111111111, \"#46039f\"], [0.2222222222222222, \"#7201a8\"], [0.3333333333333333, \"#9c179e\"], [0.4444444444444444, \"#bd3786\"], [0.5555555555555556, \"#d8576b\"], [0.6666666666666666, \"#ed7953\"], [0.7777777777777778, \"#fb9f3a\"], [0.8888888888888888, \"#fdca26\"], [1.0, \"#f0f921\"]]}, \"colorway\": [\"#636efa\", \"#EF553B\", \"#00cc96\", \"#ab63fa\", \"#FFA15A\", \"#19d3f3\", \"#FF6692\", \"#B6E880\", \"#FF97FF\", \"#FECB52\"], \"font\": {\"color\": \"#2a3f5f\"}, \"geo\": {\"bgcolor\": \"white\", \"lakecolor\": \"white\", \"landcolor\": \"#E5ECF6\", \"showlakes\": true, \"showland\": true, \"subunitcolor\": \"white\"}, \"hoverlabel\": {\"align\": \"left\"}, \"hovermode\": \"closest\", \"mapbox\": {\"style\": \"light\"}, \"paper_bgcolor\": \"white\", \"plot_bgcolor\": \"#E5ECF6\", \"polar\": {\"angularaxis\": {\"gridcolor\": \"white\", \"linecolor\": \"white\", \"ticks\": \"\"}, \"bgcolor\": \"#E5ECF6\", \"radialaxis\": {\"gridcolor\": \"white\", \"linecolor\": \"white\", \"ticks\": \"\"}}, \"scene\": {\"xaxis\": {\"backgroundcolor\": \"#E5ECF6\", \"gridcolor\": \"white\", \"gridwidth\": 2, \"linecolor\": \"white\", \"showbackground\": true, \"ticks\": \"\", \"zerolinecolor\": \"white\"}, \"yaxis\": {\"backgroundcolor\": \"#E5ECF6\", \"gridcolor\": \"white\", \"gridwidth\": 2, \"linecolor\": \"white\", \"showbackground\": true, \"ticks\": \"\", \"zerolinecolor\": \"white\"}, \"zaxis\": {\"backgroundcolor\": \"#E5ECF6\", \"gridcolor\": \"white\", \"gridwidth\": 2, \"linecolor\": \"white\", \"showbackground\": true, \"ticks\": \"\", \"zerolinecolor\": \"white\"}}, \"shapedefaults\": {\"line\": {\"color\": \"#2a3f5f\"}}, \"ternary\": {\"aaxis\": {\"gridcolor\": \"white\", \"linecolor\": \"white\", \"ticks\": \"\"}, \"baxis\": {\"gridcolor\": \"white\", \"linecolor\": \"white\", \"ticks\": \"\"}, \"bgcolor\": \"#E5ECF6\", \"caxis\": {\"gridcolor\": \"white\", \"linecolor\": \"white\", \"ticks\": \"\"}}, \"title\": {\"x\": 0.05}, \"xaxis\": {\"automargin\": true, \"gridcolor\": \"white\", \"linecolor\": \"white\", \"ticks\": \"\", \"title\": {\"standoff\": 15}, \"zerolinecolor\": \"white\", \"zerolinewidth\": 2}, \"yaxis\": {\"automargin\": true, \"gridcolor\": \"white\", \"linecolor\": \"white\", \"ticks\": \"\", \"title\": {\"standoff\": 15}, \"zerolinecolor\": \"white\", \"zerolinewidth\": 2}}}, \"title\": {\"text\": \"sample\"}, \"xaxis\": {\"anchor\": \"y\", \"domain\": [0.0, 1.0], \"title\": {\"text\": \"x\"}}, \"yaxis\": {\"anchor\": \"x\", \"domain\": [0.0, 1.0], \"title\": {\"text\": \"y\"}}},\n",
              "                        {\"responsive\": true}\n",
              "                    ).then(function(){\n",
              "                            \n",
              "var gd = document.getElementById('64310670-a2ee-48de-b43c-3e70d8b2d952');\n",
              "var x = new MutationObserver(function (mutations, observer) {{\n",
              "        var display = window.getComputedStyle(gd).display;\n",
              "        if (!display || display === 'none') {{\n",
              "            console.log([gd, 'removed!']);\n",
              "            Plotly.purge(gd);\n",
              "            observer.disconnect();\n",
              "        }}\n",
              "}});\n",
              "\n",
              "// Listen for the removal of the full notebook cells\n",
              "var notebookContainer = gd.closest('#notebook-container');\n",
              "if (notebookContainer) {{\n",
              "    x.observe(notebookContainer, {childList: true});\n",
              "}}\n",
              "\n",
              "// Listen for the clearing of the current output cell\n",
              "var outputEl = gd.closest('.output');\n",
              "if (outputEl) {{\n",
              "    x.observe(outputEl, {childList: true});\n",
              "}}\n",
              "\n",
              "                        })\n",
              "                };\n",
              "                \n",
              "            </script>\n",
              "        </div>\n",
              "</body>\n",
              "</html>"
            ]
          },
          "metadata": {
            "tags": []
          }
        },
        {
          "output_type": "execute_result",
          "data": {
            "text/plain": [
              "(None, None)"
            ]
          },
          "metadata": {
            "tags": []
          },
          "execution_count": 61
        }
      ]
    },
    {
      "cell_type": "code",
      "metadata": {
        "id": "d5sno-DvIvmk"
      },
      "source": [
        "func = lambda x: 1/(1+(np.e**(-x)))\n",
        "import numpy as np\n",
        "\n",
        "dta = np.linspace(-10,10, 500)\n",
        "\n",
        "act = []\n",
        "\n",
        "for i in dta:\n",
        "\n",
        "  act.append(func(i))\n"
      ],
      "execution_count": 73,
      "outputs": []
    },
    {
      "cell_type": "code",
      "metadata": {
        "colab": {
          "base_uri": "https://localhost:8080/",
          "height": 542
        },
        "id": "mmO0qpoeIvsC",
        "outputId": "47a6d39a-2ee1-49a2-d34d-eefbdcc5c13d"
      },
      "source": [
        "fig = px.line(x=dta, y=act, title='Sigmoid')\n",
        "fig.show()"
      ],
      "execution_count": 71,
      "outputs": [
        {
          "output_type": "display_data",
          "data": {
            "text/html": [
              "<html>\n",
              "<head><meta charset=\"utf-8\" /></head>\n",
              "<body>\n",
              "    <div>\n",
              "            <script src=\"https://cdnjs.cloudflare.com/ajax/libs/mathjax/2.7.5/MathJax.js?config=TeX-AMS-MML_SVG\"></script><script type=\"text/javascript\">if (window.MathJax) {MathJax.Hub.Config({SVG: {font: \"STIX-Web\"}});}</script>\n",
              "                <script type=\"text/javascript\">window.PlotlyConfig = {MathJaxConfig: 'local'};</script>\n",
              "        <script src=\"https://cdn.plot.ly/plotly-latest.min.js\"></script>    \n",
              "            <div id=\"e5aec013-9fee-4cd7-8cbc-53c331885720\" class=\"plotly-graph-div\" style=\"height:525px; width:100%;\"></div>\n",
              "            <script type=\"text/javascript\">\n",
              "                \n",
              "                    window.PLOTLYENV=window.PLOTLYENV || {};\n",
              "                    \n",
              "                if (document.getElementById(\"e5aec013-9fee-4cd7-8cbc-53c331885720\")) {\n",
              "                    Plotly.newPlot(\n",
              "                        'e5aec013-9fee-4cd7-8cbc-53c331885720',\n",
              "                        [{\"hoverlabel\": {\"namelength\": 0}, \"hovertemplate\": \"x=%{x}<br>y=%{y}\", \"legendgroup\": \"\", \"line\": {\"color\": \"#636efa\", \"dash\": \"solid\"}, \"mode\": \"lines\", \"name\": \"\", \"showlegend\": false, \"type\": \"scatter\", \"x\": [-10.0, -9.959919839679358, -9.919839679358718, -9.879759519038076, -9.839679358717435, -9.799599198396793, -9.759519038076153, -9.719438877755511, -9.67935871743487, -9.639278557114228, -9.599198396793588, -9.559118236472946, -9.519038076152304, -9.478957915831664, -9.438877755511022, -9.39879759519038, -9.358717434869739, -9.318637274549099, -9.278557114228457, -9.238476953907815, -9.198396793587175, -9.158316633266534, -9.118236472945892, -9.07815631262525, -9.03807615230461, -8.997995991983968, -8.957915831663327, -8.917835671342685, -8.877755511022045, -8.837675350701403, -8.797595190380761, -8.75751503006012, -8.71743486973948, -8.677354709418838, -8.637274549098196, -8.597194388777556, -8.557114228456914, -8.517034068136272, -8.47695390781563, -8.43687374749499, -8.396793587174349, -8.356713426853707, -8.316633266533067, -8.276553106212425, -8.236472945891784, -8.196392785571142, -8.156312625250502, -8.11623246492986, -8.076152304609218, -8.036072144288577, -7.9959919839679365, -7.955911823647295, -7.915831663326653, -7.875751503006012, -7.835671342685371, -7.7955911823647295, -7.755511022044088, -7.715430861723447, -7.675350701402806, -7.635270541082164, -7.595190380761523, -7.555110220440882, -7.515030060120241, -7.474949899799599, -7.434869739478958, -7.394789579158317, -7.354709418837675, -7.314629258517034, -7.274549098196393, -7.234468937875752, -7.19438877755511, -7.154308617234469, -7.114228456913828, -7.074148296593187, -7.034068136272545, -6.993987975951904, -6.953907815631263, -6.913827655310621, -6.8737474949899795, -6.833667334669339, -6.793587174348698, -6.753507014028056, -6.713426853707415, -6.673346693386774, -6.6332665330661325, -6.593186372745491, -6.55310621242485, -6.513026052104209, -6.472945891783567, -6.432865731462925, -6.3927855711422845, -6.352705410821644, -6.312625250501002, -6.272545090180361, -6.23246492985972, -6.192384769539078, -6.152304609218437, -6.112224448897796, -6.072144288577155, -6.032064128256513, -5.991983967935872, -5.95190380761523, -5.9118236472945895, -5.871743486973948, -5.831663326653307, -5.791583166332665, -5.751503006012024, -5.711422845691383, -5.671342685370742, -5.631262525050101, -5.591182364729459, -5.551102204408818, -5.511022044088176, -5.470941883767535, -5.430861723446894, -5.390781563126253, -5.350701402805611, -5.31062124248497, -5.270541082164329, -5.2304609218436875, -5.190380761523047, -5.150300601202405, -5.110220440881764, -5.070140280561122, -5.030060120240481, -4.98997995991984, -4.949899799599199, -4.909819639278557, -4.869739478957916, -4.829659318637275, -4.789579158316633, -4.7494989979959925, -4.709418837675351, -4.66933867735471, -4.629258517034068, -4.589178356713427, -4.5490981963927855, -4.509018036072145, -4.468937875751503, -4.428857715430862, -4.388777555110221, -4.348697394789579, -4.308617234468938, -4.268537074148297, -4.228456913827656, -4.188376753507014, -4.148296593186373, -4.108216432865731, -4.0681362725450905, -4.028056112224449, -3.987975951903808, -3.947895791583167, -3.907815631262525, -3.8677354709418843, -3.8276553106212425, -3.7875751503006017, -3.74749498997996, -3.707414829659319, -3.6673346693386772, -3.6272545090180364, -3.5871743486973955, -3.5470941883767537, -3.507014028056113, -3.466933867735471, -3.42685370741483, -3.3867735470941884, -3.3466933867735476, -3.306613226452906, -3.266533066132265, -3.226452905811623, -3.1863727454909823, -3.1462925851703414, -3.1062124248496996, -3.0661322645290587, -3.026052104208417, -2.985971943887776, -2.9458917835671343, -2.9058116232464934, -2.8657314629258517, -2.825651302605211, -2.785571142284569, -2.745490981963928, -2.7054108216432873, -2.6653306613226455, -2.6252505010020046, -2.585170340681363, -2.545090180360722, -2.50501002004008, -2.4649298597194393, -2.4248496993987976, -2.3847695390781567, -2.344689378757515, -2.304609218436874, -2.264529058116233, -2.2244488977955914, -2.1843687374749505, -2.1442885771543088, -2.104208416833668, -2.064128256513026, -2.0240480961923852, -1.9839679358717444, -1.9438877755511026, -1.9038076152304608, -1.8637274549098208, -1.823647294589179, -1.7835671342685373, -1.7434869739478955, -1.7034068136272555, -1.6633266533066138, -1.623246492985972, -1.5831663326653302, -1.5430861723446903, -1.5030060120240485, -1.4629258517034067, -1.4228456913827667, -1.382765531062125, -1.3426853707414832, -1.3026052104208414, -1.2625250501002014, -1.2224448897795597, -1.182364729458918, -1.1422845691382761, -1.1022044088176361, -1.0621242484969944, -1.0220440881763526, -0.9819639278557126, -0.9418837675350709, -0.9018036072144291, -0.8617234468937873, -0.8216432865731473, -0.7815631262525056, -0.7414829659318638, -0.701402805611222, -0.661322645290582, -0.6212424849699403, -0.5811623246492985, -0.5410821643286585, -0.5010020040080168, -0.460921843687375, -0.4208416833667332, -0.38076152304609323, -0.34068136272545146, -0.3006012024048097, -0.26052104208416793, -0.22044088176352794, -0.18036072144288617, -0.1402805611222444, -0.10020040080160442, -0.06012024048096265, -0.020040080160320883, 0.020040080160320883, 0.060120240480960874, 0.10020040080160264, 0.1402805611222444, 0.18036072144288617, 0.22044088176352616, 0.26052104208416793, 0.3006012024048097, 0.3406813627254497, 0.38076152304609145, 0.4208416833667332, 0.460921843687375, 0.501002004008015, 0.5410821643286567, 0.5811623246492985, 0.6212424849699403, 0.6613226452905803, 0.701402805611222, 0.7414829659318638, 0.7815631262525038, 0.8216432865731456, 0.8617234468937873, 0.9018036072144291, 0.9418837675350691, 0.9819639278557108, 1.0220440881763526, 1.0621242484969944, 1.1022044088176344, 1.1422845691382761, 1.182364729458918, 1.222444889779558, 1.2625250501001997, 1.3026052104208414, 1.3426853707414832, 1.3827655310621232, 1.422845691382765, 1.4629258517034067, 1.5030060120240485, 1.5430861723446885, 1.5831663326653302, 1.623246492985972, 1.663326653306612, 1.7034068136272538, 1.7434869739478955, 1.7835671342685373, 1.8236472945891773, 1.863727454909819, 1.9038076152304608, 1.9438877755511026, 1.9839679358717426, 2.0240480961923843, 2.064128256513026, 2.104208416833666, 2.144288577154308, 2.1843687374749496, 2.2244488977955914, 2.2645290581162314, 2.304609218436873, 2.344689378757515, 2.3847695390781567, 2.4248496993987967, 2.4649298597194385, 2.50501002004008, 2.54509018036072, 2.585170340681362, 2.6252505010020037, 2.6653306613226455, 2.7054108216432855, 2.7454909819639273, 2.785571142284569, 2.825651302605209, 2.865731462925851, 2.9058116232464926, 2.9458917835671343, 2.9859719438877743, 3.026052104208416, 3.066132264529058, 3.1062124248496996, 3.1462925851703396, 3.1863727454909814, 3.226452905811623, 3.266533066132263, 3.306613226452905, 3.3466933867735467, 3.3867735470941884, 3.4268537074148284, 3.46693386773547, 3.507014028056112, 3.5470941883767537, 3.5871743486973937, 3.6272545090180355, 3.6673346693386772, 3.7074148296593172, 3.747494989979959, 3.7875751503006008, 3.8276553106212425, 3.8677354709418825, 3.9078156312625243, 3.947895791583166, 3.987975951903808, 4.028056112224448, 4.06813627254509, 4.108216432865731, 4.148296593186371, 4.188376753507013, 4.228456913827655, 4.268537074148297, 4.308617234468937, 4.348697394789578, 4.38877755511022, 4.428857715430862, 4.468937875751502, 4.509018036072144, 4.5490981963927855, 4.589178356713425, 4.629258517034067, 4.669338677354709, 4.709418837675351, 4.749498997995991, 4.7895791583166325, 4.829659318637274, 4.869739478957916, 4.909819639278556, 4.949899799599198, 4.98997995991984, 5.0300601202404795, 5.070140280561121, 5.110220440881763, 5.150300601202405, 5.190380761523045, 5.230460921843687, 5.270541082164328, 5.31062124248497, 5.35070140280561, 5.390781563126252, 5.430861723446894, 5.470941883767534, 5.511022044088175, 5.551102204408817, 5.591182364729459, 5.631262525050099, 5.671342685370741, 5.7114228456913825, 5.751503006012024, 5.791583166332664, 5.831663326653306, 5.871743486973948, 5.911823647294588, 5.9519038076152295, 5.991983967935871, 6.032064128256511, 6.072144288577153, 6.112224448897795, 6.152304609218437, 6.192384769539078, 6.23246492985972, 6.272545090180358, 6.312625250501, 6.352705410821642, 6.392785571142284, 6.432865731462925, 6.472945891783567, 6.513026052104209, 6.553106212424851, 6.593186372745489, 6.633266533066131, 6.673346693386772, 6.713426853707414, 6.753507014028056, 6.793587174348698, 6.8336673346693395, 6.873747494989978, 6.9138276553106195, 6.953907815631261, 6.993987975951903, 7.034068136272545, 7.074148296593187, 7.114228456913828, 7.1543086172344665, 7.194388777555108, 7.23446893787575, 7.274549098196392, 7.314629258517034, 7.354709418837675, 7.394789579158317, 7.434869739478959, 7.474949899799597, 7.515030060120239, 7.555110220440881, 7.595190380761522, 7.635270541082164, 7.675350701402806, 7.715430861723448, 7.755511022044086, 7.795591182364728, 7.8356713426853695, 7.875751503006011, 7.915831663326653, 7.955911823647295, 7.9959919839679365, 8.036072144288575, 8.076152304609217, 8.116232464929858, 8.1563126252505, 8.196392785571142, 8.236472945891784, 8.276553106212425, 8.316633266533067, 8.356713426853705, 8.396793587174347, 8.436873747494989, 8.47695390781563, 8.517034068136272, 8.557114228456914, 8.597194388777556, 8.637274549098194, 8.677354709418836, 8.717434869739478, 8.75751503006012, 8.797595190380761, 8.837675350701403, 8.877755511022045, 8.917835671342683, 8.957915831663325, 8.997995991983966, 9.038076152304608, 9.07815631262525, 9.118236472945892, 9.158316633266534, 9.198396793587175, 9.238476953907814, 9.278557114228455, 9.318637274549097, 9.358717434869739, 9.39879759519038, 9.438877755511022, 9.478957915831664, 9.519038076152302, 9.559118236472944, 9.599198396793586, 9.639278557114228, 9.67935871743487, 9.719438877755511, 9.759519038076153, 9.799599198396791, 9.839679358717433, 9.879759519038075, 9.919839679358716, 9.959919839679358, 10.0], \"xaxis\": \"x\", \"y\": [4.539786870243442e-05, 4.725429091713152e-05, 4.9186622728864615e-05, 5.1197967789568955e-05, 5.3291556621581694e-05, 5.547075180165212e-05, 5.7739053356592315e-05, 6.010010437919468e-05, 6.255769687339016e-05, 6.511577783798924e-05, 6.777845559872277e-05, 7.055000639869751e-05, 7.343488125778758e-05, 7.643771311191456e-05, 7.956332424360862e-05, 8.281673401570541e-05, 8.620316692051658e-05, 8.972806095730682e-05, 9.339707635143361e-05, 9.721610462904178e-05, 0.00010119127806177196, 0.00010532897949652232, 0.00010963585258590966, 0.00011411881243571306, 0.0001187850566862336, 0.00012364207704519206, 0.00012869767129049099, 0.00013395995576191263, 0.00013943737836158567, 0.0001451387320838558, 0.00015107316909601944, 0.00015725021539225023, 0.00016367978604393517, 0.00017037220107057568, 0.00017733820195636944, 0.0001845889688386043, 0.0001921361383950325, 0.00019999182245848018, 0.00020816862738808273, 0.0002166796742276992, 0.0002255386196832845, 0.00023475967795225417, 0.0002443576434392018, 0.0002543479143936849, 0.0002647465175072082, 0.00027557013350802, 0.0002868361237938453, 0.000298562558144281, 0.00031076824355620727, 0.000323472754247297, 0.000336696462874458, 0.00035046057301589724, 0.0003647871529673859, 0.0003796991709053063, 0.0003952205314710918, 0.00041137611383381035, 0.00042819181128984414, 0.00044569457246090914, 0.00046391244415402413, 0.0004828746159494927, 0.0005026114665855118, 0.0005231546122106552, 0.0005445369565782004, 0.0005667927432591027, 0.0005899576099533411, 0.0006140686449823842, 0.0006391644460486555, 0.0006652851813511142, 0.0006924726531494198, 0.0007207703638726004, 0.0007502235848717193, 0.0007808794279197305, 0.0008127869195655288, 0.0008459970784531153, 0.0008805629957208778, 0.0009165399186001606, 0.0009539853373366136, 0.0009929590755622443, 0.001033523384250686, 0.0010757430393928988, 0.0011196854435353593, 0.0011654207313277663, 0.0012130218792324177, 0.0012625648195526609, 0.0013141285589431807, 0.001367795301570427, 0.0014236505770971399, 0.0014817833736706836, 0.0015422862761008318, 0.0016052556094186651, 0.0016707915880144132, 0.0017389984705583148, 0.0018099847209149618, 0.001883863175268055, 0.0019607512156791045, 0.002040770950310192, 0.002124049400547697, 0.0022107186952706405, 0.002300916272514127, 0.002394785088785194, 0.002492473836295273, 0.002594137168380295, 0.002699935933386236, 0.0028100374173047333, 0.002924615595449935, 0.0030438513934743995, 0.0031679329580280922, 0.0032970559373708243, 0.003431423772254282, 0.0035712479973954905, 0.0037167485538688646, 0.003868154112748762, 0.004025702410339064, 0.004189640595329958, 0.004360225588225637, 0.004537724453388937, 0.0047224147840510084, 0.004914585100634792, 0.0051145352627412445, 0.005322576895145909, 0.005539033828151158, 0.0057642425526357515, 0.0059985526901379016, 0.0062423274783014815, 0.006495944272005945, 0.006759795060490121, 0.007034287000766839, 0.007319842967610298, 0.0076169021203797765, 0.007925920486922797, 0.008247371564776547, 0.00858174693985911, 0.008929556922811022, 0.009291331203112237, 0.009667619521060515, 0.010058992357652553, 0.010466041642360402, 0.010889381478740374, 0.011329648887751525, 0.011787504568593135, 0.012263633676797373, 0.012758746619231534, 0.013273579865575593, 0.013808896775743453, 0.014365488442609452, 0.014944174549286612, 0.015545804240076264, 0.016171257004072827, 0.01682144357025856, 0.0174973068127638, 0.018199822664794398, 0.018930001039542718, 0.019688886756197465, 0.02047756046895278, 0.02129713959668683, 0.02214877925073262, 0.02303367315790157, 0.02395305457563844, 0.024908197195888833, 0.025900416033942397, 0.026931068298180046, 0.02800155423629768, 0.029113317953204813, 0.030267848195402715, 0.031466679096232145, 0.03271139087594901, 0.034003610490132584, 0.03534501221946206, 0.03673731819340695, 0.038182298839873965, 0.03968177325233085, 0.041237609465396, 0.04285172462933615, 0.04452608507336151, 0.04626270624704865, 0.048063652528658296, 0.04993103688855705, 0.051867020395396896, 0.05387381155216655, 0.05595366544870278, 0.05810888271675288, 0.060341808273209625, 0.06265482983671554, 0.06505037620245309, 0.06753091525962034, 0.07009895173584349, 0.0727570246526087, 0.07550770447572597, 0.0783535899448691, 0.08129730456639536, 0.0843414927539369, 0.08748881560170348, 0.09074194627604304, 0.09410356501160483, 0.09757635369944047, 0.10116299005558997, 0.10486614136014273, 0.10868845775844892, 0.11263256511811337, 0.11670105743762348, 0.12089648880498244, 0.12522136490752103, 0.12967813409717768, 0.13426917801895333, 0.13899680181397342, 0.1438632239126159, 0.14887056543749344, 0.1540208392406756, 0.15931593860440915, 0.164757625639689, 0.17034751942234713, 0.17608708391178748, 0.18197761570308682, 0.1880202316688265, 0.19421585655267762, 0.2005652105823398, 0.20706879717487078, 0.2137268908126638, 0.22053952517321582, 0.22750648160032017, 0.2346272780082877, 0.24190115831417802, 0.24932708249566815, 0.2569037173740444, 0.2646294282227335, 0.27250227130173893, 0.2805199874172002, 0.288679996602988, 0.29697939401774004, 0.30541494714594203, 0.3139830943855891, 0.3226799450975645, 0.3315012811832099, 0.3404425602466114, 0.34949892038700414, 0.3586651866544372, 0.3679358791886072, 0.3773052230466298, 0.3867671597106832, 0.396315360251096, 0.405943240104719, 0.4156439754125981, 0.42541052084520603, 0.43523562882809763, 0.44511187006599245, 0.45503165524925504, 0.4649872578137187, 0.4749708376130385, 0.48497446535242106, 0.49499014762386645, 0.5050098523761336, 0.5150255346475785, 0.5250291623869611, 0.5350127421862813, 0.5449683447507448, 0.554888129934007, 0.5647643711719024, 0.574589479154794, 0.5843560245874014, 0.5940567598952805, 0.603684639748904, 0.6132328402893168, 0.6226947769533699, 0.6320641208113923, 0.6413348133455629, 0.6505010796129957, 0.6595574397533881, 0.6684987188167901, 0.6773200549024355, 0.6860169056144105, 0.6945850528540576, 0.70302060598226, 0.711320003397012, 0.7194800125827994, 0.7274977286982607, 0.7353705717772665, 0.7430962826259556, 0.7506729175043315, 0.758098841685822, 0.7653727219917122, 0.7724935183996795, 0.7794604748267839, 0.7862731091873362, 0.7929312028251292, 0.79943478941766, 0.8057841434473222, 0.8119797683311736, 0.8180223842969132, 0.8239129160882123, 0.829652480577653, 0.835242374360311, 0.8406840613955907, 0.8459791607593241, 0.8511294345625066, 0.856136776087384, 0.8610031981860263, 0.8657308219810465, 0.8703218659028223, 0.8747786350924791, 0.8791035111950174, 0.8832989425623764, 0.8873674348818865, 0.8913115422415508, 0.8951338586398572, 0.89883700994441, 0.9024236463005596, 0.905896434988395, 0.9092580537239568, 0.9125111843982965, 0.915658507246063, 0.9187026954336046, 0.9216464100551309, 0.924492295524274, 0.9272429753473912, 0.9299010482641564, 0.9324690847403797, 0.934949623797547, 0.9373451701632844, 0.9396581917267903, 0.9418911172832471, 0.944046334551297, 0.9461261884478334, 0.9481329796046032, 0.950068963111443, 0.9519363474713416, 0.9537372937529512, 0.9554739149266384, 0.9571482753706638, 0.9587623905346039, 0.9603182267476691, 0.961817701160126, 0.9632626818065929, 0.9646549877805378, 0.9659963895098673, 0.967288609124051, 0.9685333209037679, 0.9697321518045974, 0.9708866820467952, 0.9719984457637023, 0.9730689317018199, 0.9740995839660576, 0.9750918028041112, 0.9760469454243614, 0.9769663268420984, 0.9778512207492673, 0.9787028604033132, 0.9795224395310471, 0.9803111132438026, 0.9810699989604573, 0.9818001773352055, 0.9825026931872363, 0.9831785564297415, 0.983828742995927, 0.9844541957599237, 0.9850558254507134, 0.9856345115573906, 0.9861911032242564, 0.9867264201344244, 0.9872412533807684, 0.9877363663232026, 0.9882124954314068, 0.9886703511122484, 0.9891106185212596, 0.9895339583576396, 0.9899410076423475, 0.9903323804789395, 0.9907086687968877, 0.9910704430771888, 0.991418253060141, 0.9917526284352234, 0.9920740795130772, 0.9923830978796202, 0.9926801570323898, 0.9929657129992332, 0.9932402049395098, 0.9935040557279939, 0.9937576725216986, 0.9940014473098621, 0.9942357574473643, 0.9944609661718488, 0.9946774231048542, 0.9948854647372587, 0.9950854148993653, 0.9952775852159489, 0.995462275546611, 0.9956397744117743, 0.99581035940467, 0.9959742975896609, 0.9961318458872511, 0.9962832514461311, 0.9964287520026045, 0.9965685762277456, 0.9967029440626292, 0.9968320670419719, 0.9969561486065256, 0.99707538440455, 0.9971899625826952, 0.9973000640666138, 0.9974058628316197, 0.9975075261637046, 0.9976052149112147, 0.9976990837274858, 0.9977892813047293, 0.9978759505994523, 0.9979592290496898, 0.9980392487843208, 0.9981161368247319, 0.9981900152790851, 0.9982610015294416, 0.9983292084119857, 0.9983947443905813, 0.9984577137238991, 0.9985182166263294, 0.9985763494229027, 0.9986322046984295, 0.9986858714410568, 0.9987374351804473, 0.9987869781207676, 0.9988345792686721, 0.9988803145564646, 0.9989242569606072, 0.9989664766157492, 0.9990070409244378, 0.9990460146626634, 0.9990834600813998, 0.9991194370042791, 0.999154002921547, 0.9991872130804345, 0.9992191205720804, 0.9992497764151282, 0.9992792296361275, 0.9993075273468506, 0.9993347148186488, 0.9993608355539514, 0.9993859313550176, 0.9994100423900466, 0.999433207256741, 0.9994554630434218, 0.9994768453877892, 0.9994973885334145, 0.9995171253840505, 0.9995360875558459, 0.9995543054275391, 0.9995718081887102, 0.9995886238861662, 0.9996047794685289, 0.9996203008290947, 0.9996352128470326, 0.9996495394269841, 0.9996633035371254, 0.9996765272457526, 0.9996892317564439, 0.9997014374418558, 0.9997131638762061, 0.9997244298664919, 0.9997352534824928, 0.9997456520856064, 0.9997556423565607, 0.9997652403220477, 0.9997744613803168, 0.9997833203257722, 0.999791831372612, 0.9998000081775414, 0.9998078638616049, 0.9998154110311613, 0.9998226617980437, 0.9998296277989294, 0.9998363202139561, 0.9998427497846079, 0.9998489268309039, 0.9998548612679162, 0.9998605626216384, 0.9998660400442381, 0.9998713023287096, 0.9998763579229548, 0.9998812149433138, 0.9998858811875643, 0.9998903641474142, 0.9998946710205034, 0.9998988087219381, 0.999902783895371, 0.9999066029236486, 0.9999102719390427, 0.9999137968330796, 0.9999171832659843, 0.9999204366757564, 0.9999235622868881, 0.9999265651187422, 0.9999294499936014, 0.9999322215444012, 0.9999348842221619, 0.9999374423031266, 0.9999398998956208, 0.9999422609466434, 0.9999445292481983, 0.9999467084433783, 0.9999488020322104, 0.9999508133772712, 0.9999527457090829, 0.9999546021312976], \"yaxis\": \"y\"}],\n",
              "                        {\"legend\": {\"tracegroupgap\": 0}, \"template\": {\"data\": {\"bar\": [{\"error_x\": {\"color\": \"#2a3f5f\"}, \"error_y\": {\"color\": \"#2a3f5f\"}, \"marker\": {\"line\": {\"color\": \"#E5ECF6\", \"width\": 0.5}}, \"type\": \"bar\"}], \"barpolar\": [{\"marker\": {\"line\": {\"color\": \"#E5ECF6\", \"width\": 0.5}}, \"type\": \"barpolar\"}], \"carpet\": [{\"aaxis\": {\"endlinecolor\": \"#2a3f5f\", \"gridcolor\": \"white\", \"linecolor\": \"white\", \"minorgridcolor\": \"white\", \"startlinecolor\": \"#2a3f5f\"}, \"baxis\": {\"endlinecolor\": \"#2a3f5f\", \"gridcolor\": \"white\", \"linecolor\": \"white\", \"minorgridcolor\": \"white\", \"startlinecolor\": \"#2a3f5f\"}, \"type\": \"carpet\"}], \"choropleth\": [{\"colorbar\": {\"outlinewidth\": 0, \"ticks\": \"\"}, \"type\": \"choropleth\"}], \"contour\": [{\"colorbar\": {\"outlinewidth\": 0, \"ticks\": \"\"}, \"colorscale\": [[0.0, \"#0d0887\"], [0.1111111111111111, \"#46039f\"], [0.2222222222222222, \"#7201a8\"], [0.3333333333333333, \"#9c179e\"], [0.4444444444444444, \"#bd3786\"], [0.5555555555555556, \"#d8576b\"], [0.6666666666666666, \"#ed7953\"], [0.7777777777777778, \"#fb9f3a\"], [0.8888888888888888, \"#fdca26\"], [1.0, \"#f0f921\"]], \"type\": \"contour\"}], \"contourcarpet\": [{\"colorbar\": {\"outlinewidth\": 0, \"ticks\": \"\"}, \"type\": \"contourcarpet\"}], \"heatmap\": [{\"colorbar\": {\"outlinewidth\": 0, \"ticks\": \"\"}, \"colorscale\": [[0.0, \"#0d0887\"], [0.1111111111111111, \"#46039f\"], [0.2222222222222222, \"#7201a8\"], [0.3333333333333333, \"#9c179e\"], [0.4444444444444444, \"#bd3786\"], [0.5555555555555556, \"#d8576b\"], [0.6666666666666666, \"#ed7953\"], [0.7777777777777778, \"#fb9f3a\"], [0.8888888888888888, \"#fdca26\"], [1.0, \"#f0f921\"]], \"type\": \"heatmap\"}], \"heatmapgl\": [{\"colorbar\": {\"outlinewidth\": 0, \"ticks\": \"\"}, \"colorscale\": [[0.0, \"#0d0887\"], [0.1111111111111111, \"#46039f\"], [0.2222222222222222, \"#7201a8\"], [0.3333333333333333, \"#9c179e\"], [0.4444444444444444, \"#bd3786\"], [0.5555555555555556, \"#d8576b\"], [0.6666666666666666, \"#ed7953\"], [0.7777777777777778, \"#fb9f3a\"], [0.8888888888888888, \"#fdca26\"], [1.0, \"#f0f921\"]], \"type\": \"heatmapgl\"}], \"histogram\": [{\"marker\": {\"colorbar\": {\"outlinewidth\": 0, \"ticks\": \"\"}}, \"type\": \"histogram\"}], \"histogram2d\": [{\"colorbar\": {\"outlinewidth\": 0, \"ticks\": \"\"}, \"colorscale\": [[0.0, \"#0d0887\"], [0.1111111111111111, \"#46039f\"], [0.2222222222222222, \"#7201a8\"], [0.3333333333333333, \"#9c179e\"], [0.4444444444444444, \"#bd3786\"], [0.5555555555555556, \"#d8576b\"], [0.6666666666666666, \"#ed7953\"], [0.7777777777777778, \"#fb9f3a\"], [0.8888888888888888, \"#fdca26\"], [1.0, \"#f0f921\"]], \"type\": \"histogram2d\"}], \"histogram2dcontour\": [{\"colorbar\": {\"outlinewidth\": 0, \"ticks\": \"\"}, \"colorscale\": [[0.0, \"#0d0887\"], [0.1111111111111111, \"#46039f\"], [0.2222222222222222, \"#7201a8\"], [0.3333333333333333, \"#9c179e\"], [0.4444444444444444, \"#bd3786\"], [0.5555555555555556, \"#d8576b\"], [0.6666666666666666, \"#ed7953\"], [0.7777777777777778, \"#fb9f3a\"], [0.8888888888888888, \"#fdca26\"], [1.0, \"#f0f921\"]], \"type\": \"histogram2dcontour\"}], \"mesh3d\": [{\"colorbar\": {\"outlinewidth\": 0, \"ticks\": \"\"}, \"type\": \"mesh3d\"}], \"parcoords\": [{\"line\": {\"colorbar\": {\"outlinewidth\": 0, \"ticks\": \"\"}}, \"type\": \"parcoords\"}], \"pie\": [{\"automargin\": true, \"type\": \"pie\"}], \"scatter\": [{\"marker\": {\"colorbar\": {\"outlinewidth\": 0, \"ticks\": \"\"}}, \"type\": \"scatter\"}], \"scatter3d\": [{\"line\": {\"colorbar\": {\"outlinewidth\": 0, \"ticks\": \"\"}}, \"marker\": {\"colorbar\": {\"outlinewidth\": 0, \"ticks\": \"\"}}, \"type\": \"scatter3d\"}], \"scattercarpet\": [{\"marker\": {\"colorbar\": {\"outlinewidth\": 0, \"ticks\": \"\"}}, \"type\": \"scattercarpet\"}], \"scattergeo\": [{\"marker\": {\"colorbar\": {\"outlinewidth\": 0, \"ticks\": \"\"}}, \"type\": \"scattergeo\"}], \"scattergl\": [{\"marker\": {\"colorbar\": {\"outlinewidth\": 0, \"ticks\": \"\"}}, \"type\": \"scattergl\"}], \"scattermapbox\": [{\"marker\": {\"colorbar\": {\"outlinewidth\": 0, \"ticks\": \"\"}}, \"type\": \"scattermapbox\"}], \"scatterpolar\": [{\"marker\": {\"colorbar\": {\"outlinewidth\": 0, \"ticks\": \"\"}}, \"type\": \"scatterpolar\"}], \"scatterpolargl\": [{\"marker\": {\"colorbar\": {\"outlinewidth\": 0, \"ticks\": \"\"}}, \"type\": \"scatterpolargl\"}], \"scatterternary\": [{\"marker\": {\"colorbar\": {\"outlinewidth\": 0, \"ticks\": \"\"}}, \"type\": \"scatterternary\"}], \"surface\": [{\"colorbar\": {\"outlinewidth\": 0, \"ticks\": \"\"}, \"colorscale\": [[0.0, \"#0d0887\"], [0.1111111111111111, \"#46039f\"], [0.2222222222222222, \"#7201a8\"], [0.3333333333333333, \"#9c179e\"], [0.4444444444444444, \"#bd3786\"], [0.5555555555555556, \"#d8576b\"], [0.6666666666666666, \"#ed7953\"], [0.7777777777777778, \"#fb9f3a\"], [0.8888888888888888, \"#fdca26\"], [1.0, \"#f0f921\"]], \"type\": \"surface\"}], \"table\": [{\"cells\": {\"fill\": {\"color\": \"#EBF0F8\"}, \"line\": {\"color\": \"white\"}}, \"header\": {\"fill\": {\"color\": \"#C8D4E3\"}, \"line\": {\"color\": \"white\"}}, \"type\": \"table\"}]}, \"layout\": {\"annotationdefaults\": {\"arrowcolor\": \"#2a3f5f\", \"arrowhead\": 0, \"arrowwidth\": 1}, \"coloraxis\": {\"colorbar\": {\"outlinewidth\": 0, \"ticks\": \"\"}}, \"colorscale\": {\"diverging\": [[0, \"#8e0152\"], [0.1, \"#c51b7d\"], [0.2, \"#de77ae\"], [0.3, \"#f1b6da\"], [0.4, \"#fde0ef\"], [0.5, \"#f7f7f7\"], [0.6, \"#e6f5d0\"], [0.7, \"#b8e186\"], [0.8, \"#7fbc41\"], [0.9, \"#4d9221\"], [1, \"#276419\"]], \"sequential\": [[0.0, \"#0d0887\"], [0.1111111111111111, \"#46039f\"], [0.2222222222222222, \"#7201a8\"], [0.3333333333333333, \"#9c179e\"], [0.4444444444444444, \"#bd3786\"], [0.5555555555555556, \"#d8576b\"], [0.6666666666666666, \"#ed7953\"], [0.7777777777777778, \"#fb9f3a\"], [0.8888888888888888, \"#fdca26\"], [1.0, \"#f0f921\"]], \"sequentialminus\": [[0.0, \"#0d0887\"], [0.1111111111111111, \"#46039f\"], [0.2222222222222222, \"#7201a8\"], [0.3333333333333333, \"#9c179e\"], [0.4444444444444444, \"#bd3786\"], [0.5555555555555556, \"#d8576b\"], [0.6666666666666666, \"#ed7953\"], [0.7777777777777778, \"#fb9f3a\"], [0.8888888888888888, \"#fdca26\"], [1.0, \"#f0f921\"]]}, \"colorway\": [\"#636efa\", \"#EF553B\", \"#00cc96\", \"#ab63fa\", \"#FFA15A\", \"#19d3f3\", \"#FF6692\", \"#B6E880\", \"#FF97FF\", \"#FECB52\"], \"font\": {\"color\": \"#2a3f5f\"}, \"geo\": {\"bgcolor\": \"white\", \"lakecolor\": \"white\", \"landcolor\": \"#E5ECF6\", \"showlakes\": true, \"showland\": true, \"subunitcolor\": \"white\"}, \"hoverlabel\": {\"align\": \"left\"}, \"hovermode\": \"closest\", \"mapbox\": {\"style\": \"light\"}, \"paper_bgcolor\": \"white\", \"plot_bgcolor\": \"#E5ECF6\", \"polar\": {\"angularaxis\": {\"gridcolor\": \"white\", \"linecolor\": \"white\", \"ticks\": \"\"}, \"bgcolor\": \"#E5ECF6\", \"radialaxis\": {\"gridcolor\": \"white\", \"linecolor\": \"white\", \"ticks\": \"\"}}, \"scene\": {\"xaxis\": {\"backgroundcolor\": \"#E5ECF6\", \"gridcolor\": \"white\", \"gridwidth\": 2, \"linecolor\": \"white\", \"showbackground\": true, \"ticks\": \"\", \"zerolinecolor\": \"white\"}, \"yaxis\": {\"backgroundcolor\": \"#E5ECF6\", \"gridcolor\": \"white\", \"gridwidth\": 2, \"linecolor\": \"white\", \"showbackground\": true, \"ticks\": \"\", \"zerolinecolor\": \"white\"}, \"zaxis\": {\"backgroundcolor\": \"#E5ECF6\", \"gridcolor\": \"white\", \"gridwidth\": 2, \"linecolor\": \"white\", \"showbackground\": true, \"ticks\": \"\", \"zerolinecolor\": \"white\"}}, \"shapedefaults\": {\"line\": {\"color\": \"#2a3f5f\"}}, \"ternary\": {\"aaxis\": {\"gridcolor\": \"white\", \"linecolor\": \"white\", \"ticks\": \"\"}, \"baxis\": {\"gridcolor\": \"white\", \"linecolor\": \"white\", \"ticks\": \"\"}, \"bgcolor\": \"#E5ECF6\", \"caxis\": {\"gridcolor\": \"white\", \"linecolor\": \"white\", \"ticks\": \"\"}}, \"title\": {\"x\": 0.05}, \"xaxis\": {\"automargin\": true, \"gridcolor\": \"white\", \"linecolor\": \"white\", \"ticks\": \"\", \"title\": {\"standoff\": 15}, \"zerolinecolor\": \"white\", \"zerolinewidth\": 2}, \"yaxis\": {\"automargin\": true, \"gridcolor\": \"white\", \"linecolor\": \"white\", \"ticks\": \"\", \"title\": {\"standoff\": 15}, \"zerolinecolor\": \"white\", \"zerolinewidth\": 2}}}, \"title\": {\"text\": \"Sigmoid\"}, \"xaxis\": {\"anchor\": \"y\", \"domain\": [0.0, 1.0], \"title\": {\"text\": \"x\"}}, \"yaxis\": {\"anchor\": \"x\", \"domain\": [0.0, 1.0], \"title\": {\"text\": \"y\"}}},\n",
              "                        {\"responsive\": true}\n",
              "                    ).then(function(){\n",
              "                            \n",
              "var gd = document.getElementById('e5aec013-9fee-4cd7-8cbc-53c331885720');\n",
              "var x = new MutationObserver(function (mutations, observer) {{\n",
              "        var display = window.getComputedStyle(gd).display;\n",
              "        if (!display || display === 'none') {{\n",
              "            console.log([gd, 'removed!']);\n",
              "            Plotly.purge(gd);\n",
              "            observer.disconnect();\n",
              "        }}\n",
              "}});\n",
              "\n",
              "// Listen for the removal of the full notebook cells\n",
              "var notebookContainer = gd.closest('#notebook-container');\n",
              "if (notebookContainer) {{\n",
              "    x.observe(notebookContainer, {childList: true});\n",
              "}}\n",
              "\n",
              "// Listen for the clearing of the current output cell\n",
              "var outputEl = gd.closest('.output');\n",
              "if (outputEl) {{\n",
              "    x.observe(outputEl, {childList: true});\n",
              "}}\n",
              "\n",
              "                        })\n",
              "                };\n",
              "                \n",
              "            </script>\n",
              "        </div>\n",
              "</body>\n",
              "</html>"
            ]
          },
          "metadata": {
            "tags": []
          }
        }
      ]
    },
    {
      "cell_type": "code",
      "metadata": {
        "id": "ZTf_lrV1IWsx"
      },
      "source": [
        "func = lambda x: 1/(1+(np.e**(-x)))\n",
        "import numpy as np\n",
        "\n",
        "dta = np.linspace(-10,10, 500)\n",
        "\n",
        "act = []\n",
        "\n",
        "for i in dta:\n",
        "\n",
        "  s = func(i)\n",
        "\n",
        "  act.append(s*(1-s))\n"
      ],
      "execution_count": 74,
      "outputs": []
    },
    {
      "cell_type": "code",
      "metadata": {
        "colab": {
          "base_uri": "https://localhost:8080/",
          "height": 542
        },
        "id": "P0FCaEH3SDss",
        "outputId": "93da1389-b826-4850-db2b-0fff8b3c4af5"
      },
      "source": [
        "fig = px.line(x=dta, y=act, title='Sigmoid')\n",
        "fig.show()"
      ],
      "execution_count": 75,
      "outputs": [
        {
          "output_type": "display_data",
          "data": {
            "text/html": [
              "<html>\n",
              "<head><meta charset=\"utf-8\" /></head>\n",
              "<body>\n",
              "    <div>\n",
              "            <script src=\"https://cdnjs.cloudflare.com/ajax/libs/mathjax/2.7.5/MathJax.js?config=TeX-AMS-MML_SVG\"></script><script type=\"text/javascript\">if (window.MathJax) {MathJax.Hub.Config({SVG: {font: \"STIX-Web\"}});}</script>\n",
              "                <script type=\"text/javascript\">window.PlotlyConfig = {MathJaxConfig: 'local'};</script>\n",
              "        <script src=\"https://cdn.plot.ly/plotly-latest.min.js\"></script>    \n",
              "            <div id=\"4cbed884-3fcf-4b7a-898f-8e12c65b4f5a\" class=\"plotly-graph-div\" style=\"height:525px; width:100%;\"></div>\n",
              "            <script type=\"text/javascript\">\n",
              "                \n",
              "                    window.PLOTLYENV=window.PLOTLYENV || {};\n",
              "                    \n",
              "                if (document.getElementById(\"4cbed884-3fcf-4b7a-898f-8e12c65b4f5a\")) {\n",
              "                    Plotly.newPlot(\n",
              "                        '4cbed884-3fcf-4b7a-898f-8e12c65b4f5a',\n",
              "                        [{\"hoverlabel\": {\"namelength\": 0}, \"hovertemplate\": \"x=%{x}<br>y=%{y}\", \"legendgroup\": \"\", \"line\": {\"color\": \"#636efa\", \"dash\": \"solid\"}, \"mode\": \"lines\", \"name\": \"\", \"showlegend\": false, \"type\": \"scatter\", \"x\": [-10.0, -9.959919839679358, -9.919839679358718, -9.879759519038076, -9.839679358717435, -9.799599198396793, -9.759519038076153, -9.719438877755511, -9.67935871743487, -9.639278557114228, -9.599198396793588, -9.559118236472946, -9.519038076152304, -9.478957915831664, -9.438877755511022, -9.39879759519038, -9.358717434869739, -9.318637274549099, -9.278557114228457, -9.238476953907815, -9.198396793587175, -9.158316633266534, -9.118236472945892, -9.07815631262525, -9.03807615230461, -8.997995991983968, -8.957915831663327, -8.917835671342685, -8.877755511022045, -8.837675350701403, -8.797595190380761, -8.75751503006012, -8.71743486973948, -8.677354709418838, -8.637274549098196, -8.597194388777556, -8.557114228456914, -8.517034068136272, -8.47695390781563, -8.43687374749499, -8.396793587174349, -8.356713426853707, -8.316633266533067, -8.276553106212425, -8.236472945891784, -8.196392785571142, -8.156312625250502, -8.11623246492986, -8.076152304609218, -8.036072144288577, -7.9959919839679365, -7.955911823647295, -7.915831663326653, -7.875751503006012, -7.835671342685371, -7.7955911823647295, -7.755511022044088, -7.715430861723447, -7.675350701402806, -7.635270541082164, -7.595190380761523, -7.555110220440882, -7.515030060120241, -7.474949899799599, -7.434869739478958, -7.394789579158317, -7.354709418837675, -7.314629258517034, -7.274549098196393, -7.234468937875752, -7.19438877755511, -7.154308617234469, -7.114228456913828, -7.074148296593187, -7.034068136272545, -6.993987975951904, -6.953907815631263, -6.913827655310621, -6.8737474949899795, -6.833667334669339, -6.793587174348698, -6.753507014028056, -6.713426853707415, -6.673346693386774, -6.6332665330661325, -6.593186372745491, -6.55310621242485, -6.513026052104209, -6.472945891783567, -6.432865731462925, -6.3927855711422845, -6.352705410821644, -6.312625250501002, -6.272545090180361, -6.23246492985972, -6.192384769539078, -6.152304609218437, -6.112224448897796, -6.072144288577155, -6.032064128256513, -5.991983967935872, -5.95190380761523, -5.9118236472945895, -5.871743486973948, -5.831663326653307, -5.791583166332665, -5.751503006012024, -5.711422845691383, -5.671342685370742, -5.631262525050101, -5.591182364729459, -5.551102204408818, -5.511022044088176, -5.470941883767535, -5.430861723446894, -5.390781563126253, -5.350701402805611, -5.31062124248497, -5.270541082164329, -5.2304609218436875, -5.190380761523047, -5.150300601202405, -5.110220440881764, -5.070140280561122, -5.030060120240481, -4.98997995991984, -4.949899799599199, -4.909819639278557, -4.869739478957916, -4.829659318637275, -4.789579158316633, -4.7494989979959925, -4.709418837675351, -4.66933867735471, -4.629258517034068, -4.589178356713427, -4.5490981963927855, -4.509018036072145, -4.468937875751503, -4.428857715430862, -4.388777555110221, -4.348697394789579, -4.308617234468938, -4.268537074148297, -4.228456913827656, -4.188376753507014, -4.148296593186373, -4.108216432865731, -4.0681362725450905, -4.028056112224449, -3.987975951903808, -3.947895791583167, -3.907815631262525, -3.8677354709418843, -3.8276553106212425, -3.7875751503006017, -3.74749498997996, -3.707414829659319, -3.6673346693386772, -3.6272545090180364, -3.5871743486973955, -3.5470941883767537, -3.507014028056113, -3.466933867735471, -3.42685370741483, -3.3867735470941884, -3.3466933867735476, -3.306613226452906, -3.266533066132265, -3.226452905811623, -3.1863727454909823, -3.1462925851703414, -3.1062124248496996, -3.0661322645290587, -3.026052104208417, -2.985971943887776, -2.9458917835671343, -2.9058116232464934, -2.8657314629258517, -2.825651302605211, -2.785571142284569, -2.745490981963928, -2.7054108216432873, -2.6653306613226455, -2.6252505010020046, -2.585170340681363, -2.545090180360722, -2.50501002004008, -2.4649298597194393, -2.4248496993987976, -2.3847695390781567, -2.344689378757515, -2.304609218436874, -2.264529058116233, -2.2244488977955914, -2.1843687374749505, -2.1442885771543088, -2.104208416833668, -2.064128256513026, -2.0240480961923852, -1.9839679358717444, -1.9438877755511026, -1.9038076152304608, -1.8637274549098208, -1.823647294589179, -1.7835671342685373, -1.7434869739478955, -1.7034068136272555, -1.6633266533066138, -1.623246492985972, -1.5831663326653302, -1.5430861723446903, -1.5030060120240485, -1.4629258517034067, -1.4228456913827667, -1.382765531062125, -1.3426853707414832, -1.3026052104208414, -1.2625250501002014, -1.2224448897795597, -1.182364729458918, -1.1422845691382761, -1.1022044088176361, -1.0621242484969944, -1.0220440881763526, -0.9819639278557126, -0.9418837675350709, -0.9018036072144291, -0.8617234468937873, -0.8216432865731473, -0.7815631262525056, -0.7414829659318638, -0.701402805611222, -0.661322645290582, -0.6212424849699403, -0.5811623246492985, -0.5410821643286585, -0.5010020040080168, -0.460921843687375, -0.4208416833667332, -0.38076152304609323, -0.34068136272545146, -0.3006012024048097, -0.26052104208416793, -0.22044088176352794, -0.18036072144288617, -0.1402805611222444, -0.10020040080160442, -0.06012024048096265, -0.020040080160320883, 0.020040080160320883, 0.060120240480960874, 0.10020040080160264, 0.1402805611222444, 0.18036072144288617, 0.22044088176352616, 0.26052104208416793, 0.3006012024048097, 0.3406813627254497, 0.38076152304609145, 0.4208416833667332, 0.460921843687375, 0.501002004008015, 0.5410821643286567, 0.5811623246492985, 0.6212424849699403, 0.6613226452905803, 0.701402805611222, 0.7414829659318638, 0.7815631262525038, 0.8216432865731456, 0.8617234468937873, 0.9018036072144291, 0.9418837675350691, 0.9819639278557108, 1.0220440881763526, 1.0621242484969944, 1.1022044088176344, 1.1422845691382761, 1.182364729458918, 1.222444889779558, 1.2625250501001997, 1.3026052104208414, 1.3426853707414832, 1.3827655310621232, 1.422845691382765, 1.4629258517034067, 1.5030060120240485, 1.5430861723446885, 1.5831663326653302, 1.623246492985972, 1.663326653306612, 1.7034068136272538, 1.7434869739478955, 1.7835671342685373, 1.8236472945891773, 1.863727454909819, 1.9038076152304608, 1.9438877755511026, 1.9839679358717426, 2.0240480961923843, 2.064128256513026, 2.104208416833666, 2.144288577154308, 2.1843687374749496, 2.2244488977955914, 2.2645290581162314, 2.304609218436873, 2.344689378757515, 2.3847695390781567, 2.4248496993987967, 2.4649298597194385, 2.50501002004008, 2.54509018036072, 2.585170340681362, 2.6252505010020037, 2.6653306613226455, 2.7054108216432855, 2.7454909819639273, 2.785571142284569, 2.825651302605209, 2.865731462925851, 2.9058116232464926, 2.9458917835671343, 2.9859719438877743, 3.026052104208416, 3.066132264529058, 3.1062124248496996, 3.1462925851703396, 3.1863727454909814, 3.226452905811623, 3.266533066132263, 3.306613226452905, 3.3466933867735467, 3.3867735470941884, 3.4268537074148284, 3.46693386773547, 3.507014028056112, 3.5470941883767537, 3.5871743486973937, 3.6272545090180355, 3.6673346693386772, 3.7074148296593172, 3.747494989979959, 3.7875751503006008, 3.8276553106212425, 3.8677354709418825, 3.9078156312625243, 3.947895791583166, 3.987975951903808, 4.028056112224448, 4.06813627254509, 4.108216432865731, 4.148296593186371, 4.188376753507013, 4.228456913827655, 4.268537074148297, 4.308617234468937, 4.348697394789578, 4.38877755511022, 4.428857715430862, 4.468937875751502, 4.509018036072144, 4.5490981963927855, 4.589178356713425, 4.629258517034067, 4.669338677354709, 4.709418837675351, 4.749498997995991, 4.7895791583166325, 4.829659318637274, 4.869739478957916, 4.909819639278556, 4.949899799599198, 4.98997995991984, 5.0300601202404795, 5.070140280561121, 5.110220440881763, 5.150300601202405, 5.190380761523045, 5.230460921843687, 5.270541082164328, 5.31062124248497, 5.35070140280561, 5.390781563126252, 5.430861723446894, 5.470941883767534, 5.511022044088175, 5.551102204408817, 5.591182364729459, 5.631262525050099, 5.671342685370741, 5.7114228456913825, 5.751503006012024, 5.791583166332664, 5.831663326653306, 5.871743486973948, 5.911823647294588, 5.9519038076152295, 5.991983967935871, 6.032064128256511, 6.072144288577153, 6.112224448897795, 6.152304609218437, 6.192384769539078, 6.23246492985972, 6.272545090180358, 6.312625250501, 6.352705410821642, 6.392785571142284, 6.432865731462925, 6.472945891783567, 6.513026052104209, 6.553106212424851, 6.593186372745489, 6.633266533066131, 6.673346693386772, 6.713426853707414, 6.753507014028056, 6.793587174348698, 6.8336673346693395, 6.873747494989978, 6.9138276553106195, 6.953907815631261, 6.993987975951903, 7.034068136272545, 7.074148296593187, 7.114228456913828, 7.1543086172344665, 7.194388777555108, 7.23446893787575, 7.274549098196392, 7.314629258517034, 7.354709418837675, 7.394789579158317, 7.434869739478959, 7.474949899799597, 7.515030060120239, 7.555110220440881, 7.595190380761522, 7.635270541082164, 7.675350701402806, 7.715430861723448, 7.755511022044086, 7.795591182364728, 7.8356713426853695, 7.875751503006011, 7.915831663326653, 7.955911823647295, 7.9959919839679365, 8.036072144288575, 8.076152304609217, 8.116232464929858, 8.1563126252505, 8.196392785571142, 8.236472945891784, 8.276553106212425, 8.316633266533067, 8.356713426853705, 8.396793587174347, 8.436873747494989, 8.47695390781563, 8.517034068136272, 8.557114228456914, 8.597194388777556, 8.637274549098194, 8.677354709418836, 8.717434869739478, 8.75751503006012, 8.797595190380761, 8.837675350701403, 8.877755511022045, 8.917835671342683, 8.957915831663325, 8.997995991983966, 9.038076152304608, 9.07815631262525, 9.118236472945892, 9.158316633266534, 9.198396793587175, 9.238476953907814, 9.278557114228455, 9.318637274549097, 9.358717434869739, 9.39879759519038, 9.438877755511022, 9.478957915831664, 9.519038076152302, 9.559118236472944, 9.599198396793586, 9.639278557114228, 9.67935871743487, 9.719438877755511, 9.759519038076153, 9.799599198396791, 9.839679358717433, 9.879759519038075, 9.919839679358716, 9.959919839679358, 10.0], \"xaxis\": \"x\", \"y\": [4.53958077359517e-05, 4.725205794912144e-05, 4.918420340500914e-05, 5.1195346557663175e-05, 5.328871663157454e-05, 5.546767479734667e-05, 5.7735719558309796e-05, 6.0096492356648285e-05, 6.255378340795206e-05, 6.51115377734658e-05, 6.777386167967942e-05, 7.054502909529465e-05, 7.342948857600224e-05, 7.643187038792878e-05, 7.955699392104392e-05, 8.280987540427239e-05, 8.619573593452945e-05, 8.972000983238366e-05, 9.338835333756261e-05, 9.720665365804253e-05, 0.00010118103838701619, 0.00010531788530260054, 0.00010962383256573741, 0.00011410578933236132, 0.00011877094679654164, 0.000123626789681976, 0.0001286811081998954, 0.0001339420104921649, 0.0001394179355791013, 0.0001451176668323049, 0.00015105034599359872, 0.00015722548776200932, 0.00016365299497157578, 0.00017034317438367806, 0.00017730675311849632, 0.0001845548957511874, 0.00019209922209935515, 0.00019995182572942992, 0.0002081252932106541, 0.0002166327241464758, 0.00022548775201431585, 0.00023470456584586191, 0.0002442979327812947, 0.0002542832215321285, 0.000264676426788676, 0.0002754941946095384, 0.0002867538488319322, 0.0002984734185431553, 0.00031067166665500425, 0.00032336811962455666, 0.00033658309836634583, 0.0003503377504026586, 0.0003646540833004159, 0.0003795549994449201, 0.0003950643322025955, 0.00041120688352677735, 0.00042800846306258845, 0.000445495928808988, 0.0004636972293981832, 0.0004826414480547643, 0.0005023588482991686, 0.000522880921462378, 0.000544240436081121, 0.0005664714892452916, 0.0005896095599717992, 0.0006136915646816337, 0.0006387559148595629, 0.0006648425769785888, 0.00069199313477406, 0.0007202508539551633, 0.0007496607494444214, 0.0007802696552387823, 0.0008121262969889119, 0.0008452813673963641, 0.0008797876045314448, 0.000915699873177773, 0.0009530752493127604, 0.0009919731078365027, 0.001032455213664893, 0.0010745858163060964, 0.0011184317480428944, 0.0011640625258467578, 0.001211550457152921, 0.0012609707496290888, 0.0013124016250737507, 0.001365924437583429, 0.0014216237961314708, 0.0014795876917041966, 0.0015399076291433827, 0.001602678763847095, 0.0016680000434838335, 0.0017359743548777105, 0.001806708676225016, 0.001880314234804924, 0.0019569066703493173, 0.002036606204238562, 0.0021195378146917298, 0.0022058314181210214, 0.0022956220568210064, 0.002389050093163726, 0.0024862614104706566, 0.0025874076207319232, 0.0026926462793418456, 0.0028021411070180808, 0.0029160622190687858, 0.0030345863621688437, 0.0031578971588015316, 0.003286185359516672, 0.0034196491031494906, 0.003558494185136589, 0.0037029343340561783, 0.003853191496508787, 0.004009496130442454, 0.004172087507011921, 0.004341214021045419, 0.004517133510174054, 0.004700113582658385, 0.0048904319539234105, 0.005088376791787421, 0.005294247070341167, 0.005508352932401756, 0.005731016060430135, 0.005962570055761541, 0.006203360825955124, 0.0064537469800209375, 0.006714100231230294, 0.006984805807157682, 0.007266262866539824, 0.00755888492246833, 0.007863100271357774, 0.008179352427049062, 0.008508100559319328, 0.008849819935973299, 0.00920500236758631, 0.009574156653856525, 0.00995780903040124, 0.01035650361470078, 0.01077080284975084, 0.011201287943831795, 0.01164855930463853, 0.012113236965838693, 0.012595961003937782, 0.013097391943127779, 0.013618211145580315, 0.014159121184414706, 0.014720846196327065, 0.015304132210605491, 0.015909747450981053, 0.01653848260647117, 0.01719115106706381, 0.017868589119764435, 0.01857165610018563, 0.019301234494499095, 0.020058229986193166, 0.020843571441686068, 0.021658210828434936, 0.022503123058756534, 0.023379305752134927, 0.02428777890833955, 0.025229584483211095, 0.02620578585849881, 0.02721746719664936, 0.028265732670960414, 0.029351705561022772, 0.03047652720288689, 0.031641355782909886, 0.03284736496376793, 0.03409574233066814, 0.03538768764536332, 0.03672441089517652, 0.03810713012388145, 0.03953706903097548, 0.0410154543256277, 0.042543512821401286, 0.04412246825774794, 0.0457535378342627, 0.047437928443790606, 0.049176832590700374, 0.05097142398100819, 0.05282285277155743, 0.05473224046616354, 0.05670067444752883, 0.05872920213484776, 0.060818824758372414, 0.06297049074381832, 0.06518508870137937, 0.0674634400163084, 0.0698062910405324, 0.07221430488762041, 0.07468805283663411, 0.07722800535397452, 0.0798345227463146, 0.08250784546207876, 0.08524808406371148, 0.08805520889816215, 0.09092903949860258, 0.09386923375637729, 0.09687527690853878, 0.09994647039302731, 0.10308192063056398, 0.1062805277996092, 0.1095409746782185, 0.11286171563425208, 0.11624096585306795, 0.11967669089946041, 0.12316659671808446, 0.12670812018381442, 0.13029842032027356, 0.13393437031100527, 0.1376125504332611, 0.1413292420490002, 0.1450804227912306, 0.14886176308610646, 0.1526686241520273, 0.15649605761618737, 0.1603388068864015, 0.164191310411423, 0.1680477069562155, 0.17190184300958833, 0.17574728243016335, 0.17957731842270938, 0.183384987920437, 0.18716308842986643, 0.1909041973734415, 0.19460069394124263, 0.19824478343713242, 0.20182852407665403, 0.20534385616428683, 0.20878263354659593, 0.21213665720578348, 0.21539771082563935, 0.21855759812939726, 0.2216081817571003, 0.22454142341934374, 0.22734942503532268, 0.2300244705365749, 0.23255906799431386, 0.23494599170836272, 0.23717832388001409, 0.23924949548013996, 0.24115332591800148, 0.24288406111580965, 0.24443640959941657, 0.24580557622670807, 0.24698729319234752, 0.24797784797037814, 0.24877410788459703, 0.24937354103020712, 0.24977423330855442, 0.24997490137916933, 0.24997490137916936, 0.24977423330855442, 0.24937354103020715, 0.248774107884597, 0.24797784797037817, 0.24698729319234755, 0.24580557622670807, 0.24443640959941657, 0.24288406111580974, 0.24115332591800157, 0.23924949548014002, 0.23717832388001409, 0.2349459917083628, 0.23255906799431397, 0.2300244705365749, 0.2273494250353227, 0.22454142341934394, 0.2216081817571003, 0.21855759812939726, 0.2153977108256395, 0.21213665720578362, 0.20878263354659593, 0.20534385616428685, 0.20182852407665422, 0.1982447834371326, 0.19460069394124263, 0.1909041973734415, 0.18716308842986662, 0.183384987920437, 0.1795773184227094, 0.17574728243016352, 0.17190184300958847, 0.16804770695621551, 0.164191310411423, 0.16033880688640162, 0.15649605761618748, 0.15266862415202725, 0.14886176308610646, 0.14508042279123076, 0.14132924204900013, 0.1376125504332611, 0.13393437031100539, 0.13029842032027375, 0.12670812018381442, 0.12316659671808448, 0.11967669089946059, 0.1162409658530681, 0.11286171563425207, 0.10954097467821838, 0.10628052779960932, 0.10308192063056408, 0.09994647039302741, 0.09687527690853896, 0.09386923375637737, 0.09092903949860263, 0.0880552088981621, 0.08524808406371162, 0.08250784546207884, 0.07983452274631464, 0.07722800535397457, 0.07468805283663414, 0.07221430488762039, 0.0698062910405324, 0.06746344001630848, 0.06518508870137944, 0.06297049074381827, 0.06081882475837235, 0.05872920213484777, 0.05670067444752888, 0.05473224046616351, 0.05282285277155758, 0.050971423981008276, 0.049176832590700305, 0.0474379284437906, 0.045753537834262795, 0.044122468257748036, 0.042543512821401404, 0.04101545432562772, 0.03953706903097559, 0.038107130123881505, 0.036724410895176564, 0.035387687645363444, 0.03409574233066825, 0.032847364963768014, 0.031641355782909865, 0.030476527202886877, 0.029351705561022685, 0.02826573267096042, 0.027217467196649366, 0.026205785858498906, 0.02522958448321114, 0.02428777890833949, 0.023379305752135045, 0.022503123058756576, 0.021658210828434978, 0.020843571441686012, 0.02005822998619326, 0.019301234494499032, 0.01857165610018559, 0.017868589119764508, 0.01719115106706375, 0.016538482606471106, 0.01590974745098118, 0.01530413221060557, 0.014720846196327101, 0.014159121184414685, 0.013618211145580454, 0.013097391943127831, 0.012595961003937844, 0.012113236965838712, 0.011648559304638626, 0.011201287943831835, 0.010770802849750877, 0.010356503614700802, 0.009957809030401195, 0.009574156653856553, 0.00920500236758639, 0.008849819935973441, 0.008508100559319245, 0.008179352427049131, 0.007863100271357733, 0.007558884922468352, 0.007266262866539762, 0.0069848058071576465, 0.006714100231230354, 0.006453746980021052, 0.006203360825955089, 0.005962570055761576, 0.005731016060430129, 0.005508352932401837, 0.005294247070341074, 0.00508837679178748, 0.004890431953923313, 0.004700113582658485, 0.004517133510174074, 0.004341214021045468, 0.004172087507011965, 0.004009496130442451, 0.0038531914965089023, 0.003702934334056256, 0.0035584941851365976, 0.003419649103149568, 0.0032861853595166886, 0.003157897158801525, 0.0030345863621688497, 0.002916062219068837, 0.0028021411070181363, 0.0026926462793418534, 0.002587407620731934, 0.0024862614104707442, 0.0023890500931638544, 0.0022956220568210437, 0.0022058314181210557, 0.0021195378146917003, 0.002036606204238559, 0.0019569066703493923, 0.0018803142348049876, 0.0018067086762249248, 0.0017359743548777573, 0.0016680000434837294, 0.0016026787638471396, 0.001539907629143419, 0.0014795876917040667, 0.001421623796131588, 0.0013659244375834976, 0.0013124016250737648, 0.0012609707496290974, 0.0012115504571529488, 0.0011640625258468509, 0.0011184317480428915, 0.001074585816306038, 0.0010324552136649853, 0.0009919731078364418, 0.0009530752493127404, 0.0009156998731778023, 0.0008797876045314908, 0.0008452813673962581, 0.0008121262969889277, 0.0007802696552386527, 0.0007496607494444586, 0.0007202508539550879, 0.0006919931347740631, 0.0006648425769787017, 0.0006387559148595197, 0.000613691564681618, 0.0005896095599718534, 0.0005664714892451815, 0.0005442404360811104, 0.0005228809214624749, 0.0005023588482991354, 0.0004826414480548072, 0.0004636972293982721, 0.00044549592880898737, 0.0004280084630625796, 0.0004112068835267616, 0.0003950643322026225, 0.00037955499944491484, 0.000364654083300424, 0.00035033775040267076, 0.00033658309836648493, 0.0003233681196246377, 0.00031067166665493356, 0.0002984734185430741, 0.0002867538488319635, 0.00027549419460961454, 0.00026467642678865394, 0.00025428322153204814, 0.000244297932781423, 0.00023470456584588644, 0.00022548775201425015, 0.00021663272414655866, 0.00020812529321061036, 0.00019995182572950587, 0.0001920992220994052, 0.00018455489575124458, 0.0001773067531184388, 0.0001703431743837367, 0.0001636529949715649, 0.00015722548776190534, 0.00015105034599370681, 0.0001451176668322207, 0.00013941793557915546, 0.00013394201049218314, 0.0001286811081998275, 0.00012362678968196687, 0.00011877094679647396, 0.00011410578933237445, 0.00010962383256565986, 0.00010531788530263328, 0.00010118103838709601, 9.720665365798399e-05, 9.338835333749375e-05, 8.972000983238274e-05, 8.619573593444173e-05, 8.280987540423411e-05, 7.955699392107196e-05, 7.643187038795736e-05, 7.342948857598696e-05, 7.054502909514808e-05, 6.777386167975589e-05, 6.511153777355275e-05, 6.255378340791734e-05, 6.009649235663295e-05, 5.7735719558315495e-05, 5.546767479737293e-05, 5.328871663169688e-05, 5.1195346557723254e-05, 4.9184203404936356e-05, 4.725205794911022e-05, 4.5395807735907655e-05], \"yaxis\": \"y\"}],\n",
              "                        {\"legend\": {\"tracegroupgap\": 0}, \"template\": {\"data\": {\"bar\": [{\"error_x\": {\"color\": \"#2a3f5f\"}, \"error_y\": {\"color\": \"#2a3f5f\"}, \"marker\": {\"line\": {\"color\": \"#E5ECF6\", \"width\": 0.5}}, \"type\": \"bar\"}], \"barpolar\": [{\"marker\": {\"line\": {\"color\": \"#E5ECF6\", \"width\": 0.5}}, \"type\": \"barpolar\"}], \"carpet\": [{\"aaxis\": {\"endlinecolor\": \"#2a3f5f\", \"gridcolor\": \"white\", \"linecolor\": \"white\", \"minorgridcolor\": \"white\", \"startlinecolor\": \"#2a3f5f\"}, \"baxis\": {\"endlinecolor\": \"#2a3f5f\", \"gridcolor\": \"white\", \"linecolor\": \"white\", \"minorgridcolor\": \"white\", \"startlinecolor\": \"#2a3f5f\"}, \"type\": \"carpet\"}], \"choropleth\": [{\"colorbar\": {\"outlinewidth\": 0, \"ticks\": \"\"}, \"type\": \"choropleth\"}], \"contour\": [{\"colorbar\": {\"outlinewidth\": 0, \"ticks\": \"\"}, \"colorscale\": [[0.0, \"#0d0887\"], [0.1111111111111111, \"#46039f\"], [0.2222222222222222, \"#7201a8\"], [0.3333333333333333, \"#9c179e\"], [0.4444444444444444, \"#bd3786\"], [0.5555555555555556, \"#d8576b\"], [0.6666666666666666, \"#ed7953\"], [0.7777777777777778, \"#fb9f3a\"], [0.8888888888888888, \"#fdca26\"], [1.0, \"#f0f921\"]], \"type\": \"contour\"}], \"contourcarpet\": [{\"colorbar\": {\"outlinewidth\": 0, \"ticks\": \"\"}, \"type\": \"contourcarpet\"}], \"heatmap\": [{\"colorbar\": {\"outlinewidth\": 0, \"ticks\": \"\"}, \"colorscale\": [[0.0, \"#0d0887\"], [0.1111111111111111, \"#46039f\"], [0.2222222222222222, \"#7201a8\"], [0.3333333333333333, \"#9c179e\"], [0.4444444444444444, \"#bd3786\"], [0.5555555555555556, \"#d8576b\"], [0.6666666666666666, \"#ed7953\"], [0.7777777777777778, \"#fb9f3a\"], [0.8888888888888888, \"#fdca26\"], [1.0, \"#f0f921\"]], \"type\": \"heatmap\"}], \"heatmapgl\": [{\"colorbar\": {\"outlinewidth\": 0, \"ticks\": \"\"}, \"colorscale\": [[0.0, \"#0d0887\"], [0.1111111111111111, \"#46039f\"], [0.2222222222222222, \"#7201a8\"], [0.3333333333333333, \"#9c179e\"], [0.4444444444444444, \"#bd3786\"], [0.5555555555555556, \"#d8576b\"], [0.6666666666666666, \"#ed7953\"], [0.7777777777777778, \"#fb9f3a\"], [0.8888888888888888, \"#fdca26\"], [1.0, \"#f0f921\"]], \"type\": \"heatmapgl\"}], \"histogram\": [{\"marker\": {\"colorbar\": {\"outlinewidth\": 0, \"ticks\": \"\"}}, \"type\": \"histogram\"}], \"histogram2d\": [{\"colorbar\": {\"outlinewidth\": 0, \"ticks\": \"\"}, \"colorscale\": [[0.0, \"#0d0887\"], [0.1111111111111111, \"#46039f\"], [0.2222222222222222, \"#7201a8\"], [0.3333333333333333, \"#9c179e\"], [0.4444444444444444, \"#bd3786\"], [0.5555555555555556, \"#d8576b\"], [0.6666666666666666, \"#ed7953\"], [0.7777777777777778, \"#fb9f3a\"], [0.8888888888888888, \"#fdca26\"], [1.0, \"#f0f921\"]], \"type\": \"histogram2d\"}], \"histogram2dcontour\": [{\"colorbar\": {\"outlinewidth\": 0, \"ticks\": \"\"}, \"colorscale\": [[0.0, \"#0d0887\"], [0.1111111111111111, \"#46039f\"], [0.2222222222222222, \"#7201a8\"], [0.3333333333333333, \"#9c179e\"], [0.4444444444444444, \"#bd3786\"], [0.5555555555555556, \"#d8576b\"], [0.6666666666666666, \"#ed7953\"], [0.7777777777777778, \"#fb9f3a\"], [0.8888888888888888, \"#fdca26\"], [1.0, \"#f0f921\"]], \"type\": \"histogram2dcontour\"}], \"mesh3d\": [{\"colorbar\": {\"outlinewidth\": 0, \"ticks\": \"\"}, \"type\": \"mesh3d\"}], \"parcoords\": [{\"line\": {\"colorbar\": {\"outlinewidth\": 0, \"ticks\": \"\"}}, \"type\": \"parcoords\"}], \"pie\": [{\"automargin\": true, \"type\": \"pie\"}], \"scatter\": [{\"marker\": {\"colorbar\": {\"outlinewidth\": 0, \"ticks\": \"\"}}, \"type\": \"scatter\"}], \"scatter3d\": [{\"line\": {\"colorbar\": {\"outlinewidth\": 0, \"ticks\": \"\"}}, \"marker\": {\"colorbar\": {\"outlinewidth\": 0, \"ticks\": \"\"}}, \"type\": \"scatter3d\"}], \"scattercarpet\": [{\"marker\": {\"colorbar\": {\"outlinewidth\": 0, \"ticks\": \"\"}}, \"type\": \"scattercarpet\"}], \"scattergeo\": [{\"marker\": {\"colorbar\": {\"outlinewidth\": 0, \"ticks\": \"\"}}, \"type\": \"scattergeo\"}], \"scattergl\": [{\"marker\": {\"colorbar\": {\"outlinewidth\": 0, \"ticks\": \"\"}}, \"type\": \"scattergl\"}], \"scattermapbox\": [{\"marker\": {\"colorbar\": {\"outlinewidth\": 0, \"ticks\": \"\"}}, \"type\": \"scattermapbox\"}], \"scatterpolar\": [{\"marker\": {\"colorbar\": {\"outlinewidth\": 0, \"ticks\": \"\"}}, \"type\": \"scatterpolar\"}], \"scatterpolargl\": [{\"marker\": {\"colorbar\": {\"outlinewidth\": 0, \"ticks\": \"\"}}, \"type\": \"scatterpolargl\"}], \"scatterternary\": [{\"marker\": {\"colorbar\": {\"outlinewidth\": 0, \"ticks\": \"\"}}, \"type\": \"scatterternary\"}], \"surface\": [{\"colorbar\": {\"outlinewidth\": 0, \"ticks\": \"\"}, \"colorscale\": [[0.0, \"#0d0887\"], [0.1111111111111111, \"#46039f\"], [0.2222222222222222, \"#7201a8\"], [0.3333333333333333, \"#9c179e\"], [0.4444444444444444, \"#bd3786\"], [0.5555555555555556, \"#d8576b\"], [0.6666666666666666, \"#ed7953\"], [0.7777777777777778, \"#fb9f3a\"], [0.8888888888888888, \"#fdca26\"], [1.0, \"#f0f921\"]], \"type\": \"surface\"}], \"table\": [{\"cells\": {\"fill\": {\"color\": \"#EBF0F8\"}, \"line\": {\"color\": \"white\"}}, \"header\": {\"fill\": {\"color\": \"#C8D4E3\"}, \"line\": {\"color\": \"white\"}}, \"type\": \"table\"}]}, \"layout\": {\"annotationdefaults\": {\"arrowcolor\": \"#2a3f5f\", \"arrowhead\": 0, \"arrowwidth\": 1}, \"coloraxis\": {\"colorbar\": {\"outlinewidth\": 0, \"ticks\": \"\"}}, \"colorscale\": {\"diverging\": [[0, \"#8e0152\"], [0.1, \"#c51b7d\"], [0.2, \"#de77ae\"], [0.3, \"#f1b6da\"], [0.4, \"#fde0ef\"], [0.5, \"#f7f7f7\"], [0.6, \"#e6f5d0\"], [0.7, \"#b8e186\"], [0.8, \"#7fbc41\"], [0.9, \"#4d9221\"], [1, \"#276419\"]], \"sequential\": [[0.0, \"#0d0887\"], [0.1111111111111111, \"#46039f\"], [0.2222222222222222, \"#7201a8\"], [0.3333333333333333, \"#9c179e\"], [0.4444444444444444, \"#bd3786\"], [0.5555555555555556, \"#d8576b\"], [0.6666666666666666, \"#ed7953\"], [0.7777777777777778, \"#fb9f3a\"], [0.8888888888888888, \"#fdca26\"], [1.0, \"#f0f921\"]], \"sequentialminus\": [[0.0, \"#0d0887\"], [0.1111111111111111, \"#46039f\"], [0.2222222222222222, \"#7201a8\"], [0.3333333333333333, \"#9c179e\"], [0.4444444444444444, \"#bd3786\"], [0.5555555555555556, \"#d8576b\"], [0.6666666666666666, \"#ed7953\"], [0.7777777777777778, \"#fb9f3a\"], [0.8888888888888888, \"#fdca26\"], [1.0, \"#f0f921\"]]}, \"colorway\": [\"#636efa\", \"#EF553B\", \"#00cc96\", \"#ab63fa\", \"#FFA15A\", \"#19d3f3\", \"#FF6692\", \"#B6E880\", \"#FF97FF\", \"#FECB52\"], \"font\": {\"color\": \"#2a3f5f\"}, \"geo\": {\"bgcolor\": \"white\", \"lakecolor\": \"white\", \"landcolor\": \"#E5ECF6\", \"showlakes\": true, \"showland\": true, \"subunitcolor\": \"white\"}, \"hoverlabel\": {\"align\": \"left\"}, \"hovermode\": \"closest\", \"mapbox\": {\"style\": \"light\"}, \"paper_bgcolor\": \"white\", \"plot_bgcolor\": \"#E5ECF6\", \"polar\": {\"angularaxis\": {\"gridcolor\": \"white\", \"linecolor\": \"white\", \"ticks\": \"\"}, \"bgcolor\": \"#E5ECF6\", \"radialaxis\": {\"gridcolor\": \"white\", \"linecolor\": \"white\", \"ticks\": \"\"}}, \"scene\": {\"xaxis\": {\"backgroundcolor\": \"#E5ECF6\", \"gridcolor\": \"white\", \"gridwidth\": 2, \"linecolor\": \"white\", \"showbackground\": true, \"ticks\": \"\", \"zerolinecolor\": \"white\"}, \"yaxis\": {\"backgroundcolor\": \"#E5ECF6\", \"gridcolor\": \"white\", \"gridwidth\": 2, \"linecolor\": \"white\", \"showbackground\": true, \"ticks\": \"\", \"zerolinecolor\": \"white\"}, \"zaxis\": {\"backgroundcolor\": \"#E5ECF6\", \"gridcolor\": \"white\", \"gridwidth\": 2, \"linecolor\": \"white\", \"showbackground\": true, \"ticks\": \"\", \"zerolinecolor\": \"white\"}}, \"shapedefaults\": {\"line\": {\"color\": \"#2a3f5f\"}}, \"ternary\": {\"aaxis\": {\"gridcolor\": \"white\", \"linecolor\": \"white\", \"ticks\": \"\"}, \"baxis\": {\"gridcolor\": \"white\", \"linecolor\": \"white\", \"ticks\": \"\"}, \"bgcolor\": \"#E5ECF6\", \"caxis\": {\"gridcolor\": \"white\", \"linecolor\": \"white\", \"ticks\": \"\"}}, \"title\": {\"x\": 0.05}, \"xaxis\": {\"automargin\": true, \"gridcolor\": \"white\", \"linecolor\": \"white\", \"ticks\": \"\", \"title\": {\"standoff\": 15}, \"zerolinecolor\": \"white\", \"zerolinewidth\": 2}, \"yaxis\": {\"automargin\": true, \"gridcolor\": \"white\", \"linecolor\": \"white\", \"ticks\": \"\", \"title\": {\"standoff\": 15}, \"zerolinecolor\": \"white\", \"zerolinewidth\": 2}}}, \"title\": {\"text\": \"Sigmoid\"}, \"xaxis\": {\"anchor\": \"y\", \"domain\": [0.0, 1.0], \"title\": {\"text\": \"x\"}}, \"yaxis\": {\"anchor\": \"x\", \"domain\": [0.0, 1.0], \"title\": {\"text\": \"y\"}}},\n",
              "                        {\"responsive\": true}\n",
              "                    ).then(function(){\n",
              "                            \n",
              "var gd = document.getElementById('4cbed884-3fcf-4b7a-898f-8e12c65b4f5a');\n",
              "var x = new MutationObserver(function (mutations, observer) {{\n",
              "        var display = window.getComputedStyle(gd).display;\n",
              "        if (!display || display === 'none') {{\n",
              "            console.log([gd, 'removed!']);\n",
              "            Plotly.purge(gd);\n",
              "            observer.disconnect();\n",
              "        }}\n",
              "}});\n",
              "\n",
              "// Listen for the removal of the full notebook cells\n",
              "var notebookContainer = gd.closest('#notebook-container');\n",
              "if (notebookContainer) {{\n",
              "    x.observe(notebookContainer, {childList: true});\n",
              "}}\n",
              "\n",
              "// Listen for the clearing of the current output cell\n",
              "var outputEl = gd.closest('.output');\n",
              "if (outputEl) {{\n",
              "    x.observe(outputEl, {childList: true});\n",
              "}}\n",
              "\n",
              "                        })\n",
              "                };\n",
              "                \n",
              "            </script>\n",
              "        </div>\n",
              "</body>\n",
              "</html>"
            ]
          },
          "metadata": {
            "tags": []
          }
        }
      ]
    },
    {
      "cell_type": "code",
      "metadata": {
        "colab": {
          "base_uri": "https://localhost:8080/",
          "height": 1000
        },
        "id": "BWPjXiGgSDvU",
        "outputId": "33e6055c-2d33-4bd7-dc05-baf4489e0409"
      },
      "source": [
        "func = lambda x: np.tanh(x)\n",
        "import numpy as np\n",
        "\n",
        "dta = np.linspace(-10,10, 500)\n",
        "\n",
        "act = []\n",
        "act2 = []\n",
        "\n",
        "for i in dta:\n",
        "\n",
        "  s = func(i)\n",
        "\n",
        "  act2.append(1-(s**2))\n",
        "\n",
        "  act.append(s)\n",
        "\n",
        "\n",
        "fig = [px.line(x=dta, y=act, title='tanh'),\n",
        "       px.line(x=dta, y=act2, title='tanh prime')]\n",
        "fig[0].show(), fig[1].show()"
      ],
      "execution_count": 84,
      "outputs": [
        {
          "output_type": "display_data",
          "data": {
            "text/html": [
              "<html>\n",
              "<head><meta charset=\"utf-8\" /></head>\n",
              "<body>\n",
              "    <div>\n",
              "            <script src=\"https://cdnjs.cloudflare.com/ajax/libs/mathjax/2.7.5/MathJax.js?config=TeX-AMS-MML_SVG\"></script><script type=\"text/javascript\">if (window.MathJax) {MathJax.Hub.Config({SVG: {font: \"STIX-Web\"}});}</script>\n",
              "                <script type=\"text/javascript\">window.PlotlyConfig = {MathJaxConfig: 'local'};</script>\n",
              "        <script src=\"https://cdn.plot.ly/plotly-latest.min.js\"></script>    \n",
              "            <div id=\"f8b48f6a-e1c9-4a47-9023-125c0bd9a58a\" class=\"plotly-graph-div\" style=\"height:525px; width:100%;\"></div>\n",
              "            <script type=\"text/javascript\">\n",
              "                \n",
              "                    window.PLOTLYENV=window.PLOTLYENV || {};\n",
              "                    \n",
              "                if (document.getElementById(\"f8b48f6a-e1c9-4a47-9023-125c0bd9a58a\")) {\n",
              "                    Plotly.newPlot(\n",
              "                        'f8b48f6a-e1c9-4a47-9023-125c0bd9a58a',\n",
              "                        [{\"hoverlabel\": {\"namelength\": 0}, \"hovertemplate\": \"x=%{x}<br>y=%{y}\", \"legendgroup\": \"\", \"line\": {\"color\": \"#636efa\", \"dash\": \"solid\"}, \"mode\": \"lines\", \"name\": \"\", \"showlegend\": false, \"type\": \"scatter\", \"x\": [-10.0, -9.959919839679358, -9.919839679358718, -9.879759519038076, -9.839679358717435, -9.799599198396793, -9.759519038076153, -9.719438877755511, -9.67935871743487, -9.639278557114228, -9.599198396793588, -9.559118236472946, -9.519038076152304, -9.478957915831664, -9.438877755511022, -9.39879759519038, -9.358717434869739, -9.318637274549099, -9.278557114228457, -9.238476953907815, -9.198396793587175, -9.158316633266534, -9.118236472945892, -9.07815631262525, -9.03807615230461, -8.997995991983968, -8.957915831663327, -8.917835671342685, -8.877755511022045, -8.837675350701403, -8.797595190380761, -8.75751503006012, -8.71743486973948, -8.677354709418838, -8.637274549098196, -8.597194388777556, -8.557114228456914, -8.517034068136272, -8.47695390781563, -8.43687374749499, -8.396793587174349, -8.356713426853707, -8.316633266533067, -8.276553106212425, -8.236472945891784, -8.196392785571142, -8.156312625250502, -8.11623246492986, -8.076152304609218, -8.036072144288577, -7.9959919839679365, -7.955911823647295, -7.915831663326653, -7.875751503006012, -7.835671342685371, -7.7955911823647295, -7.755511022044088, -7.715430861723447, -7.675350701402806, -7.635270541082164, -7.595190380761523, -7.555110220440882, -7.515030060120241, -7.474949899799599, -7.434869739478958, -7.394789579158317, -7.354709418837675, -7.314629258517034, -7.274549098196393, -7.234468937875752, -7.19438877755511, -7.154308617234469, -7.114228456913828, -7.074148296593187, -7.034068136272545, -6.993987975951904, -6.953907815631263, -6.913827655310621, -6.8737474949899795, -6.833667334669339, -6.793587174348698, -6.753507014028056, -6.713426853707415, -6.673346693386774, -6.6332665330661325, -6.593186372745491, -6.55310621242485, -6.513026052104209, -6.472945891783567, -6.432865731462925, -6.3927855711422845, -6.352705410821644, -6.312625250501002, -6.272545090180361, -6.23246492985972, -6.192384769539078, -6.152304609218437, -6.112224448897796, -6.072144288577155, -6.032064128256513, -5.991983967935872, -5.95190380761523, -5.9118236472945895, -5.871743486973948, -5.831663326653307, -5.791583166332665, -5.751503006012024, -5.711422845691383, -5.671342685370742, -5.631262525050101, -5.591182364729459, -5.551102204408818, -5.511022044088176, -5.470941883767535, -5.430861723446894, -5.390781563126253, -5.350701402805611, -5.31062124248497, -5.270541082164329, -5.2304609218436875, -5.190380761523047, -5.150300601202405, -5.110220440881764, -5.070140280561122, -5.030060120240481, -4.98997995991984, -4.949899799599199, -4.909819639278557, -4.869739478957916, -4.829659318637275, -4.789579158316633, -4.7494989979959925, -4.709418837675351, -4.66933867735471, -4.629258517034068, -4.589178356713427, -4.5490981963927855, -4.509018036072145, -4.468937875751503, -4.428857715430862, -4.388777555110221, -4.348697394789579, -4.308617234468938, -4.268537074148297, -4.228456913827656, -4.188376753507014, -4.148296593186373, -4.108216432865731, -4.0681362725450905, -4.028056112224449, -3.987975951903808, -3.947895791583167, -3.907815631262525, -3.8677354709418843, -3.8276553106212425, -3.7875751503006017, -3.74749498997996, -3.707414829659319, -3.6673346693386772, -3.6272545090180364, -3.5871743486973955, -3.5470941883767537, -3.507014028056113, -3.466933867735471, -3.42685370741483, -3.3867735470941884, -3.3466933867735476, -3.306613226452906, -3.266533066132265, -3.226452905811623, -3.1863727454909823, -3.1462925851703414, -3.1062124248496996, -3.0661322645290587, -3.026052104208417, -2.985971943887776, -2.9458917835671343, -2.9058116232464934, -2.8657314629258517, -2.825651302605211, -2.785571142284569, -2.745490981963928, -2.7054108216432873, -2.6653306613226455, -2.6252505010020046, -2.585170340681363, -2.545090180360722, -2.50501002004008, -2.4649298597194393, -2.4248496993987976, -2.3847695390781567, -2.344689378757515, -2.304609218436874, -2.264529058116233, -2.2244488977955914, -2.1843687374749505, -2.1442885771543088, -2.104208416833668, -2.064128256513026, -2.0240480961923852, -1.9839679358717444, -1.9438877755511026, -1.9038076152304608, -1.8637274549098208, -1.823647294589179, -1.7835671342685373, -1.7434869739478955, -1.7034068136272555, -1.6633266533066138, -1.623246492985972, -1.5831663326653302, -1.5430861723446903, -1.5030060120240485, -1.4629258517034067, -1.4228456913827667, -1.382765531062125, -1.3426853707414832, -1.3026052104208414, -1.2625250501002014, -1.2224448897795597, -1.182364729458918, -1.1422845691382761, -1.1022044088176361, -1.0621242484969944, -1.0220440881763526, -0.9819639278557126, -0.9418837675350709, -0.9018036072144291, -0.8617234468937873, -0.8216432865731473, -0.7815631262525056, -0.7414829659318638, -0.701402805611222, -0.661322645290582, -0.6212424849699403, -0.5811623246492985, -0.5410821643286585, -0.5010020040080168, -0.460921843687375, -0.4208416833667332, -0.38076152304609323, -0.34068136272545146, -0.3006012024048097, -0.26052104208416793, -0.22044088176352794, -0.18036072144288617, -0.1402805611222444, -0.10020040080160442, -0.06012024048096265, -0.020040080160320883, 0.020040080160320883, 0.060120240480960874, 0.10020040080160264, 0.1402805611222444, 0.18036072144288617, 0.22044088176352616, 0.26052104208416793, 0.3006012024048097, 0.3406813627254497, 0.38076152304609145, 0.4208416833667332, 0.460921843687375, 0.501002004008015, 0.5410821643286567, 0.5811623246492985, 0.6212424849699403, 0.6613226452905803, 0.701402805611222, 0.7414829659318638, 0.7815631262525038, 0.8216432865731456, 0.8617234468937873, 0.9018036072144291, 0.9418837675350691, 0.9819639278557108, 1.0220440881763526, 1.0621242484969944, 1.1022044088176344, 1.1422845691382761, 1.182364729458918, 1.222444889779558, 1.2625250501001997, 1.3026052104208414, 1.3426853707414832, 1.3827655310621232, 1.422845691382765, 1.4629258517034067, 1.5030060120240485, 1.5430861723446885, 1.5831663326653302, 1.623246492985972, 1.663326653306612, 1.7034068136272538, 1.7434869739478955, 1.7835671342685373, 1.8236472945891773, 1.863727454909819, 1.9038076152304608, 1.9438877755511026, 1.9839679358717426, 2.0240480961923843, 2.064128256513026, 2.104208416833666, 2.144288577154308, 2.1843687374749496, 2.2244488977955914, 2.2645290581162314, 2.304609218436873, 2.344689378757515, 2.3847695390781567, 2.4248496993987967, 2.4649298597194385, 2.50501002004008, 2.54509018036072, 2.585170340681362, 2.6252505010020037, 2.6653306613226455, 2.7054108216432855, 2.7454909819639273, 2.785571142284569, 2.825651302605209, 2.865731462925851, 2.9058116232464926, 2.9458917835671343, 2.9859719438877743, 3.026052104208416, 3.066132264529058, 3.1062124248496996, 3.1462925851703396, 3.1863727454909814, 3.226452905811623, 3.266533066132263, 3.306613226452905, 3.3466933867735467, 3.3867735470941884, 3.4268537074148284, 3.46693386773547, 3.507014028056112, 3.5470941883767537, 3.5871743486973937, 3.6272545090180355, 3.6673346693386772, 3.7074148296593172, 3.747494989979959, 3.7875751503006008, 3.8276553106212425, 3.8677354709418825, 3.9078156312625243, 3.947895791583166, 3.987975951903808, 4.028056112224448, 4.06813627254509, 4.108216432865731, 4.148296593186371, 4.188376753507013, 4.228456913827655, 4.268537074148297, 4.308617234468937, 4.348697394789578, 4.38877755511022, 4.428857715430862, 4.468937875751502, 4.509018036072144, 4.5490981963927855, 4.589178356713425, 4.629258517034067, 4.669338677354709, 4.709418837675351, 4.749498997995991, 4.7895791583166325, 4.829659318637274, 4.869739478957916, 4.909819639278556, 4.949899799599198, 4.98997995991984, 5.0300601202404795, 5.070140280561121, 5.110220440881763, 5.150300601202405, 5.190380761523045, 5.230460921843687, 5.270541082164328, 5.31062124248497, 5.35070140280561, 5.390781563126252, 5.430861723446894, 5.470941883767534, 5.511022044088175, 5.551102204408817, 5.591182364729459, 5.631262525050099, 5.671342685370741, 5.7114228456913825, 5.751503006012024, 5.791583166332664, 5.831663326653306, 5.871743486973948, 5.911823647294588, 5.9519038076152295, 5.991983967935871, 6.032064128256511, 6.072144288577153, 6.112224448897795, 6.152304609218437, 6.192384769539078, 6.23246492985972, 6.272545090180358, 6.312625250501, 6.352705410821642, 6.392785571142284, 6.432865731462925, 6.472945891783567, 6.513026052104209, 6.553106212424851, 6.593186372745489, 6.633266533066131, 6.673346693386772, 6.713426853707414, 6.753507014028056, 6.793587174348698, 6.8336673346693395, 6.873747494989978, 6.9138276553106195, 6.953907815631261, 6.993987975951903, 7.034068136272545, 7.074148296593187, 7.114228456913828, 7.1543086172344665, 7.194388777555108, 7.23446893787575, 7.274549098196392, 7.314629258517034, 7.354709418837675, 7.394789579158317, 7.434869739478959, 7.474949899799597, 7.515030060120239, 7.555110220440881, 7.595190380761522, 7.635270541082164, 7.675350701402806, 7.715430861723448, 7.755511022044086, 7.795591182364728, 7.8356713426853695, 7.875751503006011, 7.915831663326653, 7.955911823647295, 7.9959919839679365, 8.036072144288575, 8.076152304609217, 8.116232464929858, 8.1563126252505, 8.196392785571142, 8.236472945891784, 8.276553106212425, 8.316633266533067, 8.356713426853705, 8.396793587174347, 8.436873747494989, 8.47695390781563, 8.517034068136272, 8.557114228456914, 8.597194388777556, 8.637274549098194, 8.677354709418836, 8.717434869739478, 8.75751503006012, 8.797595190380761, 8.837675350701403, 8.877755511022045, 8.917835671342683, 8.957915831663325, 8.997995991983966, 9.038076152304608, 9.07815631262525, 9.118236472945892, 9.158316633266534, 9.198396793587175, 9.238476953907814, 9.278557114228455, 9.318637274549097, 9.358717434869739, 9.39879759519038, 9.438877755511022, 9.478957915831664, 9.519038076152302, 9.559118236472944, 9.599198396793586, 9.639278557114228, 9.67935871743487, 9.719438877755511, 9.759519038076153, 9.799599198396791, 9.839679358717433, 9.879759519038075, 9.919839679358716, 9.959919839679358, 10.0], \"xaxis\": \"x\", \"y\": [-0.9999999958776927, -0.9999999955336419, -0.9999999951608762, -0.9999999947569993, -0.9999999943194146, -0.9999999938453086, -0.9999999933316335, -0.9999999927750866, -0.9999999921720898, -0.9999999915187665, -0.9999999908109164, -0.9999999900439885, -0.9999999892130522, -0.9999999883127655, -0.9999999873373401, -0.9999999862805049, -0.9999999851354655, -0.9999999838948602, -0.9999999825507131, -0.9999999810943825, -0.9999999795165054, -0.9999999778069375, -0.9999999759546878, -0.9999999739478479, -0.9999999717735156, -0.999999969417712, -0.9999999668652911, -0.9999999640998434, -0.9999999611035894, -0.9999999578572656, -0.9999999543400012, -0.9999999505291833, -0.9999999464003118, -0.9999999419268415, -0.999999937080012, -0.9999999318286624, -0.9999999261390313, -0.9999999199745394, -0.9999999132955544, -0.9999999060591362, -0.9999998982187612, -0.9999998897240227, -0.9999998805203069, -0.9999998705484422, -0.9999998597443182, -0.999999848038474, -0.9999998353556514, -0.999999821614311, -0.9999998067261081, -0.999999790595325, -0.9999997731182546, -0.9999997541825353, -0.9999997336664268, -0.9999997114380289, -0.9999996873544328, -0.9999996612608022, -0.9999996329893782, -0.9999996023584007, -0.9999995691709398, -0.9999995332136297, -0.9999994942552967, -0.9999994520454735, -0.9999994063127887, -0.9999993567632218, -0.9999993030782134, -0.9999992449126169, -0.9999991818924798, -0.9999991136126388, -0.9999990396341161, -0.9999989594812961, -0.9999988726388687, -0.999998778548515, -0.9999986766053195, -0.9999985661538797, -0.9999984464840931, -0.9999983168265919, -0.9999981763477968, -0.9999980241445576, -0.9999978592383474, -0.999997680568971, -0.9999974869877497, -0.9999972772501358, -0.999997050007712, -0.9999968037995223, -0.9999965370426795, -0.9999962480221897, -0.9999959348799258, -0.9999955956026829, -0.9999952280092351, -0.9999948297363133, -0.9999943982234116, -0.9999939306963277, -0.9999934241493271, -0.9999928753258212, -0.9999922806974311, -0.9999916364413057, -0.9999909384155462, -0.99999018213258, -0.9999893627303119, -0.9999884749408698, -0.9999875130567405, -0.9999864708940798, -0.9999853417529625, -0.9999841183743143, -0.9999827928932499, -0.9999813567885183, -0.9999798008277294, -0.9999781150080111, -0.9999762884917144, -0.999974309536754, -0.9999721654211392, -0.9999698423612053, -0.9999673254230269, -0.9999645984264384, -0.9999616438410495, -0.9999584426735868, -0.9999549743458374, -0.9999512165624133, -0.9999471451674862, -0.9999427339895747, -0.9999379546733876, -0.9999327764976454, -0.9999271661777116, -0.9999210876517679, -0.9999145018491645, -0.9999073664394599, -0.9998996355605426, -0.9998912595240947, -0.9998821844965112, -0.9998723521532329, -0.9998616993042827, -0.9998501574886105, -0.9998376525346538, -0.9998241040843073, -0.9998094250772629, -0.9997935211924281, -0.999776290242864, -0.9997576215203829, -0.9997373950856381, -0.9997154809991822, -0.9996917384886129, -0.9996660150465124, -0.9996381454534595, -0.9996079507199226, -0.9995752369403377, -0.9995397940521263, -0.9995013944918223, -0.9994597917398361, -0.999414718744704, -0.9993658862169228, -0.9993129807816811, -0.9992556629789299, -0.9991935650983195, -0.9991262888355236, -0.9990534027554102, -0.9989744395463601, -0.9988888930488014, -0.9987962150396996, -0.998695811753321, -0.9985870401170615, -0.9984692036795016, -0.9983415482061084, -0.9982032569161375, -0.9980534453323112, -0.9978911557127345, -0.9977153510322676, -0.9975249084782001, -0.9973186124225536, -0.9970951468306904, -0.996853087063114, -0.9965908910244237, -0.996306889610328, -0.9959992764004494, -0.9956660965413608, -0.9953052347609209, -0.9949144024515204, -0.9944911237563646, -0.9940327205894144, -0.9935362965161585, -0.9929987194190271, -0.992416602868071, -0.9917862861145955, -0.9911038126228615, -0.990364907052875, -0.9895649506058211, -0.9886989546430495, -0.9877615324898781, -0.9867468693371089, -0.9856486901563273, -0.9844602255501124, -0.9831741754656235, -0.981782670710075, -0.9802772322199018, -0.9786487280525218, -0.9768873280911943, -0.9749824564803043, -0.9729227418413093, -0.97069596535951, -0.968289006879781, -0.9656877892065397, -0.9628772208707671, -0.9598411377061136, -0.9565622436683675, -0.9530220514392299, -0.9492008234777805, -0.9450775143225614, -0.9406297151049947, -0.9358336014118391, -0.9306638858311616, -0.9250937767329364, -0.9190949450712921, -0.91263750124914, -0.9056899843547912, -0.8982193663601741, -0.8901910741555793, -0.8815690325786357, -0.8723157318651283, -0.8623923231931908, -0.8517587461942102, -0.8403738924439114, -0.8281958090026799, -0.8151819460189198, -0.8012894522139361, -0.7864755216998472, -0.7706977950106486, -0.753914816418308, -0.7360865485309662, -0.7171749438044449, -0.6971445709256631, -0.6759632920443089, -0.6536029845510072, -0.6300402985615543, -0.6052574385277849, -0.5792429545451784, -0.5519925260839582, -0.5235097181824774, -0.49380668778324827, -0.46290481605684675, -0.43083524144950147, -0.3976392680038205, -0.36336862441386936, -0.3280855514188771, -0.2918626985865969, -0.2547828162810671, -0.2169382345517337, -0.17843012762409666, -0.1393675703227191, -0.0998664007377535, -0.060047911317250666, -0.02003739786032925, 0.02003739786032925, 0.0600479113172489, 0.09986640073775176, 0.1393675703227191, 0.17843012762409666, 0.216938234551732, 0.2547828162810671, 0.2918626985865969, 0.32808555141887547, 0.36336862441386786, 0.3976392680038205, 0.43083524144950147, 0.4629048160568453, 0.4938066877832468, 0.5235097181824774, 0.5519925260839582, 0.579242954545177, 0.6052574385277849, 0.6300402985615543, 0.6536029845510062, 0.6759632920443079, 0.6971445709256631, 0.7171749438044449, 0.7360865485309654, 0.753914816418307, 0.7706977950106486, 0.7864755216998472, 0.8012894522139354, 0.8151819460189198, 0.8281958090026799, 0.8403738924439108, 0.8517587461942098, 0.8623923231931908, 0.8723157318651283, 0.8815690325786353, 0.890191074155579, 0.8982193663601741, 0.9056899843547912, 0.9126375012491397, 0.9190949450712921, 0.9250937767329364, 0.9306638858311613, 0.9358336014118389, 0.9406297151049947, 0.9450775143225614, 0.9492008234777802, 0.9530220514392298, 0.9565622436683675, 0.9598411377061136, 0.962877220870767, 0.9656877892065396, 0.968289006879781, 0.9706959653595099, 0.9729227418413092, 0.9749824564803043, 0.9768873280911943, 0.9786487280525217, 0.9802772322199018, 0.981782670710075, 0.9831741754656235, 0.9844602255501123, 0.9856486901563272, 0.9867468693371089, 0.9877615324898781, 0.9886989546430495, 0.9895649506058211, 0.990364907052875, 0.9911038126228615, 0.9917862861145955, 0.992416602868071, 0.9929987194190271, 0.9935362965161585, 0.9940327205894144, 0.9944911237563646, 0.9949144024515204, 0.9953052347609209, 0.9956660965413608, 0.9959992764004494, 0.996306889610328, 0.9965908910244237, 0.996853087063114, 0.9970951468306903, 0.9973186124225536, 0.9975249084782001, 0.9977153510322676, 0.9978911557127345, 0.9980534453323112, 0.9982032569161375, 0.9983415482061084, 0.9984692036795016, 0.9985870401170615, 0.998695811753321, 0.9987962150396996, 0.9988888930488014, 0.9989744395463601, 0.9990534027554102, 0.9991262888355236, 0.9991935650983195, 0.9992556629789299, 0.9993129807816811, 0.9993658862169228, 0.999414718744704, 0.9994597917398361, 0.9995013944918223, 0.9995397940521263, 0.9995752369403377, 0.9996079507199226, 0.9996381454534595, 0.9996660150465124, 0.9996917384886129, 0.9997154809991822, 0.9997373950856381, 0.9997576215203829, 0.999776290242864, 0.9997935211924281, 0.9998094250772629, 0.9998241040843073, 0.9998376525346538, 0.9998501574886105, 0.9998616993042827, 0.9998723521532329, 0.9998821844965112, 0.9998912595240947, 0.9998996355605426, 0.9999073664394599, 0.9999145018491645, 0.9999210876517679, 0.9999271661777116, 0.9999327764976454, 0.9999379546733876, 0.9999427339895747, 0.9999471451674862, 0.9999512165624133, 0.9999549743458374, 0.9999584426735868, 0.9999616438410495, 0.9999645984264384, 0.9999673254230269, 0.9999698423612053, 0.9999721654211392, 0.999974309536754, 0.9999762884917144, 0.9999781150080111, 0.9999798008277294, 0.9999813567885183, 0.9999827928932499, 0.9999841183743143, 0.9999853417529625, 0.9999864708940798, 0.9999875130567405, 0.9999884749408698, 0.9999893627303119, 0.99999018213258, 0.9999909384155462, 0.9999916364413057, 0.9999922806974311, 0.9999928753258212, 0.9999934241493271, 0.9999939306963277, 0.9999943982234116, 0.9999948297363133, 0.9999952280092351, 0.9999955956026829, 0.9999959348799258, 0.9999962480221897, 0.9999965370426795, 0.9999968037995223, 0.999997050007712, 0.9999972772501358, 0.9999974869877497, 0.999997680568971, 0.9999978592383474, 0.9999980241445576, 0.9999981763477968, 0.9999983168265919, 0.9999984464840931, 0.9999985661538797, 0.9999986766053195, 0.999998778548515, 0.9999988726388687, 0.9999989594812961, 0.9999990396341161, 0.9999991136126388, 0.9999991818924798, 0.9999992449126169, 0.9999993030782134, 0.9999993567632218, 0.9999994063127887, 0.9999994520454735, 0.9999994942552967, 0.9999995332136297, 0.9999995691709398, 0.9999996023584007, 0.9999996329893782, 0.9999996612608022, 0.9999996873544328, 0.9999997114380289, 0.9999997336664268, 0.9999997541825353, 0.9999997731182546, 0.999999790595325, 0.9999998067261081, 0.999999821614311, 0.9999998353556514, 0.999999848038474, 0.9999998597443182, 0.9999998705484422, 0.9999998805203069, 0.9999998897240227, 0.9999998982187612, 0.9999999060591362, 0.9999999132955544, 0.9999999199745394, 0.9999999261390313, 0.9999999318286624, 0.999999937080012, 0.9999999419268415, 0.9999999464003118, 0.9999999505291833, 0.9999999543400012, 0.9999999578572656, 0.9999999611035894, 0.9999999640998434, 0.9999999668652911, 0.999999969417712, 0.9999999717735156, 0.9999999739478479, 0.9999999759546878, 0.9999999778069375, 0.9999999795165054, 0.9999999810943825, 0.9999999825507131, 0.9999999838948602, 0.9999999851354655, 0.9999999862805049, 0.9999999873373401, 0.9999999883127655, 0.9999999892130522, 0.9999999900439885, 0.9999999908109164, 0.9999999915187665, 0.9999999921720898, 0.9999999927750866, 0.9999999933316335, 0.9999999938453086, 0.9999999943194146, 0.9999999947569993, 0.9999999951608762, 0.9999999955336419, 0.9999999958776927], \"yaxis\": \"y\"}],\n",
              "                        {\"legend\": {\"tracegroupgap\": 0}, \"template\": {\"data\": {\"bar\": [{\"error_x\": {\"color\": \"#2a3f5f\"}, \"error_y\": {\"color\": \"#2a3f5f\"}, \"marker\": {\"line\": {\"color\": \"#E5ECF6\", \"width\": 0.5}}, \"type\": \"bar\"}], \"barpolar\": [{\"marker\": {\"line\": {\"color\": \"#E5ECF6\", \"width\": 0.5}}, \"type\": \"barpolar\"}], \"carpet\": [{\"aaxis\": {\"endlinecolor\": \"#2a3f5f\", \"gridcolor\": \"white\", \"linecolor\": \"white\", \"minorgridcolor\": \"white\", \"startlinecolor\": \"#2a3f5f\"}, \"baxis\": {\"endlinecolor\": \"#2a3f5f\", \"gridcolor\": \"white\", \"linecolor\": \"white\", \"minorgridcolor\": \"white\", \"startlinecolor\": \"#2a3f5f\"}, \"type\": \"carpet\"}], \"choropleth\": [{\"colorbar\": {\"outlinewidth\": 0, \"ticks\": \"\"}, \"type\": \"choropleth\"}], \"contour\": [{\"colorbar\": {\"outlinewidth\": 0, \"ticks\": \"\"}, \"colorscale\": [[0.0, \"#0d0887\"], [0.1111111111111111, \"#46039f\"], [0.2222222222222222, \"#7201a8\"], [0.3333333333333333, \"#9c179e\"], [0.4444444444444444, \"#bd3786\"], [0.5555555555555556, \"#d8576b\"], [0.6666666666666666, \"#ed7953\"], [0.7777777777777778, \"#fb9f3a\"], [0.8888888888888888, \"#fdca26\"], [1.0, \"#f0f921\"]], \"type\": \"contour\"}], \"contourcarpet\": [{\"colorbar\": {\"outlinewidth\": 0, \"ticks\": \"\"}, \"type\": \"contourcarpet\"}], \"heatmap\": [{\"colorbar\": {\"outlinewidth\": 0, \"ticks\": \"\"}, \"colorscale\": [[0.0, \"#0d0887\"], [0.1111111111111111, \"#46039f\"], [0.2222222222222222, \"#7201a8\"], [0.3333333333333333, \"#9c179e\"], [0.4444444444444444, \"#bd3786\"], [0.5555555555555556, \"#d8576b\"], [0.6666666666666666, \"#ed7953\"], [0.7777777777777778, \"#fb9f3a\"], [0.8888888888888888, \"#fdca26\"], [1.0, \"#f0f921\"]], \"type\": \"heatmap\"}], \"heatmapgl\": [{\"colorbar\": {\"outlinewidth\": 0, \"ticks\": \"\"}, \"colorscale\": [[0.0, \"#0d0887\"], [0.1111111111111111, \"#46039f\"], [0.2222222222222222, \"#7201a8\"], [0.3333333333333333, \"#9c179e\"], [0.4444444444444444, \"#bd3786\"], [0.5555555555555556, \"#d8576b\"], [0.6666666666666666, \"#ed7953\"], [0.7777777777777778, \"#fb9f3a\"], [0.8888888888888888, \"#fdca26\"], [1.0, \"#f0f921\"]], \"type\": \"heatmapgl\"}], \"histogram\": [{\"marker\": {\"colorbar\": {\"outlinewidth\": 0, \"ticks\": \"\"}}, \"type\": \"histogram\"}], \"histogram2d\": [{\"colorbar\": {\"outlinewidth\": 0, \"ticks\": \"\"}, \"colorscale\": [[0.0, \"#0d0887\"], [0.1111111111111111, \"#46039f\"], [0.2222222222222222, \"#7201a8\"], [0.3333333333333333, \"#9c179e\"], [0.4444444444444444, \"#bd3786\"], [0.5555555555555556, \"#d8576b\"], [0.6666666666666666, \"#ed7953\"], [0.7777777777777778, \"#fb9f3a\"], [0.8888888888888888, \"#fdca26\"], [1.0, \"#f0f921\"]], \"type\": \"histogram2d\"}], \"histogram2dcontour\": [{\"colorbar\": {\"outlinewidth\": 0, \"ticks\": \"\"}, \"colorscale\": [[0.0, \"#0d0887\"], [0.1111111111111111, \"#46039f\"], [0.2222222222222222, \"#7201a8\"], [0.3333333333333333, \"#9c179e\"], [0.4444444444444444, \"#bd3786\"], [0.5555555555555556, \"#d8576b\"], [0.6666666666666666, \"#ed7953\"], [0.7777777777777778, \"#fb9f3a\"], [0.8888888888888888, \"#fdca26\"], [1.0, \"#f0f921\"]], \"type\": \"histogram2dcontour\"}], \"mesh3d\": [{\"colorbar\": {\"outlinewidth\": 0, \"ticks\": \"\"}, \"type\": \"mesh3d\"}], \"parcoords\": [{\"line\": {\"colorbar\": {\"outlinewidth\": 0, \"ticks\": \"\"}}, \"type\": \"parcoords\"}], \"pie\": [{\"automargin\": true, \"type\": \"pie\"}], \"scatter\": [{\"marker\": {\"colorbar\": {\"outlinewidth\": 0, \"ticks\": \"\"}}, \"type\": \"scatter\"}], \"scatter3d\": [{\"line\": {\"colorbar\": {\"outlinewidth\": 0, \"ticks\": \"\"}}, \"marker\": {\"colorbar\": {\"outlinewidth\": 0, \"ticks\": \"\"}}, \"type\": \"scatter3d\"}], \"scattercarpet\": [{\"marker\": {\"colorbar\": {\"outlinewidth\": 0, \"ticks\": \"\"}}, \"type\": \"scattercarpet\"}], \"scattergeo\": [{\"marker\": {\"colorbar\": {\"outlinewidth\": 0, \"ticks\": \"\"}}, \"type\": \"scattergeo\"}], \"scattergl\": [{\"marker\": {\"colorbar\": {\"outlinewidth\": 0, \"ticks\": \"\"}}, \"type\": \"scattergl\"}], \"scattermapbox\": [{\"marker\": {\"colorbar\": {\"outlinewidth\": 0, \"ticks\": \"\"}}, \"type\": \"scattermapbox\"}], \"scatterpolar\": [{\"marker\": {\"colorbar\": {\"outlinewidth\": 0, \"ticks\": \"\"}}, \"type\": \"scatterpolar\"}], \"scatterpolargl\": [{\"marker\": {\"colorbar\": {\"outlinewidth\": 0, \"ticks\": \"\"}}, \"type\": \"scatterpolargl\"}], \"scatterternary\": [{\"marker\": {\"colorbar\": {\"outlinewidth\": 0, \"ticks\": \"\"}}, \"type\": \"scatterternary\"}], \"surface\": [{\"colorbar\": {\"outlinewidth\": 0, \"ticks\": \"\"}, \"colorscale\": [[0.0, \"#0d0887\"], [0.1111111111111111, \"#46039f\"], [0.2222222222222222, \"#7201a8\"], [0.3333333333333333, \"#9c179e\"], [0.4444444444444444, \"#bd3786\"], [0.5555555555555556, \"#d8576b\"], [0.6666666666666666, \"#ed7953\"], [0.7777777777777778, \"#fb9f3a\"], [0.8888888888888888, \"#fdca26\"], [1.0, \"#f0f921\"]], \"type\": \"surface\"}], \"table\": [{\"cells\": {\"fill\": {\"color\": \"#EBF0F8\"}, \"line\": {\"color\": \"white\"}}, \"header\": {\"fill\": {\"color\": \"#C8D4E3\"}, \"line\": {\"color\": \"white\"}}, \"type\": \"table\"}]}, \"layout\": {\"annotationdefaults\": {\"arrowcolor\": \"#2a3f5f\", \"arrowhead\": 0, \"arrowwidth\": 1}, \"coloraxis\": {\"colorbar\": {\"outlinewidth\": 0, \"ticks\": \"\"}}, \"colorscale\": {\"diverging\": [[0, \"#8e0152\"], [0.1, \"#c51b7d\"], [0.2, \"#de77ae\"], [0.3, \"#f1b6da\"], [0.4, \"#fde0ef\"], [0.5, \"#f7f7f7\"], [0.6, \"#e6f5d0\"], [0.7, \"#b8e186\"], [0.8, \"#7fbc41\"], [0.9, \"#4d9221\"], [1, \"#276419\"]], \"sequential\": [[0.0, \"#0d0887\"], [0.1111111111111111, \"#46039f\"], [0.2222222222222222, \"#7201a8\"], [0.3333333333333333, \"#9c179e\"], [0.4444444444444444, \"#bd3786\"], [0.5555555555555556, \"#d8576b\"], [0.6666666666666666, \"#ed7953\"], [0.7777777777777778, \"#fb9f3a\"], [0.8888888888888888, \"#fdca26\"], [1.0, \"#f0f921\"]], \"sequentialminus\": [[0.0, \"#0d0887\"], [0.1111111111111111, \"#46039f\"], [0.2222222222222222, \"#7201a8\"], [0.3333333333333333, \"#9c179e\"], [0.4444444444444444, \"#bd3786\"], [0.5555555555555556, \"#d8576b\"], [0.6666666666666666, \"#ed7953\"], [0.7777777777777778, \"#fb9f3a\"], [0.8888888888888888, \"#fdca26\"], [1.0, \"#f0f921\"]]}, \"colorway\": [\"#636efa\", \"#EF553B\", \"#00cc96\", \"#ab63fa\", \"#FFA15A\", \"#19d3f3\", \"#FF6692\", \"#B6E880\", \"#FF97FF\", \"#FECB52\"], \"font\": {\"color\": \"#2a3f5f\"}, \"geo\": {\"bgcolor\": \"white\", \"lakecolor\": \"white\", \"landcolor\": \"#E5ECF6\", \"showlakes\": true, \"showland\": true, \"subunitcolor\": \"white\"}, \"hoverlabel\": {\"align\": \"left\"}, \"hovermode\": \"closest\", \"mapbox\": {\"style\": \"light\"}, \"paper_bgcolor\": \"white\", \"plot_bgcolor\": \"#E5ECF6\", \"polar\": {\"angularaxis\": {\"gridcolor\": \"white\", \"linecolor\": \"white\", \"ticks\": \"\"}, \"bgcolor\": \"#E5ECF6\", \"radialaxis\": {\"gridcolor\": \"white\", \"linecolor\": \"white\", \"ticks\": \"\"}}, \"scene\": {\"xaxis\": {\"backgroundcolor\": \"#E5ECF6\", \"gridcolor\": \"white\", \"gridwidth\": 2, \"linecolor\": \"white\", \"showbackground\": true, \"ticks\": \"\", \"zerolinecolor\": \"white\"}, \"yaxis\": {\"backgroundcolor\": \"#E5ECF6\", \"gridcolor\": \"white\", \"gridwidth\": 2, \"linecolor\": \"white\", \"showbackground\": true, \"ticks\": \"\", \"zerolinecolor\": \"white\"}, \"zaxis\": {\"backgroundcolor\": \"#E5ECF6\", \"gridcolor\": \"white\", \"gridwidth\": 2, \"linecolor\": \"white\", \"showbackground\": true, \"ticks\": \"\", \"zerolinecolor\": \"white\"}}, \"shapedefaults\": {\"line\": {\"color\": \"#2a3f5f\"}}, \"ternary\": {\"aaxis\": {\"gridcolor\": \"white\", \"linecolor\": \"white\", \"ticks\": \"\"}, \"baxis\": {\"gridcolor\": \"white\", \"linecolor\": \"white\", \"ticks\": \"\"}, \"bgcolor\": \"#E5ECF6\", \"caxis\": {\"gridcolor\": \"white\", \"linecolor\": \"white\", \"ticks\": \"\"}}, \"title\": {\"x\": 0.05}, \"xaxis\": {\"automargin\": true, \"gridcolor\": \"white\", \"linecolor\": \"white\", \"ticks\": \"\", \"title\": {\"standoff\": 15}, \"zerolinecolor\": \"white\", \"zerolinewidth\": 2}, \"yaxis\": {\"automargin\": true, \"gridcolor\": \"white\", \"linecolor\": \"white\", \"ticks\": \"\", \"title\": {\"standoff\": 15}, \"zerolinecolor\": \"white\", \"zerolinewidth\": 2}}}, \"title\": {\"text\": \"tanh\"}, \"xaxis\": {\"anchor\": \"y\", \"domain\": [0.0, 1.0], \"title\": {\"text\": \"x\"}}, \"yaxis\": {\"anchor\": \"x\", \"domain\": [0.0, 1.0], \"title\": {\"text\": \"y\"}}},\n",
              "                        {\"responsive\": true}\n",
              "                    ).then(function(){\n",
              "                            \n",
              "var gd = document.getElementById('f8b48f6a-e1c9-4a47-9023-125c0bd9a58a');\n",
              "var x = new MutationObserver(function (mutations, observer) {{\n",
              "        var display = window.getComputedStyle(gd).display;\n",
              "        if (!display || display === 'none') {{\n",
              "            console.log([gd, 'removed!']);\n",
              "            Plotly.purge(gd);\n",
              "            observer.disconnect();\n",
              "        }}\n",
              "}});\n",
              "\n",
              "// Listen for the removal of the full notebook cells\n",
              "var notebookContainer = gd.closest('#notebook-container');\n",
              "if (notebookContainer) {{\n",
              "    x.observe(notebookContainer, {childList: true});\n",
              "}}\n",
              "\n",
              "// Listen for the clearing of the current output cell\n",
              "var outputEl = gd.closest('.output');\n",
              "if (outputEl) {{\n",
              "    x.observe(outputEl, {childList: true});\n",
              "}}\n",
              "\n",
              "                        })\n",
              "                };\n",
              "                \n",
              "            </script>\n",
              "        </div>\n",
              "</body>\n",
              "</html>"
            ]
          },
          "metadata": {
            "tags": []
          }
        },
        {
          "output_type": "display_data",
          "data": {
            "text/html": [
              "<html>\n",
              "<head><meta charset=\"utf-8\" /></head>\n",
              "<body>\n",
              "    <div>\n",
              "            <script src=\"https://cdnjs.cloudflare.com/ajax/libs/mathjax/2.7.5/MathJax.js?config=TeX-AMS-MML_SVG\"></script><script type=\"text/javascript\">if (window.MathJax) {MathJax.Hub.Config({SVG: {font: \"STIX-Web\"}});}</script>\n",
              "                <script type=\"text/javascript\">window.PlotlyConfig = {MathJaxConfig: 'local'};</script>\n",
              "        <script src=\"https://cdn.plot.ly/plotly-latest.min.js\"></script>    \n",
              "            <div id=\"342acdc9-f213-4d39-ae24-8cc76b404335\" class=\"plotly-graph-div\" style=\"height:525px; width:100%;\"></div>\n",
              "            <script type=\"text/javascript\">\n",
              "                \n",
              "                    window.PLOTLYENV=window.PLOTLYENV || {};\n",
              "                    \n",
              "                if (document.getElementById(\"342acdc9-f213-4d39-ae24-8cc76b404335\")) {\n",
              "                    Plotly.newPlot(\n",
              "                        '342acdc9-f213-4d39-ae24-8cc76b404335',\n",
              "                        [{\"hoverlabel\": {\"namelength\": 0}, \"hovertemplate\": \"x=%{x}<br>y=%{y}\", \"legendgroup\": \"\", \"line\": {\"color\": \"#636efa\", \"dash\": \"solid\"}, \"mode\": \"lines\", \"name\": \"\", \"showlegend\": false, \"type\": \"scatter\", \"x\": [-10.0, -9.959919839679358, -9.919839679358718, -9.879759519038076, -9.839679358717435, -9.799599198396793, -9.759519038076153, -9.719438877755511, -9.67935871743487, -9.639278557114228, -9.599198396793588, -9.559118236472946, -9.519038076152304, -9.478957915831664, -9.438877755511022, -9.39879759519038, -9.358717434869739, -9.318637274549099, -9.278557114228457, -9.238476953907815, -9.198396793587175, -9.158316633266534, -9.118236472945892, -9.07815631262525, -9.03807615230461, -8.997995991983968, -8.957915831663327, -8.917835671342685, -8.877755511022045, -8.837675350701403, -8.797595190380761, -8.75751503006012, -8.71743486973948, -8.677354709418838, -8.637274549098196, -8.597194388777556, -8.557114228456914, -8.517034068136272, -8.47695390781563, -8.43687374749499, -8.396793587174349, -8.356713426853707, -8.316633266533067, -8.276553106212425, -8.236472945891784, -8.196392785571142, -8.156312625250502, -8.11623246492986, -8.076152304609218, -8.036072144288577, -7.9959919839679365, -7.955911823647295, -7.915831663326653, -7.875751503006012, -7.835671342685371, -7.7955911823647295, -7.755511022044088, -7.715430861723447, -7.675350701402806, -7.635270541082164, -7.595190380761523, -7.555110220440882, -7.515030060120241, -7.474949899799599, -7.434869739478958, -7.394789579158317, -7.354709418837675, -7.314629258517034, -7.274549098196393, -7.234468937875752, -7.19438877755511, -7.154308617234469, -7.114228456913828, -7.074148296593187, -7.034068136272545, -6.993987975951904, -6.953907815631263, -6.913827655310621, -6.8737474949899795, -6.833667334669339, -6.793587174348698, -6.753507014028056, -6.713426853707415, -6.673346693386774, -6.6332665330661325, -6.593186372745491, -6.55310621242485, -6.513026052104209, -6.472945891783567, -6.432865731462925, -6.3927855711422845, -6.352705410821644, -6.312625250501002, -6.272545090180361, -6.23246492985972, -6.192384769539078, -6.152304609218437, -6.112224448897796, -6.072144288577155, -6.032064128256513, -5.991983967935872, -5.95190380761523, -5.9118236472945895, -5.871743486973948, -5.831663326653307, -5.791583166332665, -5.751503006012024, -5.711422845691383, -5.671342685370742, -5.631262525050101, -5.591182364729459, -5.551102204408818, -5.511022044088176, -5.470941883767535, -5.430861723446894, -5.390781563126253, -5.350701402805611, -5.31062124248497, -5.270541082164329, -5.2304609218436875, -5.190380761523047, -5.150300601202405, -5.110220440881764, -5.070140280561122, -5.030060120240481, -4.98997995991984, -4.949899799599199, -4.909819639278557, -4.869739478957916, -4.829659318637275, -4.789579158316633, -4.7494989979959925, -4.709418837675351, -4.66933867735471, -4.629258517034068, -4.589178356713427, -4.5490981963927855, -4.509018036072145, -4.468937875751503, -4.428857715430862, -4.388777555110221, -4.348697394789579, -4.308617234468938, -4.268537074148297, -4.228456913827656, -4.188376753507014, -4.148296593186373, -4.108216432865731, -4.0681362725450905, -4.028056112224449, -3.987975951903808, -3.947895791583167, -3.907815631262525, -3.8677354709418843, -3.8276553106212425, -3.7875751503006017, -3.74749498997996, -3.707414829659319, -3.6673346693386772, -3.6272545090180364, -3.5871743486973955, -3.5470941883767537, -3.507014028056113, -3.466933867735471, -3.42685370741483, -3.3867735470941884, -3.3466933867735476, -3.306613226452906, -3.266533066132265, -3.226452905811623, -3.1863727454909823, -3.1462925851703414, -3.1062124248496996, -3.0661322645290587, -3.026052104208417, -2.985971943887776, -2.9458917835671343, -2.9058116232464934, -2.8657314629258517, -2.825651302605211, -2.785571142284569, -2.745490981963928, -2.7054108216432873, -2.6653306613226455, -2.6252505010020046, -2.585170340681363, -2.545090180360722, -2.50501002004008, -2.4649298597194393, -2.4248496993987976, -2.3847695390781567, -2.344689378757515, -2.304609218436874, -2.264529058116233, -2.2244488977955914, -2.1843687374749505, -2.1442885771543088, -2.104208416833668, -2.064128256513026, -2.0240480961923852, -1.9839679358717444, -1.9438877755511026, -1.9038076152304608, -1.8637274549098208, -1.823647294589179, -1.7835671342685373, -1.7434869739478955, -1.7034068136272555, -1.6633266533066138, -1.623246492985972, -1.5831663326653302, -1.5430861723446903, -1.5030060120240485, -1.4629258517034067, -1.4228456913827667, -1.382765531062125, -1.3426853707414832, -1.3026052104208414, -1.2625250501002014, -1.2224448897795597, -1.182364729458918, -1.1422845691382761, -1.1022044088176361, -1.0621242484969944, -1.0220440881763526, -0.9819639278557126, -0.9418837675350709, -0.9018036072144291, -0.8617234468937873, -0.8216432865731473, -0.7815631262525056, -0.7414829659318638, -0.701402805611222, -0.661322645290582, -0.6212424849699403, -0.5811623246492985, -0.5410821643286585, -0.5010020040080168, -0.460921843687375, -0.4208416833667332, -0.38076152304609323, -0.34068136272545146, -0.3006012024048097, -0.26052104208416793, -0.22044088176352794, -0.18036072144288617, -0.1402805611222444, -0.10020040080160442, -0.06012024048096265, -0.020040080160320883, 0.020040080160320883, 0.060120240480960874, 0.10020040080160264, 0.1402805611222444, 0.18036072144288617, 0.22044088176352616, 0.26052104208416793, 0.3006012024048097, 0.3406813627254497, 0.38076152304609145, 0.4208416833667332, 0.460921843687375, 0.501002004008015, 0.5410821643286567, 0.5811623246492985, 0.6212424849699403, 0.6613226452905803, 0.701402805611222, 0.7414829659318638, 0.7815631262525038, 0.8216432865731456, 0.8617234468937873, 0.9018036072144291, 0.9418837675350691, 0.9819639278557108, 1.0220440881763526, 1.0621242484969944, 1.1022044088176344, 1.1422845691382761, 1.182364729458918, 1.222444889779558, 1.2625250501001997, 1.3026052104208414, 1.3426853707414832, 1.3827655310621232, 1.422845691382765, 1.4629258517034067, 1.5030060120240485, 1.5430861723446885, 1.5831663326653302, 1.623246492985972, 1.663326653306612, 1.7034068136272538, 1.7434869739478955, 1.7835671342685373, 1.8236472945891773, 1.863727454909819, 1.9038076152304608, 1.9438877755511026, 1.9839679358717426, 2.0240480961923843, 2.064128256513026, 2.104208416833666, 2.144288577154308, 2.1843687374749496, 2.2244488977955914, 2.2645290581162314, 2.304609218436873, 2.344689378757515, 2.3847695390781567, 2.4248496993987967, 2.4649298597194385, 2.50501002004008, 2.54509018036072, 2.585170340681362, 2.6252505010020037, 2.6653306613226455, 2.7054108216432855, 2.7454909819639273, 2.785571142284569, 2.825651302605209, 2.865731462925851, 2.9058116232464926, 2.9458917835671343, 2.9859719438877743, 3.026052104208416, 3.066132264529058, 3.1062124248496996, 3.1462925851703396, 3.1863727454909814, 3.226452905811623, 3.266533066132263, 3.306613226452905, 3.3466933867735467, 3.3867735470941884, 3.4268537074148284, 3.46693386773547, 3.507014028056112, 3.5470941883767537, 3.5871743486973937, 3.6272545090180355, 3.6673346693386772, 3.7074148296593172, 3.747494989979959, 3.7875751503006008, 3.8276553106212425, 3.8677354709418825, 3.9078156312625243, 3.947895791583166, 3.987975951903808, 4.028056112224448, 4.06813627254509, 4.108216432865731, 4.148296593186371, 4.188376753507013, 4.228456913827655, 4.268537074148297, 4.308617234468937, 4.348697394789578, 4.38877755511022, 4.428857715430862, 4.468937875751502, 4.509018036072144, 4.5490981963927855, 4.589178356713425, 4.629258517034067, 4.669338677354709, 4.709418837675351, 4.749498997995991, 4.7895791583166325, 4.829659318637274, 4.869739478957916, 4.909819639278556, 4.949899799599198, 4.98997995991984, 5.0300601202404795, 5.070140280561121, 5.110220440881763, 5.150300601202405, 5.190380761523045, 5.230460921843687, 5.270541082164328, 5.31062124248497, 5.35070140280561, 5.390781563126252, 5.430861723446894, 5.470941883767534, 5.511022044088175, 5.551102204408817, 5.591182364729459, 5.631262525050099, 5.671342685370741, 5.7114228456913825, 5.751503006012024, 5.791583166332664, 5.831663326653306, 5.871743486973948, 5.911823647294588, 5.9519038076152295, 5.991983967935871, 6.032064128256511, 6.072144288577153, 6.112224448897795, 6.152304609218437, 6.192384769539078, 6.23246492985972, 6.272545090180358, 6.312625250501, 6.352705410821642, 6.392785571142284, 6.432865731462925, 6.472945891783567, 6.513026052104209, 6.553106212424851, 6.593186372745489, 6.633266533066131, 6.673346693386772, 6.713426853707414, 6.753507014028056, 6.793587174348698, 6.8336673346693395, 6.873747494989978, 6.9138276553106195, 6.953907815631261, 6.993987975951903, 7.034068136272545, 7.074148296593187, 7.114228456913828, 7.1543086172344665, 7.194388777555108, 7.23446893787575, 7.274549098196392, 7.314629258517034, 7.354709418837675, 7.394789579158317, 7.434869739478959, 7.474949899799597, 7.515030060120239, 7.555110220440881, 7.595190380761522, 7.635270541082164, 7.675350701402806, 7.715430861723448, 7.755511022044086, 7.795591182364728, 7.8356713426853695, 7.875751503006011, 7.915831663326653, 7.955911823647295, 7.9959919839679365, 8.036072144288575, 8.076152304609217, 8.116232464929858, 8.1563126252505, 8.196392785571142, 8.236472945891784, 8.276553106212425, 8.316633266533067, 8.356713426853705, 8.396793587174347, 8.436873747494989, 8.47695390781563, 8.517034068136272, 8.557114228456914, 8.597194388777556, 8.637274549098194, 8.677354709418836, 8.717434869739478, 8.75751503006012, 8.797595190380761, 8.837675350701403, 8.877755511022045, 8.917835671342683, 8.957915831663325, 8.997995991983966, 9.038076152304608, 9.07815631262525, 9.118236472945892, 9.158316633266534, 9.198396793587175, 9.238476953907814, 9.278557114228455, 9.318637274549097, 9.358717434869739, 9.39879759519038, 9.438877755511022, 9.478957915831664, 9.519038076152302, 9.559118236472944, 9.599198396793586, 9.639278557114228, 9.67935871743487, 9.719438877755511, 9.759519038076153, 9.799599198396791, 9.839679358717433, 9.879759519038075, 9.919839679358716, 9.959919839679358, 10.0], \"xaxis\": \"x\", \"y\": [8.244614546626394e-09, 8.932716122345141e-09, 9.678247536726303e-09, 1.0486001400522582e-08, 1.1361170892953965e-08, 1.2309382846353856e-08, 1.3336733051261263e-08, 1.4449826890583495e-08, 1.5655820306825774e-08, 1.6962466875547477e-08, 1.837816709926443e-08, 1.9912022808377117e-08, 2.1573895447879465e-08, 2.337446891598205e-08, 2.532531973020724e-08, 2.7438989969041927e-08, 2.972906876230752e-08, 3.2210279332645086e-08, 3.489857347549474e-08, 3.7811234698814644e-08, 4.096698869027193e-08, 4.438612455359703e-08, 4.809062381649909e-08, 5.210430353841389e-08, 5.645296796696897e-08, 6.116457518245966e-08, 6.626941662091212e-08, 7.180031191822422e-08, 7.779281974151786e-08, 8.428546705019357e-08, 9.131999545441971e-08, 9.89416308883051e-08, 1.0719937360015308e-07, 1.1614631367784511e-07, 1.2583997199833163e-07, 1.3634267048701076e-07, 1.4772193190903948e-07, 1.6005091474369237e-07, 1.7340888369687946e-07, 1.8788171873840298e-07, 2.0356246721586757e-07, 2.205519424869351e-07, 2.389593719565042e-07, 2.58903098848684e-07, 2.8051134404183387e-07, 3.03923028965869e-07, 3.2928867010895146e-07, 3.5677134613276706e-07, 3.865477464781719e-07, 4.188093062351683e-07, 4.537634392676182e-07, 4.916348690375827e-07, 5.326670754479679e-07, 5.771238589247218e-07, 6.25291036726594e-07, 6.774782808083302e-07, 7.340211088946447e-07, 7.952830405333344e-07, 8.616579347808795e-07, 9.335725227321845e-07, 1.0114891508816726e-06, 1.0959087528572553e-06, 1.187374070066305e-06, 1.2864731425699105e-06, 1.393843087504898e-06, 1.5101741959178128e-06, 1.6362143709924837e-06, 1.7727739366479867e-06, 1.9207308455948535e-06, 2.0810363250411967e-06, 2.2547209916901068e-06, 2.4429014779947522e-06, 2.6467876096392118e-06, 2.867690184649163e-06, 3.107029400428729e-06, 3.366343983124409e-06, 3.6473010808224515e-06, 3.951706980753755e-06, 4.281518722337729e-06, 4.638856678229608e-06, 5.026018185305681e-06, 5.4454923150704104e-06, 5.899975873524532e-06, 6.3923907397400725e-06, 6.925902648835525e-06, 7.503941543363091e-06, 8.13022362322613e-06, 8.8087752354582e-06, 9.543958757851634e-06, 1.0340500641858874e-05, 1.1203521796843141e-05, 1.2138570508191115e-05, 1.3151658103893737e-05, 1.4249297596746757e-05, 1.543854555019486e-05, 1.6727047439379916e-05, 1.812308679527419e-05, 1.963563844953331e-05, 2.127442622468223e-05, 2.3049985433343245e-05, 2.4973730595290178e-05, 2.7058028803761403e-05, 2.931627921076707e-05, 3.1762999145312776e-05, 3.441391741576538e-05, 3.728607539410511e-05, 4.0397936534652956e-05, 4.376950502482657e-05, 4.742245433564385e-05, 5.1380266491984905e-05, 5.566838295778531e-05, 6.031436810616242e-05, 6.534808631819544e-05, 7.080189385189062e-05, 7.671084670612949e-05, 8.311292581497653e-05, 9.004928101574716e-05, 9.756449534970013e-05, 0.00010570687139432877, 0.00011452874145467806, 0.00012408680360220803, 0.0001344424857098181, 0.00014566233981117005, 0.00015781846930551513, 0.0001709889917371754, 0.00018525854010376097, 0.0002007188058940068, 0.00021746912731945844, 0.00023561712648467736, 0.0002552793995613811, 0.00027658226435212097, 0.00029966257000080265, 0.00032466857399282567, 0.0003517608920121651, 0.000381113526673027, 0.00041291498164575113, 0.0004473694682166629, 0.00048469821190677553, 0.0005251408673827562, 0.000568957050573804, 0.0006164279976147435, 0.000667858361026008, 0.0007235781543680764, 0.0007839448575167607, 0.000849345695667747, 0.000920200106232838, 0.0009969624089026796, 0.0010801246953634491, 0.001170219956444174, 0.0012678254658645693, 0.001373566441231544, 0.0014881200045393506, 0.0016122194661104539, 0.0017466589577539438, 0.0018922984428361156, 0.002050069133035737, 0.002220979343740326, 0.002406120822370128, 0.0026066755863751734, 0.002823923310246279, 0.0030592493036218915, 0.0033141531254304857, 0.0035902578820155018, 0.0038893202603033084, 0.0042132413503032096, 0.004564078314559072, 0.004944056965558552, 0.005355585315552358, 0.005801268166683804, 0.006283922812739595, 0.006806595927145276, 0.007372581714993776, 0.007985441409781191, 0.00864902419808955, 0.00936748965750811, 0.01014533179453403, 0.010987404769803089, 0.011898950397607244, 0.012885627504956032, 0.01395354323217235, 0.015109286351797535, 0.016359962675017714, 0.01771323260442781, 0.0191773508781502, 0.020761208532498965, 0.02247437708774125, 0.024327154933247552, 0.026330615853414563, 0.028496659593116314, 0.030838064309821833, 0.0333685406974914, 0.03610278749339246, 0.03905654799128866, 0.0422466670811813, 0.04569114821484732, 0.04940920955563144, 0.053421338407988905, 0.05774934283476907, 0.062416399155767355, 0.06744709377738567, 0.07286745752818802, 0.07870499036703349, 0.0849886739881387, 0.09174896947056177, 0.09901779670910349, 0.10682849192188881, 0.11521573906149651, 0.12421547046854697, 0.13386473160964274, 0.14420150424999212, 0.15526448194439857, 0.167092791313726, 0.17972565223941805, 0.1932019698955274, 0.2075598514937359, 0.22283604079836827, 0.23906526394060557, 0.2562794808974511, 0.274507038281667, 0.2937717208986693, 0.3140917019503966, 0.3354783948848069, 0.35793521377069026, 0.38145625376695314, 0.4060249087657243, 0.43161244958494893, 0.4581765930717695, 0.4856600999790913, 0.5139894472288731, 0.5430736278086203, 0.572803138586016, 0.6030492221884676, 0.6336634331067847, 0.6644775996097725, 0.6953042511474508, 0.7259375749685031, 0.7561549551005375, 0.7857191312713769, 0.8143809947251498, 0.8418830125413859, 0.8679632427915723, 0.8923598709501713, 0.9148161651737493, 0.9350857165278881, 0.9529378023895769, 0.9681626895560486, 0.9805766803423419, 0.9900267020036865, 0.9963942483464356, 0.9995985026869869, 0.9995985026869869, 0.9963942483464359, 0.9900267020036868, 0.9805766803423419, 0.9681626895560486, 0.9529378023895777, 0.9350857165278881, 0.9148161651737493, 0.8923598709501724, 0.8679632427915734, 0.8418830125413859, 0.8143809947251498, 0.7857191312713783, 0.756154955100539, 0.7259375749685031, 0.6953042511474508, 0.664477599609774, 0.6336634331067847, 0.6030492221884676, 0.5728031385860172, 0.5430736278086217, 0.5139894472288731, 0.4856600999790913, 0.4581765930717706, 0.4316124495849504, 0.4060249087657243, 0.38145625376695314, 0.35793521377069126, 0.3354783948848069, 0.3140917019503966, 0.2937717208986702, 0.2745070382816678, 0.2562794808974511, 0.23906526394060557, 0.22283604079836905, 0.20755985149373646, 0.1932019698955274, 0.17972565223941805, 0.16709279131372656, 0.15526448194439857, 0.14420150424999212, 0.13386473160964307, 0.12421547046854742, 0.11521573906149651, 0.10682849192188881, 0.09901779670910393, 0.09174896947056199, 0.0849886739881387, 0.07870499036703349, 0.07286745752818824, 0.06744709377738589, 0.062416399155767355, 0.05774934283476918, 0.05342133840798913, 0.04940920955563144, 0.04569114821484732, 0.04224666708118152, 0.03905654799128866, 0.03610278749339246, 0.0333685406974914, 0.030838064309822055, 0.028496659593116536, 0.026330615853414563, 0.024327154933247552, 0.02247437708774125, 0.020761208532498965, 0.0191773508781502, 0.01771323260442781, 0.016359962675017714, 0.015109286351797535, 0.01395354323217235, 0.012885627504956032, 0.011898950397607244, 0.010987404769803089, 0.01014533179453403, 0.00936748965750811, 0.00864902419808955, 0.007985441409781191, 0.007372581714993776, 0.006806595927145276, 0.006283922812739595, 0.005801268166684026, 0.005355585315552358, 0.004944056965558552, 0.004564078314559072, 0.0042132413503032096, 0.0038893202603033084, 0.0035902578820155018, 0.0033141531254304857, 0.0030592493036218915, 0.002823923310246279, 0.0026066755863751734, 0.002406120822370128, 0.002220979343740326, 0.002050069133035737, 0.0018922984428361156, 0.0017466589577539438, 0.0016122194661104539, 0.0014881200045393506, 0.001373566441231544, 0.0012678254658645693, 0.001170219956444174, 0.0010801246953634491, 0.0009969624089026796, 0.000920200106232838, 0.000849345695667747, 0.0007839448575167607, 0.0007235781543680764, 0.000667858361026008, 0.0006164279976147435, 0.000568957050573804, 0.0005251408673827562, 0.00048469821190677553, 0.0004473694682166629, 0.00041291498164575113, 0.000381113526673027, 0.0003517608920121651, 0.00032466857399282567, 0.00029966257000080265, 0.00027658226435212097, 0.0002552793995613811, 0.00023561712648467736, 0.00021746912731945844, 0.0002007188058940068, 0.00018525854010376097, 0.0001709889917371754, 0.00015781846930551513, 0.00014566233981117005, 0.0001344424857098181, 0.00012408680360220803, 0.00011452874145467806, 0.00010570687139432877, 9.756449534970013e-05, 9.004928101574716e-05, 8.311292581497653e-05, 7.671084670612949e-05, 7.080189385189062e-05, 6.534808631819544e-05, 6.031436810616242e-05, 5.566838295778531e-05, 5.1380266491984905e-05, 4.742245433564385e-05, 4.376950502482657e-05, 4.0397936534652956e-05, 3.728607539410511e-05, 3.441391741576538e-05, 3.1762999145312776e-05, 2.931627921076707e-05, 2.7058028803761403e-05, 2.4973730595290178e-05, 2.3049985433343245e-05, 2.127442622468223e-05, 1.963563844953331e-05, 1.812308679527419e-05, 1.6727047439379916e-05, 1.543854555019486e-05, 1.4249297596746757e-05, 1.3151658103893737e-05, 1.2138570508191115e-05, 1.1203521796843141e-05, 1.0340500641858874e-05, 9.543958757851634e-06, 8.8087752354582e-06, 8.13022362322613e-06, 7.503941543363091e-06, 6.925902648835525e-06, 6.3923907397400725e-06, 5.899975873524532e-06, 5.4454923150704104e-06, 5.026018185305681e-06, 4.638856678229608e-06, 4.281518722337729e-06, 3.951706980753755e-06, 3.6473010808224515e-06, 3.366343983124409e-06, 3.107029400428729e-06, 2.867690184649163e-06, 2.6467876096392118e-06, 2.4429014779947522e-06, 2.2547209916901068e-06, 2.0810363250411967e-06, 1.9207308455948535e-06, 1.7727739366479867e-06, 1.6362143709924837e-06, 1.5101741959178128e-06, 1.393843087504898e-06, 1.2864731425699105e-06, 1.187374070066305e-06, 1.0959087528572553e-06, 1.0114891508816726e-06, 9.335725227321845e-07, 8.616579347808795e-07, 7.952830405333344e-07, 7.340211088946447e-07, 6.774782808083302e-07, 6.25291036726594e-07, 5.771238589247218e-07, 5.326670754479679e-07, 4.916348690375827e-07, 4.537634392676182e-07, 4.188093062351683e-07, 3.865477464781719e-07, 3.5677134613276706e-07, 3.2928867010895146e-07, 3.03923028965869e-07, 2.8051134404183387e-07, 2.58903098848684e-07, 2.389593719565042e-07, 2.205519424869351e-07, 2.0356246721586757e-07, 1.8788171873840298e-07, 1.7340888369687946e-07, 1.6005091474369237e-07, 1.4772193190903948e-07, 1.3634267048701076e-07, 1.2583997199833163e-07, 1.1614631367784511e-07, 1.0719937360015308e-07, 9.89416308883051e-08, 9.131999545441971e-08, 8.428546705019357e-08, 7.779281974151786e-08, 7.180031191822422e-08, 6.626941662091212e-08, 6.116457518245966e-08, 5.645296796696897e-08, 5.210430353841389e-08, 4.809062381649909e-08, 4.438612455359703e-08, 4.096698869027193e-08, 3.7811234698814644e-08, 3.489857347549474e-08, 3.2210279332645086e-08, 2.972906876230752e-08, 2.7438989969041927e-08, 2.532531973020724e-08, 2.337446891598205e-08, 2.1573895447879465e-08, 1.9912022808377117e-08, 1.837816709926443e-08, 1.6962466875547477e-08, 1.5655820306825774e-08, 1.4449826890583495e-08, 1.3336733051261263e-08, 1.2309382846353856e-08, 1.1361170892953965e-08, 1.0486001400522582e-08, 9.678247536726303e-09, 8.932716122345141e-09, 8.244614546626394e-09], \"yaxis\": \"y\"}],\n",
              "                        {\"legend\": {\"tracegroupgap\": 0}, \"template\": {\"data\": {\"bar\": [{\"error_x\": {\"color\": \"#2a3f5f\"}, \"error_y\": {\"color\": \"#2a3f5f\"}, \"marker\": {\"line\": {\"color\": \"#E5ECF6\", \"width\": 0.5}}, \"type\": \"bar\"}], \"barpolar\": [{\"marker\": {\"line\": {\"color\": \"#E5ECF6\", \"width\": 0.5}}, \"type\": \"barpolar\"}], \"carpet\": [{\"aaxis\": {\"endlinecolor\": \"#2a3f5f\", \"gridcolor\": \"white\", \"linecolor\": \"white\", \"minorgridcolor\": \"white\", \"startlinecolor\": \"#2a3f5f\"}, \"baxis\": {\"endlinecolor\": \"#2a3f5f\", \"gridcolor\": \"white\", \"linecolor\": \"white\", \"minorgridcolor\": \"white\", \"startlinecolor\": \"#2a3f5f\"}, \"type\": \"carpet\"}], \"choropleth\": [{\"colorbar\": {\"outlinewidth\": 0, \"ticks\": \"\"}, \"type\": \"choropleth\"}], \"contour\": [{\"colorbar\": {\"outlinewidth\": 0, \"ticks\": \"\"}, \"colorscale\": [[0.0, \"#0d0887\"], [0.1111111111111111, \"#46039f\"], [0.2222222222222222, \"#7201a8\"], [0.3333333333333333, \"#9c179e\"], [0.4444444444444444, \"#bd3786\"], [0.5555555555555556, \"#d8576b\"], [0.6666666666666666, \"#ed7953\"], [0.7777777777777778, \"#fb9f3a\"], [0.8888888888888888, \"#fdca26\"], [1.0, \"#f0f921\"]], \"type\": \"contour\"}], \"contourcarpet\": [{\"colorbar\": {\"outlinewidth\": 0, \"ticks\": \"\"}, \"type\": \"contourcarpet\"}], \"heatmap\": [{\"colorbar\": {\"outlinewidth\": 0, \"ticks\": \"\"}, \"colorscale\": [[0.0, \"#0d0887\"], [0.1111111111111111, \"#46039f\"], [0.2222222222222222, \"#7201a8\"], [0.3333333333333333, \"#9c179e\"], [0.4444444444444444, \"#bd3786\"], [0.5555555555555556, \"#d8576b\"], [0.6666666666666666, \"#ed7953\"], [0.7777777777777778, \"#fb9f3a\"], [0.8888888888888888, \"#fdca26\"], [1.0, \"#f0f921\"]], \"type\": \"heatmap\"}], \"heatmapgl\": [{\"colorbar\": {\"outlinewidth\": 0, \"ticks\": \"\"}, \"colorscale\": [[0.0, \"#0d0887\"], [0.1111111111111111, \"#46039f\"], [0.2222222222222222, \"#7201a8\"], [0.3333333333333333, \"#9c179e\"], [0.4444444444444444, \"#bd3786\"], [0.5555555555555556, \"#d8576b\"], [0.6666666666666666, \"#ed7953\"], [0.7777777777777778, \"#fb9f3a\"], [0.8888888888888888, \"#fdca26\"], [1.0, \"#f0f921\"]], \"type\": \"heatmapgl\"}], \"histogram\": [{\"marker\": {\"colorbar\": {\"outlinewidth\": 0, \"ticks\": \"\"}}, \"type\": \"histogram\"}], \"histogram2d\": [{\"colorbar\": {\"outlinewidth\": 0, \"ticks\": \"\"}, \"colorscale\": [[0.0, \"#0d0887\"], [0.1111111111111111, \"#46039f\"], [0.2222222222222222, \"#7201a8\"], [0.3333333333333333, \"#9c179e\"], [0.4444444444444444, \"#bd3786\"], [0.5555555555555556, \"#d8576b\"], [0.6666666666666666, \"#ed7953\"], [0.7777777777777778, \"#fb9f3a\"], [0.8888888888888888, \"#fdca26\"], [1.0, \"#f0f921\"]], \"type\": \"histogram2d\"}], \"histogram2dcontour\": [{\"colorbar\": {\"outlinewidth\": 0, \"ticks\": \"\"}, \"colorscale\": [[0.0, \"#0d0887\"], [0.1111111111111111, \"#46039f\"], [0.2222222222222222, \"#7201a8\"], [0.3333333333333333, \"#9c179e\"], [0.4444444444444444, \"#bd3786\"], [0.5555555555555556, \"#d8576b\"], [0.6666666666666666, \"#ed7953\"], [0.7777777777777778, \"#fb9f3a\"], [0.8888888888888888, \"#fdca26\"], [1.0, \"#f0f921\"]], \"type\": \"histogram2dcontour\"}], \"mesh3d\": [{\"colorbar\": {\"outlinewidth\": 0, \"ticks\": \"\"}, \"type\": \"mesh3d\"}], \"parcoords\": [{\"line\": {\"colorbar\": {\"outlinewidth\": 0, \"ticks\": \"\"}}, \"type\": \"parcoords\"}], \"pie\": [{\"automargin\": true, \"type\": \"pie\"}], \"scatter\": [{\"marker\": {\"colorbar\": {\"outlinewidth\": 0, \"ticks\": \"\"}}, \"type\": \"scatter\"}], \"scatter3d\": [{\"line\": {\"colorbar\": {\"outlinewidth\": 0, \"ticks\": \"\"}}, \"marker\": {\"colorbar\": {\"outlinewidth\": 0, \"ticks\": \"\"}}, \"type\": \"scatter3d\"}], \"scattercarpet\": [{\"marker\": {\"colorbar\": {\"outlinewidth\": 0, \"ticks\": \"\"}}, \"type\": \"scattercarpet\"}], \"scattergeo\": [{\"marker\": {\"colorbar\": {\"outlinewidth\": 0, \"ticks\": \"\"}}, \"type\": \"scattergeo\"}], \"scattergl\": [{\"marker\": {\"colorbar\": {\"outlinewidth\": 0, \"ticks\": \"\"}}, \"type\": \"scattergl\"}], \"scattermapbox\": [{\"marker\": {\"colorbar\": {\"outlinewidth\": 0, \"ticks\": \"\"}}, \"type\": \"scattermapbox\"}], \"scatterpolar\": [{\"marker\": {\"colorbar\": {\"outlinewidth\": 0, \"ticks\": \"\"}}, \"type\": \"scatterpolar\"}], \"scatterpolargl\": [{\"marker\": {\"colorbar\": {\"outlinewidth\": 0, \"ticks\": \"\"}}, \"type\": \"scatterpolargl\"}], \"scatterternary\": [{\"marker\": {\"colorbar\": {\"outlinewidth\": 0, \"ticks\": \"\"}}, \"type\": \"scatterternary\"}], \"surface\": [{\"colorbar\": {\"outlinewidth\": 0, \"ticks\": \"\"}, \"colorscale\": [[0.0, \"#0d0887\"], [0.1111111111111111, \"#46039f\"], [0.2222222222222222, \"#7201a8\"], [0.3333333333333333, \"#9c179e\"], [0.4444444444444444, \"#bd3786\"], [0.5555555555555556, \"#d8576b\"], [0.6666666666666666, \"#ed7953\"], [0.7777777777777778, \"#fb9f3a\"], [0.8888888888888888, \"#fdca26\"], [1.0, \"#f0f921\"]], \"type\": \"surface\"}], \"table\": [{\"cells\": {\"fill\": {\"color\": \"#EBF0F8\"}, \"line\": {\"color\": \"white\"}}, \"header\": {\"fill\": {\"color\": \"#C8D4E3\"}, \"line\": {\"color\": \"white\"}}, \"type\": \"table\"}]}, \"layout\": {\"annotationdefaults\": {\"arrowcolor\": \"#2a3f5f\", \"arrowhead\": 0, \"arrowwidth\": 1}, \"coloraxis\": {\"colorbar\": {\"outlinewidth\": 0, \"ticks\": \"\"}}, \"colorscale\": {\"diverging\": [[0, \"#8e0152\"], [0.1, \"#c51b7d\"], [0.2, \"#de77ae\"], [0.3, \"#f1b6da\"], [0.4, \"#fde0ef\"], [0.5, \"#f7f7f7\"], [0.6, \"#e6f5d0\"], [0.7, \"#b8e186\"], [0.8, \"#7fbc41\"], [0.9, \"#4d9221\"], [1, \"#276419\"]], \"sequential\": [[0.0, \"#0d0887\"], [0.1111111111111111, \"#46039f\"], [0.2222222222222222, \"#7201a8\"], [0.3333333333333333, \"#9c179e\"], [0.4444444444444444, \"#bd3786\"], [0.5555555555555556, \"#d8576b\"], [0.6666666666666666, \"#ed7953\"], [0.7777777777777778, \"#fb9f3a\"], [0.8888888888888888, \"#fdca26\"], [1.0, \"#f0f921\"]], \"sequentialminus\": [[0.0, \"#0d0887\"], [0.1111111111111111, \"#46039f\"], [0.2222222222222222, \"#7201a8\"], [0.3333333333333333, \"#9c179e\"], [0.4444444444444444, \"#bd3786\"], [0.5555555555555556, \"#d8576b\"], [0.6666666666666666, \"#ed7953\"], [0.7777777777777778, \"#fb9f3a\"], [0.8888888888888888, \"#fdca26\"], [1.0, \"#f0f921\"]]}, \"colorway\": [\"#636efa\", \"#EF553B\", \"#00cc96\", \"#ab63fa\", \"#FFA15A\", \"#19d3f3\", \"#FF6692\", \"#B6E880\", \"#FF97FF\", \"#FECB52\"], \"font\": {\"color\": \"#2a3f5f\"}, \"geo\": {\"bgcolor\": \"white\", \"lakecolor\": \"white\", \"landcolor\": \"#E5ECF6\", \"showlakes\": true, \"showland\": true, \"subunitcolor\": \"white\"}, \"hoverlabel\": {\"align\": \"left\"}, \"hovermode\": \"closest\", \"mapbox\": {\"style\": \"light\"}, \"paper_bgcolor\": \"white\", \"plot_bgcolor\": \"#E5ECF6\", \"polar\": {\"angularaxis\": {\"gridcolor\": \"white\", \"linecolor\": \"white\", \"ticks\": \"\"}, \"bgcolor\": \"#E5ECF6\", \"radialaxis\": {\"gridcolor\": \"white\", \"linecolor\": \"white\", \"ticks\": \"\"}}, \"scene\": {\"xaxis\": {\"backgroundcolor\": \"#E5ECF6\", \"gridcolor\": \"white\", \"gridwidth\": 2, \"linecolor\": \"white\", \"showbackground\": true, \"ticks\": \"\", \"zerolinecolor\": \"white\"}, \"yaxis\": {\"backgroundcolor\": \"#E5ECF6\", \"gridcolor\": \"white\", \"gridwidth\": 2, \"linecolor\": \"white\", \"showbackground\": true, \"ticks\": \"\", \"zerolinecolor\": \"white\"}, \"zaxis\": {\"backgroundcolor\": \"#E5ECF6\", \"gridcolor\": \"white\", \"gridwidth\": 2, \"linecolor\": \"white\", \"showbackground\": true, \"ticks\": \"\", \"zerolinecolor\": \"white\"}}, \"shapedefaults\": {\"line\": {\"color\": \"#2a3f5f\"}}, \"ternary\": {\"aaxis\": {\"gridcolor\": \"white\", \"linecolor\": \"white\", \"ticks\": \"\"}, \"baxis\": {\"gridcolor\": \"white\", \"linecolor\": \"white\", \"ticks\": \"\"}, \"bgcolor\": \"#E5ECF6\", \"caxis\": {\"gridcolor\": \"white\", \"linecolor\": \"white\", \"ticks\": \"\"}}, \"title\": {\"x\": 0.05}, \"xaxis\": {\"automargin\": true, \"gridcolor\": \"white\", \"linecolor\": \"white\", \"ticks\": \"\", \"title\": {\"standoff\": 15}, \"zerolinecolor\": \"white\", \"zerolinewidth\": 2}, \"yaxis\": {\"automargin\": true, \"gridcolor\": \"white\", \"linecolor\": \"white\", \"ticks\": \"\", \"title\": {\"standoff\": 15}, \"zerolinecolor\": \"white\", \"zerolinewidth\": 2}}}, \"title\": {\"text\": \"tanh prime\"}, \"xaxis\": {\"anchor\": \"y\", \"domain\": [0.0, 1.0], \"title\": {\"text\": \"x\"}}, \"yaxis\": {\"anchor\": \"x\", \"domain\": [0.0, 1.0], \"title\": {\"text\": \"y\"}}},\n",
              "                        {\"responsive\": true}\n",
              "                    ).then(function(){\n",
              "                            \n",
              "var gd = document.getElementById('342acdc9-f213-4d39-ae24-8cc76b404335');\n",
              "var x = new MutationObserver(function (mutations, observer) {{\n",
              "        var display = window.getComputedStyle(gd).display;\n",
              "        if (!display || display === 'none') {{\n",
              "            console.log([gd, 'removed!']);\n",
              "            Plotly.purge(gd);\n",
              "            observer.disconnect();\n",
              "        }}\n",
              "}});\n",
              "\n",
              "// Listen for the removal of the full notebook cells\n",
              "var notebookContainer = gd.closest('#notebook-container');\n",
              "if (notebookContainer) {{\n",
              "    x.observe(notebookContainer, {childList: true});\n",
              "}}\n",
              "\n",
              "// Listen for the clearing of the current output cell\n",
              "var outputEl = gd.closest('.output');\n",
              "if (outputEl) {{\n",
              "    x.observe(outputEl, {childList: true});\n",
              "}}\n",
              "\n",
              "                        })\n",
              "                };\n",
              "                \n",
              "            </script>\n",
              "        </div>\n",
              "</body>\n",
              "</html>"
            ]
          },
          "metadata": {
            "tags": []
          }
        },
        {
          "output_type": "execute_result",
          "data": {
            "text/plain": [
              "(None, None)"
            ]
          },
          "metadata": {
            "tags": []
          },
          "execution_count": 84
        }
      ]
    },
    {
      "cell_type": "code",
      "metadata": {
        "colab": {
          "base_uri": "https://localhost:8080/",
          "height": 1000
        },
        "id": "E7shDsZ6UDP_",
        "outputId": "3bbb4e68-af13-42ea-b65b-66b639e380ca"
      },
      "source": [
        "relu = lambda x: np.maximum(0,x)\n",
        "\n",
        "dta = np.linspace(-5,5,100)\n",
        "\n",
        "rel = []\n",
        "rel2 = []\n",
        "\n",
        "for i in dta:\n",
        "\n",
        "  s = relu(i)\n",
        "\n",
        "  rel.append(s)\n",
        "\n",
        "  if i==0 or i<0:\n",
        "\n",
        "    rel2.append(0)\n",
        "  else:\n",
        "    rel2.append(1)\n",
        "\n",
        "fig = [px.line(x=dta, y=rel, title='relu'),\n",
        "       px.line(x=dta, y=rel2, title='relu prime')]\n",
        "\n",
        "fig[0].show(), fig[1].show()"
      ],
      "execution_count": 89,
      "outputs": [
        {
          "output_type": "display_data",
          "data": {
            "text/html": [
              "<html>\n",
              "<head><meta charset=\"utf-8\" /></head>\n",
              "<body>\n",
              "    <div>\n",
              "            <script src=\"https://cdnjs.cloudflare.com/ajax/libs/mathjax/2.7.5/MathJax.js?config=TeX-AMS-MML_SVG\"></script><script type=\"text/javascript\">if (window.MathJax) {MathJax.Hub.Config({SVG: {font: \"STIX-Web\"}});}</script>\n",
              "                <script type=\"text/javascript\">window.PlotlyConfig = {MathJaxConfig: 'local'};</script>\n",
              "        <script src=\"https://cdn.plot.ly/plotly-latest.min.js\"></script>    \n",
              "            <div id=\"e7c623a2-c8ef-4c1e-8924-6ca7524d897e\" class=\"plotly-graph-div\" style=\"height:525px; width:100%;\"></div>\n",
              "            <script type=\"text/javascript\">\n",
              "                \n",
              "                    window.PLOTLYENV=window.PLOTLYENV || {};\n",
              "                    \n",
              "                if (document.getElementById(\"e7c623a2-c8ef-4c1e-8924-6ca7524d897e\")) {\n",
              "                    Plotly.newPlot(\n",
              "                        'e7c623a2-c8ef-4c1e-8924-6ca7524d897e',\n",
              "                        [{\"hoverlabel\": {\"namelength\": 0}, \"hovertemplate\": \"x=%{x}<br>y=%{y}\", \"legendgroup\": \"\", \"line\": {\"color\": \"#636efa\", \"dash\": \"solid\"}, \"mode\": \"lines\", \"name\": \"\", \"showlegend\": false, \"type\": \"scatter\", \"x\": [-5.0, -4.898989898989899, -4.797979797979798, -4.696969696969697, -4.595959595959596, -4.494949494949495, -4.393939393939394, -4.292929292929293, -4.191919191919192, -4.090909090909091, -3.9898989898989896, -3.888888888888889, -3.787878787878788, -3.686868686868687, -3.5858585858585856, -3.484848484848485, -3.383838383838384, -3.282828282828283, -3.1818181818181817, -3.080808080808081, -2.9797979797979797, -2.878787878787879, -2.7777777777777777, -2.676767676767677, -2.5757575757575757, -2.474747474747475, -2.3737373737373737, -2.272727272727273, -2.1717171717171717, -2.070707070707071, -1.9696969696969697, -1.868686868686869, -1.7676767676767677, -1.6666666666666665, -1.5656565656565657, -1.4646464646464645, -1.3636363636363638, -1.2626262626262625, -1.1616161616161618, -1.0606060606060606, -0.9595959595959593, -0.858585858585859, -0.7575757575757578, -0.6565656565656566, -0.5555555555555554, -0.45454545454545503, -0.3535353535353538, -0.2525252525252526, -0.15151515151515138, -0.050505050505050164, 0.050505050505050164, 0.15151515151515138, 0.2525252525252526, 0.3535353535353538, 0.45454545454545414, 0.5555555555555554, 0.6565656565656566, 0.7575757575757578, 0.8585858585858581, 0.9595959595959593, 1.0606060606060606, 1.1616161616161618, 1.262626262626262, 1.3636363636363633, 1.4646464646464645, 1.5656565656565657, 1.666666666666667, 1.7676767676767673, 1.8686868686868685, 1.9696969696969697, 2.070707070707071, 2.1717171717171713, 2.2727272727272725, 2.3737373737373737, 2.474747474747475, 2.5757575757575752, 2.6767676767676765, 2.7777777777777777, 2.878787878787879, 2.9797979797979792, 3.0808080808080813, 3.1818181818181817, 3.282828282828282, 3.383838383838384, 3.4848484848484844, 3.5858585858585865, 3.686868686868687, 3.787878787878787, 3.8888888888888893, 3.9898989898989896, 4.09090909090909, 4.191919191919192, 4.292929292929292, 4.3939393939393945, 4.494949494949495, 4.595959595959595, 4.696969696969697, 4.797979797979798, 4.8989898989899, 5.0], \"xaxis\": \"x\", \"y\": [0.0, 0.0, 0.0, 0.0, 0.0, 0.0, 0.0, 0.0, 0.0, 0.0, 0.0, 0.0, 0.0, 0.0, 0.0, 0.0, 0.0, 0.0, 0.0, 0.0, 0.0, 0.0, 0.0, 0.0, 0.0, 0.0, 0.0, 0.0, 0.0, 0.0, 0.0, 0.0, 0.0, 0.0, 0.0, 0.0, 0.0, 0.0, 0.0, 0.0, 0.0, 0.0, 0.0, 0.0, 0.0, 0.0, 0.0, 0.0, 0.0, 0.0, 0.050505050505050164, 0.15151515151515138, 0.2525252525252526, 0.3535353535353538, 0.45454545454545414, 0.5555555555555554, 0.6565656565656566, 0.7575757575757578, 0.8585858585858581, 0.9595959595959593, 1.0606060606060606, 1.1616161616161618, 1.262626262626262, 1.3636363636363633, 1.4646464646464645, 1.5656565656565657, 1.666666666666667, 1.7676767676767673, 1.8686868686868685, 1.9696969696969697, 2.070707070707071, 2.1717171717171713, 2.2727272727272725, 2.3737373737373737, 2.474747474747475, 2.5757575757575752, 2.6767676767676765, 2.7777777777777777, 2.878787878787879, 2.9797979797979792, 3.0808080808080813, 3.1818181818181817, 3.282828282828282, 3.383838383838384, 3.4848484848484844, 3.5858585858585865, 3.686868686868687, 3.787878787878787, 3.8888888888888893, 3.9898989898989896, 4.09090909090909, 4.191919191919192, 4.292929292929292, 4.3939393939393945, 4.494949494949495, 4.595959595959595, 4.696969696969697, 4.797979797979798, 4.8989898989899, 5.0], \"yaxis\": \"y\"}],\n",
              "                        {\"legend\": {\"tracegroupgap\": 0}, \"template\": {\"data\": {\"bar\": [{\"error_x\": {\"color\": \"#2a3f5f\"}, \"error_y\": {\"color\": \"#2a3f5f\"}, \"marker\": {\"line\": {\"color\": \"#E5ECF6\", \"width\": 0.5}}, \"type\": \"bar\"}], \"barpolar\": [{\"marker\": {\"line\": {\"color\": \"#E5ECF6\", \"width\": 0.5}}, \"type\": \"barpolar\"}], \"carpet\": [{\"aaxis\": {\"endlinecolor\": \"#2a3f5f\", \"gridcolor\": \"white\", \"linecolor\": \"white\", \"minorgridcolor\": \"white\", \"startlinecolor\": \"#2a3f5f\"}, \"baxis\": {\"endlinecolor\": \"#2a3f5f\", \"gridcolor\": \"white\", \"linecolor\": \"white\", \"minorgridcolor\": \"white\", \"startlinecolor\": \"#2a3f5f\"}, \"type\": \"carpet\"}], \"choropleth\": [{\"colorbar\": {\"outlinewidth\": 0, \"ticks\": \"\"}, \"type\": \"choropleth\"}], \"contour\": [{\"colorbar\": {\"outlinewidth\": 0, \"ticks\": \"\"}, \"colorscale\": [[0.0, \"#0d0887\"], [0.1111111111111111, \"#46039f\"], [0.2222222222222222, \"#7201a8\"], [0.3333333333333333, \"#9c179e\"], [0.4444444444444444, \"#bd3786\"], [0.5555555555555556, \"#d8576b\"], [0.6666666666666666, \"#ed7953\"], [0.7777777777777778, \"#fb9f3a\"], [0.8888888888888888, \"#fdca26\"], [1.0, \"#f0f921\"]], \"type\": \"contour\"}], \"contourcarpet\": [{\"colorbar\": {\"outlinewidth\": 0, \"ticks\": \"\"}, \"type\": \"contourcarpet\"}], \"heatmap\": [{\"colorbar\": {\"outlinewidth\": 0, \"ticks\": \"\"}, \"colorscale\": [[0.0, \"#0d0887\"], [0.1111111111111111, \"#46039f\"], [0.2222222222222222, \"#7201a8\"], [0.3333333333333333, \"#9c179e\"], [0.4444444444444444, \"#bd3786\"], [0.5555555555555556, \"#d8576b\"], [0.6666666666666666, \"#ed7953\"], [0.7777777777777778, \"#fb9f3a\"], [0.8888888888888888, \"#fdca26\"], [1.0, \"#f0f921\"]], \"type\": \"heatmap\"}], \"heatmapgl\": [{\"colorbar\": {\"outlinewidth\": 0, \"ticks\": \"\"}, \"colorscale\": [[0.0, \"#0d0887\"], [0.1111111111111111, \"#46039f\"], [0.2222222222222222, \"#7201a8\"], [0.3333333333333333, \"#9c179e\"], [0.4444444444444444, \"#bd3786\"], [0.5555555555555556, \"#d8576b\"], [0.6666666666666666, \"#ed7953\"], [0.7777777777777778, \"#fb9f3a\"], [0.8888888888888888, \"#fdca26\"], [1.0, \"#f0f921\"]], \"type\": \"heatmapgl\"}], \"histogram\": [{\"marker\": {\"colorbar\": {\"outlinewidth\": 0, \"ticks\": \"\"}}, \"type\": \"histogram\"}], \"histogram2d\": [{\"colorbar\": {\"outlinewidth\": 0, \"ticks\": \"\"}, \"colorscale\": [[0.0, \"#0d0887\"], [0.1111111111111111, \"#46039f\"], [0.2222222222222222, \"#7201a8\"], [0.3333333333333333, \"#9c179e\"], [0.4444444444444444, \"#bd3786\"], [0.5555555555555556, \"#d8576b\"], [0.6666666666666666, \"#ed7953\"], [0.7777777777777778, \"#fb9f3a\"], [0.8888888888888888, \"#fdca26\"], [1.0, \"#f0f921\"]], \"type\": \"histogram2d\"}], \"histogram2dcontour\": [{\"colorbar\": {\"outlinewidth\": 0, \"ticks\": \"\"}, \"colorscale\": [[0.0, \"#0d0887\"], [0.1111111111111111, \"#46039f\"], [0.2222222222222222, \"#7201a8\"], [0.3333333333333333, \"#9c179e\"], [0.4444444444444444, \"#bd3786\"], [0.5555555555555556, \"#d8576b\"], [0.6666666666666666, \"#ed7953\"], [0.7777777777777778, \"#fb9f3a\"], [0.8888888888888888, \"#fdca26\"], [1.0, \"#f0f921\"]], \"type\": \"histogram2dcontour\"}], \"mesh3d\": [{\"colorbar\": {\"outlinewidth\": 0, \"ticks\": \"\"}, \"type\": \"mesh3d\"}], \"parcoords\": [{\"line\": {\"colorbar\": {\"outlinewidth\": 0, \"ticks\": \"\"}}, \"type\": \"parcoords\"}], \"pie\": [{\"automargin\": true, \"type\": \"pie\"}], \"scatter\": [{\"marker\": {\"colorbar\": {\"outlinewidth\": 0, \"ticks\": \"\"}}, \"type\": \"scatter\"}], \"scatter3d\": [{\"line\": {\"colorbar\": {\"outlinewidth\": 0, \"ticks\": \"\"}}, \"marker\": {\"colorbar\": {\"outlinewidth\": 0, \"ticks\": \"\"}}, \"type\": \"scatter3d\"}], \"scattercarpet\": [{\"marker\": {\"colorbar\": {\"outlinewidth\": 0, \"ticks\": \"\"}}, \"type\": \"scattercarpet\"}], \"scattergeo\": [{\"marker\": {\"colorbar\": {\"outlinewidth\": 0, \"ticks\": \"\"}}, \"type\": \"scattergeo\"}], \"scattergl\": [{\"marker\": {\"colorbar\": {\"outlinewidth\": 0, \"ticks\": \"\"}}, \"type\": \"scattergl\"}], \"scattermapbox\": [{\"marker\": {\"colorbar\": {\"outlinewidth\": 0, \"ticks\": \"\"}}, \"type\": \"scattermapbox\"}], \"scatterpolar\": [{\"marker\": {\"colorbar\": {\"outlinewidth\": 0, \"ticks\": \"\"}}, \"type\": \"scatterpolar\"}], \"scatterpolargl\": [{\"marker\": {\"colorbar\": {\"outlinewidth\": 0, \"ticks\": \"\"}}, \"type\": \"scatterpolargl\"}], \"scatterternary\": [{\"marker\": {\"colorbar\": {\"outlinewidth\": 0, \"ticks\": \"\"}}, \"type\": \"scatterternary\"}], \"surface\": [{\"colorbar\": {\"outlinewidth\": 0, \"ticks\": \"\"}, \"colorscale\": [[0.0, \"#0d0887\"], [0.1111111111111111, \"#46039f\"], [0.2222222222222222, \"#7201a8\"], [0.3333333333333333, \"#9c179e\"], [0.4444444444444444, \"#bd3786\"], [0.5555555555555556, \"#d8576b\"], [0.6666666666666666, \"#ed7953\"], [0.7777777777777778, \"#fb9f3a\"], [0.8888888888888888, \"#fdca26\"], [1.0, \"#f0f921\"]], \"type\": \"surface\"}], \"table\": [{\"cells\": {\"fill\": {\"color\": \"#EBF0F8\"}, \"line\": {\"color\": \"white\"}}, \"header\": {\"fill\": {\"color\": \"#C8D4E3\"}, \"line\": {\"color\": \"white\"}}, \"type\": \"table\"}]}, \"layout\": {\"annotationdefaults\": {\"arrowcolor\": \"#2a3f5f\", \"arrowhead\": 0, \"arrowwidth\": 1}, \"coloraxis\": {\"colorbar\": {\"outlinewidth\": 0, \"ticks\": \"\"}}, \"colorscale\": {\"diverging\": [[0, \"#8e0152\"], [0.1, \"#c51b7d\"], [0.2, \"#de77ae\"], [0.3, \"#f1b6da\"], [0.4, \"#fde0ef\"], [0.5, \"#f7f7f7\"], [0.6, \"#e6f5d0\"], [0.7, \"#b8e186\"], [0.8, \"#7fbc41\"], [0.9, \"#4d9221\"], [1, \"#276419\"]], \"sequential\": [[0.0, \"#0d0887\"], [0.1111111111111111, \"#46039f\"], [0.2222222222222222, \"#7201a8\"], [0.3333333333333333, \"#9c179e\"], [0.4444444444444444, \"#bd3786\"], [0.5555555555555556, \"#d8576b\"], [0.6666666666666666, \"#ed7953\"], [0.7777777777777778, \"#fb9f3a\"], [0.8888888888888888, \"#fdca26\"], [1.0, \"#f0f921\"]], \"sequentialminus\": [[0.0, \"#0d0887\"], [0.1111111111111111, \"#46039f\"], [0.2222222222222222, \"#7201a8\"], [0.3333333333333333, \"#9c179e\"], [0.4444444444444444, \"#bd3786\"], [0.5555555555555556, \"#d8576b\"], [0.6666666666666666, \"#ed7953\"], [0.7777777777777778, \"#fb9f3a\"], [0.8888888888888888, \"#fdca26\"], [1.0, \"#f0f921\"]]}, \"colorway\": [\"#636efa\", \"#EF553B\", \"#00cc96\", \"#ab63fa\", \"#FFA15A\", \"#19d3f3\", \"#FF6692\", \"#B6E880\", \"#FF97FF\", \"#FECB52\"], \"font\": {\"color\": \"#2a3f5f\"}, \"geo\": {\"bgcolor\": \"white\", \"lakecolor\": \"white\", \"landcolor\": \"#E5ECF6\", \"showlakes\": true, \"showland\": true, \"subunitcolor\": \"white\"}, \"hoverlabel\": {\"align\": \"left\"}, \"hovermode\": \"closest\", \"mapbox\": {\"style\": \"light\"}, \"paper_bgcolor\": \"white\", \"plot_bgcolor\": \"#E5ECF6\", \"polar\": {\"angularaxis\": {\"gridcolor\": \"white\", \"linecolor\": \"white\", \"ticks\": \"\"}, \"bgcolor\": \"#E5ECF6\", \"radialaxis\": {\"gridcolor\": \"white\", \"linecolor\": \"white\", \"ticks\": \"\"}}, \"scene\": {\"xaxis\": {\"backgroundcolor\": \"#E5ECF6\", \"gridcolor\": \"white\", \"gridwidth\": 2, \"linecolor\": \"white\", \"showbackground\": true, \"ticks\": \"\", \"zerolinecolor\": \"white\"}, \"yaxis\": {\"backgroundcolor\": \"#E5ECF6\", \"gridcolor\": \"white\", \"gridwidth\": 2, \"linecolor\": \"white\", \"showbackground\": true, \"ticks\": \"\", \"zerolinecolor\": \"white\"}, \"zaxis\": {\"backgroundcolor\": \"#E5ECF6\", \"gridcolor\": \"white\", \"gridwidth\": 2, \"linecolor\": \"white\", \"showbackground\": true, \"ticks\": \"\", \"zerolinecolor\": \"white\"}}, \"shapedefaults\": {\"line\": {\"color\": \"#2a3f5f\"}}, \"ternary\": {\"aaxis\": {\"gridcolor\": \"white\", \"linecolor\": \"white\", \"ticks\": \"\"}, \"baxis\": {\"gridcolor\": \"white\", \"linecolor\": \"white\", \"ticks\": \"\"}, \"bgcolor\": \"#E5ECF6\", \"caxis\": {\"gridcolor\": \"white\", \"linecolor\": \"white\", \"ticks\": \"\"}}, \"title\": {\"x\": 0.05}, \"xaxis\": {\"automargin\": true, \"gridcolor\": \"white\", \"linecolor\": \"white\", \"ticks\": \"\", \"title\": {\"standoff\": 15}, \"zerolinecolor\": \"white\", \"zerolinewidth\": 2}, \"yaxis\": {\"automargin\": true, \"gridcolor\": \"white\", \"linecolor\": \"white\", \"ticks\": \"\", \"title\": {\"standoff\": 15}, \"zerolinecolor\": \"white\", \"zerolinewidth\": 2}}}, \"title\": {\"text\": \"relu\"}, \"xaxis\": {\"anchor\": \"y\", \"domain\": [0.0, 1.0], \"title\": {\"text\": \"x\"}}, \"yaxis\": {\"anchor\": \"x\", \"domain\": [0.0, 1.0], \"title\": {\"text\": \"y\"}}},\n",
              "                        {\"responsive\": true}\n",
              "                    ).then(function(){\n",
              "                            \n",
              "var gd = document.getElementById('e7c623a2-c8ef-4c1e-8924-6ca7524d897e');\n",
              "var x = new MutationObserver(function (mutations, observer) {{\n",
              "        var display = window.getComputedStyle(gd).display;\n",
              "        if (!display || display === 'none') {{\n",
              "            console.log([gd, 'removed!']);\n",
              "            Plotly.purge(gd);\n",
              "            observer.disconnect();\n",
              "        }}\n",
              "}});\n",
              "\n",
              "// Listen for the removal of the full notebook cells\n",
              "var notebookContainer = gd.closest('#notebook-container');\n",
              "if (notebookContainer) {{\n",
              "    x.observe(notebookContainer, {childList: true});\n",
              "}}\n",
              "\n",
              "// Listen for the clearing of the current output cell\n",
              "var outputEl = gd.closest('.output');\n",
              "if (outputEl) {{\n",
              "    x.observe(outputEl, {childList: true});\n",
              "}}\n",
              "\n",
              "                        })\n",
              "                };\n",
              "                \n",
              "            </script>\n",
              "        </div>\n",
              "</body>\n",
              "</html>"
            ]
          },
          "metadata": {
            "tags": []
          }
        },
        {
          "output_type": "display_data",
          "data": {
            "text/html": [
              "<html>\n",
              "<head><meta charset=\"utf-8\" /></head>\n",
              "<body>\n",
              "    <div>\n",
              "            <script src=\"https://cdnjs.cloudflare.com/ajax/libs/mathjax/2.7.5/MathJax.js?config=TeX-AMS-MML_SVG\"></script><script type=\"text/javascript\">if (window.MathJax) {MathJax.Hub.Config({SVG: {font: \"STIX-Web\"}});}</script>\n",
              "                <script type=\"text/javascript\">window.PlotlyConfig = {MathJaxConfig: 'local'};</script>\n",
              "        <script src=\"https://cdn.plot.ly/plotly-latest.min.js\"></script>    \n",
              "            <div id=\"c7c16c97-01c2-4ea6-bf2f-32105c089d3e\" class=\"plotly-graph-div\" style=\"height:525px; width:100%;\"></div>\n",
              "            <script type=\"text/javascript\">\n",
              "                \n",
              "                    window.PLOTLYENV=window.PLOTLYENV || {};\n",
              "                    \n",
              "                if (document.getElementById(\"c7c16c97-01c2-4ea6-bf2f-32105c089d3e\")) {\n",
              "                    Plotly.newPlot(\n",
              "                        'c7c16c97-01c2-4ea6-bf2f-32105c089d3e',\n",
              "                        [{\"hoverlabel\": {\"namelength\": 0}, \"hovertemplate\": \"x=%{x}<br>y=%{y}\", \"legendgroup\": \"\", \"line\": {\"color\": \"#636efa\", \"dash\": \"solid\"}, \"mode\": \"lines\", \"name\": \"\", \"showlegend\": false, \"type\": \"scatter\", \"x\": [-5.0, -4.898989898989899, -4.797979797979798, -4.696969696969697, -4.595959595959596, -4.494949494949495, -4.393939393939394, -4.292929292929293, -4.191919191919192, -4.090909090909091, -3.9898989898989896, -3.888888888888889, -3.787878787878788, -3.686868686868687, -3.5858585858585856, -3.484848484848485, -3.383838383838384, -3.282828282828283, -3.1818181818181817, -3.080808080808081, -2.9797979797979797, -2.878787878787879, -2.7777777777777777, -2.676767676767677, -2.5757575757575757, -2.474747474747475, -2.3737373737373737, -2.272727272727273, -2.1717171717171717, -2.070707070707071, -1.9696969696969697, -1.868686868686869, -1.7676767676767677, -1.6666666666666665, -1.5656565656565657, -1.4646464646464645, -1.3636363636363638, -1.2626262626262625, -1.1616161616161618, -1.0606060606060606, -0.9595959595959593, -0.858585858585859, -0.7575757575757578, -0.6565656565656566, -0.5555555555555554, -0.45454545454545503, -0.3535353535353538, -0.2525252525252526, -0.15151515151515138, -0.050505050505050164, 0.050505050505050164, 0.15151515151515138, 0.2525252525252526, 0.3535353535353538, 0.45454545454545414, 0.5555555555555554, 0.6565656565656566, 0.7575757575757578, 0.8585858585858581, 0.9595959595959593, 1.0606060606060606, 1.1616161616161618, 1.262626262626262, 1.3636363636363633, 1.4646464646464645, 1.5656565656565657, 1.666666666666667, 1.7676767676767673, 1.8686868686868685, 1.9696969696969697, 2.070707070707071, 2.1717171717171713, 2.2727272727272725, 2.3737373737373737, 2.474747474747475, 2.5757575757575752, 2.6767676767676765, 2.7777777777777777, 2.878787878787879, 2.9797979797979792, 3.0808080808080813, 3.1818181818181817, 3.282828282828282, 3.383838383838384, 3.4848484848484844, 3.5858585858585865, 3.686868686868687, 3.787878787878787, 3.8888888888888893, 3.9898989898989896, 4.09090909090909, 4.191919191919192, 4.292929292929292, 4.3939393939393945, 4.494949494949495, 4.595959595959595, 4.696969696969697, 4.797979797979798, 4.8989898989899, 5.0], \"xaxis\": \"x\", \"y\": [0, 0, 0, 0, 0, 0, 0, 0, 0, 0, 0, 0, 0, 0, 0, 0, 0, 0, 0, 0, 0, 0, 0, 0, 0, 0, 0, 0, 0, 0, 0, 0, 0, 0, 0, 0, 0, 0, 0, 0, 0, 0, 0, 0, 0, 0, 0, 0, 0, 0, 1, 1, 1, 1, 1, 1, 1, 1, 1, 1, 1, 1, 1, 1, 1, 1, 1, 1, 1, 1, 1, 1, 1, 1, 1, 1, 1, 1, 1, 1, 1, 1, 1, 1, 1, 1, 1, 1, 1, 1, 1, 1, 1, 1, 1, 1, 1, 1, 1, 1], \"yaxis\": \"y\"}],\n",
              "                        {\"legend\": {\"tracegroupgap\": 0}, \"template\": {\"data\": {\"bar\": [{\"error_x\": {\"color\": \"#2a3f5f\"}, \"error_y\": {\"color\": \"#2a3f5f\"}, \"marker\": {\"line\": {\"color\": \"#E5ECF6\", \"width\": 0.5}}, \"type\": \"bar\"}], \"barpolar\": [{\"marker\": {\"line\": {\"color\": \"#E5ECF6\", \"width\": 0.5}}, \"type\": \"barpolar\"}], \"carpet\": [{\"aaxis\": {\"endlinecolor\": \"#2a3f5f\", \"gridcolor\": \"white\", \"linecolor\": \"white\", \"minorgridcolor\": \"white\", \"startlinecolor\": \"#2a3f5f\"}, \"baxis\": {\"endlinecolor\": \"#2a3f5f\", \"gridcolor\": \"white\", \"linecolor\": \"white\", \"minorgridcolor\": \"white\", \"startlinecolor\": \"#2a3f5f\"}, \"type\": \"carpet\"}], \"choropleth\": [{\"colorbar\": {\"outlinewidth\": 0, \"ticks\": \"\"}, \"type\": \"choropleth\"}], \"contour\": [{\"colorbar\": {\"outlinewidth\": 0, \"ticks\": \"\"}, \"colorscale\": [[0.0, \"#0d0887\"], [0.1111111111111111, \"#46039f\"], [0.2222222222222222, \"#7201a8\"], [0.3333333333333333, \"#9c179e\"], [0.4444444444444444, \"#bd3786\"], [0.5555555555555556, \"#d8576b\"], [0.6666666666666666, \"#ed7953\"], [0.7777777777777778, \"#fb9f3a\"], [0.8888888888888888, \"#fdca26\"], [1.0, \"#f0f921\"]], \"type\": \"contour\"}], \"contourcarpet\": [{\"colorbar\": {\"outlinewidth\": 0, \"ticks\": \"\"}, \"type\": \"contourcarpet\"}], \"heatmap\": [{\"colorbar\": {\"outlinewidth\": 0, \"ticks\": \"\"}, \"colorscale\": [[0.0, \"#0d0887\"], [0.1111111111111111, \"#46039f\"], [0.2222222222222222, \"#7201a8\"], [0.3333333333333333, \"#9c179e\"], [0.4444444444444444, \"#bd3786\"], [0.5555555555555556, \"#d8576b\"], [0.6666666666666666, \"#ed7953\"], [0.7777777777777778, \"#fb9f3a\"], [0.8888888888888888, \"#fdca26\"], [1.0, \"#f0f921\"]], \"type\": \"heatmap\"}], \"heatmapgl\": [{\"colorbar\": {\"outlinewidth\": 0, \"ticks\": \"\"}, \"colorscale\": [[0.0, \"#0d0887\"], [0.1111111111111111, \"#46039f\"], [0.2222222222222222, \"#7201a8\"], [0.3333333333333333, \"#9c179e\"], [0.4444444444444444, \"#bd3786\"], [0.5555555555555556, \"#d8576b\"], [0.6666666666666666, \"#ed7953\"], [0.7777777777777778, \"#fb9f3a\"], [0.8888888888888888, \"#fdca26\"], [1.0, \"#f0f921\"]], \"type\": \"heatmapgl\"}], \"histogram\": [{\"marker\": {\"colorbar\": {\"outlinewidth\": 0, \"ticks\": \"\"}}, \"type\": \"histogram\"}], \"histogram2d\": [{\"colorbar\": {\"outlinewidth\": 0, \"ticks\": \"\"}, \"colorscale\": [[0.0, \"#0d0887\"], [0.1111111111111111, \"#46039f\"], [0.2222222222222222, \"#7201a8\"], [0.3333333333333333, \"#9c179e\"], [0.4444444444444444, \"#bd3786\"], [0.5555555555555556, \"#d8576b\"], [0.6666666666666666, \"#ed7953\"], [0.7777777777777778, \"#fb9f3a\"], [0.8888888888888888, \"#fdca26\"], [1.0, \"#f0f921\"]], \"type\": \"histogram2d\"}], \"histogram2dcontour\": [{\"colorbar\": {\"outlinewidth\": 0, \"ticks\": \"\"}, \"colorscale\": [[0.0, \"#0d0887\"], [0.1111111111111111, \"#46039f\"], [0.2222222222222222, \"#7201a8\"], [0.3333333333333333, \"#9c179e\"], [0.4444444444444444, \"#bd3786\"], [0.5555555555555556, \"#d8576b\"], [0.6666666666666666, \"#ed7953\"], [0.7777777777777778, \"#fb9f3a\"], [0.8888888888888888, \"#fdca26\"], [1.0, \"#f0f921\"]], \"type\": \"histogram2dcontour\"}], \"mesh3d\": [{\"colorbar\": {\"outlinewidth\": 0, \"ticks\": \"\"}, \"type\": \"mesh3d\"}], \"parcoords\": [{\"line\": {\"colorbar\": {\"outlinewidth\": 0, \"ticks\": \"\"}}, \"type\": \"parcoords\"}], \"pie\": [{\"automargin\": true, \"type\": \"pie\"}], \"scatter\": [{\"marker\": {\"colorbar\": {\"outlinewidth\": 0, \"ticks\": \"\"}}, \"type\": \"scatter\"}], \"scatter3d\": [{\"line\": {\"colorbar\": {\"outlinewidth\": 0, \"ticks\": \"\"}}, \"marker\": {\"colorbar\": {\"outlinewidth\": 0, \"ticks\": \"\"}}, \"type\": \"scatter3d\"}], \"scattercarpet\": [{\"marker\": {\"colorbar\": {\"outlinewidth\": 0, \"ticks\": \"\"}}, \"type\": \"scattercarpet\"}], \"scattergeo\": [{\"marker\": {\"colorbar\": {\"outlinewidth\": 0, \"ticks\": \"\"}}, \"type\": \"scattergeo\"}], \"scattergl\": [{\"marker\": {\"colorbar\": {\"outlinewidth\": 0, \"ticks\": \"\"}}, \"type\": \"scattergl\"}], \"scattermapbox\": [{\"marker\": {\"colorbar\": {\"outlinewidth\": 0, \"ticks\": \"\"}}, \"type\": \"scattermapbox\"}], \"scatterpolar\": [{\"marker\": {\"colorbar\": {\"outlinewidth\": 0, \"ticks\": \"\"}}, \"type\": \"scatterpolar\"}], \"scatterpolargl\": [{\"marker\": {\"colorbar\": {\"outlinewidth\": 0, \"ticks\": \"\"}}, \"type\": \"scatterpolargl\"}], \"scatterternary\": [{\"marker\": {\"colorbar\": {\"outlinewidth\": 0, \"ticks\": \"\"}}, \"type\": \"scatterternary\"}], \"surface\": [{\"colorbar\": {\"outlinewidth\": 0, \"ticks\": \"\"}, \"colorscale\": [[0.0, \"#0d0887\"], [0.1111111111111111, \"#46039f\"], [0.2222222222222222, \"#7201a8\"], [0.3333333333333333, \"#9c179e\"], [0.4444444444444444, \"#bd3786\"], [0.5555555555555556, \"#d8576b\"], [0.6666666666666666, \"#ed7953\"], [0.7777777777777778, \"#fb9f3a\"], [0.8888888888888888, \"#fdca26\"], [1.0, \"#f0f921\"]], \"type\": \"surface\"}], \"table\": [{\"cells\": {\"fill\": {\"color\": \"#EBF0F8\"}, \"line\": {\"color\": \"white\"}}, \"header\": {\"fill\": {\"color\": \"#C8D4E3\"}, \"line\": {\"color\": \"white\"}}, \"type\": \"table\"}]}, \"layout\": {\"annotationdefaults\": {\"arrowcolor\": \"#2a3f5f\", \"arrowhead\": 0, \"arrowwidth\": 1}, \"coloraxis\": {\"colorbar\": {\"outlinewidth\": 0, \"ticks\": \"\"}}, \"colorscale\": {\"diverging\": [[0, \"#8e0152\"], [0.1, \"#c51b7d\"], [0.2, \"#de77ae\"], [0.3, \"#f1b6da\"], [0.4, \"#fde0ef\"], [0.5, \"#f7f7f7\"], [0.6, \"#e6f5d0\"], [0.7, \"#b8e186\"], [0.8, \"#7fbc41\"], [0.9, \"#4d9221\"], [1, \"#276419\"]], \"sequential\": [[0.0, \"#0d0887\"], [0.1111111111111111, \"#46039f\"], [0.2222222222222222, \"#7201a8\"], [0.3333333333333333, \"#9c179e\"], [0.4444444444444444, \"#bd3786\"], [0.5555555555555556, \"#d8576b\"], [0.6666666666666666, \"#ed7953\"], [0.7777777777777778, \"#fb9f3a\"], [0.8888888888888888, \"#fdca26\"], [1.0, \"#f0f921\"]], \"sequentialminus\": [[0.0, \"#0d0887\"], [0.1111111111111111, \"#46039f\"], [0.2222222222222222, \"#7201a8\"], [0.3333333333333333, \"#9c179e\"], [0.4444444444444444, \"#bd3786\"], [0.5555555555555556, \"#d8576b\"], [0.6666666666666666, \"#ed7953\"], [0.7777777777777778, \"#fb9f3a\"], [0.8888888888888888, \"#fdca26\"], [1.0, \"#f0f921\"]]}, \"colorway\": [\"#636efa\", \"#EF553B\", \"#00cc96\", \"#ab63fa\", \"#FFA15A\", \"#19d3f3\", \"#FF6692\", \"#B6E880\", \"#FF97FF\", \"#FECB52\"], \"font\": {\"color\": \"#2a3f5f\"}, \"geo\": {\"bgcolor\": \"white\", \"lakecolor\": \"white\", \"landcolor\": \"#E5ECF6\", \"showlakes\": true, \"showland\": true, \"subunitcolor\": \"white\"}, \"hoverlabel\": {\"align\": \"left\"}, \"hovermode\": \"closest\", \"mapbox\": {\"style\": \"light\"}, \"paper_bgcolor\": \"white\", \"plot_bgcolor\": \"#E5ECF6\", \"polar\": {\"angularaxis\": {\"gridcolor\": \"white\", \"linecolor\": \"white\", \"ticks\": \"\"}, \"bgcolor\": \"#E5ECF6\", \"radialaxis\": {\"gridcolor\": \"white\", \"linecolor\": \"white\", \"ticks\": \"\"}}, \"scene\": {\"xaxis\": {\"backgroundcolor\": \"#E5ECF6\", \"gridcolor\": \"white\", \"gridwidth\": 2, \"linecolor\": \"white\", \"showbackground\": true, \"ticks\": \"\", \"zerolinecolor\": \"white\"}, \"yaxis\": {\"backgroundcolor\": \"#E5ECF6\", \"gridcolor\": \"white\", \"gridwidth\": 2, \"linecolor\": \"white\", \"showbackground\": true, \"ticks\": \"\", \"zerolinecolor\": \"white\"}, \"zaxis\": {\"backgroundcolor\": \"#E5ECF6\", \"gridcolor\": \"white\", \"gridwidth\": 2, \"linecolor\": \"white\", \"showbackground\": true, \"ticks\": \"\", \"zerolinecolor\": \"white\"}}, \"shapedefaults\": {\"line\": {\"color\": \"#2a3f5f\"}}, \"ternary\": {\"aaxis\": {\"gridcolor\": \"white\", \"linecolor\": \"white\", \"ticks\": \"\"}, \"baxis\": {\"gridcolor\": \"white\", \"linecolor\": \"white\", \"ticks\": \"\"}, \"bgcolor\": \"#E5ECF6\", \"caxis\": {\"gridcolor\": \"white\", \"linecolor\": \"white\", \"ticks\": \"\"}}, \"title\": {\"x\": 0.05}, \"xaxis\": {\"automargin\": true, \"gridcolor\": \"white\", \"linecolor\": \"white\", \"ticks\": \"\", \"title\": {\"standoff\": 15}, \"zerolinecolor\": \"white\", \"zerolinewidth\": 2}, \"yaxis\": {\"automargin\": true, \"gridcolor\": \"white\", \"linecolor\": \"white\", \"ticks\": \"\", \"title\": {\"standoff\": 15}, \"zerolinecolor\": \"white\", \"zerolinewidth\": 2}}}, \"title\": {\"text\": \"relu prime\"}, \"xaxis\": {\"anchor\": \"y\", \"domain\": [0.0, 1.0], \"title\": {\"text\": \"x\"}}, \"yaxis\": {\"anchor\": \"x\", \"domain\": [0.0, 1.0], \"title\": {\"text\": \"y\"}}},\n",
              "                        {\"responsive\": true}\n",
              "                    ).then(function(){\n",
              "                            \n",
              "var gd = document.getElementById('c7c16c97-01c2-4ea6-bf2f-32105c089d3e');\n",
              "var x = new MutationObserver(function (mutations, observer) {{\n",
              "        var display = window.getComputedStyle(gd).display;\n",
              "        if (!display || display === 'none') {{\n",
              "            console.log([gd, 'removed!']);\n",
              "            Plotly.purge(gd);\n",
              "            observer.disconnect();\n",
              "        }}\n",
              "}});\n",
              "\n",
              "// Listen for the removal of the full notebook cells\n",
              "var notebookContainer = gd.closest('#notebook-container');\n",
              "if (notebookContainer) {{\n",
              "    x.observe(notebookContainer, {childList: true});\n",
              "}}\n",
              "\n",
              "// Listen for the clearing of the current output cell\n",
              "var outputEl = gd.closest('.output');\n",
              "if (outputEl) {{\n",
              "    x.observe(outputEl, {childList: true});\n",
              "}}\n",
              "\n",
              "                        })\n",
              "                };\n",
              "                \n",
              "            </script>\n",
              "        </div>\n",
              "</body>\n",
              "</html>"
            ]
          },
          "metadata": {
            "tags": []
          }
        },
        {
          "output_type": "execute_result",
          "data": {
            "text/plain": [
              "(None, None)"
            ]
          },
          "metadata": {
            "tags": []
          },
          "execution_count": 89
        }
      ]
    },
    {
      "cell_type": "code",
      "metadata": {
        "colab": {
          "base_uri": "https://localhost:8080/",
          "height": 1000
        },
        "id": "fWWF39InUDTF",
        "outputId": "52b7c9bb-e70d-4635-ef80-a2b482bc0e04"
      },
      "source": [
        "leakyrelu = lambda x: np.maximum(0.1*x, x)\n",
        "\n",
        "dta = np.linspace(-5,5,500)\n",
        "\n",
        "lrel = []\n",
        "l2rel = []\n",
        "\n",
        "for i in dta:\n",
        "\n",
        "  lrel.append(leakyrelu(i))\n",
        "\n",
        "  if i<0 or i==0:\n",
        "\n",
        "    l2rel.append(0.1)\n",
        "  \n",
        "  else:\n",
        "\n",
        "    l2rel.append(1)\n",
        "\n",
        "  \n",
        "fig = [px.line(x=dta, y=lrel, title='leaky relu'),\n",
        "       px.line(x=dta, y=l2rel, title='leaky relu prime')]\n",
        "\n",
        "fig[0].show(), fig[1].show()"
      ],
      "execution_count": 93,
      "outputs": [
        {
          "output_type": "display_data",
          "data": {
            "text/html": [
              "<html>\n",
              "<head><meta charset=\"utf-8\" /></head>\n",
              "<body>\n",
              "    <div>\n",
              "            <script src=\"https://cdnjs.cloudflare.com/ajax/libs/mathjax/2.7.5/MathJax.js?config=TeX-AMS-MML_SVG\"></script><script type=\"text/javascript\">if (window.MathJax) {MathJax.Hub.Config({SVG: {font: \"STIX-Web\"}});}</script>\n",
              "                <script type=\"text/javascript\">window.PlotlyConfig = {MathJaxConfig: 'local'};</script>\n",
              "        <script src=\"https://cdn.plot.ly/plotly-latest.min.js\"></script>    \n",
              "            <div id=\"b92881ff-03af-4eab-aea3-f51c6b4ef3f6\" class=\"plotly-graph-div\" style=\"height:525px; width:100%;\"></div>\n",
              "            <script type=\"text/javascript\">\n",
              "                \n",
              "                    window.PLOTLYENV=window.PLOTLYENV || {};\n",
              "                    \n",
              "                if (document.getElementById(\"b92881ff-03af-4eab-aea3-f51c6b4ef3f6\")) {\n",
              "                    Plotly.newPlot(\n",
              "                        'b92881ff-03af-4eab-aea3-f51c6b4ef3f6',\n",
              "                        [{\"hoverlabel\": {\"namelength\": 0}, \"hovertemplate\": \"x=%{x}<br>y=%{y}\", \"legendgroup\": \"\", \"line\": {\"color\": \"#636efa\", \"dash\": \"solid\"}, \"mode\": \"lines\", \"name\": \"\", \"showlegend\": false, \"type\": \"scatter\", \"x\": [-5.0, -4.979959919839679, -4.959919839679359, -4.939879759519038, -4.919839679358717, -4.8997995991983965, -4.8797595190380765, -4.859719438877756, -4.839679358717435, -4.819639278557114, -4.799599198396794, -4.779559118236473, -4.759519038076152, -4.739478957915832, -4.719438877755511, -4.69939879759519, -4.679358717434869, -4.659318637274549, -4.6392785571142285, -4.619238476953908, -4.599198396793588, -4.579158316633267, -4.559118236472946, -4.539078156312625, -4.519038076152305, -4.498997995991984, -4.478957915831663, -4.458917835671342, -4.438877755511022, -4.4188376753507015, -4.398797595190381, -4.37875751503006, -4.35871743486974, -4.338677354709419, -4.318637274549098, -4.298597194388778, -4.278557114228457, -4.258517034068136, -4.238476953907815, -4.218436873747495, -4.198396793587174, -4.1783567134268536, -4.158316633266534, -4.138276553106213, -4.118236472945892, -4.098196392785571, -4.078156312625251, -4.05811623246493, -4.038076152304609, -4.018036072144288, -3.9979959919839683, -3.9779559118236474, -3.9579158316633265, -3.937875751503006, -3.9178356713426856, -3.8977955911823647, -3.877755511022044, -3.8577154308617234, -3.837675350701403, -3.817635270541082, -3.7975951903807617, -3.777555110220441, -3.7575150300601203, -3.7374749498997994, -3.717434869739479, -3.6973947895791586, -3.6773547094188377, -3.657314629258517, -3.6372745490981964, -3.617234468937876, -3.597194388777555, -3.5771543086172346, -3.557114228456914, -3.5370741482965933, -3.5170340681362724, -3.496993987975952, -3.4769539078156315, -3.4569138276553106, -3.4368737474949898, -3.4168336673346693, -3.396793587174349, -3.376753507014028, -3.3567134268537075, -3.336673346693387, -3.3166332665330662, -3.2965931863727453, -3.276553106212425, -3.2565130260521045, -3.2364729458917836, -3.2164328657314627, -3.1963927855711423, -3.176352705410822, -3.156312625250501, -3.1362725450901805, -3.11623246492986, -3.096192384769539, -3.0761523046092183, -3.056112224448898, -3.0360721442885774, -3.0160320641282565, -2.995991983967936, -2.975951903807615, -2.9559118236472948, -2.935871743486974, -2.9158316633266534, -2.8957915831663326, -2.875751503006012, -2.8557114228456917, -2.835671342685371, -2.8156312625250504, -2.7955911823647295, -2.775551102204409, -2.755511022044088, -2.7354709418837677, -2.715430861723447, -2.6953907815631264, -2.6753507014028055, -2.655310621242485, -2.6352705410821646, -2.6152304609218437, -2.5951903807615233, -2.5751503006012024, -2.555110220440882, -2.535070140280561, -2.5150300601202407, -2.49498997995992, -2.4749498997995993, -2.4549098196392785, -2.434869739478958, -2.4148296593186376, -2.3947895791583167, -2.3747494989979963, -2.3547094188376754, -2.334669338677355, -2.314629258517034, -2.2945891783567136, -2.2745490981963927, -2.2545090180360723, -2.2344689378757514, -2.214428857715431, -2.1943887775551105, -2.1743486973947896, -2.154308617234469, -2.1342685370741483, -2.114228456913828, -2.094188376753507, -2.0741482965931866, -2.0541082164328657, -2.0340681362725452, -2.0140280561122244, -1.993987975951904, -1.9739478957915835, -1.9539078156312626, -1.9338677354709422, -1.9138276553106213, -1.8937875751503008, -1.87374749498998, -1.8537074148296595, -1.8336673346693386, -1.8136272545090182, -1.7935871743486977, -1.7735470941883769, -1.7535070140280564, -1.7334669338677355, -1.713426853707415, -1.6933867735470942, -1.6733466933867738, -1.653306613226453, -1.6332665330661325, -1.6132264529058116, -1.5931863727454911, -1.5731462925851707, -1.5531062124248498, -1.5330661322645294, -1.5130260521042085, -1.492985971943888, -1.4729458917835672, -1.4529058116232467, -1.4328657314629258, -1.4128256513026054, -1.3927855711422845, -1.372745490981964, -1.3527054108216436, -1.3326653306613228, -1.3126252505010023, -1.2925851703406814, -1.272545090180361, -1.25250501002004, -1.2324649298597197, -1.2124248496993988, -1.1923847695390783, -1.1723446893787575, -1.152304609218437, -1.1322645290581166, -1.1122244488977957, -1.0921843687374753, -1.0721442885771544, -1.052104208416834, -1.032064128256513, -1.0120240480961926, -0.9919839679358722, -0.9719438877755513, -0.9519038076152304, -0.9318637274549104, -0.9118236472945895, -0.8917835671342687, -0.8717434869739478, -0.8517034068136278, -0.8316633266533069, -0.811623246492986, -0.7915831663326651, -0.7715430861723451, -0.7515030060120242, -0.7314629258517034, -0.7114228456913834, -0.6913827655310625, -0.6713426853707416, -0.6513026052104207, -0.6312625250501007, -0.6112224448897798, -0.591182364729459, -0.5711422845691381, -0.5511022044088181, -0.5310621242484972, -0.5110220440881763, -0.4909819639278563, -0.47094188376753543, -0.45090180360721455, -0.43086172344689366, -0.41082164328657367, -0.3907815631262528, -0.3707414829659319, -0.350701402805611, -0.330661322645291, -0.31062124248497014, -0.29058116232464926, -0.27054108216432926, -0.2505010020040084, -0.2304609218436875, -0.2104208416833666, -0.19038076152304662, -0.17034068136272573, -0.15030060120240485, -0.13026052104208397, -0.11022044088176397, -0.09018036072144309, -0.0701402805611222, -0.05010020040080221, -0.030060120240481325, -0.010020040080160442, 0.010020040080160442, 0.030060120240480437, 0.05010020040080132, 0.0701402805611222, 0.09018036072144309, 0.11022044088176308, 0.13026052104208397, 0.15030060120240485, 0.17034068136272484, 0.19038076152304573, 0.2104208416833666, 0.2304609218436875, 0.2505010020040075, 0.2705410821643284, 0.29058116232464926, 0.31062124248497014, 0.33066132264529013, 0.350701402805611, 0.3707414829659319, 0.3907815631262519, 0.4108216432865728, 0.43086172344689366, 0.45090180360721455, 0.47094188376753454, 0.4909819639278554, 0.5110220440881763, 0.5310621242484972, 0.5511022044088172, 0.5711422845691381, 0.591182364729459, 0.611222444889779, 0.6312625250500998, 0.6513026052104207, 0.6713426853707416, 0.6913827655310616, 0.7114228456913825, 0.7314629258517034, 0.7515030060120242, 0.7715430861723442, 0.7915831663326651, 0.811623246492986, 0.831663326653306, 0.8517034068136269, 0.8717434869739478, 0.8917835671342687, 0.9118236472945886, 0.9318637274549095, 0.9519038076152304, 0.9719438877755513, 0.9919839679358713, 1.0120240480961922, 1.032064128256513, 1.052104208416833, 1.072144288577154, 1.0921843687374748, 1.1122244488977957, 1.1322645290581157, 1.1523046092184366, 1.1723446893787575, 1.1923847695390783, 1.2124248496993983, 1.2324649298597192, 1.25250501002004, 1.27254509018036, 1.292585170340681, 1.3126252505010019, 1.3326653306613228, 1.3527054108216428, 1.3727454909819636, 1.3927855711422845, 1.4128256513026045, 1.4328657314629254, 1.4529058116232463, 1.4729458917835672, 1.4929859719438872, 1.513026052104208, 1.533066132264529, 1.5531062124248498, 1.5731462925851698, 1.5931863727454907, 1.6132264529058116, 1.6332665330661316, 1.6533066132264524, 1.6733466933867733, 1.6933867735470942, 1.7134268537074142, 1.733466933867735, 1.753507014028056, 1.7735470941883769, 1.7935871743486969, 1.8136272545090177, 1.8336673346693386, 1.8537074148296586, 1.8737474949899795, 1.8937875751503004, 1.9138276553106213, 1.9338677354709413, 1.9539078156312621, 1.973947895791583, 1.993987975951904, 2.014028056112224, 2.034068136272545, 2.0541082164328657, 2.0741482965931857, 2.0941883767535066, 2.1142284569138274, 2.1342685370741483, 2.1543086172344683, 2.174348697394789, 2.19438877755511, 2.214428857715431, 2.234468937875751, 2.254509018036072, 2.2745490981963927, 2.2945891783567127, 2.3146292585170336, 2.3346693386773545, 2.3547094188376754, 2.3747494989979954, 2.3947895791583163, 2.414829659318637, 2.434869739478958, 2.454909819639278, 2.474949899799599, 2.49498997995992, 2.5150300601202398, 2.5350701402805607, 2.5551102204408815, 2.5751503006012024, 2.5951903807615224, 2.6152304609218433, 2.635270541082164, 2.655310621242485, 2.675350701402805, 2.695390781563126, 2.715430861723447, 2.735470941883767, 2.7555110220440877, 2.7755511022044086, 2.7955911823647295, 2.8156312625250495, 2.8356713426853704, 2.8557114228456912, 2.875751503006012, 2.895791583166332, 2.915831663326653, 2.935871743486974, 2.955911823647294, 2.9759519038076148, 2.9959919839679356, 3.0160320641282556, 3.0360721442885765, 3.0561122244488974, 3.0761523046092183, 3.096192384769539, 3.11623246492986, 3.136272545090179, 3.1563126252505, 3.176352705410821, 3.196392785571142, 3.2164328657314627, 3.2364729458917836, 3.2565130260521045, 3.2765531062124253, 3.2965931863727445, 3.3166332665330653, 3.336673346693386, 3.356713426853707, 3.376753507014028, 3.396793587174349, 3.4168336673346698, 3.436873747494989, 3.4569138276553097, 3.4769539078156306, 3.4969939879759515, 3.5170340681362724, 3.5370741482965933, 3.557114228456914, 3.5771543086172333, 3.597194388777554, 3.617234468937875, 3.637274549098196, 3.657314629258517, 3.6773547094188377, 3.6973947895791586, 3.7174348697394795, 3.7374749498997986, 3.7575150300601194, 3.7775551102204403, 3.797595190380761, 3.817635270541082, 3.837675350701403, 3.857715430861724, 3.877755511022043, 3.897795591182364, 3.9178356713426847, 3.9378757515030056, 3.9579158316633265, 3.9779559118236474, 3.9979959919839683, 4.018036072144287, 4.038076152304608, 4.058116232464929, 4.07815631262525, 4.098196392785571, 4.118236472945892, 4.138276553106213, 4.158316633266534, 4.178356713426853, 4.1983967935871735, 4.218436873747494, 4.238476953907815, 4.258517034068136, 4.278557114228457, 4.298597194388778, 4.318637274549097, 4.338677354709418, 4.358717434869739, 4.37875751503006, 4.398797595190381, 4.4188376753507015, 4.438877755511022, 4.4589178356713415, 4.478957915831662, 4.498997995991983, 4.519038076152304, 4.539078156312625, 4.559118236472946, 4.579158316633267, 4.599198396793588, 4.619238476953907, 4.639278557114228, 4.6593186372745485, 4.679358717434869, 4.69939879759519, 4.719438877755511, 4.739478957915832, 4.759519038076151, 4.779559118236472, 4.799599198396793, 4.819639278557114, 4.839679358717435, 4.859719438877756, 4.8797595190380765, 4.899799599198396, 4.9198396793587165, 4.939879759519037, 4.959919839679358, 4.979959919839679, 5.0], \"xaxis\": \"x\", \"y\": [-0.5, -0.49799599198396793, -0.4959919839679359, -0.49398797595190386, -0.49198396793587174, -0.48997995991983967, -0.48797595190380766, -0.4859719438877756, -0.48396793587174347, -0.4819639278557114, -0.4799599198396794, -0.47795591182364733, -0.4759519038076152, -0.47394789579158325, -0.47194388777555113, -0.46993987975951906, -0.46793587174348694, -0.465931863727455, -0.46392785571142287, -0.4619238476953908, -0.4599198396793588, -0.4579158316633267, -0.4559118236472946, -0.45390781563126253, -0.4519038076152305, -0.44989979959919846, -0.44789579158316634, -0.44589178356713427, -0.44388777555110226, -0.4418837675350702, -0.43987975951903807, -0.437875751503006, -0.435871743486974, -0.43386773547094193, -0.4318637274549098, -0.4298597194388778, -0.42785571142284573, -0.42585170340681366, -0.42384769539078154, -0.42184368737474953, -0.41983967935871747, -0.4178356713426854, -0.4158316633266534, -0.41382765531062127, -0.4118236472945892, -0.40981963927855714, -0.4078156312625251, -0.405811623246493, -0.40380761523046094, -0.40180360721442887, -0.39979959919839686, -0.39779559118236474, -0.39579158316633267, -0.3937875751503006, -0.3917835671342686, -0.3897795591182365, -0.3877755511022044, -0.38577154308617234, -0.38376753507014033, -0.3817635270541082, -0.3797595190380762, -0.37775551102204413, -0.37575150300601207, -0.37374749498997994, -0.37174348697394793, -0.36973947895791587, -0.3677354709418838, -0.3657314629258517, -0.36372745490981967, -0.3617234468937876, -0.35971943887775554, -0.35771543086172347, -0.35571142284569146, -0.35370741482965934, -0.3517034068136273, -0.3496993987975952, -0.3476953907815632, -0.3456913827655311, -0.343687374749499, -0.34168336673346694, -0.33967935871743493, -0.3376753507014028, -0.3356713426853708, -0.33366733466933873, -0.33166332665330667, -0.32965931863727455, -0.32765531062124253, -0.32565130260521047, -0.3236472945891784, -0.3216432865731463, -0.31963927855711427, -0.3176352705410822, -0.31563126252505014, -0.31362725450901807, -0.311623246492986, -0.30961923847695394, -0.3076152304609219, -0.3056112224448898, -0.30360721442885774, -0.3016032064128257, -0.2995991983967936, -0.29759519038076154, -0.2955911823647295, -0.2935871743486974, -0.29158316633266534, -0.2895791583166333, -0.2875751503006012, -0.2855711422845692, -0.2835671342685371, -0.28156312625250507, -0.27955911823647295, -0.27755511022044094, -0.2755511022044088, -0.2735470941883768, -0.2715430861723447, -0.2695390781563127, -0.26753507014028055, -0.26553106212424854, -0.2635270541082165, -0.2615230460921844, -0.25951903807615234, -0.2575150300601203, -0.2555110220440882, -0.25350701402805614, -0.2515030060120241, -0.24949899799599198, -0.24749498997995995, -0.24549098196392785, -0.2434869739478958, -0.24148296593186377, -0.23947895791583168, -0.23747494989979964, -0.23547094188376755, -0.2334669338677355, -0.23146292585170342, -0.22945891783567138, -0.22745490981963928, -0.22545090180360725, -0.22344689378757515, -0.2214428857715431, -0.21943887775551107, -0.21743486973947898, -0.21543086172344694, -0.21342685370741485, -0.2114228456913828, -0.20941883767535072, -0.20741482965931868, -0.20541082164328658, -0.20340681362725455, -0.20140280561122245, -0.1993987975951904, -0.19739478957915835, -0.19539078156312628, -0.19338677354709422, -0.19138276553106215, -0.18937875751503008, -0.18737474949899802, -0.18537074148296595, -0.18336673346693388, -0.18136272545090182, -0.17935871743486978, -0.17735470941883769, -0.17535070140280565, -0.17334669338677355, -0.17134268537074152, -0.16933867735470942, -0.16733466933867738, -0.1653306613226453, -0.16332665330661325, -0.16132264529058116, -0.15931863727454912, -0.15731462925851708, -0.155310621242485, -0.15330661322645295, -0.15130260521042085, -0.14929859719438882, -0.14729458917835672, -0.14529058116232468, -0.1432865731462926, -0.14128256513026055, -0.13927855711422846, -0.13727454909819642, -0.13527054108216438, -0.1332665330661323, -0.13126252505010025, -0.12925851703406815, -0.12725450901803612, -0.12525050100200402, -0.12324649298597197, -0.12124248496993989, -0.11923847695390784, -0.11723446893787576, -0.1152304609218437, -0.11322645290581167, -0.11122244488977957, -0.10921843687374753, -0.10721442885771544, -0.1052104208416834, -0.10320641282565131, -0.10120240480961927, -0.09919839679358722, -0.09719438877755514, -0.09519038076152304, -0.09318637274549105, -0.09118236472945895, -0.08917835671342687, -0.08717434869739478, -0.08517034068136278, -0.08316633266533069, -0.08116232464929861, -0.07915831663326652, -0.07715430861723452, -0.07515030060120242, -0.07314629258517034, -0.07114228456913833, -0.06913827655310625, -0.06713426853707416, -0.06513026052104208, -0.06312625250501007, -0.06112224448897799, -0.059118236472945895, -0.05711422845691381, -0.05511022044088181, -0.053106212424849725, -0.05110220440881763, -0.049098196392785634, -0.04709418837675355, -0.04509018036072146, -0.043086172344689366, -0.04108216432865737, -0.03907815631262528, -0.03707414829659319, -0.0350701402805611, -0.033066132264529105, -0.031062124248497015, -0.029058116232464928, -0.027054108216432927, -0.02505010020040084, -0.02304609218436875, -0.021042084168336663, -0.019038076152304663, -0.017034068136272573, -0.015030060120240486, -0.013026052104208397, -0.011022044088176398, -0.00901803607214431, -0.007014028056112221, -0.005010020040080221, -0.0030060120240481326, -0.0010020040080160441, 0.010020040080160442, 0.030060120240480437, 0.05010020040080132, 0.0701402805611222, 0.09018036072144309, 0.11022044088176308, 0.13026052104208397, 0.15030060120240485, 0.17034068136272484, 0.19038076152304573, 0.2104208416833666, 0.2304609218436875, 0.2505010020040075, 0.2705410821643284, 0.29058116232464926, 0.31062124248497014, 0.33066132264529013, 0.350701402805611, 0.3707414829659319, 0.3907815631262519, 0.4108216432865728, 0.43086172344689366, 0.45090180360721455, 0.47094188376753454, 0.4909819639278554, 0.5110220440881763, 0.5310621242484972, 0.5511022044088172, 0.5711422845691381, 0.591182364729459, 0.611222444889779, 0.6312625250500998, 0.6513026052104207, 0.6713426853707416, 0.6913827655310616, 0.7114228456913825, 0.7314629258517034, 0.7515030060120242, 0.7715430861723442, 0.7915831663326651, 0.811623246492986, 0.831663326653306, 0.8517034068136269, 0.8717434869739478, 0.8917835671342687, 0.9118236472945886, 0.9318637274549095, 0.9519038076152304, 0.9719438877755513, 0.9919839679358713, 1.0120240480961922, 1.032064128256513, 1.052104208416833, 1.072144288577154, 1.0921843687374748, 1.1122244488977957, 1.1322645290581157, 1.1523046092184366, 1.1723446893787575, 1.1923847695390783, 1.2124248496993983, 1.2324649298597192, 1.25250501002004, 1.27254509018036, 1.292585170340681, 1.3126252505010019, 1.3326653306613228, 1.3527054108216428, 1.3727454909819636, 1.3927855711422845, 1.4128256513026045, 1.4328657314629254, 1.4529058116232463, 1.4729458917835672, 1.4929859719438872, 1.513026052104208, 1.533066132264529, 1.5531062124248498, 1.5731462925851698, 1.5931863727454907, 1.6132264529058116, 1.6332665330661316, 1.6533066132264524, 1.6733466933867733, 1.6933867735470942, 1.7134268537074142, 1.733466933867735, 1.753507014028056, 1.7735470941883769, 1.7935871743486969, 1.8136272545090177, 1.8336673346693386, 1.8537074148296586, 1.8737474949899795, 1.8937875751503004, 1.9138276553106213, 1.9338677354709413, 1.9539078156312621, 1.973947895791583, 1.993987975951904, 2.014028056112224, 2.034068136272545, 2.0541082164328657, 2.0741482965931857, 2.0941883767535066, 2.1142284569138274, 2.1342685370741483, 2.1543086172344683, 2.174348697394789, 2.19438877755511, 2.214428857715431, 2.234468937875751, 2.254509018036072, 2.2745490981963927, 2.2945891783567127, 2.3146292585170336, 2.3346693386773545, 2.3547094188376754, 2.3747494989979954, 2.3947895791583163, 2.414829659318637, 2.434869739478958, 2.454909819639278, 2.474949899799599, 2.49498997995992, 2.5150300601202398, 2.5350701402805607, 2.5551102204408815, 2.5751503006012024, 2.5951903807615224, 2.6152304609218433, 2.635270541082164, 2.655310621242485, 2.675350701402805, 2.695390781563126, 2.715430861723447, 2.735470941883767, 2.7555110220440877, 2.7755511022044086, 2.7955911823647295, 2.8156312625250495, 2.8356713426853704, 2.8557114228456912, 2.875751503006012, 2.895791583166332, 2.915831663326653, 2.935871743486974, 2.955911823647294, 2.9759519038076148, 2.9959919839679356, 3.0160320641282556, 3.0360721442885765, 3.0561122244488974, 3.0761523046092183, 3.096192384769539, 3.11623246492986, 3.136272545090179, 3.1563126252505, 3.176352705410821, 3.196392785571142, 3.2164328657314627, 3.2364729458917836, 3.2565130260521045, 3.2765531062124253, 3.2965931863727445, 3.3166332665330653, 3.336673346693386, 3.356713426853707, 3.376753507014028, 3.396793587174349, 3.4168336673346698, 3.436873747494989, 3.4569138276553097, 3.4769539078156306, 3.4969939879759515, 3.5170340681362724, 3.5370741482965933, 3.557114228456914, 3.5771543086172333, 3.597194388777554, 3.617234468937875, 3.637274549098196, 3.657314629258517, 3.6773547094188377, 3.6973947895791586, 3.7174348697394795, 3.7374749498997986, 3.7575150300601194, 3.7775551102204403, 3.797595190380761, 3.817635270541082, 3.837675350701403, 3.857715430861724, 3.877755511022043, 3.897795591182364, 3.9178356713426847, 3.9378757515030056, 3.9579158316633265, 3.9779559118236474, 3.9979959919839683, 4.018036072144287, 4.038076152304608, 4.058116232464929, 4.07815631262525, 4.098196392785571, 4.118236472945892, 4.138276553106213, 4.158316633266534, 4.178356713426853, 4.1983967935871735, 4.218436873747494, 4.238476953907815, 4.258517034068136, 4.278557114228457, 4.298597194388778, 4.318637274549097, 4.338677354709418, 4.358717434869739, 4.37875751503006, 4.398797595190381, 4.4188376753507015, 4.438877755511022, 4.4589178356713415, 4.478957915831662, 4.498997995991983, 4.519038076152304, 4.539078156312625, 4.559118236472946, 4.579158316633267, 4.599198396793588, 4.619238476953907, 4.639278557114228, 4.6593186372745485, 4.679358717434869, 4.69939879759519, 4.719438877755511, 4.739478957915832, 4.759519038076151, 4.779559118236472, 4.799599198396793, 4.819639278557114, 4.839679358717435, 4.859719438877756, 4.8797595190380765, 4.899799599198396, 4.9198396793587165, 4.939879759519037, 4.959919839679358, 4.979959919839679, 5.0], \"yaxis\": \"y\"}],\n",
              "                        {\"legend\": {\"tracegroupgap\": 0}, \"template\": {\"data\": {\"bar\": [{\"error_x\": {\"color\": \"#2a3f5f\"}, \"error_y\": {\"color\": \"#2a3f5f\"}, \"marker\": {\"line\": {\"color\": \"#E5ECF6\", \"width\": 0.5}}, \"type\": \"bar\"}], \"barpolar\": [{\"marker\": {\"line\": {\"color\": \"#E5ECF6\", \"width\": 0.5}}, \"type\": \"barpolar\"}], \"carpet\": [{\"aaxis\": {\"endlinecolor\": \"#2a3f5f\", \"gridcolor\": \"white\", \"linecolor\": \"white\", \"minorgridcolor\": \"white\", \"startlinecolor\": \"#2a3f5f\"}, \"baxis\": {\"endlinecolor\": \"#2a3f5f\", \"gridcolor\": \"white\", \"linecolor\": \"white\", \"minorgridcolor\": \"white\", \"startlinecolor\": \"#2a3f5f\"}, \"type\": \"carpet\"}], \"choropleth\": [{\"colorbar\": {\"outlinewidth\": 0, \"ticks\": \"\"}, \"type\": \"choropleth\"}], \"contour\": [{\"colorbar\": {\"outlinewidth\": 0, \"ticks\": \"\"}, \"colorscale\": [[0.0, \"#0d0887\"], [0.1111111111111111, \"#46039f\"], [0.2222222222222222, \"#7201a8\"], [0.3333333333333333, \"#9c179e\"], [0.4444444444444444, \"#bd3786\"], [0.5555555555555556, \"#d8576b\"], [0.6666666666666666, \"#ed7953\"], [0.7777777777777778, \"#fb9f3a\"], [0.8888888888888888, \"#fdca26\"], [1.0, \"#f0f921\"]], \"type\": \"contour\"}], \"contourcarpet\": [{\"colorbar\": {\"outlinewidth\": 0, \"ticks\": \"\"}, \"type\": \"contourcarpet\"}], \"heatmap\": [{\"colorbar\": {\"outlinewidth\": 0, \"ticks\": \"\"}, \"colorscale\": [[0.0, \"#0d0887\"], [0.1111111111111111, \"#46039f\"], [0.2222222222222222, \"#7201a8\"], [0.3333333333333333, \"#9c179e\"], [0.4444444444444444, \"#bd3786\"], [0.5555555555555556, \"#d8576b\"], [0.6666666666666666, \"#ed7953\"], [0.7777777777777778, \"#fb9f3a\"], [0.8888888888888888, \"#fdca26\"], [1.0, \"#f0f921\"]], \"type\": \"heatmap\"}], \"heatmapgl\": [{\"colorbar\": {\"outlinewidth\": 0, \"ticks\": \"\"}, \"colorscale\": [[0.0, \"#0d0887\"], [0.1111111111111111, \"#46039f\"], [0.2222222222222222, \"#7201a8\"], [0.3333333333333333, \"#9c179e\"], [0.4444444444444444, \"#bd3786\"], [0.5555555555555556, \"#d8576b\"], [0.6666666666666666, \"#ed7953\"], [0.7777777777777778, \"#fb9f3a\"], [0.8888888888888888, \"#fdca26\"], [1.0, \"#f0f921\"]], \"type\": \"heatmapgl\"}], \"histogram\": [{\"marker\": {\"colorbar\": {\"outlinewidth\": 0, \"ticks\": \"\"}}, \"type\": \"histogram\"}], \"histogram2d\": [{\"colorbar\": {\"outlinewidth\": 0, \"ticks\": \"\"}, \"colorscale\": [[0.0, \"#0d0887\"], [0.1111111111111111, \"#46039f\"], [0.2222222222222222, \"#7201a8\"], [0.3333333333333333, \"#9c179e\"], [0.4444444444444444, \"#bd3786\"], [0.5555555555555556, \"#d8576b\"], [0.6666666666666666, \"#ed7953\"], [0.7777777777777778, \"#fb9f3a\"], [0.8888888888888888, \"#fdca26\"], [1.0, \"#f0f921\"]], \"type\": \"histogram2d\"}], \"histogram2dcontour\": [{\"colorbar\": {\"outlinewidth\": 0, \"ticks\": \"\"}, \"colorscale\": [[0.0, \"#0d0887\"], [0.1111111111111111, \"#46039f\"], [0.2222222222222222, \"#7201a8\"], [0.3333333333333333, \"#9c179e\"], [0.4444444444444444, \"#bd3786\"], [0.5555555555555556, \"#d8576b\"], [0.6666666666666666, \"#ed7953\"], [0.7777777777777778, \"#fb9f3a\"], [0.8888888888888888, \"#fdca26\"], [1.0, \"#f0f921\"]], \"type\": \"histogram2dcontour\"}], \"mesh3d\": [{\"colorbar\": {\"outlinewidth\": 0, \"ticks\": \"\"}, \"type\": \"mesh3d\"}], \"parcoords\": [{\"line\": {\"colorbar\": {\"outlinewidth\": 0, \"ticks\": \"\"}}, \"type\": \"parcoords\"}], \"pie\": [{\"automargin\": true, \"type\": \"pie\"}], \"scatter\": [{\"marker\": {\"colorbar\": {\"outlinewidth\": 0, \"ticks\": \"\"}}, \"type\": \"scatter\"}], \"scatter3d\": [{\"line\": {\"colorbar\": {\"outlinewidth\": 0, \"ticks\": \"\"}}, \"marker\": {\"colorbar\": {\"outlinewidth\": 0, \"ticks\": \"\"}}, \"type\": \"scatter3d\"}], \"scattercarpet\": [{\"marker\": {\"colorbar\": {\"outlinewidth\": 0, \"ticks\": \"\"}}, \"type\": \"scattercarpet\"}], \"scattergeo\": [{\"marker\": {\"colorbar\": {\"outlinewidth\": 0, \"ticks\": \"\"}}, \"type\": \"scattergeo\"}], \"scattergl\": [{\"marker\": {\"colorbar\": {\"outlinewidth\": 0, \"ticks\": \"\"}}, \"type\": \"scattergl\"}], \"scattermapbox\": [{\"marker\": {\"colorbar\": {\"outlinewidth\": 0, \"ticks\": \"\"}}, \"type\": \"scattermapbox\"}], \"scatterpolar\": [{\"marker\": {\"colorbar\": {\"outlinewidth\": 0, \"ticks\": \"\"}}, \"type\": \"scatterpolar\"}], \"scatterpolargl\": [{\"marker\": {\"colorbar\": {\"outlinewidth\": 0, \"ticks\": \"\"}}, \"type\": \"scatterpolargl\"}], \"scatterternary\": [{\"marker\": {\"colorbar\": {\"outlinewidth\": 0, \"ticks\": \"\"}}, \"type\": \"scatterternary\"}], \"surface\": [{\"colorbar\": {\"outlinewidth\": 0, \"ticks\": \"\"}, \"colorscale\": [[0.0, \"#0d0887\"], [0.1111111111111111, \"#46039f\"], [0.2222222222222222, \"#7201a8\"], [0.3333333333333333, \"#9c179e\"], [0.4444444444444444, \"#bd3786\"], [0.5555555555555556, \"#d8576b\"], [0.6666666666666666, \"#ed7953\"], [0.7777777777777778, \"#fb9f3a\"], [0.8888888888888888, \"#fdca26\"], [1.0, \"#f0f921\"]], \"type\": \"surface\"}], \"table\": [{\"cells\": {\"fill\": {\"color\": \"#EBF0F8\"}, \"line\": {\"color\": \"white\"}}, \"header\": {\"fill\": {\"color\": \"#C8D4E3\"}, \"line\": {\"color\": \"white\"}}, \"type\": \"table\"}]}, \"layout\": {\"annotationdefaults\": {\"arrowcolor\": \"#2a3f5f\", \"arrowhead\": 0, \"arrowwidth\": 1}, \"coloraxis\": {\"colorbar\": {\"outlinewidth\": 0, \"ticks\": \"\"}}, \"colorscale\": {\"diverging\": [[0, \"#8e0152\"], [0.1, \"#c51b7d\"], [0.2, \"#de77ae\"], [0.3, \"#f1b6da\"], [0.4, \"#fde0ef\"], [0.5, \"#f7f7f7\"], [0.6, \"#e6f5d0\"], [0.7, \"#b8e186\"], [0.8, \"#7fbc41\"], [0.9, \"#4d9221\"], [1, \"#276419\"]], \"sequential\": [[0.0, \"#0d0887\"], [0.1111111111111111, \"#46039f\"], [0.2222222222222222, \"#7201a8\"], [0.3333333333333333, \"#9c179e\"], [0.4444444444444444, \"#bd3786\"], [0.5555555555555556, \"#d8576b\"], [0.6666666666666666, \"#ed7953\"], [0.7777777777777778, \"#fb9f3a\"], [0.8888888888888888, \"#fdca26\"], [1.0, \"#f0f921\"]], \"sequentialminus\": [[0.0, \"#0d0887\"], [0.1111111111111111, \"#46039f\"], [0.2222222222222222, \"#7201a8\"], [0.3333333333333333, \"#9c179e\"], [0.4444444444444444, \"#bd3786\"], [0.5555555555555556, \"#d8576b\"], [0.6666666666666666, \"#ed7953\"], [0.7777777777777778, \"#fb9f3a\"], [0.8888888888888888, \"#fdca26\"], [1.0, \"#f0f921\"]]}, \"colorway\": [\"#636efa\", \"#EF553B\", \"#00cc96\", \"#ab63fa\", \"#FFA15A\", \"#19d3f3\", \"#FF6692\", \"#B6E880\", \"#FF97FF\", \"#FECB52\"], \"font\": {\"color\": \"#2a3f5f\"}, \"geo\": {\"bgcolor\": \"white\", \"lakecolor\": \"white\", \"landcolor\": \"#E5ECF6\", \"showlakes\": true, \"showland\": true, \"subunitcolor\": \"white\"}, \"hoverlabel\": {\"align\": \"left\"}, \"hovermode\": \"closest\", \"mapbox\": {\"style\": \"light\"}, \"paper_bgcolor\": \"white\", \"plot_bgcolor\": \"#E5ECF6\", \"polar\": {\"angularaxis\": {\"gridcolor\": \"white\", \"linecolor\": \"white\", \"ticks\": \"\"}, \"bgcolor\": \"#E5ECF6\", \"radialaxis\": {\"gridcolor\": \"white\", \"linecolor\": \"white\", \"ticks\": \"\"}}, \"scene\": {\"xaxis\": {\"backgroundcolor\": \"#E5ECF6\", \"gridcolor\": \"white\", \"gridwidth\": 2, \"linecolor\": \"white\", \"showbackground\": true, \"ticks\": \"\", \"zerolinecolor\": \"white\"}, \"yaxis\": {\"backgroundcolor\": \"#E5ECF6\", \"gridcolor\": \"white\", \"gridwidth\": 2, \"linecolor\": \"white\", \"showbackground\": true, \"ticks\": \"\", \"zerolinecolor\": \"white\"}, \"zaxis\": {\"backgroundcolor\": \"#E5ECF6\", \"gridcolor\": \"white\", \"gridwidth\": 2, \"linecolor\": \"white\", \"showbackground\": true, \"ticks\": \"\", \"zerolinecolor\": \"white\"}}, \"shapedefaults\": {\"line\": {\"color\": \"#2a3f5f\"}}, \"ternary\": {\"aaxis\": {\"gridcolor\": \"white\", \"linecolor\": \"white\", \"ticks\": \"\"}, \"baxis\": {\"gridcolor\": \"white\", \"linecolor\": \"white\", \"ticks\": \"\"}, \"bgcolor\": \"#E5ECF6\", \"caxis\": {\"gridcolor\": \"white\", \"linecolor\": \"white\", \"ticks\": \"\"}}, \"title\": {\"x\": 0.05}, \"xaxis\": {\"automargin\": true, \"gridcolor\": \"white\", \"linecolor\": \"white\", \"ticks\": \"\", \"title\": {\"standoff\": 15}, \"zerolinecolor\": \"white\", \"zerolinewidth\": 2}, \"yaxis\": {\"automargin\": true, \"gridcolor\": \"white\", \"linecolor\": \"white\", \"ticks\": \"\", \"title\": {\"standoff\": 15}, \"zerolinecolor\": \"white\", \"zerolinewidth\": 2}}}, \"title\": {\"text\": \"leaky relu\"}, \"xaxis\": {\"anchor\": \"y\", \"domain\": [0.0, 1.0], \"title\": {\"text\": \"x\"}}, \"yaxis\": {\"anchor\": \"x\", \"domain\": [0.0, 1.0], \"title\": {\"text\": \"y\"}}},\n",
              "                        {\"responsive\": true}\n",
              "                    ).then(function(){\n",
              "                            \n",
              "var gd = document.getElementById('b92881ff-03af-4eab-aea3-f51c6b4ef3f6');\n",
              "var x = new MutationObserver(function (mutations, observer) {{\n",
              "        var display = window.getComputedStyle(gd).display;\n",
              "        if (!display || display === 'none') {{\n",
              "            console.log([gd, 'removed!']);\n",
              "            Plotly.purge(gd);\n",
              "            observer.disconnect();\n",
              "        }}\n",
              "}});\n",
              "\n",
              "// Listen for the removal of the full notebook cells\n",
              "var notebookContainer = gd.closest('#notebook-container');\n",
              "if (notebookContainer) {{\n",
              "    x.observe(notebookContainer, {childList: true});\n",
              "}}\n",
              "\n",
              "// Listen for the clearing of the current output cell\n",
              "var outputEl = gd.closest('.output');\n",
              "if (outputEl) {{\n",
              "    x.observe(outputEl, {childList: true});\n",
              "}}\n",
              "\n",
              "                        })\n",
              "                };\n",
              "                \n",
              "            </script>\n",
              "        </div>\n",
              "</body>\n",
              "</html>"
            ]
          },
          "metadata": {
            "tags": []
          }
        },
        {
          "output_type": "display_data",
          "data": {
            "text/html": [
              "<html>\n",
              "<head><meta charset=\"utf-8\" /></head>\n",
              "<body>\n",
              "    <div>\n",
              "            <script src=\"https://cdnjs.cloudflare.com/ajax/libs/mathjax/2.7.5/MathJax.js?config=TeX-AMS-MML_SVG\"></script><script type=\"text/javascript\">if (window.MathJax) {MathJax.Hub.Config({SVG: {font: \"STIX-Web\"}});}</script>\n",
              "                <script type=\"text/javascript\">window.PlotlyConfig = {MathJaxConfig: 'local'};</script>\n",
              "        <script src=\"https://cdn.plot.ly/plotly-latest.min.js\"></script>    \n",
              "            <div id=\"8fac5f49-78f5-4643-9d38-501c87c485d3\" class=\"plotly-graph-div\" style=\"height:525px; width:100%;\"></div>\n",
              "            <script type=\"text/javascript\">\n",
              "                \n",
              "                    window.PLOTLYENV=window.PLOTLYENV || {};\n",
              "                    \n",
              "                if (document.getElementById(\"8fac5f49-78f5-4643-9d38-501c87c485d3\")) {\n",
              "                    Plotly.newPlot(\n",
              "                        '8fac5f49-78f5-4643-9d38-501c87c485d3',\n",
              "                        [{\"hoverlabel\": {\"namelength\": 0}, \"hovertemplate\": \"x=%{x}<br>y=%{y}\", \"legendgroup\": \"\", \"line\": {\"color\": \"#636efa\", \"dash\": \"solid\"}, \"mode\": \"lines\", \"name\": \"\", \"showlegend\": false, \"type\": \"scatter\", \"x\": [-5.0, -4.979959919839679, -4.959919839679359, -4.939879759519038, -4.919839679358717, -4.8997995991983965, -4.8797595190380765, -4.859719438877756, -4.839679358717435, -4.819639278557114, -4.799599198396794, -4.779559118236473, -4.759519038076152, -4.739478957915832, -4.719438877755511, -4.69939879759519, -4.679358717434869, -4.659318637274549, -4.6392785571142285, -4.619238476953908, -4.599198396793588, -4.579158316633267, -4.559118236472946, -4.539078156312625, -4.519038076152305, -4.498997995991984, -4.478957915831663, -4.458917835671342, -4.438877755511022, -4.4188376753507015, -4.398797595190381, -4.37875751503006, -4.35871743486974, -4.338677354709419, -4.318637274549098, -4.298597194388778, -4.278557114228457, -4.258517034068136, -4.238476953907815, -4.218436873747495, -4.198396793587174, -4.1783567134268536, -4.158316633266534, -4.138276553106213, -4.118236472945892, -4.098196392785571, -4.078156312625251, -4.05811623246493, -4.038076152304609, -4.018036072144288, -3.9979959919839683, -3.9779559118236474, -3.9579158316633265, -3.937875751503006, -3.9178356713426856, -3.8977955911823647, -3.877755511022044, -3.8577154308617234, -3.837675350701403, -3.817635270541082, -3.7975951903807617, -3.777555110220441, -3.7575150300601203, -3.7374749498997994, -3.717434869739479, -3.6973947895791586, -3.6773547094188377, -3.657314629258517, -3.6372745490981964, -3.617234468937876, -3.597194388777555, -3.5771543086172346, -3.557114228456914, -3.5370741482965933, -3.5170340681362724, -3.496993987975952, -3.4769539078156315, -3.4569138276553106, -3.4368737474949898, -3.4168336673346693, -3.396793587174349, -3.376753507014028, -3.3567134268537075, -3.336673346693387, -3.3166332665330662, -3.2965931863727453, -3.276553106212425, -3.2565130260521045, -3.2364729458917836, -3.2164328657314627, -3.1963927855711423, -3.176352705410822, -3.156312625250501, -3.1362725450901805, -3.11623246492986, -3.096192384769539, -3.0761523046092183, -3.056112224448898, -3.0360721442885774, -3.0160320641282565, -2.995991983967936, -2.975951903807615, -2.9559118236472948, -2.935871743486974, -2.9158316633266534, -2.8957915831663326, -2.875751503006012, -2.8557114228456917, -2.835671342685371, -2.8156312625250504, -2.7955911823647295, -2.775551102204409, -2.755511022044088, -2.7354709418837677, -2.715430861723447, -2.6953907815631264, -2.6753507014028055, -2.655310621242485, -2.6352705410821646, -2.6152304609218437, -2.5951903807615233, -2.5751503006012024, -2.555110220440882, -2.535070140280561, -2.5150300601202407, -2.49498997995992, -2.4749498997995993, -2.4549098196392785, -2.434869739478958, -2.4148296593186376, -2.3947895791583167, -2.3747494989979963, -2.3547094188376754, -2.334669338677355, -2.314629258517034, -2.2945891783567136, -2.2745490981963927, -2.2545090180360723, -2.2344689378757514, -2.214428857715431, -2.1943887775551105, -2.1743486973947896, -2.154308617234469, -2.1342685370741483, -2.114228456913828, -2.094188376753507, -2.0741482965931866, -2.0541082164328657, -2.0340681362725452, -2.0140280561122244, -1.993987975951904, -1.9739478957915835, -1.9539078156312626, -1.9338677354709422, -1.9138276553106213, -1.8937875751503008, -1.87374749498998, -1.8537074148296595, -1.8336673346693386, -1.8136272545090182, -1.7935871743486977, -1.7735470941883769, -1.7535070140280564, -1.7334669338677355, -1.713426853707415, -1.6933867735470942, -1.6733466933867738, -1.653306613226453, -1.6332665330661325, -1.6132264529058116, -1.5931863727454911, -1.5731462925851707, -1.5531062124248498, -1.5330661322645294, -1.5130260521042085, -1.492985971943888, -1.4729458917835672, -1.4529058116232467, -1.4328657314629258, -1.4128256513026054, -1.3927855711422845, -1.372745490981964, -1.3527054108216436, -1.3326653306613228, -1.3126252505010023, -1.2925851703406814, -1.272545090180361, -1.25250501002004, -1.2324649298597197, -1.2124248496993988, -1.1923847695390783, -1.1723446893787575, -1.152304609218437, -1.1322645290581166, -1.1122244488977957, -1.0921843687374753, -1.0721442885771544, -1.052104208416834, -1.032064128256513, -1.0120240480961926, -0.9919839679358722, -0.9719438877755513, -0.9519038076152304, -0.9318637274549104, -0.9118236472945895, -0.8917835671342687, -0.8717434869739478, -0.8517034068136278, -0.8316633266533069, -0.811623246492986, -0.7915831663326651, -0.7715430861723451, -0.7515030060120242, -0.7314629258517034, -0.7114228456913834, -0.6913827655310625, -0.6713426853707416, -0.6513026052104207, -0.6312625250501007, -0.6112224448897798, -0.591182364729459, -0.5711422845691381, -0.5511022044088181, -0.5310621242484972, -0.5110220440881763, -0.4909819639278563, -0.47094188376753543, -0.45090180360721455, -0.43086172344689366, -0.41082164328657367, -0.3907815631262528, -0.3707414829659319, -0.350701402805611, -0.330661322645291, -0.31062124248497014, -0.29058116232464926, -0.27054108216432926, -0.2505010020040084, -0.2304609218436875, -0.2104208416833666, -0.19038076152304662, -0.17034068136272573, -0.15030060120240485, -0.13026052104208397, -0.11022044088176397, -0.09018036072144309, -0.0701402805611222, -0.05010020040080221, -0.030060120240481325, -0.010020040080160442, 0.010020040080160442, 0.030060120240480437, 0.05010020040080132, 0.0701402805611222, 0.09018036072144309, 0.11022044088176308, 0.13026052104208397, 0.15030060120240485, 0.17034068136272484, 0.19038076152304573, 0.2104208416833666, 0.2304609218436875, 0.2505010020040075, 0.2705410821643284, 0.29058116232464926, 0.31062124248497014, 0.33066132264529013, 0.350701402805611, 0.3707414829659319, 0.3907815631262519, 0.4108216432865728, 0.43086172344689366, 0.45090180360721455, 0.47094188376753454, 0.4909819639278554, 0.5110220440881763, 0.5310621242484972, 0.5511022044088172, 0.5711422845691381, 0.591182364729459, 0.611222444889779, 0.6312625250500998, 0.6513026052104207, 0.6713426853707416, 0.6913827655310616, 0.7114228456913825, 0.7314629258517034, 0.7515030060120242, 0.7715430861723442, 0.7915831663326651, 0.811623246492986, 0.831663326653306, 0.8517034068136269, 0.8717434869739478, 0.8917835671342687, 0.9118236472945886, 0.9318637274549095, 0.9519038076152304, 0.9719438877755513, 0.9919839679358713, 1.0120240480961922, 1.032064128256513, 1.052104208416833, 1.072144288577154, 1.0921843687374748, 1.1122244488977957, 1.1322645290581157, 1.1523046092184366, 1.1723446893787575, 1.1923847695390783, 1.2124248496993983, 1.2324649298597192, 1.25250501002004, 1.27254509018036, 1.292585170340681, 1.3126252505010019, 1.3326653306613228, 1.3527054108216428, 1.3727454909819636, 1.3927855711422845, 1.4128256513026045, 1.4328657314629254, 1.4529058116232463, 1.4729458917835672, 1.4929859719438872, 1.513026052104208, 1.533066132264529, 1.5531062124248498, 1.5731462925851698, 1.5931863727454907, 1.6132264529058116, 1.6332665330661316, 1.6533066132264524, 1.6733466933867733, 1.6933867735470942, 1.7134268537074142, 1.733466933867735, 1.753507014028056, 1.7735470941883769, 1.7935871743486969, 1.8136272545090177, 1.8336673346693386, 1.8537074148296586, 1.8737474949899795, 1.8937875751503004, 1.9138276553106213, 1.9338677354709413, 1.9539078156312621, 1.973947895791583, 1.993987975951904, 2.014028056112224, 2.034068136272545, 2.0541082164328657, 2.0741482965931857, 2.0941883767535066, 2.1142284569138274, 2.1342685370741483, 2.1543086172344683, 2.174348697394789, 2.19438877755511, 2.214428857715431, 2.234468937875751, 2.254509018036072, 2.2745490981963927, 2.2945891783567127, 2.3146292585170336, 2.3346693386773545, 2.3547094188376754, 2.3747494989979954, 2.3947895791583163, 2.414829659318637, 2.434869739478958, 2.454909819639278, 2.474949899799599, 2.49498997995992, 2.5150300601202398, 2.5350701402805607, 2.5551102204408815, 2.5751503006012024, 2.5951903807615224, 2.6152304609218433, 2.635270541082164, 2.655310621242485, 2.675350701402805, 2.695390781563126, 2.715430861723447, 2.735470941883767, 2.7555110220440877, 2.7755511022044086, 2.7955911823647295, 2.8156312625250495, 2.8356713426853704, 2.8557114228456912, 2.875751503006012, 2.895791583166332, 2.915831663326653, 2.935871743486974, 2.955911823647294, 2.9759519038076148, 2.9959919839679356, 3.0160320641282556, 3.0360721442885765, 3.0561122244488974, 3.0761523046092183, 3.096192384769539, 3.11623246492986, 3.136272545090179, 3.1563126252505, 3.176352705410821, 3.196392785571142, 3.2164328657314627, 3.2364729458917836, 3.2565130260521045, 3.2765531062124253, 3.2965931863727445, 3.3166332665330653, 3.336673346693386, 3.356713426853707, 3.376753507014028, 3.396793587174349, 3.4168336673346698, 3.436873747494989, 3.4569138276553097, 3.4769539078156306, 3.4969939879759515, 3.5170340681362724, 3.5370741482965933, 3.557114228456914, 3.5771543086172333, 3.597194388777554, 3.617234468937875, 3.637274549098196, 3.657314629258517, 3.6773547094188377, 3.6973947895791586, 3.7174348697394795, 3.7374749498997986, 3.7575150300601194, 3.7775551102204403, 3.797595190380761, 3.817635270541082, 3.837675350701403, 3.857715430861724, 3.877755511022043, 3.897795591182364, 3.9178356713426847, 3.9378757515030056, 3.9579158316633265, 3.9779559118236474, 3.9979959919839683, 4.018036072144287, 4.038076152304608, 4.058116232464929, 4.07815631262525, 4.098196392785571, 4.118236472945892, 4.138276553106213, 4.158316633266534, 4.178356713426853, 4.1983967935871735, 4.218436873747494, 4.238476953907815, 4.258517034068136, 4.278557114228457, 4.298597194388778, 4.318637274549097, 4.338677354709418, 4.358717434869739, 4.37875751503006, 4.398797595190381, 4.4188376753507015, 4.438877755511022, 4.4589178356713415, 4.478957915831662, 4.498997995991983, 4.519038076152304, 4.539078156312625, 4.559118236472946, 4.579158316633267, 4.599198396793588, 4.619238476953907, 4.639278557114228, 4.6593186372745485, 4.679358717434869, 4.69939879759519, 4.719438877755511, 4.739478957915832, 4.759519038076151, 4.779559118236472, 4.799599198396793, 4.819639278557114, 4.839679358717435, 4.859719438877756, 4.8797595190380765, 4.899799599198396, 4.9198396793587165, 4.939879759519037, 4.959919839679358, 4.979959919839679, 5.0], \"xaxis\": \"x\", \"y\": [0.1, 0.1, 0.1, 0.1, 0.1, 0.1, 0.1, 0.1, 0.1, 0.1, 0.1, 0.1, 0.1, 0.1, 0.1, 0.1, 0.1, 0.1, 0.1, 0.1, 0.1, 0.1, 0.1, 0.1, 0.1, 0.1, 0.1, 0.1, 0.1, 0.1, 0.1, 0.1, 0.1, 0.1, 0.1, 0.1, 0.1, 0.1, 0.1, 0.1, 0.1, 0.1, 0.1, 0.1, 0.1, 0.1, 0.1, 0.1, 0.1, 0.1, 0.1, 0.1, 0.1, 0.1, 0.1, 0.1, 0.1, 0.1, 0.1, 0.1, 0.1, 0.1, 0.1, 0.1, 0.1, 0.1, 0.1, 0.1, 0.1, 0.1, 0.1, 0.1, 0.1, 0.1, 0.1, 0.1, 0.1, 0.1, 0.1, 0.1, 0.1, 0.1, 0.1, 0.1, 0.1, 0.1, 0.1, 0.1, 0.1, 0.1, 0.1, 0.1, 0.1, 0.1, 0.1, 0.1, 0.1, 0.1, 0.1, 0.1, 0.1, 0.1, 0.1, 0.1, 0.1, 0.1, 0.1, 0.1, 0.1, 0.1, 0.1, 0.1, 0.1, 0.1, 0.1, 0.1, 0.1, 0.1, 0.1, 0.1, 0.1, 0.1, 0.1, 0.1, 0.1, 0.1, 0.1, 0.1, 0.1, 0.1, 0.1, 0.1, 0.1, 0.1, 0.1, 0.1, 0.1, 0.1, 0.1, 0.1, 0.1, 0.1, 0.1, 0.1, 0.1, 0.1, 0.1, 0.1, 0.1, 0.1, 0.1, 0.1, 0.1, 0.1, 0.1, 0.1, 0.1, 0.1, 0.1, 0.1, 0.1, 0.1, 0.1, 0.1, 0.1, 0.1, 0.1, 0.1, 0.1, 0.1, 0.1, 0.1, 0.1, 0.1, 0.1, 0.1, 0.1, 0.1, 0.1, 0.1, 0.1, 0.1, 0.1, 0.1, 0.1, 0.1, 0.1, 0.1, 0.1, 0.1, 0.1, 0.1, 0.1, 0.1, 0.1, 0.1, 0.1, 0.1, 0.1, 0.1, 0.1, 0.1, 0.1, 0.1, 0.1, 0.1, 0.1, 0.1, 0.1, 0.1, 0.1, 0.1, 0.1, 0.1, 0.1, 0.1, 0.1, 0.1, 0.1, 0.1, 0.1, 0.1, 0.1, 0.1, 0.1, 0.1, 0.1, 0.1, 0.1, 0.1, 0.1, 0.1, 0.1, 0.1, 0.1, 0.1, 0.1, 0.1, 0.1, 0.1, 0.1, 0.1, 0.1, 0.1, 0.1, 0.1, 0.1, 0.1, 0.1, 0.1, 1.0, 1.0, 1.0, 1.0, 1.0, 1.0, 1.0, 1.0, 1.0, 1.0, 1.0, 1.0, 1.0, 1.0, 1.0, 1.0, 1.0, 1.0, 1.0, 1.0, 1.0, 1.0, 1.0, 1.0, 1.0, 1.0, 1.0, 1.0, 1.0, 1.0, 1.0, 1.0, 1.0, 1.0, 1.0, 1.0, 1.0, 1.0, 1.0, 1.0, 1.0, 1.0, 1.0, 1.0, 1.0, 1.0, 1.0, 1.0, 1.0, 1.0, 1.0, 1.0, 1.0, 1.0, 1.0, 1.0, 1.0, 1.0, 1.0, 1.0, 1.0, 1.0, 1.0, 1.0, 1.0, 1.0, 1.0, 1.0, 1.0, 1.0, 1.0, 1.0, 1.0, 1.0, 1.0, 1.0, 1.0, 1.0, 1.0, 1.0, 1.0, 1.0, 1.0, 1.0, 1.0, 1.0, 1.0, 1.0, 1.0, 1.0, 1.0, 1.0, 1.0, 1.0, 1.0, 1.0, 1.0, 1.0, 1.0, 1.0, 1.0, 1.0, 1.0, 1.0, 1.0, 1.0, 1.0, 1.0, 1.0, 1.0, 1.0, 1.0, 1.0, 1.0, 1.0, 1.0, 1.0, 1.0, 1.0, 1.0, 1.0, 1.0, 1.0, 1.0, 1.0, 1.0, 1.0, 1.0, 1.0, 1.0, 1.0, 1.0, 1.0, 1.0, 1.0, 1.0, 1.0, 1.0, 1.0, 1.0, 1.0, 1.0, 1.0, 1.0, 1.0, 1.0, 1.0, 1.0, 1.0, 1.0, 1.0, 1.0, 1.0, 1.0, 1.0, 1.0, 1.0, 1.0, 1.0, 1.0, 1.0, 1.0, 1.0, 1.0, 1.0, 1.0, 1.0, 1.0, 1.0, 1.0, 1.0, 1.0, 1.0, 1.0, 1.0, 1.0, 1.0, 1.0, 1.0, 1.0, 1.0, 1.0, 1.0, 1.0, 1.0, 1.0, 1.0, 1.0, 1.0, 1.0, 1.0, 1.0, 1.0, 1.0, 1.0, 1.0, 1.0, 1.0, 1.0, 1.0, 1.0, 1.0, 1.0, 1.0, 1.0, 1.0, 1.0, 1.0, 1.0, 1.0, 1.0, 1.0, 1.0, 1.0, 1.0, 1.0, 1.0, 1.0, 1.0, 1.0, 1.0, 1.0, 1.0, 1.0, 1.0, 1.0, 1.0, 1.0, 1.0, 1.0, 1.0, 1.0, 1.0, 1.0, 1.0, 1.0, 1.0, 1.0, 1.0, 1.0, 1.0, 1.0, 1.0, 1.0, 1.0, 1.0, 1.0, 1.0, 1.0, 1.0], \"yaxis\": \"y\"}],\n",
              "                        {\"legend\": {\"tracegroupgap\": 0}, \"template\": {\"data\": {\"bar\": [{\"error_x\": {\"color\": \"#2a3f5f\"}, \"error_y\": {\"color\": \"#2a3f5f\"}, \"marker\": {\"line\": {\"color\": \"#E5ECF6\", \"width\": 0.5}}, \"type\": \"bar\"}], \"barpolar\": [{\"marker\": {\"line\": {\"color\": \"#E5ECF6\", \"width\": 0.5}}, \"type\": \"barpolar\"}], \"carpet\": [{\"aaxis\": {\"endlinecolor\": \"#2a3f5f\", \"gridcolor\": \"white\", \"linecolor\": \"white\", \"minorgridcolor\": \"white\", \"startlinecolor\": \"#2a3f5f\"}, \"baxis\": {\"endlinecolor\": \"#2a3f5f\", \"gridcolor\": \"white\", \"linecolor\": \"white\", \"minorgridcolor\": \"white\", \"startlinecolor\": \"#2a3f5f\"}, \"type\": \"carpet\"}], \"choropleth\": [{\"colorbar\": {\"outlinewidth\": 0, \"ticks\": \"\"}, \"type\": \"choropleth\"}], \"contour\": [{\"colorbar\": {\"outlinewidth\": 0, \"ticks\": \"\"}, \"colorscale\": [[0.0, \"#0d0887\"], [0.1111111111111111, \"#46039f\"], [0.2222222222222222, \"#7201a8\"], [0.3333333333333333, \"#9c179e\"], [0.4444444444444444, \"#bd3786\"], [0.5555555555555556, \"#d8576b\"], [0.6666666666666666, \"#ed7953\"], [0.7777777777777778, \"#fb9f3a\"], [0.8888888888888888, \"#fdca26\"], [1.0, \"#f0f921\"]], \"type\": \"contour\"}], \"contourcarpet\": [{\"colorbar\": {\"outlinewidth\": 0, \"ticks\": \"\"}, \"type\": \"contourcarpet\"}], \"heatmap\": [{\"colorbar\": {\"outlinewidth\": 0, \"ticks\": \"\"}, \"colorscale\": [[0.0, \"#0d0887\"], [0.1111111111111111, \"#46039f\"], [0.2222222222222222, \"#7201a8\"], [0.3333333333333333, \"#9c179e\"], [0.4444444444444444, \"#bd3786\"], [0.5555555555555556, \"#d8576b\"], [0.6666666666666666, \"#ed7953\"], [0.7777777777777778, \"#fb9f3a\"], [0.8888888888888888, \"#fdca26\"], [1.0, \"#f0f921\"]], \"type\": \"heatmap\"}], \"heatmapgl\": [{\"colorbar\": {\"outlinewidth\": 0, \"ticks\": \"\"}, \"colorscale\": [[0.0, \"#0d0887\"], [0.1111111111111111, \"#46039f\"], [0.2222222222222222, \"#7201a8\"], [0.3333333333333333, \"#9c179e\"], [0.4444444444444444, \"#bd3786\"], [0.5555555555555556, \"#d8576b\"], [0.6666666666666666, \"#ed7953\"], [0.7777777777777778, \"#fb9f3a\"], [0.8888888888888888, \"#fdca26\"], [1.0, \"#f0f921\"]], \"type\": \"heatmapgl\"}], \"histogram\": [{\"marker\": {\"colorbar\": {\"outlinewidth\": 0, \"ticks\": \"\"}}, \"type\": \"histogram\"}], \"histogram2d\": [{\"colorbar\": {\"outlinewidth\": 0, \"ticks\": \"\"}, \"colorscale\": [[0.0, \"#0d0887\"], [0.1111111111111111, \"#46039f\"], [0.2222222222222222, \"#7201a8\"], [0.3333333333333333, \"#9c179e\"], [0.4444444444444444, \"#bd3786\"], [0.5555555555555556, \"#d8576b\"], [0.6666666666666666, \"#ed7953\"], [0.7777777777777778, \"#fb9f3a\"], [0.8888888888888888, \"#fdca26\"], [1.0, \"#f0f921\"]], \"type\": \"histogram2d\"}], \"histogram2dcontour\": [{\"colorbar\": {\"outlinewidth\": 0, \"ticks\": \"\"}, \"colorscale\": [[0.0, \"#0d0887\"], [0.1111111111111111, \"#46039f\"], [0.2222222222222222, \"#7201a8\"], [0.3333333333333333, \"#9c179e\"], [0.4444444444444444, \"#bd3786\"], [0.5555555555555556, \"#d8576b\"], [0.6666666666666666, \"#ed7953\"], [0.7777777777777778, \"#fb9f3a\"], [0.8888888888888888, \"#fdca26\"], [1.0, \"#f0f921\"]], \"type\": \"histogram2dcontour\"}], \"mesh3d\": [{\"colorbar\": {\"outlinewidth\": 0, \"ticks\": \"\"}, \"type\": \"mesh3d\"}], \"parcoords\": [{\"line\": {\"colorbar\": {\"outlinewidth\": 0, \"ticks\": \"\"}}, \"type\": \"parcoords\"}], \"pie\": [{\"automargin\": true, \"type\": \"pie\"}], \"scatter\": [{\"marker\": {\"colorbar\": {\"outlinewidth\": 0, \"ticks\": \"\"}}, \"type\": \"scatter\"}], \"scatter3d\": [{\"line\": {\"colorbar\": {\"outlinewidth\": 0, \"ticks\": \"\"}}, \"marker\": {\"colorbar\": {\"outlinewidth\": 0, \"ticks\": \"\"}}, \"type\": \"scatter3d\"}], \"scattercarpet\": [{\"marker\": {\"colorbar\": {\"outlinewidth\": 0, \"ticks\": \"\"}}, \"type\": \"scattercarpet\"}], \"scattergeo\": [{\"marker\": {\"colorbar\": {\"outlinewidth\": 0, \"ticks\": \"\"}}, \"type\": \"scattergeo\"}], \"scattergl\": [{\"marker\": {\"colorbar\": {\"outlinewidth\": 0, \"ticks\": \"\"}}, \"type\": \"scattergl\"}], \"scattermapbox\": [{\"marker\": {\"colorbar\": {\"outlinewidth\": 0, \"ticks\": \"\"}}, \"type\": \"scattermapbox\"}], \"scatterpolar\": [{\"marker\": {\"colorbar\": {\"outlinewidth\": 0, \"ticks\": \"\"}}, \"type\": \"scatterpolar\"}], \"scatterpolargl\": [{\"marker\": {\"colorbar\": {\"outlinewidth\": 0, \"ticks\": \"\"}}, \"type\": \"scatterpolargl\"}], \"scatterternary\": [{\"marker\": {\"colorbar\": {\"outlinewidth\": 0, \"ticks\": \"\"}}, \"type\": \"scatterternary\"}], \"surface\": [{\"colorbar\": {\"outlinewidth\": 0, \"ticks\": \"\"}, \"colorscale\": [[0.0, \"#0d0887\"], [0.1111111111111111, \"#46039f\"], [0.2222222222222222, \"#7201a8\"], [0.3333333333333333, \"#9c179e\"], [0.4444444444444444, \"#bd3786\"], [0.5555555555555556, \"#d8576b\"], [0.6666666666666666, \"#ed7953\"], [0.7777777777777778, \"#fb9f3a\"], [0.8888888888888888, \"#fdca26\"], [1.0, \"#f0f921\"]], \"type\": \"surface\"}], \"table\": [{\"cells\": {\"fill\": {\"color\": \"#EBF0F8\"}, \"line\": {\"color\": \"white\"}}, \"header\": {\"fill\": {\"color\": \"#C8D4E3\"}, \"line\": {\"color\": \"white\"}}, \"type\": \"table\"}]}, \"layout\": {\"annotationdefaults\": {\"arrowcolor\": \"#2a3f5f\", \"arrowhead\": 0, \"arrowwidth\": 1}, \"coloraxis\": {\"colorbar\": {\"outlinewidth\": 0, \"ticks\": \"\"}}, \"colorscale\": {\"diverging\": [[0, \"#8e0152\"], [0.1, \"#c51b7d\"], [0.2, \"#de77ae\"], [0.3, \"#f1b6da\"], [0.4, \"#fde0ef\"], [0.5, \"#f7f7f7\"], [0.6, \"#e6f5d0\"], [0.7, \"#b8e186\"], [0.8, \"#7fbc41\"], [0.9, \"#4d9221\"], [1, \"#276419\"]], \"sequential\": [[0.0, \"#0d0887\"], [0.1111111111111111, \"#46039f\"], [0.2222222222222222, \"#7201a8\"], [0.3333333333333333, \"#9c179e\"], [0.4444444444444444, \"#bd3786\"], [0.5555555555555556, \"#d8576b\"], [0.6666666666666666, \"#ed7953\"], [0.7777777777777778, \"#fb9f3a\"], [0.8888888888888888, \"#fdca26\"], [1.0, \"#f0f921\"]], \"sequentialminus\": [[0.0, \"#0d0887\"], [0.1111111111111111, \"#46039f\"], [0.2222222222222222, \"#7201a8\"], [0.3333333333333333, \"#9c179e\"], [0.4444444444444444, \"#bd3786\"], [0.5555555555555556, \"#d8576b\"], [0.6666666666666666, \"#ed7953\"], [0.7777777777777778, \"#fb9f3a\"], [0.8888888888888888, \"#fdca26\"], [1.0, \"#f0f921\"]]}, \"colorway\": [\"#636efa\", \"#EF553B\", \"#00cc96\", \"#ab63fa\", \"#FFA15A\", \"#19d3f3\", \"#FF6692\", \"#B6E880\", \"#FF97FF\", \"#FECB52\"], \"font\": {\"color\": \"#2a3f5f\"}, \"geo\": {\"bgcolor\": \"white\", \"lakecolor\": \"white\", \"landcolor\": \"#E5ECF6\", \"showlakes\": true, \"showland\": true, \"subunitcolor\": \"white\"}, \"hoverlabel\": {\"align\": \"left\"}, \"hovermode\": \"closest\", \"mapbox\": {\"style\": \"light\"}, \"paper_bgcolor\": \"white\", \"plot_bgcolor\": \"#E5ECF6\", \"polar\": {\"angularaxis\": {\"gridcolor\": \"white\", \"linecolor\": \"white\", \"ticks\": \"\"}, \"bgcolor\": \"#E5ECF6\", \"radialaxis\": {\"gridcolor\": \"white\", \"linecolor\": \"white\", \"ticks\": \"\"}}, \"scene\": {\"xaxis\": {\"backgroundcolor\": \"#E5ECF6\", \"gridcolor\": \"white\", \"gridwidth\": 2, \"linecolor\": \"white\", \"showbackground\": true, \"ticks\": \"\", \"zerolinecolor\": \"white\"}, \"yaxis\": {\"backgroundcolor\": \"#E5ECF6\", \"gridcolor\": \"white\", \"gridwidth\": 2, \"linecolor\": \"white\", \"showbackground\": true, \"ticks\": \"\", \"zerolinecolor\": \"white\"}, \"zaxis\": {\"backgroundcolor\": \"#E5ECF6\", \"gridcolor\": \"white\", \"gridwidth\": 2, \"linecolor\": \"white\", \"showbackground\": true, \"ticks\": \"\", \"zerolinecolor\": \"white\"}}, \"shapedefaults\": {\"line\": {\"color\": \"#2a3f5f\"}}, \"ternary\": {\"aaxis\": {\"gridcolor\": \"white\", \"linecolor\": \"white\", \"ticks\": \"\"}, \"baxis\": {\"gridcolor\": \"white\", \"linecolor\": \"white\", \"ticks\": \"\"}, \"bgcolor\": \"#E5ECF6\", \"caxis\": {\"gridcolor\": \"white\", \"linecolor\": \"white\", \"ticks\": \"\"}}, \"title\": {\"x\": 0.05}, \"xaxis\": {\"automargin\": true, \"gridcolor\": \"white\", \"linecolor\": \"white\", \"ticks\": \"\", \"title\": {\"standoff\": 15}, \"zerolinecolor\": \"white\", \"zerolinewidth\": 2}, \"yaxis\": {\"automargin\": true, \"gridcolor\": \"white\", \"linecolor\": \"white\", \"ticks\": \"\", \"title\": {\"standoff\": 15}, \"zerolinecolor\": \"white\", \"zerolinewidth\": 2}}}, \"title\": {\"text\": \"leaky relu prime\"}, \"xaxis\": {\"anchor\": \"y\", \"domain\": [0.0, 1.0], \"title\": {\"text\": \"x\"}}, \"yaxis\": {\"anchor\": \"x\", \"domain\": [0.0, 1.0], \"title\": {\"text\": \"y\"}}},\n",
              "                        {\"responsive\": true}\n",
              "                    ).then(function(){\n",
              "                            \n",
              "var gd = document.getElementById('8fac5f49-78f5-4643-9d38-501c87c485d3');\n",
              "var x = new MutationObserver(function (mutations, observer) {{\n",
              "        var display = window.getComputedStyle(gd).display;\n",
              "        if (!display || display === 'none') {{\n",
              "            console.log([gd, 'removed!']);\n",
              "            Plotly.purge(gd);\n",
              "            observer.disconnect();\n",
              "        }}\n",
              "}});\n",
              "\n",
              "// Listen for the removal of the full notebook cells\n",
              "var notebookContainer = gd.closest('#notebook-container');\n",
              "if (notebookContainer) {{\n",
              "    x.observe(notebookContainer, {childList: true});\n",
              "}}\n",
              "\n",
              "// Listen for the clearing of the current output cell\n",
              "var outputEl = gd.closest('.output');\n",
              "if (outputEl) {{\n",
              "    x.observe(outputEl, {childList: true});\n",
              "}}\n",
              "\n",
              "                        })\n",
              "                };\n",
              "                \n",
              "            </script>\n",
              "        </div>\n",
              "</body>\n",
              "</html>"
            ]
          },
          "metadata": {
            "tags": []
          }
        },
        {
          "output_type": "execute_result",
          "data": {
            "text/plain": [
              "(None, None)"
            ]
          },
          "metadata": {
            "tags": []
          },
          "execution_count": 93
        }
      ]
    },
    {
      "cell_type": "code",
      "metadata": {
        "id": "ZKUu9E2cUDWk"
      },
      "source": [
        ""
      ],
      "execution_count": null,
      "outputs": []
    },
    {
      "cell_type": "code",
      "metadata": {
        "id": "8CxhnUU0UDaD"
      },
      "source": [
        ""
      ],
      "execution_count": null,
      "outputs": []
    },
    {
      "cell_type": "code",
      "metadata": {
        "id": "Nsfi701TSDx3"
      },
      "source": [
        ""
      ],
      "execution_count": null,
      "outputs": []
    }
  ]
}