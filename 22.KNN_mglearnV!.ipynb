{
 "cells": [
  {
   "cell_type": "code",
   "execution_count": 1,
   "metadata": {},
   "outputs": [],
   "source": [
    "import numpy as np\n",
    "from sklearn.model_selection import train_test_split\n",
    "from sklearn.neighbors import KNeighborsClassifier\n",
    "from sklearn.datasets import load_iris\n",
    "import mglearn\n",
    "import time"
   ]
  },
  {
   "cell_type": "code",
   "execution_count": 2,
   "metadata": {},
   "outputs": [
    {
     "name": "stdout",
     "output_type": "stream",
     "text": [
      ".. _iris_dataset:\n",
      "\n",
      "Iris plants dataset\n",
      "--------------------\n",
      "\n",
      "**Data Set Characteristics:**\n",
      "\n",
      "    :Number of Instances: 150 (50 in each of three classes)\n",
      "    :Number of Attributes: 4 numeric, predictive attributes and the class\n",
      "    :Attribute Information:\n",
      "        - sepal length in cm\n",
      "        - sepal width in cm\n",
      "        - petal length in cm\n",
      "        - petal width in cm\n",
      "        - class:\n",
      "                - Iris-Setosa\n",
      "                - Iris-Versicolour\n",
      "                - Iris-Virginica\n",
      "                \n",
      "    :Summary Statistics:\n",
      "\n",
      "    ============== ==== ==== ======= ===== ====================\n",
      "                    Min  Max   Mean    SD   Class Correlation\n",
      "    ============== ==== ==== ======= ===== ====================\n",
      "    sepal length:   4.3  7.9   5.84   0.83    0.7826\n",
      "    sepal width:    2.0  4.4   3.05   0.43   -0.4194\n",
      "    petal length:   1.0  6.9   3.76   1.76    0.9490  (high!)\n",
      "    petal width:    0.1  2.5   1.20   0.76    0.9565  (high!)\n",
      "    ============== ==== ==== ======= ===== ====================\n",
      "\n",
      "    :Missing Attribute Values: None\n",
      "    :Class Distribution: 33.3% for each of 3 classes.\n",
      "    :Creator: R.A. Fisher\n",
      "    :Donor: Michael Marshall (MARSHALL%PLU@io.arc.nasa.gov)\n",
      "    :Date: July, 1988\n",
      "\n",
      "The famous Iris database, first used by Sir R.A. Fisher. The dataset is taken\n",
      "from Fisher's paper. Note that it's the same as in R, but not as in the UCI\n",
      "Machine Learning Repository, which has two wrong data points.\n",
      "\n",
      "This is perhaps the best known database to be found in the\n",
      "pattern recognition literature.  Fisher's paper is a classic in the field and\n",
      "is referenced frequently to this day.  (See Duda & Hart, for example.)  The\n",
      "data set contains 3 classes of 50 instances each, where each class refers to a\n",
      "type of iris plant.  One class is linearly separable from the other 2; the\n",
      "latter are NOT linearly separable from each other.\n",
      "\n",
      ".. topic:: References\n",
      "\n",
      "   - Fisher, R.A. \"The use of multiple measurements in taxonomic problems\"\n",
      "     Annual Eugenics, 7, Part II, 179-188 (1936); also in \"Contributions to\n",
      "     Mathematical Statistics\" (John Wiley, NY, 1950).\n",
      "   - Duda, R.O., & Hart, P.E. (1973) Pattern Classification and Scene Analysis.\n",
      "     (Q327.D83) John Wiley & Sons.  ISBN 0-471-22361-1.  See page 218.\n",
      "   - Dasarathy, B.V. (1980) \"Nosing Around the Neighborhood: A New System\n",
      "     Structure and Classification Rule for Recognition in Partially Exposed\n",
      "     Environments\".  IEEE Transactions on Pattern Analysis and Machine\n",
      "     Intelligence, Vol. PAMI-2, No. 1, 67-71.\n",
      "   - Gates, G.W. (1972) \"The Reduced Nearest Neighbor Rule\".  IEEE Transactions\n",
      "     on Information Theory, May 1972, 431-433.\n",
      "   - See also: 1988 MLC Proceedings, 54-64.  Cheeseman et al\"s AUTOCLASS II\n",
      "     conceptual clustering system finds 3 classes in the data.\n",
      "   - Many, many more ...\n"
     ]
    }
   ],
   "source": [
    "_iris = load_iris()\n",
    "print(_iris.DESCR)"
   ]
  },
  {
   "cell_type": "code",
   "execution_count": 3,
   "metadata": {},
   "outputs": [],
   "source": [
    "_Xtrain, _Xtest, _Ytrain, _Ytest = train_test_split(_iris.data, _iris.target, random_state=1)"
   ]
  },
  {
   "cell_type": "code",
   "execution_count": 4,
   "metadata": {},
   "outputs": [
    {
     "data": {
      "text/plain": [
       "KNeighborsClassifier(n_neighbors=4)"
      ]
     },
     "execution_count": 4,
     "metadata": {},
     "output_type": "execute_result"
    }
   ],
   "source": [
    "_knn = KNeighborsClassifier(n_neighbors=4)\n",
    "_knn.fit(_Xtrain, _Ytrain)"
   ]
  },
  {
   "cell_type": "code",
   "execution_count": null,
   "metadata": {},
   "outputs": [],
   "source": []
  },
  {
   "cell_type": "code",
   "execution_count": null,
   "metadata": {},
   "outputs": [],
   "source": []
  },
  {
   "cell_type": "code",
   "execution_count": 5,
   "metadata": {},
   "outputs": [],
   "source": [
    "def FloatNumber():\n",
    "    while True:\n",
    "        x = input('Type a number: ')\n",
    "        try:\n",
    "            float(x)\n",
    "        except ValueError:\n",
    "            print('Opcion no valida, intentelo de nuevo.')\n",
    "            continue\n",
    "        return x\n",
    "    \n",
    "def DataIntroduction():\n",
    "    print('\\n\\tAlgoritmo de clasificacion con KNeighborsClassifier\\n')\n",
    "    new_data = np.array([[0,0,0,0]])\n",
    "    for i in range(len(new_data[0])): #for i in range(5)\n",
    "        var = FloatNumber()\n",
    "        new_data[0,i] = var\n",
    "    return new_data\n",
    "\n",
    "def DataClassification(new_data):\n",
    "    print(new_data)\n",
    "    prediction = _knn.predict(new_data)\n",
    "    print('Class Prediction:\\n{}'.format(prediction))\n",
    "    print('Name Prediction:\\n{}'.format(_iris.target_names[prediction]))\n",
    "    time.sleep(5)\n",
    "    \n",
    "def GraphKNN():\n",
    "    print('\\n\\tGrafica del funcionamiento del algritmo con 4, numeros de vecinos.')\n",
    "    mglearn.plots.plot_knn_classification(n_neighbors=4)\n",
    "    \n",
    "    \n",
    "def TryAgain():\n",
    "    user_option = None\n",
    "    while user_option not in keys:\n",
    "        user_option = None\n",
    "        for i in keys:\n",
    "            print(i+')',TryOption[i])\n",
    "        if user_option == None:\n",
    "            user_option = input('\\nDigite una opcion: ')\n",
    "        else:\n",
    "            print(user_option,'no es una opcion valida\\nIntentelo de nuevo.')\n",
    "    return user_option\n",
    "    "
   ]
  },
  {
   "cell_type": "markdown",
   "metadata": {},
   "source": [
    "TryOption = {'1':'Continue', '2':'Exit'}\n",
    "keys = TryOption.keys()\n",
    "\n",
    "while True:\n",
    "    new_iris = DataIntroduction()\n",
    "    DataClassification(new_iris)\n",
    "    \n",
    "    option_request = TryAgain()\n",
    "    if option_request == '1':\n",
    "        pass\n",
    "    elif option_request == '2':\n",
    "        print('Lamentamos verlo irse.')\n",
    "        break\n"
   ]
  },
  {
   "cell_type": "markdown",
   "metadata": {},
   "source": [
    "TryOption = {'1':'Continue', '2':'Graph', '3':'Exit'}\n",
    "keys = TryOption.keys()\n",
    "\n",
    "while True:\n",
    "    new_iris = DataIntroduction()\n",
    "    DataClassification(new_iris)\n",
    "    \n",
    "    option_request = TryAgain()\n",
    "    if option_request == '1':\n",
    "        pass\n",
    "    \n",
    "    if option_request == '2':\n",
    "        GraphKNN()\n",
    "    \n",
    "    if option_request == '3':\n",
    "        print('Lamentamos verlo irse.')\n",
    "        break\n"
   ]
  },
  {
   "cell_type": "code",
   "execution_count": null,
   "metadata": {},
   "outputs": [
    {
     "name": "stdout",
     "output_type": "stream",
     "text": [
      "\n",
      "\tAlgoritmo de clasificacion con KNeighborsClassifier\n",
      "\n",
      "Type a number: 1\n",
      "Type a number: 2\n",
      "Type a number: 3\n",
      "Type a number: 4\n",
      "[[1 2 3 4]]\n",
      "Class Prediction:\n",
      "[1]\n",
      "Name Prediction:\n",
      "['versicolor']\n",
      "1) Continue\n",
      "2) Graph\n",
      "3) Exit\n",
      "\n",
      "Digite una opcion: 2\n"
     ]
    },
    {
     "name": "stderr",
     "output_type": "stream",
     "text": [
      "C:\\Users\\DELL.E5430.SSD\\anaconda3\\lib\\site-packages\\sklearn\\utils\\deprecation.py:86: FutureWarning: Function make_blobs is deprecated; Please import make_blobs directly from scikit-learn\n",
      "  warnings.warn(msg, category=FutureWarning)\n"
     ]
    },
    {
     "name": "stdout",
     "output_type": "stream",
     "text": [
      "\n",
      "\tGrafica del funcionamiento del algritmo con 4, numeros de vecinos.\n",
      "\n",
      "\tAlgoritmo de clasificacion con KNeighborsClassifier\n",
      "\n"
     ]
    }
   ],
   "source": [
    "TryOption = {'1':'Continue', '2':'Graph', '3':'Exit'}\n",
    "keys = TryOption.keys()\n",
    "\n",
    "while True:\n",
    "    new_iris = DataIntroduction()\n",
    "    DataClassification(new_iris)\n",
    "    \n",
    "    option_request = TryAgain()\n",
    "    if option_request == '1':\n",
    "        pass\n",
    "    \n",
    "    if option_request == '2':\n",
    "        GraphKNN()\n",
    "    \n",
    "    if option_request == '3':\n",
    "        print('Lamentamos verlo irse.')\n",
    "        break\n"
   ]
  },
  {
   "cell_type": "code",
   "execution_count": null,
   "metadata": {},
   "outputs": [],
   "source": []
  },
  {
   "cell_type": "code",
   "execution_count": null,
   "metadata": {},
   "outputs": [],
   "source": []
  }
 ],
 "metadata": {
  "kernelspec": {
   "display_name": "Python 3",
   "language": "python",
   "name": "python3"
  },
  "language_info": {
   "codemirror_mode": {
    "name": "ipython",
    "version": 3
   },
   "file_extension": ".py",
   "mimetype": "text/x-python",
   "name": "python",
   "nbconvert_exporter": "python",
   "pygments_lexer": "ipython3",
   "version": "3.7.6"
  }
 },
 "nbformat": 4,
 "nbformat_minor": 4
}
