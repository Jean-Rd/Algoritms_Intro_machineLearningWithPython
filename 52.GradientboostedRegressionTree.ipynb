{
  "nbformat": 4,
  "nbformat_minor": 0,
  "metadata": {
    "colab": {
      "name": "Untitled5.ipynb",
      "provenance": [],
      "authorship_tag": "ABX9TyOkc9o8r3vZKfG0C7yFdnan",
      "include_colab_link": true
    },
    "kernelspec": {
      "name": "python3",
      "display_name": "Python 3"
    }
  },
  "cells": [
    {
      "cell_type": "markdown",
      "metadata": {
        "id": "view-in-github",
        "colab_type": "text"
      },
      "source": [
        "<a href=\"https://colab.research.google.com/github/Jean-Rd/Algoritms_Intro_machineLearningWithPython/blob/master/52.GradientboostedRegressionTree.ipynb\" target=\"_parent\"><img src=\"https://colab.research.google.com/assets/colab-badge.svg\" alt=\"Open In Colab\"/></a>"
      ]
    },
    {
      "cell_type": "code",
      "metadata": {
        "id": "f0i3pPWXTSYF",
        "colab_type": "code",
        "colab": {}
      },
      "source": [
        "from sklearn.ensemble import GradientBoostingClassifier\n",
        "from sklearn.datasets import load_breast_cancer\n",
        "from sklearn.model_selection import train_test_split\n",
        "import numpy as np\n",
        "import matplotlib.pyplot as plt"
      ],
      "execution_count": 22,
      "outputs": []
    },
    {
      "cell_type": "code",
      "metadata": {
        "id": "4MKLUg5XTioH",
        "colab_type": "code",
        "colab": {}
      },
      "source": [
        "cancer = load_breast_cancer()"
      ],
      "execution_count": 3,
      "outputs": []
    },
    {
      "cell_type": "code",
      "metadata": {
        "id": "OQg8r3i1TitN",
        "colab_type": "code",
        "colab": {
          "base_uri": "https://localhost:8080/",
          "height": 50
        },
        "outputId": "5aca6542-28c0-4745-8ae7-972ee10996b4"
      },
      "source": [
        "X_train, X_test, y_train, y_test = train_test_split(cancer.data, cancer.target, random_state=0)\n",
        "\n",
        "# per default, have n_estimators=100, max_depth=5 ^ lr=.1\n",
        "gbrt = GradientBoostingClassifier(random_state=0).fit(X_train, y_train)\n",
        "\n",
        "print('Accuracy on training set: {:.3f}'.format(gbrt.score(X_train, y_train)))\n",
        "print('Accuracy on test set: {:.3f}'.format(gbrt.score(X_test, y_test)))\n",
        "# if train.score is 1, can be overffiting\n"
      ],
      "execution_count": 8,
      "outputs": [
        {
          "output_type": "stream",
          "text": [
            "Accuracy on training set: 1.000\n",
            "Accuracy on test set: 0.965\n"
          ],
          "name": "stdout"
        }
      ]
    },
    {
      "cell_type": "code",
      "metadata": {
        "id": "gVpyaTX-eErK",
        "colab_type": "code",
        "colab": {
          "base_uri": "https://localhost:8080/",
          "height": 50
        },
        "outputId": "753bff11-154f-4806-dad2-26a1b427b084"
      },
      "source": [
        "gbrt = GradientBoostingClassifier(random_state=0, max_depth=1).fit(X_train, y_train)\n",
        "# con una profundidad(depth) de 1; el overffiting baja mucho\n",
        "\n",
        "print('Accuracy training {:.3f}'.format(gbrt.score(X_train, y_train)))\n",
        "print('Accuracy test {:.3f}'.format(gbrt.score(X_test, y_test)))"
      ],
      "execution_count": 17,
      "outputs": [
        {
          "output_type": "stream",
          "text": [
            "Accuracy training 0.991\n",
            "Accuracy test 0.972\n"
          ],
          "name": "stdout"
        }
      ]
    },
    {
      "cell_type": "code",
      "metadata": {
        "id": "2xULhJBOTise",
        "colab_type": "code",
        "colab": {
          "base_uri": "https://localhost:8080/",
          "height": 50
        },
        "outputId": "6306c269-ba4a-4de7-fa99-34fc8a38348e"
      },
      "source": [
        "gbrt = GradientBoostingClassifier(random_state=0, learning_rate=0.01).fit(X_train, y_train)\n",
        "\n",
        "print('Accuracy training {:.3f}'.format(gbrt.score(X_train, y_train)))\n",
        "print('Accuracy test {:.3f}'.format(gbrt.score(X_test, y_test)))\n",
        "# when learining_rate=0.01, the overfitting low in 2%"
      ],
      "execution_count": 24,
      "outputs": [
        {
          "output_type": "stream",
          "text": [
            "Accuracy training 0.988\n",
            "Accuracy test 0.965\n"
          ],
          "name": "stdout"
        }
      ]
    },
    {
      "cell_type": "code",
      "metadata": {
        "id": "ihjgL-g6etQZ",
        "colab_type": "code",
        "colab": {
          "base_uri": "https://localhost:8080/",
          "height": 279
        },
        "outputId": "5b6bf151-da6d-467a-e46c-feea46be2542"
      },
      "source": [
        "def feature_importances(model, data):\n",
        "\n",
        "  n_feature = data.data.shape[1]\n",
        "  plt.barh(range(n_feature), model.feature_importances_, align='center')\n",
        "  plt.yticks(np.arange(n_feature), data.feature_names)\n",
        "  plt.xlabel('feature importances')\n",
        "  plt.ylabel('feature')\n",
        "\n",
        "feature_importances(gbrt, cancer)\n"
      ],
      "execution_count": 25,
      "outputs": [
        {
          "output_type": "display_data",
          "data": {
            "image/png": "[encoded data removed]",
            "text/plain": [
              "<Figure size 432x288 with 1 Axes>"
            ]
          },
          "metadata": {
            "tags": [],
            "needs_background": "light"
          }
        }
      ]
    },
    {
      "cell_type": "code",
      "metadata": {
        "id": "SnhX3aXEhWtb",
        "colab_type": "code",
        "colab": {
          "base_uri": "https://localhost:8080/",
          "height": 34
        },
        "outputId": "94795782-eaf0-4b73-e997-b869c8b4a24d"
      },
      "source": [
        ""
      ],
      "execution_count": 20,
      "outputs": [
        {
          "output_type": "execute_result",
          "data": {
            "text/plain": [
              "array([0, 1, 2, 3, 4])"
            ]
          },
          "metadata": {
            "tags": []
          },
          "execution_count": 20
        }
      ]
    },
    {
      "cell_type": "code",
      "metadata": {
        "id": "HSKNEqkCqpuw",
        "colab_type": "code",
        "colab": {}
      },
      "source": [
        ""
      ],
      "execution_count": null,
      "outputs": []
    }
  ]
}