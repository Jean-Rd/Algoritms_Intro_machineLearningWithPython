{
  "nbformat": 4,
  "nbformat_minor": 0,
  "metadata": {
    "colab": {
      "name": "Untitled0.ipynb",
      "provenance": [],
      "collapsed_sections": [],
      "authorship_tag": "ABX9TyPt07uCGfC8bPbSfIh/V3nf",
      "include_colab_link": true
    },
    "kernelspec": {
      "name": "python3",
      "display_name": "Python 3"
    }
  },
  "cells": [
    {
      "cell_type": "markdown",
      "metadata": {
        "id": "view-in-github",
        "colab_type": "text"
      },
      "source": [
        "<a href=\"https://colab.research.google.com/github/Jean-Rd/Algoritms_Intro_machineLearningWithPython/blob/master/grafRed_Neuronap.ipynb\" target=\"_parent\"><img src=\"https://colab.research.google.com/assets/colab-badge.svg\" alt=\"Open In Colab\"/></a>"
      ]
    },
    {
      "cell_type": "code",
      "metadata": {
        "id": "SH11Mf0IQ9FO",
        "colab_type": "code",
        "colab": {}
      },
      "source": [
        "import numpy as np\n",
        "import scipy as sc\n",
        "import matplotlib.pyplot as plt\n",
        "\n",
        "from sklearn.datasets import make_circles"
      ],
      "execution_count": 14,
      "outputs": []
    },
    {
      "cell_type": "code",
      "metadata": {
        "id": "oKOEAGpfRJRp",
        "colab_type": "code",
        "colab": {
          "base_uri": "https://localhost:8080/",
          "height": 265
        },
        "outputId": "111f3ccc-2fd1-4428-dac5-96fc4fc0370e"
      },
      "source": [
        "# p ^ n, son las dimensiones de lo que seria nuestro dataset\n",
        "p = 2\n",
        "n = 500\n",
        "\n",
        "X, Y = make_circles(n_samples=n,noise=.05, factor=.5)\n",
        "# n_samples-filas, noise-distorcion de points, factor-distancia de separacion entre circurferencias\n",
        "#transformamos y en matriz\n",
        "\n",
        "Y = Y[:, np.newaxis]\n",
        "\n",
        "plt.scatter(X[Y[:, 0] == 0,0], X[Y[:, 0] == 0,1], c='skyblue')\n",
        "#en X[Y == 0,0]-de x de la columna 0 seleccionamos en la fila a aquellos valores donde y==0\n",
        "plt.scatter(X[Y[:, 0] == 1,0], X[Y[:, 0] == 1,1], c='salmon')\n",
        "plt.axis('equal')\n",
        "#ajusta el grafico para que se vea simetrico en x ^ y.\n",
        "plt.show()"
      ],
      "execution_count": 15,
      "outputs": [
        {
          "output_type": "display_data",
          "data": {
            "image/png": "[encoded data removed]",
            "text/plain": [
              "<Figure size 432x288 with 1 Axes>"
            ]
          },
          "metadata": {
            "tags": [],
            "needs_background": "light"
          }
        }
      ]
    },
    {
      "cell_type": "code",
      "metadata": {
        "id": "kgecFkIvRJVt",
        "colab_type": "code",
        "colab": {
          "base_uri": "https://localhost:8080/",
          "height": 67
        },
        "outputId": "20b715aa-3a7e-43db-ca90-c548f0d5395e"
      },
      "source": [
        "class neural_layer():\n",
        "\n",
        "  def __init__(self, n_conn, n_neur, act_f):\n",
        "\n",
        "    self.act_f = act_f\n",
        "\n",
        "    self.b = np.random.rand(1, n_neur) * 2 - 1\n",
        "    self.W = np.random.rand(n_conn, n_neur) * 2 - 1\n",
        "\n",
        "'''\n",
        "ACA CREAMOS LA CLASE PARA CREAR LAS CAPAS NEURONALES DONDE LA FUNCION DE ACTIVACION ES UN PARAMETRO\n",
        "Y BIAS ES UN VECTOR DE UNA FILA CON n_conn DE CARACTERISTICAS, W ES UNA MATRIZ DE n_conn X n_neur,\n",
        "DONDE ESTOS DATOS DECRECEN Y CRECEN SEGUN EL LA TOPOLOGYA DE NUESTRA RED NEURONAL\n",
        "'''"
      ],
      "execution_count": 16,
      "outputs": [
        {
          "output_type": "execute_result",
          "data": {
            "application/vnd.google.colaboratory.intrinsic": {
              "type": "string"
            },
            "text/plain": [
              "'\\nACA CREAMOS LA CLASE PARA CREAR LAS CAPAS NEURONALES DONDE LA FUNCION DE ACTIVACION ES UN PARAMETRO\\nY BIAS ES UN VECTOR DE UNA FILA CON n_conn DE CARACTERISTICAS, W ES UNA MATRIZ DE n_conn X n_neur,\\nDONDE ESTOS DATOS DECRECEN Y CRECEN SEGUN EL LA TOPOLOGYA DE NUESTRA RED NEURONAL\\n'"
            ]
          },
          "metadata": {
            "tags": []
          },
          "execution_count": 16
        }
      ]
    },
    {
      "cell_type": "code",
      "metadata": {
        "id": "91TZZPY0RJQu",
        "colab_type": "code",
        "colab": {
          "base_uri": "https://localhost:8080/",
          "height": 282
        },
        "outputId": "77cfc876-3483-4935-ab90-a8ce43abe89c"
      },
      "source": [
        "#FUNCION DE ACTIVACION\n",
        "\n",
        "sigm = (lambda x: 1 / (1 + np.e ** -x),\n",
        "        lambda x: x * (1 - x))\n",
        "\n",
        "relu = lambda x: np.maximum(0, x)\n",
        "\n",
        "_x = np.linspace(-5,5,100)\n",
        "\n",
        "\n",
        "plt.plot(_x, sigm[0](_x))\n",
        "plt.show()\n",
        "'''\n",
        "CREAMOS LAS FUNCIONES QUE UTILIZAREMOS PARA REALIZAR LA CLASIFICACION\n",
        "'''"
      ],
      "execution_count": 17,
      "outputs": [
        {
          "output_type": "display_data",
          "data": {
            "image/png": "[encoded data removed]",
            "text/plain": [
              "<Figure size 432x288 with 1 Axes>"
            ]
          },
          "metadata": {
            "tags": [],
            "needs_background": "light"
          }
        },
        {
          "output_type": "execute_result",
          "data": {
            "application/vnd.google.colaboratory.intrinsic": {
              "type": "string"
            },
            "text/plain": [
              "'\\nCREAMOS LAS FUNCIONES QUE UTILIZAREMOS PARA REALIZAR LA CLASIFICACION\\n'"
            ]
          },
          "metadata": {
            "tags": []
          },
          "execution_count": 17
        }
      ]
    },
    {
      "cell_type": "code",
      "metadata": {
        "id": "hhoGCtqFzyB7",
        "colab_type": "code",
        "colab": {}
      },
      "source": [
        "def create_nn(topology, act_f):\n",
        "\n",
        "  nn = []\n",
        "\n",
        "  for l, leayer in enumerate(topology[:-1]):\n",
        "\n",
        "    nn.append(neural_layer(topology[l], topology[l+1], act_f))\n",
        "\n",
        "  return nn\n",
        "\n",
        "topology = [p, 2, 4, 8, 1]\n",
        "\n"
      ],
      "execution_count": 18,
      "outputs": []
    },
    {
      "cell_type": "code",
      "metadata": {
        "id": "JwJ_2Llq_45F",
        "colab_type": "code",
        "colab": {
          "base_uri": "https://localhost:8080/",
          "height": 116
        },
        "outputId": "9dd9320f-3fa9-4d42-e246-762a836425c8"
      },
      "source": [
        "neural_net = create_nn(topology, sigm)\n",
        "\n",
        "l2_cost = (lambda Yp, Yr: np.mean((Yp - Yr) ** 2),\n",
        "           lambda Yp, Yr: (Yp - Yr))\n",
        "\n",
        "def train(neural_net, X, Y, l2_cost, lr=.5, train = True):\n",
        "\n",
        "  out = [(None, X)]\n",
        "\n",
        "  #Forward Pass\n",
        "\n",
        "  for l, leayer in enumerate(neural_net):\n",
        "\n",
        "    z = out[-1][1] @ neural_net[l].W + neural_net[l].b\n",
        "    a = neural_net[l].act_f[0](z)\n",
        "\n",
        "    out.append((z, a))\n",
        "\n",
        "  print(l2_cost[0](out[-1][1], Y))\n",
        "\n",
        "  if train:\n",
        "\n",
        "    #Backward Pass\n",
        "    deltas = []\n",
        "\n",
        "    for _ in reversed(range(0, len(neural_net))):\n",
        "\n",
        "      z = out[l+1][0]\n",
        "      a = out[l+1][1]\n",
        "\n",
        "      print(a.shape)\n",
        "\n",
        "      if l == len(neural_net) - 1:\n",
        "\n",
        "        deltas.insert(0, l2_cost[1](a, Y) * neural_net[l].act_f[1](a))\n",
        "\n",
        "      else:\n",
        "\n",
        "        deltas.insert(0, deltas[0] @ _W.T * neural_net[l].act_f[1](a))\n",
        "\n",
        "      _W = neural_net[l].W\n",
        "    \n",
        "    #Gradient Descent\n",
        "\n",
        "      neural_net[l].b = neural_net[l].b - np.mean(deltas[0], axis=0, keepdims=True) * lr\n",
        "      # aca en np.mean, axis es para realizar solo mean de las filas ^ keepdims- para que no altere nuestra matriz\n",
        "      neural_net[l].W = neural_net[l].W - out[l][1].T @ deltas[0] * lr \n",
        "\n",
        "    return out[-1][1]\n",
        "\n",
        "\n",
        "train(neural_net, X, Y, l2_cost, .5)\n",
        "print('')"
      ],
      "execution_count": 26,
      "outputs": [
        {
          "output_type": "stream",
          "text": [
            "0.27650047483594237\n",
            "(500, 1)\n",
            "(500, 1)\n",
            "(500, 1)\n",
            "(500, 1)\n",
            "\n"
          ],
          "name": "stdout"
        }
      ]
    },
    {
      "cell_type": "code",
      "metadata": {
        "id": "e8B5kftMAYC2",
        "colab_type": "code",
        "colab": {
          "base_uri": "https://localhost:8080/",
          "height": 252
        },
        "outputId": "ae42572c-d999-4139-be03-d80900e9191a"
      },
      "source": [
        "!pip install Ipython"
      ],
      "execution_count": 1,
      "outputs": [
        {
          "output_type": "stream",
          "text": [
            "Requirement already satisfied: Ipython in /usr/local/lib/python3.6/dist-packages (5.5.0)\n",
            "Requirement already satisfied: prompt-toolkit<2.0.0,>=1.0.4 in /usr/local/lib/python3.6/dist-packages (from Ipython) (1.0.18)\n",
            "Requirement already satisfied: traitlets>=4.2 in /usr/local/lib/python3.6/dist-packages (from Ipython) (4.3.3)\n",
            "Requirement already satisfied: decorator in /usr/local/lib/python3.6/dist-packages (from Ipython) (4.4.2)\n",
            "Requirement already satisfied: pexpect; sys_platform != \"win32\" in /usr/local/lib/python3.6/dist-packages (from Ipython) (4.8.0)\n",
            "Requirement already satisfied: simplegeneric>0.8 in /usr/local/lib/python3.6/dist-packages (from Ipython) (0.8.1)\n",
            "Requirement already satisfied: pickleshare in /usr/local/lib/python3.6/dist-packages (from Ipython) (0.7.5)\n",
            "Requirement already satisfied: pygments in /usr/local/lib/python3.6/dist-packages (from Ipython) (2.1.3)\n",
            "Requirement already satisfied: setuptools>=18.5 in /usr/local/lib/python3.6/dist-packages (from Ipython) (49.1.0)\n",
            "Requirement already satisfied: six>=1.9.0 in /usr/local/lib/python3.6/dist-packages (from prompt-toolkit<2.0.0,>=1.0.4->Ipython) (1.12.0)\n",
            "Requirement already satisfied: wcwidth in /usr/local/lib/python3.6/dist-packages (from prompt-toolkit<2.0.0,>=1.0.4->Ipython) (0.2.5)\n",
            "Requirement already satisfied: ipython-genutils in /usr/local/lib/python3.6/dist-packages (from traitlets>=4.2->Ipython) (0.2.0)\n",
            "Requirement already satisfied: ptyprocess>=0.5 in /usr/local/lib/python3.6/dist-packages (from pexpect; sys_platform != \"win32\"->Ipython) (0.6.0)\n"
          ],
          "name": "stdout"
        }
      ]
    },
    {
      "cell_type": "code",
      "metadata": {
        "id": "92KrLX-d-TfH",
        "colab_type": "code",
        "colab": {}
      },
      "source": [
        "import time\n",
        "from IPython.display import clear_output"
      ],
      "execution_count": 20,
      "outputs": []
    },
    {
      "cell_type": "code",
      "metadata": {
        "colab_type": "code",
        "id": "3aLbdcY__GGA",
        "colab": {
          "base_uri": "https://localhost:8080/",
          "height": 327
        },
        "outputId": "be5a5e49-8283-4b8e-eca5-8f5d2f09170c"
      },
      "source": [
        "loss = []\n",
        "\n",
        "neural_n = create_nn(topology, sigm)\n",
        "\n",
        "for _ in range(2500):\n",
        "\n",
        "  #ENTRNANDO LA RED\n",
        "\n",
        "  Yp = train(neural_n, X, Y, l2_cost, lr=.1)\n",
        "  \n",
        "  if _ % 2 == 0:\n",
        "\n",
        "    loss.append(l2_cost[0](pY, Y))\n",
        "\n",
        "    res = 50\n",
        "\n",
        "    _x0 = np.linspace(-1.5, 1.5, res)\n",
        "    _x1 = np.linspace(-1.5, 1.5, res)\n",
        "\n",
        "    _Y = np.zeros((res, res))\n",
        "\n",
        "    for _0, x0 in enumerate(_x0):\n",
        "      for _1, x1 in enumerate(_x1):\n",
        "        \n",
        "        _Y[_0, _1] = train(neural_n, np.array([[x0, x1]]), Y, l2_cost, train=False)[0][0]\n",
        "\n",
        "    plt.pcolormesh(_x0, _x1, _Y, cmap='coolwarm')\n",
        "    plt.axis('equal')\n",
        "\n",
        "    plt.scatter(X[Y[:,0] == 0, 0], X[Y[:,1] == 0, 1], c='skyblue')\n",
        "    plt.scatter(X[Y[:,1] == 1, 0], X[Y[:,0] == 1, 1], c='salmon')\n",
        "\n",
        "    clear_output(wait=True)\n",
        "    plt.show()\n",
        "    plt.plot(range(len(loss)), loss)\n",
        "    plt.show()\n",
        "    time.sleep(.5)"
      ],
      "execution_count": 30,
      "outputs": [
        {
          "output_type": "stream",
          "text": [
            "0.30181431731687225\n",
            "(500, 1)\n",
            "(500, 1)\n",
            "(500, 1)\n",
            "(500, 1)\n",
            "0.4999999919392329\n"
          ],
          "name": "stdout"
        },
        {
          "output_type": "error",
          "ename": "TypeError",
          "evalue": "ignored",
          "traceback": [
            "\u001b[0;31m---------------------------------------------------------------------------\u001b[0m",
            "\u001b[0;31mTypeError\u001b[0m                                 Traceback (most recent call last)",
            "\u001b[0;32m<ipython-input-30-c42c1a7bb306>\u001b[0m in \u001b[0;36m<module>\u001b[0;34m()\u001b[0m\n\u001b[1;32m     23\u001b[0m       \u001b[0;32mfor\u001b[0m \u001b[0m_1\u001b[0m\u001b[0;34m,\u001b[0m \u001b[0mx1\u001b[0m \u001b[0;32min\u001b[0m \u001b[0menumerate\u001b[0m\u001b[0;34m(\u001b[0m\u001b[0m_x1\u001b[0m\u001b[0;34m)\u001b[0m\u001b[0;34m:\u001b[0m\u001b[0;34m\u001b[0m\u001b[0;34m\u001b[0m\u001b[0m\n\u001b[1;32m     24\u001b[0m \u001b[0;34m\u001b[0m\u001b[0m\n\u001b[0;32m---> 25\u001b[0;31m         \u001b[0m_Y\u001b[0m\u001b[0;34m[\u001b[0m\u001b[0m_0\u001b[0m\u001b[0;34m,\u001b[0m \u001b[0m_1\u001b[0m\u001b[0;34m]\u001b[0m \u001b[0;34m=\u001b[0m \u001b[0mtrain\u001b[0m\u001b[0;34m(\u001b[0m\u001b[0mneural_n\u001b[0m\u001b[0;34m,\u001b[0m \u001b[0mnp\u001b[0m\u001b[0;34m.\u001b[0m\u001b[0marray\u001b[0m\u001b[0;34m(\u001b[0m\u001b[0;34m[\u001b[0m\u001b[0;34m[\u001b[0m\u001b[0mx0\u001b[0m\u001b[0;34m,\u001b[0m \u001b[0mx1\u001b[0m\u001b[0;34m]\u001b[0m\u001b[0;34m]\u001b[0m\u001b[0;34m)\u001b[0m\u001b[0;34m,\u001b[0m \u001b[0mY\u001b[0m\u001b[0;34m,\u001b[0m \u001b[0ml2_cost\u001b[0m\u001b[0;34m,\u001b[0m \u001b[0mtrain\u001b[0m\u001b[0;34m=\u001b[0m\u001b[0;32mFalse\u001b[0m\u001b[0;34m)\u001b[0m\u001b[0;34m[\u001b[0m\u001b[0;36m0\u001b[0m\u001b[0;34m]\u001b[0m\u001b[0;34m[\u001b[0m\u001b[0;36m0\u001b[0m\u001b[0;34m]\u001b[0m\u001b[0;34m\u001b[0m\u001b[0;34m\u001b[0m\u001b[0m\n\u001b[0m\u001b[1;32m     26\u001b[0m \u001b[0;34m\u001b[0m\u001b[0m\n\u001b[1;32m     27\u001b[0m     \u001b[0mplt\u001b[0m\u001b[0;34m.\u001b[0m\u001b[0mpcolormesh\u001b[0m\u001b[0;34m(\u001b[0m\u001b[0m_x0\u001b[0m\u001b[0;34m,\u001b[0m \u001b[0m_x1\u001b[0m\u001b[0;34m,\u001b[0m \u001b[0m_Y\u001b[0m\u001b[0;34m,\u001b[0m \u001b[0mcmap\u001b[0m\u001b[0;34m=\u001b[0m\u001b[0;34m'coolwarm'\u001b[0m\u001b[0;34m)\u001b[0m\u001b[0;34m\u001b[0m\u001b[0;34m\u001b[0m\u001b[0m\n",
            "\u001b[0;31mTypeError\u001b[0m: 'NoneType' object is not subscriptable"
          ]
        }
      ]
    },
    {
      "cell_type": "code",
      "metadata": {
        "id": "g3-U3rQx-Tir",
        "colab_type": "code",
        "colab": {}
      },
      "source": [
        ""
      ],
      "execution_count": 60,
      "outputs": []
    },
    {
      "cell_type": "code",
      "metadata": {
        "colab_type": "code",
        "id": "bjRucj57_HAp",
        "colab": {}
      },
      "source": [
        ""
      ],
      "execution_count": 60,
      "outputs": []
    },
    {
      "cell_type": "code",
      "metadata": {
        "id": "ZAoFYo2z_IBb",
        "colab_type": "code",
        "colab": {}
      },
      "source": [
        ""
      ],
      "execution_count": null,
      "outputs": []
    },
    {
      "cell_type": "code",
      "metadata": {
        "colab_type": "code",
        "id": "wG46FZ-Y_IdI",
        "colab": {
          "base_uri": "https://localhost:8080/",
          "height": 116
        },
        "outputId": "f64455d0-8e69-49d9-f023-b3d8d8170e8c"
      },
      "source": [
        ""
      ],
      "execution_count": null,
      "outputs": [
        {
          "output_type": "execute_result",
          "data": {
            "text/plain": [
              "[<__main__.neural_layer at 0x7efcabb2ef98>,\n",
              " <__main__.neural_layer at 0x7efcabb2e1d0>,\n",
              " <__main__.neural_layer at 0x7efcabb2e470>,\n",
              " <__main__.neural_layer at 0x7efcabb2e128>,\n",
              " <__main__.neural_layer at 0x7efcabb2ea90>,\n",
              " <__main__.neural_layer at 0x7efcabb2eda0>]"
            ]
          },
          "metadata": {
            "tags": []
          },
          "execution_count": 55
        }
      ]
    },
    {
      "cell_type": "code",
      "metadata": {
        "id": "pU_2TzQh_IyE",
        "colab_type": "code",
        "colab": {
          "base_uri": "https://localhost:8080/",
          "height": 33
        },
        "outputId": "8394dcea-e18b-43ee-cec0-7ade0ea6a497"
      },
      "source": [
        ""
      ],
      "execution_count": 59,
      "outputs": [
        {
          "output_type": "execute_result",
          "data": {
            "text/plain": [
              "[2, 4, 8, 16, 8, 4]"
            ]
          },
          "metadata": {
            "tags": []
          },
          "execution_count": 59
        }
      ]
    }
  ]
}