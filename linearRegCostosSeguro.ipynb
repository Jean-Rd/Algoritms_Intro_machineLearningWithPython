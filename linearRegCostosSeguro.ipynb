{
  "nbformat": 4,
  "nbformat_minor": 0,
  "metadata": {
    "colab": {
      "name": "Untitled",
      "provenance": [],
      "authorship_tag": "ABX9TyMhb7Eq/0l5ivsdP/6HEi7B",
      "include_colab_link": true
    },
    "kernelspec": {
      "name": "python3",
      "display_name": "Python 3"
    }
  },
  "cells": [
    {
      "cell_type": "markdown",
      "metadata": {
        "id": "view-in-github",
        "colab_type": "text"
      },
      "source": [
        "<a href=\"https://colab.research.google.com/github/Jean-Rd/Algoritms_Intro_machineLearningWithPython/blob/master/linearRegCostosSeguro.ipynb\" target=\"_parent\"><img src=\"https://colab.research.google.com/assets/colab-badge.svg\" alt=\"Open In Colab\"/></a>"
      ]
    },
    {
      "cell_type": "code",
      "metadata": {
        "id": "YgpECsH-GQ4K"
      },
      "source": [
        "#import libraries\r\n",
        "import numpy as np \r\n",
        "import pandas as pd\r\n",
        "import math\r\n",
        "import matplotlib.pyplot as plt\r\n",
        "import seaborn as sns\r\n",
        "sns.set()\r\n",
        "\r\n",
        "from sklearn.metrics import mean_absolute_error\r\n",
        "from sklearn.metrics import mean_squared_error\r\n",
        "from sklearn.metrics import r2_score"
      ],
      "execution_count": 47,
      "outputs": []
    },
    {
      "cell_type": "code",
      "metadata": {
        "colab": {
          "base_uri": "https://localhost:8080/",
          "height": 194
        },
        "id": "Nf8j31oYHLx7",
        "outputId": "9a1e6bb8-8c58-4f84-e439-513e227d8113"
      },
      "source": [
        "data = pd.read_csv(r'https://raw.githubusercontent.com/Jean-Rd/Datasets/master/insurance.csv')\r\n",
        "\r\n",
        "data.head()"
      ],
      "execution_count": 48,
      "outputs": [
        {
          "output_type": "execute_result",
          "data": {
            "text/html": [
              "<div>\n",
              "<style scoped>\n",
              "    .dataframe tbody tr th:only-of-type {\n",
              "        vertical-align: middle;\n",
              "    }\n",
              "\n",
              "    .dataframe tbody tr th {\n",
              "        vertical-align: top;\n",
              "    }\n",
              "\n",
              "    .dataframe thead th {\n",
              "        text-align: right;\n",
              "    }\n",
              "</style>\n",
              "<table border=\"1\" class=\"dataframe\">\n",
              "  <thead>\n",
              "    <tr style=\"text-align: right;\">\n",
              "      <th></th>\n",
              "      <th>age</th>\n",
              "      <th>sex</th>\n",
              "      <th>bmi</th>\n",
              "      <th>children</th>\n",
              "      <th>smoker</th>\n",
              "      <th>region</th>\n",
              "      <th>charges</th>\n",
              "    </tr>\n",
              "  </thead>\n",
              "  <tbody>\n",
              "    <tr>\n",
              "      <th>0</th>\n",
              "      <td>19</td>\n",
              "      <td>female</td>\n",
              "      <td>27.900</td>\n",
              "      <td>0</td>\n",
              "      <td>yes</td>\n",
              "      <td>southwest</td>\n",
              "      <td>16884.92400</td>\n",
              "    </tr>\n",
              "    <tr>\n",
              "      <th>1</th>\n",
              "      <td>18</td>\n",
              "      <td>male</td>\n",
              "      <td>33.770</td>\n",
              "      <td>1</td>\n",
              "      <td>no</td>\n",
              "      <td>southeast</td>\n",
              "      <td>1725.55230</td>\n",
              "    </tr>\n",
              "    <tr>\n",
              "      <th>2</th>\n",
              "      <td>28</td>\n",
              "      <td>male</td>\n",
              "      <td>33.000</td>\n",
              "      <td>3</td>\n",
              "      <td>no</td>\n",
              "      <td>southeast</td>\n",
              "      <td>4449.46200</td>\n",
              "    </tr>\n",
              "    <tr>\n",
              "      <th>3</th>\n",
              "      <td>33</td>\n",
              "      <td>male</td>\n",
              "      <td>22.705</td>\n",
              "      <td>0</td>\n",
              "      <td>no</td>\n",
              "      <td>northwest</td>\n",
              "      <td>21984.47061</td>\n",
              "    </tr>\n",
              "    <tr>\n",
              "      <th>4</th>\n",
              "      <td>32</td>\n",
              "      <td>male</td>\n",
              "      <td>28.880</td>\n",
              "      <td>0</td>\n",
              "      <td>no</td>\n",
              "      <td>northwest</td>\n",
              "      <td>3866.85520</td>\n",
              "    </tr>\n",
              "  </tbody>\n",
              "</table>\n",
              "</div>"
            ],
            "text/plain": [
              "   age     sex     bmi  children smoker     region      charges\n",
              "0   19  female  27.900         0    yes  southwest  16884.92400\n",
              "1   18    male  33.770         1     no  southeast   1725.55230\n",
              "2   28    male  33.000         3     no  southeast   4449.46200\n",
              "3   33    male  22.705         0     no  northwest  21984.47061\n",
              "4   32    male  28.880         0     no  northwest   3866.85520"
            ]
          },
          "metadata": {
            "tags": []
          },
          "execution_count": 48
        }
      ]
    },
    {
      "cell_type": "code",
      "metadata": {
        "colab": {
          "base_uri": "https://localhost:8080/"
        },
        "id": "Y2vmjTDbHL1a",
        "outputId": "4d0be068-8913-4d52-8713-223a0cfe6b27"
      },
      "source": [
        "data.sex.value_counts()"
      ],
      "execution_count": 49,
      "outputs": [
        {
          "output_type": "execute_result",
          "data": {
            "text/plain": [
              "male      676\n",
              "female    662\n",
              "Name: sex, dtype: int64"
            ]
          },
          "metadata": {
            "tags": []
          },
          "execution_count": 49
        }
      ]
    },
    {
      "cell_type": "code",
      "metadata": {
        "id": "5P4BXltiIAQx"
      },
      "source": [
        "sns.set_style('white')"
      ],
      "execution_count": 50,
      "outputs": []
    },
    {
      "cell_type": "code",
      "metadata": {
        "colab": {
          "base_uri": "https://localhost:8080/",
          "height": 338
        },
        "id": "xVCOjyAzHL4o",
        "outputId": "eb0ce06e-2375-482a-b8d0-161853e6ae2d"
      },
      "source": [
        "plt.figure(figsize=(9,5))\r\n",
        "\r\n",
        "data.charges.hist(bins=120)"
      ],
      "execution_count": 51,
      "outputs": [
        {
          "output_type": "execute_result",
          "data": {
            "text/plain": [
              "<matplotlib.axes._subplots.AxesSubplot at 0x7f9dc36309e8>"
            ]
          },
          "metadata": {
            "tags": []
          },
          "execution_count": 51
        },
        {
          "output_type": "display_data",
          "data": {
            "image/png": "[encoded data removed]",
            "text/plain": [
              "<Figure size 648x360 with 1 Axes>"
            ]
          },
          "metadata": {
            "tags": []
          }
        }
      ]
    },
    {
      "cell_type": "code",
      "metadata": {
        "colab": {
          "base_uri": "https://localhost:8080/",
          "height": 285
        },
        "id": "PL-qfs85IL8G",
        "outputId": "ede14fd2-48e9-406d-baf5-49231a4bc3b7"
      },
      "source": [
        "fig, axes = plt.subplots(1,2, sharey=True)\r\n",
        "\r\n",
        "sns.scatterplot(x='age', y='charges', data=data, ax=axes[0])\r\n",
        "sns.scatterplot(x='bmi', y='charges', data=data, ax=axes[1])\r\n",
        "\r\n",
        "plt.show()"
      ],
      "execution_count": 52,
      "outputs": [
        {
          "output_type": "display_data",
          "data": {
            "image/png": "[encoded data removed]",
            "text/plain": [
              "<Figure size 432x288 with 2 Axes>"
            ]
          },
          "metadata": {
            "tags": []
          }
        }
      ]
    },
    {
      "cell_type": "code",
      "metadata": {
        "colab": {
          "base_uri": "https://localhost:8080/",
          "height": 338
        },
        "id": "7CAokbimIL-t",
        "outputId": "9320af56-0c94-43f7-9297-4a27efdf916a"
      },
      "source": [
        "plt.figure(figsize=(9,5))\r\n",
        "\r\n",
        "sns.boxplot(x='sex', y='charges', data=data)\r\n",
        "plt.show()"
      ],
      "execution_count": 53,
      "outputs": [
        {
          "output_type": "display_data",
          "data": {
            "image/png": "[encoded data removed]",
            "text/plain": [
              "<Figure size 648x360 with 1 Axes>"
            ]
          },
          "metadata": {
            "tags": []
          }
        }
      ]
    },
    {
      "cell_type": "code",
      "metadata": {
        "id": "gnRZoUlFLzPz",
        "outputId": "d8d2b429-3166-4989-b203-8af918f1cadc",
        "colab": {
          "base_uri": "https://localhost:8080/",
          "height": 338
        }
      },
      "source": [
        "plt.figure(figsize=(9,5))\r\n",
        "\r\n",
        "sns.boxplot(x='children', y='charges', data=data)\r\n",
        "plt.show()"
      ],
      "execution_count": 54,
      "outputs": [
        {
          "output_type": "display_data",
          "data": {
            "image/png": "[encoded data removed]",
            "text/plain": [
              "<Figure size 648x360 with 1 Axes>"
            ]
          },
          "metadata": {
            "tags": []
          }
        }
      ]
    },
    {
      "cell_type": "code",
      "metadata": {
        "id": "8BKxT8iYLzSi",
        "outputId": "51d140a8-8e17-4a77-9f31-1db74af2435f",
        "colab": {
          "base_uri": "https://localhost:8080/",
          "height": 338
        }
      },
      "source": [
        "plt.figure(figsize=(9,5))\r\n",
        "\r\n",
        "sns.boxplot(x='smoker', y='charges', data=data)\r\n",
        "plt.show()"
      ],
      "execution_count": 55,
      "outputs": [
        {
          "output_type": "display_data",
          "data": {
            "image/png": "[encoded data removed]",
            "text/plain": [
              "<Figure size 648x360 with 1 Axes>"
            ]
          },
          "metadata": {
            "tags": []
          }
        }
      ]
    },
    {
      "cell_type": "code",
      "metadata": {
        "id": "t2G7rSqLLzVb",
        "outputId": "f1c60576-ed96-44a7-ff65-1323e5ffb8cc",
        "colab": {
          "base_uri": "https://localhost:8080/",
          "height": 338
        }
      },
      "source": [
        "plt.figure(figsize=(9,5))\r\n",
        "\r\n",
        "sns.boxplot(x='region', y='charges', data=data)\r\n",
        "plt.show()"
      ],
      "execution_count": 56,
      "outputs": [
        {
          "output_type": "display_data",
          "data": {
            "image/png": "[encoded data removed]",
            "text/plain": [
              "<Figure size 648x360 with 1 Axes>"
            ]
          },
          "metadata": {
            "tags": []
          }
        }
      ]
    },
    {
      "cell_type": "code",
      "metadata": {
        "id": "W4Pg27sELzYI",
        "outputId": "f1697aca-2e47-4fcf-ecce-3676df0cc8c4",
        "colab": {
          "base_uri": "https://localhost:8080/",
          "height": 194
        }
      },
      "source": [
        "data.head()"
      ],
      "execution_count": 57,
      "outputs": [
        {
          "output_type": "execute_result",
          "data": {
            "text/html": [
              "<div>\n",
              "<style scoped>\n",
              "    .dataframe tbody tr th:only-of-type {\n",
              "        vertical-align: middle;\n",
              "    }\n",
              "\n",
              "    .dataframe tbody tr th {\n",
              "        vertical-align: top;\n",
              "    }\n",
              "\n",
              "    .dataframe thead th {\n",
              "        text-align: right;\n",
              "    }\n",
              "</style>\n",
              "<table border=\"1\" class=\"dataframe\">\n",
              "  <thead>\n",
              "    <tr style=\"text-align: right;\">\n",
              "      <th></th>\n",
              "      <th>age</th>\n",
              "      <th>sex</th>\n",
              "      <th>bmi</th>\n",
              "      <th>children</th>\n",
              "      <th>smoker</th>\n",
              "      <th>region</th>\n",
              "      <th>charges</th>\n",
              "    </tr>\n",
              "  </thead>\n",
              "  <tbody>\n",
              "    <tr>\n",
              "      <th>0</th>\n",
              "      <td>19</td>\n",
              "      <td>female</td>\n",
              "      <td>27.900</td>\n",
              "      <td>0</td>\n",
              "      <td>yes</td>\n",
              "      <td>southwest</td>\n",
              "      <td>16884.92400</td>\n",
              "    </tr>\n",
              "    <tr>\n",
              "      <th>1</th>\n",
              "      <td>18</td>\n",
              "      <td>male</td>\n",
              "      <td>33.770</td>\n",
              "      <td>1</td>\n",
              "      <td>no</td>\n",
              "      <td>southeast</td>\n",
              "      <td>1725.55230</td>\n",
              "    </tr>\n",
              "    <tr>\n",
              "      <th>2</th>\n",
              "      <td>28</td>\n",
              "      <td>male</td>\n",
              "      <td>33.000</td>\n",
              "      <td>3</td>\n",
              "      <td>no</td>\n",
              "      <td>southeast</td>\n",
              "      <td>4449.46200</td>\n",
              "    </tr>\n",
              "    <tr>\n",
              "      <th>3</th>\n",
              "      <td>33</td>\n",
              "      <td>male</td>\n",
              "      <td>22.705</td>\n",
              "      <td>0</td>\n",
              "      <td>no</td>\n",
              "      <td>northwest</td>\n",
              "      <td>21984.47061</td>\n",
              "    </tr>\n",
              "    <tr>\n",
              "      <th>4</th>\n",
              "      <td>32</td>\n",
              "      <td>male</td>\n",
              "      <td>28.880</td>\n",
              "      <td>0</td>\n",
              "      <td>no</td>\n",
              "      <td>northwest</td>\n",
              "      <td>3866.85520</td>\n",
              "    </tr>\n",
              "  </tbody>\n",
              "</table>\n",
              "</div>"
            ],
            "text/plain": [
              "   age     sex     bmi  children smoker     region      charges\n",
              "0   19  female  27.900         0    yes  southwest  16884.92400\n",
              "1   18    male  33.770         1     no  southeast   1725.55230\n",
              "2   28    male  33.000         3     no  southeast   4449.46200\n",
              "3   33    male  22.705         0     no  northwest  21984.47061\n",
              "4   32    male  28.880         0     no  northwest   3866.85520"
            ]
          },
          "metadata": {
            "tags": []
          },
          "execution_count": 57
        }
      ]
    },
    {
      "cell_type": "code",
      "metadata": {
        "colab": {
          "base_uri": "https://localhost:8080/"
        },
        "id": "ce7FA0uNO8KW",
        "outputId": "e42c8a3f-ed42-4579-ac59-c8f27f71db55"
      },
      "source": [
        "male_mean = data[data.sex == 'male']['charges'].mean()\r\n",
        "\r\n",
        "female_mean = data[data.sex == 'female']['charges'].mean()\r\n",
        "\r\n",
        "std_male = np.std(data[data.sex == 'male']['charges'])\r\n",
        "\r\n",
        "std_female = np.std(data[data.sex == 'female']['charges'])\r\n",
        "\r\n",
        "print('male std {:.2f} and mean {:.2f}'.format(std_male, male_mean))\r\n",
        "print('female std {:.2f} and mean {:.2f}'.format(std_female, female_mean))"
      ],
      "execution_count": 60,
      "outputs": [
        {
          "output_type": "stream",
          "text": [
            "male std 12961.43 and mean 13956.75\n",
            "female std 11120.30 and mean 12569.58\n"
          ],
          "name": "stdout"
        }
      ]
    },
    {
      "cell_type": "code",
      "metadata": {
        "id": "ZONT7uTtO8N8",
        "outputId": "27033cab-fa58-4d8a-b533-660ff9dae1c4",
        "colab": {
          "base_uri": "https://localhost:8080/"
        }
      },
      "source": [
        "Ysmoker_mean = data[data.smoker == 'yes']['charges'].mean()\r\n",
        "\r\n",
        "Nsmoker_mean = data[data.smoker == 'no']['charges'].mean()\r\n",
        "\r\n",
        "std_Ysmoker = np.std(data[data.smoker == 'yes']['charges'])\r\n",
        "\r\n",
        "std_Nsmoker = np.std(data[data.smoker == 'no']['charges'])\r\n",
        "\r\n",
        "print('smoker yes std {:.2f} and mean {:.2f}'.format(std_Ysmoker, Ysmoker_mean))\r\n",
        "print('smoker no {:.2f} and mean {:.2f}'.format(std_Nsmoker, Nsmoker_mean))"
      ],
      "execution_count": 61,
      "outputs": [
        {
          "output_type": "stream",
          "text": [
            "smoker yes std 11520.47 and mean 32050.23\n",
            "smoker no 5990.96 and mean 8434.27\n"
          ],
          "name": "stdout"
        }
      ]
    },
    {
      "cell_type": "code",
      "metadata": {
        "id": "n9jcJuf8O8QP",
        "outputId": "2d306b0b-797e-483c-cdba-5a6f8cb27bf7",
        "colab": {
          "base_uri": "https://localhost:8080/",
          "height": 399
        }
      },
      "source": [
        "region = pd.get_dummies(data.region)\r\n",
        "smoker = pd.get_dummies(data.smoker, drop_first=True)\r\n",
        "\r\n",
        "smoker.columns = ['smoker']\r\n",
        "\r\n",
        "smoker"
      ],
      "execution_count": 70,
      "outputs": [
        {
          "output_type": "execute_result",
          "data": {
            "text/html": [
              "<div>\n",
              "<style scoped>\n",
              "    .dataframe tbody tr th:only-of-type {\n",
              "        vertical-align: middle;\n",
              "    }\n",
              "\n",
              "    .dataframe tbody tr th {\n",
              "        vertical-align: top;\n",
              "    }\n",
              "\n",
              "    .dataframe thead th {\n",
              "        text-align: right;\n",
              "    }\n",
              "</style>\n",
              "<table border=\"1\" class=\"dataframe\">\n",
              "  <thead>\n",
              "    <tr style=\"text-align: right;\">\n",
              "      <th></th>\n",
              "      <th>smoker</th>\n",
              "    </tr>\n",
              "  </thead>\n",
              "  <tbody>\n",
              "    <tr>\n",
              "      <th>0</th>\n",
              "      <td>1</td>\n",
              "    </tr>\n",
              "    <tr>\n",
              "      <th>1</th>\n",
              "      <td>0</td>\n",
              "    </tr>\n",
              "    <tr>\n",
              "      <th>2</th>\n",
              "      <td>0</td>\n",
              "    </tr>\n",
              "    <tr>\n",
              "      <th>3</th>\n",
              "      <td>0</td>\n",
              "    </tr>\n",
              "    <tr>\n",
              "      <th>4</th>\n",
              "      <td>0</td>\n",
              "    </tr>\n",
              "    <tr>\n",
              "      <th>...</th>\n",
              "      <td>...</td>\n",
              "    </tr>\n",
              "    <tr>\n",
              "      <th>1333</th>\n",
              "      <td>0</td>\n",
              "    </tr>\n",
              "    <tr>\n",
              "      <th>1334</th>\n",
              "      <td>0</td>\n",
              "    </tr>\n",
              "    <tr>\n",
              "      <th>1335</th>\n",
              "      <td>0</td>\n",
              "    </tr>\n",
              "    <tr>\n",
              "      <th>1336</th>\n",
              "      <td>0</td>\n",
              "    </tr>\n",
              "    <tr>\n",
              "      <th>1337</th>\n",
              "      <td>1</td>\n",
              "    </tr>\n",
              "  </tbody>\n",
              "</table>\n",
              "<p>1338 rows × 1 columns</p>\n",
              "</div>"
            ],
            "text/plain": [
              "      smoker\n",
              "0          1\n",
              "1          0\n",
              "2          0\n",
              "3          0\n",
              "4          0\n",
              "...      ...\n",
              "1333       0\n",
              "1334       0\n",
              "1335       0\n",
              "1336       0\n",
              "1337       1\n",
              "\n",
              "[1338 rows x 1 columns]"
            ]
          },
          "metadata": {
            "tags": []
          },
          "execution_count": 70
        }
      ]
    },
    {
      "cell_type": "code",
      "metadata": {
        "id": "BJuUMS-VSxqL"
      },
      "source": [
        "df = np.copy(data.drop(['smoker', 'region'], axis=1))\r\n",
        "\r\n",
        "col = ['age', 'sex', 'bmi', 'children', 'charges']\r\n",
        "\r\n",
        "df = pd.DataFrame(df)\r\n",
        "\r\n",
        "df.columns = col"
      ],
      "execution_count": 79,
      "outputs": []
    },
    {
      "cell_type": "code",
      "metadata": {
        "id": "9BKReyBCS0jB"
      },
      "source": [
        "\r\n",
        "y = np.copy(df.charges)\r\n"
      ],
      "execution_count": 83,
      "outputs": []
    },
    {
      "cell_type": "code",
      "metadata": {
        "id": "BBm5vQQpS0lm"
      },
      "source": [
        "#df = df.drop('charges', axis=1)\r\n",
        "\r\n",
        "frame = [df, region, smoker]\r\n",
        "\r\n",
        "dtaframe = pd.concat(frame, axis=1)\r\n",
        "\r\n",
        "dtaframe = dtaframe.drop('sex', axis=1)"
      ],
      "execution_count": 91,
      "outputs": []
    },
    {
      "cell_type": "code",
      "metadata": {
        "id": "En7tp3IcVOv-",
        "outputId": "6d597470-b2b8-4349-e86e-f1bc7ea16f8d",
        "colab": {
          "base_uri": "https://localhost:8080/",
          "height": 194
        }
      },
      "source": [
        "dtaframe.head()"
      ],
      "execution_count": 92,
      "outputs": [
        {
          "output_type": "execute_result",
          "data": {
            "text/html": [
              "<div>\n",
              "<style scoped>\n",
              "    .dataframe tbody tr th:only-of-type {\n",
              "        vertical-align: middle;\n",
              "    }\n",
              "\n",
              "    .dataframe tbody tr th {\n",
              "        vertical-align: top;\n",
              "    }\n",
              "\n",
              "    .dataframe thead th {\n",
              "        text-align: right;\n",
              "    }\n",
              "</style>\n",
              "<table border=\"1\" class=\"dataframe\">\n",
              "  <thead>\n",
              "    <tr style=\"text-align: right;\">\n",
              "      <th></th>\n",
              "      <th>age</th>\n",
              "      <th>bmi</th>\n",
              "      <th>children</th>\n",
              "      <th>northeast</th>\n",
              "      <th>northwest</th>\n",
              "      <th>southeast</th>\n",
              "      <th>southwest</th>\n",
              "      <th>smoker</th>\n",
              "    </tr>\n",
              "  </thead>\n",
              "  <tbody>\n",
              "    <tr>\n",
              "      <th>0</th>\n",
              "      <td>19</td>\n",
              "      <td>27.9</td>\n",
              "      <td>0</td>\n",
              "      <td>0</td>\n",
              "      <td>0</td>\n",
              "      <td>0</td>\n",
              "      <td>1</td>\n",
              "      <td>1</td>\n",
              "    </tr>\n",
              "    <tr>\n",
              "      <th>1</th>\n",
              "      <td>18</td>\n",
              "      <td>33.77</td>\n",
              "      <td>1</td>\n",
              "      <td>0</td>\n",
              "      <td>0</td>\n",
              "      <td>1</td>\n",
              "      <td>0</td>\n",
              "      <td>0</td>\n",
              "    </tr>\n",
              "    <tr>\n",
              "      <th>2</th>\n",
              "      <td>28</td>\n",
              "      <td>33</td>\n",
              "      <td>3</td>\n",
              "      <td>0</td>\n",
              "      <td>0</td>\n",
              "      <td>1</td>\n",
              "      <td>0</td>\n",
              "      <td>0</td>\n",
              "    </tr>\n",
              "    <tr>\n",
              "      <th>3</th>\n",
              "      <td>33</td>\n",
              "      <td>22.705</td>\n",
              "      <td>0</td>\n",
              "      <td>0</td>\n",
              "      <td>1</td>\n",
              "      <td>0</td>\n",
              "      <td>0</td>\n",
              "      <td>0</td>\n",
              "    </tr>\n",
              "    <tr>\n",
              "      <th>4</th>\n",
              "      <td>32</td>\n",
              "      <td>28.88</td>\n",
              "      <td>0</td>\n",
              "      <td>0</td>\n",
              "      <td>1</td>\n",
              "      <td>0</td>\n",
              "      <td>0</td>\n",
              "      <td>0</td>\n",
              "    </tr>\n",
              "  </tbody>\n",
              "</table>\n",
              "</div>"
            ],
            "text/plain": [
              "  age     bmi children  northeast  northwest  southeast  southwest  smoker\n",
              "0  19    27.9        0          0          0          0          1       1\n",
              "1  18   33.77        1          0          0          1          0       0\n",
              "2  28      33        3          0          0          1          0       0\n",
              "3  33  22.705        0          0          1          0          0       0\n",
              "4  32   28.88        0          0          1          0          0       0"
            ]
          },
          "metadata": {
            "tags": []
          },
          "execution_count": 92
        }
      ]
    },
    {
      "cell_type": "code",
      "metadata": {
        "id": "cEwKwKkDS0oB"
      },
      "source": [
        "dtaframe.age = dtaframe.age.astype(int)\r\n",
        "dtaframe.bmi = dtaframe.bmi.astype(int)\r\n",
        "dtaframe.children = dtaframe.children.astype(int)"
      ],
      "execution_count": 94,
      "outputs": []
    },
    {
      "cell_type": "code",
      "metadata": {
        "id": "LoPwNlufS0qx",
        "outputId": "22ac13b7-2516-4121-f003-f9627e9fd496",
        "colab": {
          "base_uri": "https://localhost:8080/"
        }
      },
      "source": [
        "dtaframe.info()"
      ],
      "execution_count": 99,
      "outputs": [
        {
          "output_type": "stream",
          "text": [
            "<class 'pandas.core.frame.DataFrame'>\n",
            "RangeIndex: 1338 entries, 0 to 1337\n",
            "Data columns (total 8 columns):\n",
            " #   Column     Non-Null Count  Dtype\n",
            "---  ------     --------------  -----\n",
            " 0   age        1338 non-null   int64\n",
            " 1   bmi        1338 non-null   int64\n",
            " 2   children   1338 non-null   int64\n",
            " 3   northeast  1338 non-null   uint8\n",
            " 4   northwest  1338 non-null   uint8\n",
            " 5   southeast  1338 non-null   uint8\n",
            " 6   southwest  1338 non-null   uint8\n",
            " 7   smoker     1338 non-null   uint8\n",
            "dtypes: int64(3), uint8(5)\n",
            "memory usage: 38.0 KB\n"
          ],
          "name": "stdout"
        }
      ]
    },
    {
      "cell_type": "code",
      "metadata": {
        "id": "ophAUqtRZUfc"
      },
      "source": [
        "X = dtaframe / np.max(dtaframe)\r\n",
        "\r\n",
        "_X = (dtaframe - np.min(dtaframe)) / (np.max(dtaframe) - np.min(dtaframe))"
      ],
      "execution_count": 166,
      "outputs": []
    },
    {
      "cell_type": "code",
      "metadata": {
        "id": "0h8L2t0tV4cv"
      },
      "source": [
        "from sklearn.model_selection import train_test_split\r\n",
        "\r\n",
        "X_train, X_test, y_train, y_test = train_test_split(_X, y, random_state=2)"
      ],
      "execution_count": 167,
      "outputs": []
    },
    {
      "cell_type": "code",
      "metadata": {
        "id": "65j1O5arV4gI"
      },
      "source": [
        "y_train = y_train[:, np.newaxis]\r\n",
        "y_test = y_test[:, np.newaxis]\r\n"
      ],
      "execution_count": 168,
      "outputs": []
    },
    {
      "cell_type": "code",
      "metadata": {
        "id": "9OHuL6J1V4jT",
        "outputId": "43ae1a9b-3b0a-44e1-c62d-9509d99080f4",
        "colab": {
          "base_uri": "https://localhost:8080/"
        }
      },
      "source": [
        "y_train.shape"
      ],
      "execution_count": 169,
      "outputs": [
        {
          "output_type": "execute_result",
          "data": {
            "text/plain": [
              "(1003, 1)"
            ]
          },
          "metadata": {
            "tags": []
          },
          "execution_count": 169
        }
      ]
    },
    {
      "cell_type": "code",
      "metadata": {
        "id": "ofR6kmwOV45B"
      },
      "source": [
        "from sklearn.linear_model import LinearRegression\r\n",
        "\r\n",
        "lr = LinearRegression(fit_intercept=True, normalize=False).fit(X_train, y_train)\r\n",
        "\r\n",
        "pred = lr.predict(X_test)"
      ],
      "execution_count": 170,
      "outputs": []
    },
    {
      "cell_type": "code",
      "metadata": {
        "id": "KM1keB_BV48W",
        "outputId": "595b2dfb-ccdd-4ef7-8603-2e6aae750576",
        "colab": {
          "base_uri": "https://localhost:8080/"
        }
      },
      "source": [
        "lr.coef_"
      ],
      "execution_count": 171,
      "outputs": [
        {
          "output_type": "execute_result",
          "data": {
            "text/plain": [
              "array([[11387.58798322, 12631.8558908 ,  3061.86363473,   564.69912202,\n",
              "          165.2333777 ,  -264.47314933,  -465.45935039, 23737.24569502]])"
            ]
          },
          "metadata": {
            "tags": []
          },
          "execution_count": 171
        }
      ]
    },
    {
      "cell_type": "code",
      "metadata": {
        "id": "Kv_Ib-qtZrIA",
        "outputId": "a8effb31-d4a6-45ac-d03b-f7c9c744dffc",
        "colab": {
          "base_uri": "https://localhost:8080/"
        }
      },
      "source": [
        "lr.intercept_"
      ],
      "execution_count": 172,
      "outputs": [
        {
          "output_type": "execute_result",
          "data": {
            "text/plain": [
              "array([-2503.24037482])"
            ]
          },
          "metadata": {
            "tags": []
          },
          "execution_count": 172
        }
      ]
    },
    {
      "cell_type": "code",
      "metadata": {
        "id": "N7Yew3EUZrK7",
        "outputId": "9156d3b7-b226-43ce-d5f3-3cf29a50c88d",
        "colab": {
          "base_uri": "https://localhost:8080/"
        }
      },
      "source": [
        "mean_absolute_error(y_test, pred)"
      ],
      "execution_count": 173,
      "outputs": [
        {
          "output_type": "execute_result",
          "data": {
            "text/plain": [
              "4192.76278775067"
            ]
          },
          "metadata": {
            "tags": []
          },
          "execution_count": 173
        }
      ]
    },
    {
      "cell_type": "code",
      "metadata": {
        "id": "hjUbc4bhefpo",
        "outputId": "fd040527-597f-407c-85da-46e8e8089a66",
        "colab": {
          "base_uri": "https://localhost:8080/"
        }
      },
      "source": [
        "np.sqrt(mean_absolute_error(y_test, pred))"
      ],
      "execution_count": 174,
      "outputs": [
        {
          "output_type": "execute_result",
          "data": {
            "text/plain": [
              "64.75154660508636"
            ]
          },
          "metadata": {
            "tags": []
          },
          "execution_count": 174
        }
      ]
    },
    {
      "cell_type": "code",
      "metadata": {
        "id": "INkAnFA6eaOv",
        "outputId": "73a50b4e-95d4-42d8-9dd1-fff3a9d9c81c",
        "colab": {
          "base_uri": "https://localhost:8080/"
        }
      },
      "source": [
        "mean_squared_error(y_test, pred)"
      ],
      "execution_count": 175,
      "outputs": [
        {
          "output_type": "execute_result",
          "data": {
            "text/plain": [
              "37779618.67922575"
            ]
          },
          "metadata": {
            "tags": []
          },
          "execution_count": 175
        }
      ]
    },
    {
      "cell_type": "code",
      "metadata": {
        "id": "hxPe_ihQf2sS",
        "outputId": "f0bd97b2-0363-429a-d0b3-183e527d7cde",
        "colab": {
          "base_uri": "https://localhost:8080/",
          "height": 284
        }
      },
      "source": [
        "fig, ax = plt.subplots()\r\n",
        "ax.plot([0,1],[0,1], transform=ax.transAxes)\r\n",
        "\r\n",
        "plt.scatter(y_test, pred, alpha=.5)"
      ],
      "execution_count": 206,
      "outputs": [
        {
          "output_type": "execute_result",
          "data": {
            "text/plain": [
              "<matplotlib.collections.PathCollection at 0x7f9dc19ed7b8>"
            ]
          },
          "metadata": {
            "tags": []
          },
          "execution_count": 206
        },
        {
          "output_type": "display_data",
          "data": {
            "image/png": "[encoded data removed]",
            "text/plain": [
              "<Figure size 432x288 with 1 Axes>"
            ]
          },
          "metadata": {
            "tags": []
          }
        }
      ]
    },
    {
      "cell_type": "code",
      "metadata": {
        "id": "SsvrEcFJf2u-",
        "outputId": "1069cc5c-4f10-4983-bc1a-0dcae882051b",
        "colab": {
          "base_uri": "https://localhost:8080/"
        }
      },
      "source": [
        "from sklearn.decomposition import PCA\r\n",
        "\r\n",
        "pca = PCA(n_components=1)\r\n",
        "\r\n",
        "pca.fit(X_test)\r\n",
        "\r\n",
        "X_pca = pca.transform(X_test)\r\n",
        "\r\n",
        "X_pca"
      ],
      "execution_count": 200,
      "outputs": [
        {
          "output_type": "execute_result",
          "data": {
            "text/plain": [
              "array([[-0.29907121],\n",
              "       [-0.28553053],\n",
              "       [-0.29186209],\n",
              "       [ 0.7657996 ],\n",
              "       [-0.31028886],\n",
              "       [ 0.79788099],\n",
              "       [-0.47827121],\n",
              "       [-0.29322233],\n",
              "       [-0.48297164],\n",
              "       [-0.46732795],\n",
              "       [-0.47712277],\n",
              "       [ 0.78749044],\n",
              "       [ 0.94677173],\n",
              "       [ 0.75086648],\n",
              "       [-0.27000078],\n",
              "       [ 0.76097003],\n",
              "       [-0.29424513],\n",
              "       [-0.46393472],\n",
              "       [ 0.95541719],\n",
              "       [-0.27966555],\n",
              "       [-0.46890346],\n",
              "       [-0.28851692],\n",
              "       [-0.06903308],\n",
              "       [-0.08513664],\n",
              "       [ 0.98897626],\n",
              "       [-0.30101048],\n",
              "       [-0.29924167],\n",
              "       [ 0.79870202],\n",
              "       [-0.26733747],\n",
              "       [-0.48795209],\n",
              "       [ 0.7871208 ],\n",
              "       [-0.46497013],\n",
              "       [-0.29883833],\n",
              "       [-0.4815792 ],\n",
              "       [ 0.74748328],\n",
              "       [ 0.79153682],\n",
              "       [ 1.005544  ],\n",
              "       [-0.28041156],\n",
              "       [-0.0824379 ],\n",
              "       [ 0.76747205],\n",
              "       [-0.48735546],\n",
              "       [-0.0680077 ],\n",
              "       [-0.47864086],\n",
              "       [-0.28989326],\n",
              "       [ 0.78281873],\n",
              "       [-0.2746066 ],\n",
              "       [-0.47764936],\n",
              "       [ 0.78926424],\n",
              "       [ 0.80411212],\n",
              "       [-0.26025491],\n",
              "       [-0.2865111 ],\n",
              "       [-0.30327957],\n",
              "       [-0.26792556],\n",
              "       [-0.2575224 ],\n",
              "       [-0.28742499],\n",
              "       [-0.23843751],\n",
              "       [-0.29557167],\n",
              "       [ 0.77868712],\n",
              "       [-0.28455578],\n",
              "       [ 0.98326914],\n",
              "       [-0.49515208],\n",
              "       [-0.29936234],\n",
              "       [-0.46880213],\n",
              "       [ 0.98989772],\n",
              "       [-0.30599093],\n",
              "       [-0.27222945],\n",
              "       [-0.26059584],\n",
              "       [ 0.77780957],\n",
              "       [ 0.76338436],\n",
              "       [-0.45269185],\n",
              "       [-0.2792344 ],\n",
              "       [ 0.76897495],\n",
              "       [-0.48453364],\n",
              "       [-0.26961005],\n",
              "       [-0.2669772 ],\n",
              "       [-0.26938306],\n",
              "       [-0.26549106],\n",
              "       [-0.46312372],\n",
              "       [ 0.77721294],\n",
              "       [-0.46636258],\n",
              "       [-0.30497162],\n",
              "       [-0.27839055],\n",
              "       [ 0.83220715],\n",
              "       [-0.09207156],\n",
              "       [ 0.77078004],\n",
              "       [-0.47736236],\n",
              "       [ 0.98289949],\n",
              "       [-0.4854273 ],\n",
              "       [-0.30416909],\n",
              "       [ 0.79834848],\n",
              "       [-0.28364279],\n",
              "       [-0.26915608],\n",
              "       [ 0.75769075],\n",
              "       [-0.27989603],\n",
              "       [-0.2857288 ],\n",
              "       [-0.27468328],\n",
              "       [-0.44939647],\n",
              "       [ 0.77542304],\n",
              "       [-0.30797237],\n",
              "       [ 0.96918835],\n",
              "       [-0.26064474],\n",
              "       [ 0.77780957],\n",
              "       [-0.31123056],\n",
              "       [ 0.79049792],\n",
              "       [-0.46844859],\n",
              "       [-0.30423324],\n",
              "       [-0.46470182],\n",
              "       [ 0.76322999],\n",
              "       [-0.2669772 ],\n",
              "       [-0.10213055],\n",
              "       [ 0.77259865],\n",
              "       [-0.29338781],\n",
              "       [-0.09006057],\n",
              "       [-0.26354266],\n",
              "       [-0.28508826],\n",
              "       [-0.4936466 ],\n",
              "       [-0.27395344],\n",
              "       [-0.45829764],\n",
              "       [-0.28220146],\n",
              "       [ 0.97486676],\n",
              "       [-0.30015815],\n",
              "       [-0.29301817],\n",
              "       [ 0.80916519],\n",
              "       [-0.26848269],\n",
              "       [ 0.80045059],\n",
              "       [-0.10184356],\n",
              "       [ 0.95010752],\n",
              "       [-0.27876691],\n",
              "       [-0.48656314],\n",
              "       [ 0.78659421],\n",
              "       [-0.49124746],\n",
              "       [-0.2854292 ],\n",
              "       [-0.2707433 ],\n",
              "       [-0.47418352],\n",
              "       [-0.47933792],\n",
              "       [-0.27423023],\n",
              "       [ 0.79068449],\n",
              "       [-0.24623471],\n",
              "       [-0.06579513],\n",
              "       [-0.48420532],\n",
              "       [-0.06215883],\n",
              "       [-0.46833464],\n",
              "       [-0.45558628],\n",
              "       [ 0.7835132 ],\n",
              "       [-0.2764091 ],\n",
              "       [ 0.99540567],\n",
              "       [-0.45123028],\n",
              "       [-0.46568071],\n",
              "       [-0.4759295 ],\n",
              "       [-0.29927711],\n",
              "       [-0.27301588],\n",
              "       [ 0.77204334],\n",
              "       [ 0.79153682],\n",
              "       [-0.27643781],\n",
              "       [-0.46864777],\n",
              "       [ 0.78227862],\n",
              "       [-0.28077358],\n",
              "       [-0.07972654],\n",
              "       [-0.49074868],\n",
              "       [-0.28832712],\n",
              "       [-0.25918407],\n",
              "       [ 0.76639274],\n",
              "       [-0.27971709],\n",
              "       [-0.29373373],\n",
              "       [-0.47969146],\n",
              "       [ 0.76241899],\n",
              "       [-0.443595  ],\n",
              "       [-0.09405042],\n",
              "       [-0.2944317 ],\n",
              "       [ 0.77230163],\n",
              "       [-0.0457287 ],\n",
              "       [-0.25999921],\n",
              "       [-0.05725599],\n",
              "       [-0.10518284],\n",
              "       [-0.28256348],\n",
              "       [-0.29318863],\n",
              "       [-0.31697397],\n",
              "       [-0.27966555],\n",
              "       [ 0.78798574],\n",
              "       [-0.2830816 ],\n",
              "       [-0.4684612 ],\n",
              "       [-0.47922139],\n",
              "       [-0.27437365],\n",
              "       [-0.46376426],\n",
              "       [ 0.79967088],\n",
              "       [-0.25979149],\n",
              "       [-0.2669611 ],\n",
              "       [ 0.7612005 ],\n",
              "       [-0.43914768],\n",
              "       [-0.26880918],\n",
              "       [ 0.74129606],\n",
              "       [ 0.76511773],\n",
              "       [ 0.78423898],\n",
              "       [-0.10317857],\n",
              "       [-0.27625972],\n",
              "       [ 1.0008849 ],\n",
              "       [-0.07107609],\n",
              "       [-0.27873148],\n",
              "       [ 0.9641918 ],\n",
              "       [-0.27442941],\n",
              "       [ 1.0142586 ],\n",
              "       [-0.47963494],\n",
              "       [-0.4604976 ],\n",
              "       [-0.4805564 ],\n",
              "       [-0.29375242],\n",
              "       [-0.45814327],\n",
              "       [-0.28805532],\n",
              "       [ 0.96860433],\n",
              "       [-0.2717974 ],\n",
              "       [ 0.75067991],\n",
              "       [-0.29376916],\n",
              "       [ 0.98554172],\n",
              "       [-0.31102466],\n",
              "       [-0.30543148],\n",
              "       [-0.48026029],\n",
              "       [-0.46407738],\n",
              "       [-0.09158887],\n",
              "       [-0.30461459],\n",
              "       [ 0.77798004],\n",
              "       [-0.47266542],\n",
              "       [-0.06523569],\n",
              "       [-0.29287137],\n",
              "       [-0.06533353],\n",
              "       [-0.10444859],\n",
              "       [-0.46653304],\n",
              "       [ 0.96522721],\n",
              "       [-0.2359177 ],\n",
              "       [ 0.74598039],\n",
              "       [-0.44365152],\n",
              "       [ 0.77312266],\n",
              "       [-0.30429823],\n",
              "       [-0.29858263],\n",
              "       [-0.27378298],\n",
              "       [-0.47947709],\n",
              "       [ 0.94699871],\n",
              "       [-0.25013933],\n",
              "       [-0.26680085],\n",
              "       [-0.26173168],\n",
              "       [-0.29051098],\n",
              "       [-0.48884833],\n",
              "       [-0.28247235],\n",
              "       [ 0.78206773],\n",
              "       [-0.29257939],\n",
              "       [-0.3038762 ],\n",
              "       [-0.27431713],\n",
              "       [ 0.94988053],\n",
              "       [-0.49705502],\n",
              "       [ 0.9559725 ],\n",
              "       [-0.46680394],\n",
              "       [-0.31383645],\n",
              "       [-0.26723963],\n",
              "       [-0.27966555],\n",
              "       [-0.28477863],\n",
              "       [-0.29869916],\n",
              "       [-0.25801363],\n",
              "       [-0.45533058],\n",
              "       [-0.25975871],\n",
              "       [-0.30406775],\n",
              "       [-0.32033589],\n",
              "       [-0.28158872],\n",
              "       [ 0.96952928],\n",
              "       [-0.26605392],\n",
              "       [-0.07114109],\n",
              "       [-0.31141364],\n",
              "       [-0.25587608],\n",
              "       [-0.26879399],\n",
              "       [ 0.78359844],\n",
              "       [-0.28416847],\n",
              "       [-0.3016121 ],\n",
              "       [-0.47120385],\n",
              "       [-0.27135603],\n",
              "       [-0.29898598],\n",
              "       [ 0.77137667],\n",
              "       [ 0.99915243],\n",
              "       [ 0.755279  ],\n",
              "       [-0.27434417],\n",
              "       [ 0.77523738],\n",
              "       [ 0.97070644],\n",
              "       [-0.26961005],\n",
              "       [-0.06333185],\n",
              "       [-0.49630053],\n",
              "       [ 0.76560042],\n",
              "       [-0.48507027],\n",
              "       [-0.48236149],\n",
              "       [-0.07004069],\n",
              "       [-0.07842696],\n",
              "       [ 0.94739616],\n",
              "       [-0.46964185],\n",
              "       [-0.46705963],\n",
              "       [ 0.81795241],\n",
              "       [-0.28691359],\n",
              "       [ 0.76138358],\n",
              "       [-0.2980519 ],\n",
              "       [-0.26156969],\n",
              "       [-0.28000648],\n",
              "       [ 0.76408232],\n",
              "       [ 0.77648717],\n",
              "       [-0.47429746],\n",
              "       [-0.48616568],\n",
              "       [-0.28776592],\n",
              "       [-0.46566461],\n",
              "       [-0.29169163],\n",
              "       [-0.10716842],\n",
              "       [ 0.79399247],\n",
              "       [-0.27729513],\n",
              "       [-0.29127807],\n",
              "       [-0.27662348],\n",
              "       [-0.27626735],\n",
              "       [ 0.98272902],\n",
              "       [-0.47654133],\n",
              "       [-0.27765216],\n",
              "       [ 0.78347188],\n",
              "       [ 0.76224852],\n",
              "       [-0.29781554],\n",
              "       [-0.28642495],\n",
              "       [ 0.80605638],\n",
              "       [-0.45320325],\n",
              "       [-0.26748271],\n",
              "       [-0.2710303 ],\n",
              "       [-0.27545893],\n",
              "       [ 0.77946683],\n",
              "       [-0.06215883],\n",
              "       [-0.46210441],\n",
              "       [ 0.7563018 ],\n",
              "       [-0.44668512],\n",
              "       [-0.29393549],\n",
              "       [-0.30600703],\n",
              "       [ 0.7527094 ],\n",
              "       [-0.30715134],\n",
              "       [ 0.78314705],\n",
              "       [-0.44755355],\n",
              "       [-0.08113832],\n",
              "       [ 0.76469157],\n",
              "       [-0.26439499],\n",
              "       [-0.29840545]])"
            ]
          },
          "metadata": {
            "tags": []
          },
          "execution_count": 200
        }
      ]
    },
    {
      "cell_type": "code",
      "metadata": {
        "id": "phHz4KAljDU6",
        "outputId": "eedb5ec1-e15e-4507-c091-5c55e15a74bc",
        "colab": {
          "base_uri": "https://localhost:8080/",
          "height": 284
        }
      },
      "source": [
        "plt.scatter(X_pca, pred)"
      ],
      "execution_count": 203,
      "outputs": [
        {
          "output_type": "execute_result",
          "data": {
            "text/plain": [
              "<matplotlib.collections.PathCollection at 0x7f9dc3aa61d0>"
            ]
          },
          "metadata": {
            "tags": []
          },
          "execution_count": 203
        },
        {
          "output_type": "display_data",
          "data": {
            "image/png": "[encoded data removed]",
            "text/plain": [
              "<Figure size 432x288 with 1 Axes>"
            ]
          },
          "metadata": {
            "tags": []
          }
        }
      ]
    },
    {
      "cell_type": "code",
      "metadata": {
        "id": "rxrNIt3YjDX2",
        "outputId": "6fba0f37-47dc-4477-97fd-251ad8860351",
        "colab": {
          "base_uri": "https://localhost:8080/"
        }
      },
      "source": [
        "r2_score(y_test, pred)"
      ],
      "execution_count": 207,
      "outputs": [
        {
          "output_type": "execute_result",
          "data": {
            "text/plain": [
              "0.7496797976827207"
            ]
          },
          "metadata": {
            "tags": []
          },
          "execution_count": 207
        }
      ]
    },
    {
      "cell_type": "code",
      "metadata": {
        "id": "HFBOanMUk2Zp"
      },
      "source": [
        "b = np.linalg.inv(_X.T @ _X) @ _X.T @ y"
      ],
      "execution_count": 209,
      "outputs": []
    },
    {
      "cell_type": "code",
      "metadata": {
        "id": "2gfK_vw4k3L4",
        "outputId": "1dc94dff-9334-426f-a7e7-fd001e735ed8",
        "colab": {
          "base_uri": "https://localhost:8080/"
        }
      },
      "source": [
        "b"
      ],
      "execution_count": 210,
      "outputs": [
        {
          "output_type": "execute_result",
          "data": {
            "text/plain": [
              "0    11826.4\n",
              "1    12823.2\n",
              "2     2386.4\n",
              "3    -2104.3\n",
              "4   -2449.96\n",
              "5   -3146.01\n",
              "6   -3073.16\n",
              "7    23847.4\n",
              "dtype: object"
            ]
          },
          "metadata": {
            "tags": []
          },
          "execution_count": 210
        }
      ]
    },
    {
      "cell_type": "code",
      "metadata": {
        "id": "HihGUuCRk2eM",
        "outputId": "4fbe9f73-213a-450e-cc99-82efb287e3d7",
        "colab": {
          "base_uri": "https://localhost:8080/"
        }
      },
      "source": [
        "lr.coef_"
      ],
      "execution_count": 211,
      "outputs": [
        {
          "output_type": "execute_result",
          "data": {
            "text/plain": [
              "array([[11387.58798322, 12631.8558908 ,  3061.86363473,   564.69912202,\n",
              "          165.2333777 ,  -264.47314933,  -465.45935039, 23737.24569502]])"
            ]
          },
          "metadata": {
            "tags": []
          },
          "execution_count": 211
        }
      ]
    },
    {
      "cell_type": "code",
      "metadata": {
        "id": "MitLeP4ElgGl",
        "outputId": "41cb76e5-0973-4008-f237-f54ec8d0c409",
        "colab": {
          "base_uri": "https://localhost:8080/",
          "height": 399
        }
      },
      "source": [
        "_X"
      ],
      "execution_count": 212,
      "outputs": [
        {
          "output_type": "execute_result",
          "data": {
            "text/html": [
              "<div>\n",
              "<style scoped>\n",
              "    .dataframe tbody tr th:only-of-type {\n",
              "        vertical-align: middle;\n",
              "    }\n",
              "\n",
              "    .dataframe tbody tr th {\n",
              "        vertical-align: top;\n",
              "    }\n",
              "\n",
              "    .dataframe thead th {\n",
              "        text-align: right;\n",
              "    }\n",
              "</style>\n",
              "<table border=\"1\" class=\"dataframe\">\n",
              "  <thead>\n",
              "    <tr style=\"text-align: right;\">\n",
              "      <th></th>\n",
              "      <th>age</th>\n",
              "      <th>bmi</th>\n",
              "      <th>children</th>\n",
              "      <th>northeast</th>\n",
              "      <th>northwest</th>\n",
              "      <th>southeast</th>\n",
              "      <th>southwest</th>\n",
              "      <th>smoker</th>\n",
              "    </tr>\n",
              "  </thead>\n",
              "  <tbody>\n",
              "    <tr>\n",
              "      <th>0</th>\n",
              "      <td>0.021739</td>\n",
              "      <td>0.315789</td>\n",
              "      <td>0.0</td>\n",
              "      <td>0.0</td>\n",
              "      <td>0.0</td>\n",
              "      <td>0.0</td>\n",
              "      <td>1.0</td>\n",
              "      <td>1.0</td>\n",
              "    </tr>\n",
              "    <tr>\n",
              "      <th>1</th>\n",
              "      <td>0.000000</td>\n",
              "      <td>0.473684</td>\n",
              "      <td>0.2</td>\n",
              "      <td>0.0</td>\n",
              "      <td>0.0</td>\n",
              "      <td>1.0</td>\n",
              "      <td>0.0</td>\n",
              "      <td>0.0</td>\n",
              "    </tr>\n",
              "    <tr>\n",
              "      <th>2</th>\n",
              "      <td>0.217391</td>\n",
              "      <td>0.473684</td>\n",
              "      <td>0.6</td>\n",
              "      <td>0.0</td>\n",
              "      <td>0.0</td>\n",
              "      <td>1.0</td>\n",
              "      <td>0.0</td>\n",
              "      <td>0.0</td>\n",
              "    </tr>\n",
              "    <tr>\n",
              "      <th>3</th>\n",
              "      <td>0.326087</td>\n",
              "      <td>0.184211</td>\n",
              "      <td>0.0</td>\n",
              "      <td>0.0</td>\n",
              "      <td>1.0</td>\n",
              "      <td>0.0</td>\n",
              "      <td>0.0</td>\n",
              "      <td>0.0</td>\n",
              "    </tr>\n",
              "    <tr>\n",
              "      <th>4</th>\n",
              "      <td>0.304348</td>\n",
              "      <td>0.342105</td>\n",
              "      <td>0.0</td>\n",
              "      <td>0.0</td>\n",
              "      <td>1.0</td>\n",
              "      <td>0.0</td>\n",
              "      <td>0.0</td>\n",
              "      <td>0.0</td>\n",
              "    </tr>\n",
              "    <tr>\n",
              "      <th>...</th>\n",
              "      <td>...</td>\n",
              "      <td>...</td>\n",
              "      <td>...</td>\n",
              "      <td>...</td>\n",
              "      <td>...</td>\n",
              "      <td>...</td>\n",
              "      <td>...</td>\n",
              "      <td>...</td>\n",
              "    </tr>\n",
              "    <tr>\n",
              "      <th>1333</th>\n",
              "      <td>0.695652</td>\n",
              "      <td>0.394737</td>\n",
              "      <td>0.6</td>\n",
              "      <td>0.0</td>\n",
              "      <td>1.0</td>\n",
              "      <td>0.0</td>\n",
              "      <td>0.0</td>\n",
              "      <td>0.0</td>\n",
              "    </tr>\n",
              "    <tr>\n",
              "      <th>1334</th>\n",
              "      <td>0.000000</td>\n",
              "      <td>0.421053</td>\n",
              "      <td>0.0</td>\n",
              "      <td>1.0</td>\n",
              "      <td>0.0</td>\n",
              "      <td>0.0</td>\n",
              "      <td>0.0</td>\n",
              "      <td>0.0</td>\n",
              "    </tr>\n",
              "    <tr>\n",
              "      <th>1335</th>\n",
              "      <td>0.000000</td>\n",
              "      <td>0.552632</td>\n",
              "      <td>0.0</td>\n",
              "      <td>0.0</td>\n",
              "      <td>0.0</td>\n",
              "      <td>1.0</td>\n",
              "      <td>0.0</td>\n",
              "      <td>0.0</td>\n",
              "    </tr>\n",
              "    <tr>\n",
              "      <th>1336</th>\n",
              "      <td>0.065217</td>\n",
              "      <td>0.263158</td>\n",
              "      <td>0.0</td>\n",
              "      <td>0.0</td>\n",
              "      <td>0.0</td>\n",
              "      <td>0.0</td>\n",
              "      <td>1.0</td>\n",
              "      <td>0.0</td>\n",
              "    </tr>\n",
              "    <tr>\n",
              "      <th>1337</th>\n",
              "      <td>0.934783</td>\n",
              "      <td>0.368421</td>\n",
              "      <td>0.0</td>\n",
              "      <td>0.0</td>\n",
              "      <td>1.0</td>\n",
              "      <td>0.0</td>\n",
              "      <td>0.0</td>\n",
              "      <td>1.0</td>\n",
              "    </tr>\n",
              "  </tbody>\n",
              "</table>\n",
              "<p>1338 rows × 8 columns</p>\n",
              "</div>"
            ],
            "text/plain": [
              "           age       bmi  children  ...  southeast  southwest  smoker\n",
              "0     0.021739  0.315789       0.0  ...        0.0        1.0     1.0\n",
              "1     0.000000  0.473684       0.2  ...        1.0        0.0     0.0\n",
              "2     0.217391  0.473684       0.6  ...        1.0        0.0     0.0\n",
              "3     0.326087  0.184211       0.0  ...        0.0        0.0     0.0\n",
              "4     0.304348  0.342105       0.0  ...        0.0        0.0     0.0\n",
              "...        ...       ...       ...  ...        ...        ...     ...\n",
              "1333  0.695652  0.394737       0.6  ...        0.0        0.0     0.0\n",
              "1334  0.000000  0.421053       0.0  ...        0.0        0.0     0.0\n",
              "1335  0.000000  0.552632       0.0  ...        1.0        0.0     0.0\n",
              "1336  0.065217  0.263158       0.0  ...        0.0        1.0     0.0\n",
              "1337  0.934783  0.368421       0.0  ...        0.0        0.0     1.0\n",
              "\n",
              "[1338 rows x 8 columns]"
            ]
          },
          "metadata": {
            "tags": []
          },
          "execution_count": 212
        }
      ]
    }
  ]
}