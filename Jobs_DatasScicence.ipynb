{
  "nbformat": 4,
  "nbformat_minor": 0,
  "metadata": {
    "colab": {
      "name": "Jobs_DatasScicence.ipynb",
      "provenance": [],
      "authorship_tag": "ABX9TyNoM02xgjgbBKoXVN59g1eO",
      "include_colab_link": true
    },
    "kernelspec": {
      "display_name": "Python 3",
      "name": "python3"
    }
  },
  "cells": [
    {
      "cell_type": "markdown",
      "metadata": {
        "id": "view-in-github",
        "colab_type": "text"
      },
      "source": [
        "<a href=\"https://colab.research.google.com/github/Jean-Rd/Algoritms_Intro_machineLearningWithPython/blob/master/Jobs_DatasScicence.ipynb\" target=\"_parent\"><img src=\"https://colab.research.google.com/assets/colab-badge.svg\" alt=\"Open In Colab\"/></a>"
      ]
    },
    {
      "cell_type": "code",
      "metadata": {
        "id": "J5_JajhYmbIN"
      },
      "source": [
        "import pandas as pd\r\n",
        "import numpy as np\r\n",
        "import matplotlib.pyplot as plt\r\n",
        "import seaborn as sns\r\n",
        "\r\n",
        "sns.set_style('darkgrid')"
      ],
      "execution_count": 344,
      "outputs": []
    },
    {
      "cell_type": "code",
      "metadata": {
        "id": "trrrahY9mtbj"
      },
      "source": [
        "test = pd.read_csv(r'/content/aug_test.csv')\r\n",
        "\r\n",
        "train = pd.read_csv(r'/content/aug_train.csv')\r\n",
        "\r\n",
        "sample = pd.read_csv(r'/content/sample_submission.csv')"
      ],
      "execution_count": 345,
      "outputs": []
    },
    {
      "cell_type": "code",
      "metadata": {
        "colab": {
          "base_uri": "https://localhost:8080/"
        },
        "id": "oJt6CDwSmtea",
        "outputId": "37d426fe-8013-43da-8f40-e86a51ce3e79"
      },
      "source": [
        "train.isna().sum()"
      ],
      "execution_count": 346,
      "outputs": [
        {
          "output_type": "execute_result",
          "data": {
            "text/plain": [
              "enrollee_id                  0\n",
              "city                         0\n",
              "city_development_index       0\n",
              "gender                    4508\n",
              "relevent_experience          0\n",
              "enrolled_university        386\n",
              "education_level            460\n",
              "major_discipline          2813\n",
              "experience                  65\n",
              "company_size              5938\n",
              "company_type              6140\n",
              "last_new_job               423\n",
              "training_hours               0\n",
              "target                       0\n",
              "dtype: int64"
            ]
          },
          "metadata": {
            "tags": []
          },
          "execution_count": 346
        }
      ]
    },
    {
      "cell_type": "code",
      "metadata": {
        "colab": {
          "base_uri": "https://localhost:8080/",
          "height": 244
        },
        "id": "4y_zwUzOmthC",
        "outputId": "efc52961-c294-408b-ab43-2ed0f5301582"
      },
      "source": [
        "train.head()"
      ],
      "execution_count": 347,
      "outputs": [
        {
          "output_type": "execute_result",
          "data": {
            "text/html": [
              "<div>\n",
              "<style scoped>\n",
              "    .dataframe tbody tr th:only-of-type {\n",
              "        vertical-align: middle;\n",
              "    }\n",
              "\n",
              "    .dataframe tbody tr th {\n",
              "        vertical-align: top;\n",
              "    }\n",
              "\n",
              "    .dataframe thead th {\n",
              "        text-align: right;\n",
              "    }\n",
              "</style>\n",
              "<table border=\"1\" class=\"dataframe\">\n",
              "  <thead>\n",
              "    <tr style=\"text-align: right;\">\n",
              "      <th></th>\n",
              "      <th>enrollee_id</th>\n",
              "      <th>city</th>\n",
              "      <th>city_development_index</th>\n",
              "      <th>gender</th>\n",
              "      <th>relevent_experience</th>\n",
              "      <th>enrolled_university</th>\n",
              "      <th>education_level</th>\n",
              "      <th>major_discipline</th>\n",
              "      <th>experience</th>\n",
              "      <th>company_size</th>\n",
              "      <th>company_type</th>\n",
              "      <th>last_new_job</th>\n",
              "      <th>training_hours</th>\n",
              "      <th>target</th>\n",
              "    </tr>\n",
              "  </thead>\n",
              "  <tbody>\n",
              "    <tr>\n",
              "      <th>0</th>\n",
              "      <td>8949</td>\n",
              "      <td>city_103</td>\n",
              "      <td>0.920</td>\n",
              "      <td>Male</td>\n",
              "      <td>Has relevent experience</td>\n",
              "      <td>no_enrollment</td>\n",
              "      <td>Graduate</td>\n",
              "      <td>STEM</td>\n",
              "      <td>&gt;20</td>\n",
              "      <td>NaN</td>\n",
              "      <td>NaN</td>\n",
              "      <td>1</td>\n",
              "      <td>36</td>\n",
              "      <td>1.0</td>\n",
              "    </tr>\n",
              "    <tr>\n",
              "      <th>1</th>\n",
              "      <td>29725</td>\n",
              "      <td>city_40</td>\n",
              "      <td>0.776</td>\n",
              "      <td>Male</td>\n",
              "      <td>No relevent experience</td>\n",
              "      <td>no_enrollment</td>\n",
              "      <td>Graduate</td>\n",
              "      <td>STEM</td>\n",
              "      <td>15</td>\n",
              "      <td>50-99</td>\n",
              "      <td>Pvt Ltd</td>\n",
              "      <td>&gt;4</td>\n",
              "      <td>47</td>\n",
              "      <td>0.0</td>\n",
              "    </tr>\n",
              "    <tr>\n",
              "      <th>2</th>\n",
              "      <td>11561</td>\n",
              "      <td>city_21</td>\n",
              "      <td>0.624</td>\n",
              "      <td>NaN</td>\n",
              "      <td>No relevent experience</td>\n",
              "      <td>Full time course</td>\n",
              "      <td>Graduate</td>\n",
              "      <td>STEM</td>\n",
              "      <td>5</td>\n",
              "      <td>NaN</td>\n",
              "      <td>NaN</td>\n",
              "      <td>never</td>\n",
              "      <td>83</td>\n",
              "      <td>0.0</td>\n",
              "    </tr>\n",
              "    <tr>\n",
              "      <th>3</th>\n",
              "      <td>33241</td>\n",
              "      <td>city_115</td>\n",
              "      <td>0.789</td>\n",
              "      <td>NaN</td>\n",
              "      <td>No relevent experience</td>\n",
              "      <td>NaN</td>\n",
              "      <td>Graduate</td>\n",
              "      <td>Business Degree</td>\n",
              "      <td>&lt;1</td>\n",
              "      <td>NaN</td>\n",
              "      <td>Pvt Ltd</td>\n",
              "      <td>never</td>\n",
              "      <td>52</td>\n",
              "      <td>1.0</td>\n",
              "    </tr>\n",
              "    <tr>\n",
              "      <th>4</th>\n",
              "      <td>666</td>\n",
              "      <td>city_162</td>\n",
              "      <td>0.767</td>\n",
              "      <td>Male</td>\n",
              "      <td>Has relevent experience</td>\n",
              "      <td>no_enrollment</td>\n",
              "      <td>Masters</td>\n",
              "      <td>STEM</td>\n",
              "      <td>&gt;20</td>\n",
              "      <td>50-99</td>\n",
              "      <td>Funded Startup</td>\n",
              "      <td>4</td>\n",
              "      <td>8</td>\n",
              "      <td>0.0</td>\n",
              "    </tr>\n",
              "  </tbody>\n",
              "</table>\n",
              "</div>"
            ],
            "text/plain": [
              "   enrollee_id      city  ...  training_hours target\n",
              "0         8949  city_103  ...              36    1.0\n",
              "1        29725   city_40  ...              47    0.0\n",
              "2        11561   city_21  ...              83    0.0\n",
              "3        33241  city_115  ...              52    1.0\n",
              "4          666  city_162  ...               8    0.0\n",
              "\n",
              "[5 rows x 14 columns]"
            ]
          },
          "metadata": {
            "tags": []
          },
          "execution_count": 347
        }
      ]
    },
    {
      "cell_type": "code",
      "metadata": {
        "id": "2-wUNtDbmtjr"
      },
      "source": [
        "train.drop(['enrollee_id', 'city', 'city_development_index'], axis=1, inplace=True)"
      ],
      "execution_count": 348,
      "outputs": []
    },
    {
      "cell_type": "code",
      "metadata": {
        "colab": {
          "base_uri": "https://localhost:8080/",
          "height": 244
        },
        "id": "AxIvCQo73XzJ",
        "outputId": "88852632-b78a-4b6a-b95e-6d5fe9788b9f"
      },
      "source": [
        "train.head()"
      ],
      "execution_count": 349,
      "outputs": [
        {
          "output_type": "execute_result",
          "data": {
            "text/html": [
              "<div>\n",
              "<style scoped>\n",
              "    .dataframe tbody tr th:only-of-type {\n",
              "        vertical-align: middle;\n",
              "    }\n",
              "\n",
              "    .dataframe tbody tr th {\n",
              "        vertical-align: top;\n",
              "    }\n",
              "\n",
              "    .dataframe thead th {\n",
              "        text-align: right;\n",
              "    }\n",
              "</style>\n",
              "<table border=\"1\" class=\"dataframe\">\n",
              "  <thead>\n",
              "    <tr style=\"text-align: right;\">\n",
              "      <th></th>\n",
              "      <th>gender</th>\n",
              "      <th>relevent_experience</th>\n",
              "      <th>enrolled_university</th>\n",
              "      <th>education_level</th>\n",
              "      <th>major_discipline</th>\n",
              "      <th>experience</th>\n",
              "      <th>company_size</th>\n",
              "      <th>company_type</th>\n",
              "      <th>last_new_job</th>\n",
              "      <th>training_hours</th>\n",
              "      <th>target</th>\n",
              "    </tr>\n",
              "  </thead>\n",
              "  <tbody>\n",
              "    <tr>\n",
              "      <th>0</th>\n",
              "      <td>Male</td>\n",
              "      <td>Has relevent experience</td>\n",
              "      <td>no_enrollment</td>\n",
              "      <td>Graduate</td>\n",
              "      <td>STEM</td>\n",
              "      <td>&gt;20</td>\n",
              "      <td>NaN</td>\n",
              "      <td>NaN</td>\n",
              "      <td>1</td>\n",
              "      <td>36</td>\n",
              "      <td>1.0</td>\n",
              "    </tr>\n",
              "    <tr>\n",
              "      <th>1</th>\n",
              "      <td>Male</td>\n",
              "      <td>No relevent experience</td>\n",
              "      <td>no_enrollment</td>\n",
              "      <td>Graduate</td>\n",
              "      <td>STEM</td>\n",
              "      <td>15</td>\n",
              "      <td>50-99</td>\n",
              "      <td>Pvt Ltd</td>\n",
              "      <td>&gt;4</td>\n",
              "      <td>47</td>\n",
              "      <td>0.0</td>\n",
              "    </tr>\n",
              "    <tr>\n",
              "      <th>2</th>\n",
              "      <td>NaN</td>\n",
              "      <td>No relevent experience</td>\n",
              "      <td>Full time course</td>\n",
              "      <td>Graduate</td>\n",
              "      <td>STEM</td>\n",
              "      <td>5</td>\n",
              "      <td>NaN</td>\n",
              "      <td>NaN</td>\n",
              "      <td>never</td>\n",
              "      <td>83</td>\n",
              "      <td>0.0</td>\n",
              "    </tr>\n",
              "    <tr>\n",
              "      <th>3</th>\n",
              "      <td>NaN</td>\n",
              "      <td>No relevent experience</td>\n",
              "      <td>NaN</td>\n",
              "      <td>Graduate</td>\n",
              "      <td>Business Degree</td>\n",
              "      <td>&lt;1</td>\n",
              "      <td>NaN</td>\n",
              "      <td>Pvt Ltd</td>\n",
              "      <td>never</td>\n",
              "      <td>52</td>\n",
              "      <td>1.0</td>\n",
              "    </tr>\n",
              "    <tr>\n",
              "      <th>4</th>\n",
              "      <td>Male</td>\n",
              "      <td>Has relevent experience</td>\n",
              "      <td>no_enrollment</td>\n",
              "      <td>Masters</td>\n",
              "      <td>STEM</td>\n",
              "      <td>&gt;20</td>\n",
              "      <td>50-99</td>\n",
              "      <td>Funded Startup</td>\n",
              "      <td>4</td>\n",
              "      <td>8</td>\n",
              "      <td>0.0</td>\n",
              "    </tr>\n",
              "  </tbody>\n",
              "</table>\n",
              "</div>"
            ],
            "text/plain": [
              "  gender      relevent_experience  ... training_hours target\n",
              "0   Male  Has relevent experience  ...             36    1.0\n",
              "1   Male   No relevent experience  ...             47    0.0\n",
              "2    NaN   No relevent experience  ...             83    0.0\n",
              "3    NaN   No relevent experience  ...             52    1.0\n",
              "4   Male  Has relevent experience  ...              8    0.0\n",
              "\n",
              "[5 rows x 11 columns]"
            ]
          },
          "metadata": {
            "tags": []
          },
          "execution_count": 349
        }
      ]
    },
    {
      "cell_type": "code",
      "metadata": {
        "id": "yqSJ9UFa8FV8"
      },
      "source": [
        "train.duplicated().sum()\r\n",
        "train.drop_duplicates(inplace=True)"
      ],
      "execution_count": 350,
      "outputs": []
    },
    {
      "cell_type": "code",
      "metadata": {
        "colab": {
          "base_uri": "https://localhost:8080/"
        },
        "id": "-f-apMcy3xv4",
        "outputId": "6424d42a-5cc1-4ff7-b9ef-cf6826d00b49"
      },
      "source": [
        "train.gender.value_counts()"
      ],
      "execution_count": 351,
      "outputs": [
        {
          "output_type": "execute_result",
          "data": {
            "text/plain": [
              "Male      12961\n",
              "Female     1236\n",
              "Other       191\n",
              "Name: gender, dtype: int64"
            ]
          },
          "metadata": {
            "tags": []
          },
          "execution_count": 351
        }
      ]
    },
    {
      "cell_type": "code",
      "metadata": {
        "colab": {
          "base_uri": "https://localhost:8080/",
          "height": 352
        },
        "id": "S2Ez8nnO3X1l",
        "outputId": "ab61c505-0658-4a85-df33-538328a92827"
      },
      "source": [
        "plt.figure(figsize=(9,5))\r\n",
        "\r\n",
        "sns.countplot(x='gender', hue='target', data=train)"
      ],
      "execution_count": 352,
      "outputs": [
        {
          "output_type": "execute_result",
          "data": {
            "text/plain": [
              "<matplotlib.axes._subplots.AxesSubplot at 0x7f5fa6f3ab38>"
            ]
          },
          "metadata": {
            "tags": []
          },
          "execution_count": 352
        },
        {
          "output_type": "display_data",
          "data": {
            "image/png": "[encoded data removed]",
            "text/plain": [
              "<Figure size 648x360 with 1 Axes>"
            ]
          },
          "metadata": {
            "tags": []
          }
        }
      ]
    },
    {
      "cell_type": "code",
      "metadata": {
        "id": "F-pcqVpm3X3q"
      },
      "source": [
        "from scipy.stats import mode\r\n",
        "\r\n",
        "train.gender.isna().sum()\r\n",
        "\r\n",
        "mode(train.gender)\r\n",
        "\r\n",
        "train.gender.replace(np.nan, 'nan', inplace=True)"
      ],
      "execution_count": 353,
      "outputs": []
    },
    {
      "cell_type": "code",
      "metadata": {
        "colab": {
          "base_uri": "https://localhost:8080/"
        },
        "id": "V37A7OcO8lrh",
        "outputId": "9ad8d49a-09ed-46d0-caf4-7979a6ded689"
      },
      "source": [
        "train.gender.isna().sum()"
      ],
      "execution_count": 354,
      "outputs": [
        {
          "output_type": "execute_result",
          "data": {
            "text/plain": [
              "0"
            ]
          },
          "metadata": {
            "tags": []
          },
          "execution_count": 354
        }
      ]
    },
    {
      "cell_type": "code",
      "metadata": {
        "id": "kBE1MyG28sMN"
      },
      "source": [
        "train.gender.replace('nan', 'Male', inplace=True)"
      ],
      "execution_count": 355,
      "outputs": []
    },
    {
      "cell_type": "code",
      "metadata": {
        "colab": {
          "base_uri": "https://localhost:8080/"
        },
        "id": "KviEwUDC8sPI",
        "outputId": "44412e92-43a5-41ab-d145-6e7bfab25beb"
      },
      "source": [
        "train.gender.value_counts()"
      ],
      "execution_count": 356,
      "outputs": [
        {
          "output_type": "execute_result",
          "data": {
            "text/plain": [
              "Male      17453\n",
              "Female     1236\n",
              "Other       191\n",
              "Name: gender, dtype: int64"
            ]
          },
          "metadata": {
            "tags": []
          },
          "execution_count": 356
        }
      ]
    },
    {
      "cell_type": "code",
      "metadata": {
        "colab": {
          "base_uri": "https://localhost:8080/",
          "height": 334
        },
        "id": "d2SYALST83VC",
        "outputId": "f3a084ec-c15f-4cba-84a4-31f77b0b746f"
      },
      "source": [
        "plt.figure(figsize=(9,5))\r\n",
        "\r\n",
        "sns.countplot(x='gender', hue='target', data=train)\r\n",
        "plt.show()"
      ],
      "execution_count": 357,
      "outputs": [
        {
          "output_type": "display_data",
          "data": {
            "image/png": "[encoded data removed]",
            "text/plain": [
              "<Figure size 648x360 with 1 Axes>"
            ]
          },
          "metadata": {
            "tags": []
          }
        }
      ]
    },
    {
      "cell_type": "code",
      "metadata": {
        "id": "ADcUspF483Xd"
      },
      "source": [
        "test.gender.replace(np.nan, 'nan', inplace=True)"
      ],
      "execution_count": 358,
      "outputs": []
    },
    {
      "cell_type": "code",
      "metadata": {
        "colab": {
          "base_uri": "https://localhost:8080/"
        },
        "id": "G0Tl_pu_LEJU",
        "outputId": "e472ddf4-f1d8-44d3-de8d-03de01e45858"
      },
      "source": [
        "mode(test['gender'])"
      ],
      "execution_count": 359,
      "outputs": [
        {
          "output_type": "execute_result",
          "data": {
            "text/plain": [
              "ModeResult(mode=array(['Male'], dtype=object), count=array([1460]))"
            ]
          },
          "metadata": {
            "tags": []
          },
          "execution_count": 359
        }
      ]
    },
    {
      "cell_type": "code",
      "metadata": {
        "id": "QmkZRO_b83Zl"
      },
      "source": [
        "test.gender.replace('nan', 'Male', inplace=True)"
      ],
      "execution_count": 360,
      "outputs": []
    },
    {
      "cell_type": "code",
      "metadata": {
        "colab": {
          "base_uri": "https://localhost:8080/",
          "height": 334
        },
        "id": "0iGjVDcyKUYJ",
        "outputId": "56fa677e-972c-4188-a6e9-bf47c62e24e8"
      },
      "source": [
        "plt.figure(figsize=(9,5))\r\n",
        "\r\n",
        "sns.countplot(x='gender', data=test)\r\n",
        "plt.show()"
      ],
      "execution_count": 361,
      "outputs": [
        {
          "output_type": "display_data",
          "data": {
            "image/png": "[encoded data removed]",
            "text/plain": [
              "<Figure size 648x360 with 1 Axes>"
            ]
          },
          "metadata": {
            "tags": []
          }
        }
      ]
    },
    {
      "cell_type": "code",
      "metadata": {
        "colab": {
          "base_uri": "https://localhost:8080/"
        },
        "id": "z1FB1TKRKZV0",
        "outputId": "5b242c75-9188-4241-f5b1-baa0258c949e"
      },
      "source": [
        "train['relevent_experience'].value_counts()"
      ],
      "execution_count": 362,
      "outputs": [
        {
          "output_type": "execute_result",
          "data": {
            "text/plain": [
              "Has relevent experience    13582\n",
              "No relevent experience      5298\n",
              "Name: relevent_experience, dtype: int64"
            ]
          },
          "metadata": {
            "tags": []
          },
          "execution_count": 362
        }
      ]
    },
    {
      "cell_type": "code",
      "metadata": {
        "colab": {
          "base_uri": "https://localhost:8080/"
        },
        "id": "uc-Pip5qL1NT",
        "outputId": "7ae68b9a-099d-41ee-8472-10245f51636f"
      },
      "source": [
        "train['relevent_experience'].isna().sum(), test['relevent_experience'].isna().sum()"
      ],
      "execution_count": 363,
      "outputs": [
        {
          "output_type": "execute_result",
          "data": {
            "text/plain": [
              "(0, 0)"
            ]
          },
          "metadata": {
            "tags": []
          },
          "execution_count": 363
        }
      ]
    },
    {
      "cell_type": "code",
      "metadata": {
        "colab": {
          "base_uri": "https://localhost:8080/",
          "height": 335
        },
        "id": "DhfAIKVuKqlg",
        "outputId": "ece09d45-8e3c-4b7d-b2b8-31e7bd534324"
      },
      "source": [
        "plt.figure(figsize=(9,5))\r\n",
        "\r\n",
        "sns.countplot(x='relevent_experience', data=train, hue='target')\r\n",
        "plt.show()"
      ],
      "execution_count": 364,
      "outputs": [
        {
          "output_type": "display_data",
          "data": {
            "image/png": "[encoded data removed]",
            "text/plain": [
              "<Figure size 648x360 with 1 Axes>"
            ]
          },
          "metadata": {
            "tags": []
          }
        }
      ]
    },
    {
      "cell_type": "code",
      "metadata": {
        "colab": {
          "base_uri": "https://localhost:8080/"
        },
        "id": "OlaVC-spKxN7",
        "outputId": "5c7bac81-ca6f-4029-deb4-895c98fb82ec"
      },
      "source": [
        "test['relevent_experience'].value_counts()"
      ],
      "execution_count": 365,
      "outputs": [
        {
          "output_type": "execute_result",
          "data": {
            "text/plain": [
              "Has relevent experience    1524\n",
              "No relevent experience      605\n",
              "Name: relevent_experience, dtype: int64"
            ]
          },
          "metadata": {
            "tags": []
          },
          "execution_count": 365
        }
      ]
    },
    {
      "cell_type": "code",
      "metadata": {
        "colab": {
          "base_uri": "https://localhost:8080/"
        },
        "id": "Orkq67gUKzFv",
        "outputId": "77b7fc55-b604-449e-885d-5be8f840d363"
      },
      "source": [
        "train['enrolled_university'].value_counts()"
      ],
      "execution_count": 366,
      "outputs": [
        {
          "output_type": "execute_result",
          "data": {
            "text/plain": [
              "no_enrollment       13583\n",
              "Full time course     3714\n",
              "Part time course     1198\n",
              "Name: enrolled_university, dtype: int64"
            ]
          },
          "metadata": {
            "tags": []
          },
          "execution_count": 366
        }
      ]
    },
    {
      "cell_type": "code",
      "metadata": {
        "colab": {
          "base_uri": "https://localhost:8080/"
        },
        "id": "Y29OQuFeMCCp",
        "outputId": "584bd58e-fe10-448a-c889-7887b6f3e2ab"
      },
      "source": [
        "train['enrolled_university'].isna().sum(), test['enrolled_university'].isna().sum()"
      ],
      "execution_count": 367,
      "outputs": [
        {
          "output_type": "execute_result",
          "data": {
            "text/plain": [
              "(385, 31)"
            ]
          },
          "metadata": {
            "tags": []
          },
          "execution_count": 367
        }
      ]
    },
    {
      "cell_type": "code",
      "metadata": {
        "colab": {
          "base_uri": "https://localhost:8080/"
        },
        "id": "xQk-50mHMFDp",
        "outputId": "b431e923-c637-47b1-99e4-6e0566bf665d"
      },
      "source": [
        "mode(train['enrolled_university']), mode(test['enrolled_university'])"
      ],
      "execution_count": 368,
      "outputs": [
        {
          "output_type": "execute_result",
          "data": {
            "text/plain": [
              "(ModeResult(mode=array(['no_enrollment'], dtype=object), count=array([13583])),\n",
              " ModeResult(mode=array(['no_enrollment'], dtype=object), count=array([1519])))"
            ]
          },
          "metadata": {
            "tags": []
          },
          "execution_count": 368
        }
      ]
    },
    {
      "cell_type": "code",
      "metadata": {
        "id": "pT1Nnsq4MM2h"
      },
      "source": [
        "train['enrolled_university'].replace(np.nan, 'nan', inplace=True)\r\n",
        "test['enrolled_university'].replace(np.nan, 'nan', inplace=True)"
      ],
      "execution_count": 369,
      "outputs": []
    },
    {
      "cell_type": "code",
      "metadata": {
        "id": "ZtjBg1rFMUzK"
      },
      "source": [
        "train['enrolled_university'].replace('nan', 'no_enrollment', inplace=True)\r\n",
        "test['enrolled_university'].replace('nan', 'no_enrollment', inplace=True)"
      ],
      "execution_count": 370,
      "outputs": []
    },
    {
      "cell_type": "code",
      "metadata": {
        "colab": {
          "base_uri": "https://localhost:8080/"
        },
        "id": "fvMfyTnkMUBo",
        "outputId": "1e45f0df-73e7-4bb9-ac3e-030565dc2b99"
      },
      "source": [
        "train['enrolled_university'].value_counts(), test['enrolled_university'].value_counts()"
      ],
      "execution_count": 371,
      "outputs": [
        {
          "output_type": "execute_result",
          "data": {
            "text/plain": [
              "(no_enrollment       13968\n",
              " Full time course     3714\n",
              " Part time course     1198\n",
              " Name: enrolled_university, dtype: int64, no_enrollment       1550\n",
              " Full time course     435\n",
              " Part time course     144\n",
              " Name: enrolled_university, dtype: int64)"
            ]
          },
          "metadata": {
            "tags": []
          },
          "execution_count": 371
        }
      ]
    },
    {
      "cell_type": "code",
      "metadata": {
        "colab": {
          "base_uri": "https://localhost:8080/",
          "height": 336
        },
        "id": "Vh1YVSeOK5DO",
        "outputId": "a63b413c-a784-480f-f010-c2e8fb007975"
      },
      "source": [
        "plt.figure(figsize=(9,5))\r\n",
        "\r\n",
        "sns.countplot(x='enrolled_university', data=train, hue='target')\r\n",
        "plt.show()"
      ],
      "execution_count": 372,
      "outputs": [
        {
          "output_type": "display_data",
          "data": {
            "image/png": "[encoded data removed]",
            "text/plain": [
              "<Figure size 648x360 with 1 Axes>"
            ]
          },
          "metadata": {
            "tags": []
          }
        }
      ]
    },
    {
      "cell_type": "code",
      "metadata": {
        "colab": {
          "base_uri": "https://localhost:8080/"
        },
        "id": "axrXwCF0Ld6z",
        "outputId": "a25696cd-c071-48d7-854f-317f75f7a38f"
      },
      "source": [
        "test['enrolled_university'].isna().sum(), train['enrolled_university'].isna().sum()"
      ],
      "execution_count": 373,
      "outputs": [
        {
          "output_type": "execute_result",
          "data": {
            "text/plain": [
              "(0, 0)"
            ]
          },
          "metadata": {
            "tags": []
          },
          "execution_count": 373
        }
      ]
    },
    {
      "cell_type": "code",
      "metadata": {
        "colab": {
          "base_uri": "https://localhost:8080/",
          "height": 132
        },
        "id": "PAsvKveLLd9d",
        "outputId": "85609c76-5485-48db-b6ce-7a0e2224696c"
      },
      "source": [
        "train.head(2)"
      ],
      "execution_count": 374,
      "outputs": [
        {
          "output_type": "execute_result",
          "data": {
            "text/html": [
              "<div>\n",
              "<style scoped>\n",
              "    .dataframe tbody tr th:only-of-type {\n",
              "        vertical-align: middle;\n",
              "    }\n",
              "\n",
              "    .dataframe tbody tr th {\n",
              "        vertical-align: top;\n",
              "    }\n",
              "\n",
              "    .dataframe thead th {\n",
              "        text-align: right;\n",
              "    }\n",
              "</style>\n",
              "<table border=\"1\" class=\"dataframe\">\n",
              "  <thead>\n",
              "    <tr style=\"text-align: right;\">\n",
              "      <th></th>\n",
              "      <th>gender</th>\n",
              "      <th>relevent_experience</th>\n",
              "      <th>enrolled_university</th>\n",
              "      <th>education_level</th>\n",
              "      <th>major_discipline</th>\n",
              "      <th>experience</th>\n",
              "      <th>company_size</th>\n",
              "      <th>company_type</th>\n",
              "      <th>last_new_job</th>\n",
              "      <th>training_hours</th>\n",
              "      <th>target</th>\n",
              "    </tr>\n",
              "  </thead>\n",
              "  <tbody>\n",
              "    <tr>\n",
              "      <th>0</th>\n",
              "      <td>Male</td>\n",
              "      <td>Has relevent experience</td>\n",
              "      <td>no_enrollment</td>\n",
              "      <td>Graduate</td>\n",
              "      <td>STEM</td>\n",
              "      <td>&gt;20</td>\n",
              "      <td>NaN</td>\n",
              "      <td>NaN</td>\n",
              "      <td>1</td>\n",
              "      <td>36</td>\n",
              "      <td>1.0</td>\n",
              "    </tr>\n",
              "    <tr>\n",
              "      <th>1</th>\n",
              "      <td>Male</td>\n",
              "      <td>No relevent experience</td>\n",
              "      <td>no_enrollment</td>\n",
              "      <td>Graduate</td>\n",
              "      <td>STEM</td>\n",
              "      <td>15</td>\n",
              "      <td>50-99</td>\n",
              "      <td>Pvt Ltd</td>\n",
              "      <td>&gt;4</td>\n",
              "      <td>47</td>\n",
              "      <td>0.0</td>\n",
              "    </tr>\n",
              "  </tbody>\n",
              "</table>\n",
              "</div>"
            ],
            "text/plain": [
              "  gender      relevent_experience  ... training_hours target\n",
              "0   Male  Has relevent experience  ...             36    1.0\n",
              "1   Male   No relevent experience  ...             47    0.0\n",
              "\n",
              "[2 rows x 11 columns]"
            ]
          },
          "metadata": {
            "tags": []
          },
          "execution_count": 374
        }
      ]
    },
    {
      "cell_type": "code",
      "metadata": {
        "colab": {
          "base_uri": "https://localhost:8080/"
        },
        "id": "P7dnCClPLkBT",
        "outputId": "057b0e39-5f53-46d2-e15c-56fad6d7fe78"
      },
      "source": [
        "train['education_level'].isna().sum(), test['education_level'].isna().sum()"
      ],
      "execution_count": 375,
      "outputs": [
        {
          "output_type": "execute_result",
          "data": {
            "text/plain": [
              "(459, 52)"
            ]
          },
          "metadata": {
            "tags": []
          },
          "execution_count": 375
        }
      ]
    },
    {
      "cell_type": "code",
      "metadata": {
        "colab": {
          "base_uri": "https://localhost:8080/"
        },
        "id": "Rd1et5vSQ5F4",
        "outputId": "6e72d9f6-e76a-4e28-e2d9-009bce052f0c"
      },
      "source": [
        "mode(train['education_level']), mode(test['education_level'])"
      ],
      "execution_count": 376,
      "outputs": [
        {
          "output_type": "execute_result",
          "data": {
            "text/plain": [
              "(ModeResult(mode=array(['Graduate'], dtype=object), count=array([11407])),\n",
              " ModeResult(mode=array(['Graduate'], dtype=object), count=array([1269])))"
            ]
          },
          "metadata": {
            "tags": []
          },
          "execution_count": 376
        }
      ]
    },
    {
      "cell_type": "code",
      "metadata": {
        "id": "83RhIKAHQ9qh"
      },
      "source": [
        "train['education_level'].replace(np.nan, 'Graduate', inplace=True)\r\n",
        "test['education_level'].replace(np.nan, 'Graduate', inplace=True)"
      ],
      "execution_count": 377,
      "outputs": []
    },
    {
      "cell_type": "code",
      "metadata": {
        "colab": {
          "base_uri": "https://localhost:8080/"
        },
        "id": "jPgkulJeRKZx",
        "outputId": "ed3fb7a4-686f-4f5d-c449-73f628cdddde"
      },
      "source": [
        "train['education_level'].isna().sum(), test['education_level'].isna().sum()"
      ],
      "execution_count": 378,
      "outputs": [
        {
          "output_type": "execute_result",
          "data": {
            "text/plain": [
              "(0, 0)"
            ]
          },
          "metadata": {
            "tags": []
          },
          "execution_count": 378
        }
      ]
    },
    {
      "cell_type": "code",
      "metadata": {
        "colab": {
          "base_uri": "https://localhost:8080/",
          "height": 335
        },
        "id": "LAdAAfw2RM6j",
        "outputId": "009b0606-44c9-4b9b-dc7d-26688be3e04b"
      },
      "source": [
        "plt.figure(figsize=(9,5))\r\n",
        "\r\n",
        "sns.countplot(x='education_level', data=train, hue='target')\r\n",
        "plt.show()"
      ],
      "execution_count": 379,
      "outputs": [
        {
          "output_type": "display_data",
          "data": {
            "image/png": "[encoded data removed]",
            "text/plain": [
              "<Figure size 648x360 with 1 Axes>"
            ]
          },
          "metadata": {
            "tags": []
          }
        }
      ]
    },
    {
      "cell_type": "code",
      "metadata": {
        "colab": {
          "base_uri": "https://localhost:8080/",
          "height": 297
        },
        "id": "ZjMhUlWxSqpG",
        "outputId": "247813c4-82e4-4906-b38c-e29825f295a4"
      },
      "source": [
        "sns.countplot(x='target', data=train[train['education_level'] == 'Primary School'])"
      ],
      "execution_count": 380,
      "outputs": [
        {
          "output_type": "execute_result",
          "data": {
            "text/plain": [
              "<matplotlib.axes._subplots.AxesSubplot at 0x7f5fa6f658d0>"
            ]
          },
          "metadata": {
            "tags": []
          },
          "execution_count": 380
        },
        {
          "output_type": "display_data",
          "data": {
            "image/png": "[encoded data removed]",
            "text/plain": [
              "<Figure size 432x288 with 1 Axes>"
            ]
          },
          "metadata": {
            "tags": []
          }
        }
      ]
    },
    {
      "cell_type": "code",
      "metadata": {
        "colab": {
          "base_uri": "https://localhost:8080/"
        },
        "id": "GtMOMspJRSW5",
        "outputId": "00abcf4e-9b4a-4605-d372-1c1538c15a8c"
      },
      "source": [
        "test['education_level'].value_counts()"
      ],
      "execution_count": 381,
      "outputs": [
        {
          "output_type": "execute_result",
          "data": {
            "text/plain": [
              "Graduate          1321\n",
              "Masters            496\n",
              "High School        222\n",
              "Phd                 54\n",
              "Primary School      36\n",
              "Name: education_level, dtype: int64"
            ]
          },
          "metadata": {
            "tags": []
          },
          "execution_count": 381
        }
      ]
    },
    {
      "cell_type": "code",
      "metadata": {
        "colab": {
          "base_uri": "https://localhost:8080/"
        },
        "id": "qRhYjrgaRyoZ",
        "outputId": "c452a491-3397-4640-e89a-e723ad8e72c8"
      },
      "source": [
        "train['major_discipline'].isna().sum(), test['major_discipline'].isna().sum()"
      ],
      "execution_count": 382,
      "outputs": [
        {
          "output_type": "execute_result",
          "data": {
            "text/plain": [
              "(2774, 312)"
            ]
          },
          "metadata": {
            "tags": []
          },
          "execution_count": 382
        }
      ]
    },
    {
      "cell_type": "code",
      "metadata": {
        "colab": {
          "base_uri": "https://localhost:8080/"
        },
        "id": "XzG2c45KRyrz",
        "outputId": "369b7ea1-65b4-4a64-9062-51c60b97fa4e"
      },
      "source": [
        "mode(train['major_discipline']), mode(test['major_discipline'])"
      ],
      "execution_count": 383,
      "outputs": [
        {
          "output_type": "execute_result",
          "data": {
            "text/plain": [
              "(ModeResult(mode=array(['STEM'], dtype=object), count=array([14253])),\n",
              " ModeResult(mode=array(['STEM'], dtype=object), count=array([1621])))"
            ]
          },
          "metadata": {
            "tags": []
          },
          "execution_count": 383
        }
      ]
    },
    {
      "cell_type": "code",
      "metadata": {
        "id": "rtvjRMOvR_GX"
      },
      "source": [
        "train['major_discipline'].replace(np.nan, 'STEM', inplace=True)\r\n",
        "test['major_discipline'].replace(np.nan, 'STEM', inplace=True)"
      ],
      "execution_count": 384,
      "outputs": []
    },
    {
      "cell_type": "code",
      "metadata": {
        "colab": {
          "base_uri": "https://localhost:8080/"
        },
        "id": "4jauMTUnSFDR",
        "outputId": "de3fd97d-3347-44c6-9bfe-51200c0fcd5b"
      },
      "source": [
        "train['major_discipline'].isna().sum(), test['major_discipline'].isna().sum()"
      ],
      "execution_count": 385,
      "outputs": [
        {
          "output_type": "execute_result",
          "data": {
            "text/plain": [
              "(0, 0)"
            ]
          },
          "metadata": {
            "tags": []
          },
          "execution_count": 385
        }
      ]
    },
    {
      "cell_type": "code",
      "metadata": {
        "colab": {
          "base_uri": "https://localhost:8080/",
          "height": 335
        },
        "id": "LrCuLJGsSFoG",
        "outputId": "9d47d33f-afbc-4366-fcec-1d91728591c8"
      },
      "source": [
        "plt.figure(figsize=(9,5))\r\n",
        "\r\n",
        "sns.countplot(x='major_discipline', data=train, hue='target')\r\n",
        "plt.show()"
      ],
      "execution_count": 386,
      "outputs": [
        {
          "output_type": "display_data",
          "data": {
            "image/png": "[encoded data removed]",
            "text/plain": [
              "<Figure size 648x360 with 1 Axes>"
            ]
          },
          "metadata": {
            "tags": []
          }
        }
      ]
    },
    {
      "cell_type": "code",
      "metadata": {
        "colab": {
          "base_uri": "https://localhost:8080/"
        },
        "id": "uGsXYjF4SFrT",
        "outputId": "5fe59913-f13b-414b-ff27-2ed6f9438438"
      },
      "source": [
        "test['major_discipline'].value_counts()"
      ],
      "execution_count": 387,
      "outputs": [
        {
          "output_type": "execute_result",
          "data": {
            "text/plain": [
              "STEM               1933\n",
              "Humanities           80\n",
              "Other                40\n",
              "Business Degree      37\n",
              "No Major             22\n",
              "Arts                 17\n",
              "Name: major_discipline, dtype: int64"
            ]
          },
          "metadata": {
            "tags": []
          },
          "execution_count": 387
        }
      ]
    },
    {
      "cell_type": "code",
      "metadata": {
        "colab": {
          "base_uri": "https://localhost:8080/"
        },
        "id": "yxAjKOyISFt9",
        "outputId": "7c72c292-b05a-4d78-f906-0856a64fa1d1"
      },
      "source": [
        "train['experience'].unique()\r\n",
        "\r\n",
        "# Experience run of 0 to 20"
      ],
      "execution_count": 388,
      "outputs": [
        {
          "output_type": "execute_result",
          "data": {
            "text/plain": [
              "array(['>20', '15', '5', '<1', '11', '13', '7', '17', '2', '16', '1', '4',\n",
              "       '10', '14', '18', '19', '12', '3', '6', '9', '8', '20', nan],\n",
              "      dtype=object)"
            ]
          },
          "metadata": {
            "tags": []
          },
          "execution_count": 388
        }
      ]
    },
    {
      "cell_type": "markdown",
      "metadata": {
        "id": "X-5dQcj2UYh-"
      },
      "source": [
        ""
      ]
    },
    {
      "cell_type": "code",
      "metadata": {
        "id": "jB6iZqk-T8iY"
      },
      "source": [
        "a = [20,15,5,1,11,13,7,17,2,16,1,4,10,14,18,19,12,3,6,9,8,20,0]\r\n",
        "b = ['>20', '15', '5', '<1', '11', '13', '7', '17', '2', '16', '1', '4',\r\n",
        "       '10', '14', '18', '19', '12', '3', '6', '9', '8', '20', np.nan]\r\n",
        "for i, j in zip(a, b):\r\n",
        "\r\n",
        "  train['experience'].replace(j,i, inplace=True)"
      ],
      "execution_count": 389,
      "outputs": []
    },
    {
      "cell_type": "code",
      "metadata": {
        "colab": {
          "base_uri": "https://localhost:8080/"
        },
        "id": "iWdVzhs2UsAS",
        "outputId": "07464363-2608-4f6c-c9b1-09ddc15a36cd"
      },
      "source": [
        "np.mean(train['experience'])\r\n",
        "\r\n",
        "# mean equal to 10"
      ],
      "execution_count": 390,
      "outputs": [
        {
          "output_type": "execute_result",
          "data": {
            "text/plain": [
              "9.864141949152541"
            ]
          },
          "metadata": {
            "tags": []
          },
          "execution_count": 390
        }
      ]
    },
    {
      "cell_type": "code",
      "metadata": {
        "id": "5DCTYj54U19b"
      },
      "source": [
        "train['experience'].replace(0,10, inplace=True)"
      ],
      "execution_count": 391,
      "outputs": []
    },
    {
      "cell_type": "code",
      "metadata": {
        "colab": {
          "base_uri": "https://localhost:8080/"
        },
        "id": "Jonw6TcrU5J4",
        "outputId": "82909086-4b03-4e79-93aa-260a59dae08b"
      },
      "source": [
        "train['experience'].value_counts()"
      ],
      "execution_count": 392,
      "outputs": [
        {
          "output_type": "execute_result",
          "data": {
            "text/plain": [
              "20.0    3280\n",
              "5.0     1417\n",
              "4.0     1384\n",
              "3.0     1338\n",
              "6.0     1207\n",
              "2.0     1105\n",
              "1.0     1068\n",
              "10.0    1047\n",
              "7.0     1019\n",
              "9.0      975\n",
              "8.0      798\n",
              "15.0     677\n",
              "11.0     661\n",
              "14.0     583\n",
              "16.0     506\n",
              "12.0     493\n",
              "13.0     398\n",
              "17.0     341\n",
              "19.0     303\n",
              "18.0     280\n",
              "Name: experience, dtype: int64"
            ]
          },
          "metadata": {
            "tags": []
          },
          "execution_count": 392
        }
      ]
    },
    {
      "cell_type": "code",
      "metadata": {
        "colab": {
          "base_uri": "https://localhost:8080/"
        },
        "id": "WwXNSRg8U-LG",
        "outputId": "e51176a0-6b8d-4086-83e3-70c0cff571f6"
      },
      "source": [
        "test['experience'].unique()"
      ],
      "execution_count": 393,
      "outputs": [
        {
          "output_type": "execute_result",
          "data": {
            "text/plain": [
              "array(['9', '5', '<1', '11', '>20', '10', '14', '3', '20', '8', '4', '13',\n",
              "       '2', '6', '7', '1', '19', '15', '16', nan, '17', '18', '12'],\n",
              "      dtype=object)"
            ]
          },
          "metadata": {
            "tags": []
          },
          "execution_count": 393
        }
      ]
    },
    {
      "cell_type": "code",
      "metadata": {
        "id": "aQQPBBRsVBpC"
      },
      "source": [
        "a = ['9', '5', '<1', '11', '>20', '10', '14', '3', '20', '8', '4', '13',\r\n",
        "       '2', '6', '7', '1', '19', '15', '16', np.nan, '17', '18', '12']\r\n",
        "\r\n",
        "b = [9,5,1,11,20,10,14,3,20,8,4,13,2,6,7,1,19,15,16,0,17,18,12]\r\n",
        "\r\n",
        "for i,j in zip(a,b):\r\n",
        "\r\n",
        "  test['experience'].replace(i,j,inplace=True)"
      ],
      "execution_count": 394,
      "outputs": []
    },
    {
      "cell_type": "code",
      "metadata": {
        "colab": {
          "base_uri": "https://localhost:8080/"
        },
        "id": "a0ie7kqHVBtP",
        "outputId": "7640b64d-f9e1-4a84-981c-94d92326f6f5"
      },
      "source": [
        "test['experience'].unique()"
      ],
      "execution_count": 395,
      "outputs": [
        {
          "output_type": "execute_result",
          "data": {
            "text/plain": [
              "array([ 9,  5,  1, 11, 20, 10, 14,  3,  8,  4, 13,  2,  6,  7, 19, 15, 16,\n",
              "        0, 17, 18, 12])"
            ]
          },
          "metadata": {
            "tags": []
          },
          "execution_count": 395
        }
      ]
    },
    {
      "cell_type": "code",
      "metadata": {
        "colab": {
          "base_uri": "https://localhost:8080/"
        },
        "id": "vwgMydGNVbbN",
        "outputId": "b2333f83-a549-42bd-9de0-3291b9e018d1"
      },
      "source": [
        "np.mean(test['experience'])"
      ],
      "execution_count": 396,
      "outputs": [
        {
          "output_type": "execute_result",
          "data": {
            "text/plain": [
              "9.936120244246124"
            ]
          },
          "metadata": {
            "tags": []
          },
          "execution_count": 396
        }
      ]
    },
    {
      "cell_type": "code",
      "metadata": {
        "id": "YUvNDznzVdZv"
      },
      "source": [
        "test['experience'].replace(0,10, inplace=True)"
      ],
      "execution_count": 397,
      "outputs": []
    },
    {
      "cell_type": "code",
      "metadata": {
        "colab": {
          "base_uri": "https://localhost:8080/"
        },
        "id": "6IiN4WHCVlxD",
        "outputId": "b6ce8781-da58-46ee-d566-bbd3213d0b68"
      },
      "source": [
        "test['experience'].isna().sum(), test['experience'].dtype"
      ],
      "execution_count": 398,
      "outputs": [
        {
          "output_type": "execute_result",
          "data": {
            "text/plain": [
              "(0, dtype('int64'))"
            ]
          },
          "metadata": {
            "tags": []
          },
          "execution_count": 398
        }
      ]
    },
    {
      "cell_type": "code",
      "metadata": {
        "colab": {
          "base_uri": "https://localhost:8080/"
        },
        "id": "mgKVe99qVlz7",
        "outputId": "6df71250-92f2-4cb7-b00a-c3eee8c5431b"
      },
      "source": [
        "train['experience'].isna().sum(), train['experience'].dtype\r\n",
        "\r\n"
      ],
      "execution_count": 399,
      "outputs": [
        {
          "output_type": "execute_result",
          "data": {
            "text/plain": [
              "(0, dtype('float64'))"
            ]
          },
          "metadata": {
            "tags": []
          },
          "execution_count": 399
        }
      ]
    },
    {
      "cell_type": "code",
      "metadata": {
        "colab": {
          "base_uri": "https://localhost:8080/",
          "height": 244
        },
        "id": "e0-TKaaPgN9f",
        "outputId": "3dd92caf-4774-49a4-c015-5e2c229b5272"
      },
      "source": [
        "train.head()"
      ],
      "execution_count": 400,
      "outputs": [
        {
          "output_type": "execute_result",
          "data": {
            "text/html": [
              "<div>\n",
              "<style scoped>\n",
              "    .dataframe tbody tr th:only-of-type {\n",
              "        vertical-align: middle;\n",
              "    }\n",
              "\n",
              "    .dataframe tbody tr th {\n",
              "        vertical-align: top;\n",
              "    }\n",
              "\n",
              "    .dataframe thead th {\n",
              "        text-align: right;\n",
              "    }\n",
              "</style>\n",
              "<table border=\"1\" class=\"dataframe\">\n",
              "  <thead>\n",
              "    <tr style=\"text-align: right;\">\n",
              "      <th></th>\n",
              "      <th>gender</th>\n",
              "      <th>relevent_experience</th>\n",
              "      <th>enrolled_university</th>\n",
              "      <th>education_level</th>\n",
              "      <th>major_discipline</th>\n",
              "      <th>experience</th>\n",
              "      <th>company_size</th>\n",
              "      <th>company_type</th>\n",
              "      <th>last_new_job</th>\n",
              "      <th>training_hours</th>\n",
              "      <th>target</th>\n",
              "    </tr>\n",
              "  </thead>\n",
              "  <tbody>\n",
              "    <tr>\n",
              "      <th>0</th>\n",
              "      <td>Male</td>\n",
              "      <td>Has relevent experience</td>\n",
              "      <td>no_enrollment</td>\n",
              "      <td>Graduate</td>\n",
              "      <td>STEM</td>\n",
              "      <td>20.0</td>\n",
              "      <td>NaN</td>\n",
              "      <td>NaN</td>\n",
              "      <td>1</td>\n",
              "      <td>36</td>\n",
              "      <td>1.0</td>\n",
              "    </tr>\n",
              "    <tr>\n",
              "      <th>1</th>\n",
              "      <td>Male</td>\n",
              "      <td>No relevent experience</td>\n",
              "      <td>no_enrollment</td>\n",
              "      <td>Graduate</td>\n",
              "      <td>STEM</td>\n",
              "      <td>15.0</td>\n",
              "      <td>50-99</td>\n",
              "      <td>Pvt Ltd</td>\n",
              "      <td>&gt;4</td>\n",
              "      <td>47</td>\n",
              "      <td>0.0</td>\n",
              "    </tr>\n",
              "    <tr>\n",
              "      <th>2</th>\n",
              "      <td>Male</td>\n",
              "      <td>No relevent experience</td>\n",
              "      <td>Full time course</td>\n",
              "      <td>Graduate</td>\n",
              "      <td>STEM</td>\n",
              "      <td>5.0</td>\n",
              "      <td>NaN</td>\n",
              "      <td>NaN</td>\n",
              "      <td>never</td>\n",
              "      <td>83</td>\n",
              "      <td>0.0</td>\n",
              "    </tr>\n",
              "    <tr>\n",
              "      <th>3</th>\n",
              "      <td>Male</td>\n",
              "      <td>No relevent experience</td>\n",
              "      <td>no_enrollment</td>\n",
              "      <td>Graduate</td>\n",
              "      <td>Business Degree</td>\n",
              "      <td>1.0</td>\n",
              "      <td>NaN</td>\n",
              "      <td>Pvt Ltd</td>\n",
              "      <td>never</td>\n",
              "      <td>52</td>\n",
              "      <td>1.0</td>\n",
              "    </tr>\n",
              "    <tr>\n",
              "      <th>4</th>\n",
              "      <td>Male</td>\n",
              "      <td>Has relevent experience</td>\n",
              "      <td>no_enrollment</td>\n",
              "      <td>Masters</td>\n",
              "      <td>STEM</td>\n",
              "      <td>20.0</td>\n",
              "      <td>50-99</td>\n",
              "      <td>Funded Startup</td>\n",
              "      <td>4</td>\n",
              "      <td>8</td>\n",
              "      <td>0.0</td>\n",
              "    </tr>\n",
              "  </tbody>\n",
              "</table>\n",
              "</div>"
            ],
            "text/plain": [
              "  gender      relevent_experience  ... training_hours target\n",
              "0   Male  Has relevent experience  ...             36    1.0\n",
              "1   Male   No relevent experience  ...             47    0.0\n",
              "2   Male   No relevent experience  ...             83    0.0\n",
              "3   Male   No relevent experience  ...             52    1.0\n",
              "4   Male  Has relevent experience  ...              8    0.0\n",
              "\n",
              "[5 rows x 11 columns]"
            ]
          },
          "metadata": {
            "tags": []
          },
          "execution_count": 400
        }
      ]
    },
    {
      "cell_type": "code",
      "metadata": {
        "colab": {
          "base_uri": "https://localhost:8080/"
        },
        "id": "Jf1wRjHQhEJ0",
        "outputId": "9d0f214c-ad98-4669-9cf9-eed24235a4cc"
      },
      "source": [
        "train['company_size'].unique()"
      ],
      "execution_count": 401,
      "outputs": [
        {
          "output_type": "execute_result",
          "data": {
            "text/plain": [
              "array([nan, '50-99', '<10', '10000+', '5000-9999', '1000-4999', '10/49',\n",
              "       '100-500', '500-999'], dtype=object)"
            ]
          },
          "metadata": {
            "tags": []
          },
          "execution_count": 401
        }
      ]
    },
    {
      "cell_type": "code",
      "metadata": {
        "colab": {
          "base_uri": "https://localhost:8080/"
        },
        "id": "yI-5-FahhEN5",
        "outputId": "b698df6d-d3b3-4be2-966f-6d0486b258f9"
      },
      "source": [
        "train['company_size'].isna().sum()"
      ],
      "execution_count": 402,
      "outputs": [
        {
          "output_type": "execute_result",
          "data": {
            "text/plain": [
              "5821"
            ]
          },
          "metadata": {
            "tags": []
          },
          "execution_count": 402
        }
      ]
    },
    {
      "cell_type": "code",
      "metadata": {
        "colab": {
          "base_uri": "https://localhost:8080/"
        },
        "id": "Fm5XsITghtvv",
        "outputId": "2f7d4164-7e3d-4e10-aee5-3fd5f9642c8c"
      },
      "source": [
        "mode(train['company_size'])"
      ],
      "execution_count": 403,
      "outputs": [
        {
          "output_type": "execute_result",
          "data": {
            "text/plain": [
              "ModeResult(mode=array(['50-99'], dtype=object), count=array([3048]))"
            ]
          },
          "metadata": {
            "tags": []
          },
          "execution_count": 403
        }
      ]
    },
    {
      "cell_type": "code",
      "metadata": {
        "id": "qfLNb1LIh7tR"
      },
      "source": [
        "train['company_size'].replace(np.nan, '50-99', inplace=True)"
      ],
      "execution_count": 404,
      "outputs": []
    },
    {
      "cell_type": "code",
      "metadata": {
        "colab": {
          "base_uri": "https://localhost:8080/"
        },
        "id": "3miHVshtiHpV",
        "outputId": "5bea5c84-1994-48a2-9512-b7170cc732b5"
      },
      "source": [
        "train['company_size'].isna().sum()"
      ],
      "execution_count": 405,
      "outputs": [
        {
          "output_type": "execute_result",
          "data": {
            "text/plain": [
              "0"
            ]
          },
          "metadata": {
            "tags": []
          },
          "execution_count": 405
        }
      ]
    },
    {
      "cell_type": "code",
      "metadata": {
        "id": "jfUfvohAiLBf"
      },
      "source": [
        "train['company_size'].replace('10/49', '10-49', inplace=True)"
      ],
      "execution_count": 406,
      "outputs": []
    },
    {
      "cell_type": "code",
      "metadata": {
        "colab": {
          "base_uri": "https://localhost:8080/"
        },
        "id": "J4OuDLbyiLKN",
        "outputId": "5a4baa03-fcc6-4684-9c40-153c1795782b"
      },
      "source": [
        "train['company_size'].unique()"
      ],
      "execution_count": 407,
      "outputs": [
        {
          "output_type": "execute_result",
          "data": {
            "text/plain": [
              "array(['50-99', '<10', '10000+', '5000-9999', '1000-4999', '10-49',\n",
              "       '100-500', '500-999'], dtype=object)"
            ]
          },
          "metadata": {
            "tags": []
          },
          "execution_count": 407
        }
      ]
    },
    {
      "cell_type": "code",
      "metadata": {
        "colab": {
          "base_uri": "https://localhost:8080/"
        },
        "id": "IRd2c_0gjOnK",
        "outputId": "3c3b4506-1f74-46dd-dde1-49ac29a12e9d"
      },
      "source": [
        "test['company_size'].unique()"
      ],
      "execution_count": 408,
      "outputs": [
        {
          "output_type": "execute_result",
          "data": {
            "text/plain": [
              "array(['<10', nan, '10/49', '10000+', '100-500', '50-99', '1000-4999',\n",
              "       '500-999', '5000-9999'], dtype=object)"
            ]
          },
          "metadata": {
            "tags": []
          },
          "execution_count": 408
        }
      ]
    },
    {
      "cell_type": "code",
      "metadata": {
        "colab": {
          "base_uri": "https://localhost:8080/"
        },
        "id": "rVZFzhYOjQ-N",
        "outputId": "9cb76d6d-ef55-4108-f4ca-ce72c5120fcd"
      },
      "source": [
        "mode(test['company_size'])"
      ],
      "execution_count": 409,
      "outputs": [
        {
          "output_type": "execute_result",
          "data": {
            "text/plain": [
              "ModeResult(mode=array(['50-99'], dtype=object), count=array([338]))"
            ]
          },
          "metadata": {
            "tags": []
          },
          "execution_count": 409
        }
      ]
    },
    {
      "cell_type": "code",
      "metadata": {
        "id": "zBkFPcXPjT-k"
      },
      "source": [
        "test['company_size'].replace(np.nan, '50-99', inplace=True)"
      ],
      "execution_count": 410,
      "outputs": []
    },
    {
      "cell_type": "code",
      "metadata": {
        "id": "XfXqB3eUjYBj"
      },
      "source": [
        "test['company_size'].replace('10/49', '10-49', inplace=True)"
      ],
      "execution_count": 411,
      "outputs": []
    },
    {
      "cell_type": "code",
      "metadata": {
        "colab": {
          "base_uri": "https://localhost:8080/"
        },
        "id": "0Q-nGz-Zjjjh",
        "outputId": "fef66d0e-5ede-4184-aa02-9a351607ded1"
      },
      "source": [
        "test['company_size'].unique()"
      ],
      "execution_count": 412,
      "outputs": [
        {
          "output_type": "execute_result",
          "data": {
            "text/plain": [
              "array(['<10', '50-99', '10-49', '10000+', '100-500', '1000-4999',\n",
              "       '500-999', '5000-9999'], dtype=object)"
            ]
          },
          "metadata": {
            "tags": []
          },
          "execution_count": 412
        }
      ]
    },
    {
      "cell_type": "code",
      "metadata": {
        "colab": {
          "base_uri": "https://localhost:8080/"
        },
        "id": "tx4y-YaqjjmZ",
        "outputId": "afcf55d0-50fc-4b50-cb1d-8a8d15280256"
      },
      "source": [
        "test['company_size'].isna().sum()"
      ],
      "execution_count": 413,
      "outputs": [
        {
          "output_type": "execute_result",
          "data": {
            "text/plain": [
              "0"
            ]
          },
          "metadata": {
            "tags": []
          },
          "execution_count": 413
        }
      ]
    },
    {
      "cell_type": "code",
      "metadata": {
        "colab": {
          "base_uri": "https://localhost:8080/"
        },
        "id": "2vMjsA2Bk9dv",
        "outputId": "251b8a0e-583f-4305-e2bc-5aaef2d70a7f"
      },
      "source": [
        "train['company_type'].unique()"
      ],
      "execution_count": 414,
      "outputs": [
        {
          "output_type": "execute_result",
          "data": {
            "text/plain": [
              "array([nan, 'Pvt Ltd', 'Funded Startup', 'Early Stage Startup', 'Other',\n",
              "       'Public Sector', 'NGO'], dtype=object)"
            ]
          },
          "metadata": {
            "tags": []
          },
          "execution_count": 414
        }
      ]
    },
    {
      "cell_type": "code",
      "metadata": {
        "id": "hQUw76bdmFW7"
      },
      "source": [
        " \t \t\r\n",
        "\r\n",
        "train.drop('company_type', axis=1, inplace=True)\r\n",
        "test.drop('company_type', axis=1, inplace=True)\r\n",
        "\r\n",
        "train.drop('last_new_job', axis=1, inplace=True)\r\n",
        "test.drop('last_new_job', axis=1, inplace=True)"
      ],
      "execution_count": 415,
      "outputs": []
    },
    {
      "cell_type": "code",
      "metadata": {
        "colab": {
          "base_uri": "https://localhost:8080/",
          "height": 206
        },
        "id": "JWECx4v6mFZp",
        "outputId": "8b277ce0-19d9-4031-adf7-d880f019bb95"
      },
      "source": [
        "train.head()"
      ],
      "execution_count": 416,
      "outputs": [
        {
          "output_type": "execute_result",
          "data": {
            "text/html": [
              "<div>\n",
              "<style scoped>\n",
              "    .dataframe tbody tr th:only-of-type {\n",
              "        vertical-align: middle;\n",
              "    }\n",
              "\n",
              "    .dataframe tbody tr th {\n",
              "        vertical-align: top;\n",
              "    }\n",
              "\n",
              "    .dataframe thead th {\n",
              "        text-align: right;\n",
              "    }\n",
              "</style>\n",
              "<table border=\"1\" class=\"dataframe\">\n",
              "  <thead>\n",
              "    <tr style=\"text-align: right;\">\n",
              "      <th></th>\n",
              "      <th>gender</th>\n",
              "      <th>relevent_experience</th>\n",
              "      <th>enrolled_university</th>\n",
              "      <th>education_level</th>\n",
              "      <th>major_discipline</th>\n",
              "      <th>experience</th>\n",
              "      <th>company_size</th>\n",
              "      <th>training_hours</th>\n",
              "      <th>target</th>\n",
              "    </tr>\n",
              "  </thead>\n",
              "  <tbody>\n",
              "    <tr>\n",
              "      <th>0</th>\n",
              "      <td>Male</td>\n",
              "      <td>Has relevent experience</td>\n",
              "      <td>no_enrollment</td>\n",
              "      <td>Graduate</td>\n",
              "      <td>STEM</td>\n",
              "      <td>20.0</td>\n",
              "      <td>50-99</td>\n",
              "      <td>36</td>\n",
              "      <td>1.0</td>\n",
              "    </tr>\n",
              "    <tr>\n",
              "      <th>1</th>\n",
              "      <td>Male</td>\n",
              "      <td>No relevent experience</td>\n",
              "      <td>no_enrollment</td>\n",
              "      <td>Graduate</td>\n",
              "      <td>STEM</td>\n",
              "      <td>15.0</td>\n",
              "      <td>50-99</td>\n",
              "      <td>47</td>\n",
              "      <td>0.0</td>\n",
              "    </tr>\n",
              "    <tr>\n",
              "      <th>2</th>\n",
              "      <td>Male</td>\n",
              "      <td>No relevent experience</td>\n",
              "      <td>Full time course</td>\n",
              "      <td>Graduate</td>\n",
              "      <td>STEM</td>\n",
              "      <td>5.0</td>\n",
              "      <td>50-99</td>\n",
              "      <td>83</td>\n",
              "      <td>0.0</td>\n",
              "    </tr>\n",
              "    <tr>\n",
              "      <th>3</th>\n",
              "      <td>Male</td>\n",
              "      <td>No relevent experience</td>\n",
              "      <td>no_enrollment</td>\n",
              "      <td>Graduate</td>\n",
              "      <td>Business Degree</td>\n",
              "      <td>1.0</td>\n",
              "      <td>50-99</td>\n",
              "      <td>52</td>\n",
              "      <td>1.0</td>\n",
              "    </tr>\n",
              "    <tr>\n",
              "      <th>4</th>\n",
              "      <td>Male</td>\n",
              "      <td>Has relevent experience</td>\n",
              "      <td>no_enrollment</td>\n",
              "      <td>Masters</td>\n",
              "      <td>STEM</td>\n",
              "      <td>20.0</td>\n",
              "      <td>50-99</td>\n",
              "      <td>8</td>\n",
              "      <td>0.0</td>\n",
              "    </tr>\n",
              "  </tbody>\n",
              "</table>\n",
              "</div>"
            ],
            "text/plain": [
              "  gender      relevent_experience  ... training_hours target\n",
              "0   Male  Has relevent experience  ...             36    1.0\n",
              "1   Male   No relevent experience  ...             47    0.0\n",
              "2   Male   No relevent experience  ...             83    0.0\n",
              "3   Male   No relevent experience  ...             52    1.0\n",
              "4   Male  Has relevent experience  ...              8    0.0\n",
              "\n",
              "[5 rows x 9 columns]"
            ]
          },
          "metadata": {
            "tags": []
          },
          "execution_count": 416
        }
      ]
    },
    {
      "cell_type": "code",
      "metadata": {
        "colab": {
          "base_uri": "https://localhost:8080/"
        },
        "id": "_nJ1TKuYmXG0",
        "outputId": "6c023a6c-4620-4893-b082-dac915da3635"
      },
      "source": [
        "train['training_hours'].isna().sum()"
      ],
      "execution_count": 417,
      "outputs": [
        {
          "output_type": "execute_result",
          "data": {
            "text/plain": [
              "0"
            ]
          },
          "metadata": {
            "tags": []
          },
          "execution_count": 417
        }
      ]
    },
    {
      "cell_type": "code",
      "metadata": {
        "colab": {
          "base_uri": "https://localhost:8080/",
          "height": 647
        },
        "id": "2Oyvbk2ymlIT",
        "outputId": "70ca8c4d-5c04-4222-cf9c-a17ac0e82637"
      },
      "source": [
        "plt.figure(figsize=(15,7))\r\n",
        "\r\n",
        "sns.swarmplot(x='education_level', y='experience', hue='target', data=train)\r\n",
        "plt.show()"
      ],
      "execution_count": 418,
      "outputs": [
        {
          "output_type": "stream",
          "text": [
            "/usr/local/lib/python3.6/dist-packages/seaborn/categorical.py:1296: UserWarning: 95.8% of the points cannot be placed; you may want to decrease the size of the markers or use stripplot.\n",
            "  warnings.warn(msg, UserWarning)\n",
            "/usr/local/lib/python3.6/dist-packages/seaborn/categorical.py:1296: UserWarning: 88.4% of the points cannot be placed; you may want to decrease the size of the markers or use stripplot.\n",
            "  warnings.warn(msg, UserWarning)\n",
            "/usr/local/lib/python3.6/dist-packages/seaborn/categorical.py:1296: UserWarning: 76.5% of the points cannot be placed; you may want to decrease the size of the markers or use stripplot.\n",
            "  warnings.warn(msg, UserWarning)\n",
            "/usr/local/lib/python3.6/dist-packages/seaborn/categorical.py:1296: UserWarning: 49.1% of the points cannot be placed; you may want to decrease the size of the markers or use stripplot.\n",
            "  warnings.warn(msg, UserWarning)\n",
            "/usr/local/lib/python3.6/dist-packages/seaborn/categorical.py:1296: UserWarning: 25.9% of the points cannot be placed; you may want to decrease the size of the markers or use stripplot.\n",
            "  warnings.warn(msg, UserWarning)\n"
          ],
          "name": "stderr"
        },
        {
          "output_type": "display_data",
          "data": {
            "image/png": "[encoded data removed]",
            "text/plain": [
              "<Figure size 1080x504 with 1 Axes>"
            ]
          },
          "metadata": {
            "tags": []
          }
        }
      ]
    },
    {
      "cell_type": "code",
      "metadata": {
        "id": "IiMhiXtctOpc"
      },
      "source": [
        "test.drop('enrollee_id', axis=1, inplace=True)\r\n",
        "test.drop('city_development_index', axis=1, inplace=True)\r\n",
        "test.drop('city', axis=1, inplace=True)"
      ],
      "execution_count": 419,
      "outputs": []
    },
    {
      "cell_type": "code",
      "metadata": {
        "colab": {
          "base_uri": "https://localhost:8080/"
        },
        "id": "KsCO1p2DpTam",
        "outputId": "2084b392-4391-4d6d-ec00-53c8252322b0"
      },
      "source": [
        "len(train.columns), len(test.columns)"
      ],
      "execution_count": 420,
      "outputs": [
        {
          "output_type": "execute_result",
          "data": {
            "text/plain": [
              "(9, 8)"
            ]
          },
          "metadata": {
            "tags": []
          },
          "execution_count": 420
        }
      ]
    },
    {
      "cell_type": "code",
      "metadata": {
        "colab": {
          "base_uri": "https://localhost:8080/",
          "height": 206
        },
        "id": "So8x2UentfTN",
        "outputId": "df7b048d-17a1-4046-a83e-c4435be0af46"
      },
      "source": [
        "train.head()"
      ],
      "execution_count": 421,
      "outputs": [
        {
          "output_type": "execute_result",
          "data": {
            "text/html": [
              "<div>\n",
              "<style scoped>\n",
              "    .dataframe tbody tr th:only-of-type {\n",
              "        vertical-align: middle;\n",
              "    }\n",
              "\n",
              "    .dataframe tbody tr th {\n",
              "        vertical-align: top;\n",
              "    }\n",
              "\n",
              "    .dataframe thead th {\n",
              "        text-align: right;\n",
              "    }\n",
              "</style>\n",
              "<table border=\"1\" class=\"dataframe\">\n",
              "  <thead>\n",
              "    <tr style=\"text-align: right;\">\n",
              "      <th></th>\n",
              "      <th>gender</th>\n",
              "      <th>relevent_experience</th>\n",
              "      <th>enrolled_university</th>\n",
              "      <th>education_level</th>\n",
              "      <th>major_discipline</th>\n",
              "      <th>experience</th>\n",
              "      <th>company_size</th>\n",
              "      <th>training_hours</th>\n",
              "      <th>target</th>\n",
              "    </tr>\n",
              "  </thead>\n",
              "  <tbody>\n",
              "    <tr>\n",
              "      <th>0</th>\n",
              "      <td>Male</td>\n",
              "      <td>Has relevent experience</td>\n",
              "      <td>no_enrollment</td>\n",
              "      <td>Graduate</td>\n",
              "      <td>STEM</td>\n",
              "      <td>20.0</td>\n",
              "      <td>50-99</td>\n",
              "      <td>36</td>\n",
              "      <td>1.0</td>\n",
              "    </tr>\n",
              "    <tr>\n",
              "      <th>1</th>\n",
              "      <td>Male</td>\n",
              "      <td>No relevent experience</td>\n",
              "      <td>no_enrollment</td>\n",
              "      <td>Graduate</td>\n",
              "      <td>STEM</td>\n",
              "      <td>15.0</td>\n",
              "      <td>50-99</td>\n",
              "      <td>47</td>\n",
              "      <td>0.0</td>\n",
              "    </tr>\n",
              "    <tr>\n",
              "      <th>2</th>\n",
              "      <td>Male</td>\n",
              "      <td>No relevent experience</td>\n",
              "      <td>Full time course</td>\n",
              "      <td>Graduate</td>\n",
              "      <td>STEM</td>\n",
              "      <td>5.0</td>\n",
              "      <td>50-99</td>\n",
              "      <td>83</td>\n",
              "      <td>0.0</td>\n",
              "    </tr>\n",
              "    <tr>\n",
              "      <th>3</th>\n",
              "      <td>Male</td>\n",
              "      <td>No relevent experience</td>\n",
              "      <td>no_enrollment</td>\n",
              "      <td>Graduate</td>\n",
              "      <td>Business Degree</td>\n",
              "      <td>1.0</td>\n",
              "      <td>50-99</td>\n",
              "      <td>52</td>\n",
              "      <td>1.0</td>\n",
              "    </tr>\n",
              "    <tr>\n",
              "      <th>4</th>\n",
              "      <td>Male</td>\n",
              "      <td>Has relevent experience</td>\n",
              "      <td>no_enrollment</td>\n",
              "      <td>Masters</td>\n",
              "      <td>STEM</td>\n",
              "      <td>20.0</td>\n",
              "      <td>50-99</td>\n",
              "      <td>8</td>\n",
              "      <td>0.0</td>\n",
              "    </tr>\n",
              "  </tbody>\n",
              "</table>\n",
              "</div>"
            ],
            "text/plain": [
              "  gender      relevent_experience  ... training_hours target\n",
              "0   Male  Has relevent experience  ...             36    1.0\n",
              "1   Male   No relevent experience  ...             47    0.0\n",
              "2   Male   No relevent experience  ...             83    0.0\n",
              "3   Male   No relevent experience  ...             52    1.0\n",
              "4   Male  Has relevent experience  ...              8    0.0\n",
              "\n",
              "[5 rows x 9 columns]"
            ]
          },
          "metadata": {
            "tags": []
          },
          "execution_count": 421
        }
      ]
    },
    {
      "cell_type": "code",
      "metadata": {
        "id": "oC1Uc2JutfXL"
      },
      "source": [
        "train['relevent_experience'].replace('Has relevent experience', 1, inplace=True)\r\n",
        "train['relevent_experience'].replace('No relevent experience', 0, inplace=True)\r\n",
        "\r\n",
        "test['relevent_experience'].replace('Has relevent experience', 1, inplace=True)\r\n",
        "test['relevent_experience'].replace('No relevent experience', 0, inplace=True)"
      ],
      "execution_count": 422,
      "outputs": []
    },
    {
      "cell_type": "code",
      "metadata": {
        "colab": {
          "base_uri": "https://localhost:8080/"
        },
        "id": "6JvhTywVxBra",
        "outputId": "6cb462b1-9d96-44dd-870b-04b699754471"
      },
      "source": [
        "train['enrolled_university'].unique()"
      ],
      "execution_count": 423,
      "outputs": [
        {
          "output_type": "execute_result",
          "data": {
            "text/plain": [
              "array(['no_enrollment', 'Full time course', 'Part time course'],\n",
              "      dtype=object)"
            ]
          },
          "metadata": {
            "tags": []
          },
          "execution_count": 423
        }
      ]
    },
    {
      "cell_type": "code",
      "metadata": {
        "id": "lP1t5e6NxyMg"
      },
      "source": [
        "train['enrolled_university'].replace('Full time course', 0, inplace=True)\r\n",
        "train['enrolled_university'].replace('Part time course', 1, inplace=True)\r\n",
        "train['enrolled_university'].replace('no_enrollment', 2, inplace=True)\r\n",
        "\r\n",
        "test['enrolled_university'].replace('Full time course', 0, inplace=True)\r\n",
        "test['enrolled_university'].replace('Part time course', 1, inplace=True)\r\n",
        "test['enrolled_university'].replace('no_enrollment', 2, inplace=True)"
      ],
      "execution_count": 424,
      "outputs": []
    },
    {
      "cell_type": "code",
      "metadata": {
        "colab": {
          "base_uri": "https://localhost:8080/"
        },
        "id": "gXzjbxOFyajV",
        "outputId": "df5ad2df-01b9-4b6c-9e85-75f8416754cc"
      },
      "source": [
        "train['education_level'].unique()"
      ],
      "execution_count": 425,
      "outputs": [
        {
          "output_type": "execute_result",
          "data": {
            "text/plain": [
              "array(['Graduate', 'Masters', 'High School', 'Phd', 'Primary School'],\n",
              "      dtype=object)"
            ]
          },
          "metadata": {
            "tags": []
          },
          "execution_count": 425
        }
      ]
    },
    {
      "cell_type": "code",
      "metadata": {
        "id": "qSAfBaJNyamL"
      },
      "source": [
        "for i, j in enumerate(['Primary School', 'High School', 'Graduate', 'Masters', 'Phd']):\r\n",
        "\r\n",
        "  train['education_level'].replace(j, i, inplace=True)\r\n",
        "  test['education_level'].replace(j, i, inplace=True)"
      ],
      "execution_count": 426,
      "outputs": []
    },
    {
      "cell_type": "code",
      "metadata": {
        "colab": {
          "base_uri": "https://localhost:8080/"
        },
        "id": "Y3q7G2XdyapE",
        "outputId": "359c9f73-98e9-473d-b286-02c4a5a2b3d5"
      },
      "source": [
        "train['education_level'].unique()"
      ],
      "execution_count": 427,
      "outputs": [
        {
          "output_type": "execute_result",
          "data": {
            "text/plain": [
              "array([2, 3, 1, 4, 0])"
            ]
          },
          "metadata": {
            "tags": []
          },
          "execution_count": 427
        }
      ]
    },
    {
      "cell_type": "code",
      "metadata": {
        "colab": {
          "base_uri": "https://localhost:8080/",
          "height": 206
        },
        "id": "w1ffhxTY1XWL",
        "outputId": "0578b2ea-6bf1-4692-f9d8-74bbcabb3476"
      },
      "source": [
        "train.head()"
      ],
      "execution_count": 428,
      "outputs": [
        {
          "output_type": "execute_result",
          "data": {
            "text/html": [
              "<div>\n",
              "<style scoped>\n",
              "    .dataframe tbody tr th:only-of-type {\n",
              "        vertical-align: middle;\n",
              "    }\n",
              "\n",
              "    .dataframe tbody tr th {\n",
              "        vertical-align: top;\n",
              "    }\n",
              "\n",
              "    .dataframe thead th {\n",
              "        text-align: right;\n",
              "    }\n",
              "</style>\n",
              "<table border=\"1\" class=\"dataframe\">\n",
              "  <thead>\n",
              "    <tr style=\"text-align: right;\">\n",
              "      <th></th>\n",
              "      <th>gender</th>\n",
              "      <th>relevent_experience</th>\n",
              "      <th>enrolled_university</th>\n",
              "      <th>education_level</th>\n",
              "      <th>major_discipline</th>\n",
              "      <th>experience</th>\n",
              "      <th>company_size</th>\n",
              "      <th>training_hours</th>\n",
              "      <th>target</th>\n",
              "    </tr>\n",
              "  </thead>\n",
              "  <tbody>\n",
              "    <tr>\n",
              "      <th>0</th>\n",
              "      <td>Male</td>\n",
              "      <td>1</td>\n",
              "      <td>2</td>\n",
              "      <td>2</td>\n",
              "      <td>STEM</td>\n",
              "      <td>20.0</td>\n",
              "      <td>50-99</td>\n",
              "      <td>36</td>\n",
              "      <td>1.0</td>\n",
              "    </tr>\n",
              "    <tr>\n",
              "      <th>1</th>\n",
              "      <td>Male</td>\n",
              "      <td>0</td>\n",
              "      <td>2</td>\n",
              "      <td>2</td>\n",
              "      <td>STEM</td>\n",
              "      <td>15.0</td>\n",
              "      <td>50-99</td>\n",
              "      <td>47</td>\n",
              "      <td>0.0</td>\n",
              "    </tr>\n",
              "    <tr>\n",
              "      <th>2</th>\n",
              "      <td>Male</td>\n",
              "      <td>0</td>\n",
              "      <td>0</td>\n",
              "      <td>2</td>\n",
              "      <td>STEM</td>\n",
              "      <td>5.0</td>\n",
              "      <td>50-99</td>\n",
              "      <td>83</td>\n",
              "      <td>0.0</td>\n",
              "    </tr>\n",
              "    <tr>\n",
              "      <th>3</th>\n",
              "      <td>Male</td>\n",
              "      <td>0</td>\n",
              "      <td>2</td>\n",
              "      <td>2</td>\n",
              "      <td>Business Degree</td>\n",
              "      <td>1.0</td>\n",
              "      <td>50-99</td>\n",
              "      <td>52</td>\n",
              "      <td>1.0</td>\n",
              "    </tr>\n",
              "    <tr>\n",
              "      <th>4</th>\n",
              "      <td>Male</td>\n",
              "      <td>1</td>\n",
              "      <td>2</td>\n",
              "      <td>3</td>\n",
              "      <td>STEM</td>\n",
              "      <td>20.0</td>\n",
              "      <td>50-99</td>\n",
              "      <td>8</td>\n",
              "      <td>0.0</td>\n",
              "    </tr>\n",
              "  </tbody>\n",
              "</table>\n",
              "</div>"
            ],
            "text/plain": [
              "  gender  relevent_experience  ...  training_hours  target\n",
              "0   Male                    1  ...              36     1.0\n",
              "1   Male                    0  ...              47     0.0\n",
              "2   Male                    0  ...              83     0.0\n",
              "3   Male                    0  ...              52     1.0\n",
              "4   Male                    1  ...               8     0.0\n",
              "\n",
              "[5 rows x 9 columns]"
            ]
          },
          "metadata": {
            "tags": []
          },
          "execution_count": 428
        }
      ]
    },
    {
      "cell_type": "code",
      "metadata": {
        "colab": {
          "base_uri": "https://localhost:8080/"
        },
        "id": "TRLgnBqK1fSm",
        "outputId": "f2c50c15-db97-4d1d-f03d-a58a8c1a4de4"
      },
      "source": [
        "train['major_discipline'].unique()"
      ],
      "execution_count": 429,
      "outputs": [
        {
          "output_type": "execute_result",
          "data": {
            "text/plain": [
              "array(['STEM', 'Business Degree', 'Arts', 'Humanities', 'No Major',\n",
              "       'Other'], dtype=object)"
            ]
          },
          "metadata": {
            "tags": []
          },
          "execution_count": 429
        }
      ]
    },
    {
      "cell_type": "code",
      "metadata": {
        "id": "FkQ6vEVF1fWI"
      },
      "source": [
        "for i, j in enumerate(['STEM', 'Business Degree', 'Arts', 'Humanities', 'No Major',\r\n",
        "       'Other']):\r\n",
        "\r\n",
        "  train['major_discipline'].replace(j, i, inplace=True)\r\n",
        "  test['major_discipline'].replace(j, i, inplace=True)"
      ],
      "execution_count": 430,
      "outputs": []
    },
    {
      "cell_type": "code",
      "metadata": {
        "colab": {
          "base_uri": "https://localhost:8080/"
        },
        "id": "-NUzhf_j6Fxv",
        "outputId": "2a9c8632-854b-4765-d9a0-508fc3035cf1"
      },
      "source": [
        "train['company_size'].unique()"
      ],
      "execution_count": 431,
      "outputs": [
        {
          "output_type": "execute_result",
          "data": {
            "text/plain": [
              "array(['50-99', '<10', '10000+', '5000-9999', '1000-4999', '10-49',\n",
              "       '100-500', '500-999'], dtype=object)"
            ]
          },
          "metadata": {
            "tags": []
          },
          "execution_count": 431
        }
      ]
    },
    {
      "cell_type": "code",
      "metadata": {
        "id": "tZsOwpnU6Q1l"
      },
      "source": [
        "for i, j in enumerate(['<10','10-49','50-99','100-500','500-999','1000-4999','5000-9999','10000+']):\r\n",
        "\r\n",
        "  train['company_size'].replace(j, i, inplace=True)\r\n",
        "  test['company_size'].replace(j, i, inplace=True)"
      ],
      "execution_count": 432,
      "outputs": []
    },
    {
      "cell_type": "code",
      "metadata": {
        "colab": {
          "base_uri": "https://localhost:8080/",
          "height": 112
        },
        "id": "VbCG52YN6pX5",
        "outputId": "63844bc3-c49d-43ed-af25-68d68bc2198a"
      },
      "source": [
        "train.head(2)"
      ],
      "execution_count": 433,
      "outputs": [
        {
          "output_type": "execute_result",
          "data": {
            "text/html": [
              "<div>\n",
              "<style scoped>\n",
              "    .dataframe tbody tr th:only-of-type {\n",
              "        vertical-align: middle;\n",
              "    }\n",
              "\n",
              "    .dataframe tbody tr th {\n",
              "        vertical-align: top;\n",
              "    }\n",
              "\n",
              "    .dataframe thead th {\n",
              "        text-align: right;\n",
              "    }\n",
              "</style>\n",
              "<table border=\"1\" class=\"dataframe\">\n",
              "  <thead>\n",
              "    <tr style=\"text-align: right;\">\n",
              "      <th></th>\n",
              "      <th>gender</th>\n",
              "      <th>relevent_experience</th>\n",
              "      <th>enrolled_university</th>\n",
              "      <th>education_level</th>\n",
              "      <th>major_discipline</th>\n",
              "      <th>experience</th>\n",
              "      <th>company_size</th>\n",
              "      <th>training_hours</th>\n",
              "      <th>target</th>\n",
              "    </tr>\n",
              "  </thead>\n",
              "  <tbody>\n",
              "    <tr>\n",
              "      <th>0</th>\n",
              "      <td>Male</td>\n",
              "      <td>1</td>\n",
              "      <td>2</td>\n",
              "      <td>2</td>\n",
              "      <td>0</td>\n",
              "      <td>20.0</td>\n",
              "      <td>2</td>\n",
              "      <td>36</td>\n",
              "      <td>1.0</td>\n",
              "    </tr>\n",
              "    <tr>\n",
              "      <th>1</th>\n",
              "      <td>Male</td>\n",
              "      <td>0</td>\n",
              "      <td>2</td>\n",
              "      <td>2</td>\n",
              "      <td>0</td>\n",
              "      <td>15.0</td>\n",
              "      <td>2</td>\n",
              "      <td>47</td>\n",
              "      <td>0.0</td>\n",
              "    </tr>\n",
              "  </tbody>\n",
              "</table>\n",
              "</div>"
            ],
            "text/plain": [
              "  gender  relevent_experience  ...  training_hours  target\n",
              "0   Male                    1  ...              36     1.0\n",
              "1   Male                    0  ...              47     0.0\n",
              "\n",
              "[2 rows x 9 columns]"
            ]
          },
          "metadata": {
            "tags": []
          },
          "execution_count": 433
        }
      ]
    },
    {
      "cell_type": "code",
      "metadata": {
        "colab": {
          "base_uri": "https://localhost:8080/",
          "height": 112
        },
        "id": "RwF88Ibm6rkl",
        "outputId": "cde640af-b4d9-4f22-a072-d318a259c93f"
      },
      "source": [
        "test.head(2)"
      ],
      "execution_count": 434,
      "outputs": [
        {
          "output_type": "execute_result",
          "data": {
            "text/html": [
              "<div>\n",
              "<style scoped>\n",
              "    .dataframe tbody tr th:only-of-type {\n",
              "        vertical-align: middle;\n",
              "    }\n",
              "\n",
              "    .dataframe tbody tr th {\n",
              "        vertical-align: top;\n",
              "    }\n",
              "\n",
              "    .dataframe thead th {\n",
              "        text-align: right;\n",
              "    }\n",
              "</style>\n",
              "<table border=\"1\" class=\"dataframe\">\n",
              "  <thead>\n",
              "    <tr style=\"text-align: right;\">\n",
              "      <th></th>\n",
              "      <th>gender</th>\n",
              "      <th>relevent_experience</th>\n",
              "      <th>enrolled_university</th>\n",
              "      <th>education_level</th>\n",
              "      <th>major_discipline</th>\n",
              "      <th>experience</th>\n",
              "      <th>company_size</th>\n",
              "      <th>training_hours</th>\n",
              "    </tr>\n",
              "  </thead>\n",
              "  <tbody>\n",
              "    <tr>\n",
              "      <th>0</th>\n",
              "      <td>Male</td>\n",
              "      <td>1</td>\n",
              "      <td>0</td>\n",
              "      <td>2</td>\n",
              "      <td>0</td>\n",
              "      <td>9</td>\n",
              "      <td>0</td>\n",
              "      <td>21</td>\n",
              "    </tr>\n",
              "    <tr>\n",
              "      <th>1</th>\n",
              "      <td>Female</td>\n",
              "      <td>1</td>\n",
              "      <td>2</td>\n",
              "      <td>2</td>\n",
              "      <td>0</td>\n",
              "      <td>5</td>\n",
              "      <td>2</td>\n",
              "      <td>98</td>\n",
              "    </tr>\n",
              "  </tbody>\n",
              "</table>\n",
              "</div>"
            ],
            "text/plain": [
              "   gender  relevent_experience  ...  company_size  training_hours\n",
              "0    Male                    1  ...             0              21\n",
              "1  Female                    1  ...             2              98\n",
              "\n",
              "[2 rows x 8 columns]"
            ]
          },
          "metadata": {
            "tags": []
          },
          "execution_count": 434
        }
      ]
    },
    {
      "cell_type": "code",
      "metadata": {
        "id": "_tfEFykp6uuB"
      },
      "source": [
        "train.drop('gender', axis=1, inplace=True)\r\n",
        "test.drop('gender', axis=1, inplace=True)"
      ],
      "execution_count": 435,
      "outputs": []
    },
    {
      "cell_type": "code",
      "metadata": {
        "colab": {
          "base_uri": "https://localhost:8080/"
        },
        "id": "PhWnSDRaM_n3",
        "outputId": "d9479437-c3e1-439a-e9fb-19c0c14071b7"
      },
      "source": [
        "train.isna().sum()"
      ],
      "execution_count": 436,
      "outputs": [
        {
          "output_type": "execute_result",
          "data": {
            "text/plain": [
              "relevent_experience    0\n",
              "enrolled_university    0\n",
              "education_level        0\n",
              "major_discipline       0\n",
              "experience             0\n",
              "company_size           0\n",
              "training_hours         0\n",
              "target                 0\n",
              "dtype: int64"
            ]
          },
          "metadata": {
            "tags": []
          },
          "execution_count": 436
        }
      ]
    },
    {
      "cell_type": "code",
      "metadata": {
        "id": "7kA_SLaTKNVy"
      },
      "source": [
        "train.dropna(inplace=True)"
      ],
      "execution_count": 437,
      "outputs": []
    },
    {
      "cell_type": "code",
      "metadata": {
        "colab": {
          "base_uri": "https://localhost:8080/"
        },
        "id": "y0E9F7C4KIKM",
        "outputId": "7a566ff2-91d6-4239-ea95-60e576d56aae"
      },
      "source": [
        "test.isna().sum()"
      ],
      "execution_count": 438,
      "outputs": [
        {
          "output_type": "execute_result",
          "data": {
            "text/plain": [
              "relevent_experience    0\n",
              "enrolled_university    0\n",
              "education_level        0\n",
              "major_discipline       0\n",
              "experience             0\n",
              "company_size           0\n",
              "training_hours         0\n",
              "dtype: int64"
            ]
          },
          "metadata": {
            "tags": []
          },
          "execution_count": 438
        }
      ]
    },
    {
      "cell_type": "code",
      "metadata": {
        "id": "gg6CDedW64OT"
      },
      "source": [
        "for i in test.columns:\r\n",
        "\r\n",
        "  train[i] = train[i].astype('int16')\r\n",
        "  test[i] = test[i].astype('int16')"
      ],
      "execution_count": 439,
      "outputs": []
    },
    {
      "cell_type": "code",
      "metadata": {
        "id": "uo10dqsU7iMJ"
      },
      "source": [
        "train['target'] = train['target'].astype('int16')"
      ],
      "execution_count": 440,
      "outputs": []
    },
    {
      "cell_type": "code",
      "metadata": {
        "colab": {
          "base_uri": "https://localhost:8080/"
        },
        "id": "eXO9zTTq7ZPV",
        "outputId": "6392a98b-05a9-4e04-dcd0-8cc94823b432"
      },
      "source": [
        "train.info()"
      ],
      "execution_count": 441,
      "outputs": [
        {
          "output_type": "stream",
          "text": [
            "<class 'pandas.core.frame.DataFrame'>\n",
            "Int64Index: 18880 entries, 0 to 19157\n",
            "Data columns (total 8 columns):\n",
            " #   Column               Non-Null Count  Dtype\n",
            "---  ------               --------------  -----\n",
            " 0   relevent_experience  18880 non-null  int16\n",
            " 1   enrolled_university  18880 non-null  int16\n",
            " 2   education_level      18880 non-null  int16\n",
            " 3   major_discipline     18880 non-null  int16\n",
            " 4   experience           18880 non-null  int16\n",
            " 5   company_size         18880 non-null  int16\n",
            " 6   training_hours       18880 non-null  int16\n",
            " 7   target               18880 non-null  int16\n",
            "dtypes: int16(8)\n",
            "memory usage: 442.5 KB\n"
          ],
          "name": "stdout"
        }
      ]
    },
    {
      "cell_type": "code",
      "metadata": {
        "colab": {
          "base_uri": "https://localhost:8080/"
        },
        "id": "ef1lpneY7ZUf",
        "outputId": "1dde7a68-6c6f-40ba-8433-0c1201003d4e"
      },
      "source": [
        "test.info()"
      ],
      "execution_count": 442,
      "outputs": [
        {
          "output_type": "stream",
          "text": [
            "<class 'pandas.core.frame.DataFrame'>\n",
            "RangeIndex: 2129 entries, 0 to 2128\n",
            "Data columns (total 7 columns):\n",
            " #   Column               Non-Null Count  Dtype\n",
            "---  ------               --------------  -----\n",
            " 0   relevent_experience  2129 non-null   int16\n",
            " 1   enrolled_university  2129 non-null   int16\n",
            " 2   education_level      2129 non-null   int16\n",
            " 3   major_discipline     2129 non-null   int16\n",
            " 4   experience           2129 non-null   int16\n",
            " 5   company_size         2129 non-null   int16\n",
            " 6   training_hours       2129 non-null   int16\n",
            "dtypes: int16(7)\n",
            "memory usage: 29.2 KB\n"
          ],
          "name": "stdout"
        }
      ]
    },
    {
      "cell_type": "code",
      "metadata": {
        "colab": {
          "base_uri": "https://localhost:8080/"
        },
        "id": "FdjS5Mi98GCY",
        "outputId": "0554196d-3016-45f7-efec-4db33d911ae1"
      },
      "source": [
        "import lightgbm as lgbm\r\n",
        "\r\n",
        "help(lgbm)"
      ],
      "execution_count": 443,
      "outputs": [
        {
          "output_type": "stream",
          "text": [
            "Help on package lightgbm:\n",
            "\n",
            "NAME\n",
            "    lightgbm - LightGBM, Light Gradient Boosting Machine.\n",
            "\n",
            "DESCRIPTION\n",
            "    Contributors: https://github.com/Microsoft/LightGBM/graphs/contributors.\n",
            "\n",
            "PACKAGE CONTENTS\n",
            "    basic\n",
            "    callback\n",
            "    compat\n",
            "    engine\n",
            "    lib_lightgbm\n",
            "    libpath\n",
            "    plotting\n",
            "    sklearn\n",
            "\n",
            "CLASSES\n",
            "    builtins.object\n",
            "        lightgbm.basic.Booster\n",
            "        lightgbm.basic.Dataset\n",
            "    sklearn.base.BaseEstimator(builtins.object)\n",
            "        lightgbm.sklearn.LGBMModel\n",
            "            lightgbm.sklearn.LGBMClassifier(lightgbm.sklearn.LGBMModel, sklearn.base.ClassifierMixin)\n",
            "            lightgbm.sklearn.LGBMRanker\n",
            "            lightgbm.sklearn.LGBMRegressor(lightgbm.sklearn.LGBMModel, sklearn.base.RegressorMixin)\n",
            "    \n",
            "    class Booster(builtins.object)\n",
            "     |  Booster in LightGBM.\n",
            "     |  \n",
            "     |  Methods defined here:\n",
            "     |  \n",
            "     |  __copy__(self)\n",
            "     |  \n",
            "     |  __deepcopy__(self, _)\n",
            "     |  \n",
            "     |  __del__(self)\n",
            "     |  \n",
            "     |  __getstate__(self)\n",
            "     |  \n",
            "     |  __init__(self, params=None, train_set=None, model_file=None, silent=False)\n",
            "     |      Initialize the Booster.\n",
            "     |      \n",
            "     |      Parameters\n",
            "     |      ----------\n",
            "     |      params : dict or None, optional (default=None)\n",
            "     |          Parameters for Booster.\n",
            "     |      train_set : Dataset or None, optional (default=None)\n",
            "     |          Training dataset.\n",
            "     |      model_file : string or None, optional (default=None)\n",
            "     |          Path to the model file.\n",
            "     |      silent : bool, optional (default=False)\n",
            "     |          Whether to print messages during construction.\n",
            "     |  \n",
            "     |  __setstate__(self, state)\n",
            "     |  \n",
            "     |  add_valid(self, data, name)\n",
            "     |      Add validation data.\n",
            "     |      \n",
            "     |      Parameters\n",
            "     |      ----------\n",
            "     |      data : Dataset\n",
            "     |          Validation data.\n",
            "     |      name : string\n",
            "     |          Name of validation data.\n",
            "     |      \n",
            "     |      Returns\n",
            "     |      -------\n",
            "     |      self : Booster\n",
            "     |          Booster with set validation data.\n",
            "     |  \n",
            "     |  attr(self, key)\n",
            "     |      Get attribute string from the Booster.\n",
            "     |      \n",
            "     |      Parameters\n",
            "     |      ----------\n",
            "     |      key : string\n",
            "     |          The name of the attribute.\n",
            "     |      \n",
            "     |      Returns\n",
            "     |      -------\n",
            "     |      value : string or None\n",
            "     |          The attribute value.\n",
            "     |          Returns None if attribute does not exist.\n",
            "     |  \n",
            "     |  current_iteration(self)\n",
            "     |      Get the index of the current iteration.\n",
            "     |      \n",
            "     |      Returns\n",
            "     |      -------\n",
            "     |      cur_iter : int\n",
            "     |          The index of the current iteration.\n",
            "     |  \n",
            "     |  dump_model(self, num_iteration=None, start_iteration=0)\n",
            "     |      Dump Booster to JSON format.\n",
            "     |      \n",
            "     |      Parameters\n",
            "     |      ----------\n",
            "     |      num_iteration : int or None, optional (default=None)\n",
            "     |          Index of the iteration that should be dumped.\n",
            "     |          If None, if the best iteration exists, it is dumped; otherwise, all iterations are dumped.\n",
            "     |          If <= 0, all iterations are dumped.\n",
            "     |      start_iteration : int, optional (default=0)\n",
            "     |          Start index of the iteration that should be dumped.\n",
            "     |      \n",
            "     |      Returns\n",
            "     |      -------\n",
            "     |      json_repr : dict\n",
            "     |          JSON format of Booster.\n",
            "     |  \n",
            "     |  eval(self, data, name, feval=None)\n",
            "     |      Evaluate for data.\n",
            "     |      \n",
            "     |      Parameters\n",
            "     |      ----------\n",
            "     |      data : Dataset\n",
            "     |          Data for the evaluating.\n",
            "     |      name : string\n",
            "     |          Name of the data.\n",
            "     |      feval : callable or None, optional (default=None)\n",
            "     |          Customized evaluation function.\n",
            "     |          Should accept two parameters: preds, train_data,\n",
            "     |          and return (eval_name, eval_result, is_higher_better) or list of such tuples.\n",
            "     |          For multi-class task, the preds is group by class_id first, then group by row_id.\n",
            "     |          If you want to get i-th row preds in j-th class, the access way is preds[j * num_data + i].\n",
            "     |      \n",
            "     |      Returns\n",
            "     |      -------\n",
            "     |      result : list\n",
            "     |          List with evaluation results.\n",
            "     |  \n",
            "     |  eval_train(self, feval=None)\n",
            "     |      Evaluate for training data.\n",
            "     |      \n",
            "     |      Parameters\n",
            "     |      ----------\n",
            "     |      feval : callable or None, optional (default=None)\n",
            "     |          Customized evaluation function.\n",
            "     |          Should accept two parameters: preds, train_data,\n",
            "     |          and return (eval_name, eval_result, is_higher_better) or list of such tuples.\n",
            "     |          For multi-class task, the preds is group by class_id first, then group by row_id.\n",
            "     |          If you want to get i-th row preds in j-th class, the access way is preds[j * num_data + i].\n",
            "     |      \n",
            "     |      Returns\n",
            "     |      -------\n",
            "     |      result : list\n",
            "     |          List with evaluation results.\n",
            "     |  \n",
            "     |  eval_valid(self, feval=None)\n",
            "     |      Evaluate for validation data.\n",
            "     |      \n",
            "     |      Parameters\n",
            "     |      ----------\n",
            "     |      feval : callable or None, optional (default=None)\n",
            "     |          Customized evaluation function.\n",
            "     |          Should accept two parameters: preds, train_data,\n",
            "     |          and return (eval_name, eval_result, is_higher_better) or list of such tuples.\n",
            "     |          For multi-class task, the preds is group by class_id first, then group by row_id.\n",
            "     |          If you want to get i-th row preds in j-th class, the access way is preds[j * num_data + i].\n",
            "     |      \n",
            "     |      Returns\n",
            "     |      -------\n",
            "     |      result : list\n",
            "     |          List with evaluation results.\n",
            "     |  \n",
            "     |  feature_importance(self, importance_type='split', iteration=None)\n",
            "     |      Get feature importances.\n",
            "     |      \n",
            "     |      Parameters\n",
            "     |      ----------\n",
            "     |      importance_type : string, optional (default=\"split\")\n",
            "     |          How the importance is calculated.\n",
            "     |          If \"split\", result contains numbers of times the feature is used in a model.\n",
            "     |          If \"gain\", result contains total gains of splits which use the feature.\n",
            "     |      iteration : int or None, optional (default=None)\n",
            "     |          Limit number of iterations in the feature importance calculation.\n",
            "     |          If None, if the best iteration exists, it is used; otherwise, all trees are used.\n",
            "     |          If <= 0, all trees are used (no limits).\n",
            "     |      \n",
            "     |      Returns\n",
            "     |      -------\n",
            "     |      result : numpy array\n",
            "     |          Array with feature importances.\n",
            "     |  \n",
            "     |  feature_name(self)\n",
            "     |      Get names of features.\n",
            "     |      \n",
            "     |      Returns\n",
            "     |      -------\n",
            "     |      result : list\n",
            "     |          List with names of features.\n",
            "     |  \n",
            "     |  free_dataset(self)\n",
            "     |      Free Booster's Datasets.\n",
            "     |      \n",
            "     |      Returns\n",
            "     |      -------\n",
            "     |      self : Booster\n",
            "     |          Booster without Datasets.\n",
            "     |  \n",
            "     |  free_network(self)\n",
            "     |      Free Booster's network.\n",
            "     |      \n",
            "     |      Returns\n",
            "     |      -------\n",
            "     |      self : Booster\n",
            "     |          Booster with freed network.\n",
            "     |  \n",
            "     |  get_leaf_output(self, tree_id, leaf_id)\n",
            "     |      Get the output of a leaf.\n",
            "     |      \n",
            "     |      Parameters\n",
            "     |      ----------\n",
            "     |      tree_id : int\n",
            "     |          The index of the tree.\n",
            "     |      leaf_id : int\n",
            "     |          The index of the leaf in the tree.\n",
            "     |      \n",
            "     |      Returns\n",
            "     |      -------\n",
            "     |      result : float\n",
            "     |          The output of the leaf.\n",
            "     |  \n",
            "     |  model_from_string(self, model_str, verbose=True)\n",
            "     |      Load Booster from a string.\n",
            "     |      \n",
            "     |      Parameters\n",
            "     |      ----------\n",
            "     |      model_str : string\n",
            "     |          Model will be loaded from this string.\n",
            "     |      verbose : bool, optional (default=True)\n",
            "     |          Whether to print messages while loading model.\n",
            "     |      \n",
            "     |      Returns\n",
            "     |      -------\n",
            "     |      self : Booster\n",
            "     |          Loaded Booster object.\n",
            "     |  \n",
            "     |  model_to_string(self, num_iteration=None, start_iteration=0)\n",
            "     |      Save Booster to string.\n",
            "     |      \n",
            "     |      Parameters\n",
            "     |      ----------\n",
            "     |      num_iteration : int or None, optional (default=None)\n",
            "     |          Index of the iteration that should be saved.\n",
            "     |          If None, if the best iteration exists, it is saved; otherwise, all iterations are saved.\n",
            "     |          If <= 0, all iterations are saved.\n",
            "     |      start_iteration : int, optional (default=0)\n",
            "     |          Start index of the iteration that should be saved.\n",
            "     |      \n",
            "     |      Returns\n",
            "     |      -------\n",
            "     |      str_repr : string\n",
            "     |          String representation of Booster.\n",
            "     |  \n",
            "     |  num_feature(self)\n",
            "     |      Get number of features.\n",
            "     |      \n",
            "     |      Returns\n",
            "     |      -------\n",
            "     |      num_feature : int\n",
            "     |          The number of features.\n",
            "     |  \n",
            "     |  num_model_per_iteration(self)\n",
            "     |      Get number of models per iteration.\n",
            "     |      \n",
            "     |      Returns\n",
            "     |      -------\n",
            "     |      model_per_iter : int\n",
            "     |          The number of models per iteration.\n",
            "     |  \n",
            "     |  num_trees(self)\n",
            "     |      Get number of weak sub-models.\n",
            "     |      \n",
            "     |      Returns\n",
            "     |      -------\n",
            "     |      num_trees : int\n",
            "     |          The number of weak sub-models.\n",
            "     |  \n",
            "     |  predict(self, data, num_iteration=None, raw_score=False, pred_leaf=False, pred_contrib=False, data_has_header=False, is_reshape=True, **kwargs)\n",
            "     |      Make a prediction.\n",
            "     |      \n",
            "     |      Parameters\n",
            "     |      ----------\n",
            "     |      data : string, numpy array, pandas DataFrame, H2O DataTable or scipy.sparse\n",
            "     |          Data source for prediction.\n",
            "     |          If string, it represents the path to txt file.\n",
            "     |      num_iteration : int or None, optional (default=None)\n",
            "     |          Limit number of iterations in the prediction.\n",
            "     |          If None, if the best iteration exists, it is used; otherwise, all iterations are used.\n",
            "     |          If <= 0, all iterations are used (no limits).\n",
            "     |      raw_score : bool, optional (default=False)\n",
            "     |          Whether to predict raw scores.\n",
            "     |      pred_leaf : bool, optional (default=False)\n",
            "     |          Whether to predict leaf index.\n",
            "     |      pred_contrib : bool, optional (default=False)\n",
            "     |          Whether to predict feature contributions.\n",
            "     |      \n",
            "     |          Note\n",
            "     |          ----\n",
            "     |          If you want to get more explanation for your model's predictions using SHAP values\n",
            "     |          like SHAP interaction values,\n",
            "     |          you can install shap package (https://github.com/slundberg/shap).\n",
            "     |      \n",
            "     |      data_has_header : bool, optional (default=False)\n",
            "     |          Whether the data has header.\n",
            "     |          Used only if data is string.\n",
            "     |      is_reshape : bool, optional (default=True)\n",
            "     |          If True, result is reshaped to [nrow, ncol].\n",
            "     |      **kwargs\n",
            "     |          Other parameters for the prediction.\n",
            "     |      \n",
            "     |      Returns\n",
            "     |      -------\n",
            "     |      result : numpy array\n",
            "     |          Prediction result.\n",
            "     |  \n",
            "     |  refit(self, data, label, decay_rate=0.9, **kwargs)\n",
            "     |      Refit the existing Booster by new data.\n",
            "     |      \n",
            "     |      Parameters\n",
            "     |      ----------\n",
            "     |      data : string, numpy array, pandas DataFrame, H2O DataTable or scipy.sparse\n",
            "     |          Data source for refit.\n",
            "     |          If string, it represents the path to txt file.\n",
            "     |      label : list, numpy 1-D array or pandas Series / one-column DataFrame\n",
            "     |          Label for refit.\n",
            "     |      decay_rate : float, optional (default=0.9)\n",
            "     |          Decay rate of refit,\n",
            "     |          will use ``leaf_output = decay_rate * old_leaf_output + (1.0 - decay_rate) * new_leaf_output`` to refit trees.\n",
            "     |      **kwargs\n",
            "     |          Other parameters for refit.\n",
            "     |          These parameters will be passed to ``predict`` method.\n",
            "     |      \n",
            "     |      Returns\n",
            "     |      -------\n",
            "     |      result : Booster\n",
            "     |          Refitted Booster.\n",
            "     |  \n",
            "     |  reset_parameter(self, params)\n",
            "     |      Reset parameters of Booster.\n",
            "     |      \n",
            "     |      Parameters\n",
            "     |      ----------\n",
            "     |      params : dict\n",
            "     |          New parameters for Booster.\n",
            "     |      \n",
            "     |      Returns\n",
            "     |      -------\n",
            "     |      self : Booster\n",
            "     |          Booster with new parameters.\n",
            "     |  \n",
            "     |  rollback_one_iter(self)\n",
            "     |      Rollback one iteration.\n",
            "     |      \n",
            "     |      Returns\n",
            "     |      -------\n",
            "     |      self : Booster\n",
            "     |          Booster with rolled back one iteration.\n",
            "     |  \n",
            "     |  save_model(self, filename, num_iteration=None, start_iteration=0)\n",
            "     |      Save Booster to file.\n",
            "     |      \n",
            "     |      Parameters\n",
            "     |      ----------\n",
            "     |      filename : string\n",
            "     |          Filename to save Booster.\n",
            "     |      num_iteration : int or None, optional (default=None)\n",
            "     |          Index of the iteration that should be saved.\n",
            "     |          If None, if the best iteration exists, it is saved; otherwise, all iterations are saved.\n",
            "     |          If <= 0, all iterations are saved.\n",
            "     |      start_iteration : int, optional (default=0)\n",
            "     |          Start index of the iteration that should be saved.\n",
            "     |      \n",
            "     |      Returns\n",
            "     |      -------\n",
            "     |      self : Booster\n",
            "     |          Returns self.\n",
            "     |  \n",
            "     |  set_attr(self, **kwargs)\n",
            "     |      Set attributes to the Booster.\n",
            "     |      \n",
            "     |      Parameters\n",
            "     |      ----------\n",
            "     |      **kwargs\n",
            "     |          The attributes to set.\n",
            "     |          Setting a value to None deletes an attribute.\n",
            "     |      \n",
            "     |      Returns\n",
            "     |      -------\n",
            "     |      self : Booster\n",
            "     |          Booster with set attributes.\n",
            "     |  \n",
            "     |  set_network(self, machines, local_listen_port=12400, listen_time_out=120, num_machines=1)\n",
            "     |      Set the network configuration.\n",
            "     |      \n",
            "     |      Parameters\n",
            "     |      ----------\n",
            "     |      machines : list, set or string\n",
            "     |          Names of machines.\n",
            "     |      local_listen_port : int, optional (default=12400)\n",
            "     |          TCP listen port for local machines.\n",
            "     |      listen_time_out : int, optional (default=120)\n",
            "     |          Socket time-out in minutes.\n",
            "     |      num_machines : int, optional (default=1)\n",
            "     |          The number of machines for parallel learning application.\n",
            "     |      \n",
            "     |      Returns\n",
            "     |      -------\n",
            "     |      self : Booster\n",
            "     |          Booster with set network.\n",
            "     |  \n",
            "     |  set_train_data_name(self, name)\n",
            "     |      Set the name to the training Dataset.\n",
            "     |      \n",
            "     |      Parameters\n",
            "     |      ----------\n",
            "     |      name : string\n",
            "     |          Name for the training Dataset.\n",
            "     |      \n",
            "     |      Returns\n",
            "     |      -------\n",
            "     |      self : Booster\n",
            "     |          Booster with set training Dataset name.\n",
            "     |  \n",
            "     |  shuffle_models(self, start_iteration=0, end_iteration=-1)\n",
            "     |      Shuffle models.\n",
            "     |      \n",
            "     |      Parameters\n",
            "     |      ----------\n",
            "     |      start_iteration : int, optional (default=0)\n",
            "     |          The first iteration that will be shuffled.\n",
            "     |      end_iteration : int, optional (default=-1)\n",
            "     |          The last iteration that will be shuffled.\n",
            "     |          If <= 0, means the last available iteration.\n",
            "     |      \n",
            "     |      Returns\n",
            "     |      -------\n",
            "     |      self : Booster\n",
            "     |          Booster with shuffled models.\n",
            "     |  \n",
            "     |  update(self, train_set=None, fobj=None)\n",
            "     |      Update Booster for one iteration.\n",
            "     |      \n",
            "     |      Parameters\n",
            "     |      ----------\n",
            "     |      train_set : Dataset or None, optional (default=None)\n",
            "     |          Training data.\n",
            "     |          If None, last training data is used.\n",
            "     |      fobj : callable or None, optional (default=None)\n",
            "     |          Customized objective function.\n",
            "     |      \n",
            "     |          For multi-class task, the score is group by class_id first, then group by row_id.\n",
            "     |          If you want to get i-th row score in j-th class, the access way is score[j * num_data + i]\n",
            "     |          and you should group grad and hess in this way as well.\n",
            "     |      \n",
            "     |      Returns\n",
            "     |      -------\n",
            "     |      is_finished : bool\n",
            "     |          Whether the update was successfully finished.\n",
            "     |  \n",
            "     |  ----------------------------------------------------------------------\n",
            "     |  Data descriptors defined here:\n",
            "     |  \n",
            "     |  __dict__\n",
            "     |      dictionary for instance variables (if defined)\n",
            "     |  \n",
            "     |  __weakref__\n",
            "     |      list of weak references to the object (if defined)\n",
            "    \n",
            "    class Dataset(builtins.object)\n",
            "     |  Dataset in LightGBM.\n",
            "     |  \n",
            "     |  Methods defined here:\n",
            "     |  \n",
            "     |  __del__(self)\n",
            "     |  \n",
            "     |  __init__(self, data, label=None, reference=None, weight=None, group=None, init_score=None, silent=False, feature_name='auto', categorical_feature='auto', params=None, free_raw_data=True)\n",
            "     |      Initialize Dataset.\n",
            "     |      \n",
            "     |      Parameters\n",
            "     |      ----------\n",
            "     |      data : string, numpy array, pandas DataFrame, H2O DataTable, scipy.sparse or list of numpy arrays\n",
            "     |          Data source of Dataset.\n",
            "     |          If string, it represents the path to txt file.\n",
            "     |      label : list, numpy 1-D array, pandas Series / one-column DataFrame or None, optional (default=None)\n",
            "     |          Label of the data.\n",
            "     |      reference : Dataset or None, optional (default=None)\n",
            "     |          If this is Dataset for validation, training data should be used as reference.\n",
            "     |      weight : list, numpy 1-D array, pandas Series or None, optional (default=None)\n",
            "     |          Weight for each instance.\n",
            "     |      group : list, numpy 1-D array, pandas Series or None, optional (default=None)\n",
            "     |          Group/query size for Dataset.\n",
            "     |      init_score : list, numpy 1-D array, pandas Series or None, optional (default=None)\n",
            "     |          Init score for Dataset.\n",
            "     |      silent : bool, optional (default=False)\n",
            "     |          Whether to print messages during construction.\n",
            "     |      feature_name : list of strings or 'auto', optional (default=\"auto\")\n",
            "     |          Feature names.\n",
            "     |          If 'auto' and data is pandas DataFrame, data columns names are used.\n",
            "     |      categorical_feature : list of strings or int, or 'auto', optional (default=\"auto\")\n",
            "     |          Categorical features.\n",
            "     |          If list of int, interpreted as indices.\n",
            "     |          If list of strings, interpreted as feature names (need to specify ``feature_name`` as well).\n",
            "     |          If 'auto' and data is pandas DataFrame, pandas categorical columns are used.\n",
            "     |          All values in categorical features should be less than int32 max value (2147483647).\n",
            "     |          Large values could be memory consuming. Consider using consecutive integers starting from zero.\n",
            "     |          All negative values in categorical features will be treated as missing values.\n",
            "     |      params : dict or None, optional (default=None)\n",
            "     |          Other parameters for Dataset.\n",
            "     |      free_raw_data : bool, optional (default=True)\n",
            "     |          If True, raw data is freed after constructing inner Dataset.\n",
            "     |  \n",
            "     |  construct(self)\n",
            "     |      Lazy init.\n",
            "     |      \n",
            "     |      Returns\n",
            "     |      -------\n",
            "     |      self : Dataset\n",
            "     |          Constructed Dataset object.\n",
            "     |  \n",
            "     |  create_valid(self, data, label=None, weight=None, group=None, init_score=None, silent=False, params=None)\n",
            "     |      Create validation data align with current Dataset.\n",
            "     |      \n",
            "     |      Parameters\n",
            "     |      ----------\n",
            "     |      data : string, numpy array, pandas DataFrame, H2O DataTable, scipy.sparse or list of numpy arrays\n",
            "     |          Data source of Dataset.\n",
            "     |          If string, it represents the path to txt file.\n",
            "     |      label : list, numpy 1-D array, pandas Series / one-column DataFrame or None, optional (default=None)\n",
            "     |          Label of the data.\n",
            "     |      weight : list, numpy 1-D array, pandas Series or None, optional (default=None)\n",
            "     |          Weight for each instance.\n",
            "     |      group : list, numpy 1-D array, pandas Series or None, optional (default=None)\n",
            "     |          Group/query size for Dataset.\n",
            "     |      init_score : list, numpy 1-D array, pandas Series or None, optional (default=None)\n",
            "     |          Init score for Dataset.\n",
            "     |      silent : bool, optional (default=False)\n",
            "     |          Whether to print messages during construction.\n",
            "     |      params : dict or None, optional (default=None)\n",
            "     |          Other parameters for validation Dataset.\n",
            "     |      \n",
            "     |      Returns\n",
            "     |      -------\n",
            "     |      valid : Dataset\n",
            "     |          Validation Dataset with reference to self.\n",
            "     |  \n",
            "     |  get_data(self)\n",
            "     |      Get the raw data of the Dataset.\n",
            "     |      \n",
            "     |      Returns\n",
            "     |      -------\n",
            "     |      data : string, numpy array, pandas DataFrame, H2O DataTable, scipy.sparse, list of numpy arrays or None\n",
            "     |          Raw data used in the Dataset construction.\n",
            "     |  \n",
            "     |  get_field(self, field_name)\n",
            "     |      Get property from the Dataset.\n",
            "     |      \n",
            "     |      Parameters\n",
            "     |      ----------\n",
            "     |      field_name : string\n",
            "     |          The field name of the information.\n",
            "     |      \n",
            "     |      Returns\n",
            "     |      -------\n",
            "     |      info : numpy array\n",
            "     |          A numpy array with information from the Dataset.\n",
            "     |  \n",
            "     |  get_group(self)\n",
            "     |      Get the group of the Dataset.\n",
            "     |      \n",
            "     |      Returns\n",
            "     |      -------\n",
            "     |      group : numpy array or None\n",
            "     |          Group size of each group.\n",
            "     |  \n",
            "     |  get_init_score(self)\n",
            "     |      Get the initial score of the Dataset.\n",
            "     |      \n",
            "     |      Returns\n",
            "     |      -------\n",
            "     |      init_score : numpy array or None\n",
            "     |          Init score of Booster.\n",
            "     |  \n",
            "     |  get_label(self)\n",
            "     |      Get the label of the Dataset.\n",
            "     |      \n",
            "     |      Returns\n",
            "     |      -------\n",
            "     |      label : numpy array or None\n",
            "     |          The label information from the Dataset.\n",
            "     |  \n",
            "     |  get_ref_chain(self, ref_limit=100)\n",
            "     |      Get a chain of Dataset objects.\n",
            "     |      \n",
            "     |      Starts with r, then goes to r.reference (if exists),\n",
            "     |      then to r.reference.reference, etc.\n",
            "     |      until we hit ``ref_limit`` or a reference loop.\n",
            "     |      \n",
            "     |      Parameters\n",
            "     |      ----------\n",
            "     |      ref_limit : int, optional (default=100)\n",
            "     |          The limit number of references.\n",
            "     |      \n",
            "     |      Returns\n",
            "     |      -------\n",
            "     |      ref_chain : set of Dataset\n",
            "     |          Chain of references of the Datasets.\n",
            "     |  \n",
            "     |  get_weight(self)\n",
            "     |      Get the weight of the Dataset.\n",
            "     |      \n",
            "     |      Returns\n",
            "     |      -------\n",
            "     |      weight : numpy array or None\n",
            "     |          Weight for each data point from the Dataset.\n",
            "     |  \n",
            "     |  num_data(self)\n",
            "     |      Get the number of rows in the Dataset.\n",
            "     |      \n",
            "     |      Returns\n",
            "     |      -------\n",
            "     |      number_of_rows : int\n",
            "     |          The number of rows in the Dataset.\n",
            "     |  \n",
            "     |  num_feature(self)\n",
            "     |      Get the number of columns (features) in the Dataset.\n",
            "     |      \n",
            "     |      Returns\n",
            "     |      -------\n",
            "     |      number_of_columns : int\n",
            "     |          The number of columns (features) in the Dataset.\n",
            "     |  \n",
            "     |  save_binary(self, filename)\n",
            "     |      Save Dataset to a binary file.\n",
            "     |      \n",
            "     |      Parameters\n",
            "     |      ----------\n",
            "     |      filename : string\n",
            "     |          Name of the output file.\n",
            "     |      \n",
            "     |      Returns\n",
            "     |      -------\n",
            "     |      self : Dataset\n",
            "     |          Returns self.\n",
            "     |  \n",
            "     |  set_categorical_feature(self, categorical_feature)\n",
            "     |      Set categorical features.\n",
            "     |      \n",
            "     |      Parameters\n",
            "     |      ----------\n",
            "     |      categorical_feature : list of int or strings\n",
            "     |          Names or indices of categorical features.\n",
            "     |      \n",
            "     |      Returns\n",
            "     |      -------\n",
            "     |      self : Dataset\n",
            "     |          Dataset with set categorical features.\n",
            "     |  \n",
            "     |  set_feature_name(self, feature_name)\n",
            "     |      Set feature name.\n",
            "     |      \n",
            "     |      Parameters\n",
            "     |      ----------\n",
            "     |      feature_name : list of strings\n",
            "     |          Feature names.\n",
            "     |      \n",
            "     |      Returns\n",
            "     |      -------\n",
            "     |      self : Dataset\n",
            "     |          Dataset with set feature name.\n",
            "     |  \n",
            "     |  set_field(self, field_name, data)\n",
            "     |      Set property into the Dataset.\n",
            "     |      \n",
            "     |      Parameters\n",
            "     |      ----------\n",
            "     |      field_name : string\n",
            "     |          The field name of the information.\n",
            "     |      data : list, numpy 1-D array, pandas Series or None\n",
            "     |          The array of data to be set.\n",
            "     |      \n",
            "     |      Returns\n",
            "     |      -------\n",
            "     |      self : Dataset\n",
            "     |          Dataset with set property.\n",
            "     |  \n",
            "     |  set_group(self, group)\n",
            "     |      Set group size of Dataset (used for ranking).\n",
            "     |      \n",
            "     |      Parameters\n",
            "     |      ----------\n",
            "     |      group : list, numpy 1-D array, pandas Series or None\n",
            "     |          Group size of each group.\n",
            "     |      \n",
            "     |      Returns\n",
            "     |      -------\n",
            "     |      self : Dataset\n",
            "     |          Dataset with set group.\n",
            "     |  \n",
            "     |  set_init_score(self, init_score)\n",
            "     |      Set init score of Booster to start from.\n",
            "     |      \n",
            "     |      Parameters\n",
            "     |      ----------\n",
            "     |      init_score : list, numpy 1-D array, pandas Series or None\n",
            "     |          Init score for Booster.\n",
            "     |      \n",
            "     |      Returns\n",
            "     |      -------\n",
            "     |      self : Dataset\n",
            "     |          Dataset with set init score.\n",
            "     |  \n",
            "     |  set_label(self, label)\n",
            "     |      Set label of Dataset.\n",
            "     |      \n",
            "     |      Parameters\n",
            "     |      ----------\n",
            "     |      label : list, numpy 1-D array, pandas Series / one-column DataFrame or None\n",
            "     |          The label information to be set into Dataset.\n",
            "     |      \n",
            "     |      Returns\n",
            "     |      -------\n",
            "     |      self : Dataset\n",
            "     |          Dataset with set label.\n",
            "     |  \n",
            "     |  set_reference(self, reference)\n",
            "     |      Set reference Dataset.\n",
            "     |      \n",
            "     |      Parameters\n",
            "     |      ----------\n",
            "     |      reference : Dataset\n",
            "     |          Reference that is used as a template to construct the current Dataset.\n",
            "     |      \n",
            "     |      Returns\n",
            "     |      -------\n",
            "     |      self : Dataset\n",
            "     |          Dataset with set reference.\n",
            "     |  \n",
            "     |  set_weight(self, weight)\n",
            "     |      Set weight of each instance.\n",
            "     |      \n",
            "     |      Parameters\n",
            "     |      ----------\n",
            "     |      weight : list, numpy 1-D array, pandas Series or None\n",
            "     |          Weight to be set for each data point.\n",
            "     |      \n",
            "     |      Returns\n",
            "     |      -------\n",
            "     |      self : Dataset\n",
            "     |          Dataset with set weight.\n",
            "     |  \n",
            "     |  subset(self, used_indices, params=None)\n",
            "     |      Get subset of current Dataset.\n",
            "     |      \n",
            "     |      Parameters\n",
            "     |      ----------\n",
            "     |      used_indices : list of int\n",
            "     |          Indices used to create the subset.\n",
            "     |      params : dict or None, optional (default=None)\n",
            "     |          These parameters will be passed to Dataset constructor.\n",
            "     |      \n",
            "     |      Returns\n",
            "     |      -------\n",
            "     |      subset : Dataset\n",
            "     |          Subset of the current Dataset.\n",
            "     |  \n",
            "     |  ----------------------------------------------------------------------\n",
            "     |  Data descriptors defined here:\n",
            "     |  \n",
            "     |  __dict__\n",
            "     |      dictionary for instance variables (if defined)\n",
            "     |  \n",
            "     |  __weakref__\n",
            "     |      list of weak references to the object (if defined)\n",
            "    \n",
            "    class LGBMClassifier(LGBMModel, sklearn.base.ClassifierMixin)\n",
            "     |  LightGBM classifier.\n",
            "     |  \n",
            "     |  Method resolution order:\n",
            "     |      LGBMClassifier\n",
            "     |      LGBMModel\n",
            "     |      sklearn.base.BaseEstimator\n",
            "     |      sklearn.base.ClassifierMixin\n",
            "     |      builtins.object\n",
            "     |  \n",
            "     |  Methods defined here:\n",
            "     |  \n",
            "     |  fit(self, X, y, sample_weight=None, init_score=None, eval_set=None, eval_names=None, eval_sample_weight=None, eval_class_weight=None, eval_init_score=None, eval_metric=None, early_stopping_rounds=None, verbose=True, feature_name='auto', categorical_feature='auto', callbacks=None)\n",
            "     |      Build a gradient boosting model from the training set (X, y).\n",
            "     |      \n",
            "     |      Parameters\n",
            "     |      ----------\n",
            "     |      X : array-like or sparse matrix of shape = [n_samples, n_features]\n",
            "     |          Input feature matrix.\n",
            "     |      y : array-like of shape = [n_samples]\n",
            "     |          The target values (class labels in classification, real numbers in regression).\n",
            "     |      sample_weight : array-like of shape = [n_samples] or None, optional (default=None)\n",
            "     |          Weights of training data.\n",
            "     |      init_score : array-like of shape = [n_samples] or None, optional (default=None)\n",
            "     |          Init score of training data.\n",
            "     |      group : array-like or None, optional (default=None)\n",
            "     |          Group data of training data.\n",
            "     |      eval_set : list or None, optional (default=None)\n",
            "     |          A list of (X, y) tuple pairs to use as validation sets.\n",
            "     |      eval_names : list of strings or None, optional (default=None)\n",
            "     |          Names of eval_set.\n",
            "     |      eval_sample_weight : list of arrays or None, optional (default=None)\n",
            "     |          Weights of eval data.\n",
            "     |      eval_class_weight : list or None, optional (default=None)\n",
            "     |          Class weights of eval data.\n",
            "     |      eval_init_score : list of arrays or None, optional (default=None)\n",
            "     |          Init score of eval data.\n",
            "     |      eval_group : list of arrays or None, optional (default=None)\n",
            "     |          Group data of eval data.\n",
            "     |      eval_metric : string, list of strings, callable or None, optional (default=None)\n",
            "     |          If string, it should be a built-in evaluation metric to use.\n",
            "     |          If callable, it should be a custom evaluation metric, see note below for more details.\n",
            "     |          In either case, the ``metric`` from the model parameters will be evaluated and used as well.\n",
            "     |          Default: 'l2' for LGBMRegressor, 'logloss' for LGBMClassifier, 'ndcg' for LGBMRanker.\n",
            "     |      early_stopping_rounds : int or None, optional (default=None)\n",
            "     |          Activates early stopping. The model will train until the validation score stops improving.\n",
            "     |          Validation score needs to improve at least every ``early_stopping_rounds`` round(s)\n",
            "     |          to continue training.\n",
            "     |          Requires at least one validation data and one metric.\n",
            "     |          If there's more than one, will check all of them. But the training data is ignored anyway.\n",
            "     |      verbose : bool or int, optional (default=True)\n",
            "     |          Requires at least one evaluation data.\n",
            "     |          If True, the eval metric on the eval set is printed at each boosting stage.\n",
            "     |          If int, the eval metric on the eval set is printed at every ``verbose`` boosting stage.\n",
            "     |          The last boosting stage or the boosting stage found by using ``early_stopping_rounds`` is also printed.\n",
            "     |      \n",
            "     |          Example\n",
            "     |          -------\n",
            "     |          With ``verbose`` = 4 and at least one item in ``eval_set``,\n",
            "     |          an evaluation metric is printed every 4 (instead of 1) boosting stages.\n",
            "     |      \n",
            "     |      feature_name : list of strings or 'auto', optional (default='auto')\n",
            "     |          Feature names.\n",
            "     |          If 'auto' and data is pandas DataFrame, data columns names are used.\n",
            "     |      categorical_feature : list of strings or int, or 'auto', optional (default='auto')\n",
            "     |          Categorical features.\n",
            "     |          If list of int, interpreted as indices.\n",
            "     |          If list of strings, interpreted as feature names (need to specify ``feature_name`` as well).\n",
            "     |          If 'auto' and data is pandas DataFrame, pandas categorical columns are used.\n",
            "     |          All values in categorical features should be less than int32 max value (2147483647).\n",
            "     |          Large values could be memory consuming. Consider using consecutive integers starting from zero.\n",
            "     |          All negative values in categorical features will be treated as missing values.\n",
            "     |      callbacks : list of callback functions or None, optional (default=None)\n",
            "     |          List of callback functions that are applied at each iteration.\n",
            "     |          See Callbacks in Python API for more information.\n",
            "     |      \n",
            "     |      Returns\n",
            "     |      -------\n",
            "     |      self : object\n",
            "     |          Returns self.\n",
            "     |      \n",
            "     |      Note\n",
            "     |      ----\n",
            "     |      Custom eval function expects a callable with following signatures:\n",
            "     |      ``func(y_true, y_pred)``, ``func(y_true, y_pred, weight)`` or\n",
            "     |      ``func(y_true, y_pred, weight, group)``\n",
            "     |      and returns (eval_name, eval_result, is_bigger_better) or\n",
            "     |      list of (eval_name, eval_result, is_bigger_better):\n",
            "     |      \n",
            "     |          y_true : array-like of shape = [n_samples]\n",
            "     |              The target values.\n",
            "     |          y_pred : array-like of shape = [n_samples] or shape = [n_samples * n_classes] (for multi-class task)\n",
            "     |              The predicted values.\n",
            "     |          weight : array-like of shape = [n_samples]\n",
            "     |              The weight of samples.\n",
            "     |          group : array-like\n",
            "     |              Group/query data, used for ranking task.\n",
            "     |          eval_name : string\n",
            "     |              The name of evaluation.\n",
            "     |          eval_result : float\n",
            "     |              The eval result.\n",
            "     |          is_bigger_better : bool\n",
            "     |              Is eval result bigger better, e.g. AUC is bigger_better.\n",
            "     |      \n",
            "     |      For multi-class task, the y_pred is group by class_id first, then group by row_id.\n",
            "     |      If you want to get i-th row y_pred in j-th class, the access way is y_pred[j * num_data + i].\n",
            "     |  \n",
            "     |  predict(self, X, raw_score=False, num_iteration=None, pred_leaf=False, pred_contrib=False, **kwargs)\n",
            "     |      Return the predicted value for each sample.\n",
            "     |      \n",
            "     |      Parameters\n",
            "     |      ----------\n",
            "     |      X : array-like or sparse matrix of shape = [n_samples, n_features]\n",
            "     |          Input features matrix.\n",
            "     |      raw_score : bool, optional (default=False)\n",
            "     |          Whether to predict raw scores.\n",
            "     |      num_iteration : int or None, optional (default=None)\n",
            "     |          Limit number of iterations in the prediction.\n",
            "     |          If None, if the best iteration exists, it is used; otherwise, all trees are used.\n",
            "     |          If <= 0, all trees are used (no limits).\n",
            "     |      pred_leaf : bool, optional (default=False)\n",
            "     |          Whether to predict leaf index.\n",
            "     |      pred_contrib : bool, optional (default=False)\n",
            "     |          Whether to predict feature contributions.\n",
            "     |      \n",
            "     |          Note\n",
            "     |          ----\n",
            "     |          If you want to get more explanation for your model's predictions using SHAP values\n",
            "     |          like SHAP interaction values,\n",
            "     |          you can install shap package (https://github.com/slundberg/shap).\n",
            "     |      \n",
            "     |      **kwargs\n",
            "     |          Other parameters for the prediction.\n",
            "     |      \n",
            "     |      Returns\n",
            "     |      -------\n",
            "     |      predicted_result : array-like of shape = [n_samples] or shape = [n_samples, n_classes]\n",
            "     |          The predicted values.\n",
            "     |      X_leaves : array-like of shape = [n_samples, n_trees] or shape [n_samples, n_trees * n_classes]\n",
            "     |          If ``pred_leaf=True``, the predicted leaf every tree for each sample.\n",
            "     |      X_SHAP_values : array-like of shape = [n_samples, n_features + 1] or shape [n_samples, (n_features + 1) * n_classes]\n",
            "     |          If ``pred_contrib=True``, the each feature contributions for each sample.\n",
            "     |  \n",
            "     |  predict_proba(self, X, raw_score=False, num_iteration=None, pred_leaf=False, pred_contrib=False, **kwargs)\n",
            "     |      Return the predicted probability for each class for each sample.\n",
            "     |      \n",
            "     |      Parameters\n",
            "     |      ----------\n",
            "     |      X : array-like or sparse matrix of shape = [n_samples, n_features]\n",
            "     |          Input features matrix.\n",
            "     |      raw_score : bool, optional (default=False)\n",
            "     |          Whether to predict raw scores.\n",
            "     |      num_iteration : int or None, optional (default=None)\n",
            "     |          Limit number of iterations in the prediction.\n",
            "     |          If None, if the best iteration exists, it is used; otherwise, all trees are used.\n",
            "     |          If <= 0, all trees are used (no limits).\n",
            "     |      pred_leaf : bool, optional (default=False)\n",
            "     |          Whether to predict leaf index.\n",
            "     |      pred_contrib : bool, optional (default=False)\n",
            "     |          Whether to predict feature contributions.\n",
            "     |      \n",
            "     |          Note\n",
            "     |          ----\n",
            "     |          If you want to get more explanation for your model's predictions using SHAP values\n",
            "     |          like SHAP interaction values,\n",
            "     |          you can install shap package (https://github.com/slundberg/shap).\n",
            "     |      \n",
            "     |      **kwargs\n",
            "     |          Other parameters for the prediction.\n",
            "     |      \n",
            "     |      Returns\n",
            "     |      -------\n",
            "     |      predicted_probability : array-like of shape = [n_samples, n_classes]\n",
            "     |          The predicted probability for each class for each sample.\n",
            "     |      X_leaves : array-like of shape = [n_samples, n_trees * n_classes]\n",
            "     |          If ``pred_leaf=True``, the predicted leaf every tree for each sample.\n",
            "     |      X_SHAP_values : array-like of shape = [n_samples, (n_features + 1) * n_classes]\n",
            "     |          If ``pred_contrib=True``, the each feature contributions for each sample.\n",
            "     |  \n",
            "     |  ----------------------------------------------------------------------\n",
            "     |  Data descriptors defined here:\n",
            "     |  \n",
            "     |  classes_\n",
            "     |      Get the class label array.\n",
            "     |  \n",
            "     |  n_classes_\n",
            "     |      Get the number of classes.\n",
            "     |  \n",
            "     |  ----------------------------------------------------------------------\n",
            "     |  Methods inherited from LGBMModel:\n",
            "     |  \n",
            "     |  __init__(self, boosting_type='gbdt', num_leaves=31, max_depth=-1, learning_rate=0.1, n_estimators=100, subsample_for_bin=200000, objective=None, class_weight=None, min_split_gain=0.0, min_child_weight=0.001, min_child_samples=20, subsample=1.0, subsample_freq=0, colsample_bytree=1.0, reg_alpha=0.0, reg_lambda=0.0, random_state=None, n_jobs=-1, silent=True, importance_type='split', **kwargs)\n",
            "     |      Construct a gradient boosting model.\n",
            "     |      \n",
            "     |      Parameters\n",
            "     |      ----------\n",
            "     |      boosting_type : string, optional (default='gbdt')\n",
            "     |          'gbdt', traditional Gradient Boosting Decision Tree.\n",
            "     |          'dart', Dropouts meet Multiple Additive Regression Trees.\n",
            "     |          'goss', Gradient-based One-Side Sampling.\n",
            "     |          'rf', Random Forest.\n",
            "     |      num_leaves : int, optional (default=31)\n",
            "     |          Maximum tree leaves for base learners.\n",
            "     |      max_depth : int, optional (default=-1)\n",
            "     |          Maximum tree depth for base learners, -1 means no limit.\n",
            "     |      learning_rate : float, optional (default=0.1)\n",
            "     |          Boosting learning rate.\n",
            "     |          You can use ``callbacks`` parameter of ``fit`` method to shrink/adapt learning rate\n",
            "     |          in training using ``reset_parameter`` callback.\n",
            "     |          Note, that this will ignore the ``learning_rate`` argument in training.\n",
            "     |      n_estimators : int, optional (default=100)\n",
            "     |          Number of boosted trees to fit.\n",
            "     |      subsample_for_bin : int, optional (default=200000)\n",
            "     |          Number of samples for constructing bins.\n",
            "     |      objective : string, callable or None, optional (default=None)\n",
            "     |          Specify the learning task and the corresponding learning objective or\n",
            "     |          a custom objective function to be used (see note below).\n",
            "     |          Default: 'regression' for LGBMRegressor, 'binary' or 'multiclass' for LGBMClassifier, 'lambdarank' for LGBMRanker.\n",
            "     |      class_weight : dict, 'balanced' or None, optional (default=None)\n",
            "     |          Weights associated with classes in the form ``{class_label: weight}``.\n",
            "     |          Use this parameter only for multi-class classification task;\n",
            "     |          for binary classification task you may use ``is_unbalance`` or ``scale_pos_weight`` parameters.\n",
            "     |          The 'balanced' mode uses the values of y to automatically adjust weights\n",
            "     |          inversely proportional to class frequencies in the input data as ``n_samples / (n_classes * np.bincount(y))``.\n",
            "     |          If None, all classes are supposed to have weight one.\n",
            "     |          Note, that these weights will be multiplied with ``sample_weight`` (passed through the ``fit`` method)\n",
            "     |          if ``sample_weight`` is specified.\n",
            "     |      min_split_gain : float, optional (default=0.)\n",
            "     |          Minimum loss reduction required to make a further partition on a leaf node of the tree.\n",
            "     |      min_child_weight : float, optional (default=1e-3)\n",
            "     |          Minimum sum of instance weight (hessian) needed in a child (leaf).\n",
            "     |      min_child_samples : int, optional (default=20)\n",
            "     |          Minimum number of data needed in a child (leaf).\n",
            "     |      subsample : float, optional (default=1.)\n",
            "     |          Subsample ratio of the training instance.\n",
            "     |      subsample_freq : int, optional (default=0)\n",
            "     |          Frequence of subsample, <=0 means no enable.\n",
            "     |      colsample_bytree : float, optional (default=1.)\n",
            "     |          Subsample ratio of columns when constructing each tree.\n",
            "     |      reg_alpha : float, optional (default=0.)\n",
            "     |          L1 regularization term on weights.\n",
            "     |      reg_lambda : float, optional (default=0.)\n",
            "     |          L2 regularization term on weights.\n",
            "     |      random_state : int or None, optional (default=None)\n",
            "     |          Random number seed.\n",
            "     |          If None, default seeds in C++ code will be used.\n",
            "     |      n_jobs : int, optional (default=-1)\n",
            "     |          Number of parallel threads.\n",
            "     |      silent : bool, optional (default=True)\n",
            "     |          Whether to print messages while running boosting.\n",
            "     |      importance_type : string, optional (default='split')\n",
            "     |          The type of feature importance to be filled into ``feature_importances_``.\n",
            "     |          If 'split', result contains numbers of times the feature is used in a model.\n",
            "     |          If 'gain', result contains total gains of splits which use the feature.\n",
            "     |      **kwargs\n",
            "     |          Other parameters for the model.\n",
            "     |          Check http://lightgbm.readthedocs.io/en/latest/Parameters.html for more parameters.\n",
            "     |      \n",
            "     |          Note\n",
            "     |          ----\n",
            "     |          \\*\\*kwargs is not supported in sklearn, it may cause unexpected issues.\n",
            "     |      \n",
            "     |      Attributes\n",
            "     |      ----------\n",
            "     |      n_features_ : int\n",
            "     |          The number of features of fitted model.\n",
            "     |      classes_ : array of shape = [n_classes]\n",
            "     |          The class label array (only for classification problem).\n",
            "     |      n_classes_ : int\n",
            "     |          The number of classes (only for classification problem).\n",
            "     |      best_score_ : dict or None\n",
            "     |          The best score of fitted model.\n",
            "     |      best_iteration_ : int or None\n",
            "     |          The best iteration of fitted model if ``early_stopping_rounds`` has been specified.\n",
            "     |      objective_ : string or callable\n",
            "     |          The concrete objective used while fitting this model.\n",
            "     |      booster_ : Booster\n",
            "     |          The underlying Booster of this model.\n",
            "     |      evals_result_ : dict or None\n",
            "     |          The evaluation results if ``early_stopping_rounds`` has been specified.\n",
            "     |      feature_importances_ : array of shape = [n_features]\n",
            "     |          The feature importances (the higher, the more important the feature).\n",
            "     |      \n",
            "     |      Note\n",
            "     |      ----\n",
            "     |      A custom objective function can be provided for the ``objective`` parameter.\n",
            "     |      In this case, it should have the signature\n",
            "     |      ``objective(y_true, y_pred) -> grad, hess`` or\n",
            "     |      ``objective(y_true, y_pred, group) -> grad, hess``:\n",
            "     |      \n",
            "     |          y_true : array-like of shape = [n_samples]\n",
            "     |              The target values.\n",
            "     |          y_pred : array-like of shape = [n_samples] or shape = [n_samples * n_classes] (for multi-class task)\n",
            "     |              The predicted values.\n",
            "     |          group : array-like\n",
            "     |              Group/query data, used for ranking task.\n",
            "     |          grad : array-like of shape = [n_samples] or shape = [n_samples * n_classes] (for multi-class task)\n",
            "     |              The value of the gradient for each sample point.\n",
            "     |          hess : array-like of shape = [n_samples] or shape = [n_samples * n_classes] (for multi-class task)\n",
            "     |              The value of the second derivative for each sample point.\n",
            "     |      \n",
            "     |      For multi-class task, the y_pred is group by class_id first, then group by row_id.\n",
            "     |      If you want to get i-th row y_pred in j-th class, the access way is y_pred[j * num_data + i]\n",
            "     |      and you should group grad and hess in this way as well.\n",
            "     |  \n",
            "     |  get_params(self, deep=True)\n",
            "     |      Get parameters for this estimator.\n",
            "     |      \n",
            "     |      Parameters\n",
            "     |      ----------\n",
            "     |      deep : bool, optional (default=True)\n",
            "     |          If True, will return the parameters for this estimator and\n",
            "     |          contained subobjects that are estimators.\n",
            "     |      \n",
            "     |      Returns\n",
            "     |      -------\n",
            "     |      params : dict\n",
            "     |          Parameter names mapped to their values.\n",
            "     |  \n",
            "     |  set_params(self, **params)\n",
            "     |      Set the parameters of this estimator.\n",
            "     |      \n",
            "     |      Parameters\n",
            "     |      ----------\n",
            "     |      **params\n",
            "     |          Parameter names with their new values.\n",
            "     |      \n",
            "     |      Returns\n",
            "     |      -------\n",
            "     |      self : object\n",
            "     |          Returns self.\n",
            "     |  \n",
            "     |  ----------------------------------------------------------------------\n",
            "     |  Data descriptors inherited from LGBMModel:\n",
            "     |  \n",
            "     |  best_iteration_\n",
            "     |      Get the best iteration of fitted model.\n",
            "     |  \n",
            "     |  best_score_\n",
            "     |      Get the best score of fitted model.\n",
            "     |  \n",
            "     |  booster_\n",
            "     |      Get the underlying lightgbm Booster of this model.\n",
            "     |  \n",
            "     |  evals_result_\n",
            "     |      Get the evaluation results.\n",
            "     |  \n",
            "     |  feature_importances_\n",
            "     |      Get feature importances.\n",
            "     |      \n",
            "     |      Note\n",
            "     |      ----\n",
            "     |      Feature importance in sklearn interface used to normalize to 1,\n",
            "     |      it's deprecated after 2.0.4 and is the same as Booster.feature_importance() now.\n",
            "     |      ``importance_type`` attribute is passed to the function\n",
            "     |      to configure the type of importance values to be extracted.\n",
            "     |  \n",
            "     |  n_features_\n",
            "     |      Get the number of features of fitted model.\n",
            "     |  \n",
            "     |  objective_\n",
            "     |      Get the concrete objective used while fitting this model.\n",
            "     |  \n",
            "     |  ----------------------------------------------------------------------\n",
            "     |  Methods inherited from sklearn.base.BaseEstimator:\n",
            "     |  \n",
            "     |  __getstate__(self)\n",
            "     |  \n",
            "     |  __repr__(self, N_CHAR_MAX=700)\n",
            "     |      Return repr(self).\n",
            "     |  \n",
            "     |  __setstate__(self, state)\n",
            "     |  \n",
            "     |  ----------------------------------------------------------------------\n",
            "     |  Data descriptors inherited from sklearn.base.BaseEstimator:\n",
            "     |  \n",
            "     |  __dict__\n",
            "     |      dictionary for instance variables (if defined)\n",
            "     |  \n",
            "     |  __weakref__\n",
            "     |      list of weak references to the object (if defined)\n",
            "     |  \n",
            "     |  ----------------------------------------------------------------------\n",
            "     |  Methods inherited from sklearn.base.ClassifierMixin:\n",
            "     |  \n",
            "     |  score(self, X, y, sample_weight=None)\n",
            "     |      Return the mean accuracy on the given test data and labels.\n",
            "     |      \n",
            "     |      In multi-label classification, this is the subset accuracy\n",
            "     |      which is a harsh metric since you require for each sample that\n",
            "     |      each label set be correctly predicted.\n",
            "     |      \n",
            "     |      Parameters\n",
            "     |      ----------\n",
            "     |      X : array-like of shape (n_samples, n_features)\n",
            "     |          Test samples.\n",
            "     |      \n",
            "     |      y : array-like of shape (n_samples,) or (n_samples, n_outputs)\n",
            "     |          True labels for X.\n",
            "     |      \n",
            "     |      sample_weight : array-like of shape (n_samples,), default=None\n",
            "     |          Sample weights.\n",
            "     |      \n",
            "     |      Returns\n",
            "     |      -------\n",
            "     |      score : float\n",
            "     |          Mean accuracy of self.predict(X) wrt. y.\n",
            "    \n",
            "    class LGBMModel(sklearn.base.BaseEstimator)\n",
            "     |  Implementation of the scikit-learn API for LightGBM.\n",
            "     |  \n",
            "     |  Method resolution order:\n",
            "     |      LGBMModel\n",
            "     |      sklearn.base.BaseEstimator\n",
            "     |      builtins.object\n",
            "     |  \n",
            "     |  Methods defined here:\n",
            "     |  \n",
            "     |  __init__(self, boosting_type='gbdt', num_leaves=31, max_depth=-1, learning_rate=0.1, n_estimators=100, subsample_for_bin=200000, objective=None, class_weight=None, min_split_gain=0.0, min_child_weight=0.001, min_child_samples=20, subsample=1.0, subsample_freq=0, colsample_bytree=1.0, reg_alpha=0.0, reg_lambda=0.0, random_state=None, n_jobs=-1, silent=True, importance_type='split', **kwargs)\n",
            "     |      Construct a gradient boosting model.\n",
            "     |      \n",
            "     |      Parameters\n",
            "     |      ----------\n",
            "     |      boosting_type : string, optional (default='gbdt')\n",
            "     |          'gbdt', traditional Gradient Boosting Decision Tree.\n",
            "     |          'dart', Dropouts meet Multiple Additive Regression Trees.\n",
            "     |          'goss', Gradient-based One-Side Sampling.\n",
            "     |          'rf', Random Forest.\n",
            "     |      num_leaves : int, optional (default=31)\n",
            "     |          Maximum tree leaves for base learners.\n",
            "     |      max_depth : int, optional (default=-1)\n",
            "     |          Maximum tree depth for base learners, -1 means no limit.\n",
            "     |      learning_rate : float, optional (default=0.1)\n",
            "     |          Boosting learning rate.\n",
            "     |          You can use ``callbacks`` parameter of ``fit`` method to shrink/adapt learning rate\n",
            "     |          in training using ``reset_parameter`` callback.\n",
            "     |          Note, that this will ignore the ``learning_rate`` argument in training.\n",
            "     |      n_estimators : int, optional (default=100)\n",
            "     |          Number of boosted trees to fit.\n",
            "     |      subsample_for_bin : int, optional (default=200000)\n",
            "     |          Number of samples for constructing bins.\n",
            "     |      objective : string, callable or None, optional (default=None)\n",
            "     |          Specify the learning task and the corresponding learning objective or\n",
            "     |          a custom objective function to be used (see note below).\n",
            "     |          Default: 'regression' for LGBMRegressor, 'binary' or 'multiclass' for LGBMClassifier, 'lambdarank' for LGBMRanker.\n",
            "     |      class_weight : dict, 'balanced' or None, optional (default=None)\n",
            "     |          Weights associated with classes in the form ``{class_label: weight}``.\n",
            "     |          Use this parameter only for multi-class classification task;\n",
            "     |          for binary classification task you may use ``is_unbalance`` or ``scale_pos_weight`` parameters.\n",
            "     |          The 'balanced' mode uses the values of y to automatically adjust weights\n",
            "     |          inversely proportional to class frequencies in the input data as ``n_samples / (n_classes * np.bincount(y))``.\n",
            "     |          If None, all classes are supposed to have weight one.\n",
            "     |          Note, that these weights will be multiplied with ``sample_weight`` (passed through the ``fit`` method)\n",
            "     |          if ``sample_weight`` is specified.\n",
            "     |      min_split_gain : float, optional (default=0.)\n",
            "     |          Minimum loss reduction required to make a further partition on a leaf node of the tree.\n",
            "     |      min_child_weight : float, optional (default=1e-3)\n",
            "     |          Minimum sum of instance weight (hessian) needed in a child (leaf).\n",
            "     |      min_child_samples : int, optional (default=20)\n",
            "     |          Minimum number of data needed in a child (leaf).\n",
            "     |      subsample : float, optional (default=1.)\n",
            "     |          Subsample ratio of the training instance.\n",
            "     |      subsample_freq : int, optional (default=0)\n",
            "     |          Frequence of subsample, <=0 means no enable.\n",
            "     |      colsample_bytree : float, optional (default=1.)\n",
            "     |          Subsample ratio of columns when constructing each tree.\n",
            "     |      reg_alpha : float, optional (default=0.)\n",
            "     |          L1 regularization term on weights.\n",
            "     |      reg_lambda : float, optional (default=0.)\n",
            "     |          L2 regularization term on weights.\n",
            "     |      random_state : int or None, optional (default=None)\n",
            "     |          Random number seed.\n",
            "     |          If None, default seeds in C++ code will be used.\n",
            "     |      n_jobs : int, optional (default=-1)\n",
            "     |          Number of parallel threads.\n",
            "     |      silent : bool, optional (default=True)\n",
            "     |          Whether to print messages while running boosting.\n",
            "     |      importance_type : string, optional (default='split')\n",
            "     |          The type of feature importance to be filled into ``feature_importances_``.\n",
            "     |          If 'split', result contains numbers of times the feature is used in a model.\n",
            "     |          If 'gain', result contains total gains of splits which use the feature.\n",
            "     |      **kwargs\n",
            "     |          Other parameters for the model.\n",
            "     |          Check http://lightgbm.readthedocs.io/en/latest/Parameters.html for more parameters.\n",
            "     |      \n",
            "     |          Note\n",
            "     |          ----\n",
            "     |          \\*\\*kwargs is not supported in sklearn, it may cause unexpected issues.\n",
            "     |      \n",
            "     |      Attributes\n",
            "     |      ----------\n",
            "     |      n_features_ : int\n",
            "     |          The number of features of fitted model.\n",
            "     |      classes_ : array of shape = [n_classes]\n",
            "     |          The class label array (only for classification problem).\n",
            "     |      n_classes_ : int\n",
            "     |          The number of classes (only for classification problem).\n",
            "     |      best_score_ : dict or None\n",
            "     |          The best score of fitted model.\n",
            "     |      best_iteration_ : int or None\n",
            "     |          The best iteration of fitted model if ``early_stopping_rounds`` has been specified.\n",
            "     |      objective_ : string or callable\n",
            "     |          The concrete objective used while fitting this model.\n",
            "     |      booster_ : Booster\n",
            "     |          The underlying Booster of this model.\n",
            "     |      evals_result_ : dict or None\n",
            "     |          The evaluation results if ``early_stopping_rounds`` has been specified.\n",
            "     |      feature_importances_ : array of shape = [n_features]\n",
            "     |          The feature importances (the higher, the more important the feature).\n",
            "     |      \n",
            "     |      Note\n",
            "     |      ----\n",
            "     |      A custom objective function can be provided for the ``objective`` parameter.\n",
            "     |      In this case, it should have the signature\n",
            "     |      ``objective(y_true, y_pred) -> grad, hess`` or\n",
            "     |      ``objective(y_true, y_pred, group) -> grad, hess``:\n",
            "     |      \n",
            "     |          y_true : array-like of shape = [n_samples]\n",
            "     |              The target values.\n",
            "     |          y_pred : array-like of shape = [n_samples] or shape = [n_samples * n_classes] (for multi-class task)\n",
            "     |              The predicted values.\n",
            "     |          group : array-like\n",
            "     |              Group/query data, used for ranking task.\n",
            "     |          grad : array-like of shape = [n_samples] or shape = [n_samples * n_classes] (for multi-class task)\n",
            "     |              The value of the gradient for each sample point.\n",
            "     |          hess : array-like of shape = [n_samples] or shape = [n_samples * n_classes] (for multi-class task)\n",
            "     |              The value of the second derivative for each sample point.\n",
            "     |      \n",
            "     |      For multi-class task, the y_pred is group by class_id first, then group by row_id.\n",
            "     |      If you want to get i-th row y_pred in j-th class, the access way is y_pred[j * num_data + i]\n",
            "     |      and you should group grad and hess in this way as well.\n",
            "     |  \n",
            "     |  fit(self, X, y, sample_weight=None, init_score=None, group=None, eval_set=None, eval_names=None, eval_sample_weight=None, eval_class_weight=None, eval_init_score=None, eval_group=None, eval_metric=None, early_stopping_rounds=None, verbose=True, feature_name='auto', categorical_feature='auto', callbacks=None)\n",
            "     |      Build a gradient boosting model from the training set (X, y).\n",
            "     |      \n",
            "     |      Parameters\n",
            "     |      ----------\n",
            "     |      X : array-like or sparse matrix of shape = [n_samples, n_features]\n",
            "     |          Input feature matrix.\n",
            "     |      y : array-like of shape = [n_samples]\n",
            "     |          The target values (class labels in classification, real numbers in regression).\n",
            "     |      sample_weight : array-like of shape = [n_samples] or None, optional (default=None)\n",
            "     |          Weights of training data.\n",
            "     |      init_score : array-like of shape = [n_samples] or None, optional (default=None)\n",
            "     |          Init score of training data.\n",
            "     |      group : array-like or None, optional (default=None)\n",
            "     |          Group data of training data.\n",
            "     |      eval_set : list or None, optional (default=None)\n",
            "     |          A list of (X, y) tuple pairs to use as validation sets.\n",
            "     |      eval_names : list of strings or None, optional (default=None)\n",
            "     |          Names of eval_set.\n",
            "     |      eval_sample_weight : list of arrays or None, optional (default=None)\n",
            "     |          Weights of eval data.\n",
            "     |      eval_class_weight : list or None, optional (default=None)\n",
            "     |          Class weights of eval data.\n",
            "     |      eval_init_score : list of arrays or None, optional (default=None)\n",
            "     |          Init score of eval data.\n",
            "     |      eval_group : list of arrays or None, optional (default=None)\n",
            "     |          Group data of eval data.\n",
            "     |      eval_metric : string, list of strings, callable or None, optional (default=None)\n",
            "     |          If string, it should be a built-in evaluation metric to use.\n",
            "     |          If callable, it should be a custom evaluation metric, see note below for more details.\n",
            "     |          In either case, the ``metric`` from the model parameters will be evaluated and used as well.\n",
            "     |          Default: 'l2' for LGBMRegressor, 'logloss' for LGBMClassifier, 'ndcg' for LGBMRanker.\n",
            "     |      early_stopping_rounds : int or None, optional (default=None)\n",
            "     |          Activates early stopping. The model will train until the validation score stops improving.\n",
            "     |          Validation score needs to improve at least every ``early_stopping_rounds`` round(s)\n",
            "     |          to continue training.\n",
            "     |          Requires at least one validation data and one metric.\n",
            "     |          If there's more than one, will check all of them. But the training data is ignored anyway.\n",
            "     |      verbose : bool or int, optional (default=True)\n",
            "     |          Requires at least one evaluation data.\n",
            "     |          If True, the eval metric on the eval set is printed at each boosting stage.\n",
            "     |          If int, the eval metric on the eval set is printed at every ``verbose`` boosting stage.\n",
            "     |          The last boosting stage or the boosting stage found by using ``early_stopping_rounds`` is also printed.\n",
            "     |      \n",
            "     |          Example\n",
            "     |          -------\n",
            "     |          With ``verbose`` = 4 and at least one item in ``eval_set``,\n",
            "     |          an evaluation metric is printed every 4 (instead of 1) boosting stages.\n",
            "     |      \n",
            "     |      feature_name : list of strings or 'auto', optional (default='auto')\n",
            "     |          Feature names.\n",
            "     |          If 'auto' and data is pandas DataFrame, data columns names are used.\n",
            "     |      categorical_feature : list of strings or int, or 'auto', optional (default='auto')\n",
            "     |          Categorical features.\n",
            "     |          If list of int, interpreted as indices.\n",
            "     |          If list of strings, interpreted as feature names (need to specify ``feature_name`` as well).\n",
            "     |          If 'auto' and data is pandas DataFrame, pandas categorical columns are used.\n",
            "     |          All values in categorical features should be less than int32 max value (2147483647).\n",
            "     |          Large values could be memory consuming. Consider using consecutive integers starting from zero.\n",
            "     |          All negative values in categorical features will be treated as missing values.\n",
            "     |      callbacks : list of callback functions or None, optional (default=None)\n",
            "     |          List of callback functions that are applied at each iteration.\n",
            "     |          See Callbacks in Python API for more information.\n",
            "     |      \n",
            "     |      Returns\n",
            "     |      -------\n",
            "     |      self : object\n",
            "     |          Returns self.\n",
            "     |      \n",
            "     |      Note\n",
            "     |      ----\n",
            "     |      Custom eval function expects a callable with following signatures:\n",
            "     |      ``func(y_true, y_pred)``, ``func(y_true, y_pred, weight)`` or\n",
            "     |      ``func(y_true, y_pred, weight, group)``\n",
            "     |      and returns (eval_name, eval_result, is_bigger_better) or\n",
            "     |      list of (eval_name, eval_result, is_bigger_better):\n",
            "     |      \n",
            "     |          y_true : array-like of shape = [n_samples]\n",
            "     |              The target values.\n",
            "     |          y_pred : array-like of shape = [n_samples] or shape = [n_samples * n_classes] (for multi-class task)\n",
            "     |              The predicted values.\n",
            "     |          weight : array-like of shape = [n_samples]\n",
            "     |              The weight of samples.\n",
            "     |          group : array-like\n",
            "     |              Group/query data, used for ranking task.\n",
            "     |          eval_name : string\n",
            "     |              The name of evaluation.\n",
            "     |          eval_result : float\n",
            "     |              The eval result.\n",
            "     |          is_bigger_better : bool\n",
            "     |              Is eval result bigger better, e.g. AUC is bigger_better.\n",
            "     |      \n",
            "     |      For multi-class task, the y_pred is group by class_id first, then group by row_id.\n",
            "     |      If you want to get i-th row y_pred in j-th class, the access way is y_pred[j * num_data + i].\n",
            "     |  \n",
            "     |  get_params(self, deep=True)\n",
            "     |      Get parameters for this estimator.\n",
            "     |      \n",
            "     |      Parameters\n",
            "     |      ----------\n",
            "     |      deep : bool, optional (default=True)\n",
            "     |          If True, will return the parameters for this estimator and\n",
            "     |          contained subobjects that are estimators.\n",
            "     |      \n",
            "     |      Returns\n",
            "     |      -------\n",
            "     |      params : dict\n",
            "     |          Parameter names mapped to their values.\n",
            "     |  \n",
            "     |  predict(self, X, raw_score=False, num_iteration=None, pred_leaf=False, pred_contrib=False, **kwargs)\n",
            "     |      Return the predicted value for each sample.\n",
            "     |      \n",
            "     |      Parameters\n",
            "     |      ----------\n",
            "     |      X : array-like or sparse matrix of shape = [n_samples, n_features]\n",
            "     |          Input features matrix.\n",
            "     |      raw_score : bool, optional (default=False)\n",
            "     |          Whether to predict raw scores.\n",
            "     |      num_iteration : int or None, optional (default=None)\n",
            "     |          Limit number of iterations in the prediction.\n",
            "     |          If None, if the best iteration exists, it is used; otherwise, all trees are used.\n",
            "     |          If <= 0, all trees are used (no limits).\n",
            "     |      pred_leaf : bool, optional (default=False)\n",
            "     |          Whether to predict leaf index.\n",
            "     |      pred_contrib : bool, optional (default=False)\n",
            "     |          Whether to predict feature contributions.\n",
            "     |      \n",
            "     |          Note\n",
            "     |          ----\n",
            "     |          If you want to get more explanation for your model's predictions using SHAP values\n",
            "     |          like SHAP interaction values,\n",
            "     |          you can install shap package (https://github.com/slundberg/shap).\n",
            "     |      \n",
            "     |      **kwargs\n",
            "     |          Other parameters for the prediction.\n",
            "     |      \n",
            "     |      Returns\n",
            "     |      -------\n",
            "     |      predicted_result : array-like of shape = [n_samples] or shape = [n_samples, n_classes]\n",
            "     |          The predicted values.\n",
            "     |      X_leaves : array-like of shape = [n_samples, n_trees] or shape [n_samples, n_trees * n_classes]\n",
            "     |          If ``pred_leaf=True``, the predicted leaf every tree for each sample.\n",
            "     |      X_SHAP_values : array-like of shape = [n_samples, n_features + 1] or shape [n_samples, (n_features + 1) * n_classes]\n",
            "     |          If ``pred_contrib=True``, the each feature contributions for each sample.\n",
            "     |  \n",
            "     |  set_params(self, **params)\n",
            "     |      Set the parameters of this estimator.\n",
            "     |      \n",
            "     |      Parameters\n",
            "     |      ----------\n",
            "     |      **params\n",
            "     |          Parameter names with their new values.\n",
            "     |      \n",
            "     |      Returns\n",
            "     |      -------\n",
            "     |      self : object\n",
            "     |          Returns self.\n",
            "     |  \n",
            "     |  ----------------------------------------------------------------------\n",
            "     |  Data descriptors defined here:\n",
            "     |  \n",
            "     |  best_iteration_\n",
            "     |      Get the best iteration of fitted model.\n",
            "     |  \n",
            "     |  best_score_\n",
            "     |      Get the best score of fitted model.\n",
            "     |  \n",
            "     |  booster_\n",
            "     |      Get the underlying lightgbm Booster of this model.\n",
            "     |  \n",
            "     |  evals_result_\n",
            "     |      Get the evaluation results.\n",
            "     |  \n",
            "     |  feature_importances_\n",
            "     |      Get feature importances.\n",
            "     |      \n",
            "     |      Note\n",
            "     |      ----\n",
            "     |      Feature importance in sklearn interface used to normalize to 1,\n",
            "     |      it's deprecated after 2.0.4 and is the same as Booster.feature_importance() now.\n",
            "     |      ``importance_type`` attribute is passed to the function\n",
            "     |      to configure the type of importance values to be extracted.\n",
            "     |  \n",
            "     |  n_features_\n",
            "     |      Get the number of features of fitted model.\n",
            "     |  \n",
            "     |  objective_\n",
            "     |      Get the concrete objective used while fitting this model.\n",
            "     |  \n",
            "     |  ----------------------------------------------------------------------\n",
            "     |  Methods inherited from sklearn.base.BaseEstimator:\n",
            "     |  \n",
            "     |  __getstate__(self)\n",
            "     |  \n",
            "     |  __repr__(self, N_CHAR_MAX=700)\n",
            "     |      Return repr(self).\n",
            "     |  \n",
            "     |  __setstate__(self, state)\n",
            "     |  \n",
            "     |  ----------------------------------------------------------------------\n",
            "     |  Data descriptors inherited from sklearn.base.BaseEstimator:\n",
            "     |  \n",
            "     |  __dict__\n",
            "     |      dictionary for instance variables (if defined)\n",
            "     |  \n",
            "     |  __weakref__\n",
            "     |      list of weak references to the object (if defined)\n",
            "    \n",
            "    class LGBMRanker(LGBMModel)\n",
            "     |  LightGBM ranker.\n",
            "     |  \n",
            "     |  Method resolution order:\n",
            "     |      LGBMRanker\n",
            "     |      LGBMModel\n",
            "     |      sklearn.base.BaseEstimator\n",
            "     |      builtins.object\n",
            "     |  \n",
            "     |  Methods defined here:\n",
            "     |  \n",
            "     |  fit(self, X, y, sample_weight=None, init_score=None, group=None, eval_set=None, eval_names=None, eval_sample_weight=None, eval_init_score=None, eval_group=None, eval_metric=None, eval_at=[1], early_stopping_rounds=None, verbose=True, feature_name='auto', categorical_feature='auto', callbacks=None)\n",
            "     |      Build a gradient boosting model from the training set (X, y).\n",
            "     |      \n",
            "     |      Parameters\n",
            "     |      ----------\n",
            "     |      X : array-like or sparse matrix of shape = [n_samples, n_features]\n",
            "     |          Input feature matrix.\n",
            "     |      y : array-like of shape = [n_samples]\n",
            "     |          The target values (class labels in classification, real numbers in regression).\n",
            "     |      sample_weight : array-like of shape = [n_samples] or None, optional (default=None)\n",
            "     |          Weights of training data.\n",
            "     |      init_score : array-like of shape = [n_samples] or None, optional (default=None)\n",
            "     |          Init score of training data.\n",
            "     |      group : array-like or None, optional (default=None)\n",
            "     |          Group data of training data.\n",
            "     |      eval_set : list or None, optional (default=None)\n",
            "     |          A list of (X, y) tuple pairs to use as validation sets.\n",
            "     |      eval_names : list of strings or None, optional (default=None)\n",
            "     |          Names of eval_set.\n",
            "     |      eval_sample_weight : list of arrays or None, optional (default=None)\n",
            "     |          Weights of eval data.\n",
            "     |      eval_init_score : list of arrays or None, optional (default=None)\n",
            "     |          Init score of eval data.\n",
            "     |      eval_group : list of arrays or None, optional (default=None)\n",
            "     |          Group data of eval data.\n",
            "     |      eval_metric : string, list of strings, callable or None, optional (default=None)\n",
            "     |          If string, it should be a built-in evaluation metric to use.\n",
            "     |          If callable, it should be a custom evaluation metric, see note below for more details.\n",
            "     |          In either case, the ``metric`` from the model parameters will be evaluated and used as well.\n",
            "     |          Default: 'l2' for LGBMRegressor, 'logloss' for LGBMClassifier, 'ndcg' for LGBMRanker.\n",
            "     |      eval_at : list of int, optional (default=[1])\n",
            "     |          The evaluation positions of the specified metric.\n",
            "     |      early_stopping_rounds : int or None, optional (default=None)\n",
            "     |          Activates early stopping. The model will train until the validation score stops improving.\n",
            "     |          Validation score needs to improve at least every ``early_stopping_rounds`` round(s)\n",
            "     |          to continue training.\n",
            "     |          Requires at least one validation data and one metric.\n",
            "     |          If there's more than one, will check all of them. But the training data is ignored anyway.\n",
            "     |      verbose : bool or int, optional (default=True)\n",
            "     |          Requires at least one evaluation data.\n",
            "     |          If True, the eval metric on the eval set is printed at each boosting stage.\n",
            "     |          If int, the eval metric on the eval set is printed at every ``verbose`` boosting stage.\n",
            "     |          The last boosting stage or the boosting stage found by using ``early_stopping_rounds`` is also printed.\n",
            "     |      \n",
            "     |          Example\n",
            "     |          -------\n",
            "     |          With ``verbose`` = 4 and at least one item in ``eval_set``,\n",
            "     |          an evaluation metric is printed every 4 (instead of 1) boosting stages.\n",
            "     |      \n",
            "     |      feature_name : list of strings or 'auto', optional (default='auto')\n",
            "     |          Feature names.\n",
            "     |          If 'auto' and data is pandas DataFrame, data columns names are used.\n",
            "     |      categorical_feature : list of strings or int, or 'auto', optional (default='auto')\n",
            "     |          Categorical features.\n",
            "     |          If list of int, interpreted as indices.\n",
            "     |          If list of strings, interpreted as feature names (need to specify ``feature_name`` as well).\n",
            "     |          If 'auto' and data is pandas DataFrame, pandas categorical columns are used.\n",
            "     |          All values in categorical features should be less than int32 max value (2147483647).\n",
            "     |          Large values could be memory consuming. Consider using consecutive integers starting from zero.\n",
            "     |          All negative values in categorical features will be treated as missing values.\n",
            "     |      callbacks : list of callback functions or None, optional (default=None)\n",
            "     |          List of callback functions that are applied at each iteration.\n",
            "     |          See Callbacks in Python API for more information.\n",
            "     |      \n",
            "     |      Returns\n",
            "     |      -------\n",
            "     |      self : object\n",
            "     |          Returns self.\n",
            "     |      \n",
            "     |      Note\n",
            "     |      ----\n",
            "     |      Custom eval function expects a callable with following signatures:\n",
            "     |      ``func(y_true, y_pred)``, ``func(y_true, y_pred, weight)`` or\n",
            "     |      ``func(y_true, y_pred, weight, group)``\n",
            "     |      and returns (eval_name, eval_result, is_bigger_better) or\n",
            "     |      list of (eval_name, eval_result, is_bigger_better):\n",
            "     |      \n",
            "     |          y_true : array-like of shape = [n_samples]\n",
            "     |              The target values.\n",
            "     |          y_pred : array-like of shape = [n_samples] or shape = [n_samples * n_classes] (for multi-class task)\n",
            "     |              The predicted values.\n",
            "     |          weight : array-like of shape = [n_samples]\n",
            "     |              The weight of samples.\n",
            "     |          group : array-like\n",
            "     |              Group/query data, used for ranking task.\n",
            "     |          eval_name : string\n",
            "     |              The name of evaluation.\n",
            "     |          eval_result : float\n",
            "     |              The eval result.\n",
            "     |          is_bigger_better : bool\n",
            "     |              Is eval result bigger better, e.g. AUC is bigger_better.\n",
            "     |      \n",
            "     |      For multi-class task, the y_pred is group by class_id first, then group by row_id.\n",
            "     |      If you want to get i-th row y_pred in j-th class, the access way is y_pred[j * num_data + i].\n",
            "     |  \n",
            "     |  ----------------------------------------------------------------------\n",
            "     |  Methods inherited from LGBMModel:\n",
            "     |  \n",
            "     |  __init__(self, boosting_type='gbdt', num_leaves=31, max_depth=-1, learning_rate=0.1, n_estimators=100, subsample_for_bin=200000, objective=None, class_weight=None, min_split_gain=0.0, min_child_weight=0.001, min_child_samples=20, subsample=1.0, subsample_freq=0, colsample_bytree=1.0, reg_alpha=0.0, reg_lambda=0.0, random_state=None, n_jobs=-1, silent=True, importance_type='split', **kwargs)\n",
            "     |      Construct a gradient boosting model.\n",
            "     |      \n",
            "     |      Parameters\n",
            "     |      ----------\n",
            "     |      boosting_type : string, optional (default='gbdt')\n",
            "     |          'gbdt', traditional Gradient Boosting Decision Tree.\n",
            "     |          'dart', Dropouts meet Multiple Additive Regression Trees.\n",
            "     |          'goss', Gradient-based One-Side Sampling.\n",
            "     |          'rf', Random Forest.\n",
            "     |      num_leaves : int, optional (default=31)\n",
            "     |          Maximum tree leaves for base learners.\n",
            "     |      max_depth : int, optional (default=-1)\n",
            "     |          Maximum tree depth for base learners, -1 means no limit.\n",
            "     |      learning_rate : float, optional (default=0.1)\n",
            "     |          Boosting learning rate.\n",
            "     |          You can use ``callbacks`` parameter of ``fit`` method to shrink/adapt learning rate\n",
            "     |          in training using ``reset_parameter`` callback.\n",
            "     |          Note, that this will ignore the ``learning_rate`` argument in training.\n",
            "     |      n_estimators : int, optional (default=100)\n",
            "     |          Number of boosted trees to fit.\n",
            "     |      subsample_for_bin : int, optional (default=200000)\n",
            "     |          Number of samples for constructing bins.\n",
            "     |      objective : string, callable or None, optional (default=None)\n",
            "     |          Specify the learning task and the corresponding learning objective or\n",
            "     |          a custom objective function to be used (see note below).\n",
            "     |          Default: 'regression' for LGBMRegressor, 'binary' or 'multiclass' for LGBMClassifier, 'lambdarank' for LGBMRanker.\n",
            "     |      class_weight : dict, 'balanced' or None, optional (default=None)\n",
            "     |          Weights associated with classes in the form ``{class_label: weight}``.\n",
            "     |          Use this parameter only for multi-class classification task;\n",
            "     |          for binary classification task you may use ``is_unbalance`` or ``scale_pos_weight`` parameters.\n",
            "     |          The 'balanced' mode uses the values of y to automatically adjust weights\n",
            "     |          inversely proportional to class frequencies in the input data as ``n_samples / (n_classes * np.bincount(y))``.\n",
            "     |          If None, all classes are supposed to have weight one.\n",
            "     |          Note, that these weights will be multiplied with ``sample_weight`` (passed through the ``fit`` method)\n",
            "     |          if ``sample_weight`` is specified.\n",
            "     |      min_split_gain : float, optional (default=0.)\n",
            "     |          Minimum loss reduction required to make a further partition on a leaf node of the tree.\n",
            "     |      min_child_weight : float, optional (default=1e-3)\n",
            "     |          Minimum sum of instance weight (hessian) needed in a child (leaf).\n",
            "     |      min_child_samples : int, optional (default=20)\n",
            "     |          Minimum number of data needed in a child (leaf).\n",
            "     |      subsample : float, optional (default=1.)\n",
            "     |          Subsample ratio of the training instance.\n",
            "     |      subsample_freq : int, optional (default=0)\n",
            "     |          Frequence of subsample, <=0 means no enable.\n",
            "     |      colsample_bytree : float, optional (default=1.)\n",
            "     |          Subsample ratio of columns when constructing each tree.\n",
            "     |      reg_alpha : float, optional (default=0.)\n",
            "     |          L1 regularization term on weights.\n",
            "     |      reg_lambda : float, optional (default=0.)\n",
            "     |          L2 regularization term on weights.\n",
            "     |      random_state : int or None, optional (default=None)\n",
            "     |          Random number seed.\n",
            "     |          If None, default seeds in C++ code will be used.\n",
            "     |      n_jobs : int, optional (default=-1)\n",
            "     |          Number of parallel threads.\n",
            "     |      silent : bool, optional (default=True)\n",
            "     |          Whether to print messages while running boosting.\n",
            "     |      importance_type : string, optional (default='split')\n",
            "     |          The type of feature importance to be filled into ``feature_importances_``.\n",
            "     |          If 'split', result contains numbers of times the feature is used in a model.\n",
            "     |          If 'gain', result contains total gains of splits which use the feature.\n",
            "     |      **kwargs\n",
            "     |          Other parameters for the model.\n",
            "     |          Check http://lightgbm.readthedocs.io/en/latest/Parameters.html for more parameters.\n",
            "     |      \n",
            "     |          Note\n",
            "     |          ----\n",
            "     |          \\*\\*kwargs is not supported in sklearn, it may cause unexpected issues.\n",
            "     |      \n",
            "     |      Attributes\n",
            "     |      ----------\n",
            "     |      n_features_ : int\n",
            "     |          The number of features of fitted model.\n",
            "     |      classes_ : array of shape = [n_classes]\n",
            "     |          The class label array (only for classification problem).\n",
            "     |      n_classes_ : int\n",
            "     |          The number of classes (only for classification problem).\n",
            "     |      best_score_ : dict or None\n",
            "     |          The best score of fitted model.\n",
            "     |      best_iteration_ : int or None\n",
            "     |          The best iteration of fitted model if ``early_stopping_rounds`` has been specified.\n",
            "     |      objective_ : string or callable\n",
            "     |          The concrete objective used while fitting this model.\n",
            "     |      booster_ : Booster\n",
            "     |          The underlying Booster of this model.\n",
            "     |      evals_result_ : dict or None\n",
            "     |          The evaluation results if ``early_stopping_rounds`` has been specified.\n",
            "     |      feature_importances_ : array of shape = [n_features]\n",
            "     |          The feature importances (the higher, the more important the feature).\n",
            "     |      \n",
            "     |      Note\n",
            "     |      ----\n",
            "     |      A custom objective function can be provided for the ``objective`` parameter.\n",
            "     |      In this case, it should have the signature\n",
            "     |      ``objective(y_true, y_pred) -> grad, hess`` or\n",
            "     |      ``objective(y_true, y_pred, group) -> grad, hess``:\n",
            "     |      \n",
            "     |          y_true : array-like of shape = [n_samples]\n",
            "     |              The target values.\n",
            "     |          y_pred : array-like of shape = [n_samples] or shape = [n_samples * n_classes] (for multi-class task)\n",
            "     |              The predicted values.\n",
            "     |          group : array-like\n",
            "     |              Group/query data, used for ranking task.\n",
            "     |          grad : array-like of shape = [n_samples] or shape = [n_samples * n_classes] (for multi-class task)\n",
            "     |              The value of the gradient for each sample point.\n",
            "     |          hess : array-like of shape = [n_samples] or shape = [n_samples * n_classes] (for multi-class task)\n",
            "     |              The value of the second derivative for each sample point.\n",
            "     |      \n",
            "     |      For multi-class task, the y_pred is group by class_id first, then group by row_id.\n",
            "     |      If you want to get i-th row y_pred in j-th class, the access way is y_pred[j * num_data + i]\n",
            "     |      and you should group grad and hess in this way as well.\n",
            "     |  \n",
            "     |  get_params(self, deep=True)\n",
            "     |      Get parameters for this estimator.\n",
            "     |      \n",
            "     |      Parameters\n",
            "     |      ----------\n",
            "     |      deep : bool, optional (default=True)\n",
            "     |          If True, will return the parameters for this estimator and\n",
            "     |          contained subobjects that are estimators.\n",
            "     |      \n",
            "     |      Returns\n",
            "     |      -------\n",
            "     |      params : dict\n",
            "     |          Parameter names mapped to their values.\n",
            "     |  \n",
            "     |  predict(self, X, raw_score=False, num_iteration=None, pred_leaf=False, pred_contrib=False, **kwargs)\n",
            "     |      Return the predicted value for each sample.\n",
            "     |      \n",
            "     |      Parameters\n",
            "     |      ----------\n",
            "     |      X : array-like or sparse matrix of shape = [n_samples, n_features]\n",
            "     |          Input features matrix.\n",
            "     |      raw_score : bool, optional (default=False)\n",
            "     |          Whether to predict raw scores.\n",
            "     |      num_iteration : int or None, optional (default=None)\n",
            "     |          Limit number of iterations in the prediction.\n",
            "     |          If None, if the best iteration exists, it is used; otherwise, all trees are used.\n",
            "     |          If <= 0, all trees are used (no limits).\n",
            "     |      pred_leaf : bool, optional (default=False)\n",
            "     |          Whether to predict leaf index.\n",
            "     |      pred_contrib : bool, optional (default=False)\n",
            "     |          Whether to predict feature contributions.\n",
            "     |      \n",
            "     |          Note\n",
            "     |          ----\n",
            "     |          If you want to get more explanation for your model's predictions using SHAP values\n",
            "     |          like SHAP interaction values,\n",
            "     |          you can install shap package (https://github.com/slundberg/shap).\n",
            "     |      \n",
            "     |      **kwargs\n",
            "     |          Other parameters for the prediction.\n",
            "     |      \n",
            "     |      Returns\n",
            "     |      -------\n",
            "     |      predicted_result : array-like of shape = [n_samples] or shape = [n_samples, n_classes]\n",
            "     |          The predicted values.\n",
            "     |      X_leaves : array-like of shape = [n_samples, n_trees] or shape [n_samples, n_trees * n_classes]\n",
            "     |          If ``pred_leaf=True``, the predicted leaf every tree for each sample.\n",
            "     |      X_SHAP_values : array-like of shape = [n_samples, n_features + 1] or shape [n_samples, (n_features + 1) * n_classes]\n",
            "     |          If ``pred_contrib=True``, the each feature contributions for each sample.\n",
            "     |  \n",
            "     |  set_params(self, **params)\n",
            "     |      Set the parameters of this estimator.\n",
            "     |      \n",
            "     |      Parameters\n",
            "     |      ----------\n",
            "     |      **params\n",
            "     |          Parameter names with their new values.\n",
            "     |      \n",
            "     |      Returns\n",
            "     |      -------\n",
            "     |      self : object\n",
            "     |          Returns self.\n",
            "     |  \n",
            "     |  ----------------------------------------------------------------------\n",
            "     |  Data descriptors inherited from LGBMModel:\n",
            "     |  \n",
            "     |  best_iteration_\n",
            "     |      Get the best iteration of fitted model.\n",
            "     |  \n",
            "     |  best_score_\n",
            "     |      Get the best score of fitted model.\n",
            "     |  \n",
            "     |  booster_\n",
            "     |      Get the underlying lightgbm Booster of this model.\n",
            "     |  \n",
            "     |  evals_result_\n",
            "     |      Get the evaluation results.\n",
            "     |  \n",
            "     |  feature_importances_\n",
            "     |      Get feature importances.\n",
            "     |      \n",
            "     |      Note\n",
            "     |      ----\n",
            "     |      Feature importance in sklearn interface used to normalize to 1,\n",
            "     |      it's deprecated after 2.0.4 and is the same as Booster.feature_importance() now.\n",
            "     |      ``importance_type`` attribute is passed to the function\n",
            "     |      to configure the type of importance values to be extracted.\n",
            "     |  \n",
            "     |  n_features_\n",
            "     |      Get the number of features of fitted model.\n",
            "     |  \n",
            "     |  objective_\n",
            "     |      Get the concrete objective used while fitting this model.\n",
            "     |  \n",
            "     |  ----------------------------------------------------------------------\n",
            "     |  Methods inherited from sklearn.base.BaseEstimator:\n",
            "     |  \n",
            "     |  __getstate__(self)\n",
            "     |  \n",
            "     |  __repr__(self, N_CHAR_MAX=700)\n",
            "     |      Return repr(self).\n",
            "     |  \n",
            "     |  __setstate__(self, state)\n",
            "     |  \n",
            "     |  ----------------------------------------------------------------------\n",
            "     |  Data descriptors inherited from sklearn.base.BaseEstimator:\n",
            "     |  \n",
            "     |  __dict__\n",
            "     |      dictionary for instance variables (if defined)\n",
            "     |  \n",
            "     |  __weakref__\n",
            "     |      list of weak references to the object (if defined)\n",
            "    \n",
            "    class LGBMRegressor(LGBMModel, sklearn.base.RegressorMixin)\n",
            "     |  LightGBM regressor.\n",
            "     |  \n",
            "     |  Method resolution order:\n",
            "     |      LGBMRegressor\n",
            "     |      LGBMModel\n",
            "     |      sklearn.base.BaseEstimator\n",
            "     |      sklearn.base.RegressorMixin\n",
            "     |      builtins.object\n",
            "     |  \n",
            "     |  Methods defined here:\n",
            "     |  \n",
            "     |  fit(self, X, y, sample_weight=None, init_score=None, eval_set=None, eval_names=None, eval_sample_weight=None, eval_init_score=None, eval_metric=None, early_stopping_rounds=None, verbose=True, feature_name='auto', categorical_feature='auto', callbacks=None)\n",
            "     |      Build a gradient boosting model from the training set (X, y).\n",
            "     |      \n",
            "     |      Parameters\n",
            "     |      ----------\n",
            "     |      X : array-like or sparse matrix of shape = [n_samples, n_features]\n",
            "     |          Input feature matrix.\n",
            "     |      y : array-like of shape = [n_samples]\n",
            "     |          The target values (class labels in classification, real numbers in regression).\n",
            "     |      sample_weight : array-like of shape = [n_samples] or None, optional (default=None)\n",
            "     |          Weights of training data.\n",
            "     |      init_score : array-like of shape = [n_samples] or None, optional (default=None)\n",
            "     |          Init score of training data.\n",
            "     |      group : array-like or None, optional (default=None)\n",
            "     |          Group data of training data.\n",
            "     |      eval_set : list or None, optional (default=None)\n",
            "     |          A list of (X, y) tuple pairs to use as validation sets.\n",
            "     |      eval_names : list of strings or None, optional (default=None)\n",
            "     |          Names of eval_set.\n",
            "     |      eval_sample_weight : list of arrays or None, optional (default=None)\n",
            "     |          Weights of eval data.\n",
            "     |      eval_init_score : list of arrays or None, optional (default=None)\n",
            "     |          Init score of eval data.\n",
            "     |      eval_group : list of arrays or None, optional (default=None)\n",
            "     |          Group data of eval data.\n",
            "     |      eval_metric : string, list of strings, callable or None, optional (default=None)\n",
            "     |          If string, it should be a built-in evaluation metric to use.\n",
            "     |          If callable, it should be a custom evaluation metric, see note below for more details.\n",
            "     |          In either case, the ``metric`` from the model parameters will be evaluated and used as well.\n",
            "     |          Default: 'l2' for LGBMRegressor, 'logloss' for LGBMClassifier, 'ndcg' for LGBMRanker.\n",
            "     |      early_stopping_rounds : int or None, optional (default=None)\n",
            "     |          Activates early stopping. The model will train until the validation score stops improving.\n",
            "     |          Validation score needs to improve at least every ``early_stopping_rounds`` round(s)\n",
            "     |          to continue training.\n",
            "     |          Requires at least one validation data and one metric.\n",
            "     |          If there's more than one, will check all of them. But the training data is ignored anyway.\n",
            "     |      verbose : bool or int, optional (default=True)\n",
            "     |          Requires at least one evaluation data.\n",
            "     |          If True, the eval metric on the eval set is printed at each boosting stage.\n",
            "     |          If int, the eval metric on the eval set is printed at every ``verbose`` boosting stage.\n",
            "     |          The last boosting stage or the boosting stage found by using ``early_stopping_rounds`` is also printed.\n",
            "     |      \n",
            "     |          Example\n",
            "     |          -------\n",
            "     |          With ``verbose`` = 4 and at least one item in ``eval_set``,\n",
            "     |          an evaluation metric is printed every 4 (instead of 1) boosting stages.\n",
            "     |      \n",
            "     |      feature_name : list of strings or 'auto', optional (default='auto')\n",
            "     |          Feature names.\n",
            "     |          If 'auto' and data is pandas DataFrame, data columns names are used.\n",
            "     |      categorical_feature : list of strings or int, or 'auto', optional (default='auto')\n",
            "     |          Categorical features.\n",
            "     |          If list of int, interpreted as indices.\n",
            "     |          If list of strings, interpreted as feature names (need to specify ``feature_name`` as well).\n",
            "     |          If 'auto' and data is pandas DataFrame, pandas categorical columns are used.\n",
            "     |          All values in categorical features should be less than int32 max value (2147483647).\n",
            "     |          Large values could be memory consuming. Consider using consecutive integers starting from zero.\n",
            "     |          All negative values in categorical features will be treated as missing values.\n",
            "     |      callbacks : list of callback functions or None, optional (default=None)\n",
            "     |          List of callback functions that are applied at each iteration.\n",
            "     |          See Callbacks in Python API for more information.\n",
            "     |      \n",
            "     |      Returns\n",
            "     |      -------\n",
            "     |      self : object\n",
            "     |          Returns self.\n",
            "     |      \n",
            "     |      Note\n",
            "     |      ----\n",
            "     |      Custom eval function expects a callable with following signatures:\n",
            "     |      ``func(y_true, y_pred)``, ``func(y_true, y_pred, weight)`` or\n",
            "     |      ``func(y_true, y_pred, weight, group)``\n",
            "     |      and returns (eval_name, eval_result, is_bigger_better) or\n",
            "     |      list of (eval_name, eval_result, is_bigger_better):\n",
            "     |      \n",
            "     |          y_true : array-like of shape = [n_samples]\n",
            "     |              The target values.\n",
            "     |          y_pred : array-like of shape = [n_samples] or shape = [n_samples * n_classes] (for multi-class task)\n",
            "     |              The predicted values.\n",
            "     |          weight : array-like of shape = [n_samples]\n",
            "     |              The weight of samples.\n",
            "     |          group : array-like\n",
            "     |              Group/query data, used for ranking task.\n",
            "     |          eval_name : string\n",
            "     |              The name of evaluation.\n",
            "     |          eval_result : float\n",
            "     |              The eval result.\n",
            "     |          is_bigger_better : bool\n",
            "     |              Is eval result bigger better, e.g. AUC is bigger_better.\n",
            "     |      \n",
            "     |      For multi-class task, the y_pred is group by class_id first, then group by row_id.\n",
            "     |      If you want to get i-th row y_pred in j-th class, the access way is y_pred[j * num_data + i].\n",
            "     |  \n",
            "     |  ----------------------------------------------------------------------\n",
            "     |  Methods inherited from LGBMModel:\n",
            "     |  \n",
            "     |  __init__(self, boosting_type='gbdt', num_leaves=31, max_depth=-1, learning_rate=0.1, n_estimators=100, subsample_for_bin=200000, objective=None, class_weight=None, min_split_gain=0.0, min_child_weight=0.001, min_child_samples=20, subsample=1.0, subsample_freq=0, colsample_bytree=1.0, reg_alpha=0.0, reg_lambda=0.0, random_state=None, n_jobs=-1, silent=True, importance_type='split', **kwargs)\n",
            "     |      Construct a gradient boosting model.\n",
            "     |      \n",
            "     |      Parameters\n",
            "     |      ----------\n",
            "     |      boosting_type : string, optional (default='gbdt')\n",
            "     |          'gbdt', traditional Gradient Boosting Decision Tree.\n",
            "     |          'dart', Dropouts meet Multiple Additive Regression Trees.\n",
            "     |          'goss', Gradient-based One-Side Sampling.\n",
            "     |          'rf', Random Forest.\n",
            "     |      num_leaves : int, optional (default=31)\n",
            "     |          Maximum tree leaves for base learners.\n",
            "     |      max_depth : int, optional (default=-1)\n",
            "     |          Maximum tree depth for base learners, -1 means no limit.\n",
            "     |      learning_rate : float, optional (default=0.1)\n",
            "     |          Boosting learning rate.\n",
            "     |          You can use ``callbacks`` parameter of ``fit`` method to shrink/adapt learning rate\n",
            "     |          in training using ``reset_parameter`` callback.\n",
            "     |          Note, that this will ignore the ``learning_rate`` argument in training.\n",
            "     |      n_estimators : int, optional (default=100)\n",
            "     |          Number of boosted trees to fit.\n",
            "     |      subsample_for_bin : int, optional (default=200000)\n",
            "     |          Number of samples for constructing bins.\n",
            "     |      objective : string, callable or None, optional (default=None)\n",
            "     |          Specify the learning task and the corresponding learning objective or\n",
            "     |          a custom objective function to be used (see note below).\n",
            "     |          Default: 'regression' for LGBMRegressor, 'binary' or 'multiclass' for LGBMClassifier, 'lambdarank' for LGBMRanker.\n",
            "     |      class_weight : dict, 'balanced' or None, optional (default=None)\n",
            "     |          Weights associated with classes in the form ``{class_label: weight}``.\n",
            "     |          Use this parameter only for multi-class classification task;\n",
            "     |          for binary classification task you may use ``is_unbalance`` or ``scale_pos_weight`` parameters.\n",
            "     |          The 'balanced' mode uses the values of y to automatically adjust weights\n",
            "     |          inversely proportional to class frequencies in the input data as ``n_samples / (n_classes * np.bincount(y))``.\n",
            "     |          If None, all classes are supposed to have weight one.\n",
            "     |          Note, that these weights will be multiplied with ``sample_weight`` (passed through the ``fit`` method)\n",
            "     |          if ``sample_weight`` is specified.\n",
            "     |      min_split_gain : float, optional (default=0.)\n",
            "     |          Minimum loss reduction required to make a further partition on a leaf node of the tree.\n",
            "     |      min_child_weight : float, optional (default=1e-3)\n",
            "     |          Minimum sum of instance weight (hessian) needed in a child (leaf).\n",
            "     |      min_child_samples : int, optional (default=20)\n",
            "     |          Minimum number of data needed in a child (leaf).\n",
            "     |      subsample : float, optional (default=1.)\n",
            "     |          Subsample ratio of the training instance.\n",
            "     |      subsample_freq : int, optional (default=0)\n",
            "     |          Frequence of subsample, <=0 means no enable.\n",
            "     |      colsample_bytree : float, optional (default=1.)\n",
            "     |          Subsample ratio of columns when constructing each tree.\n",
            "     |      reg_alpha : float, optional (default=0.)\n",
            "     |          L1 regularization term on weights.\n",
            "     |      reg_lambda : float, optional (default=0.)\n",
            "     |          L2 regularization term on weights.\n",
            "     |      random_state : int or None, optional (default=None)\n",
            "     |          Random number seed.\n",
            "     |          If None, default seeds in C++ code will be used.\n",
            "     |      n_jobs : int, optional (default=-1)\n",
            "     |          Number of parallel threads.\n",
            "     |      silent : bool, optional (default=True)\n",
            "     |          Whether to print messages while running boosting.\n",
            "     |      importance_type : string, optional (default='split')\n",
            "     |          The type of feature importance to be filled into ``feature_importances_``.\n",
            "     |          If 'split', result contains numbers of times the feature is used in a model.\n",
            "     |          If 'gain', result contains total gains of splits which use the feature.\n",
            "     |      **kwargs\n",
            "     |          Other parameters for the model.\n",
            "     |          Check http://lightgbm.readthedocs.io/en/latest/Parameters.html for more parameters.\n",
            "     |      \n",
            "     |          Note\n",
            "     |          ----\n",
            "     |          \\*\\*kwargs is not supported in sklearn, it may cause unexpected issues.\n",
            "     |      \n",
            "     |      Attributes\n",
            "     |      ----------\n",
            "     |      n_features_ : int\n",
            "     |          The number of features of fitted model.\n",
            "     |      classes_ : array of shape = [n_classes]\n",
            "     |          The class label array (only for classification problem).\n",
            "     |      n_classes_ : int\n",
            "     |          The number of classes (only for classification problem).\n",
            "     |      best_score_ : dict or None\n",
            "     |          The best score of fitted model.\n",
            "     |      best_iteration_ : int or None\n",
            "     |          The best iteration of fitted model if ``early_stopping_rounds`` has been specified.\n",
            "     |      objective_ : string or callable\n",
            "     |          The concrete objective used while fitting this model.\n",
            "     |      booster_ : Booster\n",
            "     |          The underlying Booster of this model.\n",
            "     |      evals_result_ : dict or None\n",
            "     |          The evaluation results if ``early_stopping_rounds`` has been specified.\n",
            "     |      feature_importances_ : array of shape = [n_features]\n",
            "     |          The feature importances (the higher, the more important the feature).\n",
            "     |      \n",
            "     |      Note\n",
            "     |      ----\n",
            "     |      A custom objective function can be provided for the ``objective`` parameter.\n",
            "     |      In this case, it should have the signature\n",
            "     |      ``objective(y_true, y_pred) -> grad, hess`` or\n",
            "     |      ``objective(y_true, y_pred, group) -> grad, hess``:\n",
            "     |      \n",
            "     |          y_true : array-like of shape = [n_samples]\n",
            "     |              The target values.\n",
            "     |          y_pred : array-like of shape = [n_samples] or shape = [n_samples * n_classes] (for multi-class task)\n",
            "     |              The predicted values.\n",
            "     |          group : array-like\n",
            "     |              Group/query data, used for ranking task.\n",
            "     |          grad : array-like of shape = [n_samples] or shape = [n_samples * n_classes] (for multi-class task)\n",
            "     |              The value of the gradient for each sample point.\n",
            "     |          hess : array-like of shape = [n_samples] or shape = [n_samples * n_classes] (for multi-class task)\n",
            "     |              The value of the second derivative for each sample point.\n",
            "     |      \n",
            "     |      For multi-class task, the y_pred is group by class_id first, then group by row_id.\n",
            "     |      If you want to get i-th row y_pred in j-th class, the access way is y_pred[j * num_data + i]\n",
            "     |      and you should group grad and hess in this way as well.\n",
            "     |  \n",
            "     |  get_params(self, deep=True)\n",
            "     |      Get parameters for this estimator.\n",
            "     |      \n",
            "     |      Parameters\n",
            "     |      ----------\n",
            "     |      deep : bool, optional (default=True)\n",
            "     |          If True, will return the parameters for this estimator and\n",
            "     |          contained subobjects that are estimators.\n",
            "     |      \n",
            "     |      Returns\n",
            "     |      -------\n",
            "     |      params : dict\n",
            "     |          Parameter names mapped to their values.\n",
            "     |  \n",
            "     |  predict(self, X, raw_score=False, num_iteration=None, pred_leaf=False, pred_contrib=False, **kwargs)\n",
            "     |      Return the predicted value for each sample.\n",
            "     |      \n",
            "     |      Parameters\n",
            "     |      ----------\n",
            "     |      X : array-like or sparse matrix of shape = [n_samples, n_features]\n",
            "     |          Input features matrix.\n",
            "     |      raw_score : bool, optional (default=False)\n",
            "     |          Whether to predict raw scores.\n",
            "     |      num_iteration : int or None, optional (default=None)\n",
            "     |          Limit number of iterations in the prediction.\n",
            "     |          If None, if the best iteration exists, it is used; otherwise, all trees are used.\n",
            "     |          If <= 0, all trees are used (no limits).\n",
            "     |      pred_leaf : bool, optional (default=False)\n",
            "     |          Whether to predict leaf index.\n",
            "     |      pred_contrib : bool, optional (default=False)\n",
            "     |          Whether to predict feature contributions.\n",
            "     |      \n",
            "     |          Note\n",
            "     |          ----\n",
            "     |          If you want to get more explanation for your model's predictions using SHAP values\n",
            "     |          like SHAP interaction values,\n",
            "     |          you can install shap package (https://github.com/slundberg/shap).\n",
            "     |      \n",
            "     |      **kwargs\n",
            "     |          Other parameters for the prediction.\n",
            "     |      \n",
            "     |      Returns\n",
            "     |      -------\n",
            "     |      predicted_result : array-like of shape = [n_samples] or shape = [n_samples, n_classes]\n",
            "     |          The predicted values.\n",
            "     |      X_leaves : array-like of shape = [n_samples, n_trees] or shape [n_samples, n_trees * n_classes]\n",
            "     |          If ``pred_leaf=True``, the predicted leaf every tree for each sample.\n",
            "     |      X_SHAP_values : array-like of shape = [n_samples, n_features + 1] or shape [n_samples, (n_features + 1) * n_classes]\n",
            "     |          If ``pred_contrib=True``, the each feature contributions for each sample.\n",
            "     |  \n",
            "     |  set_params(self, **params)\n",
            "     |      Set the parameters of this estimator.\n",
            "     |      \n",
            "     |      Parameters\n",
            "     |      ----------\n",
            "     |      **params\n",
            "     |          Parameter names with their new values.\n",
            "     |      \n",
            "     |      Returns\n",
            "     |      -------\n",
            "     |      self : object\n",
            "     |          Returns self.\n",
            "     |  \n",
            "     |  ----------------------------------------------------------------------\n",
            "     |  Data descriptors inherited from LGBMModel:\n",
            "     |  \n",
            "     |  best_iteration_\n",
            "     |      Get the best iteration of fitted model.\n",
            "     |  \n",
            "     |  best_score_\n",
            "     |      Get the best score of fitted model.\n",
            "     |  \n",
            "     |  booster_\n",
            "     |      Get the underlying lightgbm Booster of this model.\n",
            "     |  \n",
            "     |  evals_result_\n",
            "     |      Get the evaluation results.\n",
            "     |  \n",
            "     |  feature_importances_\n",
            "     |      Get feature importances.\n",
            "     |      \n",
            "     |      Note\n",
            "     |      ----\n",
            "     |      Feature importance in sklearn interface used to normalize to 1,\n",
            "     |      it's deprecated after 2.0.4 and is the same as Booster.feature_importance() now.\n",
            "     |      ``importance_type`` attribute is passed to the function\n",
            "     |      to configure the type of importance values to be extracted.\n",
            "     |  \n",
            "     |  n_features_\n",
            "     |      Get the number of features of fitted model.\n",
            "     |  \n",
            "     |  objective_\n",
            "     |      Get the concrete objective used while fitting this model.\n",
            "     |  \n",
            "     |  ----------------------------------------------------------------------\n",
            "     |  Methods inherited from sklearn.base.BaseEstimator:\n",
            "     |  \n",
            "     |  __getstate__(self)\n",
            "     |  \n",
            "     |  __repr__(self, N_CHAR_MAX=700)\n",
            "     |      Return repr(self).\n",
            "     |  \n",
            "     |  __setstate__(self, state)\n",
            "     |  \n",
            "     |  ----------------------------------------------------------------------\n",
            "     |  Data descriptors inherited from sklearn.base.BaseEstimator:\n",
            "     |  \n",
            "     |  __dict__\n",
            "     |      dictionary for instance variables (if defined)\n",
            "     |  \n",
            "     |  __weakref__\n",
            "     |      list of weak references to the object (if defined)\n",
            "     |  \n",
            "     |  ----------------------------------------------------------------------\n",
            "     |  Methods inherited from sklearn.base.RegressorMixin:\n",
            "     |  \n",
            "     |  score(self, X, y, sample_weight=None)\n",
            "     |      Return the coefficient of determination R^2 of the prediction.\n",
            "     |      \n",
            "     |      The coefficient R^2 is defined as (1 - u/v), where u is the residual\n",
            "     |      sum of squares ((y_true - y_pred) ** 2).sum() and v is the total\n",
            "     |      sum of squares ((y_true - y_true.mean()) ** 2).sum().\n",
            "     |      The best possible score is 1.0 and it can be negative (because the\n",
            "     |      model can be arbitrarily worse). A constant model that always\n",
            "     |      predicts the expected value of y, disregarding the input features,\n",
            "     |      would get a R^2 score of 0.0.\n",
            "     |      \n",
            "     |      Parameters\n",
            "     |      ----------\n",
            "     |      X : array-like of shape (n_samples, n_features)\n",
            "     |          Test samples. For some estimators this may be a\n",
            "     |          precomputed kernel matrix or a list of generic objects instead,\n",
            "     |          shape = (n_samples, n_samples_fitted),\n",
            "     |          where n_samples_fitted is the number of\n",
            "     |          samples used in the fitting for the estimator.\n",
            "     |      \n",
            "     |      y : array-like of shape (n_samples,) or (n_samples, n_outputs)\n",
            "     |          True values for X.\n",
            "     |      \n",
            "     |      sample_weight : array-like of shape (n_samples,), default=None\n",
            "     |          Sample weights.\n",
            "     |      \n",
            "     |      Returns\n",
            "     |      -------\n",
            "     |      score : float\n",
            "     |          R^2 of self.predict(X) wrt. y.\n",
            "     |      \n",
            "     |      Notes\n",
            "     |      -----\n",
            "     |      The R2 score used when calling ``score`` on a regressor will use\n",
            "     |      ``multioutput='uniform_average'`` from version 0.23 to keep consistent\n",
            "     |      with :func:`~sklearn.metrics.r2_score`. This will influence the\n",
            "     |      ``score`` method of all the multioutput regressors (except for\n",
            "     |      :class:`~sklearn.multioutput.MultiOutputRegressor`). To specify the\n",
            "     |      default value manually and avoid the warning, please either call\n",
            "     |      :func:`~sklearn.metrics.r2_score` directly or make a custom scorer with\n",
            "     |      :func:`~sklearn.metrics.make_scorer` (the built-in scorer ``'r2'`` uses\n",
            "     |      ``multioutput='uniform_average'``).\n",
            "\n",
            "FUNCTIONS\n",
            "    create_tree_digraph(booster, tree_index=0, show_info=None, precision=None, old_name=None, old_comment=None, old_filename=None, old_directory=None, old_format=None, old_engine=None, old_encoding=None, old_graph_attr=None, old_node_attr=None, old_edge_attr=None, old_body=None, old_strict=False, **kwargs)\n",
            "        Create a digraph representation of specified tree.\n",
            "        \n",
            "        Note\n",
            "        ----\n",
            "        For more information please visit\n",
            "        https://graphviz.readthedocs.io/en/stable/api.html#digraph.\n",
            "        \n",
            "        Parameters\n",
            "        ----------\n",
            "        booster : Booster or LGBMModel\n",
            "            Booster or LGBMModel instance to be converted.\n",
            "        tree_index : int, optional (default=0)\n",
            "            The index of a target tree to convert.\n",
            "        show_info : list of strings or None, optional (default=None)\n",
            "            What information should be shown in nodes.\n",
            "            Possible values of list items: 'split_gain', 'internal_value', 'internal_count', 'leaf_count'.\n",
            "        precision : int or None, optional (default=None)\n",
            "            Used to restrict the display of floating point values to a certain precision.\n",
            "        **kwargs\n",
            "            Other parameters passed to ``Digraph`` constructor.\n",
            "            Check https://graphviz.readthedocs.io/en/stable/api.html#digraph for the full list of supported parameters.\n",
            "        \n",
            "        Returns\n",
            "        -------\n",
            "        graph : graphviz.Digraph\n",
            "            The digraph representation of specified tree.\n",
            "    \n",
            "    cv(params, train_set, num_boost_round=100, folds=None, nfold=5, stratified=True, shuffle=True, metrics=None, fobj=None, feval=None, init_model=None, feature_name='auto', categorical_feature='auto', early_stopping_rounds=None, fpreproc=None, verbose_eval=None, show_stdv=True, seed=0, callbacks=None)\n",
            "        Perform the cross-validation with given paramaters.\n",
            "        \n",
            "        Parameters\n",
            "        ----------\n",
            "        params : dict\n",
            "            Parameters for Booster.\n",
            "        train_set : Dataset\n",
            "            Data to be trained on.\n",
            "        num_boost_round : int, optional (default=100)\n",
            "            Number of boosting iterations.\n",
            "        folds : generator or iterator of (train_idx, test_idx) tuples, scikit-learn splitter object or None, optional (default=None)\n",
            "            If generator or iterator, it should yield the train and test indices for each fold.\n",
            "            If object, it should be one of the scikit-learn splitter classes\n",
            "            (http://scikit-learn.org/stable/modules/classes.html#splitter-classes)\n",
            "            and have ``split`` method.\n",
            "            This argument has highest priority over other data split arguments.\n",
            "        nfold : int, optional (default=5)\n",
            "            Number of folds in CV.\n",
            "        stratified : bool, optional (default=True)\n",
            "            Whether to perform stratified sampling.\n",
            "        shuffle : bool, optional (default=True)\n",
            "            Whether to shuffle before splitting data.\n",
            "        metrics : string, list of strings or None, optional (default=None)\n",
            "            Evaluation metrics to be monitored while CV.\n",
            "            If not None, the metric in ``params`` will be overridden.\n",
            "        fobj : callable or None, optional (default=None)\n",
            "            Custom objective function.\n",
            "        feval : callable or None, optional (default=None)\n",
            "            Customized evaluation function.\n",
            "            Should accept two parameters: preds, train_data,\n",
            "            and return (eval_name, eval_result, is_higher_better) or list of such tuples.\n",
            "            For multi-class task, the preds is group by class_id first, then group by row_id.\n",
            "            If you want to get i-th row preds in j-th class, the access way is preds[j * num_data + i].\n",
            "            To ignore the default metric corresponding to the used objective,\n",
            "            set ``metrics`` to the string ``\"None\"``.\n",
            "        init_model : string, Booster or None, optional (default=None)\n",
            "            Filename of LightGBM model or Booster instance used for continue training.\n",
            "        feature_name : list of strings or 'auto', optional (default=\"auto\")\n",
            "            Feature names.\n",
            "            If 'auto' and data is pandas DataFrame, data columns names are used.\n",
            "        categorical_feature : list of strings or int, or 'auto', optional (default=\"auto\")\n",
            "            Categorical features.\n",
            "            If list of int, interpreted as indices.\n",
            "            If list of strings, interpreted as feature names (need to specify ``feature_name`` as well).\n",
            "            If 'auto' and data is pandas DataFrame, pandas categorical columns are used.\n",
            "            All values in categorical features should be less than int32 max value (2147483647).\n",
            "            Large values could be memory consuming. Consider using consecutive integers starting from zero.\n",
            "            All negative values in categorical features will be treated as missing values.\n",
            "        early_stopping_rounds : int or None, optional (default=None)\n",
            "            Activates early stopping.\n",
            "            CV score needs to improve at least every ``early_stopping_rounds`` round(s)\n",
            "            to continue.\n",
            "            Requires at least one metric. If there's more than one, will check all of them.\n",
            "            Last entry in evaluation history is the one from the best iteration.\n",
            "        fpreproc : callable or None, optional (default=None)\n",
            "            Preprocessing function that takes (dtrain, dtest, params)\n",
            "            and returns transformed versions of those.\n",
            "        verbose_eval : bool, int, or None, optional (default=None)\n",
            "            Whether to display the progress.\n",
            "            If None, progress will be displayed when np.ndarray is returned.\n",
            "            If True, progress will be displayed at every boosting stage.\n",
            "            If int, progress will be displayed at every given ``verbose_eval`` boosting stage.\n",
            "        show_stdv : bool, optional (default=True)\n",
            "            Whether to display the standard deviation in progress.\n",
            "            Results are not affected by this parameter, and always contain std.\n",
            "        seed : int, optional (default=0)\n",
            "            Seed used to generate the folds (passed to numpy.random.seed).\n",
            "        callbacks : list of callables or None, optional (default=None)\n",
            "            List of callback functions that are applied at each iteration.\n",
            "            See Callbacks in Python API for more information.\n",
            "        \n",
            "        Returns\n",
            "        -------\n",
            "        eval_hist : dict\n",
            "            Evaluation history.\n",
            "            The dictionary has the following format:\n",
            "            {'metric1-mean': [values], 'metric1-stdv': [values],\n",
            "            'metric2-mean': [values], 'metric2-stdv': [values],\n",
            "            ...}.\n",
            "    \n",
            "    early_stopping(stopping_rounds, verbose=True)\n",
            "        Create a callback that activates early stopping.\n",
            "        \n",
            "        Note\n",
            "        ----\n",
            "        Activates early stopping.\n",
            "        The model will train until the validation score stops improving.\n",
            "        Validation score needs to improve at least every ``early_stopping_rounds`` round(s)\n",
            "        to continue training.\n",
            "        Requires at least one validation data and one metric.\n",
            "        If there's more than one, will check all of them. But the training data is ignored anyway.\n",
            "        \n",
            "        Parameters\n",
            "        ----------\n",
            "        stopping_rounds : int\n",
            "           The possible number of rounds without the trend occurrence.\n",
            "        verbose : bool, optional (default=True)\n",
            "            Whether to print message with early stopping information.\n",
            "        \n",
            "        Returns\n",
            "        -------\n",
            "        callback : function\n",
            "            The callback that activates early stopping.\n",
            "    \n",
            "    plot_importance(booster, ax=None, height=0.2, xlim=None, ylim=None, title='Feature importance', xlabel='Feature importance', ylabel='Features', importance_type='split', max_num_features=None, ignore_zero=True, figsize=None, grid=True, precision=None, **kwargs)\n",
            "        Plot model's feature importances.\n",
            "        \n",
            "        Parameters\n",
            "        ----------\n",
            "        booster : Booster or LGBMModel\n",
            "            Booster or LGBMModel instance which feature importance should be plotted.\n",
            "        ax : matplotlib.axes.Axes or None, optional (default=None)\n",
            "            Target axes instance.\n",
            "            If None, new figure and axes will be created.\n",
            "        height : float, optional (default=0.2)\n",
            "            Bar height, passed to ``ax.barh()``.\n",
            "        xlim : tuple of 2 elements or None, optional (default=None)\n",
            "            Tuple passed to ``ax.xlim()``.\n",
            "        ylim : tuple of 2 elements or None, optional (default=None)\n",
            "            Tuple passed to ``ax.ylim()``.\n",
            "        title : string or None, optional (default=\"Feature importance\")\n",
            "            Axes title.\n",
            "            If None, title is disabled.\n",
            "        xlabel : string or None, optional (default=\"Feature importance\")\n",
            "            X-axis title label.\n",
            "            If None, title is disabled.\n",
            "        ylabel : string or None, optional (default=\"Features\")\n",
            "            Y-axis title label.\n",
            "            If None, title is disabled.\n",
            "        importance_type : string, optional (default=\"split\")\n",
            "            How the importance is calculated.\n",
            "            If \"split\", result contains numbers of times the feature is used in a model.\n",
            "            If \"gain\", result contains total gains of splits which use the feature.\n",
            "        max_num_features : int or None, optional (default=None)\n",
            "            Max number of top features displayed on plot.\n",
            "            If None or <1, all features will be displayed.\n",
            "        ignore_zero : bool, optional (default=True)\n",
            "            Whether to ignore features with zero importance.\n",
            "        figsize : tuple of 2 elements or None, optional (default=None)\n",
            "            Figure size.\n",
            "        grid : bool, optional (default=True)\n",
            "            Whether to add a grid for axes.\n",
            "        precision : int or None, optional (default=None)\n",
            "            Used to restrict the display of floating point values to a certain precision.\n",
            "        **kwargs\n",
            "            Other parameters passed to ``ax.barh()``.\n",
            "        \n",
            "        Returns\n",
            "        -------\n",
            "        ax : matplotlib.axes.Axes\n",
            "            The plot with model's feature importances.\n",
            "    \n",
            "    plot_metric(booster, metric=None, dataset_names=None, ax=None, xlim=None, ylim=None, title='Metric during training', xlabel='Iterations', ylabel='auto', figsize=None, grid=True)\n",
            "        Plot one metric during training.\n",
            "        \n",
            "        Parameters\n",
            "        ----------\n",
            "        booster : dict or LGBMModel\n",
            "            Dictionary returned from ``lightgbm.train()`` or LGBMModel instance.\n",
            "        metric : string or None, optional (default=None)\n",
            "            The metric name to plot.\n",
            "            Only one metric supported because different metrics have various scales.\n",
            "            If None, first metric picked from dictionary (according to hashcode).\n",
            "        dataset_names : list of strings or None, optional (default=None)\n",
            "            List of the dataset names which are used to calculate metric to plot.\n",
            "            If None, all datasets are used.\n",
            "        ax : matplotlib.axes.Axes or None, optional (default=None)\n",
            "            Target axes instance.\n",
            "            If None, new figure and axes will be created.\n",
            "        xlim : tuple of 2 elements or None, optional (default=None)\n",
            "            Tuple passed to ``ax.xlim()``.\n",
            "        ylim : tuple of 2 elements or None, optional (default=None)\n",
            "            Tuple passed to ``ax.ylim()``.\n",
            "        title : string or None, optional (default=\"Metric during training\")\n",
            "            Axes title.\n",
            "            If None, title is disabled.\n",
            "        xlabel : string or None, optional (default=\"Iterations\")\n",
            "            X-axis title label.\n",
            "            If None, title is disabled.\n",
            "        ylabel : string or None, optional (default=\"auto\")\n",
            "            Y-axis title label.\n",
            "            If 'auto', metric name is used.\n",
            "            If None, title is disabled.\n",
            "        figsize : tuple of 2 elements or None, optional (default=None)\n",
            "            Figure size.\n",
            "        grid : bool, optional (default=True)\n",
            "            Whether to add a grid for axes.\n",
            "        \n",
            "        Returns\n",
            "        -------\n",
            "        ax : matplotlib.axes.Axes\n",
            "            The plot with metric's history over the training.\n",
            "    \n",
            "    plot_tree(booster, ax=None, tree_index=0, figsize=None, old_graph_attr=None, old_node_attr=None, old_edge_attr=None, show_info=None, precision=None, **kwargs)\n",
            "        Plot specified tree.\n",
            "        \n",
            "        Note\n",
            "        ----\n",
            "        It is preferable to use ``create_tree_digraph()`` because of its lossless quality\n",
            "        and returned objects can be also rendered and displayed directly inside a Jupyter notebook.\n",
            "        \n",
            "        Parameters\n",
            "        ----------\n",
            "        booster : Booster or LGBMModel\n",
            "            Booster or LGBMModel instance to be plotted.\n",
            "        ax : matplotlib.axes.Axes or None, optional (default=None)\n",
            "            Target axes instance.\n",
            "            If None, new figure and axes will be created.\n",
            "        tree_index : int, optional (default=0)\n",
            "            The index of a target tree to plot.\n",
            "        figsize : tuple of 2 elements or None, optional (default=None)\n",
            "            Figure size.\n",
            "        show_info : list of strings or None, optional (default=None)\n",
            "            What information should be shown in nodes.\n",
            "            Possible values of list items: 'split_gain', 'internal_value', 'internal_count', 'leaf_count'.\n",
            "        precision : int or None, optional (default=None)\n",
            "            Used to restrict the display of floating point values to a certain precision.\n",
            "        **kwargs\n",
            "            Other parameters passed to ``Digraph`` constructor.\n",
            "            Check https://graphviz.readthedocs.io/en/stable/api.html#digraph for the full list of supported parameters.\n",
            "        \n",
            "        Returns\n",
            "        -------\n",
            "        ax : matplotlib.axes.Axes\n",
            "            The plot with single tree.\n",
            "    \n",
            "    print_evaluation(period=1, show_stdv=True)\n",
            "        Create a callback that prints the evaluation results.\n",
            "        \n",
            "        Parameters\n",
            "        ----------\n",
            "        period : int, optional (default=1)\n",
            "            The period to print the evaluation results.\n",
            "        show_stdv : bool, optional (default=True)\n",
            "            Whether to show stdv (if provided).\n",
            "        \n",
            "        Returns\n",
            "        -------\n",
            "        callback : function\n",
            "            The callback that prints the evaluation results every ``period`` iteration(s).\n",
            "    \n",
            "    record_evaluation(eval_result)\n",
            "        Create a callback that records the evaluation history into ``eval_result``.\n",
            "        \n",
            "        Parameters\n",
            "        ----------\n",
            "        eval_result : dict\n",
            "           A dictionary to store the evaluation results.\n",
            "        \n",
            "        Returns\n",
            "        -------\n",
            "        callback : function\n",
            "            The callback that records the evaluation history into the passed dictionary.\n",
            "    \n",
            "    reset_parameter(**kwargs)\n",
            "        Create a callback that resets the parameter after the first iteration.\n",
            "        \n",
            "        Note\n",
            "        ----\n",
            "        The initial parameter will still take in-effect on first iteration.\n",
            "        \n",
            "        Parameters\n",
            "        ----------\n",
            "        **kwargs : value should be list or function\n",
            "            List of parameters for each boosting round\n",
            "            or a customized function that calculates the parameter in terms of\n",
            "            current number of round (e.g. yields learning rate decay).\n",
            "            If list lst, parameter = lst[current_round].\n",
            "            If function func, parameter = func(current_round).\n",
            "        \n",
            "        Returns\n",
            "        -------\n",
            "        callback : function\n",
            "            The callback that resets the parameter after the first iteration.\n",
            "    \n",
            "    train(params, train_set, num_boost_round=100, valid_sets=None, valid_names=None, fobj=None, feval=None, init_model=None, feature_name='auto', categorical_feature='auto', early_stopping_rounds=None, evals_result=None, verbose_eval=True, learning_rates=None, keep_training_booster=False, callbacks=None)\n",
            "        Perform the training with given parameters.\n",
            "        \n",
            "        Parameters\n",
            "        ----------\n",
            "        params : dict\n",
            "            Parameters for training.\n",
            "        train_set : Dataset\n",
            "            Data to be trained on.\n",
            "        num_boost_round : int, optional (default=100)\n",
            "            Number of boosting iterations.\n",
            "        valid_sets : list of Datasets or None, optional (default=None)\n",
            "            List of data to be evaluated on during training.\n",
            "        valid_names : list of strings or None, optional (default=None)\n",
            "            Names of ``valid_sets``.\n",
            "        fobj : callable or None, optional (default=None)\n",
            "            Customized objective function.\n",
            "        feval : callable or None, optional (default=None)\n",
            "            Customized evaluation function.\n",
            "            Should accept two parameters: preds, train_data,\n",
            "            and return (eval_name, eval_result, is_higher_better) or list of such tuples.\n",
            "            For multi-class task, the preds is group by class_id first, then group by row_id.\n",
            "            If you want to get i-th row preds in j-th class, the access way is preds[j * num_data + i].\n",
            "            To ignore the default metric corresponding to the used objective,\n",
            "            set the ``metric`` parameter to the string ``\"None\"`` in ``params``.\n",
            "        init_model : string, Booster or None, optional (default=None)\n",
            "            Filename of LightGBM model or Booster instance used for continue training.\n",
            "        feature_name : list of strings or 'auto', optional (default=\"auto\")\n",
            "            Feature names.\n",
            "            If 'auto' and data is pandas DataFrame, data columns names are used.\n",
            "        categorical_feature : list of strings or int, or 'auto', optional (default=\"auto\")\n",
            "            Categorical features.\n",
            "            If list of int, interpreted as indices.\n",
            "            If list of strings, interpreted as feature names (need to specify ``feature_name`` as well).\n",
            "            If 'auto' and data is pandas DataFrame, pandas categorical columns are used.\n",
            "            All values in categorical features should be less than int32 max value (2147483647).\n",
            "            Large values could be memory consuming. Consider using consecutive integers starting from zero.\n",
            "            All negative values in categorical features will be treated as missing values.\n",
            "        early_stopping_rounds : int or None, optional (default=None)\n",
            "            Activates early stopping. The model will train until the validation score stops improving.\n",
            "            Validation score needs to improve at least every ``early_stopping_rounds`` round(s)\n",
            "            to continue training.\n",
            "            Requires at least one validation data and one metric.\n",
            "            If there's more than one, will check all of them. But the training data is ignored anyway.\n",
            "            The index of iteration that has the best performance will be saved in the ``best_iteration`` field\n",
            "            if early stopping logic is enabled by setting ``early_stopping_rounds``.\n",
            "        evals_result: dict or None, optional (default=None)\n",
            "            This dictionary used to store all evaluation results of all the items in ``valid_sets``.\n",
            "        \n",
            "            Example\n",
            "            -------\n",
            "            With a ``valid_sets`` = [valid_set, train_set],\n",
            "            ``valid_names`` = ['eval', 'train']\n",
            "            and a ``params`` = {'metric': 'logloss'}\n",
            "            returns {'train': {'logloss': ['0.48253', '0.35953', ...]},\n",
            "            'eval': {'logloss': ['0.480385', '0.357756', ...]}}.\n",
            "        \n",
            "        verbose_eval : bool or int, optional (default=True)\n",
            "            Requires at least one validation data.\n",
            "            If True, the eval metric on the valid set is printed at each boosting stage.\n",
            "            If int, the eval metric on the valid set is printed at every ``verbose_eval`` boosting stage.\n",
            "            The last boosting stage or the boosting stage found by using ``early_stopping_rounds`` is also printed.\n",
            "        \n",
            "            Example\n",
            "            -------\n",
            "            With ``verbose_eval`` = 4 and at least one item in ``valid_sets``,\n",
            "            an evaluation metric is printed every 4 (instead of 1) boosting stages.\n",
            "        \n",
            "        learning_rates : list, callable or None, optional (default=None)\n",
            "            List of learning rates for each boosting round\n",
            "            or a customized function that calculates ``learning_rate``\n",
            "            in terms of current number of round (e.g. yields learning rate decay).\n",
            "        keep_training_booster : bool, optional (default=False)\n",
            "            Whether the returned Booster will be used to keep training.\n",
            "            If False, the returned value will be converted into _InnerPredictor before returning.\n",
            "            You can still use _InnerPredictor as ``init_model`` for future continue training.\n",
            "        callbacks : list of callables or None, optional (default=None)\n",
            "            List of callback functions that are applied at each iteration.\n",
            "            See Callbacks in Python API for more information.\n",
            "        \n",
            "        Returns\n",
            "        -------\n",
            "        booster : Booster\n",
            "            The trained Booster model.\n",
            "\n",
            "DATA\n",
            "    __all__ = ['Dataset', 'Booster', 'train', 'cv', 'LGBMModel', 'LGBMRegr...\n",
            "    __warningregistry__ = {'version': 2158, (\"unclosed file <_io.TextIOWra...\n",
            "\n",
            "VERSION\n",
            "    2.2.3\n",
            "\n",
            "FILE\n",
            "    /usr/local/lib/python3.6/dist-packages/lightgbm/__init__.py\n",
            "\n",
            "\n"
          ],
          "name": "stdout"
        }
      ]
    },
    {
      "cell_type": "code",
      "metadata": {
        "id": "rcp_lRqs_N3-"
      },
      "source": [
        "y = train.target\r\n",
        "\r\n",
        "X = train.drop('target', axis=1)"
      ],
      "execution_count": 444,
      "outputs": []
    },
    {
      "cell_type": "code",
      "metadata": {
        "id": "7dt4_dAoZ4Ki"
      },
      "source": [
        "XN = (X - np.min(X)) / (np.max(X) - np.min(X))"
      ],
      "execution_count": 445,
      "outputs": []
    },
    {
      "cell_type": "code",
      "metadata": {
        "colab": {
          "base_uri": "https://localhost:8080/",
          "height": 206
        },
        "id": "EKsCHJ5laU9S",
        "outputId": "a793562e-5684-4f17-fc03-8ca16d0522f6"
      },
      "source": [
        "XN.head()"
      ],
      "execution_count": 446,
      "outputs": [
        {
          "output_type": "execute_result",
          "data": {
            "text/html": [
              "<div>\n",
              "<style scoped>\n",
              "    .dataframe tbody tr th:only-of-type {\n",
              "        vertical-align: middle;\n",
              "    }\n",
              "\n",
              "    .dataframe tbody tr th {\n",
              "        vertical-align: top;\n",
              "    }\n",
              "\n",
              "    .dataframe thead th {\n",
              "        text-align: right;\n",
              "    }\n",
              "</style>\n",
              "<table border=\"1\" class=\"dataframe\">\n",
              "  <thead>\n",
              "    <tr style=\"text-align: right;\">\n",
              "      <th></th>\n",
              "      <th>relevent_experience</th>\n",
              "      <th>enrolled_university</th>\n",
              "      <th>education_level</th>\n",
              "      <th>major_discipline</th>\n",
              "      <th>experience</th>\n",
              "      <th>company_size</th>\n",
              "      <th>training_hours</th>\n",
              "    </tr>\n",
              "  </thead>\n",
              "  <tbody>\n",
              "    <tr>\n",
              "      <th>0</th>\n",
              "      <td>1.0</td>\n",
              "      <td>1.0</td>\n",
              "      <td>0.50</td>\n",
              "      <td>0.0</td>\n",
              "      <td>1.000000</td>\n",
              "      <td>0.285714</td>\n",
              "      <td>0.104478</td>\n",
              "    </tr>\n",
              "    <tr>\n",
              "      <th>1</th>\n",
              "      <td>0.0</td>\n",
              "      <td>1.0</td>\n",
              "      <td>0.50</td>\n",
              "      <td>0.0</td>\n",
              "      <td>0.736842</td>\n",
              "      <td>0.285714</td>\n",
              "      <td>0.137313</td>\n",
              "    </tr>\n",
              "    <tr>\n",
              "      <th>2</th>\n",
              "      <td>0.0</td>\n",
              "      <td>0.0</td>\n",
              "      <td>0.50</td>\n",
              "      <td>0.0</td>\n",
              "      <td>0.210526</td>\n",
              "      <td>0.285714</td>\n",
              "      <td>0.244776</td>\n",
              "    </tr>\n",
              "    <tr>\n",
              "      <th>3</th>\n",
              "      <td>0.0</td>\n",
              "      <td>1.0</td>\n",
              "      <td>0.50</td>\n",
              "      <td>0.2</td>\n",
              "      <td>0.000000</td>\n",
              "      <td>0.285714</td>\n",
              "      <td>0.152239</td>\n",
              "    </tr>\n",
              "    <tr>\n",
              "      <th>4</th>\n",
              "      <td>1.0</td>\n",
              "      <td>1.0</td>\n",
              "      <td>0.75</td>\n",
              "      <td>0.0</td>\n",
              "      <td>1.000000</td>\n",
              "      <td>0.285714</td>\n",
              "      <td>0.020896</td>\n",
              "    </tr>\n",
              "  </tbody>\n",
              "</table>\n",
              "</div>"
            ],
            "text/plain": [
              "   relevent_experience  enrolled_university  ...  company_size  training_hours\n",
              "0                  1.0                  1.0  ...      0.285714        0.104478\n",
              "1                  0.0                  1.0  ...      0.285714        0.137313\n",
              "2                  0.0                  0.0  ...      0.285714        0.244776\n",
              "3                  0.0                  1.0  ...      0.285714        0.152239\n",
              "4                  1.0                  1.0  ...      0.285714        0.020896\n",
              "\n",
              "[5 rows x 7 columns]"
            ]
          },
          "metadata": {
            "tags": []
          },
          "execution_count": 446
        }
      ]
    },
    {
      "cell_type": "code",
      "metadata": {
        "id": "VQpJSJE3ASjF"
      },
      "source": [
        "from sklearn.model_selection import train_test_split\r\n",
        "\r\n",
        "X_train, X_test, y_train, y_test = train_test_split(XN, y, test_size=0.4, random_state=42)"
      ],
      "execution_count": 447,
      "outputs": []
    },
    {
      "cell_type": "code",
      "metadata": {
        "id": "6IwykJGqDO6D"
      },
      "source": [
        "from sklearn.metrics import classification_report\r\n",
        "\r\n",
        "print(classification_report(y_test, np.round(pred)))"
      ],
      "execution_count": null,
      "outputs": []
    },
    {
      "cell_type": "code",
      "metadata": {
        "colab": {
          "base_uri": "https://localhost:8080/"
        },
        "id": "0-SA6mriQkTK",
        "outputId": "6d6cd079-29c6-49fe-bec1-3a79d9542951"
      },
      "source": [
        "X_train.shape"
      ],
      "execution_count": 452,
      "outputs": [
        {
          "output_type": "execute_result",
          "data": {
            "text/plain": [
              "(11328, 7)"
            ]
          },
          "metadata": {
            "tags": []
          },
          "execution_count": 452
        }
      ]
    },
    {
      "cell_type": "code",
      "metadata": {
        "id": "L6oTyuij44DL"
      },
      "source": [
        "from sklearn.ensemble import GradientBoostingClassifier\r\n",
        "\r\n",
        "\r\n",
        "gbc = GradientBoostingClassifier(learning_rate=0.0017,subsample=1.0, criterion='friedman_mse', min_samples_split=3, min_samples_leaf=3,\r\n",
        "                           max_depth=7, loss='deviance', warm_start=True, validation_fraction=0.2, n_iter_no_change=15, max_features=4, random_state=0)\r\n"
      ],
      "execution_count": 453,
      "outputs": []
    },
    {
      "cell_type": "code",
      "metadata": {
        "colab": {
          "base_uri": "https://localhost:8080/"
        },
        "id": "HsYnLw17Q7MT",
        "outputId": "c700b8a4-7c0f-4e4a-b99e-1a93665f87e1"
      },
      "source": [
        "gbc.fit(X_train, y_train)"
      ],
      "execution_count": 454,
      "outputs": [
        {
          "output_type": "execute_result",
          "data": {
            "text/plain": [
              "GradientBoostingClassifier(ccp_alpha=0.0, criterion='friedman_mse', init=None,\n",
              "                           learning_rate=0.0017, loss='deviance', max_depth=7,\n",
              "                           max_features=4, max_leaf_nodes=None,\n",
              "                           min_impurity_decrease=0.0, min_impurity_split=None,\n",
              "                           min_samples_leaf=3, min_samples_split=3,\n",
              "                           min_weight_fraction_leaf=0.0, n_estimators=100,\n",
              "                           n_iter_no_change=15, presort='deprecated',\n",
              "                           random_state=0, subsample=1.0, tol=0.0001,\n",
              "                           validation_fraction=0.2, verbose=0, warm_start=True)"
            ]
          },
          "metadata": {
            "tags": []
          },
          "execution_count": 454
        }
      ]
    },
    {
      "cell_type": "code",
      "metadata": {
        "id": "gJRAR6vCQ7PE"
      },
      "source": [
        "from sklearn.metrics import accuracy_score\r\n",
        "\r\n",
        "lr = np.linspace(0.0,0.1, 20)\r\n",
        "test = []\r\n",
        "train= []\r\n",
        "\r\n",
        "for i in lr:\r\n",
        "\r\n",
        "  prub = GradientBoostingClassifier(learning_rate=0.0017,subsample=0.3, criterion='friedman_mse', min_samples_split=6, min_samples_leaf=8,\r\n",
        "                           max_depth=9, loss='deviance', warm_start=False, validation_fraction=0.2, n_iter_no_change=15,\r\n",
        "                            max_features=7, random_state=0, n_estimators=500)\r\n",
        "  \r\n",
        "  prub.fit(X_train, y_train)\r\n",
        "\r\n",
        "  predd = prub.predict(X_test)\r\n",
        "  predd2 = prub.predict(X_train)\r\n",
        "\r\n",
        "  test.append(accuracy_score(y_test, predd))\r\n",
        "  train.append(accuracy_score(y_train, predd2))"
      ],
      "execution_count": 455,
      "outputs": []
    },
    {
      "cell_type": "code",
      "metadata": {
        "colab": {
          "base_uri": "https://localhost:8080/",
          "height": 324
        },
        "id": "wGXFaS63Q7R7",
        "outputId": "546b5b9c-651f-4d47-a211-6084cdf984a6"
      },
      "source": [
        "plt.figure(figsize=(9,5))\r\n",
        "\r\n",
        "sns.lineplot(x=lr, y=test, label='Test')\r\n",
        "sns.lineplot(x=lr, y=train, label='Train')\r\n",
        "plt.yticks(np.linspace(0.68,0.8,10))\r\n",
        "plt.show()"
      ],
      "execution_count": 456,
      "outputs": [
        {
          "output_type": "display_data",
          "data": {
            "image/png": "[encoded data removed]",
            "text/plain": [
              "<Figure size 648x360 with 1 Axes>"
            ]
          },
          "metadata": {
            "tags": []
          }
        }
      ]
    },
    {
      "cell_type": "code",
      "metadata": {
        "id": "w8UYntcNZtKj"
      },
      "source": [
        "X_train.head()"
      ],
      "execution_count": null,
      "outputs": []
    },
    {
      "cell_type": "code",
      "metadata": {
        "id": "G0Pv9FnFZtN8"
      },
      "source": [
        "from xgboost import XGBClassifier\r\n",
        "\r\n",
        "lr = np.linspace(0.0,0.5, 100)\r\n",
        "test = []\r\n",
        "train= []\r\n",
        "\r\n",
        "for i in lr:\r\n",
        "\r\n",
        "  prub = XGBClassifier(max_depth=25, learning_rate=i, n_estimators=27, booster='gbtree', gamma=3, subsample=0.5\r\n",
        "                       , colsample_bytree=0.6, random_state=2, min_child_weight=22)\r\n",
        "  \r\n",
        "  prub.fit(X_train, y_train)\r\n",
        "\r\n",
        "  predd = prub.predict(X_test)\r\n",
        "  predd2 = prub.predict(X_train)\r\n",
        "\r\n",
        "  test.append(accuracy_score(y_test, predd))\r\n",
        "  train.append(accuracy_score(y_train, predd2))"
      ],
      "execution_count": 459,
      "outputs": []
    },
    {
      "cell_type": "code",
      "metadata": {
        "colab": {
          "base_uri": "https://localhost:8080/",
          "height": 324
        },
        "id": "qYPmq7ScgV4v",
        "outputId": "57c5a5d1-dd74-4d54-993f-93b5d9d15635"
      },
      "source": [
        "plt.figure(figsize=(9,5))\r\n",
        "\r\n",
        "sns.lineplot(x=lr, y=test, label='Test')\r\n",
        "sns.lineplot(x=lr, y=train, label='Train')\r\n",
        "plt.yticks(np.linspace(0.68,0.8,10))\r\n",
        "plt.show()"
      ],
      "execution_count": 460,
      "outputs": [
        {
          "output_type": "display_data",
          "data": {
            "image/png": "[encoded data removed]",
            "text/plain": [
              "<Figure size 648x360 with 1 Axes>"
            ]
          },
          "metadata": {
            "tags": []
          }
        }
      ]
    },
    {
      "cell_type": "code",
      "metadata": {
        "id": "zjDr9cK9iyf-"
      },
      "source": [
        "np.max(test)"
      ],
      "execution_count": null,
      "outputs": []
    },
    {
      "cell_type": "code",
      "metadata": {
        "id": "7Ec_L0Q1gV7X"
      },
      "source": [
        ""
      ],
      "execution_count": null,
      "outputs": []
    }
  ]
}